{
 "cells": [
  {
   "cell_type": "markdown",
   "metadata": {},
   "source": [
    "# Исследование надёжности заёмщиков\n",
    "\n",
    "Заказчик — кредитный отдел банка. Нужно разобраться, влияет ли семейное положение и количество детей клиента на факт погашения кредита в срок. Входные данные от банка — статистика о платёжеспособности клиентов.\n",
    "\n",
    "Результаты исследования будут учтены при построении модели **кредитного скоринга** — специальной системы, которая оценивает способность потенциального заёмщика вернуть кредит банку."
   ]
  },
  {
   "cell_type": "markdown",
   "metadata": {},
   "source": [
    "## Шаг 1. Откройте файл с данными и изучите общую информацию"
   ]
  },
  {
   "cell_type": "code",
   "execution_count": 2,
   "metadata": {},
   "outputs": [
    {
     "name": "stdout",
     "output_type": "stream",
     "text": [
      "<class 'pandas.core.frame.DataFrame'>\n",
      "RangeIndex: 21525 entries, 0 to 21524\n",
      "Data columns (total 12 columns):\n",
      "children            21525 non-null int64\n",
      "days_employed       19351 non-null float64\n",
      "dob_years           21525 non-null int64\n",
      "education           21525 non-null object\n",
      "education_id        21525 non-null int64\n",
      "family_status       21525 non-null object\n",
      "family_status_id    21525 non-null int64\n",
      "gender              21525 non-null object\n",
      "income_type         21525 non-null object\n",
      "debt                21525 non-null int64\n",
      "total_income        19351 non-null float64\n",
      "purpose             21525 non-null object\n",
      "dtypes: float64(2), int64(5), object(5)\n",
      "memory usage: 2.0+ MB\n"
     ]
    }
   ],
   "source": [
    "import pandas as pd\n",
    "df=pd.read_csv('/datasets/data.csv')\n",
    "df.info()"
   ]
  },
  {
   "cell_type": "markdown",
   "metadata": {},
   "source": [
    "**Вывод**"
   ]
  },
  {
   "cell_type": "markdown",
   "metadata": {},
   "source": [
    "есть пропуски в столбцах: days_employed, total_incomе, так же не правильные типы данных в столбцах days_employed и total_income"
   ]
  },
  {
   "cell_type": "markdown",
   "metadata": {},
   "source": [
    "## Шаг 2. Предобработка данных"
   ]
  },
  {
   "cell_type": "markdown",
   "metadata": {},
   "source": [
    "### Обработка пропусков"
   ]
  },
  {
   "cell_type": "code",
   "execution_count": 3,
   "metadata": {
    "scrolled": true
   },
   "outputs": [],
   "source": [
    "days_employed_mean=df['days_employed'].mean()\n",
    "df['days_employed'] = df['days_employed'].abs()\n",
    "\n",
    "medians=(df.groupby(['income_type','education']).agg({'total_income':'median'}).rename(columns={'total_income':'med_total_income'}))\n",
    "df=df.merge(medians, on = ['income_type','education'])\n",
    "df[['income_type','education','total_income','med_total_income']][df['total_income'].isna()]\n",
    "df.loc[df['total_income'].isna(),'total_income']=df.loc[df['total_income'].isna(),'med_total_income']\n",
    "\n",
    "df['days_employed'] = df['days_employed'].fillna(days_employed_mean)\n"
   ]
  },
  {
   "cell_type": "markdown",
   "metadata": {},
   "source": [
    "**Вывод**"
   ]
  },
  {
   "cell_type": "markdown",
   "metadata": {},
   "source": [
    "в столбцах days_employed и total_income пропущенные значения, причём они находятся в одних и тех же строках.\n",
    "так же в этих столбцах есть отрицательные значения. для заполнения пропусков необходимо вписать в пустые ячейки среднее значения по столбцам и перевести отрицательные числа в положительные. затем пишем функцию которая проверяет числа и если оно отрицательное то функция ее умножает на -1 и возвращает число. \n"
   ]
  },
  {
   "cell_type": "markdown",
   "metadata": {},
   "source": [
    "### Замена типа данных"
   ]
  },
  {
   "cell_type": "code",
   "execution_count": 3,
   "metadata": {},
   "outputs": [
    {
     "name": "stdout",
     "output_type": "stream",
     "text": [
      "<class 'pandas.core.frame.DataFrame'>\n",
      "Int64Index: 21525 entries, 0 to 21524\n",
      "Data columns (total 13 columns):\n",
      "children            21525 non-null int64\n",
      "days_employed       21525 non-null int64\n",
      "dob_years           21525 non-null int64\n",
      "education           21525 non-null object\n",
      "education_id        21525 non-null int64\n",
      "family_status       21525 non-null object\n",
      "family_status_id    21525 non-null int64\n",
      "gender              21525 non-null object\n",
      "income_type         21525 non-null object\n",
      "debt                21525 non-null int64\n",
      "total_income        21525 non-null int64\n",
      "purpose             21525 non-null object\n",
      "med_total_income    21525 non-null float64\n",
      "dtypes: float64(1), int64(7), object(5)\n",
      "memory usage: 2.3+ MB\n"
     ]
    }
   ],
   "source": [
    "df['days_employed'] = df['days_employed'].astype('int')\n",
    "df['total_income'] = df['total_income'].astype('int')\n",
    "df.info()"
   ]
  },
  {
   "cell_type": "markdown",
   "metadata": {},
   "source": [
    "**Вывод**"
   ]
  },
  {
   "cell_type": "markdown",
   "metadata": {},
   "source": [
    "перевели тип данных столбцов с помощью метода astype из вещественного в целочисленное"
   ]
  },
  {
   "cell_type": "markdown",
   "metadata": {},
   "source": [
    "### Обработка дубликатов"
   ]
  },
  {
   "cell_type": "code",
   "execution_count": 4,
   "metadata": {},
   "outputs": [
    {
     "data": {
      "text/plain": [
       "Counter({1: 4865, 0: 14225, 2: 2055, 4: 41, 3: 330, 5: 9})"
      ]
     },
     "execution_count": 4,
     "metadata": {},
     "output_type": "execute_result"
    }
   ],
   "source": [
    "df.drop_duplicates()\n",
    "from collections import Counter\n",
    "Counter(df['education'])\n",
    "df['education'] = df['education'].str.lower()\n",
    "Counter(df['education'])\n",
    "Counter(df['family_status'])\n",
    "Counter(df['income_type'])\n",
    "Counter(df['purpose'])\n",
    "Counter(df['children'])\n",
    "df['children'] = df['children'].replace(-1, 1)\n",
    "children_median = df.loc[df.loc[:, 'children'] != 20]['children'].median()\n",
    "df['children'] = df['children'].replace(20, children_median)\n",
    "Counter(df['children'])"
   ]
  },
  {
   "cell_type": "markdown",
   "metadata": {},
   "source": [
    "**Вывод**"
   ]
  },
  {
   "cell_type": "markdown",
   "metadata": {},
   "source": [
    "проверяем каждый столбец на ошибки, с помощью контейнера. находим ошибки в столбце с образованием, так как в нем есть значения с разным регистром, с помощью str.lower() приводим к одному значению и тем самым уюираем дубликаты. Далее в столбце children находим что написаны не верные количества детей это -1 и 20. скорее всего ошибка произошла из-за невнимательного ввода данных. Данные ошибки исправляем при помощи метода replace и вместо 20 ставим медианное значение. находим медиану при помощи функции loc и далее с помощью replace меняем на медианное значение. "
   ]
  },
  {
   "cell_type": "markdown",
   "metadata": {},
   "source": [
    "### Лемматизация"
   ]
  },
  {
   "cell_type": "code",
   "execution_count": 5,
   "metadata": {},
   "outputs": [
    {
     "data": {
      "text/plain": [
       "Counter({'покупка': 5912,\n",
       "         ' ': 33677,\n",
       "         'жилье': 4473,\n",
       "         '|': 21524,\n",
       "         'строительство': 1881,\n",
       "         'недвижимость': 6367,\n",
       "         'сыграть': 774,\n",
       "         'свадьба': 2348,\n",
       "         'собственный': 635,\n",
       "         'образование': 4022,\n",
       "         'автомобиль': 4315,\n",
       "         'на': 2233,\n",
       "         'подержать': 836,\n",
       "         'свой': 2235,\n",
       "         'операция': 2610,\n",
       "         'с': 2924,\n",
       "         'профильный': 436,\n",
       "         'сделка': 944,\n",
       "         'со': 630,\n",
       "         'коммерческий': 1315,\n",
       "         'приобретение': 462,\n",
       "         'высокий': 1375,\n",
       "         'получение': 1316,\n",
       "         'подержанный': 132,\n",
       "         'жилой': 1233,\n",
       "         'для': 1294,\n",
       "         'сдача': 653,\n",
       "         'заниматься': 908,\n",
       "         'проведение': 777,\n",
       "         'дополнительный': 909,\n",
       "         'ремонт': 612,\n",
       "         'семья': 641,\n",
       "         '\\n': 1})"
      ]
     },
     "execution_count": 5,
     "metadata": {},
     "output_type": "execute_result"
    }
   ],
   "source": [
    "from pymystem3 import Mystem\n",
    "m = Mystem()\n",
    "text='|'.join(df['purpose'])\n",
    "lemmas = m.lemmatize(text)\n",
    "from collections import Counter\n",
    "Counter(lemmas)\n"
   ]
  },
  {
   "cell_type": "markdown",
   "metadata": {},
   "source": [
    "**Вывод**"
   ]
  },
  {
   "cell_type": "markdown",
   "metadata": {},
   "source": [
    "разбили стоблец на леммы пр помощи join. он позваляет строки столбца объединять в одну строчку присоеденяя их к друг другу через заданный символ. в данном случае это |. разбив на леммы данны столбца м ы можем увидеть что есчть много одинаковых целей, но написанны они по разному. в категоризации необходимо сделать так, чтобы данные цель с разным написанием но одинаковым по смыслу записывались в одну категорию. "
   ]
  },
  {
   "cell_type": "markdown",
   "metadata": {},
   "source": [
    "### Категоризация данных"
   ]
  },
  {
   "cell_type": "code",
   "execution_count": 6,
   "metadata": {},
   "outputs": [
    {
     "name": "stdout",
     "output_type": "stream",
     "text": [
      "недвижимость    10840\n",
      "автомобиль       4315\n",
      "образование      4022\n",
      "свадьба          2348\n",
      "Name: purpose_group, dtype: int64\n"
     ]
    }
   ],
   "source": [
    "\n",
    "def cat(row):\n",
    "    purpose = row['purpose']\n",
    "    lemmas = m.lemmatize(purpose)\n",
    "    \n",
    "    if 'автомобиль' in lemmas: return 'автомобиль'\n",
    "    if 'свадьба' in lemmas: return 'свадьба'\n",
    "    if 'образование' in lemmas: return 'образование'\n",
    "    if 'недвижимость' in lemmas: return 'недвижимость'\n",
    "    if 'жилье' in lemmas: return 'недвижимость'\n",
    "    if 'жилой' in lemmas: return 'недвижимость'\n",
    "    return 'прочие'\n",
    "df['purpose_group'] = df.apply(cat, axis = 1)\n",
    "print(df['purpose_group'].value_counts())"
   ]
  },
  {
   "cell_type": "markdown",
   "metadata": {},
   "source": [
    "**Вывод**"
   ]
  },
  {
   "cell_type": "markdown",
   "metadata": {},
   "source": [
    "далее нам необходимо проверить слова которые мы выбрали на их наличие в в столбце. создаем функцию которая разбив столбец на слова начинает проверять наличие заданных слов в этом столбце. когда данное условие выполнено то сумму данных слов записываем в новый столбец при помощи apply. проведя данную категоризацию можем увидеть что почти 50% запшенных кредитов это кредиты на недвижимость на втором месте автомобиль и на третьем это образование. "
   ]
  },
  {
   "cell_type": "markdown",
   "metadata": {},
   "source": [
    "## Шаг 3. Ответьте на вопросы"
   ]
  },
  {
   "cell_type": "markdown",
   "metadata": {},
   "source": [
    "- Есть ли зависимость между наличием детей и возвратом кредита в срок?"
   ]
  },
  {
   "cell_type": "code",
   "execution_count": 7,
   "metadata": {},
   "outputs": [
    {
     "data": {
      "text/html": [
       "<div>\n",
       "<style scoped>\n",
       "    .dataframe tbody tr th:only-of-type {\n",
       "        vertical-align: middle;\n",
       "    }\n",
       "\n",
       "    .dataframe tbody tr th {\n",
       "        vertical-align: top;\n",
       "    }\n",
       "\n",
       "    .dataframe thead th {\n",
       "        text-align: right;\n",
       "    }\n",
       "</style>\n",
       "<table border=\"1\" class=\"dataframe\">\n",
       "  <thead>\n",
       "    <tr style=\"text-align: right;\">\n",
       "      <th></th>\n",
       "      <th>count_debt</th>\n",
       "      <th>sum_debt</th>\n",
       "      <th>result %</th>\n",
       "    </tr>\n",
       "    <tr>\n",
       "      <th>children</th>\n",
       "      <th></th>\n",
       "      <th></th>\n",
       "      <th></th>\n",
       "    </tr>\n",
       "  </thead>\n",
       "  <tbody>\n",
       "    <tr>\n",
       "      <td>4</td>\n",
       "      <td>41</td>\n",
       "      <td>4</td>\n",
       "      <td>9.756098</td>\n",
       "    </tr>\n",
       "    <tr>\n",
       "      <td>2</td>\n",
       "      <td>2055</td>\n",
       "      <td>194</td>\n",
       "      <td>9.440389</td>\n",
       "    </tr>\n",
       "    <tr>\n",
       "      <td>1</td>\n",
       "      <td>4865</td>\n",
       "      <td>445</td>\n",
       "      <td>9.146968</td>\n",
       "    </tr>\n",
       "    <tr>\n",
       "      <td>3</td>\n",
       "      <td>330</td>\n",
       "      <td>27</td>\n",
       "      <td>8.181818</td>\n",
       "    </tr>\n",
       "    <tr>\n",
       "      <td>0</td>\n",
       "      <td>14225</td>\n",
       "      <td>1071</td>\n",
       "      <td>7.528998</td>\n",
       "    </tr>\n",
       "    <tr>\n",
       "      <td>5</td>\n",
       "      <td>9</td>\n",
       "      <td>0</td>\n",
       "      <td>0.000000</td>\n",
       "    </tr>\n",
       "  </tbody>\n",
       "</table>\n",
       "</div>"
      ],
      "text/plain": [
       "          count_debt  sum_debt  result %\n",
       "children                                \n",
       "4                 41         4  9.756098\n",
       "2               2055       194  9.440389\n",
       "1               4865       445  9.146968\n",
       "3                330        27  8.181818\n",
       "0              14225      1071  7.528998\n",
       "5                  9         0  0.000000"
      ]
     },
     "execution_count": 7,
     "metadata": {},
     "output_type": "execute_result"
    }
   ],
   "source": [
    "debt_from_children = pd.DataFrame()\n",
    "debt_from_children['count_debt'] = df.groupby('children')['debt'].count()\n",
    "debt_from_children['sum_debt'] = df.groupby('children')['debt'].sum()\n",
    "debt_from_children['result %'] = debt_from_children['sum_debt'] / debt_from_children['count_debt'] *100\n",
    "debt_from_children.sort_values('result %', ascending = False)"
   ]
  },
  {
   "cell_type": "markdown",
   "metadata": {},
   "source": [
    "**Вывод**"
   ]
  },
  {
   "cell_type": "markdown",
   "metadata": {},
   "source": [
    "при помощи группировки по столбцу children создаем таблицу где создаем новые столбцы count_debt(количество взятых кредитов с данным количеством детей), sum_debt (количество просрочек в кредите с данным. количеством детей) и result (отношение просрочек к взятым кредитам). из построения данной таблицы можно выяснить, чем больше детей тем выше уровень просрочки  "
   ]
  },
  {
   "cell_type": "markdown",
   "metadata": {},
   "source": [
    "- Есть ли зависимость между семейным положением и возвратом кредита в срок?"
   ]
  },
  {
   "cell_type": "code",
   "execution_count": 8,
   "metadata": {},
   "outputs": [
    {
     "data": {
      "text/html": [
       "<div>\n",
       "<style scoped>\n",
       "    .dataframe tbody tr th:only-of-type {\n",
       "        vertical-align: middle;\n",
       "    }\n",
       "\n",
       "    .dataframe tbody tr th {\n",
       "        vertical-align: top;\n",
       "    }\n",
       "\n",
       "    .dataframe thead th {\n",
       "        text-align: right;\n",
       "    }\n",
       "</style>\n",
       "<table border=\"1\" class=\"dataframe\">\n",
       "  <thead>\n",
       "    <tr style=\"text-align: right;\">\n",
       "      <th></th>\n",
       "      <th>count_debt</th>\n",
       "      <th>sum_debt</th>\n",
       "      <th>result %</th>\n",
       "    </tr>\n",
       "    <tr>\n",
       "      <th>family_status</th>\n",
       "      <th></th>\n",
       "      <th></th>\n",
       "      <th></th>\n",
       "    </tr>\n",
       "  </thead>\n",
       "  <tbody>\n",
       "    <tr>\n",
       "      <td>Не женат / не замужем</td>\n",
       "      <td>2813</td>\n",
       "      <td>274</td>\n",
       "      <td>9.740491</td>\n",
       "    </tr>\n",
       "    <tr>\n",
       "      <td>гражданский брак</td>\n",
       "      <td>4177</td>\n",
       "      <td>388</td>\n",
       "      <td>9.288963</td>\n",
       "    </tr>\n",
       "    <tr>\n",
       "      <td>женат / замужем</td>\n",
       "      <td>12380</td>\n",
       "      <td>931</td>\n",
       "      <td>7.520194</td>\n",
       "    </tr>\n",
       "    <tr>\n",
       "      <td>в разводе</td>\n",
       "      <td>1195</td>\n",
       "      <td>85</td>\n",
       "      <td>7.112971</td>\n",
       "    </tr>\n",
       "    <tr>\n",
       "      <td>вдовец / вдова</td>\n",
       "      <td>960</td>\n",
       "      <td>63</td>\n",
       "      <td>6.562500</td>\n",
       "    </tr>\n",
       "  </tbody>\n",
       "</table>\n",
       "</div>"
      ],
      "text/plain": [
       "                       count_debt  sum_debt  result %\n",
       "family_status                                        \n",
       "Не женат / не замужем        2813       274  9.740491\n",
       "гражданский брак             4177       388  9.288963\n",
       "женат / замужем             12380       931  7.520194\n",
       "в разводе                    1195        85  7.112971\n",
       "вдовец / вдова                960        63  6.562500"
      ]
     },
     "execution_count": 8,
     "metadata": {},
     "output_type": "execute_result"
    }
   ],
   "source": [
    "debt_from_family_status = pd.DataFrame()\n",
    "\n",
    "debt_from_family_status['count_debt'] = df.groupby('family_status')['debt'].count()\n",
    "debt_from_family_status['sum_debt'] = df.groupby('family_status')['debt'].sum()\n",
    "debt_from_family_status['result %'] = debt_from_family_status['sum_debt'] / debt_from_family_status['count_debt']*100 \n",
    "debt_from_family_status.sort_values('result %', ascending = False)"
   ]
  },
  {
   "cell_type": "markdown",
   "metadata": {},
   "source": [
    "**Вывод**"
   ]
  },
  {
   "cell_type": "markdown",
   "metadata": {},
   "source": [
    "при помощи группировки по столбцу family_status создаем таблицу где создаем новые столбцы count_debt(количество взятых кредитов с по семейному пложению), sum_debt (количество просрочек в кредите с данным поо семейному) и result (отношение просрочек к взятым кредитам). из построения данной таблицы можно увидеть, что больше всего просрочек по кредиту у людей имеющие статус \"Не женат / не замужем\", а меньше всего имеют просрочки люди со статусом \"в разводе\" и \"вдовец\""
   ]
  },
  {
   "cell_type": "markdown",
   "metadata": {},
   "source": [
    "- Есть ли зависимость между уровнем дохода и возвратом кредита в срок?"
   ]
  },
  {
   "cell_type": "code",
   "execution_count": 9,
   "metadata": {},
   "outputs": [
    {
     "data": {
      "text/html": [
       "<div>\n",
       "<style scoped>\n",
       "    .dataframe tbody tr th:only-of-type {\n",
       "        vertical-align: middle;\n",
       "    }\n",
       "\n",
       "    .dataframe tbody tr th {\n",
       "        vertical-align: top;\n",
       "    }\n",
       "\n",
       "    .dataframe thead th {\n",
       "        text-align: right;\n",
       "    }\n",
       "</style>\n",
       "<table border=\"1\" class=\"dataframe\">\n",
       "  <thead>\n",
       "    <tr style=\"text-align: right;\">\n",
       "      <th></th>\n",
       "      <th>count_debt</th>\n",
       "      <th>sum_debt</th>\n",
       "      <th>result %</th>\n",
       "    </tr>\n",
       "    <tr>\n",
       "      <th>total_income_id</th>\n",
       "      <th></th>\n",
       "      <th></th>\n",
       "      <th></th>\n",
       "    </tr>\n",
       "  </thead>\n",
       "  <tbody>\n",
       "    <tr>\n",
       "      <td>2</td>\n",
       "      <td>7075</td>\n",
       "      <td>617</td>\n",
       "      <td>8.720848</td>\n",
       "    </tr>\n",
       "    <tr>\n",
       "      <td>3</td>\n",
       "      <td>4734</td>\n",
       "      <td>404</td>\n",
       "      <td>8.534009</td>\n",
       "    </tr>\n",
       "    <tr>\n",
       "      <td>6</td>\n",
       "      <td>624</td>\n",
       "      <td>51</td>\n",
       "      <td>8.173077</td>\n",
       "    </tr>\n",
       "    <tr>\n",
       "      <td>1</td>\n",
       "      <td>4093</td>\n",
       "      <td>331</td>\n",
       "      <td>8.086978</td>\n",
       "    </tr>\n",
       "    <tr>\n",
       "      <td>7</td>\n",
       "      <td>330</td>\n",
       "      <td>24</td>\n",
       "      <td>7.272727</td>\n",
       "    </tr>\n",
       "    <tr>\n",
       "      <td>4</td>\n",
       "      <td>2437</td>\n",
       "      <td>172</td>\n",
       "      <td>7.057858</td>\n",
       "    </tr>\n",
       "    <tr>\n",
       "      <td>5</td>\n",
       "      <td>1330</td>\n",
       "      <td>88</td>\n",
       "      <td>6.616541</td>\n",
       "    </tr>\n",
       "    <tr>\n",
       "      <td>8</td>\n",
       "      <td>197</td>\n",
       "      <td>13</td>\n",
       "      <td>6.598985</td>\n",
       "    </tr>\n",
       "    <tr>\n",
       "      <td>10</td>\n",
       "      <td>222</td>\n",
       "      <td>14</td>\n",
       "      <td>6.306306</td>\n",
       "    </tr>\n",
       "    <tr>\n",
       "      <td>0</td>\n",
       "      <td>372</td>\n",
       "      <td>23</td>\n",
       "      <td>6.182796</td>\n",
       "    </tr>\n",
       "    <tr>\n",
       "      <td>9</td>\n",
       "      <td>111</td>\n",
       "      <td>4</td>\n",
       "      <td>3.603604</td>\n",
       "    </tr>\n",
       "  </tbody>\n",
       "</table>\n",
       "</div>"
      ],
      "text/plain": [
       "                 count_debt  sum_debt  result %\n",
       "total_income_id                                \n",
       "2                      7075       617  8.720848\n",
       "3                      4734       404  8.534009\n",
       "6                       624        51  8.173077\n",
       "1                      4093       331  8.086978\n",
       "7                       330        24  7.272727\n",
       "4                      2437       172  7.057858\n",
       "5                      1330        88  6.616541\n",
       "8                       197        13  6.598985\n",
       "10                      222        14  6.306306\n",
       "0                       372        23  6.182796\n",
       "9                       111         4  3.603604"
      ]
     },
     "execution_count": 9,
     "metadata": {},
     "output_type": "execute_result"
    }
   ],
   "source": [
    "def income_category(value):\n",
    "    if value >= 500000:\n",
    "        return 10\n",
    "    else:\n",
    "        value = value // 50000\n",
    "        return value\n",
    "df['total_income_id'] = df['total_income'].apply(income_category)\n",
    "debt_income = pd.DataFrame()\n",
    "debt_income['count_debt'] = df.groupby('total_income_id')['debt'].count()\n",
    "debt_income['sum_debt'] = df.groupby('total_income_id')['debt'].sum()\n",
    "debt_income['result %'] = debt_income['sum_debt'] / debt_income['count_debt']*100\n",
    "debt_income.sort_values('result %', ascending = False)\n"
   ]
  },
  {
   "cell_type": "markdown",
   "metadata": {},
   "source": [
    "**Вывод**"
   ]
  },
  {
   "cell_type": "markdown",
   "metadata": {},
   "source": [
    "ттак как чисел с уровнем дохода очень много. необходимо разделить людей на группы по уровню дохода и это будут группы с шагом 50000 рублей. 0 гр.- менеее 50000 рублей, 1 гр - до 50000 и так далее. для этого напишем функцию где будем проверять значения. если зарплата у человека больше или равна 500 т., то его сразу записываем в группу 10. далее будем делить доход на 50000 и делаим по группам остальных людей. и согласно нашей таблице можно увидеть что имеющие заработок от 350 т. руб имеют меньше просрочек чем с люди с заработком ниже  так же маленький процент просрока у людей с зп до 50000"
   ]
  },
  {
   "cell_type": "markdown",
   "metadata": {},
   "source": [
    "- Как разные цели кредита влияют на его возврат в срок?"
   ]
  },
  {
   "cell_type": "code",
   "execution_count": 10,
   "metadata": {},
   "outputs": [
    {
     "data": {
      "text/html": [
       "<div>\n",
       "<style scoped>\n",
       "    .dataframe tbody tr th:only-of-type {\n",
       "        vertical-align: middle;\n",
       "    }\n",
       "\n",
       "    .dataframe tbody tr th {\n",
       "        vertical-align: top;\n",
       "    }\n",
       "\n",
       "    .dataframe thead th {\n",
       "        text-align: right;\n",
       "    }\n",
       "</style>\n",
       "<table border=\"1\" class=\"dataframe\">\n",
       "  <thead>\n",
       "    <tr style=\"text-align: right;\">\n",
       "      <th></th>\n",
       "      <th>count_debt</th>\n",
       "      <th>sum_debt</th>\n",
       "      <th>result %</th>\n",
       "    </tr>\n",
       "    <tr>\n",
       "      <th>purpose_group</th>\n",
       "      <th></th>\n",
       "      <th></th>\n",
       "      <th></th>\n",
       "    </tr>\n",
       "  </thead>\n",
       "  <tbody>\n",
       "    <tr>\n",
       "      <td>автомобиль</td>\n",
       "      <td>4315</td>\n",
       "      <td>403</td>\n",
       "      <td>9.339513</td>\n",
       "    </tr>\n",
       "    <tr>\n",
       "      <td>образование</td>\n",
       "      <td>4022</td>\n",
       "      <td>370</td>\n",
       "      <td>9.199403</td>\n",
       "    </tr>\n",
       "    <tr>\n",
       "      <td>свадьба</td>\n",
       "      <td>2348</td>\n",
       "      <td>186</td>\n",
       "      <td>7.921635</td>\n",
       "    </tr>\n",
       "    <tr>\n",
       "      <td>недвижимость</td>\n",
       "      <td>10840</td>\n",
       "      <td>782</td>\n",
       "      <td>7.214022</td>\n",
       "    </tr>\n",
       "  </tbody>\n",
       "</table>\n",
       "</div>"
      ],
      "text/plain": [
       "               count_debt  sum_debt  result %\n",
       "purpose_group                                \n",
       "автомобиль           4315       403  9.339513\n",
       "образование          4022       370  9.199403\n",
       "свадьба              2348       186  7.921635\n",
       "недвижимость        10840       782  7.214022"
      ]
     },
     "execution_count": 10,
     "metadata": {},
     "output_type": "execute_result"
    }
   ],
   "source": [
    "debt_from_purpose = pd.DataFrame()\n",
    "\n",
    "debt_from_purpose['count_debt'] = df.groupby('purpose_group')['debt'].count()\n",
    "debt_from_purpose['sum_debt'] = df.groupby('purpose_group')['debt'].sum()\n",
    "debt_from_purpose['result %'] = debt_from_purpose['sum_debt'] / debt_from_purpose['count_debt']*100\n",
    "debt_from_purpose.sort_values('result %', ascending = False)"
   ]
  },
  {
   "cell_type": "markdown",
   "metadata": {},
   "source": [
    "**Вывод**"
   ]
  },
  {
   "cell_type": "markdown",
   "metadata": {},
   "source": [
    "по аналогии с верхними задачами группируем и вычисляем. видим что чаще всего просроков в платежах у людей которые брали кредиты на автомобиль и образование. а остальные платят более менее в срок"
   ]
  },
  {
   "cell_type": "markdown",
   "metadata": {},
   "source": [
    "## Шаг 4. Общий вывод"
   ]
  },
  {
   "cell_type": "markdown",
   "metadata": {},
   "source": [
    "Количество детей влияет на платежи в срок. \n",
    "Семейный статус влияет так же влияет на платежи в срок. самые не платежеспосбоные люди не состоящие в браке.\n",
    "Уровень дохода не сильно влияет на платежи. \n",
    "Чаще всего в просрок идут платежи по кредитам которые взяли на покупку авто или на образование. \n",
    "\n",
    "Можно нарисовать картинку самого неплатежеспособного клиента селовек котрый в статусе \"не замужем/не женат\" с уровнем дохода около 150т.рублей, коотрый хочет взять кредит на автомобиль. \n",
    "\n",
    "Общий вывод - семейный статус влияет на вероятность платежей по кредиту в срок - люди, бывший в браке чаще плятят в срок чем те, кто не бывали в браке, причем разведенные и овдовевшие платят в срок чаще, чем люди в браке. Чем больше детей, тем чаще платят не в срок, бездетные реже просрачивают оплату."
   ]
  },
  {
   "cell_type": "markdown",
   "metadata": {},
   "source": [
    "## Чек-лист готовности проекта\n",
    "\n",
    "Поставьте 'x' в выполненных пунктах. Далее нажмите Shift+Enter."
   ]
  },
  {
   "cell_type": "markdown",
   "metadata": {},
   "source": [
    "- [x]  открыт файл;\n",
    "- [х]  файл изучен;\n",
    "- [х]  определены пропущенные значения;\n",
    "- [х]  заполнены пропущенные значения;\n",
    "- [х]  есть пояснение, какие пропущенные значения обнаружены;\n",
    "- [х]  описаны возможные причины появления пропусков в данных;\n",
    "- [х]  объяснено, по какому принципу заполнены пропуски;\n",
    "- [х]  заменен вещественный тип данных на целочисленный;\n",
    "- [х]  есть пояснение, какой метод используется для изменения типа данных и почему;\n",
    "- [х]  удалены дубликаты;\n",
    "- [х]  есть пояснение, какой метод используется для поиска и удаления дубликатов;\n",
    "- [х]  описаны возможные причины появления дубликатов в данных;\n",
    "- [х]  выделены леммы в значениях столбца с целями получения кредита;\n",
    "- [х]  описан процесс лемматизации;\n",
    "- [х]  данные категоризированы;\n",
    "- [х]  есть объяснение принципа категоризации данных;\n",
    "- [х]  есть ответ на вопрос: \"Есть ли зависимость между наличием детей и возвратом кредита в срок?\";\n",
    "- [х]  есть ответ на вопрос: \"Есть ли зависимость между семейным положением и возвратом кредита в срок?\";\n",
    "- [х]  есть ответ на вопрос: \"Есть ли зависимость между уровнем дохода и возвратом кредита в срок?\";\n",
    "- [х]  есть ответ на вопрос: \"Как разные цели кредита влияют на его возврат в срок?\";\n",
    "- [х]  в каждом этапе есть выводы;\n",
    "- [х]  есть общий вывод."
   ]
  },
  {
   "cell_type": "code",
   "execution_count": null,
   "metadata": {},
   "outputs": [],
   "source": []
  }
 ],
 "metadata": {
  "ExecuteTimeLog": [
   {
    "duration": 52,
    "start_time": "2021-07-07T13:03:38.910Z"
   },
   {
    "duration": 25,
    "start_time": "2021-07-07T13:04:02.066Z"
   },
   {
    "duration": 1019,
    "start_time": "2021-07-07T13:04:44.129Z"
   },
   {
    "duration": 308,
    "start_time": "2021-07-07T13:05:08.558Z"
   },
   {
    "duration": 50,
    "start_time": "2021-07-07T13:05:13.369Z"
   },
   {
    "duration": 24,
    "start_time": "2021-07-07T13:05:18.302Z"
   },
   {
    "duration": 962,
    "start_time": "2021-07-07T13:05:26.348Z"
   },
   {
    "duration": 264,
    "start_time": "2021-07-07T13:05:47.591Z"
   },
   {
    "duration": 616,
    "start_time": "2021-07-07T13:08:21.092Z"
   },
   {
    "duration": 22,
    "start_time": "2021-07-07T13:08:21.710Z"
   },
   {
    "duration": 368,
    "start_time": "2021-07-07T13:08:21.736Z"
   },
   {
    "duration": 43,
    "start_time": "2021-07-07T13:11:47.356Z"
   },
   {
    "duration": 1262,
    "start_time": "2021-07-07T13:12:00.032Z"
   },
   {
    "duration": 29,
    "start_time": "2021-07-07T13:45:17.480Z"
   },
   {
    "duration": 37,
    "start_time": "2021-07-07T13:45:22.586Z"
   },
   {
    "duration": 36,
    "start_time": "2021-07-07T13:45:59.725Z"
   },
   {
    "duration": 78,
    "start_time": "2021-07-07T13:46:43.660Z"
   },
   {
    "duration": 66,
    "start_time": "2021-07-07T13:47:03.473Z"
   },
   {
    "duration": 43,
    "start_time": "2021-07-07T13:48:30.582Z"
   },
   {
    "duration": 20,
    "start_time": "2021-07-07T13:48:38.242Z"
   },
   {
    "duration": 39,
    "start_time": "2021-07-07T13:48:52.761Z"
   },
   {
    "duration": 42,
    "start_time": "2021-07-07T13:50:11.011Z"
   },
   {
    "duration": 26,
    "start_time": "2021-07-07T13:50:31.498Z"
   },
   {
    "duration": 42,
    "start_time": "2021-07-07T13:50:42.146Z"
   },
   {
    "duration": 24,
    "start_time": "2021-07-07T13:51:09.710Z"
   },
   {
    "duration": 26,
    "start_time": "2021-07-07T13:51:31.166Z"
   },
   {
    "duration": 40,
    "start_time": "2021-07-07T13:51:42.934Z"
   },
   {
    "duration": 44,
    "start_time": "2021-07-07T13:52:04.408Z"
   },
   {
    "duration": 43,
    "start_time": "2021-07-07T13:52:56.886Z"
   },
   {
    "duration": 38,
    "start_time": "2021-07-07T13:55:25.926Z"
   },
   {
    "duration": 259,
    "start_time": "2021-07-07T13:55:59.274Z"
   },
   {
    "duration": 7,
    "start_time": "2021-07-07T13:56:06.715Z"
   },
   {
    "duration": 7,
    "start_time": "2021-07-07T13:56:16.621Z"
   },
   {
    "duration": 748,
    "start_time": "2021-07-07T13:56:27.372Z"
   },
   {
    "duration": 27,
    "start_time": "2021-07-07T13:56:28.122Z"
   },
   {
    "duration": 1073,
    "start_time": "2021-07-07T13:56:28.151Z"
   },
   {
    "duration": -194,
    "start_time": "2021-07-07T13:56:29.421Z"
   },
   {
    "duration": 18,
    "start_time": "2021-07-07T13:56:38.004Z"
   },
   {
    "duration": 12,
    "start_time": "2021-07-07T13:56:44.979Z"
   },
   {
    "duration": 16,
    "start_time": "2021-07-07T13:56:52.519Z"
   },
   {
    "duration": 21,
    "start_time": "2021-07-07T13:56:55.798Z"
   },
   {
    "duration": 26,
    "start_time": "2021-07-07T13:57:08.440Z"
   },
   {
    "duration": 23,
    "start_time": "2021-07-07T13:57:25.520Z"
   },
   {
    "duration": 32,
    "start_time": "2021-07-07T13:57:41.942Z"
   },
   {
    "duration": 27,
    "start_time": "2021-07-07T13:58:01.923Z"
   },
   {
    "duration": 31,
    "start_time": "2021-07-07T14:00:00.059Z"
   },
   {
    "duration": 28,
    "start_time": "2021-07-07T14:00:09.607Z"
   },
   {
    "duration": 28,
    "start_time": "2021-07-07T14:00:26.751Z"
   },
   {
    "duration": 28,
    "start_time": "2021-07-07T14:00:41.853Z"
   },
   {
    "duration": 55,
    "start_time": "2021-07-07T14:04:07.644Z"
   },
   {
    "duration": 38,
    "start_time": "2021-07-07T14:04:15.419Z"
   },
   {
    "duration": 11504,
    "start_time": "2021-07-07T14:06:37.337Z"
   },
   {
    "duration": 12515,
    "start_time": "2021-07-07T14:07:21.304Z"
   },
   {
    "duration": 5731,
    "start_time": "2021-07-07T14:08:16.957Z"
   },
   {
    "duration": 246,
    "start_time": "2021-07-07T14:15:47.937Z"
   },
   {
    "duration": 2424,
    "start_time": "2021-07-07T14:15:59.777Z"
   },
   {
    "duration": 2688,
    "start_time": "2021-07-07T14:17:24.566Z"
   },
   {
    "duration": 436,
    "start_time": "2021-07-07T14:22:22.239Z"
   },
   {
    "duration": 11674,
    "start_time": "2021-07-07T14:22:31.600Z"
   },
   {
    "duration": 610,
    "start_time": "2021-07-07T14:25:54.922Z"
   },
   {
    "duration": 24,
    "start_time": "2021-07-07T14:25:55.535Z"
   },
   {
    "duration": 1039,
    "start_time": "2021-07-07T14:25:55.560Z"
   },
   {
    "duration": -210,
    "start_time": "2021-07-07T14:25:56.810Z"
   },
   {
    "duration": -224,
    "start_time": "2021-07-07T14:25:56.826Z"
   },
   {
    "duration": -246,
    "start_time": "2021-07-07T14:25:56.848Z"
   },
   {
    "duration": 41,
    "start_time": "2021-07-07T14:26:05.710Z"
   },
   {
    "duration": 2358,
    "start_time": "2021-07-07T14:26:11.440Z"
   },
   {
    "duration": 69235,
    "start_time": "2021-07-07T14:26:16.568Z"
   },
   {
    "duration": 11758,
    "start_time": "2021-07-07T14:28:48.329Z"
   },
   {
    "duration": 89,
    "start_time": "2021-07-07T14:29:11.444Z"
   },
   {
    "duration": 11866,
    "start_time": "2021-07-07T14:29:15.107Z"
   },
   {
    "duration": 18486,
    "start_time": "2021-07-07T14:29:34.917Z"
   },
   {
    "duration": 432,
    "start_time": "2021-07-07T14:32:18.550Z"
   },
   {
    "duration": 11898,
    "start_time": "2021-07-07T14:32:25.908Z"
   },
   {
    "duration": 14,
    "start_time": "2021-07-07T14:32:54.841Z"
   },
   {
    "duration": 560,
    "start_time": "2021-07-07T14:34:26.675Z"
   },
   {
    "duration": 25,
    "start_time": "2021-07-07T14:36:01.596Z"
   },
   {
    "duration": 1302,
    "start_time": "2021-07-07T14:36:16.049Z"
   },
   {
    "duration": 941,
    "start_time": "2021-07-07T14:36:49.147Z"
   },
   {
    "duration": 976,
    "start_time": "2021-07-07T14:36:58.819Z"
   },
   {
    "duration": 257,
    "start_time": "2021-07-07T14:38:19.843Z"
   },
   {
    "duration": 248,
    "start_time": "2021-07-07T14:38:29.587Z"
   },
   {
    "duration": 52,
    "start_time": "2021-07-07T14:38:37.659Z"
   },
   {
    "duration": 19,
    "start_time": "2021-07-07T14:38:44.570Z"
   },
   {
    "duration": 283,
    "start_time": "2021-07-07T14:38:48.785Z"
   },
   {
    "duration": 17,
    "start_time": "2021-07-07T14:40:08.614Z"
   },
   {
    "duration": 6,
    "start_time": "2021-07-07T14:40:16.824Z"
   },
   {
    "duration": 7,
    "start_time": "2021-07-07T14:40:22.352Z"
   },
   {
    "duration": 13,
    "start_time": "2021-07-07T14:40:35.294Z"
   },
   {
    "duration": 12,
    "start_time": "2021-07-07T14:40:48.765Z"
   },
   {
    "duration": 37,
    "start_time": "2021-07-07T14:40:52.874Z"
   },
   {
    "duration": 11751,
    "start_time": "2021-07-07T14:41:12.548Z"
   },
   {
    "duration": 11784,
    "start_time": "2021-07-07T14:42:27.674Z"
   },
   {
    "duration": 11794,
    "start_time": "2021-07-07T14:43:41.747Z"
   },
   {
    "duration": 11695,
    "start_time": "2021-07-07T14:45:01.715Z"
   },
   {
    "duration": 2162,
    "start_time": "2021-07-07T14:48:06.894Z"
   },
   {
    "duration": 2469,
    "start_time": "2021-07-07T14:48:19.615Z"
   },
   {
    "duration": 83,
    "start_time": "2021-07-07T14:48:34.221Z"
   },
   {
    "duration": 11979,
    "start_time": "2021-07-07T14:48:48.884Z"
   },
   {
    "duration": -47,
    "start_time": "2021-07-07T14:51:44.420Z"
   },
   {
    "duration": 291,
    "start_time": "2021-07-07T14:52:04.189Z"
   },
   {
    "duration": 244,
    "start_time": "2021-07-07T14:52:17.372Z"
   },
   {
    "duration": 441,
    "start_time": "2021-07-07T14:52:28.635Z"
   },
   {
    "duration": 406,
    "start_time": "2021-07-07T14:52:35.841Z"
   },
   {
    "duration": 281,
    "start_time": "2021-07-07T14:52:40.010Z"
   },
   {
    "duration": 44,
    "start_time": "2021-07-07T14:52:46.677Z"
   },
   {
    "duration": 615,
    "start_time": "2021-07-07T14:52:59.036Z"
   },
   {
    "duration": 17,
    "start_time": "2021-07-07T14:52:59.653Z"
   },
   {
    "duration": 10,
    "start_time": "2021-07-07T14:52:59.672Z"
   },
   {
    "duration": 35,
    "start_time": "2021-07-07T14:52:59.683Z"
   },
   {
    "duration": 2266,
    "start_time": "2021-07-07T14:52:59.720Z"
   },
   {
    "duration": 11570,
    "start_time": "2021-07-07T14:53:01.987Z"
   },
   {
    "duration": 384,
    "start_time": "2021-07-08T09:15:39.259Z"
   },
   {
    "duration": 969,
    "start_time": "2021-07-08T09:15:55.122Z"
   },
   {
    "duration": 28,
    "start_time": "2021-07-08T09:15:56.094Z"
   },
   {
    "duration": 18,
    "start_time": "2021-07-08T09:15:56.125Z"
   },
   {
    "duration": 87,
    "start_time": "2021-07-08T09:15:56.146Z"
   },
   {
    "duration": 3604,
    "start_time": "2021-07-08T09:15:56.235Z"
   },
   {
    "duration": 486,
    "start_time": "2021-07-08T09:15:59.842Z"
   },
   {
    "duration": 3510,
    "start_time": "2021-07-08T09:26:12.395Z"
   },
   {
    "duration": 380,
    "start_time": "2021-07-08T09:26:19.893Z"
   },
   {
    "duration": 339,
    "start_time": "2021-07-08T09:26:28.046Z"
   },
   {
    "duration": 809,
    "start_time": "2021-07-08T09:26:34.932Z"
   },
   {
    "duration": 29,
    "start_time": "2021-07-08T09:26:35.745Z"
   },
   {
    "duration": 34,
    "start_time": "2021-07-08T09:26:35.777Z"
   },
   {
    "duration": 63,
    "start_time": "2021-07-08T09:26:35.814Z"
   },
   {
    "duration": 3686,
    "start_time": "2021-07-08T09:26:35.880Z"
   },
   {
    "duration": 433,
    "start_time": "2021-07-08T09:26:39.570Z"
   },
   {
    "duration": 393,
    "start_time": "2021-07-08T09:26:54.685Z"
   },
   {
    "duration": 396,
    "start_time": "2021-07-08T09:27:00.891Z"
   },
   {
    "duration": 77,
    "start_time": "2021-07-08T09:27:07.042Z"
   },
   {
    "duration": 27,
    "start_time": "2021-07-08T09:27:09.552Z"
   },
   {
    "duration": 19,
    "start_time": "2021-07-08T09:27:13.245Z"
   },
   {
    "duration": 61,
    "start_time": "2021-07-08T09:27:15.935Z"
   },
   {
    "duration": 5068,
    "start_time": "2021-07-08T09:27:18.310Z"
   },
   {
    "duration": 323,
    "start_time": "2021-07-08T09:33:11.757Z"
   },
   {
    "duration": 5205,
    "start_time": "2021-07-08T09:35:54.247Z"
   },
   {
    "duration": 5289,
    "start_time": "2021-07-08T09:36:07.040Z"
   },
   {
    "duration": 5191,
    "start_time": "2021-07-08T09:37:11.587Z"
   },
   {
    "duration": 5799,
    "start_time": "2021-07-08T09:38:37.037Z"
   },
   {
    "duration": 100,
    "start_time": "2021-07-08T09:39:41.085Z"
   },
   {
    "duration": 5289,
    "start_time": "2021-07-08T09:39:50.087Z"
   },
   {
    "duration": 5231,
    "start_time": "2021-07-08T09:40:42.861Z"
   },
   {
    "duration": 5310,
    "start_time": "2021-07-08T09:40:56.665Z"
   },
   {
    "duration": 5187,
    "start_time": "2021-07-08T09:41:20.862Z"
   },
   {
    "duration": 5065,
    "start_time": "2021-07-08T09:41:33.463Z"
   },
   {
    "duration": 119,
    "start_time": "2021-07-08T09:42:33.417Z"
   },
   {
    "duration": 124,
    "start_time": "2021-07-08T09:42:39.906Z"
   },
   {
    "duration": 116,
    "start_time": "2021-07-08T09:42:53.575Z"
   },
   {
    "duration": 5268,
    "start_time": "2021-07-08T09:43:06.406Z"
   },
   {
    "duration": 5867,
    "start_time": "2021-07-08T09:43:33.275Z"
   },
   {
    "duration": 5129,
    "start_time": "2021-07-08T09:43:58.230Z"
   },
   {
    "duration": 5460,
    "start_time": "2021-07-08T09:46:22.319Z"
   },
   {
    "duration": 5345,
    "start_time": "2021-07-08T09:46:45.422Z"
   },
   {
    "duration": 5323,
    "start_time": "2021-07-08T09:47:13.696Z"
   },
   {
    "duration": 145,
    "start_time": "2021-07-08T09:49:42.199Z"
   },
   {
    "duration": 552,
    "start_time": "2021-07-08T09:49:46.406Z"
   },
   {
    "duration": 833,
    "start_time": "2021-07-08T09:49:54.514Z"
   },
   {
    "duration": 29,
    "start_time": "2021-07-08T09:49:55.350Z"
   },
   {
    "duration": 34,
    "start_time": "2021-07-08T09:49:55.382Z"
   },
   {
    "duration": 64,
    "start_time": "2021-07-08T09:49:55.419Z"
   },
   {
    "duration": 3686,
    "start_time": "2021-07-08T09:49:55.486Z"
   },
   {
    "duration": 511,
    "start_time": "2021-07-08T09:49:59.175Z"
   },
   {
    "duration": 4717,
    "start_time": "2021-07-08T09:50:02.762Z"
   },
   {
    "duration": 4713,
    "start_time": "2021-07-08T09:50:22.716Z"
   },
   {
    "duration": 4627,
    "start_time": "2021-07-08T09:50:35.067Z"
   },
   {
    "duration": 33,
    "start_time": "2021-07-08T09:53:34.297Z"
   },
   {
    "duration": 23,
    "start_time": "2021-07-08T10:32:51.082Z"
   },
   {
    "duration": 23,
    "start_time": "2021-07-08T10:33:27.024Z"
   },
   {
    "duration": 22,
    "start_time": "2021-07-08T10:48:32.642Z"
   },
   {
    "duration": 70,
    "start_time": "2021-07-08T10:51:55.867Z"
   },
   {
    "duration": 37,
    "start_time": "2021-07-08T10:52:59.963Z"
   },
   {
    "duration": 23,
    "start_time": "2021-07-08T10:53:43.197Z"
   },
   {
    "duration": 110,
    "start_time": "2021-07-08T10:54:15.364Z"
   },
   {
    "duration": 36,
    "start_time": "2021-07-08T10:54:58.431Z"
   },
   {
    "duration": 38,
    "start_time": "2021-07-08T10:55:39.279Z"
   },
   {
    "duration": 33,
    "start_time": "2021-07-08T10:56:24.284Z"
   },
   {
    "duration": 35,
    "start_time": "2021-07-08T10:56:56.058Z"
   },
   {
    "duration": 32,
    "start_time": "2021-07-08T10:57:17.932Z"
   },
   {
    "duration": 36,
    "start_time": "2021-07-08T10:58:10.508Z"
   },
   {
    "duration": 38,
    "start_time": "2021-07-08T10:59:27.043Z"
   },
   {
    "duration": 31,
    "start_time": "2021-07-08T10:59:38.442Z"
   },
   {
    "duration": 32,
    "start_time": "2021-07-08T11:01:07.788Z"
   },
   {
    "duration": 33,
    "start_time": "2021-07-08T11:01:15.483Z"
   },
   {
    "duration": 31,
    "start_time": "2021-07-08T11:01:29.410Z"
   },
   {
    "duration": 246,
    "start_time": "2021-07-08T11:01:38.589Z"
   },
   {
    "duration": 31,
    "start_time": "2021-07-08T11:01:44.301Z"
   },
   {
    "duration": 36,
    "start_time": "2021-07-08T11:03:09.674Z"
   },
   {
    "duration": 113,
    "start_time": "2021-07-08T11:05:35.616Z"
   },
   {
    "duration": 37,
    "start_time": "2021-07-08T11:05:40.679Z"
   },
   {
    "duration": 34,
    "start_time": "2021-07-08T11:05:53.491Z"
   },
   {
    "duration": 34,
    "start_time": "2021-07-08T11:06:00.712Z"
   },
   {
    "duration": 34,
    "start_time": "2021-07-08T11:12:15.555Z"
   },
   {
    "duration": 32,
    "start_time": "2021-07-08T11:14:08.556Z"
   },
   {
    "duration": 34,
    "start_time": "2021-07-08T11:14:12.885Z"
   },
   {
    "duration": 33,
    "start_time": "2021-07-08T11:14:18.399Z"
   },
   {
    "duration": 35,
    "start_time": "2021-07-08T11:15:39.677Z"
   },
   {
    "duration": 34,
    "start_time": "2021-07-08T11:15:48.282Z"
   },
   {
    "duration": 35,
    "start_time": "2021-07-08T11:15:58.461Z"
   },
   {
    "duration": 35,
    "start_time": "2021-07-08T11:22:06.482Z"
   },
   {
    "duration": 35,
    "start_time": "2021-07-08T11:22:13.345Z"
   },
   {
    "duration": 34,
    "start_time": "2021-07-08T11:22:22.031Z"
   },
   {
    "duration": 54,
    "start_time": "2021-07-08T11:22:36.579Z"
   },
   {
    "duration": 23,
    "start_time": "2021-07-08T11:27:25.103Z"
   },
   {
    "duration": 410,
    "start_time": "2021-07-08T11:28:19.363Z"
   },
   {
    "duration": 24,
    "start_time": "2021-07-08T11:28:34.975Z"
   },
   {
    "duration": 22,
    "start_time": "2021-07-08T11:28:59.538Z"
   },
   {
    "duration": 23,
    "start_time": "2021-07-08T11:32:33.948Z"
   },
   {
    "duration": 107,
    "start_time": "2021-07-08T11:32:48.790Z"
   },
   {
    "duration": 23,
    "start_time": "2021-07-08T11:32:52.326Z"
   },
   {
    "duration": 36,
    "start_time": "2021-07-08T11:33:06.477Z"
   },
   {
    "duration": 24,
    "start_time": "2021-07-08T11:33:17.093Z"
   },
   {
    "duration": 21,
    "start_time": "2021-07-08T11:33:24.498Z"
   },
   {
    "duration": 22,
    "start_time": "2021-07-08T11:33:35.899Z"
   },
   {
    "duration": 25,
    "start_time": "2021-07-08T11:33:49.013Z"
   },
   {
    "duration": 35,
    "start_time": "2021-07-08T11:34:08.477Z"
   },
   {
    "duration": 24,
    "start_time": "2021-07-08T11:34:22.266Z"
   },
   {
    "duration": 847,
    "start_time": "2021-07-09T05:52:04.645Z"
   },
   {
    "duration": 29,
    "start_time": "2021-07-09T05:52:05.494Z"
   },
   {
    "duration": 41,
    "start_time": "2021-07-09T05:52:05.526Z"
   },
   {
    "duration": 66,
    "start_time": "2021-07-09T05:52:05.570Z"
   },
   {
    "duration": 3606,
    "start_time": "2021-07-09T05:52:05.639Z"
   },
   {
    "duration": 4608,
    "start_time": "2021-07-09T05:52:09.247Z"
   },
   {
    "duration": 31,
    "start_time": "2021-07-09T05:52:13.866Z"
   },
   {
    "duration": 22,
    "start_time": "2021-07-09T05:52:13.902Z"
   },
   {
    "duration": 67,
    "start_time": "2021-07-09T05:52:13.927Z"
   },
   {
    "duration": 26,
    "start_time": "2021-07-09T05:52:13.997Z"
   },
   {
    "duration": 802,
    "start_time": "2021-07-09T09:24:13.331Z"
   },
   {
    "duration": 30,
    "start_time": "2021-07-09T09:24:14.137Z"
   },
   {
    "duration": 32,
    "start_time": "2021-07-09T09:24:14.170Z"
   },
   {
    "duration": 98,
    "start_time": "2021-07-09T09:24:14.206Z"
   },
   {
    "duration": 3634,
    "start_time": "2021-07-09T09:24:14.307Z"
   },
   {
    "duration": 4930,
    "start_time": "2021-07-09T09:24:17.944Z"
   },
   {
    "duration": 36,
    "start_time": "2021-07-09T09:24:22.877Z"
   },
   {
    "duration": 392,
    "start_time": "2021-07-09T09:24:22.916Z"
   },
   {
    "duration": 392,
    "start_time": "2021-07-09T09:24:23.311Z"
   },
   {
    "duration": 22,
    "start_time": "2021-07-09T09:24:23.705Z"
   },
   {
    "duration": 46,
    "start_time": "2021-07-09T09:24:35.323Z"
   },
   {
    "duration": 19,
    "start_time": "2021-07-09T09:24:53.583Z"
   },
   {
    "duration": 22,
    "start_time": "2021-07-09T09:25:04.936Z"
   },
   {
    "duration": 43,
    "start_time": "2021-07-09T09:25:18.102Z"
   },
   {
    "duration": 34,
    "start_time": "2021-07-09T09:29:33.615Z"
   },
   {
    "duration": 804,
    "start_time": "2021-07-09T09:29:57.548Z"
   },
   {
    "duration": 55,
    "start_time": "2021-07-09T09:29:58.355Z"
   },
   {
    "duration": 19,
    "start_time": "2021-07-09T09:29:58.413Z"
   },
   {
    "duration": 79,
    "start_time": "2021-07-09T09:29:58.434Z"
   },
   {
    "duration": 3895,
    "start_time": "2021-07-09T09:29:58.516Z"
   },
   {
    "duration": 5443,
    "start_time": "2021-07-09T09:30:02.414Z"
   },
   {
    "duration": 48,
    "start_time": "2021-07-09T09:30:07.860Z"
   },
   {
    "duration": 22,
    "start_time": "2021-07-09T09:30:07.911Z"
   },
   {
    "duration": 53,
    "start_time": "2021-07-09T09:30:07.935Z"
   },
   {
    "duration": 24,
    "start_time": "2021-07-09T09:30:07.991Z"
   },
   {
    "duration": 36,
    "start_time": "2021-07-09T09:30:27.436Z"
   },
   {
    "duration": 33,
    "start_time": "2021-07-09T09:31:39.819Z"
   },
   {
    "duration": 78,
    "start_time": "2021-07-09T09:31:41.809Z"
   },
   {
    "duration": 35,
    "start_time": "2021-07-09T09:31:44.638Z"
   },
   {
    "duration": 40,
    "start_time": "2021-07-09T09:31:46.201Z"
   },
   {
    "duration": 36,
    "start_time": "2021-07-09T09:31:47.081Z"
   },
   {
    "duration": 45,
    "start_time": "2021-07-09T09:32:05.107Z"
   },
   {
    "duration": 58,
    "start_time": "2021-07-09T09:32:32.227Z"
   },
   {
    "duration": 58,
    "start_time": "2021-07-09T09:33:17.455Z"
   },
   {
    "duration": 76,
    "start_time": "2021-07-09T09:37:06.838Z"
   },
   {
    "duration": 72,
    "start_time": "2021-07-09T09:37:16.496Z"
   },
   {
    "duration": 27,
    "start_time": "2021-07-09T09:37:36.665Z"
   },
   {
    "duration": 28,
    "start_time": "2021-07-09T09:38:05.892Z"
   },
   {
    "duration": 28,
    "start_time": "2021-07-09T09:38:28.677Z"
   },
   {
    "duration": 20,
    "start_time": "2021-07-09T09:41:26.904Z"
   },
   {
    "duration": 24,
    "start_time": "2021-07-09T09:41:36.185Z"
   },
   {
    "duration": 67,
    "start_time": "2021-07-09T09:45:51.593Z"
   },
   {
    "duration": 69,
    "start_time": "2021-07-09T09:46:01.463Z"
   },
   {
    "duration": 62,
    "start_time": "2021-07-09T09:46:04.782Z"
   },
   {
    "duration": 114,
    "start_time": "2021-07-09T09:46:45.970Z"
   },
   {
    "duration": 102,
    "start_time": "2021-07-09T09:46:56.305Z"
   },
   {
    "duration": 113,
    "start_time": "2021-07-09T09:47:00.042Z"
   },
   {
    "duration": 165,
    "start_time": "2021-07-09T09:47:02.941Z"
   },
   {
    "duration": 62,
    "start_time": "2021-07-09T09:50:04.783Z"
   },
   {
    "duration": 60,
    "start_time": "2021-07-09T09:51:14.791Z"
   },
   {
    "duration": 70,
    "start_time": "2021-07-09T09:51:35.713Z"
   },
   {
    "duration": 55,
    "start_time": "2021-07-09T09:51:37.789Z"
   },
   {
    "duration": 45,
    "start_time": "2021-07-09T10:01:52.232Z"
   },
   {
    "duration": 686,
    "start_time": "2021-07-09T10:08:27.323Z"
   },
   {
    "duration": 45,
    "start_time": "2021-07-09T10:08:37.886Z"
   },
   {
    "duration": 40,
    "start_time": "2021-07-09T10:08:43.778Z"
   },
   {
    "duration": 12,
    "start_time": "2021-07-09T10:08:46.604Z"
   },
   {
    "duration": 16,
    "start_time": "2021-07-09T10:08:51.346Z"
   },
   {
    "duration": 21,
    "start_time": "2021-07-09T10:09:04.677Z"
   },
   {
    "duration": 25,
    "start_time": "2021-07-09T10:09:06.991Z"
   },
   {
    "duration": 19,
    "start_time": "2021-07-09T10:09:55.694Z"
   },
   {
    "duration": 15,
    "start_time": "2021-07-09T10:10:00.826Z"
   },
   {
    "duration": 84,
    "start_time": "2021-07-09T10:27:59.158Z"
   },
   {
    "duration": 312,
    "start_time": "2021-07-09T10:32:43.583Z"
   },
   {
    "duration": 337,
    "start_time": "2021-07-09T10:32:49.533Z"
   },
   {
    "duration": 650,
    "start_time": "2021-07-09T10:32:55.149Z"
   },
   {
    "duration": 83,
    "start_time": "2021-07-09T10:33:24.953Z"
   },
   {
    "duration": 550,
    "start_time": "2021-07-09T10:33:27.112Z"
   },
   {
    "duration": 50,
    "start_time": "2021-07-09T10:34:48.974Z"
   },
   {
    "duration": 17,
    "start_time": "2021-07-09T10:34:55.529Z"
   },
   {
    "duration": 21,
    "start_time": "2021-07-09T10:35:07.530Z"
   },
   {
    "duration": 14,
    "start_time": "2021-07-09T10:35:21.314Z"
   },
   {
    "duration": 13,
    "start_time": "2021-07-09T10:35:22.369Z"
   },
   {
    "duration": 74,
    "start_time": "2021-07-09T10:35:26.955Z"
   },
   {
    "duration": 17,
    "start_time": "2021-07-09T10:35:28.289Z"
   },
   {
    "duration": 21,
    "start_time": "2021-07-09T10:35:35.111Z"
   },
   {
    "duration": 31,
    "start_time": "2021-07-09T10:36:29.423Z"
   },
   {
    "duration": 32,
    "start_time": "2021-07-09T10:37:29.878Z"
   },
   {
    "duration": 33,
    "start_time": "2021-07-09T10:37:40.772Z"
   },
   {
    "duration": 19,
    "start_time": "2021-07-09T10:37:55.232Z"
   },
   {
    "duration": 12,
    "start_time": "2021-07-09T10:38:15.112Z"
   },
   {
    "duration": 19,
    "start_time": "2021-07-09T10:39:16.583Z"
   },
   {
    "duration": 13,
    "start_time": "2021-07-09T10:39:25.066Z"
   },
   {
    "duration": 14,
    "start_time": "2021-07-09T11:38:18.347Z"
   },
   {
    "duration": 73,
    "start_time": "2021-07-09T11:38:26.529Z"
   },
   {
    "duration": 12,
    "start_time": "2021-07-09T11:38:30.401Z"
   },
   {
    "duration": 15,
    "start_time": "2021-07-09T11:38:48.165Z"
   },
   {
    "duration": 77,
    "start_time": "2021-07-09T11:38:52.161Z"
   },
   {
    "duration": 18,
    "start_time": "2021-07-09T11:38:54.175Z"
   },
   {
    "duration": 314,
    "start_time": "2021-07-09T11:47:37.114Z"
   },
   {
    "duration": 343,
    "start_time": "2021-07-09T11:48:01.769Z"
   },
   {
    "duration": 69,
    "start_time": "2021-07-09T11:48:24.185Z"
   },
   {
    "duration": 373,
    "start_time": "2021-07-09T11:48:26.558Z"
   },
   {
    "duration": 128,
    "start_time": "2021-07-09T11:52:28.381Z"
   },
   {
    "duration": 80,
    "start_time": "2021-07-09T11:52:39.286Z"
   },
   {
    "duration": 110,
    "start_time": "2021-07-09T11:52:41.646Z"
   },
   {
    "duration": 545,
    "start_time": "2021-07-09T11:53:07.230Z"
   },
   {
    "duration": 96,
    "start_time": "2021-07-09T11:53:12.760Z"
   },
   {
    "duration": 416,
    "start_time": "2021-07-09T11:53:16.523Z"
   },
   {
    "duration": 141,
    "start_time": "2021-07-09T11:55:58.945Z"
   },
   {
    "duration": 354,
    "start_time": "2021-07-09T11:56:08.553Z"
   },
   {
    "duration": 343,
    "start_time": "2021-07-09T11:57:04.818Z"
   },
   {
    "duration": 319,
    "start_time": "2021-07-09T11:58:10.643Z"
   },
   {
    "duration": 318,
    "start_time": "2021-07-09T11:58:20.402Z"
   },
   {
    "duration": 72,
    "start_time": "2021-07-09T11:58:24.244Z"
   },
   {
    "duration": 329,
    "start_time": "2021-07-09T11:58:26.498Z"
   },
   {
    "duration": 47,
    "start_time": "2021-07-09T12:08:58.241Z"
   },
   {
    "duration": 410,
    "start_time": "2021-07-09T12:09:13.896Z"
   },
   {
    "duration": 69,
    "start_time": "2021-07-09T12:09:17.944Z"
   },
   {
    "duration": 58,
    "start_time": "2021-07-09T12:09:20.310Z"
   },
   {
    "duration": 1579,
    "start_time": "2021-07-09T12:12:13.866Z"
   },
   {
    "duration": 75,
    "start_time": "2021-07-09T12:12:18.874Z"
   },
   {
    "duration": 69,
    "start_time": "2021-07-09T12:12:21.146Z"
   },
   {
    "duration": 369,
    "start_time": "2021-07-09T12:13:04.826Z"
   },
   {
    "duration": 87,
    "start_time": "2021-07-09T12:13:08.072Z"
   },
   {
    "duration": 58,
    "start_time": "2021-07-09T12:13:09.840Z"
   },
   {
    "duration": 367,
    "start_time": "2021-07-09T12:13:29.602Z"
   },
   {
    "duration": 53,
    "start_time": "2021-07-09T12:13:32.585Z"
   },
   {
    "duration": 653,
    "start_time": "2021-07-09T12:14:18.612Z"
   },
   {
    "duration": 83,
    "start_time": "2021-07-09T12:14:22.667Z"
   },
   {
    "duration": 64,
    "start_time": "2021-07-09T12:14:22.841Z"
   },
   {
    "duration": 92,
    "start_time": "2021-07-09T12:14:24.844Z"
   },
   {
    "duration": 77,
    "start_time": "2021-07-09T12:15:55.908Z"
   },
   {
    "duration": 55,
    "start_time": "2021-07-09T12:15:57.574Z"
   },
   {
    "duration": 824,
    "start_time": "2021-07-09T17:40:22.113Z"
   },
   {
    "duration": 61,
    "start_time": "2021-07-09T17:40:22.941Z"
   },
   {
    "duration": 17,
    "start_time": "2021-07-09T17:40:23.005Z"
   },
   {
    "duration": 106,
    "start_time": "2021-07-09T17:40:23.025Z"
   },
   {
    "duration": 3324,
    "start_time": "2021-07-09T17:40:23.133Z"
   },
   {
    "duration": 5024,
    "start_time": "2021-07-09T17:40:26.460Z"
   },
   {
    "duration": 28,
    "start_time": "2021-07-09T17:40:31.486Z"
   },
   {
    "duration": 41,
    "start_time": "2021-07-09T17:40:31.517Z"
   },
   {
    "duration": 41,
    "start_time": "2021-07-09T17:40:31.562Z"
   },
   {
    "duration": 20,
    "start_time": "2021-07-09T17:40:31.605Z"
   },
   {
    "duration": 566,
    "start_time": "2021-08-27T07:38:36.171Z"
   },
   {
    "duration": 815,
    "start_time": "2021-08-27T07:38:40.854Z"
   },
   {
    "duration": 84,
    "start_time": "2021-08-27T07:38:43.558Z"
   }
  ],
  "kernelspec": {
   "display_name": "Python 3",
   "language": "python",
   "name": "python3"
  },
  "language_info": {
   "codemirror_mode": {
    "name": "ipython",
    "version": 3
   },
   "file_extension": ".py",
   "mimetype": "text/x-python",
   "name": "python",
   "nbconvert_exporter": "python",
   "pygments_lexer": "ipython3",
   "version": "3.7.8"
  },
  "toc": {
   "base_numbering": 1,
   "nav_menu": {},
   "number_sections": true,
   "sideBar": true,
   "skip_h1_title": true,
   "title_cell": "Table of Contents",
   "title_sidebar": "Contents",
   "toc_cell": false,
   "toc_position": {},
   "toc_section_display": true,
   "toc_window_display": false
  }
 },
 "nbformat": 4,
 "nbformat_minor": 2
}
