{
 "cells": [
  {
   "cell_type": "markdown",
   "metadata": {},
   "source": [
    "# Сборный проект. Анализ и предсказание продаж по компьютерным играм.\n",
    "\n",
    "Вы работаете в интернет-магазине «Стримчик», который продаёт по всему миру компьютерные игры. Из открытых источников доступны исторические данные о продажах игр, оценки пользователей и экспертов, жанры и платформы (например, Xbox или PlayStation). Вам нужно выявить определяющие успешность игры закономерности. Это позволит сделать ставку на потенциально популярный продукт и спланировать рекламные кампании.\n",
    "\n",
    "Перед вами данные до 2016 года. Представим, что сейчас декабрь 2016 г., и вы планируете кампанию на 2017-й. Нужно отработать принцип работы с данными. Не важно, прогнозируете ли вы продажи на 2017 год по данным 2016-го или же 2027-й — по данным 2026 года.\n",
    "\n",
    "В наборе данных попадается аббревиатура ESRB (Entertainment Software Rating Board) — это ассоциация, определяющая возрастной рейтинг компьютерных игр. ESRB оценивает игровой контент и присваивает ему подходящую возрастную категорию, например, «Для взрослых», «Для детей младшего возраста» или «Для подростков».\n",
    "\n",
    "Датафрейм имеет следующую структуру:\n",
    "\n",
    "- Name — название игры\n",
    "- Platform — платформа\n",
    "- Year_of_Release — год выпуска\n",
    "- Genre — жанр игры\n",
    "- NA_sales — продажи в Северной Америке (миллионы долларов)\n",
    "- EU_sales — продажи в Европе (миллионы долларов)\n",
    "- JP_sales — продажи в Японии (миллионы долларов)\n",
    "- Other_sales — продажи в других странах (миллионы долларов)\n",
    "- Critic_Score — оценка критиков (максимум 100)\n",
    "- User_Score — оценка пользователей (максимум 10)\n",
    "- Rating — рейтинг от организации ESRB (англ. Entertainment Software Rating Board). Эта ассоциация определяет рейтинг компьютерных игр и присваивает им подходящую возрастную категорию.\n",
    "\n",
    "План работы над проектом:\n",
    "\n",
    "1. Просмотреть таблицу и выявить аномалии и пропущенные значения.\n",
    "2. Провести предобработку таблицы: замена столбцов, заполнение пропусков, удаление дубликатов и т.д.\n",
    "3. Провести анализ по данным и подготовить актуальные данные.\n",
    "4. Составить портреты пользователей для купных регионов продаж.\n",
    "5. Выполнить проверку гипотез.\n",
    "6. Оформить проект и сделать выводы по каждому шагу."
   ]
  },
  {
   "cell_type": "markdown",
   "metadata": {},
   "source": [
    "## Работа с таблицей и поиск аномалий"
   ]
  },
  {
   "cell_type": "code",
   "execution_count": 1,
   "metadata": {},
   "outputs": [],
   "source": [
    "import pandas as pd\n",
    "import copy\n",
    "import matplotlib.pyplot as plt \n",
    "import seaborn as sns\n",
    "from scipy import stats as st\n",
    "import numpy as np"
   ]
  },
  {
   "cell_type": "code",
   "execution_count": 2,
   "metadata": {},
   "outputs": [
    {
     "name": "stdout",
     "output_type": "stream",
     "text": [
      "<class 'pandas.core.frame.DataFrame'>\n",
      "RangeIndex: 16715 entries, 0 to 16714\n",
      "Data columns (total 11 columns):\n",
      "Name               16713 non-null object\n",
      "Platform           16715 non-null object\n",
      "Year_of_Release    16446 non-null float64\n",
      "Genre              16713 non-null object\n",
      "NA_sales           16715 non-null float64\n",
      "EU_sales           16715 non-null float64\n",
      "JP_sales           16715 non-null float64\n",
      "Other_sales        16715 non-null float64\n",
      "Critic_Score       8137 non-null float64\n",
      "User_Score         10014 non-null object\n",
      "Rating             9949 non-null object\n",
      "dtypes: float64(6), object(5)\n",
      "memory usage: 1.4+ MB\n"
     ]
    }
   ],
   "source": [
    "df = pd.read_csv('/datasets/games.csv')\n",
    "df.info()"
   ]
  },
  {
   "cell_type": "markdown",
   "metadata": {},
   "source": [
    "таблица состоит из 11 столбцов и 16715 строк. есть строки с пропусками"
   ]
  },
  {
   "cell_type": "markdown",
   "metadata": {},
   "source": [
    "## Предобработка данных"
   ]
  },
  {
   "cell_type": "code",
   "execution_count": 3,
   "metadata": {},
   "outputs": [
    {
     "name": "stdout",
     "output_type": "stream",
     "text": [
      "Index(['Name', 'Platform', 'Year_of_Release', 'Genre', 'NA_sales', 'EU_sales',\n",
      "       'JP_sales', 'Other_sales', 'Critic_Score', 'User_Score', 'Rating'],\n",
      "      dtype='object')\n",
      "Name\n",
      "\n",
      "Need for Speed: Most Wanted                     12\n",
      "Ratatouille                                      9\n",
      "FIFA 14                                          9\n",
      "LEGO Marvel Super Heroes                         9\n",
      "Madden NFL 07                                    9\n",
      "                                                ..\n",
      "Automobili Lamborghini                           1\n",
      "Medieval Moves: Deadmund's Quest                 1\n",
      "Silent Hunter III                                1\n",
      "Quiz Magic Academy DS: Futatsu no Jikuu Koku     1\n",
      "Hakuouki: Zuisouroku                             1\n",
      "Name: Name, Length: 11559, dtype: int64\n",
      "Platform\n",
      "\n",
      "PS2     2161\n",
      "DS      2151\n",
      "PS3     1331\n",
      "Wii     1320\n",
      "X360    1262\n",
      "PSP     1209\n",
      "PS      1197\n",
      "PC       974\n",
      "XB       824\n",
      "GBA      822\n",
      "GC       556\n",
      "3DS      520\n",
      "PSV      430\n",
      "PS4      392\n",
      "N64      319\n",
      "XOne     247\n",
      "SNES     239\n",
      "SAT      173\n",
      "WiiU     147\n",
      "2600     133\n",
      "GB        98\n",
      "NES       98\n",
      "DC        52\n",
      "GEN       29\n",
      "NG        12\n",
      "SCD        6\n",
      "WS         6\n",
      "3DO        3\n",
      "TG16       2\n",
      "GG         1\n",
      "PCFX       1\n",
      "Name: Platform, dtype: int64\n",
      "Year_of_Release\n",
      "\n",
      "2008.0    1427\n",
      "2009.0    1426\n",
      "2010.0    1255\n",
      "2007.0    1197\n",
      "2011.0    1136\n",
      "2006.0    1006\n",
      "2005.0     939\n",
      "2002.0     829\n",
      "2003.0     775\n",
      "2004.0     762\n",
      "2012.0     653\n",
      "2015.0     606\n",
      "2014.0     581\n",
      "2013.0     544\n",
      "2016.0     502\n",
      "2001.0     482\n",
      "1998.0     379\n",
      "2000.0     350\n",
      "1999.0     338\n",
      "1997.0     289\n",
      "1996.0     263\n",
      "1995.0     219\n",
      "1994.0     121\n",
      "1993.0      62\n",
      "1981.0      46\n",
      "1992.0      43\n",
      "1991.0      41\n",
      "1982.0      36\n",
      "1986.0      21\n",
      "1989.0      17\n",
      "1983.0      17\n",
      "1990.0      16\n",
      "1987.0      16\n",
      "1988.0      15\n",
      "1985.0      14\n",
      "1984.0      14\n",
      "1980.0       9\n",
      "Name: Year_of_Release, dtype: int64\n",
      "Genre\n",
      "\n",
      "Action          3369\n",
      "Sports          2348\n",
      "Misc            1750\n",
      "Role-Playing    1498\n",
      "Shooter         1323\n",
      "Adventure       1303\n",
      "Racing          1249\n",
      "Platform         888\n",
      "Simulation       873\n",
      "Fighting         849\n",
      "Strategy         683\n",
      "Puzzle           580\n",
      "Name: Genre, dtype: int64\n",
      "NA_sales\n",
      "\n",
      "0.00    4508\n",
      "0.02     576\n",
      "0.03     561\n",
      "0.04     549\n",
      "0.01     545\n",
      "        ... \n",
      "4.98       1\n",
      "4.21       1\n",
      "6.82       1\n",
      "5.05       1\n",
      "9.00       1\n",
      "Name: NA_sales, Length: 402, dtype: int64\n",
      "EU_sales\n",
      "\n",
      "0.00    5870\n",
      "0.01    1494\n",
      "0.02    1308\n",
      "0.03     926\n",
      "0.04     709\n",
      "        ... \n",
      "3.59       1\n",
      "4.02       1\n",
      "2.24       1\n",
      "2.27       1\n",
      "3.75       1\n",
      "Name: EU_sales, Length: 307, dtype: int64\n",
      "JP_sales\n",
      "\n",
      "0.00    10514\n",
      "0.02      741\n",
      "0.01      706\n",
      "0.03      546\n",
      "0.04      397\n",
      "        ...  \n",
      "1.16        1\n",
      "2.12        1\n",
      "7.20        1\n",
      "2.17        1\n",
      "6.50        1\n",
      "Name: JP_sales, Length: 244, dtype: int64\n",
      "Other_sales\n",
      "\n",
      "0.00    6601\n",
      "0.01    3464\n",
      "0.02    1618\n",
      "0.03     926\n",
      "0.04     654\n",
      "        ... \n",
      "0.96       1\n",
      "1.93       1\n",
      "0.97       1\n",
      "1.37       1\n",
      "1.06       1\n",
      "Name: Other_sales, Length: 155, dtype: int64\n",
      "Critic_Score\n",
      "\n",
      "70.0    256\n",
      "71.0    254\n",
      "75.0    245\n",
      "78.0    240\n",
      "73.0    238\n",
      "       ... \n",
      "20.0      3\n",
      "17.0      1\n",
      "22.0      1\n",
      "13.0      1\n",
      "21.0      1\n",
      "Name: Critic_Score, Length: 82, dtype: int64\n",
      "User_Score\n",
      "\n",
      "tbd    2424\n",
      "7.8     324\n",
      "8       290\n",
      "8.2     282\n",
      "8.3     254\n",
      "       ... \n",
      "1.9       2\n",
      "2.3       2\n",
      "0.2       2\n",
      "9.7       1\n",
      "0         1\n",
      "Name: User_Score, Length: 96, dtype: int64\n",
      "Rating\n",
      "\n",
      "E       3990\n",
      "T       2961\n",
      "M       1563\n",
      "E10+    1420\n",
      "EC         8\n",
      "RP         3\n",
      "K-A        3\n",
      "AO         1\n",
      "Name: Rating, dtype: int64\n"
     ]
    }
   ],
   "source": [
    "print(df.columns)\n",
    "#посмотрим значения в столбцах для выявления нестандартных значений и ошибок, \n",
    "for row in df:\n",
    "    print(row)\n",
    "    print()\n",
    "    print(df[row].value_counts())\n"
   ]
  },
  {
   "cell_type": "markdown",
   "metadata": {},
   "source": [
    "В столбце с Name есть повторения названиями игр. Они возникли из-за того что на каждую платформу есть такая игра. но надо проверить все ли верно. \n",
    "В столбце с продажами есть 0, значит данные игры не прдавались в этих регионах. \n",
    "Столбцы Year_of_Release имеет тип данных float64\n",
    "\n",
    "Все наши столбцы имеют разные регистры. необходимо привести их к единому регистру. "
   ]
  },
  {
   "cell_type": "code",
   "execution_count": 4,
   "metadata": {},
   "outputs": [],
   "source": [
    "df.columns = df.columns.str.lower()"
   ]
  },
  {
   "cell_type": "code",
   "execution_count": 5,
   "metadata": {},
   "outputs": [
    {
     "name": "stdout",
     "output_type": "stream",
     "text": [
      "False    16446\n",
      "True       269\n",
      "Name: year_of_release, dtype: int64\n",
      "False    16713\n",
      "True         2\n",
      "Name: name, dtype: int64\n",
      "False    16713\n",
      "True         2\n",
      "Name: genre, dtype: int64\n",
      "True     8578\n",
      "False    8137\n",
      "Name: critic_score, dtype: int64\n",
      "False    10014\n",
      "True      6701\n",
      "Name: user_score, dtype: int64\n",
      "False    9949\n",
      "True     6766\n",
      "Name: rating, dtype: int64\n"
     ]
    }
   ],
   "source": [
    "#далее нам необходимо найти и удалить пропуски  \n",
    "\n",
    "print(df['year_of_release'].isna().value_counts())\n",
    "print(df['name'].isna().value_counts())\n",
    "print(df['genre'].isna().value_counts())\n",
    "print(df['critic_score'].isna().value_counts())\n",
    "print(df['user_score'].isna().value_counts())\n",
    "print(df['rating'].isna().value_counts())"
   ]
  },
  {
   "cell_type": "code",
   "execution_count": 6,
   "metadata": {},
   "outputs": [
    {
     "name": "stdout",
     "output_type": "stream",
     "text": [
      "<class 'pandas.core.frame.DataFrame'>\n",
      "Int64Index: 16444 entries, 0 to 16714\n",
      "Data columns (total 11 columns):\n",
      "name               16444 non-null object\n",
      "platform           16444 non-null object\n",
      "year_of_release    16444 non-null float64\n",
      "genre              16444 non-null object\n",
      "na_sales           16444 non-null float64\n",
      "eu_sales           16444 non-null float64\n",
      "jp_sales           16444 non-null float64\n",
      "other_sales        16444 non-null float64\n",
      "critic_score       7983 non-null float64\n",
      "user_score         9839 non-null object\n",
      "rating             9768 non-null object\n",
      "dtypes: float64(6), object(5)\n",
      "memory usage: 1.5+ MB\n"
     ]
    }
   ],
   "source": [
    "df.dropna(subset=['name', 'genre', 'year_of_release'], inplace=True)\n",
    "df.info()"
   ]
  },
  {
   "cell_type": "code",
   "execution_count": 7,
   "metadata": {},
   "outputs": [
    {
     "name": "stdout",
     "output_type": "stream",
     "text": [
      "<class 'pandas.core.frame.DataFrame'>\n",
      "Int64Index: 16435 entries, 0 to 16714\n",
      "Data columns (total 11 columns):\n",
      "name               16435 non-null object\n",
      "platform           16435 non-null object\n",
      "year_of_release    16435 non-null int64\n",
      "genre              16435 non-null object\n",
      "na_sales           16435 non-null float64\n",
      "eu_sales           16435 non-null float64\n",
      "jp_sales           16435 non-null float64\n",
      "other_sales        16435 non-null float64\n",
      "critic_score       7983 non-null float64\n",
      "user_score         9839 non-null object\n",
      "rating             9768 non-null object\n",
      "dtypes: float64(5), int64(1), object(5)\n",
      "memory usage: 1.5+ MB\n"
     ]
    }
   ],
   "source": [
    "df = df.query('year_of_release > 1980')\n",
    "df['year_of_release'] = df['year_of_release'].astype('int')\n",
    "df.info()"
   ]
  },
  {
   "cell_type": "code",
   "execution_count": 8,
   "metadata": {},
   "outputs": [
    {
     "name": "stdout",
     "output_type": "stream",
     "text": [
      "<class 'pandas.core.frame.DataFrame'>\n",
      "Int64Index: 16435 entries, 0 to 16714\n",
      "Data columns (total 11 columns):\n",
      "name               16435 non-null object\n",
      "platform           16435 non-null object\n",
      "year_of_release    16435 non-null int64\n",
      "genre              16435 non-null object\n",
      "na_sales           16435 non-null float64\n",
      "eu_sales           16435 non-null float64\n",
      "jp_sales           16435 non-null float64\n",
      "other_sales        16435 non-null float64\n",
      "critic_score       7983 non-null float64\n",
      "user_score         9839 non-null object\n",
      "rating             9768 non-null object\n",
      "dtypes: float64(5), int64(1), object(5)\n",
      "memory usage: 1.5+ MB\n"
     ]
    }
   ],
   "source": [
    "df=df.drop_duplicates()\n",
    "df.info()"
   ]
  },
  {
   "cell_type": "markdown",
   "metadata": {},
   "source": [
    "Пропуски заполнить не получится, так как у нас будет совершенно некорректная выборка. \n",
    "У нас есть \"tbd\" в столбце user_score. это данные без оценки. их надо заменить на более понятные пропуски для нас. "
   ]
  },
  {
   "cell_type": "code",
   "execution_count": 9,
   "metadata": {},
   "outputs": [
    {
     "name": "stdout",
     "output_type": "stream",
     "text": [
      "<class 'pandas.core.frame.DataFrame'>\n",
      "Int64Index: 16435 entries, 0 to 16714\n",
      "Data columns (total 11 columns):\n",
      "name               16435 non-null object\n",
      "platform           16435 non-null object\n",
      "year_of_release    16435 non-null int64\n",
      "genre              16435 non-null object\n",
      "na_sales           16435 non-null float64\n",
      "eu_sales           16435 non-null float64\n",
      "jp_sales           16435 non-null float64\n",
      "other_sales        16435 non-null float64\n",
      "critic_score       7983 non-null float64\n",
      "user_score         7463 non-null float64\n",
      "rating             16435 non-null object\n",
      "dtypes: float64(6), int64(1), object(4)\n",
      "memory usage: 1.5+ MB\n"
     ]
    }
   ],
   "source": [
    "df.loc[df['user_score'] == 'tbd', 'user_score'] = float('NaN')\n",
    "df['user_score'].value_counts()\n",
    "df['rating']=df['rating'].fillna('unknown')\n",
    "df['user_score'] = df['user_score'].astype('float64')\n",
    "df.info()"
   ]
  },
  {
   "cell_type": "code",
   "execution_count": 10,
   "metadata": {},
   "outputs": [
    {
     "data": {
      "text/html": [
       "<div>\n",
       "<style scoped>\n",
       "    .dataframe tbody tr th:only-of-type {\n",
       "        vertical-align: middle;\n",
       "    }\n",
       "\n",
       "    .dataframe tbody tr th {\n",
       "        vertical-align: top;\n",
       "    }\n",
       "\n",
       "    .dataframe thead th {\n",
       "        text-align: right;\n",
       "    }\n",
       "</style>\n",
       "<table border=\"1\" class=\"dataframe\">\n",
       "  <thead>\n",
       "    <tr style=\"text-align: right;\">\n",
       "      <th></th>\n",
       "      <th>name</th>\n",
       "      <th>platform</th>\n",
       "      <th>year_of_release</th>\n",
       "      <th>genre</th>\n",
       "      <th>na_sales</th>\n",
       "      <th>eu_sales</th>\n",
       "      <th>jp_sales</th>\n",
       "      <th>other_sales</th>\n",
       "      <th>critic_score</th>\n",
       "      <th>user_score</th>\n",
       "      <th>rating</th>\n",
       "    </tr>\n",
       "  </thead>\n",
       "  <tbody>\n",
       "    <tr>\n",
       "      <td>0</td>\n",
       "      <td>Wii Sports</td>\n",
       "      <td>Wii</td>\n",
       "      <td>2006</td>\n",
       "      <td>Sports</td>\n",
       "      <td>41.36</td>\n",
       "      <td>28.96</td>\n",
       "      <td>3.77</td>\n",
       "      <td>8.45</td>\n",
       "      <td>76.0</td>\n",
       "      <td>8.0</td>\n",
       "      <td>E</td>\n",
       "    </tr>\n",
       "    <tr>\n",
       "      <td>1</td>\n",
       "      <td>Super Mario Bros.</td>\n",
       "      <td>NES</td>\n",
       "      <td>1985</td>\n",
       "      <td>Platform</td>\n",
       "      <td>29.08</td>\n",
       "      <td>3.58</td>\n",
       "      <td>6.81</td>\n",
       "      <td>0.77</td>\n",
       "      <td>NaN</td>\n",
       "      <td>NaN</td>\n",
       "      <td>unknown</td>\n",
       "    </tr>\n",
       "    <tr>\n",
       "      <td>2</td>\n",
       "      <td>Mario Kart Wii</td>\n",
       "      <td>Wii</td>\n",
       "      <td>2008</td>\n",
       "      <td>Racing</td>\n",
       "      <td>15.68</td>\n",
       "      <td>12.76</td>\n",
       "      <td>3.79</td>\n",
       "      <td>3.29</td>\n",
       "      <td>82.0</td>\n",
       "      <td>8.3</td>\n",
       "      <td>E</td>\n",
       "    </tr>\n",
       "    <tr>\n",
       "      <td>3</td>\n",
       "      <td>Wii Sports Resort</td>\n",
       "      <td>Wii</td>\n",
       "      <td>2009</td>\n",
       "      <td>Sports</td>\n",
       "      <td>15.61</td>\n",
       "      <td>10.93</td>\n",
       "      <td>3.28</td>\n",
       "      <td>2.95</td>\n",
       "      <td>80.0</td>\n",
       "      <td>8.0</td>\n",
       "      <td>E</td>\n",
       "    </tr>\n",
       "    <tr>\n",
       "      <td>4</td>\n",
       "      <td>Pokemon Red/Pokemon Blue</td>\n",
       "      <td>GB</td>\n",
       "      <td>1996</td>\n",
       "      <td>Role-Playing</td>\n",
       "      <td>11.27</td>\n",
       "      <td>8.89</td>\n",
       "      <td>10.22</td>\n",
       "      <td>1.00</td>\n",
       "      <td>NaN</td>\n",
       "      <td>NaN</td>\n",
       "      <td>unknown</td>\n",
       "    </tr>\n",
       "    <tr>\n",
       "      <td>...</td>\n",
       "      <td>...</td>\n",
       "      <td>...</td>\n",
       "      <td>...</td>\n",
       "      <td>...</td>\n",
       "      <td>...</td>\n",
       "      <td>...</td>\n",
       "      <td>...</td>\n",
       "      <td>...</td>\n",
       "      <td>...</td>\n",
       "      <td>...</td>\n",
       "      <td>...</td>\n",
       "    </tr>\n",
       "    <tr>\n",
       "      <td>16710</td>\n",
       "      <td>Samurai Warriors: Sanada Maru</td>\n",
       "      <td>PS3</td>\n",
       "      <td>2016</td>\n",
       "      <td>Action</td>\n",
       "      <td>0.00</td>\n",
       "      <td>0.00</td>\n",
       "      <td>0.01</td>\n",
       "      <td>0.00</td>\n",
       "      <td>NaN</td>\n",
       "      <td>NaN</td>\n",
       "      <td>unknown</td>\n",
       "    </tr>\n",
       "    <tr>\n",
       "      <td>16711</td>\n",
       "      <td>LMA Manager 2007</td>\n",
       "      <td>X360</td>\n",
       "      <td>2006</td>\n",
       "      <td>Sports</td>\n",
       "      <td>0.00</td>\n",
       "      <td>0.01</td>\n",
       "      <td>0.00</td>\n",
       "      <td>0.00</td>\n",
       "      <td>NaN</td>\n",
       "      <td>NaN</td>\n",
       "      <td>unknown</td>\n",
       "    </tr>\n",
       "    <tr>\n",
       "      <td>16712</td>\n",
       "      <td>Haitaka no Psychedelica</td>\n",
       "      <td>PSV</td>\n",
       "      <td>2016</td>\n",
       "      <td>Adventure</td>\n",
       "      <td>0.00</td>\n",
       "      <td>0.00</td>\n",
       "      <td>0.01</td>\n",
       "      <td>0.00</td>\n",
       "      <td>NaN</td>\n",
       "      <td>NaN</td>\n",
       "      <td>unknown</td>\n",
       "    </tr>\n",
       "    <tr>\n",
       "      <td>16713</td>\n",
       "      <td>Spirits &amp; Spells</td>\n",
       "      <td>GBA</td>\n",
       "      <td>2003</td>\n",
       "      <td>Platform</td>\n",
       "      <td>0.01</td>\n",
       "      <td>0.00</td>\n",
       "      <td>0.00</td>\n",
       "      <td>0.00</td>\n",
       "      <td>NaN</td>\n",
       "      <td>NaN</td>\n",
       "      <td>unknown</td>\n",
       "    </tr>\n",
       "    <tr>\n",
       "      <td>16714</td>\n",
       "      <td>Winning Post 8 2016</td>\n",
       "      <td>PSV</td>\n",
       "      <td>2016</td>\n",
       "      <td>Simulation</td>\n",
       "      <td>0.00</td>\n",
       "      <td>0.00</td>\n",
       "      <td>0.01</td>\n",
       "      <td>0.00</td>\n",
       "      <td>NaN</td>\n",
       "      <td>NaN</td>\n",
       "      <td>unknown</td>\n",
       "    </tr>\n",
       "  </tbody>\n",
       "</table>\n",
       "<p>16435 rows × 11 columns</p>\n",
       "</div>"
      ],
      "text/plain": [
       "                                name platform  year_of_release         genre  \\\n",
       "0                         Wii Sports      Wii             2006        Sports   \n",
       "1                  Super Mario Bros.      NES             1985      Platform   \n",
       "2                     Mario Kart Wii      Wii             2008        Racing   \n",
       "3                  Wii Sports Resort      Wii             2009        Sports   \n",
       "4           Pokemon Red/Pokemon Blue       GB             1996  Role-Playing   \n",
       "...                              ...      ...              ...           ...   \n",
       "16710  Samurai Warriors: Sanada Maru      PS3             2016        Action   \n",
       "16711               LMA Manager 2007     X360             2006        Sports   \n",
       "16712        Haitaka no Psychedelica      PSV             2016     Adventure   \n",
       "16713               Spirits & Spells      GBA             2003      Platform   \n",
       "16714            Winning Post 8 2016      PSV             2016    Simulation   \n",
       "\n",
       "       na_sales  eu_sales  jp_sales  other_sales  critic_score  user_score  \\\n",
       "0         41.36     28.96      3.77         8.45          76.0         8.0   \n",
       "1         29.08      3.58      6.81         0.77           NaN         NaN   \n",
       "2         15.68     12.76      3.79         3.29          82.0         8.3   \n",
       "3         15.61     10.93      3.28         2.95          80.0         8.0   \n",
       "4         11.27      8.89     10.22         1.00           NaN         NaN   \n",
       "...         ...       ...       ...          ...           ...         ...   \n",
       "16710      0.00      0.00      0.01         0.00           NaN         NaN   \n",
       "16711      0.00      0.01      0.00         0.00           NaN         NaN   \n",
       "16712      0.00      0.00      0.01         0.00           NaN         NaN   \n",
       "16713      0.01      0.00      0.00         0.00           NaN         NaN   \n",
       "16714      0.00      0.00      0.01         0.00           NaN         NaN   \n",
       "\n",
       "        rating  \n",
       "0            E  \n",
       "1      unknown  \n",
       "2            E  \n",
       "3            E  \n",
       "4      unknown  \n",
       "...        ...  \n",
       "16710  unknown  \n",
       "16711  unknown  \n",
       "16712  unknown  \n",
       "16713  unknown  \n",
       "16714  unknown  \n",
       "\n",
       "[16435 rows x 11 columns]"
      ]
     },
     "execution_count": 10,
     "metadata": {},
     "output_type": "execute_result"
    }
   ],
   "source": [
    "df[df['name'] == 'Need for Speed: Most Wanted' ]  \n",
    "df"
   ]
  },
  {
   "cell_type": "markdown",
   "metadata": {},
   "source": [
    "как видим дипликаты есть только в одной игре. скорее всего это случилось из-за того были разные релизы игры. "
   ]
  },
  {
   "cell_type": "code",
   "execution_count": 11,
   "metadata": {},
   "outputs": [
    {
     "data": {
      "text/html": [
       "<div>\n",
       "<style scoped>\n",
       "    .dataframe tbody tr th:only-of-type {\n",
       "        vertical-align: middle;\n",
       "    }\n",
       "\n",
       "    .dataframe tbody tr th {\n",
       "        vertical-align: top;\n",
       "    }\n",
       "\n",
       "    .dataframe thead th {\n",
       "        text-align: right;\n",
       "    }\n",
       "</style>\n",
       "<table border=\"1\" class=\"dataframe\">\n",
       "  <thead>\n",
       "    <tr style=\"text-align: right;\">\n",
       "      <th></th>\n",
       "      <th>name</th>\n",
       "      <th>platform</th>\n",
       "      <th>year_of_release</th>\n",
       "      <th>genre</th>\n",
       "      <th>na_sales</th>\n",
       "      <th>eu_sales</th>\n",
       "      <th>jp_sales</th>\n",
       "      <th>other_sales</th>\n",
       "      <th>critic_score</th>\n",
       "      <th>user_score</th>\n",
       "      <th>rating</th>\n",
       "      <th>total_sales</th>\n",
       "    </tr>\n",
       "  </thead>\n",
       "  <tbody>\n",
       "    <tr>\n",
       "      <td>0</td>\n",
       "      <td>Wii Sports</td>\n",
       "      <td>Wii</td>\n",
       "      <td>2006</td>\n",
       "      <td>Sports</td>\n",
       "      <td>41.36</td>\n",
       "      <td>28.96</td>\n",
       "      <td>3.77</td>\n",
       "      <td>8.45</td>\n",
       "      <td>76.0</td>\n",
       "      <td>8.0</td>\n",
       "      <td>E</td>\n",
       "      <td>82.54</td>\n",
       "    </tr>\n",
       "    <tr>\n",
       "      <td>1</td>\n",
       "      <td>Super Mario Bros.</td>\n",
       "      <td>NES</td>\n",
       "      <td>1985</td>\n",
       "      <td>Platform</td>\n",
       "      <td>29.08</td>\n",
       "      <td>3.58</td>\n",
       "      <td>6.81</td>\n",
       "      <td>0.77</td>\n",
       "      <td>NaN</td>\n",
       "      <td>NaN</td>\n",
       "      <td>unknown</td>\n",
       "      <td>40.24</td>\n",
       "    </tr>\n",
       "    <tr>\n",
       "      <td>2</td>\n",
       "      <td>Mario Kart Wii</td>\n",
       "      <td>Wii</td>\n",
       "      <td>2008</td>\n",
       "      <td>Racing</td>\n",
       "      <td>15.68</td>\n",
       "      <td>12.76</td>\n",
       "      <td>3.79</td>\n",
       "      <td>3.29</td>\n",
       "      <td>82.0</td>\n",
       "      <td>8.3</td>\n",
       "      <td>E</td>\n",
       "      <td>35.52</td>\n",
       "    </tr>\n",
       "    <tr>\n",
       "      <td>3</td>\n",
       "      <td>Wii Sports Resort</td>\n",
       "      <td>Wii</td>\n",
       "      <td>2009</td>\n",
       "      <td>Sports</td>\n",
       "      <td>15.61</td>\n",
       "      <td>10.93</td>\n",
       "      <td>3.28</td>\n",
       "      <td>2.95</td>\n",
       "      <td>80.0</td>\n",
       "      <td>8.0</td>\n",
       "      <td>E</td>\n",
       "      <td>32.77</td>\n",
       "    </tr>\n",
       "    <tr>\n",
       "      <td>4</td>\n",
       "      <td>Pokemon Red/Pokemon Blue</td>\n",
       "      <td>GB</td>\n",
       "      <td>1996</td>\n",
       "      <td>Role-Playing</td>\n",
       "      <td>11.27</td>\n",
       "      <td>8.89</td>\n",
       "      <td>10.22</td>\n",
       "      <td>1.00</td>\n",
       "      <td>NaN</td>\n",
       "      <td>NaN</td>\n",
       "      <td>unknown</td>\n",
       "      <td>31.38</td>\n",
       "    </tr>\n",
       "    <tr>\n",
       "      <td>...</td>\n",
       "      <td>...</td>\n",
       "      <td>...</td>\n",
       "      <td>...</td>\n",
       "      <td>...</td>\n",
       "      <td>...</td>\n",
       "      <td>...</td>\n",
       "      <td>...</td>\n",
       "      <td>...</td>\n",
       "      <td>...</td>\n",
       "      <td>...</td>\n",
       "      <td>...</td>\n",
       "      <td>...</td>\n",
       "    </tr>\n",
       "    <tr>\n",
       "      <td>16710</td>\n",
       "      <td>Samurai Warriors: Sanada Maru</td>\n",
       "      <td>PS3</td>\n",
       "      <td>2016</td>\n",
       "      <td>Action</td>\n",
       "      <td>0.00</td>\n",
       "      <td>0.00</td>\n",
       "      <td>0.01</td>\n",
       "      <td>0.00</td>\n",
       "      <td>NaN</td>\n",
       "      <td>NaN</td>\n",
       "      <td>unknown</td>\n",
       "      <td>0.01</td>\n",
       "    </tr>\n",
       "    <tr>\n",
       "      <td>16711</td>\n",
       "      <td>LMA Manager 2007</td>\n",
       "      <td>X360</td>\n",
       "      <td>2006</td>\n",
       "      <td>Sports</td>\n",
       "      <td>0.00</td>\n",
       "      <td>0.01</td>\n",
       "      <td>0.00</td>\n",
       "      <td>0.00</td>\n",
       "      <td>NaN</td>\n",
       "      <td>NaN</td>\n",
       "      <td>unknown</td>\n",
       "      <td>0.01</td>\n",
       "    </tr>\n",
       "    <tr>\n",
       "      <td>16712</td>\n",
       "      <td>Haitaka no Psychedelica</td>\n",
       "      <td>PSV</td>\n",
       "      <td>2016</td>\n",
       "      <td>Adventure</td>\n",
       "      <td>0.00</td>\n",
       "      <td>0.00</td>\n",
       "      <td>0.01</td>\n",
       "      <td>0.00</td>\n",
       "      <td>NaN</td>\n",
       "      <td>NaN</td>\n",
       "      <td>unknown</td>\n",
       "      <td>0.01</td>\n",
       "    </tr>\n",
       "    <tr>\n",
       "      <td>16713</td>\n",
       "      <td>Spirits &amp; Spells</td>\n",
       "      <td>GBA</td>\n",
       "      <td>2003</td>\n",
       "      <td>Platform</td>\n",
       "      <td>0.01</td>\n",
       "      <td>0.00</td>\n",
       "      <td>0.00</td>\n",
       "      <td>0.00</td>\n",
       "      <td>NaN</td>\n",
       "      <td>NaN</td>\n",
       "      <td>unknown</td>\n",
       "      <td>0.01</td>\n",
       "    </tr>\n",
       "    <tr>\n",
       "      <td>16714</td>\n",
       "      <td>Winning Post 8 2016</td>\n",
       "      <td>PSV</td>\n",
       "      <td>2016</td>\n",
       "      <td>Simulation</td>\n",
       "      <td>0.00</td>\n",
       "      <td>0.00</td>\n",
       "      <td>0.01</td>\n",
       "      <td>0.00</td>\n",
       "      <td>NaN</td>\n",
       "      <td>NaN</td>\n",
       "      <td>unknown</td>\n",
       "      <td>0.01</td>\n",
       "    </tr>\n",
       "  </tbody>\n",
       "</table>\n",
       "<p>16435 rows × 12 columns</p>\n",
       "</div>"
      ],
      "text/plain": [
       "                                name platform  year_of_release         genre  \\\n",
       "0                         Wii Sports      Wii             2006        Sports   \n",
       "1                  Super Mario Bros.      NES             1985      Platform   \n",
       "2                     Mario Kart Wii      Wii             2008        Racing   \n",
       "3                  Wii Sports Resort      Wii             2009        Sports   \n",
       "4           Pokemon Red/Pokemon Blue       GB             1996  Role-Playing   \n",
       "...                              ...      ...              ...           ...   \n",
       "16710  Samurai Warriors: Sanada Maru      PS3             2016        Action   \n",
       "16711               LMA Manager 2007     X360             2006        Sports   \n",
       "16712        Haitaka no Psychedelica      PSV             2016     Adventure   \n",
       "16713               Spirits & Spells      GBA             2003      Platform   \n",
       "16714            Winning Post 8 2016      PSV             2016    Simulation   \n",
       "\n",
       "       na_sales  eu_sales  jp_sales  other_sales  critic_score  user_score  \\\n",
       "0         41.36     28.96      3.77         8.45          76.0         8.0   \n",
       "1         29.08      3.58      6.81         0.77           NaN         NaN   \n",
       "2         15.68     12.76      3.79         3.29          82.0         8.3   \n",
       "3         15.61     10.93      3.28         2.95          80.0         8.0   \n",
       "4         11.27      8.89     10.22         1.00           NaN         NaN   \n",
       "...         ...       ...       ...          ...           ...         ...   \n",
       "16710      0.00      0.00      0.01         0.00           NaN         NaN   \n",
       "16711      0.00      0.01      0.00         0.00           NaN         NaN   \n",
       "16712      0.00      0.00      0.01         0.00           NaN         NaN   \n",
       "16713      0.01      0.00      0.00         0.00           NaN         NaN   \n",
       "16714      0.00      0.00      0.01         0.00           NaN         NaN   \n",
       "\n",
       "        rating  total_sales  \n",
       "0            E        82.54  \n",
       "1      unknown        40.24  \n",
       "2            E        35.52  \n",
       "3            E        32.77  \n",
       "4      unknown        31.38  \n",
       "...        ...          ...  \n",
       "16710  unknown         0.01  \n",
       "16711  unknown         0.01  \n",
       "16712  unknown         0.01  \n",
       "16713  unknown         0.01  \n",
       "16714  unknown         0.01  \n",
       "\n",
       "[16435 rows x 12 columns]"
      ]
     },
     "execution_count": 11,
     "metadata": {},
     "output_type": "execute_result"
    }
   ],
   "source": [
    "df['total_sales'] = df.apply(lambda row: sum(row[['na_sales','eu_sales','jp_sales','other_sales']]),axis =1)\n",
    "df"
   ]
  },
  {
   "cell_type": "markdown",
   "metadata": {},
   "source": [
    "****Вывод по шагу 2****\n",
    "- Замените названия столбцов (приведите к нижнему регистру); **Сделано**\n",
    "- Преобразуйте данные в нужные типы. Опишите, в каких столбцах заменили тип данных и почему; **Заменил тип данных в столбце с годом реализации, так как он имел тип с плавающей запятой. а у нас должно быть целое число.**\n",
    "- Обработайте пропуски при необходимости:\n",
    "\n",
    "\tОбъясните, почему заполнили пропуски определённым образом или почему не стали это делать; **Пропуски были удалены во всех столбцах, кроме тех что влияют на рейтинг. так как при удалении мы потеряем большой массив данных, а при замены на медиану или среднее число, эти жанные будут не корректны. так же заменили \"tbd\" на  Nan. чтобы программа понимала что это пропуски а не просто текст**\n",
    "    \n",
    "\tОпишите причины, которые могли привести к пропускам; **пропуски в столбцах Название, год и жанр появились из-за ошибок ввода данных**\n",
    "\tОбратите внимание на аббревиатуру 'tbd' в столбцах с рейтингом. Отдельно разберите это значение и опишите, как его обработать; **TBD - аббревиатура от английского To Be Determined (будет определено) или To Be Decided (будет решено). Используется, если какая-то информация еще не определена или решение по вопросу не принято. у нас данное значение в столбце с оценкой, что означает что данные еще не были подгружены или их мало для выставления каких-либо оценок**\n",
    "- Посчитайте суммарные продажи во всех регионах и запишите их в отдельный столбец. \n"
   ]
  },
  {
   "cell_type": "markdown",
   "metadata": {},
   "source": [
    " ## Проведите исследовательский анализ данных"
   ]
  },
  {
   "cell_type": "markdown",
   "metadata": {},
   "source": [
    "###\tПосмотрите, сколько игр выпускалось в разные годы. Важны ли данные за все периоды?"
   ]
  },
  {
   "cell_type": "code",
   "execution_count": 12,
   "metadata": {
    "scrolled": true
   },
   "outputs": [
    {
     "data": {
      "image/png": "[encoded data removed]",
      "text/plain": [
       "<Figure size 432x288 with 1 Axes>"
      ]
     },
     "metadata": {
      "needs_background": "light"
     },
     "output_type": "display_data"
    },
    {
     "data": {
      "text/html": [
       "<div>\n",
       "<style scoped>\n",
       "    .dataframe tbody tr th:only-of-type {\n",
       "        vertical-align: middle;\n",
       "    }\n",
       "\n",
       "    .dataframe tbody tr th {\n",
       "        vertical-align: top;\n",
       "    }\n",
       "\n",
       "    .dataframe thead th {\n",
       "        text-align: right;\n",
       "    }\n",
       "</style>\n",
       "<table border=\"1\" class=\"dataframe\">\n",
       "  <thead>\n",
       "    <tr style=\"text-align: right;\">\n",
       "      <th></th>\n",
       "      <th>name</th>\n",
       "    </tr>\n",
       "    <tr>\n",
       "      <th>year_of_release</th>\n",
       "      <th></th>\n",
       "    </tr>\n",
       "  </thead>\n",
       "  <tbody>\n",
       "    <tr>\n",
       "      <td>1981</td>\n",
       "      <td>46</td>\n",
       "    </tr>\n",
       "    <tr>\n",
       "      <td>1982</td>\n",
       "      <td>36</td>\n",
       "    </tr>\n",
       "    <tr>\n",
       "      <td>1983</td>\n",
       "      <td>17</td>\n",
       "    </tr>\n",
       "    <tr>\n",
       "      <td>1984</td>\n",
       "      <td>14</td>\n",
       "    </tr>\n",
       "    <tr>\n",
       "      <td>1985</td>\n",
       "      <td>14</td>\n",
       "    </tr>\n",
       "    <tr>\n",
       "      <td>1986</td>\n",
       "      <td>21</td>\n",
       "    </tr>\n",
       "    <tr>\n",
       "      <td>1987</td>\n",
       "      <td>16</td>\n",
       "    </tr>\n",
       "    <tr>\n",
       "      <td>1988</td>\n",
       "      <td>15</td>\n",
       "    </tr>\n",
       "    <tr>\n",
       "      <td>1989</td>\n",
       "      <td>17</td>\n",
       "    </tr>\n",
       "    <tr>\n",
       "      <td>1990</td>\n",
       "      <td>16</td>\n",
       "    </tr>\n",
       "    <tr>\n",
       "      <td>1991</td>\n",
       "      <td>41</td>\n",
       "    </tr>\n",
       "    <tr>\n",
       "      <td>1992</td>\n",
       "      <td>43</td>\n",
       "    </tr>\n",
       "    <tr>\n",
       "      <td>1993</td>\n",
       "      <td>60</td>\n",
       "    </tr>\n",
       "    <tr>\n",
       "      <td>1994</td>\n",
       "      <td>121</td>\n",
       "    </tr>\n",
       "    <tr>\n",
       "      <td>1995</td>\n",
       "      <td>219</td>\n",
       "    </tr>\n",
       "    <tr>\n",
       "      <td>1996</td>\n",
       "      <td>263</td>\n",
       "    </tr>\n",
       "    <tr>\n",
       "      <td>1997</td>\n",
       "      <td>289</td>\n",
       "    </tr>\n",
       "    <tr>\n",
       "      <td>1998</td>\n",
       "      <td>379</td>\n",
       "    </tr>\n",
       "    <tr>\n",
       "      <td>1999</td>\n",
       "      <td>338</td>\n",
       "    </tr>\n",
       "    <tr>\n",
       "      <td>2000</td>\n",
       "      <td>350</td>\n",
       "    </tr>\n",
       "    <tr>\n",
       "      <td>2001</td>\n",
       "      <td>482</td>\n",
       "    </tr>\n",
       "    <tr>\n",
       "      <td>2002</td>\n",
       "      <td>829</td>\n",
       "    </tr>\n",
       "    <tr>\n",
       "      <td>2003</td>\n",
       "      <td>775</td>\n",
       "    </tr>\n",
       "    <tr>\n",
       "      <td>2004</td>\n",
       "      <td>762</td>\n",
       "    </tr>\n",
       "    <tr>\n",
       "      <td>2005</td>\n",
       "      <td>939</td>\n",
       "    </tr>\n",
       "    <tr>\n",
       "      <td>2006</td>\n",
       "      <td>1006</td>\n",
       "    </tr>\n",
       "    <tr>\n",
       "      <td>2007</td>\n",
       "      <td>1197</td>\n",
       "    </tr>\n",
       "    <tr>\n",
       "      <td>2008</td>\n",
       "      <td>1427</td>\n",
       "    </tr>\n",
       "    <tr>\n",
       "      <td>2009</td>\n",
       "      <td>1426</td>\n",
       "    </tr>\n",
       "    <tr>\n",
       "      <td>2010</td>\n",
       "      <td>1255</td>\n",
       "    </tr>\n",
       "    <tr>\n",
       "      <td>2011</td>\n",
       "      <td>1136</td>\n",
       "    </tr>\n",
       "    <tr>\n",
       "      <td>2012</td>\n",
       "      <td>653</td>\n",
       "    </tr>\n",
       "    <tr>\n",
       "      <td>2013</td>\n",
       "      <td>544</td>\n",
       "    </tr>\n",
       "    <tr>\n",
       "      <td>2014</td>\n",
       "      <td>581</td>\n",
       "    </tr>\n",
       "    <tr>\n",
       "      <td>2015</td>\n",
       "      <td>606</td>\n",
       "    </tr>\n",
       "    <tr>\n",
       "      <td>2016</td>\n",
       "      <td>502</td>\n",
       "    </tr>\n",
       "  </tbody>\n",
       "</table>\n",
       "</div>"
      ],
      "text/plain": [
       "                 name\n",
       "year_of_release      \n",
       "1981               46\n",
       "1982               36\n",
       "1983               17\n",
       "1984               14\n",
       "1985               14\n",
       "1986               21\n",
       "1987               16\n",
       "1988               15\n",
       "1989               17\n",
       "1990               16\n",
       "1991               41\n",
       "1992               43\n",
       "1993               60\n",
       "1994              121\n",
       "1995              219\n",
       "1996              263\n",
       "1997              289\n",
       "1998              379\n",
       "1999              338\n",
       "2000              350\n",
       "2001              482\n",
       "2002              829\n",
       "2003              775\n",
       "2004              762\n",
       "2005              939\n",
       "2006             1006\n",
       "2007             1197\n",
       "2008             1427\n",
       "2009             1426\n",
       "2010             1255\n",
       "2011             1136\n",
       "2012              653\n",
       "2013              544\n",
       "2014              581\n",
       "2015              606\n",
       "2016              502"
      ]
     },
     "execution_count": 12,
     "metadata": {},
     "output_type": "execute_result"
    }
   ],
   "source": [
    "years_groupby = df.groupby('year_of_release').agg({'name':'count'})\n",
    "years_groupby.plot()\n",
    "plt.xlabel('Год продажи')\n",
    "plt.ylabel('Кол-во проданных игр')\n",
    "plt.show()\n",
    "years_groupby"
   ]
  },
  {
   "cell_type": "markdown",
   "metadata": {},
   "source": [
    "Пик выхода игр приходится 2009 год. думаю что важны данные начиная с 1995 года. Когда выпуск игр стал более 200 млн экз. "
   ]
  },
  {
   "cell_type": "markdown",
   "metadata": {},
   "source": [
    "###\tПосмотрите, как менялись продажи по платформам. Выберите платформы с наибольшими суммарными продажами и постройте распределение по годам. За какой характерный срок появляются новые и исчезают старые платформы?"
   ]
  },
  {
   "cell_type": "code",
   "execution_count": 13,
   "metadata": {},
   "outputs": [
    {
     "data": {
      "text/html": [
       "<div>\n",
       "<style scoped>\n",
       "    .dataframe tbody tr th:only-of-type {\n",
       "        vertical-align: middle;\n",
       "    }\n",
       "\n",
       "    .dataframe tbody tr th {\n",
       "        vertical-align: top;\n",
       "    }\n",
       "\n",
       "    .dataframe thead th {\n",
       "        text-align: right;\n",
       "    }\n",
       "</style>\n",
       "<table border=\"1\" class=\"dataframe\">\n",
       "  <thead>\n",
       "    <tr style=\"text-align: right;\">\n",
       "      <th></th>\n",
       "      <th>total_sales</th>\n",
       "    </tr>\n",
       "    <tr>\n",
       "      <th>platform</th>\n",
       "      <th></th>\n",
       "    </tr>\n",
       "  </thead>\n",
       "  <tbody>\n",
       "    <tr>\n",
       "      <td>PS2</td>\n",
       "      <td>1233.56</td>\n",
       "    </tr>\n",
       "    <tr>\n",
       "      <td>X360</td>\n",
       "      <td>961.24</td>\n",
       "    </tr>\n",
       "    <tr>\n",
       "      <td>PS3</td>\n",
       "      <td>931.34</td>\n",
       "    </tr>\n",
       "    <tr>\n",
       "      <td>Wii</td>\n",
       "      <td>891.18</td>\n",
       "    </tr>\n",
       "    <tr>\n",
       "      <td>DS</td>\n",
       "      <td>802.78</td>\n",
       "    </tr>\n",
       "    <tr>\n",
       "      <td>PS</td>\n",
       "      <td>727.58</td>\n",
       "    </tr>\n",
       "    <tr>\n",
       "      <td>PS4</td>\n",
       "      <td>314.14</td>\n",
       "    </tr>\n",
       "    <tr>\n",
       "      <td>GBA</td>\n",
       "      <td>312.88</td>\n",
       "    </tr>\n",
       "    <tr>\n",
       "      <td>PSP</td>\n",
       "      <td>289.53</td>\n",
       "    </tr>\n",
       "    <tr>\n",
       "      <td>3DS</td>\n",
       "      <td>257.81</td>\n",
       "    </tr>\n",
       "    <tr>\n",
       "      <td>PC</td>\n",
       "      <td>255.76</td>\n",
       "    </tr>\n",
       "    <tr>\n",
       "      <td>GB</td>\n",
       "      <td>254.43</td>\n",
       "    </tr>\n",
       "    <tr>\n",
       "      <td>XB</td>\n",
       "      <td>251.57</td>\n",
       "    </tr>\n",
       "    <tr>\n",
       "      <td>NES</td>\n",
       "      <td>251.05</td>\n",
       "    </tr>\n",
       "    <tr>\n",
       "      <td>N64</td>\n",
       "      <td>218.01</td>\n",
       "    </tr>\n",
       "    <tr>\n",
       "      <td>SNES</td>\n",
       "      <td>200.04</td>\n",
       "    </tr>\n",
       "    <tr>\n",
       "      <td>GC</td>\n",
       "      <td>196.73</td>\n",
       "    </tr>\n",
       "    <tr>\n",
       "      <td>XOne</td>\n",
       "      <td>159.32</td>\n",
       "    </tr>\n",
       "    <tr>\n",
       "      <td>WiiU</td>\n",
       "      <td>82.19</td>\n",
       "    </tr>\n",
       "    <tr>\n",
       "      <td>2600</td>\n",
       "      <td>75.10</td>\n",
       "    </tr>\n",
       "    <tr>\n",
       "      <td>PSV</td>\n",
       "      <td>53.81</td>\n",
       "    </tr>\n",
       "    <tr>\n",
       "      <td>SAT</td>\n",
       "      <td>33.59</td>\n",
       "    </tr>\n",
       "    <tr>\n",
       "      <td>GEN</td>\n",
       "      <td>28.35</td>\n",
       "    </tr>\n",
       "    <tr>\n",
       "      <td>DC</td>\n",
       "      <td>15.95</td>\n",
       "    </tr>\n",
       "    <tr>\n",
       "      <td>SCD</td>\n",
       "      <td>1.86</td>\n",
       "    </tr>\n",
       "    <tr>\n",
       "      <td>NG</td>\n",
       "      <td>1.44</td>\n",
       "    </tr>\n",
       "    <tr>\n",
       "      <td>WS</td>\n",
       "      <td>1.42</td>\n",
       "    </tr>\n",
       "    <tr>\n",
       "      <td>TG16</td>\n",
       "      <td>0.16</td>\n",
       "    </tr>\n",
       "    <tr>\n",
       "      <td>3DO</td>\n",
       "      <td>0.10</td>\n",
       "    </tr>\n",
       "    <tr>\n",
       "      <td>GG</td>\n",
       "      <td>0.04</td>\n",
       "    </tr>\n",
       "    <tr>\n",
       "      <td>PCFX</td>\n",
       "      <td>0.03</td>\n",
       "    </tr>\n",
       "  </tbody>\n",
       "</table>\n",
       "</div>"
      ],
      "text/plain": [
       "          total_sales\n",
       "platform             \n",
       "PS2           1233.56\n",
       "X360           961.24\n",
       "PS3            931.34\n",
       "Wii            891.18\n",
       "DS             802.78\n",
       "PS             727.58\n",
       "PS4            314.14\n",
       "GBA            312.88\n",
       "PSP            289.53\n",
       "3DS            257.81\n",
       "PC             255.76\n",
       "GB             254.43\n",
       "XB             251.57\n",
       "NES            251.05\n",
       "N64            218.01\n",
       "SNES           200.04\n",
       "GC             196.73\n",
       "XOne           159.32\n",
       "WiiU            82.19\n",
       "2600            75.10\n",
       "PSV             53.81\n",
       "SAT             33.59\n",
       "GEN             28.35\n",
       "DC              15.95\n",
       "SCD              1.86\n",
       "NG               1.44\n",
       "WS               1.42\n",
       "TG16             0.16\n",
       "3DO              0.10\n",
       "GG               0.04\n",
       "PCFX             0.03"
      ]
     },
     "execution_count": 13,
     "metadata": {},
     "output_type": "execute_result"
    }
   ],
   "source": [
    "platforms_groupby = df.groupby('platform').agg({'total_sales':'sum'})\n",
    "best_platforms_groupby=platforms_groupby.sort_values('total_sales', ascending = False)\n",
    "best_platforms_groupby"
   ]
  },
  {
   "cell_type": "code",
   "execution_count": 14,
   "metadata": {},
   "outputs": [
    {
     "data": {
      "text/plain": [
       "['PS2', 'X360', 'PS3', 'Wii', 'DS']"
      ]
     },
     "execution_count": 14,
     "metadata": {},
     "output_type": "execute_result"
    }
   ],
   "source": [
    "best_platforms_groupby = list(best_platforms_groupby.index[:5])\n",
    "best_platforms_groupby"
   ]
  },
  {
   "cell_type": "code",
   "execution_count": 15,
   "metadata": {},
   "outputs": [
    {
     "data": {
      "image/png": "[encoded data removed]",
      "text/plain": [
       "<Figure size 1080x360 with 1 Axes>"
      ]
     },
     "metadata": {
      "needs_background": "light"
     },
     "output_type": "display_data"
    },
    {
     "data": {
      "image/png": "[encoded data removed]",
      "text/plain": [
       "<Figure size 1080x360 with 1 Axes>"
      ]
     },
     "metadata": {
      "needs_background": "light"
     },
     "output_type": "display_data"
    },
    {
     "data": {
      "image/png": "[encoded data removed]",
      "text/plain": [
       "<Figure size 1080x360 with 1 Axes>"
      ]
     },
     "metadata": {
      "needs_background": "light"
     },
     "output_type": "display_data"
    },
    {
     "data": {
      "image/png": "[encoded data removed]",
      "text/plain": [
       "<Figure size 1080x360 with 1 Axes>"
      ]
     },
     "metadata": {
      "needs_background": "light"
     },
     "output_type": "display_data"
    },
    {
     "data": {
      "image/png": "[encoded data removed]",
      "text/plain": [
       "<Figure size 1080x360 with 1 Axes>"
      ]
     },
     "metadata": {
      "needs_background": "light"
     },
     "output_type": "display_data"
    }
   ],
   "source": [
    "for platform in best_platforms_groupby:\n",
    "    df[df['platform'] == platform].pivot_table(index='year_of_release', values='total_sales', aggfunc='sum').plot(kind='bar', figsize=(15,5))\n",
    "    plt.title(platform)"
   ]
  },
  {
   "cell_type": "code",
   "execution_count": 116,
   "metadata": {},
   "outputs": [
    {
     "name": "stdout",
     "output_type": "stream",
     "text": [
      "Средняя продолжительность продажи платформ: 7.645161290322581\n"
     ]
    },
    {
     "data": {
      "text/html": [
       "<div>\n",
       "<style scoped>\n",
       "    .dataframe tbody tr th:only-of-type {\n",
       "        vertical-align: middle;\n",
       "    }\n",
       "\n",
       "    .dataframe tbody tr th {\n",
       "        vertical-align: top;\n",
       "    }\n",
       "\n",
       "    .dataframe thead th {\n",
       "        text-align: right;\n",
       "    }\n",
       "</style>\n",
       "<table border=\"1\" class=\"dataframe\">\n",
       "  <thead>\n",
       "    <tr style=\"text-align: right;\">\n",
       "      <th></th>\n",
       "      <th>duration_sales_in_year</th>\n",
       "    </tr>\n",
       "  </thead>\n",
       "  <tbody>\n",
       "    <tr>\n",
       "      <td>count</td>\n",
       "      <td>31.000000</td>\n",
       "    </tr>\n",
       "    <tr>\n",
       "      <td>mean</td>\n",
       "      <td>7.645161</td>\n",
       "    </tr>\n",
       "    <tr>\n",
       "      <td>std</td>\n",
       "      <td>5.069835</td>\n",
       "    </tr>\n",
       "    <tr>\n",
       "      <td>min</td>\n",
       "      <td>1.000000</td>\n",
       "    </tr>\n",
       "    <tr>\n",
       "      <td>25%</td>\n",
       "      <td>4.000000</td>\n",
       "    </tr>\n",
       "    <tr>\n",
       "      <td>50%</td>\n",
       "      <td>7.000000</td>\n",
       "    </tr>\n",
       "    <tr>\n",
       "      <td>75%</td>\n",
       "      <td>11.000000</td>\n",
       "    </tr>\n",
       "    <tr>\n",
       "      <td>max</td>\n",
       "      <td>26.000000</td>\n",
       "    </tr>\n",
       "  </tbody>\n",
       "</table>\n",
       "</div>"
      ],
      "text/plain": [
       "       duration_sales_in_year\n",
       "count               31.000000\n",
       "mean                 7.645161\n",
       "std                  5.069835\n",
       "min                  1.000000\n",
       "25%                  4.000000\n",
       "50%                  7.000000\n",
       "75%                 11.000000\n",
       "max                 26.000000"
      ]
     },
     "execution_count": 116,
     "metadata": {},
     "output_type": "execute_result"
    },
    {
     "data": {
      "image/png": "[encoded data removed]",
      "text/plain": [
       "<Figure size 1080x504 with 1 Axes>"
      ]
     },
     "metadata": {
      "needs_background": "light"
     },
     "output_type": "display_data"
    }
   ],
   "source": [
    "duration = pd.pivot_table(df, index=[ 'platform', 'year_of_release' ], \n",
    "                                     values='name', aggfunc = 'count')\n",
    "dur_plat=pd.pivot_table(duration, index=['platform'],values='name', aggfunc = 'count').sort_values('name', ascending = False)\n",
    "dur_plat.plot(kind='bar', figsize=(15, 7))\n",
    "\n",
    "dur_plat.rename(columns={'name': 'duration_sales_in_year'}, inplace=True)\n",
    "print('Средняя продолжительность продажи платформ:',dur_plat['duration_sales_in_year'].mean())\n",
    "\n",
    "dur_plat.describe()"
   ]
  },
  {
   "cell_type": "markdown",
   "metadata": {},
   "source": [
    "среднее время продолжительности жизни платформы 7,6 лет. минимальная 1 год а макисмальная 26"
   ]
  },
  {
   "cell_type": "markdown",
   "metadata": {},
   "source": [
    "### Возьмите данные за соответствующий актуальный период. Актуальный период определите самостоятельно в результате исследования предыдущих вопросов. Основной фактор — эти данные помогут построить прогноз на 2017 год"
   ]
  },
  {
   "cell_type": "markdown",
   "metadata": {},
   "source": [
    "За актуальный период возьмем 2013-2016 год. "
   ]
  },
  {
   "cell_type": "code",
   "execution_count": 16,
   "metadata": {},
   "outputs": [
    {
     "data": {
      "text/html": [
       "<div>\n",
       "<style scoped>\n",
       "    .dataframe tbody tr th:only-of-type {\n",
       "        vertical-align: middle;\n",
       "    }\n",
       "\n",
       "    .dataframe tbody tr th {\n",
       "        vertical-align: top;\n",
       "    }\n",
       "\n",
       "    .dataframe thead th {\n",
       "        text-align: right;\n",
       "    }\n",
       "</style>\n",
       "<table border=\"1\" class=\"dataframe\">\n",
       "  <thead>\n",
       "    <tr style=\"text-align: right;\">\n",
       "      <th></th>\n",
       "      <th>name</th>\n",
       "      <th>platform</th>\n",
       "      <th>year_of_release</th>\n",
       "      <th>genre</th>\n",
       "      <th>na_sales</th>\n",
       "      <th>eu_sales</th>\n",
       "      <th>jp_sales</th>\n",
       "      <th>other_sales</th>\n",
       "      <th>critic_score</th>\n",
       "      <th>user_score</th>\n",
       "      <th>rating</th>\n",
       "      <th>total_sales</th>\n",
       "    </tr>\n",
       "  </thead>\n",
       "  <tbody>\n",
       "    <tr>\n",
       "      <td>16</td>\n",
       "      <td>Grand Theft Auto V</td>\n",
       "      <td>PS3</td>\n",
       "      <td>2013</td>\n",
       "      <td>Action</td>\n",
       "      <td>7.02</td>\n",
       "      <td>9.09</td>\n",
       "      <td>0.98</td>\n",
       "      <td>3.96</td>\n",
       "      <td>97.0</td>\n",
       "      <td>8.2</td>\n",
       "      <td>M</td>\n",
       "      <td>21.05</td>\n",
       "    </tr>\n",
       "    <tr>\n",
       "      <td>23</td>\n",
       "      <td>Grand Theft Auto V</td>\n",
       "      <td>X360</td>\n",
       "      <td>2013</td>\n",
       "      <td>Action</td>\n",
       "      <td>9.66</td>\n",
       "      <td>5.14</td>\n",
       "      <td>0.06</td>\n",
       "      <td>1.41</td>\n",
       "      <td>97.0</td>\n",
       "      <td>8.1</td>\n",
       "      <td>M</td>\n",
       "      <td>16.27</td>\n",
       "    </tr>\n",
       "    <tr>\n",
       "      <td>31</td>\n",
       "      <td>Call of Duty: Black Ops 3</td>\n",
       "      <td>PS4</td>\n",
       "      <td>2015</td>\n",
       "      <td>Shooter</td>\n",
       "      <td>6.03</td>\n",
       "      <td>5.86</td>\n",
       "      <td>0.36</td>\n",
       "      <td>2.38</td>\n",
       "      <td>NaN</td>\n",
       "      <td>NaN</td>\n",
       "      <td>unknown</td>\n",
       "      <td>14.63</td>\n",
       "    </tr>\n",
       "    <tr>\n",
       "      <td>33</td>\n",
       "      <td>Pokemon X/Pokemon Y</td>\n",
       "      <td>3DS</td>\n",
       "      <td>2013</td>\n",
       "      <td>Role-Playing</td>\n",
       "      <td>5.28</td>\n",
       "      <td>4.19</td>\n",
       "      <td>4.35</td>\n",
       "      <td>0.78</td>\n",
       "      <td>NaN</td>\n",
       "      <td>NaN</td>\n",
       "      <td>unknown</td>\n",
       "      <td>14.60</td>\n",
       "    </tr>\n",
       "    <tr>\n",
       "      <td>42</td>\n",
       "      <td>Grand Theft Auto V</td>\n",
       "      <td>PS4</td>\n",
       "      <td>2014</td>\n",
       "      <td>Action</td>\n",
       "      <td>3.96</td>\n",
       "      <td>6.31</td>\n",
       "      <td>0.38</td>\n",
       "      <td>1.97</td>\n",
       "      <td>97.0</td>\n",
       "      <td>8.3</td>\n",
       "      <td>M</td>\n",
       "      <td>12.62</td>\n",
       "    </tr>\n",
       "    <tr>\n",
       "      <td>...</td>\n",
       "      <td>...</td>\n",
       "      <td>...</td>\n",
       "      <td>...</td>\n",
       "      <td>...</td>\n",
       "      <td>...</td>\n",
       "      <td>...</td>\n",
       "      <td>...</td>\n",
       "      <td>...</td>\n",
       "      <td>...</td>\n",
       "      <td>...</td>\n",
       "      <td>...</td>\n",
       "      <td>...</td>\n",
       "    </tr>\n",
       "    <tr>\n",
       "      <td>16703</td>\n",
       "      <td>Strawberry Nauts</td>\n",
       "      <td>PSV</td>\n",
       "      <td>2016</td>\n",
       "      <td>Adventure</td>\n",
       "      <td>0.00</td>\n",
       "      <td>0.00</td>\n",
       "      <td>0.01</td>\n",
       "      <td>0.00</td>\n",
       "      <td>NaN</td>\n",
       "      <td>NaN</td>\n",
       "      <td>unknown</td>\n",
       "      <td>0.01</td>\n",
       "    </tr>\n",
       "    <tr>\n",
       "      <td>16707</td>\n",
       "      <td>Aiyoku no Eustia</td>\n",
       "      <td>PSV</td>\n",
       "      <td>2014</td>\n",
       "      <td>Misc</td>\n",
       "      <td>0.00</td>\n",
       "      <td>0.00</td>\n",
       "      <td>0.01</td>\n",
       "      <td>0.00</td>\n",
       "      <td>NaN</td>\n",
       "      <td>NaN</td>\n",
       "      <td>unknown</td>\n",
       "      <td>0.01</td>\n",
       "    </tr>\n",
       "    <tr>\n",
       "      <td>16710</td>\n",
       "      <td>Samurai Warriors: Sanada Maru</td>\n",
       "      <td>PS3</td>\n",
       "      <td>2016</td>\n",
       "      <td>Action</td>\n",
       "      <td>0.00</td>\n",
       "      <td>0.00</td>\n",
       "      <td>0.01</td>\n",
       "      <td>0.00</td>\n",
       "      <td>NaN</td>\n",
       "      <td>NaN</td>\n",
       "      <td>unknown</td>\n",
       "      <td>0.01</td>\n",
       "    </tr>\n",
       "    <tr>\n",
       "      <td>16712</td>\n",
       "      <td>Haitaka no Psychedelica</td>\n",
       "      <td>PSV</td>\n",
       "      <td>2016</td>\n",
       "      <td>Adventure</td>\n",
       "      <td>0.00</td>\n",
       "      <td>0.00</td>\n",
       "      <td>0.01</td>\n",
       "      <td>0.00</td>\n",
       "      <td>NaN</td>\n",
       "      <td>NaN</td>\n",
       "      <td>unknown</td>\n",
       "      <td>0.01</td>\n",
       "    </tr>\n",
       "    <tr>\n",
       "      <td>16714</td>\n",
       "      <td>Winning Post 8 2016</td>\n",
       "      <td>PSV</td>\n",
       "      <td>2016</td>\n",
       "      <td>Simulation</td>\n",
       "      <td>0.00</td>\n",
       "      <td>0.00</td>\n",
       "      <td>0.01</td>\n",
       "      <td>0.00</td>\n",
       "      <td>NaN</td>\n",
       "      <td>NaN</td>\n",
       "      <td>unknown</td>\n",
       "      <td>0.01</td>\n",
       "    </tr>\n",
       "  </tbody>\n",
       "</table>\n",
       "<p>2233 rows × 12 columns</p>\n",
       "</div>"
      ],
      "text/plain": [
       "                                name platform  year_of_release         genre  \\\n",
       "16                Grand Theft Auto V      PS3             2013        Action   \n",
       "23                Grand Theft Auto V     X360             2013        Action   \n",
       "31         Call of Duty: Black Ops 3      PS4             2015       Shooter   \n",
       "33               Pokemon X/Pokemon Y      3DS             2013  Role-Playing   \n",
       "42                Grand Theft Auto V      PS4             2014        Action   \n",
       "...                              ...      ...              ...           ...   \n",
       "16703               Strawberry Nauts      PSV             2016     Adventure   \n",
       "16707               Aiyoku no Eustia      PSV             2014          Misc   \n",
       "16710  Samurai Warriors: Sanada Maru      PS3             2016        Action   \n",
       "16712        Haitaka no Psychedelica      PSV             2016     Adventure   \n",
       "16714            Winning Post 8 2016      PSV             2016    Simulation   \n",
       "\n",
       "       na_sales  eu_sales  jp_sales  other_sales  critic_score  user_score  \\\n",
       "16         7.02      9.09      0.98         3.96          97.0         8.2   \n",
       "23         9.66      5.14      0.06         1.41          97.0         8.1   \n",
       "31         6.03      5.86      0.36         2.38           NaN         NaN   \n",
       "33         5.28      4.19      4.35         0.78           NaN         NaN   \n",
       "42         3.96      6.31      0.38         1.97          97.0         8.3   \n",
       "...         ...       ...       ...          ...           ...         ...   \n",
       "16703      0.00      0.00      0.01         0.00           NaN         NaN   \n",
       "16707      0.00      0.00      0.01         0.00           NaN         NaN   \n",
       "16710      0.00      0.00      0.01         0.00           NaN         NaN   \n",
       "16712      0.00      0.00      0.01         0.00           NaN         NaN   \n",
       "16714      0.00      0.00      0.01         0.00           NaN         NaN   \n",
       "\n",
       "        rating  total_sales  \n",
       "16           M        21.05  \n",
       "23           M        16.27  \n",
       "31     unknown        14.63  \n",
       "33     unknown        14.60  \n",
       "42           M        12.62  \n",
       "...        ...          ...  \n",
       "16703  unknown         0.01  \n",
       "16707  unknown         0.01  \n",
       "16710  unknown         0.01  \n",
       "16712  unknown         0.01  \n",
       "16714  unknown         0.01  \n",
       "\n",
       "[2233 rows x 12 columns]"
      ]
     },
     "execution_count": 16,
     "metadata": {},
     "output_type": "execute_result"
    }
   ],
   "source": [
    "actual_df = df.query('year_of_release >= 2013')\n",
    "actual_df"
   ]
  },
  {
   "cell_type": "markdown",
   "metadata": {},
   "source": [
    "по актуальным данным видно что в нашу выборку попало 2233 строки. "
   ]
  },
  {
   "cell_type": "markdown",
   "metadata": {},
   "source": [
    "###\tКакие платформы лидируют по продажам, растут или падают"
   ]
  },
  {
   "cell_type": "code",
   "execution_count": 17,
   "metadata": {},
   "outputs": [
    {
     "data": {
      "text/html": [
       "<div>\n",
       "<style scoped>\n",
       "    .dataframe tbody tr th:only-of-type {\n",
       "        vertical-align: middle;\n",
       "    }\n",
       "\n",
       "    .dataframe tbody tr th {\n",
       "        vertical-align: top;\n",
       "    }\n",
       "\n",
       "    .dataframe thead th {\n",
       "        text-align: right;\n",
       "    }\n",
       "</style>\n",
       "<table border=\"1\" class=\"dataframe\">\n",
       "  <thead>\n",
       "    <tr style=\"text-align: right;\">\n",
       "      <th></th>\n",
       "      <th></th>\n",
       "      <th>total_sales</th>\n",
       "    </tr>\n",
       "    <tr>\n",
       "      <th>platform</th>\n",
       "      <th>year_of_release</th>\n",
       "      <th></th>\n",
       "    </tr>\n",
       "  </thead>\n",
       "  <tbody>\n",
       "    <tr>\n",
       "      <td rowspan=\"4\" valign=\"top\">3DS</td>\n",
       "      <td>2013</td>\n",
       "      <td>56.57</td>\n",
       "    </tr>\n",
       "    <tr>\n",
       "      <td>2014</td>\n",
       "      <td>43.76</td>\n",
       "    </tr>\n",
       "    <tr>\n",
       "      <td>2015</td>\n",
       "      <td>27.78</td>\n",
       "    </tr>\n",
       "    <tr>\n",
       "      <td>2016</td>\n",
       "      <td>15.14</td>\n",
       "    </tr>\n",
       "    <tr>\n",
       "      <td>DS</td>\n",
       "      <td>2013</td>\n",
       "      <td>1.54</td>\n",
       "    </tr>\n",
       "    <tr>\n",
       "      <td rowspan=\"4\" valign=\"top\">PC</td>\n",
       "      <td>2013</td>\n",
       "      <td>12.38</td>\n",
       "    </tr>\n",
       "    <tr>\n",
       "      <td>2014</td>\n",
       "      <td>13.28</td>\n",
       "    </tr>\n",
       "    <tr>\n",
       "      <td>2015</td>\n",
       "      <td>8.52</td>\n",
       "    </tr>\n",
       "    <tr>\n",
       "      <td>2016</td>\n",
       "      <td>5.25</td>\n",
       "    </tr>\n",
       "    <tr>\n",
       "      <td rowspan=\"4\" valign=\"top\">PS3</td>\n",
       "      <td>2013</td>\n",
       "      <td>113.25</td>\n",
       "    </tr>\n",
       "    <tr>\n",
       "      <td>2014</td>\n",
       "      <td>47.76</td>\n",
       "    </tr>\n",
       "    <tr>\n",
       "      <td>2015</td>\n",
       "      <td>16.82</td>\n",
       "    </tr>\n",
       "    <tr>\n",
       "      <td>2016</td>\n",
       "      <td>3.60</td>\n",
       "    </tr>\n",
       "    <tr>\n",
       "      <td rowspan=\"4\" valign=\"top\">PS4</td>\n",
       "      <td>2013</td>\n",
       "      <td>25.99</td>\n",
       "    </tr>\n",
       "    <tr>\n",
       "      <td>2014</td>\n",
       "      <td>100.00</td>\n",
       "    </tr>\n",
       "    <tr>\n",
       "      <td>2015</td>\n",
       "      <td>118.90</td>\n",
       "    </tr>\n",
       "    <tr>\n",
       "      <td>2016</td>\n",
       "      <td>69.25</td>\n",
       "    </tr>\n",
       "    <tr>\n",
       "      <td rowspan=\"3\" valign=\"top\">PSP</td>\n",
       "      <td>2013</td>\n",
       "      <td>3.14</td>\n",
       "    </tr>\n",
       "    <tr>\n",
       "      <td>2014</td>\n",
       "      <td>0.24</td>\n",
       "    </tr>\n",
       "    <tr>\n",
       "      <td>2015</td>\n",
       "      <td>0.12</td>\n",
       "    </tr>\n",
       "    <tr>\n",
       "      <td rowspan=\"4\" valign=\"top\">PSV</td>\n",
       "      <td>2013</td>\n",
       "      <td>10.59</td>\n",
       "    </tr>\n",
       "    <tr>\n",
       "      <td>2014</td>\n",
       "      <td>11.90</td>\n",
       "    </tr>\n",
       "    <tr>\n",
       "      <td>2015</td>\n",
       "      <td>6.25</td>\n",
       "    </tr>\n",
       "    <tr>\n",
       "      <td>2016</td>\n",
       "      <td>4.25</td>\n",
       "    </tr>\n",
       "    <tr>\n",
       "      <td rowspan=\"4\" valign=\"top\">Wii</td>\n",
       "      <td>2013</td>\n",
       "      <td>8.59</td>\n",
       "    </tr>\n",
       "    <tr>\n",
       "      <td>2014</td>\n",
       "      <td>3.75</td>\n",
       "    </tr>\n",
       "    <tr>\n",
       "      <td>2015</td>\n",
       "      <td>1.14</td>\n",
       "    </tr>\n",
       "    <tr>\n",
       "      <td>2016</td>\n",
       "      <td>0.18</td>\n",
       "    </tr>\n",
       "    <tr>\n",
       "      <td rowspan=\"4\" valign=\"top\">WiiU</td>\n",
       "      <td>2013</td>\n",
       "      <td>21.65</td>\n",
       "    </tr>\n",
       "    <tr>\n",
       "      <td>2014</td>\n",
       "      <td>22.03</td>\n",
       "    </tr>\n",
       "    <tr>\n",
       "      <td>2015</td>\n",
       "      <td>16.35</td>\n",
       "    </tr>\n",
       "    <tr>\n",
       "      <td>2016</td>\n",
       "      <td>4.60</td>\n",
       "    </tr>\n",
       "    <tr>\n",
       "      <td rowspan=\"4\" valign=\"top\">X360</td>\n",
       "      <td>2013</td>\n",
       "      <td>88.58</td>\n",
       "    </tr>\n",
       "    <tr>\n",
       "      <td>2014</td>\n",
       "      <td>34.74</td>\n",
       "    </tr>\n",
       "    <tr>\n",
       "      <td>2015</td>\n",
       "      <td>11.96</td>\n",
       "    </tr>\n",
       "    <tr>\n",
       "      <td>2016</td>\n",
       "      <td>1.52</td>\n",
       "    </tr>\n",
       "    <tr>\n",
       "      <td rowspan=\"4\" valign=\"top\">XOne</td>\n",
       "      <td>2013</td>\n",
       "      <td>18.96</td>\n",
       "    </tr>\n",
       "    <tr>\n",
       "      <td>2014</td>\n",
       "      <td>54.07</td>\n",
       "    </tr>\n",
       "    <tr>\n",
       "      <td>2015</td>\n",
       "      <td>60.14</td>\n",
       "    </tr>\n",
       "    <tr>\n",
       "      <td>2016</td>\n",
       "      <td>26.15</td>\n",
       "    </tr>\n",
       "  </tbody>\n",
       "</table>\n",
       "</div>"
      ],
      "text/plain": [
       "                          total_sales\n",
       "platform year_of_release             \n",
       "3DS      2013                   56.57\n",
       "         2014                   43.76\n",
       "         2015                   27.78\n",
       "         2016                   15.14\n",
       "DS       2013                    1.54\n",
       "PC       2013                   12.38\n",
       "         2014                   13.28\n",
       "         2015                    8.52\n",
       "         2016                    5.25\n",
       "PS3      2013                  113.25\n",
       "         2014                   47.76\n",
       "         2015                   16.82\n",
       "         2016                    3.60\n",
       "PS4      2013                   25.99\n",
       "         2014                  100.00\n",
       "         2015                  118.90\n",
       "         2016                   69.25\n",
       "PSP      2013                    3.14\n",
       "         2014                    0.24\n",
       "         2015                    0.12\n",
       "PSV      2013                   10.59\n",
       "         2014                   11.90\n",
       "         2015                    6.25\n",
       "         2016                    4.25\n",
       "Wii      2013                    8.59\n",
       "         2014                    3.75\n",
       "         2015                    1.14\n",
       "         2016                    0.18\n",
       "WiiU     2013                   21.65\n",
       "         2014                   22.03\n",
       "         2015                   16.35\n",
       "         2016                    4.60\n",
       "X360     2013                   88.58\n",
       "         2014                   34.74\n",
       "         2015                   11.96\n",
       "         2016                    1.52\n",
       "XOne     2013                   18.96\n",
       "         2014                   54.07\n",
       "         2015                   60.14\n",
       "         2016                   26.15"
      ]
     },
     "execution_count": 17,
     "metadata": {},
     "output_type": "execute_result"
    }
   ],
   "source": [
    "act_platforms_pivot = pd.pivot_table(actual_df, index=[ 'platform','year_of_release' ], \n",
    "                                     values='total_sales', aggfunc = 'sum')\n",
    "\n",
    "act_platforms_pivot"
   ]
  },
  {
   "cell_type": "markdown",
   "metadata": {},
   "source": [
    "Выберите несколько потенциально прибыльных платформ.\n"
   ]
  },
  {
   "cell_type": "code",
   "execution_count": 18,
   "metadata": {},
   "outputs": [
    {
     "data": {
      "text/plain": [
       "['3DS', 'PS3', 'PS4', 'X360', 'XOne']"
      ]
     },
     "execution_count": 18,
     "metadata": {},
     "output_type": "execute_result"
    }
   ],
   "source": [
    "best_platform=['3DS','PS3','PS4','X360','XOne']\n",
    "best_platform"
   ]
  },
  {
   "cell_type": "code",
   "execution_count": 19,
   "metadata": {},
   "outputs": [
    {
     "data": {
      "image/png": "[encoded data removed]",
      "text/plain": [
       "<Figure size 1080x360 with 1 Axes>"
      ]
     },
     "metadata": {
      "needs_background": "light"
     },
     "output_type": "display_data"
    },
    {
     "data": {
      "image/png": "[encoded data removed]",
      "text/plain": [
       "<Figure size 1080x360 with 1 Axes>"
      ]
     },
     "metadata": {
      "needs_background": "light"
     },
     "output_type": "display_data"
    },
    {
     "data": {
      "image/png": "[encoded data removed]",
      "text/plain": [
       "<Figure size 1080x360 with 1 Axes>"
      ]
     },
     "metadata": {
      "needs_background": "light"
     },
     "output_type": "display_data"
    },
    {
     "data": {
      "image/png": "[encoded data removed]",
      "text/plain": [
       "<Figure size 1080x360 with 1 Axes>"
      ]
     },
     "metadata": {
      "needs_background": "light"
     },
     "output_type": "display_data"
    },
    {
     "data": {
      "image/png": "[encoded data removed]",
      "text/plain": [
       "<Figure size 1080x360 with 1 Axes>"
      ]
     },
     "metadata": {
      "needs_background": "light"
     },
     "output_type": "display_data"
    }
   ],
   "source": [
    "for platform in best_platform:\n",
    "    df[df['platform'] == platform].pivot_table(index='year_of_release', values='total_sales', aggfunc='sum').plot(kind='bar', figsize=(15,5))\n",
    "    plt.title(platform)"
   ]
  },
  {
   "cell_type": "markdown",
   "metadata": {},
   "source": [
    "Построив графики мы смогли выяснить что перспективными на 2017 не являются следующие платформы: X360, PS3 и 3DS"
   ]
  },
  {
   "cell_type": "markdown",
   "metadata": {},
   "source": [
    "### •\tПостройте график «ящик с усами» по глобальным продажам игр в разбивке по платформам. Опишите результат."
   ]
  },
  {
   "cell_type": "code",
   "execution_count": 20,
   "metadata": {},
   "outputs": [],
   "source": [
    "#создадим актуальную таблицу с топ платформами\n",
    "actual_df1=df.query('platform in @best_platform and year_of_release>=2013')\n"
   ]
  },
  {
   "cell_type": "code",
   "execution_count": 21,
   "metadata": {},
   "outputs": [
    {
     "data": {
      "text/plain": [
       "<matplotlib.axes._subplots.AxesSubplot at 0x7f8537a13e10>"
      ]
     },
     "execution_count": 21,
     "metadata": {},
     "output_type": "execute_result"
    },
    {
     "data": {
      "image/png": "[encoded data removed]",
      "text/plain": [
       "<Figure size 1080x720 with 1 Axes>"
      ]
     },
     "metadata": {
      "needs_background": "light"
     },
     "output_type": "display_data"
    }
   ],
   "source": [
    "plt.figure(figsize=(15,10))\n",
    "plt.ylim(0,3)\n",
    "sns.boxplot(x='platform',y='total_sales',data=actual_df1)\n"
   ]
  },
  {
   "cell_type": "markdown",
   "metadata": {},
   "source": [
    "просмотрев ящики с ушами можно сделать следующий вывод, что у XOne, PS4, X360 примерно одинаковая медиана продаж  \n",
    "у них примерно одинаковый третий квартиль. а вот у остальных медианы меньше и 3й квартиль тоже. Но они все скошены вправо. "
   ]
  },
  {
   "cell_type": "markdown",
   "metadata": {},
   "source": [
    "### Посмотрите, как влияют на продажи внутри одной популярной платформы отзывы пользователей и критиков. Постройте диаграмму рассеяния и посчитайте корреляцию между отзывами и продажами. Сформулируйте выводы."
   ]
  },
  {
   "cell_type": "code",
   "execution_count": 22,
   "metadata": {},
   "outputs": [
    {
     "data": {
      "text/html": [
       "<div>\n",
       "<style scoped>\n",
       "    .dataframe tbody tr th:only-of-type {\n",
       "        vertical-align: middle;\n",
       "    }\n",
       "\n",
       "    .dataframe tbody tr th {\n",
       "        vertical-align: top;\n",
       "    }\n",
       "\n",
       "    .dataframe thead th {\n",
       "        text-align: right;\n",
       "    }\n",
       "</style>\n",
       "<table border=\"1\" class=\"dataframe\">\n",
       "  <thead>\n",
       "    <tr style=\"text-align: right;\">\n",
       "      <th></th>\n",
       "      <th>critic_score</th>\n",
       "      <th>user_score</th>\n",
       "      <th>total_sales</th>\n",
       "    </tr>\n",
       "  </thead>\n",
       "  <tbody>\n",
       "    <tr>\n",
       "      <td>critic_score</td>\n",
       "      <td>1.000000</td>\n",
       "      <td>0.557654</td>\n",
       "      <td>0.406568</td>\n",
       "    </tr>\n",
       "    <tr>\n",
       "      <td>user_score</td>\n",
       "      <td>0.557654</td>\n",
       "      <td>1.000000</td>\n",
       "      <td>-0.031957</td>\n",
       "    </tr>\n",
       "    <tr>\n",
       "      <td>total_sales</td>\n",
       "      <td>0.406568</td>\n",
       "      <td>-0.031957</td>\n",
       "      <td>1.000000</td>\n",
       "    </tr>\n",
       "  </tbody>\n",
       "</table>\n",
       "</div>"
      ],
      "text/plain": [
       "              critic_score  user_score  total_sales\n",
       "critic_score      1.000000    0.557654     0.406568\n",
       "user_score        0.557654    1.000000    -0.031957\n",
       "total_sales       0.406568   -0.031957     1.000000"
      ]
     },
     "execution_count": 22,
     "metadata": {},
     "output_type": "execute_result"
    },
    {
     "data": {
      "image/png": "[encoded data removed]",
      "text/plain": [
       "<Figure size 720x720 with 9 Axes>"
      ]
     },
     "metadata": {
      "needs_background": "light"
     },
     "output_type": "display_data"
    }
   ],
   "source": [
    "actual_df_PS4=actual_df.query('platform==\"PS4\"').loc[:,['critic_score', 'user_score', 'total_sales']]\n",
    "pd.plotting.scatter_matrix(actual_df_PS4, figsize=(10, 10));\n",
    "actual_df_PS4.corr()"
   ]
  },
  {
   "cell_type": "markdown",
   "metadata": {},
   "source": [
    "согласно построенной матрице можно следующие суждения\n",
    "1. чем выше оценка критиков тем выше оценка пользователей\n",
    "2. чем выше оценка пользователей тем выше продажи\n",
    "3. продажи зависят мнения критиков"
   ]
  },
  {
   "cell_type": "markdown",
   "metadata": {},
   "source": [
    "### Соотнесите выводы с продажами игр на других платформах."
   ]
  },
  {
   "cell_type": "code",
   "execution_count": 23,
   "metadata": {},
   "outputs": [
    {
     "data": {
      "text/html": [
       "<div>\n",
       "<style scoped>\n",
       "    .dataframe tbody tr th:only-of-type {\n",
       "        vertical-align: middle;\n",
       "    }\n",
       "\n",
       "    .dataframe tbody tr th {\n",
       "        vertical-align: top;\n",
       "    }\n",
       "\n",
       "    .dataframe thead th {\n",
       "        text-align: right;\n",
       "    }\n",
       "</style>\n",
       "<table border=\"1\" class=\"dataframe\">\n",
       "  <thead>\n",
       "    <tr style=\"text-align: right;\">\n",
       "      <th></th>\n",
       "      <th>critic_score</th>\n",
       "      <th>user_score</th>\n",
       "      <th>total_sales</th>\n",
       "    </tr>\n",
       "  </thead>\n",
       "  <tbody>\n",
       "    <tr>\n",
       "      <td>critic_score</td>\n",
       "      <td>1.000000</td>\n",
       "      <td>0.599920</td>\n",
       "      <td>0.334285</td>\n",
       "    </tr>\n",
       "    <tr>\n",
       "      <td>user_score</td>\n",
       "      <td>0.599920</td>\n",
       "      <td>1.000000</td>\n",
       "      <td>0.002394</td>\n",
       "    </tr>\n",
       "    <tr>\n",
       "      <td>total_sales</td>\n",
       "      <td>0.334285</td>\n",
       "      <td>0.002394</td>\n",
       "      <td>1.000000</td>\n",
       "    </tr>\n",
       "  </tbody>\n",
       "</table>\n",
       "</div>"
      ],
      "text/plain": [
       "              critic_score  user_score  total_sales\n",
       "critic_score      1.000000    0.599920     0.334285\n",
       "user_score        0.599920    1.000000     0.002394\n",
       "total_sales       0.334285    0.002394     1.000000"
      ]
     },
     "execution_count": 23,
     "metadata": {},
     "output_type": "execute_result"
    },
    {
     "data": {
      "image/png": "[encoded data removed]",
      "text/plain": [
       "<Figure size 720x720 with 9 Axes>"
      ]
     },
     "metadata": {
      "needs_background": "light"
     },
     "output_type": "display_data"
    }
   ],
   "source": [
    "actual_df_PS4=actual_df.query('platform==\"PS3\"').loc[:,['critic_score', 'user_score', 'total_sales']]\n",
    "pd.plotting.scatter_matrix(actual_df_PS4, figsize=(10, 10));\n",
    "actual_df_PS4.corr()"
   ]
  },
  {
   "cell_type": "code",
   "execution_count": 24,
   "metadata": {},
   "outputs": [
    {
     "data": {
      "text/html": [
       "<div>\n",
       "<style scoped>\n",
       "    .dataframe tbody tr th:only-of-type {\n",
       "        vertical-align: middle;\n",
       "    }\n",
       "\n",
       "    .dataframe tbody tr th {\n",
       "        vertical-align: top;\n",
       "    }\n",
       "\n",
       "    .dataframe thead th {\n",
       "        text-align: right;\n",
       "    }\n",
       "</style>\n",
       "<table border=\"1\" class=\"dataframe\">\n",
       "  <thead>\n",
       "    <tr style=\"text-align: right;\">\n",
       "      <th></th>\n",
       "      <th>critic_score</th>\n",
       "      <th>user_score</th>\n",
       "      <th>total_sales</th>\n",
       "    </tr>\n",
       "  </thead>\n",
       "  <tbody>\n",
       "    <tr>\n",
       "      <td>critic_score</td>\n",
       "      <td>1.000000</td>\n",
       "      <td>0.472462</td>\n",
       "      <td>0.416998</td>\n",
       "    </tr>\n",
       "    <tr>\n",
       "      <td>user_score</td>\n",
       "      <td>0.472462</td>\n",
       "      <td>1.000000</td>\n",
       "      <td>-0.068925</td>\n",
       "    </tr>\n",
       "    <tr>\n",
       "      <td>total_sales</td>\n",
       "      <td>0.416998</td>\n",
       "      <td>-0.068925</td>\n",
       "      <td>1.000000</td>\n",
       "    </tr>\n",
       "  </tbody>\n",
       "</table>\n",
       "</div>"
      ],
      "text/plain": [
       "              critic_score  user_score  total_sales\n",
       "critic_score      1.000000    0.472462     0.416998\n",
       "user_score        0.472462    1.000000    -0.068925\n",
       "total_sales       0.416998   -0.068925     1.000000"
      ]
     },
     "execution_count": 24,
     "metadata": {},
     "output_type": "execute_result"
    },
    {
     "data": {
      "image/png": "[encoded data removed]",
      "text/plain": [
       "<Figure size 720x720 with 9 Axes>"
      ]
     },
     "metadata": {
      "needs_background": "light"
     },
     "output_type": "display_data"
    }
   ],
   "source": [
    "actual_df_PS4=actual_df.query('platform==\"XOne\"').loc[:,['critic_score', 'user_score', 'total_sales']]\n",
    "pd.plotting.scatter_matrix(actual_df_PS4, figsize=(10, 10));\n",
    "actual_df_PS4.corr()"
   ]
  },
  {
   "cell_type": "code",
   "execution_count": 25,
   "metadata": {},
   "outputs": [
    {
     "data": {
      "text/html": [
       "<div>\n",
       "<style scoped>\n",
       "    .dataframe tbody tr th:only-of-type {\n",
       "        vertical-align: middle;\n",
       "    }\n",
       "\n",
       "    .dataframe tbody tr th {\n",
       "        vertical-align: top;\n",
       "    }\n",
       "\n",
       "    .dataframe thead th {\n",
       "        text-align: right;\n",
       "    }\n",
       "</style>\n",
       "<table border=\"1\" class=\"dataframe\">\n",
       "  <thead>\n",
       "    <tr style=\"text-align: right;\">\n",
       "      <th></th>\n",
       "      <th>critic_score</th>\n",
       "      <th>user_score</th>\n",
       "      <th>total_sales</th>\n",
       "    </tr>\n",
       "  </thead>\n",
       "  <tbody>\n",
       "    <tr>\n",
       "      <td>critic_score</td>\n",
       "      <td>1.000000</td>\n",
       "      <td>0.520946</td>\n",
       "      <td>0.350345</td>\n",
       "    </tr>\n",
       "    <tr>\n",
       "      <td>user_score</td>\n",
       "      <td>0.520946</td>\n",
       "      <td>1.000000</td>\n",
       "      <td>-0.011742</td>\n",
       "    </tr>\n",
       "    <tr>\n",
       "      <td>total_sales</td>\n",
       "      <td>0.350345</td>\n",
       "      <td>-0.011742</td>\n",
       "      <td>1.000000</td>\n",
       "    </tr>\n",
       "  </tbody>\n",
       "</table>\n",
       "</div>"
      ],
      "text/plain": [
       "              critic_score  user_score  total_sales\n",
       "critic_score      1.000000    0.520946     0.350345\n",
       "user_score        0.520946    1.000000    -0.011742\n",
       "total_sales       0.350345   -0.011742     1.000000"
      ]
     },
     "execution_count": 25,
     "metadata": {},
     "output_type": "execute_result"
    },
    {
     "data": {
      "image/png": "[encoded data removed]",
      "text/plain": [
       "<Figure size 720x720 with 9 Axes>"
      ]
     },
     "metadata": {
      "needs_background": "light"
     },
     "output_type": "display_data"
    }
   ],
   "source": [
    "actual_df_PS4=actual_df.query('platform==\"X360\"').loc[:,['critic_score', 'user_score', 'total_sales']]\n",
    "pd.plotting.scatter_matrix(actual_df_PS4, figsize=(10, 10));\n",
    "actual_df_PS4.corr()"
   ]
  },
  {
   "cell_type": "code",
   "execution_count": 26,
   "metadata": {},
   "outputs": [
    {
     "data": {
      "text/html": [
       "<div>\n",
       "<style scoped>\n",
       "    .dataframe tbody tr th:only-of-type {\n",
       "        vertical-align: middle;\n",
       "    }\n",
       "\n",
       "    .dataframe tbody tr th {\n",
       "        vertical-align: top;\n",
       "    }\n",
       "\n",
       "    .dataframe thead th {\n",
       "        text-align: right;\n",
       "    }\n",
       "</style>\n",
       "<table border=\"1\" class=\"dataframe\">\n",
       "  <thead>\n",
       "    <tr style=\"text-align: right;\">\n",
       "      <th></th>\n",
       "      <th>critic_score</th>\n",
       "      <th>user_score</th>\n",
       "      <th>total_sales</th>\n",
       "    </tr>\n",
       "  </thead>\n",
       "  <tbody>\n",
       "    <tr>\n",
       "      <td>critic_score</td>\n",
       "      <td>1.000000</td>\n",
       "      <td>0.769536</td>\n",
       "      <td>0.357057</td>\n",
       "    </tr>\n",
       "    <tr>\n",
       "      <td>user_score</td>\n",
       "      <td>0.769536</td>\n",
       "      <td>1.000000</td>\n",
       "      <td>0.241504</td>\n",
       "    </tr>\n",
       "    <tr>\n",
       "      <td>total_sales</td>\n",
       "      <td>0.357057</td>\n",
       "      <td>0.241504</td>\n",
       "      <td>1.000000</td>\n",
       "    </tr>\n",
       "  </tbody>\n",
       "</table>\n",
       "</div>"
      ],
      "text/plain": [
       "              critic_score  user_score  total_sales\n",
       "critic_score      1.000000    0.769536     0.357057\n",
       "user_score        0.769536    1.000000     0.241504\n",
       "total_sales       0.357057    0.241504     1.000000"
      ]
     },
     "execution_count": 26,
     "metadata": {},
     "output_type": "execute_result"
    },
    {
     "data": {
      "image/png": "[encoded data removed]",
      "text/plain": [
       "<Figure size 720x720 with 9 Axes>"
      ]
     },
     "metadata": {
      "needs_background": "light"
     },
     "output_type": "display_data"
    }
   ],
   "source": [
    "actual_df_PS4=actual_df.query('platform==\"3DS\"').loc[:,['critic_score', 'user_score', 'total_sales']]\n",
    "pd.plotting.scatter_matrix(actual_df_PS4, figsize=(10, 10));\n",
    "actual_df_PS4.corr()"
   ]
  },
  {
   "cell_type": "markdown",
   "metadata": {},
   "source": [
    "посмотрев данные диаграммы можно сделать вывод, что зависимости одинаковы на платформах PS3, X360, XOne и PS4. \n",
    "но на 3DS немного другая ситуация. Тут наблюдается что на продажи влюят оценки пользователей чем критиков. "
   ]
  },
  {
   "cell_type": "markdown",
   "metadata": {},
   "source": [
    "###  Посмотрите на общее распределение игр по жанрам. Что можно сказать о самых прибыльных жанрах? Выделяются ли жанры с высокими и низкими продажами?"
   ]
  },
  {
   "cell_type": "code",
   "execution_count": 27,
   "metadata": {},
   "outputs": [
    {
     "data": {
      "image/png": "[encoded data removed]",
      "text/plain": [
       "<Figure size 432x288 with 1 Axes>"
      ]
     },
     "metadata": {
      "needs_background": "light"
     },
     "output_type": "display_data"
    },
    {
     "data": {
      "text/plain": [
       "genre\n",
       "Action          766\n",
       "Role-Playing    292\n",
       "Adventure       245\n",
       "Sports          214\n",
       "Shooter         187\n",
       "Misc            155\n",
       "Racing           85\n",
       "Fighting         80\n",
       "Platform         74\n",
       "Simulation       62\n",
       "Strategy         56\n",
       "Puzzle           17\n",
       "Name: total_sales, dtype: int64"
      ]
     },
     "execution_count": 27,
     "metadata": {},
     "output_type": "execute_result"
    }
   ],
   "source": [
    "act_genre=actual_df.groupby('genre')['total_sales'].count().sort_values(ascending=False)\n",
    "act_genre.plot(kind='bar', alpha=0.5)\n",
    "plt.xlabel('Жанры')\n",
    "plt.ylabel('Кол-во проданных игр')\n",
    "plt.show()\n",
    "act_genre"
   ]
  },
  {
   "cell_type": "markdown",
   "metadata": {},
   "source": [
    "Самый продаваемый жанр игр это Action"
   ]
  },
  {
   "cell_type": "code",
   "execution_count": 28,
   "metadata": {},
   "outputs": [
    {
     "data": {
      "image/png": "[encoded data removed]",
      "text/plain": [
       "<Figure size 432x288 with 1 Axes>"
      ]
     },
     "metadata": {
      "needs_background": "light"
     },
     "output_type": "display_data"
    },
    {
     "data": {
      "text/plain": [
       "genre\n",
       "Action          321.87\n",
       "Shooter         232.98\n",
       "Sports          150.65\n",
       "Role-Playing    145.89\n",
       "Misc             62.82\n",
       "Platform         42.63\n",
       "Racing           39.89\n",
       "Fighting         35.31\n",
       "Adventure        23.64\n",
       "Simulation       21.76\n",
       "Strategy         10.08\n",
       "Puzzle            3.17\n",
       "Name: total_sales, dtype: float64"
      ]
     },
     "execution_count": 28,
     "metadata": {},
     "output_type": "execute_result"
    }
   ],
   "source": [
    "act_genre_sum=actual_df.groupby('genre')['total_sales'].sum().sort_values(ascending=False)\n",
    "act_genre_sum.plot(kind='bar', alpha=0.5)\n",
    "plt.xlabel('Жанры')\n",
    "plt.ylabel('Выручка с проданных игр')\n",
    "plt.show()\n",
    "act_genre_sum"
   ]
  },
  {
   "cell_type": "markdown",
   "metadata": {},
   "source": [
    "Самый продаваемый и самый прибыльный является жанр Action. По высокой продаваемости за ним идет сразу Shooter.\n",
    "Но так же самым низким по прибыльности и количеству продаж можно выделить жанр Puzzle"
   ]
  },
  {
   "cell_type": "markdown",
   "metadata": {},
   "source": [
    "## Составьте портрет пользователя каждого региона"
   ]
  },
  {
   "cell_type": "markdown",
   "metadata": {},
   "source": [
    "Определите для пользователя каждого региона (NA, EU, JP):\n",
    "### Самые популярные платформы (топ-5). Опишите различия в долях продаж.\n"
   ]
  },
  {
   "cell_type": "code",
   "execution_count": 29,
   "metadata": {},
   "outputs": [
    {
     "data": {
      "text/html": [
       "<div>\n",
       "<style scoped>\n",
       "    .dataframe tbody tr th:only-of-type {\n",
       "        vertical-align: middle;\n",
       "    }\n",
       "\n",
       "    .dataframe tbody tr th {\n",
       "        vertical-align: top;\n",
       "    }\n",
       "\n",
       "    .dataframe thead th {\n",
       "        text-align: right;\n",
       "    }\n",
       "</style>\n",
       "<table border=\"1\" class=\"dataframe\">\n",
       "  <thead>\n",
       "    <tr style=\"text-align: right;\">\n",
       "      <th></th>\n",
       "      <th>na_sales</th>\n",
       "      <th>total_sales</th>\n",
       "    </tr>\n",
       "    <tr>\n",
       "      <th>platform</th>\n",
       "      <th></th>\n",
       "      <th></th>\n",
       "    </tr>\n",
       "  </thead>\n",
       "  <tbody>\n",
       "    <tr>\n",
       "      <td>PS4</td>\n",
       "      <td>108.74</td>\n",
       "      <td>314.14</td>\n",
       "    </tr>\n",
       "    <tr>\n",
       "      <td>XOne</td>\n",
       "      <td>93.12</td>\n",
       "      <td>159.32</td>\n",
       "    </tr>\n",
       "    <tr>\n",
       "      <td>X360</td>\n",
       "      <td>81.66</td>\n",
       "      <td>136.80</td>\n",
       "    </tr>\n",
       "    <tr>\n",
       "      <td>PS3</td>\n",
       "      <td>63.50</td>\n",
       "      <td>181.43</td>\n",
       "    </tr>\n",
       "    <tr>\n",
       "      <td>3DS</td>\n",
       "      <td>38.20</td>\n",
       "      <td>143.25</td>\n",
       "    </tr>\n",
       "    <tr>\n",
       "      <td>WiiU</td>\n",
       "      <td>29.21</td>\n",
       "      <td>64.63</td>\n",
       "    </tr>\n",
       "    <tr>\n",
       "      <td>PC</td>\n",
       "      <td>11.11</td>\n",
       "      <td>39.43</td>\n",
       "    </tr>\n",
       "    <tr>\n",
       "      <td>Wii</td>\n",
       "      <td>6.56</td>\n",
       "      <td>13.66</td>\n",
       "    </tr>\n",
       "    <tr>\n",
       "      <td>PSV</td>\n",
       "      <td>5.04</td>\n",
       "      <td>32.99</td>\n",
       "    </tr>\n",
       "    <tr>\n",
       "      <td>DS</td>\n",
       "      <td>0.57</td>\n",
       "      <td>1.54</td>\n",
       "    </tr>\n",
       "    <tr>\n",
       "      <td>PSP</td>\n",
       "      <td>0.00</td>\n",
       "      <td>3.50</td>\n",
       "    </tr>\n",
       "  </tbody>\n",
       "</table>\n",
       "</div>"
      ],
      "text/plain": [
       "          na_sales  total_sales\n",
       "platform                       \n",
       "PS4         108.74       314.14\n",
       "XOne         93.12       159.32\n",
       "X360         81.66       136.80\n",
       "PS3          63.50       181.43\n",
       "3DS          38.20       143.25\n",
       "WiiU         29.21        64.63\n",
       "PC           11.11        39.43\n",
       "Wii           6.56        13.66\n",
       "PSV           5.04        32.99\n",
       "DS            0.57         1.54\n",
       "PSP           0.00         3.50"
      ]
     },
     "execution_count": 29,
     "metadata": {},
     "output_type": "execute_result"
    }
   ],
   "source": [
    "pop_platforms_pivot_na_= actual_df.pivot_table(index='platform',values=['na_sales','total_sales'],aggfunc=('sum'))\n",
    "pop_platforms_pivot_na_.sort_values('na_sales', ascending = False)"
   ]
  },
  {
   "cell_type": "code",
   "execution_count": 30,
   "metadata": {},
   "outputs": [
    {
     "data": {
      "text/html": [
       "<div>\n",
       "<style scoped>\n",
       "    .dataframe tbody tr th:only-of-type {\n",
       "        vertical-align: middle;\n",
       "    }\n",
       "\n",
       "    .dataframe tbody tr th {\n",
       "        vertical-align: top;\n",
       "    }\n",
       "\n",
       "    .dataframe thead th {\n",
       "        text-align: right;\n",
       "    }\n",
       "</style>\n",
       "<table border=\"1\" class=\"dataframe\">\n",
       "  <thead>\n",
       "    <tr style=\"text-align: right;\">\n",
       "      <th></th>\n",
       "      <th>eu_sales</th>\n",
       "      <th>total_sales</th>\n",
       "    </tr>\n",
       "    <tr>\n",
       "      <th>platform</th>\n",
       "      <th></th>\n",
       "      <th></th>\n",
       "    </tr>\n",
       "  </thead>\n",
       "  <tbody>\n",
       "    <tr>\n",
       "      <td>PS4</td>\n",
       "      <td>141.09</td>\n",
       "      <td>314.14</td>\n",
       "    </tr>\n",
       "    <tr>\n",
       "      <td>PS3</td>\n",
       "      <td>67.81</td>\n",
       "      <td>181.43</td>\n",
       "    </tr>\n",
       "    <tr>\n",
       "      <td>XOne</td>\n",
       "      <td>51.59</td>\n",
       "      <td>159.32</td>\n",
       "    </tr>\n",
       "    <tr>\n",
       "      <td>X360</td>\n",
       "      <td>42.52</td>\n",
       "      <td>136.80</td>\n",
       "    </tr>\n",
       "    <tr>\n",
       "      <td>3DS</td>\n",
       "      <td>30.96</td>\n",
       "      <td>143.25</td>\n",
       "    </tr>\n",
       "    <tr>\n",
       "      <td>PC</td>\n",
       "      <td>25.36</td>\n",
       "      <td>39.43</td>\n",
       "    </tr>\n",
       "    <tr>\n",
       "      <td>WiiU</td>\n",
       "      <td>19.85</td>\n",
       "      <td>64.63</td>\n",
       "    </tr>\n",
       "    <tr>\n",
       "      <td>PSV</td>\n",
       "      <td>6.10</td>\n",
       "      <td>32.99</td>\n",
       "    </tr>\n",
       "    <tr>\n",
       "      <td>Wii</td>\n",
       "      <td>5.93</td>\n",
       "      <td>13.66</td>\n",
       "    </tr>\n",
       "    <tr>\n",
       "      <td>DS</td>\n",
       "      <td>0.85</td>\n",
       "      <td>1.54</td>\n",
       "    </tr>\n",
       "    <tr>\n",
       "      <td>PSP</td>\n",
       "      <td>0.17</td>\n",
       "      <td>3.50</td>\n",
       "    </tr>\n",
       "  </tbody>\n",
       "</table>\n",
       "</div>"
      ],
      "text/plain": [
       "          eu_sales  total_sales\n",
       "platform                       \n",
       "PS4         141.09       314.14\n",
       "PS3          67.81       181.43\n",
       "XOne         51.59       159.32\n",
       "X360         42.52       136.80\n",
       "3DS          30.96       143.25\n",
       "PC           25.36        39.43\n",
       "WiiU         19.85        64.63\n",
       "PSV           6.10        32.99\n",
       "Wii           5.93        13.66\n",
       "DS            0.85         1.54\n",
       "PSP           0.17         3.50"
      ]
     },
     "execution_count": 30,
     "metadata": {},
     "output_type": "execute_result"
    }
   ],
   "source": [
    "pop_platforms_pivot_eu_= actual_df.pivot_table(index='platform',values=['eu_sales','total_sales'],aggfunc=('sum'))\n",
    "pop_platforms_pivot_eu_.sort_values('eu_sales', ascending = False)"
   ]
  },
  {
   "cell_type": "code",
   "execution_count": 31,
   "metadata": {},
   "outputs": [
    {
     "data": {
      "text/html": [
       "<div>\n",
       "<style scoped>\n",
       "    .dataframe tbody tr th:only-of-type {\n",
       "        vertical-align: middle;\n",
       "    }\n",
       "\n",
       "    .dataframe tbody tr th {\n",
       "        vertical-align: top;\n",
       "    }\n",
       "\n",
       "    .dataframe thead th {\n",
       "        text-align: right;\n",
       "    }\n",
       "</style>\n",
       "<table border=\"1\" class=\"dataframe\">\n",
       "  <thead>\n",
       "    <tr style=\"text-align: right;\">\n",
       "      <th></th>\n",
       "      <th>jp_sales</th>\n",
       "      <th>total_sales</th>\n",
       "    </tr>\n",
       "    <tr>\n",
       "      <th>platform</th>\n",
       "      <th></th>\n",
       "      <th></th>\n",
       "    </tr>\n",
       "  </thead>\n",
       "  <tbody>\n",
       "    <tr>\n",
       "      <td>3DS</td>\n",
       "      <td>67.81</td>\n",
       "      <td>143.25</td>\n",
       "    </tr>\n",
       "    <tr>\n",
       "      <td>PS3</td>\n",
       "      <td>23.35</td>\n",
       "      <td>181.43</td>\n",
       "    </tr>\n",
       "    <tr>\n",
       "      <td>PSV</td>\n",
       "      <td>18.59</td>\n",
       "      <td>32.99</td>\n",
       "    </tr>\n",
       "    <tr>\n",
       "      <td>PS4</td>\n",
       "      <td>15.96</td>\n",
       "      <td>314.14</td>\n",
       "    </tr>\n",
       "    <tr>\n",
       "      <td>WiiU</td>\n",
       "      <td>10.88</td>\n",
       "      <td>64.63</td>\n",
       "    </tr>\n",
       "    <tr>\n",
       "      <td>PSP</td>\n",
       "      <td>3.29</td>\n",
       "      <td>3.50</td>\n",
       "    </tr>\n",
       "    <tr>\n",
       "      <td>X360</td>\n",
       "      <td>0.51</td>\n",
       "      <td>136.80</td>\n",
       "    </tr>\n",
       "    <tr>\n",
       "      <td>XOne</td>\n",
       "      <td>0.34</td>\n",
       "      <td>159.32</td>\n",
       "    </tr>\n",
       "    <tr>\n",
       "      <td>Wii</td>\n",
       "      <td>0.05</td>\n",
       "      <td>13.66</td>\n",
       "    </tr>\n",
       "    <tr>\n",
       "      <td>DS</td>\n",
       "      <td>0.00</td>\n",
       "      <td>1.54</td>\n",
       "    </tr>\n",
       "    <tr>\n",
       "      <td>PC</td>\n",
       "      <td>0.00</td>\n",
       "      <td>39.43</td>\n",
       "    </tr>\n",
       "  </tbody>\n",
       "</table>\n",
       "</div>"
      ],
      "text/plain": [
       "          jp_sales  total_sales\n",
       "platform                       \n",
       "3DS          67.81       143.25\n",
       "PS3          23.35       181.43\n",
       "PSV          18.59        32.99\n",
       "PS4          15.96       314.14\n",
       "WiiU         10.88        64.63\n",
       "PSP           3.29         3.50\n",
       "X360          0.51       136.80\n",
       "XOne          0.34       159.32\n",
       "Wii           0.05        13.66\n",
       "DS            0.00         1.54\n",
       "PC            0.00        39.43"
      ]
     },
     "execution_count": 31,
     "metadata": {},
     "output_type": "execute_result"
    }
   ],
   "source": [
    "pop_platforms_pivot_jp_= actual_df.pivot_table(index='platform',values=['total_sales','jp_sales'],aggfunc=('sum'))\n",
    "pop_platforms_pivot_jp_.sort_values('jp_sales', ascending = False)"
   ]
  },
  {
   "cell_type": "code",
   "execution_count": 32,
   "metadata": {},
   "outputs": [
    {
     "data": {
      "text/plain": [
       "<matplotlib.axes._subplots.AxesSubplot at 0x7f8535ced1d0>"
      ]
     },
     "execution_count": 32,
     "metadata": {},
     "output_type": "execute_result"
    },
    {
     "data": {
      "image/png": "[encoded data removed]",
      "text/plain": [
       "<Figure size 1080x504 with 1 Axes>"
      ]
     },
     "metadata": {
      "needs_background": "light"
     },
     "output_type": "display_data"
    }
   ],
   "source": [
    "group_pop_platform=pop_platforms_pivot_jp_.merge(pop_platforms_pivot_eu_,on=['platform','total_sales'],how='outer') # \n",
    "#group_all=group_messages_call.merge(group_internet,on=['platform'],how='outer')\n",
    "group_pop_platform.merge(pop_platforms_pivot_na_,on=['platform','total_sales'],how='outer') \n",
    "group_pop_platform.sort_values('total_sales', ascending = False).plot(kind='bar', figsize=(15, 7) )"
   ]
  },
  {
   "cell_type": "markdown",
   "metadata": {},
   "source": [
    "Самые продаваемые игры на платформы \n",
    "- в Японии 3DS и PS3. Такие Топ продаж обусловлены тем что платформа 3DS это их разработка и большинство игр и платформ которые есть Европе или Америке, там не популярны. \n",
    "- в Европе PS4 и PS3. Популярность PS4 обусловлена доступностью и тем что на данную платформу выходят более качественные и эксклюзивные игры. \n",
    "- в Америке PS4 и XOne. Популярность PS4 обусловлена доступностью и тем что на данную платформу выходят более качественные и эксклюзивные игры, но так же попупулярен XOne. прямой конкурент PS"
   ]
  },
  {
   "cell_type": "markdown",
   "metadata": {},
   "source": [
    "### Самые популярные жанры (топ-5). Поясните разницу."
   ]
  },
  {
   "cell_type": "code",
   "execution_count": 33,
   "metadata": {},
   "outputs": [
    {
     "data": {
      "text/html": [
       "<div>\n",
       "<style scoped>\n",
       "    .dataframe tbody tr th:only-of-type {\n",
       "        vertical-align: middle;\n",
       "    }\n",
       "\n",
       "    .dataframe tbody tr th {\n",
       "        vertical-align: top;\n",
       "    }\n",
       "\n",
       "    .dataframe thead th {\n",
       "        text-align: right;\n",
       "    }\n",
       "</style>\n",
       "<table border=\"1\" class=\"dataframe\">\n",
       "  <thead>\n",
       "    <tr style=\"text-align: right;\">\n",
       "      <th></th>\n",
       "      <th>na_sales</th>\n",
       "      <th>total_sales</th>\n",
       "    </tr>\n",
       "    <tr>\n",
       "      <th>genre</th>\n",
       "      <th></th>\n",
       "      <th></th>\n",
       "    </tr>\n",
       "  </thead>\n",
       "  <tbody>\n",
       "    <tr>\n",
       "      <td>Action</td>\n",
       "      <td>126.05</td>\n",
       "      <td>321.87</td>\n",
       "    </tr>\n",
       "    <tr>\n",
       "      <td>Shooter</td>\n",
       "      <td>109.74</td>\n",
       "      <td>232.98</td>\n",
       "    </tr>\n",
       "    <tr>\n",
       "      <td>Sports</td>\n",
       "      <td>65.27</td>\n",
       "      <td>150.65</td>\n",
       "    </tr>\n",
       "    <tr>\n",
       "      <td>Role-Playing</td>\n",
       "      <td>46.40</td>\n",
       "      <td>145.89</td>\n",
       "    </tr>\n",
       "    <tr>\n",
       "      <td>Misc</td>\n",
       "      <td>27.49</td>\n",
       "      <td>62.82</td>\n",
       "    </tr>\n",
       "  </tbody>\n",
       "</table>\n",
       "</div>"
      ],
      "text/plain": [
       "              na_sales  total_sales\n",
       "genre                              \n",
       "Action          126.05       321.87\n",
       "Shooter         109.74       232.98\n",
       "Sports           65.27       150.65\n",
       "Role-Playing     46.40       145.89\n",
       "Misc             27.49        62.82"
      ]
     },
     "execution_count": 33,
     "metadata": {},
     "output_type": "execute_result"
    }
   ],
   "source": [
    "pop_genre_pivot_na_= actual_df.pivot_table(index='genre',values=['na_sales','total_sales'],aggfunc=('sum'))\n",
    "pop_genre_pivot_na_.sort_values('na_sales', ascending = False).head(5)"
   ]
  },
  {
   "cell_type": "code",
   "execution_count": 34,
   "metadata": {},
   "outputs": [
    {
     "data": {
      "text/html": [
       "<div>\n",
       "<style scoped>\n",
       "    .dataframe tbody tr th:only-of-type {\n",
       "        vertical-align: middle;\n",
       "    }\n",
       "\n",
       "    .dataframe tbody tr th {\n",
       "        vertical-align: top;\n",
       "    }\n",
       "\n",
       "    .dataframe thead th {\n",
       "        text-align: right;\n",
       "    }\n",
       "</style>\n",
       "<table border=\"1\" class=\"dataframe\">\n",
       "  <thead>\n",
       "    <tr style=\"text-align: right;\">\n",
       "      <th></th>\n",
       "      <th>eu_sales</th>\n",
       "      <th>total_sales</th>\n",
       "    </tr>\n",
       "    <tr>\n",
       "      <th>genre</th>\n",
       "      <th></th>\n",
       "      <th></th>\n",
       "    </tr>\n",
       "  </thead>\n",
       "  <tbody>\n",
       "    <tr>\n",
       "      <td>Action</td>\n",
       "      <td>118.13</td>\n",
       "      <td>321.87</td>\n",
       "    </tr>\n",
       "    <tr>\n",
       "      <td>Shooter</td>\n",
       "      <td>87.86</td>\n",
       "      <td>232.98</td>\n",
       "    </tr>\n",
       "    <tr>\n",
       "      <td>Sports</td>\n",
       "      <td>60.52</td>\n",
       "      <td>150.65</td>\n",
       "    </tr>\n",
       "    <tr>\n",
       "      <td>Role-Playing</td>\n",
       "      <td>36.97</td>\n",
       "      <td>145.89</td>\n",
       "    </tr>\n",
       "    <tr>\n",
       "      <td>Racing</td>\n",
       "      <td>20.19</td>\n",
       "      <td>39.89</td>\n",
       "    </tr>\n",
       "  </tbody>\n",
       "</table>\n",
       "</div>"
      ],
      "text/plain": [
       "              eu_sales  total_sales\n",
       "genre                              \n",
       "Action          118.13       321.87\n",
       "Shooter          87.86       232.98\n",
       "Sports           60.52       150.65\n",
       "Role-Playing     36.97       145.89\n",
       "Racing           20.19        39.89"
      ]
     },
     "execution_count": 34,
     "metadata": {},
     "output_type": "execute_result"
    }
   ],
   "source": [
    "pop_genre_pivot_eu_= actual_df.pivot_table(index='genre',values=['eu_sales','total_sales'],aggfunc=('sum'))\n",
    "pop_genre_pivot_eu_.sort_values('eu_sales', ascending = False).head(5).head(5)"
   ]
  },
  {
   "cell_type": "code",
   "execution_count": 35,
   "metadata": {},
   "outputs": [
    {
     "data": {
      "text/html": [
       "<div>\n",
       "<style scoped>\n",
       "    .dataframe tbody tr th:only-of-type {\n",
       "        vertical-align: middle;\n",
       "    }\n",
       "\n",
       "    .dataframe tbody tr th {\n",
       "        vertical-align: top;\n",
       "    }\n",
       "\n",
       "    .dataframe thead th {\n",
       "        text-align: right;\n",
       "    }\n",
       "</style>\n",
       "<table border=\"1\" class=\"dataframe\">\n",
       "  <thead>\n",
       "    <tr style=\"text-align: right;\">\n",
       "      <th></th>\n",
       "      <th>jp_sales</th>\n",
       "      <th>total_sales</th>\n",
       "    </tr>\n",
       "    <tr>\n",
       "      <th>genre</th>\n",
       "      <th></th>\n",
       "      <th></th>\n",
       "    </tr>\n",
       "  </thead>\n",
       "  <tbody>\n",
       "    <tr>\n",
       "      <td>Role-Playing</td>\n",
       "      <td>51.04</td>\n",
       "      <td>145.89</td>\n",
       "    </tr>\n",
       "    <tr>\n",
       "      <td>Action</td>\n",
       "      <td>40.49</td>\n",
       "      <td>321.87</td>\n",
       "    </tr>\n",
       "    <tr>\n",
       "      <td>Misc</td>\n",
       "      <td>9.20</td>\n",
       "      <td>62.82</td>\n",
       "    </tr>\n",
       "    <tr>\n",
       "      <td>Fighting</td>\n",
       "      <td>7.65</td>\n",
       "      <td>35.31</td>\n",
       "    </tr>\n",
       "    <tr>\n",
       "      <td>Shooter</td>\n",
       "      <td>6.61</td>\n",
       "      <td>232.98</td>\n",
       "    </tr>\n",
       "  </tbody>\n",
       "</table>\n",
       "</div>"
      ],
      "text/plain": [
       "              jp_sales  total_sales\n",
       "genre                              \n",
       "Role-Playing     51.04       145.89\n",
       "Action           40.49       321.87\n",
       "Misc              9.20        62.82\n",
       "Fighting          7.65        35.31\n",
       "Shooter           6.61       232.98"
      ]
     },
     "execution_count": 35,
     "metadata": {},
     "output_type": "execute_result"
    }
   ],
   "source": [
    "pop_genre_pivot_jp_= actual_df.pivot_table(index='genre',values=['jp_sales','total_sales'],aggfunc=('sum'))\n",
    "pop_genre_pivot_jp_.sort_values('jp_sales', ascending = False).head(5).head(5)"
   ]
  },
  {
   "cell_type": "code",
   "execution_count": 36,
   "metadata": {},
   "outputs": [
    {
     "data": {
      "text/plain": [
       "<matplotlib.axes._subplots.AxesSubplot at 0x7f8535d7d950>"
      ]
     },
     "execution_count": 36,
     "metadata": {},
     "output_type": "execute_result"
    },
    {
     "data": {
      "image/png": "[encoded data removed]",
      "text/plain": [
       "<Figure size 1080x504 with 1 Axes>"
      ]
     },
     "metadata": {
      "needs_background": "light"
     },
     "output_type": "display_data"
    }
   ],
   "source": [
    "group_pop_genre=pop_genre_pivot_jp_.merge(pop_genre_pivot_eu_,on=['genre','total_sales'],how='outer') # \n",
    "#group_all=group_messages_call.merge(group_internet,on=['platform'],how='outer')\n",
    "group_pop_genre.merge(pop_genre_pivot_na_,on=['genre','total_sales'],how='outer')\n",
    "group_pop_genre.sort_values('total_sales', ascending = False).plot(kind='bar', figsize=(15, 7) )"
   ]
  },
  {
   "cell_type": "markdown",
   "metadata": {},
   "source": [
    "Самые продаваемые жанры игр\n",
    "\n",
    "в Японии Ролевые игры и Экшн. Связано это с тем что большинство платформ выпускают Аниме и прочее ролевые игры, которые любят в Японии. \n",
    "в Европе и Америке  топ жанров абсолютно одинаковый. на первом месте жанр Экшн  жанр игры где много  динамических  действий и развитие сюжета. "
   ]
  },
  {
   "cell_type": "markdown",
   "metadata": {},
   "source": [
    "<div class=\"alert alert-success\">\n",
    "<font size=\"5\"><b>Комментарий ревьюера</b></font>\n",
    " \n",
    "Из-за чего японский рынок игр так сильно отличается от других? \n",
    "\n",
    "</div>"
   ]
  },
  {
   "cell_type": "markdown",
   "metadata": {},
   "source": [
    "### Влияет ли рейтинг ESRB на продажи в отдельном регионе?"
   ]
  },
  {
   "cell_type": "code",
   "execution_count": 37,
   "metadata": {},
   "outputs": [
    {
     "data": {
      "text/plain": [
       "<matplotlib.axes._subplots.AxesSubplot at 0x7f8537ee1c50>"
      ]
     },
     "execution_count": 37,
     "metadata": {},
     "output_type": "execute_result"
    },
    {
     "data": {
      "image/png": "[encoded data removed]",
      "text/plain": [
       "<Figure size 1080x504 with 1 Axes>"
      ]
     },
     "metadata": {
      "needs_background": "light"
     },
     "output_type": "display_data"
    }
   ],
   "source": [
    "pop_rt_pivot=actual_df.pivot_table(index='rating',values=['na_sales','jp_sales','eu_sales'],aggfunc=('sum'))\n",
    "pop_rt_pivot\n",
    "pop_rt_pivot.sort_values('na_sales', ascending = False).plot(kind='bar', figsize=(15, 7))\n"
   ]
  },
  {
   "cell_type": "markdown",
   "metadata": {},
   "source": [
    "благодаря созданной свобной таблице мы наблюдаем следующее закономерность что во всех трех регионах одинково популярны игры с рейтингом М.\n",
    "Самые популярные в Америке, Японии и Европе игры с рейтингом с возрастным цензом от 17 лет(М)  \n",
    "На втором месте игры в Америке и Европ для подростков для всех (Е), а в Японии игры с рейтингом от 13 лет (Т)\n",
    "На третьем месте игры  в Америке и Европе игры с рейтингом(Т), а в Японии с рейтингом (Е)\n",
    "\n",
    "Соотеветсвенно если компания захочет выпустить игру и сразу попасть в топ пробаваемых ей надо ориентироваться на рейтинг М, так как он в регионах самый популярный и в отдельных регионах популярнее игры рейтинга Т почти в 2 раза. "
   ]
  },
  {
   "cell_type": "markdown",
   "metadata": {},
   "source": [
    "**Вывод по 4 шагу**\n",
    "На основе наших данных можно собрать некий образ основных покупателей по регинам:\n",
    "- В Европе и С. Америке это пользователь не младше 17 лет, который любит играть в Action, чаще всего он будет играть на PS4\n",
    "- В Японии это тоже пользователь не младше 17 лет, играющей в игры жанра Role-Playing на Nintendo 3DS. "
   ]
  },
  {
   "cell_type": "markdown",
   "metadata": {},
   "source": [
    "## Проверьте гипотезы"
   ]
  },
  {
   "cell_type": "markdown",
   "metadata": {},
   "source": [
    "### Средние пользовательские рейтинги платформ Xbox One и PC одинаковые&\n",
    "\n",
    "Нулевая гипотеза: cредний пользовательский рейтинг платформы XOne и PC равны.\n",
    "\n",
    "Альтернативная гипотеза: cредний пользовательский рейтинг платформы XOne и PC не равны"
   ]
  },
  {
   "cell_type": "code",
   "execution_count": 38,
   "metadata": {},
   "outputs": [
    {
     "name": "stdout",
     "output_type": "stream",
     "text": [
      "<class 'pandas.core.frame.DataFrame'>\n",
      "Int64Index: 148 entries, 458 to 16692\n",
      "Data columns (total 12 columns):\n",
      "name               148 non-null object\n",
      "platform           148 non-null object\n",
      "year_of_release    148 non-null int64\n",
      "genre              148 non-null object\n",
      "na_sales           148 non-null float64\n",
      "eu_sales           148 non-null float64\n",
      "jp_sales           148 non-null float64\n",
      "other_sales        148 non-null float64\n",
      "critic_score       148 non-null float64\n",
      "user_score         148 non-null float64\n",
      "rating             148 non-null object\n",
      "total_sales        148 non-null float64\n",
      "dtypes: float64(7), int64(1), object(4)\n",
      "memory usage: 15.0+ KB\n"
     ]
    }
   ],
   "source": [
    "#подговим наши тапблицы для проверки гепотих\n",
    "Xbox_One_=actual_df.query('platform==\"XOne\"').dropna()\n",
    "PC_=actual_df.query('platform==\"PC\"').dropna()\n",
    "PC_.info()"
   ]
  },
  {
   "cell_type": "code",
   "execution_count": 39,
   "metadata": {},
   "outputs": [
    {
     "name": "stdout",
     "output_type": "stream",
     "text": [
      "Дисперсия для платформы XOne: 1.7855118457300279\n",
      "Стандартное отклонение для платформы XOne: 1.3362304613089868\n",
      "99% значений попадают в интервал:+- 4 от среднего значения 7\n"
     ]
    }
   ],
   "source": [
    "alpha=0.05 # критический уровень статистической значимости\n",
    "Xbox_One_['user_score'].mean() # Среднее значение выречки пользователей Ультра\n",
    "disp_Xbox_One_=np.var(Xbox_One_['user_score'])\n",
    "print('Дисперсия для платформы XOne:',disp_Xbox_One_)\n",
    "std_XOne=np.sqrt(disp_Xbox_One_)\n",
    "print('Стандартное отклонение для платформы XOne:',std_XOne)\n",
    "print('99% значений попадают в интервал:+-',round(3*np.sqrt(disp_Xbox_One_)),'от среднего значения',round(Xbox_One_['user_score'].mean()))"
   ]
  },
  {
   "cell_type": "markdown",
   "metadata": {},
   "source": [
    "доверительный интрвал  рейтинга XOne  95%"
   ]
  },
  {
   "cell_type": "code",
   "execution_count": 40,
   "metadata": {},
   "outputs": [
    {
     "name": "stdout",
     "output_type": "stream",
     "text": [
      "Дисперсия для платформы PC: 2.912631026296567\n",
      "Стандартное отклонение для платформы PC: 1.7066432041573796\n",
      "99% значений попадают в интервал:+- 5 от среднего значения 6\n"
     ]
    }
   ],
   "source": [
    "\n",
    "PC_['user_score'].mean() # Среднее значение выречки пользователей Ультра\n",
    "disp_PC_=np.var(PC_['user_score'])\n",
    "print('Дисперсия для платформы PC:',disp_PC_)\n",
    "std_PC=np.sqrt(disp_PC_)\n",
    "print('Стандартное отклонение для платформы PC:',std_PC)\n",
    "print('99% значений попадают в интервал:+-',round(3*np.sqrt(disp_PC_)),'от среднего значения',round(PC_['user_score'].mean()))"
   ]
  },
  {
   "cell_type": "markdown",
   "metadata": {},
   "source": [
    "доверительный интрвал  рейтинга PC 95%\n",
    "\n",
    "Значения дисперсии  отличаются. Поэтому в функции st.ttest_ind буду использовать параметр equal_var=False"
   ]
  },
  {
   "cell_type": "code",
   "execution_count": 41,
   "metadata": {},
   "outputs": [
    {
     "name": "stdout",
     "output_type": "stream",
     "text": [
      "Значение p-value: 0.17882648263401307\n",
      "Отвергнуть нулевую гипотезу не удалось\n"
     ]
    }
   ],
   "source": [
    "alpha=.05 #Статистическая значимость\n",
    "result=st.ttest_ind(Xbox_One_['user_score'],PC_['user_score'],equal_var=False) \n",
    "print('Значение p-value:', result.pvalue)\n",
    "if result.pvalue<alpha:\n",
    "    print('Отвергаем нулевую гипотезу')\n",
    "else:\n",
    "    print('Отвергнуть нулевую гипотезу не удалось')"
   ]
  },
  {
   "cell_type": "markdown",
   "metadata": {},
   "source": [
    "Так как отвергли Н1, то это значит cредний пользовательский рейтинг платформы XOne и PC равны"
   ]
  },
  {
   "cell_type": "markdown",
   "metadata": {},
   "source": [
    "### Средние пользовательские рейтинги жанров Action (англ. «действие», экшен-игры) и Sports (англ. «спортивные соревнования») разные\n",
    "Нулевая гепотеза: Средние пользовательские рейтинги жанров Action и Sports равны\n",
    "\n",
    "Альтернативная гепотеза: Средние пользовательские рейтинги жанров Action и Sports разные"
   ]
  },
  {
   "cell_type": "code",
   "execution_count": 42,
   "metadata": {},
   "outputs": [],
   "source": [
    "#подговим наши тапблицы для проверки гепотих\n",
    "Action=actual_df.query('genre==\"Action\"').dropna()\n",
    "Sports=actual_df.query('genre==\"Sports\"').dropna()"
   ]
  },
  {
   "cell_type": "code",
   "execution_count": 43,
   "metadata": {},
   "outputs": [
    {
     "name": "stdout",
     "output_type": "stream",
     "text": [
      "Дисперсия для жанра Action: 1.640886878017616\n",
      "Стандартное отклонение для жанра Action: 1.2809710683764939\n",
      "99% значений попадают в интервал:+- 4 от среднего значения 7\n"
     ]
    }
   ],
   "source": [
    "alpha=0.05 # критический уровень статистической значимости\n",
    "Action['user_score'].mean() # Среднее значение выречки пользователей Ультра\n",
    "disp_Action=np.var(Action['user_score'])\n",
    "print('Дисперсия для жанра Action:',disp_Action)\n",
    "std_Action=np.sqrt(disp_Action)\n",
    "print('Стандартное отклонение для жанра Action:',std_Action)\n",
    "print('99% значений попадают в интервал:+-',round(3*np.sqrt(disp_Action)),'от среднего значения',round(Action['user_score'].mean()))"
   ]
  },
  {
   "cell_type": "code",
   "execution_count": 44,
   "metadata": {},
   "outputs": [
    {
     "name": "stdout",
     "output_type": "stream",
     "text": [
      "Дисперсия для жанра Action: 2.1122611570247933\n",
      "Стандартное для жанра Action: 1.4533620185710074\n",
      "99% значений попадают в интервал:+- 4 от среднего значения 6\n"
     ]
    }
   ],
   "source": [
    "alpha=0.05 # критический уровень статистической значимости\n",
    "Sports['user_score'].mean() # Среднее значение выречки пользователей Ультра\n",
    "disp_Sports=np.var(Sports['user_score'])\n",
    "print('Дисперсия для жанра Action:',disp_Sports)\n",
    "std_Sports=np.sqrt(disp_Sports)\n",
    "print('Стандартное для жанра Action:',std_Sports)\n",
    "print('99% значений попадают в интервал:+-',round(3*np.sqrt(disp_Sports)),'от среднего значения',round(Sports['user_score'].mean()))"
   ]
  },
  {
   "cell_type": "markdown",
   "metadata": {},
   "source": [
    "Дисперсии не равны, поэтому установим equal_var=False"
   ]
  },
  {
   "cell_type": "code",
   "execution_count": 45,
   "metadata": {},
   "outputs": [
    {
     "name": "stdout",
     "output_type": "stream",
     "text": [
      "Значение p-value: 1.0496920005008588e-13\n",
      "Отвергаем нулевую гипотезу\n"
     ]
    }
   ],
   "source": [
    "alpha=.05 #Статистическая значимость\n",
    "interested_value=Action['user_score'].mean()\n",
    "result=st.ttest_ind(Action['user_score'],Sports['user_score'],equal_var=False) \n",
    "print('Значение p-value:', result.pvalue)\n",
    "if (result.pvalue/2<alpha) and (Sports['user_score'].mean()<=interested_value):\n",
    "    print('Отвергаем нулевую гипотезу')\n",
    "else:\n",
    "    print('Отвергаем нулевую гипотезу не удалось')"
   ]
  },
  {
   "cell_type": "markdown",
   "metadata": {},
   "source": [
    "Нулевая гипотеза не подтвердилась. а это значит Средние пользовательские рейтинги жанров Action и Sports разные\n"
   ]
  },
  {
   "cell_type": "markdown",
   "metadata": {},
   "source": [
    "**Заключительные выводы**\n",
    "С помощью нашего анализа мы обработали массив и получили много нтересных данных\n",
    "1. составили рейтинг платформ в разных регионах\n",
    "- в Японии 3DS и PS3. Такие Топ продаж обусловлены тем что платформа 3DS это их разработка и большинство игр и платформ которые есть Европе или Америке, там не популярны.\n",
    "- в Европе PS4 и PS3. Популярность PS4 обусловлена доступностью и тем что на данную платформу выходят более качественные и эксклюзивные игры.\n",
    "- в Америке PS4 и XOne. Популярность PS4 обусловлена доступностью и тем что на данную платформу выходят более качественные и эксклюзивные игры, но так же попупулярен XOne. прямой конкурент PS\n",
    "2. составили рейтинг жанров в разных регионах\n",
    "- в Японии Ролевые игры и Экшн. Связано это с тем что большинство платформ выпускают Аниме и прочее ролевые игры, которые любят в Японии. \n",
    "- в Европе и Америке топ жанров абсолютно одинаковый. на первом месте жанр Экшн жанр игры где много динамических действий и развитие сюжета.\n",
    "3. Составили портреты пользователей\n",
    "- В Европе и С. Америке это пользователь не младше 17 лет, который любит играть в Action, чаще всего он будет играть на PS4\n",
    "- В Японии это тоже пользователь не младше 17 лет, играющей в игры жанра Role-Playing на Nintendo 3DS.\n",
    "4. Смогли найти самые продаваемыq жанр\n",
    "- Самый продаваемый и самый прибыльный является жанр Action.\n",
    "5. Что самая продаваемые игры были на платформу PS3\n",
    "6. Смогли так же определить примерную продолжительность актуальность платформ. она составляет 7-10 лет\n",
    "7. Так же обработали данные \n",
    "- Заменили названия столбцов (приведите к нижнему регистру)\n",
    "- Преобразовали данные в нужные типы. Опишите, в каких столбцах заменили тип данных и почему; Заменили тип данных в столбце с годом реализации, так как он имел тип с плавающей запятой. а у нас должно быть целое число. Так же исправили тип данных в столбце User_Score на тип с плавающей запятой.  \n",
    "- Обработали пропуски.\n",
    "Объясните, почему заполнили пропуски определённым образом или почему не стали это делать; Пропуски были удалены во всех столбцах, кроме тех что влияют на рейтинг. так как при удалении мы потеряем большой массив данных, а при замены на медиану или среднее число, эти жанные будут не корректны. так же заменили \"tbd\" на Nan. чтобы программа понимала что это пропуски а не просто текст\n",
    "\n",
    "Опишите причины, которые могли привести к пропускам; пропуски в столбцах Название, год и жанр появились из-за ошибок ввода данных Обратите внимание на аббревиатуру 'tbd' в столбцах с рейтингом. Отдельно разберите это значение и опишите, как его обработать; TBD - аббревиатура от английского To Be Determined (будет определено) или To Be Decided (будет решено). Используется, если какая-то информация еще не определена или решение по вопросу не принято. у нас данное значение в столбце с оценкой, что означает что данные еще не были подгружены или их мало для выставления каких-либо оценок\n",
    "\n",
    "Посчитайте суммарные продажи во всех регионах и запишите их в отдельный столбец."
   ]
  }
 ],
 "metadata": {
  "ExecuteTimeLog": [
   {
    "duration": 1683,
    "start_time": "2021-08-26T13:31:57.678Z"
   },
   {
    "duration": 54,
    "start_time": "2021-08-26T13:32:08.911Z"
   },
   {
    "duration": 23,
    "start_time": "2021-08-26T13:33:36.238Z"
   },
   {
    "duration": 110,
    "start_time": "2021-08-26T13:34:51.295Z"
   },
   {
    "duration": 110,
    "start_time": "2021-08-26T13:35:25.246Z"
   },
   {
    "duration": 109,
    "start_time": "2021-08-26T13:35:31.734Z"
   },
   {
    "duration": 155,
    "start_time": "2021-08-26T13:35:37.374Z"
   },
   {
    "duration": 4,
    "start_time": "2021-08-26T13:35:42.098Z"
   },
   {
    "duration": 4,
    "start_time": "2021-08-26T13:35:48.103Z"
   },
   {
    "duration": 34,
    "start_time": "2021-08-26T13:36:05.370Z"
   },
   {
    "duration": 787,
    "start_time": "2021-08-26T13:36:23.519Z"
   },
   {
    "duration": 598,
    "start_time": "2021-08-26T13:36:38.902Z"
   },
   {
    "duration": 43,
    "start_time": "2021-08-26T13:36:49.970Z"
   },
   {
    "duration": 35,
    "start_time": "2021-08-26T13:36:52.728Z"
   },
   {
    "duration": 38,
    "start_time": "2021-08-26T13:36:59.697Z"
   },
   {
    "duration": 69,
    "start_time": "2021-08-26T13:37:14.582Z"
   },
   {
    "duration": 20,
    "start_time": "2021-08-26T13:37:19.063Z"
   },
   {
    "duration": 57,
    "start_time": "2021-08-26T13:37:24.578Z"
   },
   {
    "duration": 45,
    "start_time": "2021-08-26T13:37:28.766Z"
   },
   {
    "duration": 18,
    "start_time": "2021-08-26T13:39:23.714Z"
   },
   {
    "duration": 41,
    "start_time": "2021-08-26T13:40:52.562Z"
   },
   {
    "duration": 27,
    "start_time": "2021-08-26T13:42:00.424Z"
   },
   {
    "duration": 20,
    "start_time": "2021-08-26T13:42:07.008Z"
   },
   {
    "duration": 21,
    "start_time": "2021-08-26T13:42:12.600Z"
   },
   {
    "duration": 19,
    "start_time": "2021-08-26T13:42:42.361Z"
   },
   {
    "duration": 27,
    "start_time": "2021-08-26T13:43:13.817Z"
   },
   {
    "duration": 29,
    "start_time": "2021-08-26T13:43:38.988Z"
   },
   {
    "duration": 33,
    "start_time": "2021-08-26T13:43:45.274Z"
   },
   {
    "duration": 1499,
    "start_time": "2021-08-26T13:43:55.421Z"
   },
   {
    "duration": 63,
    "start_time": "2021-08-26T13:43:56.923Z"
   },
   {
    "duration": 37,
    "start_time": "2021-08-26T13:43:56.990Z"
   },
   {
    "duration": 69,
    "start_time": "2021-08-26T13:43:57.030Z"
   },
   {
    "duration": 790,
    "start_time": "2021-08-26T13:43:57.102Z"
   },
   {
    "duration": 24,
    "start_time": "2021-08-26T13:44:05.199Z"
   },
   {
    "duration": -42,
    "start_time": "2021-08-26T13:44:34.756Z"
   },
   {
    "duration": -64,
    "start_time": "2021-08-26T13:49:04.967Z"
   },
   {
    "duration": 18,
    "start_time": "2021-08-26T13:49:09.010Z"
   },
   {
    "duration": 18,
    "start_time": "2021-08-26T13:49:17.622Z"
   },
   {
    "duration": 418,
    "start_time": "2021-08-26T13:49:43.844Z"
   },
   {
    "duration": 23,
    "start_time": "2021-08-26T13:49:50.181Z"
   },
   {
    "duration": 1537,
    "start_time": "2021-08-26T13:51:56.306Z"
   },
   {
    "duration": 62,
    "start_time": "2021-08-26T13:51:57.845Z"
   },
   {
    "duration": 24,
    "start_time": "2021-08-26T13:51:57.910Z"
   },
   {
    "duration": 74,
    "start_time": "2021-08-26T13:51:57.938Z"
   },
   {
    "duration": 19,
    "start_time": "2021-08-26T13:51:58.015Z"
   },
   {
    "duration": 49,
    "start_time": "2021-08-26T13:51:58.037Z"
   },
   {
    "duration": 32,
    "start_time": "2021-08-26T13:51:58.090Z"
   },
   {
    "duration": 19,
    "start_time": "2021-08-26T13:51:58.125Z"
   },
   {
    "duration": 66,
    "start_time": "2021-08-26T13:51:58.147Z"
   },
   {
    "duration": 32,
    "start_time": "2021-08-26T13:51:58.215Z"
   },
   {
    "duration": 1900,
    "start_time": "2021-08-26T13:53:19.743Z"
   },
   {
    "duration": 1745,
    "start_time": "2021-08-26T13:53:30.964Z"
   },
   {
    "duration": 11,
    "start_time": "2021-08-26T13:54:41.917Z"
   },
   {
    "duration": 1563,
    "start_time": "2021-08-26T14:49:04.097Z"
   },
   {
    "duration": 74,
    "start_time": "2021-08-26T14:49:05.662Z"
   },
   {
    "duration": 22,
    "start_time": "2021-08-26T14:49:05.739Z"
   },
   {
    "duration": 49,
    "start_time": "2021-08-26T14:49:05.785Z"
   },
   {
    "duration": 10,
    "start_time": "2021-08-26T14:49:05.837Z"
   },
   {
    "duration": 51,
    "start_time": "2021-08-26T14:49:05.850Z"
   },
   {
    "duration": 26,
    "start_time": "2021-08-26T14:49:05.904Z"
   },
   {
    "duration": 21,
    "start_time": "2021-08-26T14:49:05.933Z"
   },
   {
    "duration": 41,
    "start_time": "2021-08-26T14:49:05.957Z"
   },
   {
    "duration": 127,
    "start_time": "2021-08-26T14:49:06.002Z"
   },
   {
    "duration": -33,
    "start_time": "2021-08-26T14:49:06.165Z"
   },
   {
    "duration": -36,
    "start_time": "2021-08-26T14:49:06.169Z"
   },
   {
    "duration": -37,
    "start_time": "2021-08-26T14:49:06.172Z"
   },
   {
    "duration": -39,
    "start_time": "2021-08-26T14:49:06.175Z"
   },
   {
    "duration": -42,
    "start_time": "2021-08-26T14:49:06.179Z"
   },
   {
    "duration": -44,
    "start_time": "2021-08-26T14:49:06.183Z"
   },
   {
    "duration": 37,
    "start_time": "2021-08-26T14:49:11.698Z"
   },
   {
    "duration": 29,
    "start_time": "2021-08-26T14:49:13.443Z"
   },
   {
    "duration": 36,
    "start_time": "2021-08-26T14:49:17.989Z"
   },
   {
    "duration": 28,
    "start_time": "2021-08-26T14:49:21.353Z"
   },
   {
    "duration": 32,
    "start_time": "2021-08-26T14:49:24.999Z"
   },
   {
    "duration": 19,
    "start_time": "2021-08-26T14:49:27.896Z"
   },
   {
    "duration": 24,
    "start_time": "2021-08-26T14:49:32.134Z"
   },
   {
    "duration": 144,
    "start_time": "2021-08-26T14:50:01.143Z"
   },
   {
    "duration": 733,
    "start_time": "2021-08-26T14:55:02.747Z"
   },
   {
    "duration": 7,
    "start_time": "2021-08-26T14:55:08.784Z"
   },
   {
    "duration": 366,
    "start_time": "2021-08-26T14:56:17.235Z"
   },
   {
    "duration": 14,
    "start_time": "2021-08-26T14:56:25.114Z"
   },
   {
    "duration": 27,
    "start_time": "2021-08-26T14:59:02.056Z"
   },
   {
    "duration": 385,
    "start_time": "2021-08-26T15:03:45.009Z"
   },
   {
    "duration": 9,
    "start_time": "2021-08-26T15:03:48.389Z"
   },
   {
    "duration": 419,
    "start_time": "2021-08-26T15:04:56.783Z"
   },
   {
    "duration": 546,
    "start_time": "2021-08-26T15:05:06.965Z"
   },
   {
    "duration": 607,
    "start_time": "2021-08-26T15:06:36.613Z"
   },
   {
    "duration": 641,
    "start_time": "2021-08-26T15:07:02.076Z"
   },
   {
    "duration": 1857,
    "start_time": "2021-08-26T15:08:21.790Z"
   },
   {
    "duration": 65,
    "start_time": "2021-08-26T15:08:23.649Z"
   },
   {
    "duration": 23,
    "start_time": "2021-08-26T15:08:23.717Z"
   },
   {
    "duration": 70,
    "start_time": "2021-08-26T15:08:23.743Z"
   },
   {
    "duration": 13,
    "start_time": "2021-08-26T15:08:23.815Z"
   },
   {
    "duration": 19,
    "start_time": "2021-08-26T15:08:23.831Z"
   },
   {
    "duration": 51,
    "start_time": "2021-08-26T15:08:23.853Z"
   },
   {
    "duration": 28,
    "start_time": "2021-08-26T15:08:23.909Z"
   },
   {
    "duration": 60,
    "start_time": "2021-08-26T15:08:23.940Z"
   },
   {
    "duration": 33,
    "start_time": "2021-08-26T15:08:24.003Z"
   },
   {
    "duration": 48,
    "start_time": "2021-08-26T15:08:24.039Z"
   },
   {
    "duration": 35,
    "start_time": "2021-08-26T15:08:24.092Z"
   },
   {
    "duration": 67,
    "start_time": "2021-08-26T15:08:24.130Z"
   },
   {
    "duration": 33,
    "start_time": "2021-08-26T15:08:24.200Z"
   },
   {
    "duration": 19,
    "start_time": "2021-08-26T15:08:24.236Z"
   },
   {
    "duration": 31,
    "start_time": "2021-08-26T15:08:24.284Z"
   },
   {
    "duration": 17,
    "start_time": "2021-08-26T15:08:24.318Z"
   },
   {
    "duration": 56,
    "start_time": "2021-08-26T15:08:24.337Z"
   },
   {
    "duration": 3986,
    "start_time": "2021-08-26T15:08:24.396Z"
   },
   {
    "duration": 29,
    "start_time": "2021-08-26T15:10:46.939Z"
   },
   {
    "duration": 30,
    "start_time": "2021-08-26T15:12:33.694Z"
   },
   {
    "duration": 514,
    "start_time": "2021-08-26T15:13:19.567Z"
   },
   {
    "duration": 70,
    "start_time": "2021-08-26T15:13:33.393Z"
   },
   {
    "duration": 403,
    "start_time": "2021-08-26T15:15:15.959Z"
   },
   {
    "duration": 5235,
    "start_time": "2021-08-26T15:15:37.518Z"
   },
   {
    "duration": 3342,
    "start_time": "2021-08-26T15:16:40.390Z"
   },
   {
    "duration": 403,
    "start_time": "2021-08-26T15:17:04.356Z"
   },
   {
    "duration": 9,
    "start_time": "2021-08-26T15:17:09.206Z"
   },
   {
    "duration": 3,
    "start_time": "2021-08-26T15:17:33.059Z"
   },
   {
    "duration": 32,
    "start_time": "2021-08-26T15:17:37.914Z"
   },
   {
    "duration": 29,
    "start_time": "2021-08-26T15:18:08.632Z"
   },
   {
    "duration": 339,
    "start_time": "2021-08-26T15:19:53.180Z"
   },
   {
    "duration": 34,
    "start_time": "2021-08-26T15:20:21.495Z"
   },
   {
    "duration": 26,
    "start_time": "2021-08-26T15:20:30.236Z"
   },
   {
    "duration": 4,
    "start_time": "2021-08-26T15:25:07.359Z"
   },
   {
    "duration": 21,
    "start_time": "2021-08-26T15:25:31.167Z"
   },
   {
    "duration": 478,
    "start_time": "2021-08-26T15:26:51.950Z"
   },
   {
    "duration": 31,
    "start_time": "2021-08-26T15:26:53.740Z"
   },
   {
    "duration": 290,
    "start_time": "2021-08-26T15:29:54.669Z"
   },
   {
    "duration": 283,
    "start_time": "2021-08-26T15:30:10.671Z"
   },
   {
    "duration": 314,
    "start_time": "2021-08-26T21:50:51.975Z"
   },
   {
    "duration": 1532,
    "start_time": "2021-08-26T21:51:06.145Z"
   },
   {
    "duration": 60,
    "start_time": "2021-08-26T21:51:07.680Z"
   },
   {
    "duration": 32,
    "start_time": "2021-08-26T21:51:07.747Z"
   },
   {
    "duration": 37,
    "start_time": "2021-08-26T21:51:07.782Z"
   },
   {
    "duration": 12,
    "start_time": "2021-08-26T21:51:07.855Z"
   },
   {
    "duration": 19,
    "start_time": "2021-08-26T21:51:07.870Z"
   },
   {
    "duration": 20,
    "start_time": "2021-08-26T21:51:07.893Z"
   },
   {
    "duration": 56,
    "start_time": "2021-08-26T21:51:07.917Z"
   },
   {
    "duration": 33,
    "start_time": "2021-08-26T21:51:07.976Z"
   },
   {
    "duration": 46,
    "start_time": "2021-08-26T21:51:08.012Z"
   },
   {
    "duration": 28,
    "start_time": "2021-08-26T21:51:08.061Z"
   },
   {
    "duration": 45,
    "start_time": "2021-08-26T21:51:08.091Z"
   },
   {
    "duration": 36,
    "start_time": "2021-08-26T21:51:08.139Z"
   },
   {
    "duration": 41,
    "start_time": "2021-08-26T21:51:08.177Z"
   },
   {
    "duration": 15,
    "start_time": "2021-08-26T21:51:08.220Z"
   },
   {
    "duration": 24,
    "start_time": "2021-08-26T21:51:08.255Z"
   },
   {
    "duration": 24,
    "start_time": "2021-08-26T21:51:08.282Z"
   },
   {
    "duration": 45,
    "start_time": "2021-08-26T21:51:08.309Z"
   },
   {
    "duration": 3941,
    "start_time": "2021-08-26T21:51:08.356Z"
   },
   {
    "duration": 19,
    "start_time": "2021-08-26T21:51:12.300Z"
   },
   {
    "duration": 89,
    "start_time": "2021-08-26T21:51:12.321Z"
   },
   {
    "duration": 3642,
    "start_time": "2021-08-26T21:51:12.414Z"
   },
   {
    "duration": 9,
    "start_time": "2021-08-26T21:51:16.058Z"
   },
   {
    "duration": 34,
    "start_time": "2021-08-26T21:51:16.069Z"
   },
   {
    "duration": 49,
    "start_time": "2021-08-26T21:51:16.105Z"
   },
   {
    "duration": 30,
    "start_time": "2021-08-26T21:51:16.157Z"
   },
   {
    "duration": 20,
    "start_time": "2021-08-26T21:51:16.190Z"
   },
   {
    "duration": 347,
    "start_time": "2021-08-26T21:51:16.213Z"
   },
   {
    "duration": 388,
    "start_time": "2021-08-26T21:51:16.562Z"
   },
   {
    "duration": 23,
    "start_time": "2021-08-26T21:51:31.880Z"
   },
   {
    "duration": 246,
    "start_time": "2021-08-26T21:51:56.095Z"
   },
   {
    "duration": 7,
    "start_time": "2021-08-26T21:54:14.345Z"
   },
   {
    "duration": 5,
    "start_time": "2021-08-26T21:55:10.038Z"
   },
   {
    "duration": 7,
    "start_time": "2021-08-26T21:55:13.069Z"
   },
   {
    "duration": 6,
    "start_time": "2021-08-26T21:55:31.474Z"
   },
   {
    "duration": 176,
    "start_time": "2021-08-26T21:56:10.738Z"
   },
   {
    "duration": 280,
    "start_time": "2021-08-26T21:56:50.980Z"
   },
   {
    "duration": 185,
    "start_time": "2021-08-26T21:56:59.557Z"
   },
   {
    "duration": 254,
    "start_time": "2021-08-26T21:57:08.521Z"
   },
   {
    "duration": 220,
    "start_time": "2021-08-26T21:57:19.025Z"
   },
   {
    "duration": 7,
    "start_time": "2021-08-26T21:58:22.860Z"
   },
   {
    "duration": 86,
    "start_time": "2021-08-26T21:58:28.106Z"
   },
   {
    "duration": 1684,
    "start_time": "2021-08-26T21:58:36.939Z"
   },
   {
    "duration": 71,
    "start_time": "2021-08-26T21:58:38.626Z"
   },
   {
    "duration": 24,
    "start_time": "2021-08-26T21:58:38.700Z"
   },
   {
    "duration": 78,
    "start_time": "2021-08-26T21:58:38.727Z"
   },
   {
    "duration": 18,
    "start_time": "2021-08-26T21:58:38.808Z"
   },
   {
    "duration": 54,
    "start_time": "2021-08-26T21:58:38.829Z"
   },
   {
    "duration": 34,
    "start_time": "2021-08-26T21:58:38.886Z"
   },
   {
    "duration": 65,
    "start_time": "2021-08-26T21:58:38.924Z"
   },
   {
    "duration": 27,
    "start_time": "2021-08-26T21:58:38.994Z"
   },
   {
    "duration": 52,
    "start_time": "2021-08-26T21:58:39.024Z"
   },
   {
    "duration": 20,
    "start_time": "2021-08-26T21:58:39.079Z"
   },
   {
    "duration": 61,
    "start_time": "2021-08-26T21:58:39.102Z"
   },
   {
    "duration": 47,
    "start_time": "2021-08-26T21:58:39.167Z"
   },
   {
    "duration": 75,
    "start_time": "2021-08-26T21:58:39.217Z"
   },
   {
    "duration": 24,
    "start_time": "2021-08-26T21:58:39.295Z"
   },
   {
    "duration": 57,
    "start_time": "2021-08-26T21:58:39.323Z"
   },
   {
    "duration": 16,
    "start_time": "2021-08-26T21:58:39.384Z"
   },
   {
    "duration": 62,
    "start_time": "2021-08-26T21:58:39.403Z"
   },
   {
    "duration": 4178,
    "start_time": "2021-08-26T21:58:39.469Z"
   },
   {
    "duration": 31,
    "start_time": "2021-08-26T21:58:43.650Z"
   },
   {
    "duration": 102,
    "start_time": "2021-08-26T21:58:43.683Z"
   },
   {
    "duration": 4061,
    "start_time": "2021-08-26T21:58:43.788Z"
   },
   {
    "duration": 15,
    "start_time": "2021-08-26T21:58:47.856Z"
   },
   {
    "duration": 32,
    "start_time": "2021-08-26T21:58:47.875Z"
   },
   {
    "duration": 54,
    "start_time": "2021-08-26T21:58:47.910Z"
   },
   {
    "duration": 30,
    "start_time": "2021-08-26T21:58:47.968Z"
   },
   {
    "duration": 21,
    "start_time": "2021-08-26T21:58:48.001Z"
   },
   {
    "duration": 366,
    "start_time": "2021-08-26T21:58:48.024Z"
   },
   {
    "duration": 24,
    "start_time": "2021-08-26T21:58:48.394Z"
   },
   {
    "duration": 5,
    "start_time": "2021-08-26T21:58:48.420Z"
   },
   {
    "duration": 112,
    "start_time": "2021-08-26T21:58:48.455Z"
   },
   {
    "duration": 24,
    "start_time": "2021-08-26T22:00:00.592Z"
   },
   {
    "duration": 15,
    "start_time": "2021-08-26T22:05:22.737Z"
   },
   {
    "duration": 27,
    "start_time": "2021-08-26T22:08:11.795Z"
   },
   {
    "duration": 391,
    "start_time": "2021-08-26T22:09:25.573Z"
   },
   {
    "duration": 20,
    "start_time": "2021-08-26T22:09:40.252Z"
   },
   {
    "duration": 7,
    "start_time": "2021-08-26T22:10:30.974Z"
   },
   {
    "duration": 20,
    "start_time": "2021-08-26T22:10:38.730Z"
   },
   {
    "duration": 212,
    "start_time": "2021-08-26T22:14:47.045Z"
   },
   {
    "duration": 222,
    "start_time": "2021-08-26T22:15:08.589Z"
   },
   {
    "duration": 221,
    "start_time": "2021-08-26T22:15:37.001Z"
   },
   {
    "duration": 230,
    "start_time": "2021-08-26T22:15:57.321Z"
   },
   {
    "duration": 245,
    "start_time": "2021-08-26T22:16:18.711Z"
   },
   {
    "duration": 224,
    "start_time": "2021-08-26T22:16:40.507Z"
   },
   {
    "duration": 15,
    "start_time": "2021-08-26T22:23:26.584Z"
   },
   {
    "duration": 14,
    "start_time": "2021-08-26T22:23:42.265Z"
   },
   {
    "duration": 13,
    "start_time": "2021-08-26T22:23:46.983Z"
   },
   {
    "duration": 11,
    "start_time": "2021-08-26T22:23:50.660Z"
   },
   {
    "duration": 1907,
    "start_time": "2021-08-26T22:24:05.727Z"
   },
   {
    "duration": 1848,
    "start_time": "2021-08-26T22:24:14.544Z"
   },
   {
    "duration": 14,
    "start_time": "2021-08-26T22:29:14.236Z"
   },
   {
    "duration": 12,
    "start_time": "2021-08-26T22:29:24.105Z"
   },
   {
    "duration": 1752,
    "start_time": "2021-08-26T22:29:37.096Z"
   },
   {
    "duration": 13,
    "start_time": "2021-08-26T22:30:38.322Z"
   },
   {
    "duration": 12,
    "start_time": "2021-08-26T22:30:56.658Z"
   },
   {
    "duration": 1789,
    "start_time": "2021-08-26T22:31:12.403Z"
   },
   {
    "duration": 15,
    "start_time": "2021-08-26T22:31:35.179Z"
   },
   {
    "duration": 22,
    "start_time": "2021-08-26T22:34:13.515Z"
   },
   {
    "duration": 14,
    "start_time": "2021-08-26T22:36:49.096Z"
   },
   {
    "duration": 16,
    "start_time": "2021-08-26T22:37:05.482Z"
   },
   {
    "duration": 15,
    "start_time": "2021-08-26T22:37:22.950Z"
   },
   {
    "duration": 14,
    "start_time": "2021-08-26T22:37:37.099Z"
   },
   {
    "duration": 14,
    "start_time": "2021-08-26T22:37:47.601Z"
   },
   {
    "duration": 21,
    "start_time": "2021-08-26T22:38:55.835Z"
   },
   {
    "duration": 22,
    "start_time": "2021-08-26T22:39:10.487Z"
   },
   {
    "duration": 22,
    "start_time": "2021-08-26T22:39:30.480Z"
   },
   {
    "duration": 21,
    "start_time": "2021-08-26T22:41:33.919Z"
   },
   {
    "duration": 22,
    "start_time": "2021-08-26T22:42:03.279Z"
   },
   {
    "duration": 277,
    "start_time": "2021-08-26T22:42:17.542Z"
   },
   {
    "duration": 282,
    "start_time": "2021-08-26T22:42:50.624Z"
   },
   {
    "duration": 284,
    "start_time": "2021-08-26T22:43:07.242Z"
   },
   {
    "duration": 1483,
    "start_time": "2021-08-26T22:43:17.734Z"
   },
   {
    "duration": 57,
    "start_time": "2021-08-26T22:43:19.220Z"
   },
   {
    "duration": 23,
    "start_time": "2021-08-26T22:43:19.280Z"
   },
   {
    "duration": 57,
    "start_time": "2021-08-26T22:43:19.306Z"
   },
   {
    "duration": 12,
    "start_time": "2021-08-26T22:43:19.366Z"
   },
   {
    "duration": 34,
    "start_time": "2021-08-26T22:43:19.380Z"
   },
   {
    "duration": 39,
    "start_time": "2021-08-26T22:43:19.417Z"
   },
   {
    "duration": 19,
    "start_time": "2021-08-26T22:43:19.459Z"
   },
   {
    "duration": 43,
    "start_time": "2021-08-26T22:43:19.484Z"
   },
   {
    "duration": 42,
    "start_time": "2021-08-26T22:43:19.531Z"
   },
   {
    "duration": 35,
    "start_time": "2021-08-26T22:43:19.576Z"
   },
   {
    "duration": 41,
    "start_time": "2021-08-26T22:43:19.614Z"
   },
   {
    "duration": 34,
    "start_time": "2021-08-26T22:43:19.659Z"
   },
   {
    "duration": 68,
    "start_time": "2021-08-26T22:43:19.695Z"
   },
   {
    "duration": 17,
    "start_time": "2021-08-26T22:43:19.765Z"
   },
   {
    "duration": 23,
    "start_time": "2021-08-26T22:43:19.785Z"
   },
   {
    "duration": 46,
    "start_time": "2021-08-26T22:43:19.810Z"
   },
   {
    "duration": 27,
    "start_time": "2021-08-26T22:43:19.858Z"
   },
   {
    "duration": 4119,
    "start_time": "2021-08-26T22:43:19.887Z"
   },
   {
    "duration": 19,
    "start_time": "2021-08-26T22:43:24.009Z"
   },
   {
    "duration": 85,
    "start_time": "2021-08-26T22:43:24.031Z"
   },
   {
    "duration": 3765,
    "start_time": "2021-08-26T22:43:24.118Z"
   },
   {
    "duration": 9,
    "start_time": "2021-08-26T22:43:27.886Z"
   },
   {
    "duration": 42,
    "start_time": "2021-08-26T22:43:27.897Z"
   },
   {
    "duration": 22,
    "start_time": "2021-08-26T22:43:27.953Z"
   },
   {
    "duration": 30,
    "start_time": "2021-08-26T22:43:27.978Z"
   },
   {
    "duration": 52,
    "start_time": "2021-08-26T22:43:28.016Z"
   },
   {
    "duration": 337,
    "start_time": "2021-08-26T22:43:28.073Z"
   },
   {
    "duration": 42,
    "start_time": "2021-08-26T22:43:28.413Z"
   },
   {
    "duration": 7,
    "start_time": "2021-08-26T22:43:28.458Z"
   },
   {
    "duration": 115,
    "start_time": "2021-08-26T22:43:28.469Z"
   },
   {
    "duration": 22,
    "start_time": "2021-08-26T22:43:28.587Z"
   },
   {
    "duration": 17,
    "start_time": "2021-08-26T22:43:28.611Z"
   },
   {
    "duration": 47,
    "start_time": "2021-08-26T22:43:28.630Z"
   },
   {
    "duration": 24,
    "start_time": "2021-08-26T22:43:28.679Z"
   },
   {
    "duration": 244,
    "start_time": "2021-08-26T22:43:28.706Z"
   },
   {
    "duration": 240,
    "start_time": "2021-08-26T22:43:28.952Z"
   },
   {
    "duration": 227,
    "start_time": "2021-08-26T22:43:29.194Z"
   },
   {
    "duration": 242,
    "start_time": "2021-08-26T22:43:29.424Z"
   },
   {
    "duration": 243,
    "start_time": "2021-08-26T22:43:29.669Z"
   },
   {
    "duration": 256,
    "start_time": "2021-08-26T22:43:29.915Z"
   },
   {
    "duration": 12,
    "start_time": "2021-08-26T22:43:30.173Z"
   },
   {
    "duration": 27,
    "start_time": "2021-08-26T22:43:30.188Z"
   },
   {
    "duration": 1917,
    "start_time": "2021-08-26T22:43:30.217Z"
   },
   {
    "duration": 23,
    "start_time": "2021-08-26T22:43:32.137Z"
   },
   {
    "duration": 15,
    "start_time": "2021-08-26T22:43:32.162Z"
   },
   {
    "duration": 1664,
    "start_time": "2021-08-26T22:43:32.180Z"
   },
   {
    "duration": 19,
    "start_time": "2021-08-26T22:43:33.846Z"
   },
   {
    "duration": 15,
    "start_time": "2021-08-26T22:43:33.868Z"
   },
   {
    "duration": 1807,
    "start_time": "2021-08-26T22:43:33.886Z"
   },
   {
    "duration": 14,
    "start_time": "2021-08-26T22:43:35.696Z"
   },
   {
    "duration": 16,
    "start_time": "2021-08-26T22:43:35.712Z"
   },
   {
    "duration": 2041,
    "start_time": "2021-08-26T22:43:35.730Z"
   },
   {
    "duration": 14,
    "start_time": "2021-08-26T22:43:37.773Z"
   },
   {
    "duration": 20,
    "start_time": "2021-08-26T22:43:37.789Z"
   },
   {
    "duration": 1752,
    "start_time": "2021-08-26T22:43:37.811Z"
   },
   {
    "duration": 21,
    "start_time": "2021-08-26T22:43:39.566Z"
   },
   {
    "duration": 15,
    "start_time": "2021-08-26T22:43:39.589Z"
   },
   {
    "duration": 13,
    "start_time": "2021-08-26T22:43:39.606Z"
   },
   {
    "duration": 42,
    "start_time": "2021-08-26T22:43:39.622Z"
   },
   {
    "duration": 39,
    "start_time": "2021-08-26T22:43:39.666Z"
   },
   {
    "duration": 25,
    "start_time": "2021-08-26T22:43:39.707Z"
   },
   {
    "duration": 406,
    "start_time": "2021-08-26T22:43:39.734Z"
   },
   {
    "duration": -90,
    "start_time": "2021-08-26T22:43:40.232Z"
   },
   {
    "duration": -96,
    "start_time": "2021-08-26T22:43:40.239Z"
   },
   {
    "duration": -102,
    "start_time": "2021-08-26T22:43:40.247Z"
   },
   {
    "duration": 22,
    "start_time": "2021-08-26T22:43:56.242Z"
   },
   {
    "duration": 21,
    "start_time": "2021-08-26T22:43:59.674Z"
   },
   {
    "duration": 20,
    "start_time": "2021-08-26T22:44:03.647Z"
   },
   {
    "duration": 20,
    "start_time": "2021-08-26T22:44:05.967Z"
   },
   {
    "duration": 56,
    "start_time": "2021-08-26T22:46:30.857Z"
   },
   {
    "duration": 9,
    "start_time": "2021-08-26T22:46:38.720Z"
   },
   {
    "duration": 9,
    "start_time": "2021-08-26T22:46:45.548Z"
   },
   {
    "duration": 9,
    "start_time": "2021-08-26T22:46:49.812Z"
   },
   {
    "duration": 8,
    "start_time": "2021-08-26T22:49:20.802Z"
   },
   {
    "duration": 9,
    "start_time": "2021-08-26T22:49:23.397Z"
   },
   {
    "duration": 297,
    "start_time": "2021-08-26T22:49:36.892Z"
   },
   {
    "duration": 299,
    "start_time": "2021-08-26T22:49:45.232Z"
   },
   {
    "duration": 593,
    "start_time": "2021-08-26T22:51:11.112Z"
   },
   {
    "duration": 99,
    "start_time": "2021-08-26T22:51:19.476Z"
   },
   {
    "duration": 288,
    "start_time": "2021-08-26T22:52:03.254Z"
   },
   {
    "duration": 285,
    "start_time": "2021-08-26T22:52:15.207Z"
   },
   {
    "duration": 703,
    "start_time": "2021-08-26T22:53:57.394Z"
   },
   {
    "duration": 317,
    "start_time": "2021-08-26T22:54:04.758Z"
   },
   {
    "duration": 7,
    "start_time": "2021-08-26T22:55:14.359Z"
   },
   {
    "duration": 316,
    "start_time": "2021-08-26T22:56:15.306Z"
   },
   {
    "duration": 309,
    "start_time": "2021-08-26T22:56:32.423Z"
   },
   {
    "duration": 7,
    "start_time": "2021-08-26T22:57:04.481Z"
   },
   {
    "duration": 347,
    "start_time": "2021-08-27T07:18:23.773Z"
   },
   {
    "duration": 1589,
    "start_time": "2021-08-27T07:18:31.113Z"
   },
   {
    "duration": 62,
    "start_time": "2021-08-27T07:18:32.848Z"
   },
   {
    "duration": 26,
    "start_time": "2021-08-27T07:18:35.660Z"
   },
   {
    "duration": 409,
    "start_time": "2021-08-27T07:18:37.581Z"
   },
   {
    "duration": 54,
    "start_time": "2021-08-27T07:18:48.790Z"
   },
   {
    "duration": 62,
    "start_time": "2021-08-27T07:25:56.761Z"
   },
   {
    "duration": 7659,
    "start_time": "2021-08-27T07:26:31.723Z"
   },
   {
    "duration": 45,
    "start_time": "2021-08-27T07:27:35.599Z"
   },
   {
    "duration": 17,
    "start_time": "2021-08-27T07:28:05.735Z"
   },
   {
    "duration": 312,
    "start_time": "2021-08-27T07:28:57.008Z"
   },
   {
    "duration": 300,
    "start_time": "2021-08-27T07:29:01.969Z"
   },
   {
    "duration": 55,
    "start_time": "2021-08-27T07:29:07.846Z"
   },
   {
    "duration": 5,
    "start_time": "2021-08-27T07:35:19.457Z"
   },
   {
    "duration": 48,
    "start_time": "2021-08-27T07:35:41.479Z"
   },
   {
    "duration": 306,
    "start_time": "2021-08-27T07:37:39.008Z"
   },
   {
    "duration": 4,
    "start_time": "2021-08-27T07:42:06.599Z"
   },
   {
    "duration": 4,
    "start_time": "2021-08-27T07:43:05.521Z"
   },
   {
    "duration": 8,
    "start_time": "2021-08-27T07:43:52.408Z"
   },
   {
    "duration": 107,
    "start_time": "2021-08-27T07:44:33.600Z"
   },
   {
    "duration": 43,
    "start_time": "2021-08-27T07:44:52.376Z"
   },
   {
    "duration": 39,
    "start_time": "2021-08-27T07:45:08.203Z"
   },
   {
    "duration": 40,
    "start_time": "2021-08-27T07:45:17.935Z"
   },
   {
    "duration": 39,
    "start_time": "2021-08-27T07:45:23.980Z"
   },
   {
    "duration": 41,
    "start_time": "2021-08-27T07:46:07.520Z"
   },
   {
    "duration": 8,
    "start_time": "2021-08-27T07:46:11.041Z"
   },
   {
    "duration": 350,
    "start_time": "2021-08-27T07:46:16.921Z"
   },
   {
    "duration": 9,
    "start_time": "2021-08-27T07:46:48.377Z"
   },
   {
    "duration": -75,
    "start_time": "2021-08-27T07:47:16.398Z"
   },
   {
    "duration": 24,
    "start_time": "2021-08-27T07:47:27.402Z"
   },
   {
    "duration": -78,
    "start_time": "2021-08-27T07:48:37.877Z"
   },
   {
    "duration": 24,
    "start_time": "2021-08-27T07:48:45.039Z"
   },
   {
    "duration": 7365,
    "start_time": "2021-08-27T07:49:43.489Z"
   },
   {
    "duration": 25,
    "start_time": "2021-08-27T07:49:58.667Z"
   },
   {
    "duration": 325,
    "start_time": "2021-08-27T07:58:41.802Z"
   },
   {
    "duration": 35,
    "start_time": "2021-08-27T07:58:52.304Z"
   },
   {
    "duration": 17,
    "start_time": "2021-08-27T08:02:21.903Z"
   },
   {
    "duration": 12,
    "start_time": "2021-08-27T08:02:36.854Z"
   },
   {
    "duration": 20,
    "start_time": "2021-08-27T08:02:49.380Z"
   },
   {
    "duration": 299,
    "start_time": "2021-08-27T08:06:36.044Z"
   },
   {
    "duration": 16,
    "start_time": "2021-08-27T08:06:42.726Z"
   },
   {
    "duration": 16,
    "start_time": "2021-08-27T08:07:32.001Z"
   },
   {
    "duration": 14,
    "start_time": "2021-08-27T08:10:01.640Z"
   },
   {
    "duration": 27,
    "start_time": "2021-08-27T08:12:05.029Z"
   },
   {
    "duration": 30,
    "start_time": "2021-08-27T08:13:27.897Z"
   },
   {
    "duration": 23,
    "start_time": "2021-08-27T08:14:03.650Z"
   },
   {
    "duration": 24,
    "start_time": "2021-08-27T08:14:05.487Z"
   },
   {
    "duration": 25,
    "start_time": "2021-08-27T08:14:07.555Z"
   },
   {
    "duration": 27,
    "start_time": "2021-08-27T08:14:52.410Z"
   },
   {
    "duration": 25,
    "start_time": "2021-08-27T08:20:47.397Z"
   },
   {
    "duration": 49,
    "start_time": "2021-08-27T08:45:34.041Z"
   },
   {
    "duration": 109,
    "start_time": "2021-08-27T08:45:38.017Z"
   },
   {
    "duration": 86,
    "start_time": "2021-08-27T08:45:41.782Z"
   },
   {
    "duration": 106,
    "start_time": "2021-08-27T08:46:37.078Z"
   },
   {
    "duration": -86,
    "start_time": "2021-08-27T08:47:14.271Z"
   },
   {
    "duration": 395,
    "start_time": "2021-08-27T08:47:15.249Z"
   },
   {
    "duration": 2164,
    "start_time": "2021-08-27T08:47:26.280Z"
   },
   {
    "duration": 2165,
    "start_time": "2021-08-27T08:47:34.092Z"
   },
   {
    "duration": 382,
    "start_time": "2021-08-27T08:49:28.303Z"
   },
   {
    "duration": 358,
    "start_time": "2021-08-27T08:49:33.637Z"
   },
   {
    "duration": 2118,
    "start_time": "2021-08-27T08:49:43.375Z"
   },
   {
    "duration": 11111,
    "start_time": "2021-08-27T08:50:14.991Z"
   },
   {
    "duration": 10745,
    "start_time": "2021-08-27T08:50:32.222Z"
   },
   {
    "duration": 6,
    "start_time": "2021-08-27T08:51:23.509Z"
   },
   {
    "duration": 66,
    "start_time": "2021-08-27T08:51:25.655Z"
   },
   {
    "duration": 62,
    "start_time": "2021-08-27T08:51:27.990Z"
   },
   {
    "duration": 4,
    "start_time": "2021-08-27T08:51:32.436Z"
   },
   {
    "duration": 33,
    "start_time": "2021-08-27T08:51:34.681Z"
   },
   {
    "duration": 24,
    "start_time": "2021-08-27T08:51:37.376Z"
   },
   {
    "duration": 23,
    "start_time": "2021-08-27T08:51:39.024Z"
   },
   {
    "duration": 16,
    "start_time": "2021-08-27T08:51:42.525Z"
   },
   {
    "duration": 24,
    "start_time": "2021-08-27T08:51:45.260Z"
   },
   {
    "duration": 11704,
    "start_time": "2021-08-27T08:51:59.846Z"
   },
   {
    "duration": 371,
    "start_time": "2021-08-27T08:57:50.537Z"
   },
   {
    "duration": 10,
    "start_time": "2021-08-27T08:57:53.221Z"
   },
   {
    "duration": 15,
    "start_time": "2021-08-27T08:58:00.873Z"
   },
   {
    "duration": 357,
    "start_time": "2021-08-27T08:58:14.685Z"
   },
   {
    "duration": 127,
    "start_time": "2021-08-27T08:58:18.901Z"
   },
   {
    "duration": 7,
    "start_time": "2021-08-27T08:58:22.191Z"
   },
   {
    "duration": 357,
    "start_time": "2021-08-27T08:58:30.596Z"
   },
   {
    "duration": 21,
    "start_time": "2021-08-27T08:58:35.843Z"
   },
   {
    "duration": 317,
    "start_time": "2021-08-27T08:58:49.155Z"
   },
   {
    "duration": 330,
    "start_time": "2021-08-27T08:58:55.656Z"
   },
   {
    "duration": 327,
    "start_time": "2021-08-27T08:59:05.265Z"
   },
   {
    "duration": 419,
    "start_time": "2021-08-27T08:59:07.997Z"
   },
   {
    "duration": 330,
    "start_time": "2021-08-27T08:59:55.905Z"
   },
   {
    "duration": 324,
    "start_time": "2021-08-27T09:03:12.847Z"
   },
   {
    "duration": 272,
    "start_time": "2021-08-27T09:03:30.643Z"
   },
   {
    "duration": 23,
    "start_time": "2021-08-27T09:03:43.024Z"
   },
   {
    "duration": 24,
    "start_time": "2021-08-27T09:03:48.193Z"
   },
   {
    "duration": 16,
    "start_time": "2021-08-27T09:04:01.628Z"
   },
   {
    "duration": 19,
    "start_time": "2021-08-27T09:04:47.310Z"
   },
   {
    "duration": 345,
    "start_time": "2021-08-27T09:05:46.132Z"
   },
   {
    "duration": 327,
    "start_time": "2021-08-27T09:05:53.124Z"
   },
   {
    "duration": 334,
    "start_time": "2021-08-27T09:06:50.994Z"
   },
   {
    "duration": 17,
    "start_time": "2021-08-27T09:07:45.510Z"
   },
   {
    "duration": 18,
    "start_time": "2021-08-27T09:07:50.595Z"
   },
   {
    "duration": 17,
    "start_time": "2021-08-27T09:07:50.814Z"
   },
   {
    "duration": 32,
    "start_time": "2021-08-27T09:08:31.602Z"
   },
   {
    "duration": 6,
    "start_time": "2021-08-27T09:09:34.374Z"
   },
   {
    "duration": 6,
    "start_time": "2021-08-27T09:09:44.334Z"
   },
   {
    "duration": 9,
    "start_time": "2021-08-27T09:12:00.746Z"
   },
   {
    "duration": 7,
    "start_time": "2021-08-27T09:12:07.383Z"
   },
   {
    "duration": 9,
    "start_time": "2021-08-27T09:12:10.125Z"
   },
   {
    "duration": 6,
    "start_time": "2021-08-27T09:12:11.374Z"
   },
   {
    "duration": 321,
    "start_time": "2021-08-27T09:12:23.616Z"
   },
   {
    "duration": 9,
    "start_time": "2021-08-27T09:12:26.436Z"
   },
   {
    "duration": 6,
    "start_time": "2021-08-27T09:12:32.349Z"
   },
   {
    "duration": 15,
    "start_time": "2021-08-27T09:12:45.862Z"
   },
   {
    "duration": 5,
    "start_time": "2021-08-27T09:12:55.929Z"
   },
   {
    "duration": 2333,
    "start_time": "2021-08-27T09:14:48.337Z"
   },
   {
    "duration": 303,
    "start_time": "2021-08-27T09:51:46.514Z"
   },
   {
    "duration": 41,
    "start_time": "2021-08-27T09:51:50.826Z"
   },
   {
    "duration": 389,
    "start_time": "2021-08-27T09:52:41.961Z"
   },
   {
    "duration": 322,
    "start_time": "2021-08-27T09:58:03.832Z"
   },
   {
    "duration": 14,
    "start_time": "2021-08-27T09:58:09.039Z"
   },
   {
    "duration": 19,
    "start_time": "2021-08-27T09:58:18.632Z"
   },
   {
    "duration": 17,
    "start_time": "2021-08-27T09:58:23.713Z"
   },
   {
    "duration": 15,
    "start_time": "2021-08-27T10:00:39.952Z"
   },
   {
    "duration": 22,
    "start_time": "2021-08-27T10:01:08.541Z"
   },
   {
    "duration": 22,
    "start_time": "2021-08-27T10:01:22.229Z"
   },
   {
    "duration": 21,
    "start_time": "2021-08-27T10:01:34.235Z"
   },
   {
    "duration": 21,
    "start_time": "2021-08-27T10:01:43.838Z"
   },
   {
    "duration": 15,
    "start_time": "2021-08-27T10:02:00.065Z"
   },
   {
    "duration": 13,
    "start_time": "2021-08-27T10:02:05.919Z"
   },
   {
    "duration": 28,
    "start_time": "2021-08-27T10:02:07.698Z"
   },
   {
    "duration": 14,
    "start_time": "2021-08-27T10:02:09.981Z"
   },
   {
    "duration": 297,
    "start_time": "2021-08-27T10:03:40.679Z"
   },
   {
    "duration": 19,
    "start_time": "2021-08-27T10:03:49.746Z"
   },
   {
    "duration": 45,
    "start_time": "2021-08-27T10:03:58.397Z"
   },
   {
    "duration": 34,
    "start_time": "2021-08-27T10:04:36.131Z"
   },
   {
    "duration": 326,
    "start_time": "2021-08-27T10:04:49.262Z"
   },
   {
    "duration": 401,
    "start_time": "2021-08-27T10:04:54.873Z"
   },
   {
    "duration": 36,
    "start_time": "2021-08-27T10:05:05.245Z"
   },
   {
    "duration": -190,
    "start_time": "2021-08-27T10:06:55.547Z"
   },
   {
    "duration": 31,
    "start_time": "2021-08-27T10:06:58.123Z"
   },
   {
    "duration": 20,
    "start_time": "2021-08-27T10:07:02.350Z"
   },
   {
    "duration": 28,
    "start_time": "2021-08-27T10:08:30.057Z"
   },
   {
    "duration": 475,
    "start_time": "2021-08-27T10:10:15.959Z"
   },
   {
    "duration": 458,
    "start_time": "2021-08-27T10:10:19.668Z"
   },
   {
    "duration": 103,
    "start_time": "2021-08-27T10:11:17.812Z"
   },
   {
    "duration": 287,
    "start_time": "2021-08-27T10:11:21.460Z"
   },
   {
    "duration": 36,
    "start_time": "2021-08-27T10:11:49.994Z"
   },
   {
    "duration": 26,
    "start_time": "2021-08-27T10:11:58.093Z"
   },
   {
    "duration": 784,
    "start_time": "2021-08-27T10:12:08.288Z"
   },
   {
    "duration": 46,
    "start_time": "2021-08-27T10:12:23.913Z"
   },
   {
    "duration": 312,
    "start_time": "2021-08-27T10:13:43.357Z"
   },
   {
    "duration": 38,
    "start_time": "2021-08-27T10:14:46.616Z"
   },
   {
    "duration": 17,
    "start_time": "2021-08-27T10:14:51.666Z"
   },
   {
    "duration": 402,
    "start_time": "2021-08-27T10:15:11.985Z"
   },
   {
    "duration": 376,
    "start_time": "2021-08-27T10:15:16.582Z"
   },
   {
    "duration": 13,
    "start_time": "2021-08-27T10:15:31.810Z"
   },
   {
    "duration": 18,
    "start_time": "2021-08-27T10:16:29.242Z"
   },
   {
    "duration": 2133,
    "start_time": "2021-08-27T10:16:31.147Z"
   },
   {
    "duration": 29,
    "start_time": "2021-08-27T10:16:53.187Z"
   },
   {
    "duration": 381,
    "start_time": "2021-08-27T10:16:55.276Z"
   },
   {
    "duration": 20,
    "start_time": "2021-08-27T10:17:06.577Z"
   },
   {
    "duration": 3900,
    "start_time": "2021-08-27T10:17:08.358Z"
   },
   {
    "duration": 22,
    "start_time": "2021-08-27T10:17:37.672Z"
   },
   {
    "duration": 107,
    "start_time": "2021-08-27T10:17:52.152Z"
   },
   {
    "duration": 33,
    "start_time": "2021-08-27T10:17:55.693Z"
   },
   {
    "duration": 36,
    "start_time": "2021-08-27T10:18:10.816Z"
   },
   {
    "duration": 31,
    "start_time": "2021-08-27T10:19:10.629Z"
   },
   {
    "duration": 27,
    "start_time": "2021-08-27T10:19:13.747Z"
   },
   {
    "duration": 32,
    "start_time": "2021-08-27T10:20:21.618Z"
   },
   {
    "duration": 23,
    "start_time": "2021-08-27T10:21:37.213Z"
   },
   {
    "duration": 49,
    "start_time": "2021-08-27T10:21:44.500Z"
   },
   {
    "duration": 28,
    "start_time": "2021-08-27T10:22:04.454Z"
   },
   {
    "duration": 126,
    "start_time": "2021-08-27T10:22:34.202Z"
   },
   {
    "duration": 20,
    "start_time": "2021-08-27T10:22:37.057Z"
   },
   {
    "duration": 22,
    "start_time": "2021-08-27T10:22:57.832Z"
   },
   {
    "duration": 24,
    "start_time": "2021-08-27T10:23:19.923Z"
   },
   {
    "duration": 298,
    "start_time": "2021-08-27T10:23:47.237Z"
   },
   {
    "duration": 6,
    "start_time": "2021-08-27T10:24:06.960Z"
   },
   {
    "duration": 6,
    "start_time": "2021-08-27T10:24:34.785Z"
   },
   {
    "duration": 655,
    "start_time": "2021-08-27T10:26:42.916Z"
   },
   {
    "duration": 41,
    "start_time": "2021-08-27T10:27:21.987Z"
   },
   {
    "duration": 7,
    "start_time": "2021-08-27T10:27:27.711Z"
   },
   {
    "duration": 7,
    "start_time": "2021-08-27T10:27:45.973Z"
   },
   {
    "duration": 8,
    "start_time": "2021-08-27T10:28:00.233Z"
   },
   {
    "duration": 20,
    "start_time": "2021-08-27T10:28:22.764Z"
   },
   {
    "duration": 28,
    "start_time": "2021-08-27T10:28:31.966Z"
   },
   {
    "duration": 679,
    "start_time": "2021-08-27T10:29:16.596Z"
   },
   {
    "duration": 882,
    "start_time": "2021-08-27T11:03:10.764Z"
   },
   {
    "duration": 606,
    "start_time": "2021-08-27T11:03:39.212Z"
   },
   {
    "duration": 867,
    "start_time": "2021-08-27T11:04:05.187Z"
   },
   {
    "duration": 673,
    "start_time": "2021-08-27T11:04:16.203Z"
   },
   {
    "duration": 490,
    "start_time": "2021-08-27T11:04:28.932Z"
   },
   {
    "duration": 607,
    "start_time": "2021-08-27T11:06:04.727Z"
   },
   {
    "duration": 594,
    "start_time": "2021-08-27T11:06:24.917Z"
   },
   {
    "duration": 21,
    "start_time": "2021-08-27T11:06:48.339Z"
   },
   {
    "duration": 20,
    "start_time": "2021-08-27T11:06:54.245Z"
   },
   {
    "duration": 20,
    "start_time": "2021-08-27T11:07:16.537Z"
   },
   {
    "duration": 8,
    "start_time": "2021-08-27T11:07:20.799Z"
   },
   {
    "duration": 20,
    "start_time": "2021-08-27T11:07:22.319Z"
   },
   {
    "duration": 27,
    "start_time": "2021-08-27T11:07:50.884Z"
   },
   {
    "duration": 604,
    "start_time": "2021-08-27T11:07:57.715Z"
   },
   {
    "duration": 571,
    "start_time": "2021-08-27T11:08:12.695Z"
   },
   {
    "duration": 12,
    "start_time": "2021-08-27T11:13:30.879Z"
   },
   {
    "duration": 33,
    "start_time": "2021-08-27T11:13:38.382Z"
   },
   {
    "duration": 21,
    "start_time": "2021-08-27T11:13:53.687Z"
   },
   {
    "duration": 14,
    "start_time": "2021-08-27T11:14:22.147Z"
   },
   {
    "duration": 10,
    "start_time": "2021-08-27T11:15:05.794Z"
   },
   {
    "duration": 20,
    "start_time": "2021-08-27T11:15:11.328Z"
   },
   {
    "duration": 389,
    "start_time": "2021-08-27T11:18:46.275Z"
   },
   {
    "duration": 308,
    "start_time": "2021-08-27T11:18:51.243Z"
   },
   {
    "duration": 89,
    "start_time": "2021-08-27T11:18:54.552Z"
   },
   {
    "duration": 495,
    "start_time": "2021-08-27T11:18:57.532Z"
   },
   {
    "duration": 1587,
    "start_time": "2021-08-27T11:19:17.759Z"
   },
   {
    "duration": 71,
    "start_time": "2021-08-27T11:19:19.349Z"
   },
   {
    "duration": 53,
    "start_time": "2021-08-27T11:19:19.423Z"
   },
   {
    "duration": 5,
    "start_time": "2021-08-27T11:19:19.480Z"
   },
   {
    "duration": 26,
    "start_time": "2021-08-27T11:19:19.487Z"
   },
   {
    "duration": 17,
    "start_time": "2021-08-27T11:19:19.515Z"
   },
   {
    "duration": 56,
    "start_time": "2021-08-27T11:19:19.534Z"
   },
   {
    "duration": 26,
    "start_time": "2021-08-27T11:19:19.593Z"
   },
   {
    "duration": 14,
    "start_time": "2021-08-27T11:19:19.622Z"
   },
   {
    "duration": 52,
    "start_time": "2021-08-27T11:19:19.639Z"
   },
   {
    "duration": 7856,
    "start_time": "2021-08-27T11:19:19.694Z"
   },
   {
    "duration": 257,
    "start_time": "2021-08-27T11:19:27.553Z"
   },
   {
    "duration": 13,
    "start_time": "2021-08-27T11:19:27.812Z"
   },
   {
    "duration": 22,
    "start_time": "2021-08-27T11:19:27.827Z"
   },
   {
    "duration": 1592,
    "start_time": "2021-08-27T11:19:27.851Z"
   },
   {
    "duration": 6,
    "start_time": "2021-08-27T11:19:29.446Z"
   },
   {
    "duration": 39,
    "start_time": "2021-08-27T11:19:29.454Z"
   },
   {
    "duration": 473,
    "start_time": "2021-08-27T11:19:29.495Z"
   },
   {
    "duration": 719,
    "start_time": "2021-08-27T11:19:29.971Z"
   },
   {
    "duration": -91,
    "start_time": "2021-08-27T11:19:30.787Z"
   },
   {
    "duration": -115,
    "start_time": "2021-08-27T11:19:30.812Z"
   },
   {
    "duration": -120,
    "start_time": "2021-08-27T11:19:30.818Z"
   },
   {
    "duration": -147,
    "start_time": "2021-08-27T11:19:30.846Z"
   },
   {
    "duration": -150,
    "start_time": "2021-08-27T11:19:30.851Z"
   },
   {
    "duration": -177,
    "start_time": "2021-08-27T11:19:30.879Z"
   },
   {
    "duration": -182,
    "start_time": "2021-08-27T11:19:30.885Z"
   },
   {
    "duration": -209,
    "start_time": "2021-08-27T11:19:30.913Z"
   },
   {
    "duration": -214,
    "start_time": "2021-08-27T11:19:30.919Z"
   },
   {
    "duration": -239,
    "start_time": "2021-08-27T11:19:30.945Z"
   },
   {
    "duration": -244,
    "start_time": "2021-08-27T11:19:30.951Z"
   },
   {
    "duration": -320,
    "start_time": "2021-08-27T11:19:31.029Z"
   },
   {
    "duration": -220,
    "start_time": "2021-08-27T11:19:31.044Z"
   },
   {
    "duration": -224,
    "start_time": "2021-08-27T11:19:31.049Z"
   },
   {
    "duration": -657,
    "start_time": "2021-08-27T11:19:31.483Z"
   },
   {
    "duration": -662,
    "start_time": "2021-08-27T11:19:31.490Z"
   },
   {
    "duration": -670,
    "start_time": "2021-08-27T11:19:31.499Z"
   },
   {
    "duration": -698,
    "start_time": "2021-08-27T11:19:31.528Z"
   },
   {
    "duration": -714,
    "start_time": "2021-08-27T11:19:31.546Z"
   },
   {
    "duration": -724,
    "start_time": "2021-08-27T11:19:31.557Z"
   },
   {
    "duration": -753,
    "start_time": "2021-08-27T11:19:31.587Z"
   },
   {
    "duration": -764,
    "start_time": "2021-08-27T11:19:31.599Z"
   },
   {
    "duration": -790,
    "start_time": "2021-08-27T11:19:31.627Z"
   },
   {
    "duration": -819,
    "start_time": "2021-08-27T11:19:31.658Z"
   },
   {
    "duration": -845,
    "start_time": "2021-08-27T11:19:31.687Z"
   },
   {
    "duration": -818,
    "start_time": "2021-08-27T11:19:31.694Z"
   },
   {
    "duration": -848,
    "start_time": "2021-08-27T11:19:31.725Z"
   },
   {
    "duration": -876,
    "start_time": "2021-08-27T11:19:31.757Z"
   },
   {
    "duration": -902,
    "start_time": "2021-08-27T11:19:31.785Z"
   },
   {
    "duration": -907,
    "start_time": "2021-08-27T11:19:31.792Z"
   },
   {
    "duration": -940,
    "start_time": "2021-08-27T11:19:31.826Z"
   },
   {
    "duration": -970,
    "start_time": "2021-08-27T11:19:31.858Z"
   },
   {
    "duration": -1000,
    "start_time": "2021-08-27T11:19:31.889Z"
   },
   {
    "duration": -1004,
    "start_time": "2021-08-27T11:19:31.895Z"
   },
   {
    "duration": -1029,
    "start_time": "2021-08-27T11:19:31.922Z"
   },
   {
    "duration": -1033,
    "start_time": "2021-08-27T11:19:31.928Z"
   },
   {
    "duration": -1060,
    "start_time": "2021-08-27T11:19:31.957Z"
   },
   {
    "duration": -1074,
    "start_time": "2021-08-27T11:19:31.973Z"
   },
   {
    "duration": -1079,
    "start_time": "2021-08-27T11:19:31.979Z"
   },
   {
    "duration": -1083,
    "start_time": "2021-08-27T11:19:31.985Z"
   },
   {
    "duration": 829,
    "start_time": "2021-08-27T11:25:30.750Z"
   },
   {
    "duration": 494,
    "start_time": "2021-08-27T11:25:58.623Z"
   },
   {
    "duration": 463,
    "start_time": "2021-08-27T11:26:39.647Z"
   },
   {
    "duration": 8,
    "start_time": "2021-08-27T11:28:28.529Z"
   },
   {
    "duration": 25,
    "start_time": "2021-08-27T11:28:30.059Z"
   },
   {
    "duration": 456,
    "start_time": "2021-08-27T11:28:39.493Z"
   },
   {
    "duration": 3,
    "start_time": "2021-08-27T11:29:56.432Z"
   },
   {
    "duration": 4,
    "start_time": "2021-08-27T11:30:05.072Z"
   },
   {
    "duration": 98,
    "start_time": "2021-08-27T11:31:19.268Z"
   },
   {
    "duration": 18,
    "start_time": "2021-08-27T11:31:26.609Z"
   },
   {
    "duration": 20,
    "start_time": "2021-08-27T11:32:14.088Z"
   },
   {
    "duration": 5,
    "start_time": "2021-08-27T11:32:44.860Z"
   },
   {
    "duration": 88,
    "start_time": "2021-08-27T11:32:49.586Z"
   },
   {
    "duration": 432,
    "start_time": "2021-08-27T11:32:53.290Z"
   },
   {
    "duration": 580,
    "start_time": "2021-08-27T11:32:58.492Z"
   },
   {
    "duration": 583,
    "start_time": "2021-08-27T11:33:01.680Z"
   },
   {
    "duration": 21,
    "start_time": "2021-08-27T11:35:21.777Z"
   },
   {
    "duration": 27,
    "start_time": "2021-08-27T11:35:26.494Z"
   },
   {
    "duration": 26,
    "start_time": "2021-08-27T11:35:41.025Z"
   },
   {
    "duration": 23,
    "start_time": "2021-08-27T11:35:44.896Z"
   },
   {
    "duration": 22,
    "start_time": "2021-08-27T11:36:41.044Z"
   },
   {
    "duration": 101,
    "start_time": "2021-08-27T11:37:07.008Z"
   },
   {
    "duration": 98,
    "start_time": "2021-08-27T11:37:12.696Z"
   },
   {
    "duration": 95,
    "start_time": "2021-08-27T11:37:17.671Z"
   },
   {
    "duration": 94,
    "start_time": "2021-08-27T11:37:31.844Z"
   },
   {
    "duration": 24,
    "start_time": "2021-08-27T11:37:43.268Z"
   },
   {
    "duration": 598,
    "start_time": "2021-08-27T11:37:55.675Z"
   },
   {
    "duration": 24,
    "start_time": "2021-08-27T11:38:55.091Z"
   },
   {
    "duration": 12,
    "start_time": "2021-08-27T11:40:05.511Z"
   },
   {
    "duration": 44,
    "start_time": "2021-08-27T11:40:11.093Z"
   },
   {
    "duration": 44,
    "start_time": "2021-08-27T11:40:17.493Z"
   },
   {
    "duration": 29,
    "start_time": "2021-08-27T11:40:42.062Z"
   },
   {
    "duration": 351,
    "start_time": "2021-08-27T11:40:47.664Z"
   },
   {
    "duration": 21,
    "start_time": "2021-08-27T11:41:01.061Z"
   },
   {
    "duration": 352,
    "start_time": "2021-08-27T11:41:07.894Z"
   },
   {
    "duration": 332,
    "start_time": "2021-08-27T11:47:46.640Z"
   },
   {
    "duration": 318,
    "start_time": "2021-08-27T11:48:06.783Z"
   },
   {
    "duration": 336,
    "start_time": "2021-08-27T11:48:25.739Z"
   },
   {
    "duration": 418,
    "start_time": "2021-08-27T11:49:02.790Z"
   },
   {
    "duration": 101,
    "start_time": "2021-08-27T11:49:16.234Z"
   },
   {
    "duration": 229,
    "start_time": "2021-08-27T11:49:28.743Z"
   },
   {
    "duration": 517,
    "start_time": "2021-08-27T11:49:54.731Z"
   },
   {
    "duration": 479,
    "start_time": "2021-08-27T11:50:19.077Z"
   },
   {
    "duration": 979,
    "start_time": "2021-08-27T11:51:36.726Z"
   },
   {
    "duration": 677,
    "start_time": "2021-08-27T11:52:11.989Z"
   },
   {
    "duration": 542,
    "start_time": "2021-08-27T11:52:42.513Z"
   },
   {
    "duration": 432,
    "start_time": "2021-08-27T11:52:59.292Z"
   },
   {
    "duration": 347,
    "start_time": "2021-08-27T11:53:01.717Z"
   },
   {
    "duration": 101,
    "start_time": "2021-08-27T11:53:23.900Z"
   },
   {
    "duration": 103,
    "start_time": "2021-08-27T11:53:29.525Z"
   },
   {
    "duration": 117,
    "start_time": "2021-08-27T11:53:36.863Z"
   },
   {
    "duration": 127,
    "start_time": "2021-08-27T11:53:50.921Z"
   },
   {
    "duration": 375,
    "start_time": "2021-08-27T11:53:57.924Z"
   },
   {
    "duration": 344,
    "start_time": "2021-08-27T11:55:10.474Z"
   },
   {
    "duration": 4328,
    "start_time": "2021-08-27T11:55:21.952Z"
   },
   {
    "duration": 104,
    "start_time": "2021-08-27T11:56:36.174Z"
   },
   {
    "duration": 1352,
    "start_time": "2021-08-27T11:56:43.509Z"
   },
   {
    "duration": 11,
    "start_time": "2021-08-27T11:56:52.001Z"
   },
   {
    "duration": 23,
    "start_time": "2021-08-27T11:56:57.142Z"
   },
   {
    "duration": 17,
    "start_time": "2021-08-27T11:57:16.252Z"
   },
   {
    "duration": 17,
    "start_time": "2021-08-27T11:57:27.838Z"
   },
   {
    "duration": 18,
    "start_time": "2021-08-27T11:57:30.966Z"
   },
   {
    "duration": 870,
    "start_time": "2021-08-27T11:57:40.134Z"
   },
   {
    "duration": 1462,
    "start_time": "2021-08-27T11:59:41.876Z"
   },
   {
    "duration": 311,
    "start_time": "2021-08-27T12:00:26.314Z"
   },
   {
    "duration": 427,
    "start_time": "2021-08-27T12:00:58.027Z"
   },
   {
    "duration": 884,
    "start_time": "2021-08-27T12:01:09.515Z"
   },
   {
    "duration": 709,
    "start_time": "2021-08-27T12:01:15.235Z"
   },
   {
    "duration": 88,
    "start_time": "2021-08-27T12:05:11.028Z"
   },
   {
    "duration": 781,
    "start_time": "2021-08-27T12:05:25.074Z"
   },
   {
    "duration": 767,
    "start_time": "2021-08-27T12:07:14.102Z"
   },
   {
    "duration": 635,
    "start_time": "2021-08-27T12:07:28.879Z"
   },
   {
    "duration": 820,
    "start_time": "2021-08-27T12:07:34.260Z"
   },
   {
    "duration": 679,
    "start_time": "2021-08-27T12:08:01.509Z"
   },
   {
    "duration": 645,
    "start_time": "2021-08-27T12:08:10.725Z"
   },
   {
    "duration": 649,
    "start_time": "2021-08-27T12:08:46.682Z"
   },
   {
    "duration": 726,
    "start_time": "2021-08-27T12:08:52.544Z"
   },
   {
    "duration": 874,
    "start_time": "2021-08-27T12:08:57.520Z"
   },
   {
    "duration": 688,
    "start_time": "2021-08-27T12:10:22.453Z"
   },
   {
    "duration": 698,
    "start_time": "2021-08-27T12:10:51.361Z"
   },
   {
    "duration": 672,
    "start_time": "2021-08-27T12:11:07.172Z"
   },
   {
    "duration": 23,
    "start_time": "2021-08-27T12:12:04.876Z"
   },
   {
    "duration": 13,
    "start_time": "2021-08-27T12:12:17.797Z"
   },
   {
    "duration": 16,
    "start_time": "2021-08-27T12:12:29.822Z"
   },
   {
    "duration": 17,
    "start_time": "2021-08-27T12:12:34.577Z"
   },
   {
    "duration": 27,
    "start_time": "2021-08-27T12:12:39.572Z"
   },
   {
    "duration": 11,
    "start_time": "2021-08-27T12:12:42.640Z"
   },
   {
    "duration": 8,
    "start_time": "2021-08-27T12:12:49.254Z"
   },
   {
    "duration": 17,
    "start_time": "2021-08-27T12:12:56.648Z"
   },
   {
    "duration": 24,
    "start_time": "2021-08-27T12:13:01.466Z"
   },
   {
    "duration": 1303,
    "start_time": "2021-08-27T12:13:10.249Z"
   },
   {
    "duration": 75,
    "start_time": "2021-08-27T12:13:11.554Z"
   },
   {
    "duration": 41,
    "start_time": "2021-08-27T12:13:11.631Z"
   },
   {
    "duration": 7,
    "start_time": "2021-08-27T12:13:11.674Z"
   },
   {
    "duration": 34,
    "start_time": "2021-08-27T12:13:11.684Z"
   },
   {
    "duration": 19,
    "start_time": "2021-08-27T12:13:11.720Z"
   },
   {
    "duration": 21,
    "start_time": "2021-08-27T12:13:11.742Z"
   },
   {
    "duration": 31,
    "start_time": "2021-08-27T12:13:11.767Z"
   },
   {
    "duration": 20,
    "start_time": "2021-08-27T12:13:11.801Z"
   },
   {
    "duration": 21,
    "start_time": "2021-08-27T12:13:11.823Z"
   },
   {
    "duration": 9209,
    "start_time": "2021-08-27T12:13:11.846Z"
   },
   {
    "duration": 372,
    "start_time": "2021-08-27T12:13:21.058Z"
   },
   {
    "duration": 18,
    "start_time": "2021-08-27T12:13:21.433Z"
   },
   {
    "duration": 31,
    "start_time": "2021-08-27T12:13:21.453Z"
   },
   {
    "duration": 1460,
    "start_time": "2021-08-27T12:13:21.487Z"
   },
   {
    "duration": 35,
    "start_time": "2021-08-27T12:13:22.949Z"
   },
   {
    "duration": 22,
    "start_time": "2021-08-27T12:13:22.986Z"
   },
   {
    "duration": 5,
    "start_time": "2021-08-27T12:13:23.010Z"
   },
   {
    "duration": 36,
    "start_time": "2021-08-27T12:13:23.017Z"
   },
   {
    "duration": 394,
    "start_time": "2021-08-27T12:13:23.055Z"
   },
   {
    "duration": 1182,
    "start_time": "2021-08-27T12:13:23.451Z"
   },
   {
    "duration": 384,
    "start_time": "2021-08-27T12:13:24.636Z"
   },
   {
    "duration": -156,
    "start_time": "2021-08-27T12:13:25.180Z"
   },
   {
    "duration": -172,
    "start_time": "2021-08-27T12:13:25.197Z"
   },
   {
    "duration": -178,
    "start_time": "2021-08-27T12:13:25.204Z"
   },
   {
    "duration": -194,
    "start_time": "2021-08-27T12:13:25.221Z"
   },
   {
    "duration": -209,
    "start_time": "2021-08-27T12:13:25.237Z"
   },
   {
    "duration": -223,
    "start_time": "2021-08-27T12:13:25.252Z"
   },
   {
    "duration": -239,
    "start_time": "2021-08-27T12:13:25.269Z"
   },
   {
    "duration": -252,
    "start_time": "2021-08-27T12:13:25.283Z"
   },
   {
    "duration": -257,
    "start_time": "2021-08-27T12:13:25.289Z"
   },
   {
    "duration": -270,
    "start_time": "2021-08-27T12:13:25.303Z"
   },
   {
    "duration": -285,
    "start_time": "2021-08-27T12:13:25.319Z"
   },
   {
    "duration": -290,
    "start_time": "2021-08-27T12:13:25.325Z"
   },
   {
    "duration": -295,
    "start_time": "2021-08-27T12:13:25.331Z"
   },
   {
    "duration": -299,
    "start_time": "2021-08-27T12:13:25.336Z"
   },
   {
    "duration": -304,
    "start_time": "2021-08-27T12:13:25.342Z"
   },
   {
    "duration": -307,
    "start_time": "2021-08-27T12:13:25.347Z"
   },
   {
    "duration": -311,
    "start_time": "2021-08-27T12:13:25.352Z"
   },
   {
    "duration": -314,
    "start_time": "2021-08-27T12:13:25.356Z"
   },
   {
    "duration": -318,
    "start_time": "2021-08-27T12:13:25.361Z"
   },
   {
    "duration": -320,
    "start_time": "2021-08-27T12:13:25.365Z"
   },
   {
    "duration": -324,
    "start_time": "2021-08-27T12:13:25.370Z"
   },
   {
    "duration": -327,
    "start_time": "2021-08-27T12:13:25.374Z"
   },
   {
    "duration": -331,
    "start_time": "2021-08-27T12:13:25.379Z"
   },
   {
    "duration": -347,
    "start_time": "2021-08-27T12:13:25.396Z"
   },
   {
    "duration": -351,
    "start_time": "2021-08-27T12:13:25.401Z"
   },
   {
    "duration": -354,
    "start_time": "2021-08-27T12:13:25.405Z"
   },
   {
    "duration": -357,
    "start_time": "2021-08-27T12:13:25.410Z"
   },
   {
    "duration": -360,
    "start_time": "2021-08-27T12:13:25.414Z"
   },
   {
    "duration": -374,
    "start_time": "2021-08-27T12:13:25.429Z"
   },
   {
    "duration": -377,
    "start_time": "2021-08-27T12:13:25.433Z"
   },
   {
    "duration": -381,
    "start_time": "2021-08-27T12:13:25.438Z"
   },
   {
    "duration": -386,
    "start_time": "2021-08-27T12:13:25.443Z"
   },
   {
    "duration": -390,
    "start_time": "2021-08-27T12:13:25.448Z"
   },
   {
    "duration": 1624,
    "start_time": "2021-08-27T12:17:57.530Z"
   },
   {
    "duration": 1148,
    "start_time": "2021-08-27T12:18:06.968Z"
   },
   {
    "duration": 3,
    "start_time": "2021-08-27T12:19:12.965Z"
   },
   {
    "duration": 1679,
    "start_time": "2021-08-27T12:20:06.505Z"
   },
   {
    "duration": 1114,
    "start_time": "2021-08-27T12:20:32.379Z"
   },
   {
    "duration": 1150,
    "start_time": "2021-08-27T12:20:49.033Z"
   },
   {
    "duration": 1762,
    "start_time": "2021-08-27T12:21:00.375Z"
   },
   {
    "duration": 90,
    "start_time": "2021-08-27T12:22:58.004Z"
   },
   {
    "duration": 2169,
    "start_time": "2021-08-27T12:23:13.023Z"
   },
   {
    "duration": 1548,
    "start_time": "2021-08-27T12:23:18.967Z"
   },
   {
    "duration": 3,
    "start_time": "2021-08-27T12:44:15.761Z"
   },
   {
    "duration": 287,
    "start_time": "2021-08-27T12:54:45.729Z"
   },
   {
    "duration": 6,
    "start_time": "2021-08-27T12:54:50.947Z"
   },
   {
    "duration": 225,
    "start_time": "2021-08-27T12:55:01.666Z"
   },
   {
    "duration": 167,
    "start_time": "2021-08-27T12:55:17.865Z"
   },
   {
    "duration": 206,
    "start_time": "2021-08-27T12:55:33.693Z"
   },
   {
    "duration": 327,
    "start_time": "2021-08-27T12:56:10.965Z"
   },
   {
    "duration": 217,
    "start_time": "2021-08-27T12:56:30.486Z"
   },
   {
    "duration": 217,
    "start_time": "2021-08-27T12:57:18.535Z"
   },
   {
    "duration": 221,
    "start_time": "2021-08-27T13:00:34.619Z"
   },
   {
    "duration": 223,
    "start_time": "2021-08-27T13:00:53.751Z"
   },
   {
    "duration": 216,
    "start_time": "2021-08-27T13:01:02.715Z"
   },
   {
    "duration": 224,
    "start_time": "2021-08-27T13:01:30.222Z"
   },
   {
    "duration": 157,
    "start_time": "2021-08-27T13:05:27.511Z"
   },
   {
    "duration": 393,
    "start_time": "2021-08-27T13:07:06.205Z"
   },
   {
    "duration": 34,
    "start_time": "2021-08-27T13:07:13.732Z"
   },
   {
    "duration": 21,
    "start_time": "2021-08-27T13:07:29.543Z"
   },
   {
    "duration": 300,
    "start_time": "2021-08-27T13:07:57.468Z"
   },
   {
    "duration": 35,
    "start_time": "2021-08-27T13:08:01.255Z"
   },
   {
    "duration": 97,
    "start_time": "2021-08-27T13:10:01.230Z"
   },
   {
    "duration": 88,
    "start_time": "2021-08-27T13:10:08.761Z"
   },
   {
    "duration": 111,
    "start_time": "2021-08-27T13:10:16.518Z"
   },
   {
    "duration": 93,
    "start_time": "2021-08-27T13:10:24.313Z"
   },
   {
    "duration": 207,
    "start_time": "2021-08-27T13:10:28.446Z"
   },
   {
    "duration": 164,
    "start_time": "2021-08-27T13:10:33.426Z"
   },
   {
    "duration": 105,
    "start_time": "2021-08-27T13:10:37.193Z"
   },
   {
    "duration": 934,
    "start_time": "2021-08-27T13:10:51.343Z"
   },
   {
    "duration": 11,
    "start_time": "2021-08-27T13:10:57.938Z"
   },
   {
    "duration": 15,
    "start_time": "2021-08-27T13:11:00.705Z"
   },
   {
    "duration": 19,
    "start_time": "2021-08-27T13:11:55.830Z"
   },
   {
    "duration": 16,
    "start_time": "2021-08-27T13:12:20.291Z"
   },
   {
    "duration": 315,
    "start_time": "2021-08-27T13:16:24.964Z"
   },
   {
    "duration": 10,
    "start_time": "2021-08-27T13:16:45.637Z"
   },
   {
    "duration": 21,
    "start_time": "2021-08-27T13:16:50.131Z"
   },
   {
    "duration": 14,
    "start_time": "2021-08-27T13:17:12.912Z"
   },
   {
    "duration": 23,
    "start_time": "2021-08-27T13:17:35.566Z"
   },
   {
    "duration": 19,
    "start_time": "2021-08-27T13:17:38.037Z"
   },
   {
    "duration": 28,
    "start_time": "2021-08-27T13:18:20.446Z"
   },
   {
    "duration": 20,
    "start_time": "2021-08-27T13:18:39.292Z"
   },
   {
    "duration": 18,
    "start_time": "2021-08-27T13:18:49.480Z"
   },
   {
    "duration": 16,
    "start_time": "2021-08-27T13:30:29.733Z"
   },
   {
    "duration": 15,
    "start_time": "2021-08-27T13:30:41.458Z"
   },
   {
    "duration": 16,
    "start_time": "2021-08-27T13:30:56.342Z"
   },
   {
    "duration": 15,
    "start_time": "2021-08-27T13:31:22.407Z"
   },
   {
    "duration": 17,
    "start_time": "2021-08-27T13:32:26.128Z"
   },
   {
    "duration": 15,
    "start_time": "2021-08-27T13:32:28.619Z"
   },
   {
    "duration": 17,
    "start_time": "2021-08-27T13:32:38.192Z"
   },
   {
    "duration": 20,
    "start_time": "2021-08-27T13:32:48.367Z"
   },
   {
    "duration": 311,
    "start_time": "2021-08-27T13:32:53.402Z"
   },
   {
    "duration": 17,
    "start_time": "2021-08-27T13:32:57.867Z"
   },
   {
    "duration": 17,
    "start_time": "2021-08-27T13:33:05.418Z"
   },
   {
    "duration": 106,
    "start_time": "2021-08-27T13:33:28.221Z"
   },
   {
    "duration": 298,
    "start_time": "2021-08-27T13:33:50.481Z"
   },
   {
    "duration": 19,
    "start_time": "2021-08-27T13:33:54.597Z"
   },
   {
    "duration": 16,
    "start_time": "2021-08-27T13:34:26.893Z"
   },
   {
    "duration": 303,
    "start_time": "2021-08-27T13:34:29.405Z"
   },
   {
    "duration": 18,
    "start_time": "2021-08-27T13:34:32.006Z"
   },
   {
    "duration": 18,
    "start_time": "2021-08-27T13:34:44.178Z"
   },
   {
    "duration": 314,
    "start_time": "2021-08-27T13:36:03.195Z"
   },
   {
    "duration": 294,
    "start_time": "2021-08-27T13:36:24.825Z"
   },
   {
    "duration": 20,
    "start_time": "2021-08-27T13:36:54.955Z"
   },
   {
    "duration": 1490,
    "start_time": "2021-08-27T15:23:09.253Z"
   },
   {
    "duration": 59,
    "start_time": "2021-08-27T15:23:10.745Z"
   },
   {
    "duration": 63,
    "start_time": "2021-08-27T15:23:10.806Z"
   },
   {
    "duration": 4,
    "start_time": "2021-08-27T15:23:10.872Z"
   },
   {
    "duration": 27,
    "start_time": "2021-08-27T15:23:10.879Z"
   },
   {
    "duration": 21,
    "start_time": "2021-08-27T15:23:10.908Z"
   },
   {
    "duration": 55,
    "start_time": "2021-08-27T15:23:10.931Z"
   },
   {
    "duration": 29,
    "start_time": "2021-08-27T15:23:10.990Z"
   },
   {
    "duration": 59,
    "start_time": "2021-08-27T15:23:11.022Z"
   },
   {
    "duration": 31,
    "start_time": "2021-08-27T15:23:11.084Z"
   },
   {
    "duration": 11135,
    "start_time": "2021-08-27T15:23:11.118Z"
   },
   {
    "duration": 342,
    "start_time": "2021-08-27T15:23:22.255Z"
   },
   {
    "duration": 17,
    "start_time": "2021-08-27T15:23:22.599Z"
   },
   {
    "duration": 7,
    "start_time": "2021-08-27T15:23:22.618Z"
   },
   {
    "duration": 2202,
    "start_time": "2021-08-27T15:23:22.628Z"
   },
   {
    "duration": 60,
    "start_time": "2021-08-27T15:23:24.833Z"
   },
   {
    "duration": 28,
    "start_time": "2021-08-27T15:23:24.897Z"
   },
   {
    "duration": 12,
    "start_time": "2021-08-27T15:23:24.928Z"
   },
   {
    "duration": 43,
    "start_time": "2021-08-27T15:23:24.969Z"
   },
   {
    "duration": 574,
    "start_time": "2021-08-27T15:23:25.015Z"
   },
   {
    "duration": 1602,
    "start_time": "2021-08-27T15:23:25.592Z"
   },
   {
    "duration": 1511,
    "start_time": "2021-08-27T15:23:27.197Z"
   },
   {
    "duration": 1534,
    "start_time": "2021-08-27T15:23:28.713Z"
   },
   {
    "duration": 1593,
    "start_time": "2021-08-27T15:23:30.250Z"
   },
   {
    "duration": 1440,
    "start_time": "2021-08-27T15:23:31.845Z"
   },
   {
    "duration": 335,
    "start_time": "2021-08-27T15:23:33.288Z"
   },
   {
    "duration": 335,
    "start_time": "2021-08-27T15:23:33.625Z"
   },
   {
    "duration": 29,
    "start_time": "2021-08-27T15:23:33.967Z"
   },
   {
    "duration": 24,
    "start_time": "2021-08-27T15:23:33.999Z"
   },
   {
    "duration": 63,
    "start_time": "2021-08-27T15:23:34.025Z"
   },
   {
    "duration": 27,
    "start_time": "2021-08-27T15:23:34.090Z"
   },
   {
    "duration": 21,
    "start_time": "2021-08-27T15:23:34.119Z"
   },
   {
    "duration": 30,
    "start_time": "2021-08-27T15:23:34.167Z"
   },
   {
    "duration": 25,
    "start_time": "2021-08-27T15:23:34.199Z"
   },
   {
    "duration": 48,
    "start_time": "2021-08-27T15:23:34.227Z"
   },
   {
    "duration": 3,
    "start_time": "2021-08-27T15:28:15.044Z"
   },
   {
    "duration": 21,
    "start_time": "2021-08-27T15:37:04.412Z"
   },
   {
    "duration": 19,
    "start_time": "2021-08-27T15:37:17.812Z"
   },
   {
    "duration": 20,
    "start_time": "2021-08-27T15:37:21.225Z"
   },
   {
    "duration": 22,
    "start_time": "2021-08-27T15:38:27.629Z"
   },
   {
    "duration": 26,
    "start_time": "2021-08-27T15:38:48.328Z"
   },
   {
    "duration": 23,
    "start_time": "2021-08-27T15:38:59.607Z"
   },
   {
    "duration": 1562,
    "start_time": "2021-08-27T15:43:02.672Z"
   },
   {
    "duration": 64,
    "start_time": "2021-08-27T15:43:04.237Z"
   },
   {
    "duration": 66,
    "start_time": "2021-08-27T15:43:04.304Z"
   },
   {
    "duration": 4,
    "start_time": "2021-08-27T15:43:04.373Z"
   },
   {
    "duration": 39,
    "start_time": "2021-08-27T15:43:04.380Z"
   },
   {
    "duration": 51,
    "start_time": "2021-08-27T15:43:04.421Z"
   },
   {
    "duration": 25,
    "start_time": "2021-08-27T15:43:04.475Z"
   },
   {
    "duration": 35,
    "start_time": "2021-08-27T15:43:04.502Z"
   },
   {
    "duration": 26,
    "start_time": "2021-08-27T15:43:04.569Z"
   },
   {
    "duration": 31,
    "start_time": "2021-08-27T15:43:04.598Z"
   },
   {
    "duration": 19269,
    "start_time": "2021-08-27T15:43:04.632Z"
   },
   {
    "duration": 537,
    "start_time": "2021-08-27T15:43:23.905Z"
   },
   {
    "duration": 42,
    "start_time": "2021-08-27T15:43:24.445Z"
   },
   {
    "duration": 7,
    "start_time": "2021-08-27T15:43:24.490Z"
   },
   {
    "duration": 2135,
    "start_time": "2021-08-27T15:43:24.500Z"
   },
   {
    "duration": 51,
    "start_time": "2021-08-27T15:43:26.638Z"
   },
   {
    "duration": 27,
    "start_time": "2021-08-27T15:43:26.691Z"
   },
   {
    "duration": 6,
    "start_time": "2021-08-27T15:43:26.721Z"
   },
   {
    "duration": 68,
    "start_time": "2021-08-27T15:43:26.729Z"
   },
   {
    "duration": 577,
    "start_time": "2021-08-27T15:43:26.800Z"
   },
   {
    "duration": 1582,
    "start_time": "2021-08-27T15:43:27.380Z"
   },
   {
    "duration": 1498,
    "start_time": "2021-08-27T15:43:28.968Z"
   },
   {
    "duration": 1601,
    "start_time": "2021-08-27T15:43:30.469Z"
   },
   {
    "duration": 1588,
    "start_time": "2021-08-27T15:43:32.073Z"
   },
   {
    "duration": 1427,
    "start_time": "2021-08-27T15:43:33.667Z"
   },
   {
    "duration": 325,
    "start_time": "2021-08-27T15:43:35.097Z"
   },
   {
    "duration": 341,
    "start_time": "2021-08-27T15:43:35.427Z"
   },
   {
    "duration": 21,
    "start_time": "2021-08-27T15:43:35.771Z"
   },
   {
    "duration": 42,
    "start_time": "2021-08-27T15:43:35.794Z"
   },
   {
    "duration": 46,
    "start_time": "2021-08-27T15:43:35.838Z"
   },
   {
    "duration": 39,
    "start_time": "2021-08-27T15:43:35.886Z"
   },
   {
    "duration": 51,
    "start_time": "2021-08-27T15:43:35.927Z"
   },
   {
    "duration": 22,
    "start_time": "2021-08-27T15:43:35.980Z"
   },
   {
    "duration": 23,
    "start_time": "2021-08-27T15:43:36.005Z"
   },
   {
    "duration": 64,
    "start_time": "2021-08-27T15:43:36.030Z"
   },
   {
    "duration": 32,
    "start_time": "2021-08-27T15:43:36.097Z"
   },
   {
    "duration": 21,
    "start_time": "2021-08-27T15:44:11.241Z"
   },
   {
    "duration": 27,
    "start_time": "2021-08-27T15:44:36.526Z"
   },
   {
    "duration": 127,
    "start_time": "2021-08-27T15:49:50.080Z"
   },
   {
    "duration": 40,
    "start_time": "2021-08-27T15:49:54.489Z"
   },
   {
    "duration": 36,
    "start_time": "2021-08-27T15:50:11.323Z"
   },
   {
    "duration": 25,
    "start_time": "2021-08-27T15:57:36.661Z"
   },
   {
    "duration": 23,
    "start_time": "2021-08-27T16:07:35.579Z"
   },
   {
    "duration": 482,
    "start_time": "2021-08-27T16:26:14.989Z"
   },
   {
    "duration": 10,
    "start_time": "2021-08-27T16:26:23.657Z"
   },
   {
    "duration": 414,
    "start_time": "2021-08-27T16:29:14.577Z"
   },
   {
    "duration": 1387,
    "start_time": "2021-08-27T16:30:34.394Z"
   },
   {
    "duration": 407,
    "start_time": "2021-08-27T16:31:19.359Z"
   },
   {
    "duration": 20,
    "start_time": "2021-08-27T16:31:55.111Z"
   },
   {
    "duration": 695,
    "start_time": "2021-08-27T16:32:08.745Z"
   },
   {
    "duration": 8,
    "start_time": "2021-08-27T16:32:24.762Z"
   },
   {
    "duration": 136,
    "start_time": "2021-08-27T16:33:27.833Z"
   },
   {
    "duration": 8,
    "start_time": "2021-08-27T16:34:10.985Z"
   },
   {
    "duration": 9,
    "start_time": "2021-08-27T16:35:19.483Z"
   },
   {
    "duration": 8,
    "start_time": "2021-08-27T16:35:37.867Z"
   },
   {
    "duration": 8,
    "start_time": "2021-08-27T16:36:06.347Z"
   },
   {
    "duration": 8,
    "start_time": "2021-08-27T16:36:26.346Z"
   },
   {
    "duration": 10,
    "start_time": "2021-08-27T16:36:45.222Z"
   },
   {
    "duration": 8,
    "start_time": "2021-08-27T16:37:17.578Z"
   },
   {
    "duration": 358,
    "start_time": "2021-08-27T16:39:32.587Z"
   },
   {
    "duration": 393,
    "start_time": "2021-08-27T16:40:26.065Z"
   },
   {
    "duration": 390,
    "start_time": "2021-08-27T16:41:14.954Z"
   },
   {
    "duration": 17,
    "start_time": "2021-08-27T16:42:05.021Z"
   },
   {
    "duration": 18,
    "start_time": "2021-08-27T16:42:12.713Z"
   },
   {
    "duration": 18,
    "start_time": "2021-08-27T16:42:15.776Z"
   },
   {
    "duration": 38,
    "start_time": "2021-08-27T16:42:24.708Z"
   },
   {
    "duration": 10,
    "start_time": "2021-08-27T16:43:13.180Z"
   },
   {
    "duration": 17,
    "start_time": "2021-08-27T16:43:17.686Z"
   },
   {
    "duration": 16,
    "start_time": "2021-08-27T16:43:58.130Z"
   },
   {
    "duration": 23,
    "start_time": "2021-08-27T16:47:27.929Z"
   },
   {
    "duration": 38,
    "start_time": "2021-08-27T16:47:31.921Z"
   },
   {
    "duration": 37,
    "start_time": "2021-08-27T16:47:52.366Z"
   },
   {
    "duration": 11,
    "start_time": "2021-08-27T16:47:56.094Z"
   },
   {
    "duration": 8,
    "start_time": "2021-08-27T16:48:08.212Z"
   },
   {
    "duration": 6,
    "start_time": "2021-08-27T16:54:18.421Z"
   },
   {
    "duration": 12,
    "start_time": "2021-08-27T16:57:34.860Z"
   },
   {
    "duration": 394,
    "start_time": "2021-08-27T16:58:48.804Z"
   },
   {
    "duration": 7,
    "start_time": "2021-08-27T16:59:07.657Z"
   },
   {
    "duration": 19,
    "start_time": "2021-08-27T17:03:19.801Z"
   },
   {
    "duration": 25,
    "start_time": "2021-08-27T17:03:46.742Z"
   },
   {
    "duration": 22,
    "start_time": "2021-08-27T17:04:42.395Z"
   },
   {
    "duration": 22,
    "start_time": "2021-08-27T17:04:54.983Z"
   },
   {
    "duration": 22,
    "start_time": "2021-08-27T17:05:12.586Z"
   },
   {
    "duration": 20,
    "start_time": "2021-08-27T17:05:36.190Z"
   },
   {
    "duration": 1871,
    "start_time": "2021-08-27T17:06:02.275Z"
   },
   {
    "duration": 62,
    "start_time": "2021-08-27T17:06:04.149Z"
   },
   {
    "duration": 79,
    "start_time": "2021-08-27T17:06:04.216Z"
   },
   {
    "duration": 4,
    "start_time": "2021-08-27T17:06:04.299Z"
   },
   {
    "duration": 35,
    "start_time": "2021-08-27T17:06:04.307Z"
   },
   {
    "duration": 25,
    "start_time": "2021-08-27T17:06:04.368Z"
   },
   {
    "duration": 27,
    "start_time": "2021-08-27T17:06:04.396Z"
   },
   {
    "duration": 66,
    "start_time": "2021-08-27T17:06:04.428Z"
   },
   {
    "duration": 26,
    "start_time": "2021-08-27T17:06:04.497Z"
   },
   {
    "duration": 50,
    "start_time": "2021-08-27T17:06:04.526Z"
   },
   {
    "duration": 11072,
    "start_time": "2021-08-27T17:06:04.579Z"
   },
   {
    "duration": 332,
    "start_time": "2021-08-27T17:06:15.654Z"
   },
   {
    "duration": 18,
    "start_time": "2021-08-27T17:06:15.989Z"
   },
   {
    "duration": 6,
    "start_time": "2021-08-27T17:06:16.009Z"
   },
   {
    "duration": 2376,
    "start_time": "2021-08-27T17:06:16.017Z"
   },
   {
    "duration": 35,
    "start_time": "2021-08-27T17:06:18.396Z"
   },
   {
    "duration": 48,
    "start_time": "2021-08-27T17:06:18.433Z"
   },
   {
    "duration": 6,
    "start_time": "2021-08-27T17:06:18.484Z"
   },
   {
    "duration": 39,
    "start_time": "2021-08-27T17:06:18.493Z"
   },
   {
    "duration": 844,
    "start_time": "2021-08-27T17:06:18.536Z"
   },
   {
    "duration": 1718,
    "start_time": "2021-08-27T17:06:19.383Z"
   },
   {
    "duration": 1547,
    "start_time": "2021-08-27T17:06:21.104Z"
   },
   {
    "duration": 2404,
    "start_time": "2021-08-27T17:06:22.668Z"
   },
   {
    "duration": 2338,
    "start_time": "2021-08-27T17:06:25.076Z"
   },
   {
    "duration": 1719,
    "start_time": "2021-08-27T17:06:27.418Z"
   },
   {
    "duration": 335,
    "start_time": "2021-08-27T17:06:29.139Z"
   },
   {
    "duration": 329,
    "start_time": "2021-08-27T17:06:29.476Z"
   },
   {
    "duration": 31,
    "start_time": "2021-08-27T17:06:29.808Z"
   },
   {
    "duration": 44,
    "start_time": "2021-08-27T17:06:29.842Z"
   },
   {
    "duration": 22,
    "start_time": "2021-08-27T17:06:29.888Z"
   },
   {
    "duration": 26,
    "start_time": "2021-08-27T17:06:29.912Z"
   },
   {
    "duration": 22,
    "start_time": "2021-08-27T17:06:29.968Z"
   },
   {
    "duration": 26,
    "start_time": "2021-08-27T17:06:29.993Z"
   },
   {
    "duration": 56,
    "start_time": "2021-08-27T17:06:30.022Z"
   },
   {
    "duration": 48,
    "start_time": "2021-08-27T17:06:30.080Z"
   },
   {
    "duration": 39,
    "start_time": "2021-08-27T17:06:30.131Z"
   },
   {
    "duration": 13,
    "start_time": "2021-08-27T17:06:30.174Z"
   },
   {
    "duration": 13,
    "start_time": "2021-08-27T17:06:30.190Z"
   },
   {
    "duration": 24,
    "start_time": "2021-08-27T17:06:30.206Z"
   },
   {
    "duration": 39,
    "start_time": "2021-08-27T17:06:30.233Z"
   },
   {
    "duration": 15,
    "start_time": "2021-08-27T17:07:10.006Z"
   },
   {
    "duration": 17,
    "start_time": "2021-08-27T17:07:17.221Z"
   },
   {
    "duration": 26,
    "start_time": "2021-08-27T17:07:23.638Z"
   },
   {
    "duration": 11,
    "start_time": "2021-08-27T17:07:30.338Z"
   },
   {
    "duration": 13,
    "start_time": "2021-08-27T17:07:32.838Z"
   },
   {
    "duration": 11,
    "start_time": "2021-08-27T17:07:39.813Z"
   },
   {
    "duration": 24,
    "start_time": "2021-08-27T17:14:26.380Z"
   },
   {
    "duration": 19,
    "start_time": "2021-08-27T17:14:39.310Z"
   },
   {
    "duration": 20,
    "start_time": "2021-08-27T17:14:41.984Z"
   },
   {
    "duration": 486,
    "start_time": "2021-08-27T17:16:11.346Z"
   },
   {
    "duration": 9,
    "start_time": "2021-08-27T17:16:21.682Z"
   },
   {
    "duration": 9,
    "start_time": "2021-08-27T17:17:34.039Z"
   },
   {
    "duration": 12,
    "start_time": "2021-08-27T17:18:03.831Z"
   },
   {
    "duration": 9,
    "start_time": "2021-08-27T17:18:32.636Z"
   },
   {
    "duration": 8,
    "start_time": "2021-08-27T17:19:28.213Z"
   },
   {
    "duration": 7,
    "start_time": "2021-08-27T17:19:56.920Z"
   },
   {
    "duration": 356,
    "start_time": "2021-08-27T17:20:23.217Z"
   },
   {
    "duration": 394,
    "start_time": "2021-08-27T17:20:52.224Z"
   },
   {
    "duration": 8,
    "start_time": "2021-08-27T17:21:20.920Z"
   },
   {
    "duration": 35,
    "start_time": "2021-08-27T17:32:19.972Z"
   },
   {
    "duration": 524,
    "start_time": "2021-08-27T17:32:22.296Z"
   },
   {
    "duration": 531,
    "start_time": "2021-08-27T17:32:31.104Z"
   },
   {
    "duration": 17,
    "start_time": "2021-08-27T17:33:16.596Z"
   },
   {
    "duration": 22,
    "start_time": "2021-08-27T17:33:29.683Z"
   },
   {
    "duration": 21,
    "start_time": "2021-08-27T17:33:38.719Z"
   },
   {
    "duration": 1602,
    "start_time": "2021-08-27T17:33:48.246Z"
   },
   {
    "duration": 61,
    "start_time": "2021-08-27T17:33:49.851Z"
   },
   {
    "duration": 74,
    "start_time": "2021-08-27T17:33:49.915Z"
   },
   {
    "duration": 4,
    "start_time": "2021-08-27T17:33:49.992Z"
   },
   {
    "duration": 29,
    "start_time": "2021-08-27T17:33:49.998Z"
   },
   {
    "duration": 48,
    "start_time": "2021-08-27T17:33:50.030Z"
   },
   {
    "duration": 22,
    "start_time": "2021-08-27T17:33:50.081Z"
   },
   {
    "duration": 34,
    "start_time": "2021-08-27T17:33:50.105Z"
   },
   {
    "duration": 25,
    "start_time": "2021-08-27T17:33:50.170Z"
   },
   {
    "duration": 33,
    "start_time": "2021-08-27T17:33:50.198Z"
   },
   {
    "duration": 11266,
    "start_time": "2021-08-27T17:33:50.234Z"
   },
   {
    "duration": 398,
    "start_time": "2021-08-27T17:34:01.503Z"
   },
   {
    "duration": 16,
    "start_time": "2021-08-27T17:34:01.903Z"
   },
   {
    "duration": 16,
    "start_time": "2021-08-27T17:34:01.921Z"
   },
   {
    "duration": 2134,
    "start_time": "2021-08-27T17:34:01.939Z"
   },
   {
    "duration": 36,
    "start_time": "2021-08-27T17:34:04.077Z"
   },
   {
    "duration": 58,
    "start_time": "2021-08-27T17:34:04.116Z"
   },
   {
    "duration": 8,
    "start_time": "2021-08-27T17:34:04.176Z"
   },
   {
    "duration": 38,
    "start_time": "2021-08-27T17:34:04.186Z"
   },
   {
    "duration": 582,
    "start_time": "2021-08-27T17:34:04.226Z"
   },
   {
    "duration": 1573,
    "start_time": "2021-08-27T17:34:04.811Z"
   },
   {
    "duration": 1614,
    "start_time": "2021-08-27T17:34:06.387Z"
   },
   {
    "duration": 1683,
    "start_time": "2021-08-27T17:34:08.004Z"
   },
   {
    "duration": 1738,
    "start_time": "2021-08-27T17:34:09.691Z"
   },
   {
    "duration": 1738,
    "start_time": "2021-08-27T17:34:11.432Z"
   },
   {
    "duration": 340,
    "start_time": "2021-08-27T17:34:13.172Z"
   },
   {
    "duration": 330,
    "start_time": "2021-08-27T17:34:13.517Z"
   },
   {
    "duration": 35,
    "start_time": "2021-08-27T17:34:13.850Z"
   },
   {
    "duration": 22,
    "start_time": "2021-08-27T17:34:13.887Z"
   },
   {
    "duration": 23,
    "start_time": "2021-08-27T17:34:13.911Z"
   },
   {
    "duration": 56,
    "start_time": "2021-08-27T17:34:13.937Z"
   },
   {
    "duration": 24,
    "start_time": "2021-08-27T17:34:13.995Z"
   },
   {
    "duration": 51,
    "start_time": "2021-08-27T17:34:14.022Z"
   },
   {
    "duration": 23,
    "start_time": "2021-08-27T17:34:14.076Z"
   },
   {
    "duration": 26,
    "start_time": "2021-08-27T17:34:14.102Z"
   },
   {
    "duration": 57,
    "start_time": "2021-08-27T17:34:14.131Z"
   },
   {
    "duration": 22,
    "start_time": "2021-08-27T17:34:14.191Z"
   },
   {
    "duration": 10,
    "start_time": "2021-08-27T17:34:14.215Z"
   },
   {
    "duration": 46,
    "start_time": "2021-08-27T17:34:14.227Z"
   },
   {
    "duration": 9,
    "start_time": "2021-08-27T17:34:14.276Z"
   },
   {
    "duration": 17,
    "start_time": "2021-08-27T17:34:14.288Z"
   },
   {
    "duration": 9,
    "start_time": "2021-08-27T17:34:14.308Z"
   },
   {
    "duration": 9,
    "start_time": "2021-08-27T17:34:14.367Z"
   },
   {
    "duration": 10,
    "start_time": "2021-08-27T17:34:14.380Z"
   },
   {
    "duration": 12,
    "start_time": "2021-08-27T17:36:18.050Z"
   },
   {
    "duration": 289,
    "start_time": "2021-08-29T08:34:13.614Z"
   },
   {
    "duration": 1123,
    "start_time": "2021-08-29T08:34:22.819Z"
   },
   {
    "duration": 45,
    "start_time": "2021-08-29T08:34:23.944Z"
   },
   {
    "duration": 32,
    "start_time": "2021-08-29T08:34:23.993Z"
   },
   {
    "duration": 3,
    "start_time": "2021-08-29T08:34:24.027Z"
   },
   {
    "duration": 21,
    "start_time": "2021-08-29T08:34:24.031Z"
   },
   {
    "duration": 18,
    "start_time": "2021-08-29T08:34:24.053Z"
   },
   {
    "duration": 31,
    "start_time": "2021-08-29T08:34:24.093Z"
   },
   {
    "duration": 21,
    "start_time": "2021-08-29T08:34:24.126Z"
   },
   {
    "duration": 17,
    "start_time": "2021-08-29T08:34:24.148Z"
   },
   {
    "duration": 33,
    "start_time": "2021-08-29T08:34:24.167Z"
   },
   {
    "duration": 5501,
    "start_time": "2021-08-29T08:34:24.201Z"
   },
   {
    "duration": 189,
    "start_time": "2021-08-29T08:34:29.704Z"
   },
   {
    "duration": 10,
    "start_time": "2021-08-29T08:34:29.895Z"
   },
   {
    "duration": 4,
    "start_time": "2021-08-29T08:34:29.907Z"
   },
   {
    "duration": 1179,
    "start_time": "2021-08-29T08:34:29.912Z"
   },
   {
    "duration": 19,
    "start_time": "2021-08-29T08:34:31.093Z"
   },
   {
    "duration": 16,
    "start_time": "2021-08-29T08:34:31.114Z"
   },
   {
    "duration": 11,
    "start_time": "2021-08-29T08:34:31.131Z"
   },
   {
    "duration": 18,
    "start_time": "2021-08-29T08:34:31.144Z"
   },
   {
    "duration": 308,
    "start_time": "2021-08-29T08:34:31.164Z"
   },
   {
    "duration": 1059,
    "start_time": "2021-08-29T08:34:31.473Z"
   },
   {
    "duration": 893,
    "start_time": "2021-08-29T08:34:32.536Z"
   },
   {
    "duration": 856,
    "start_time": "2021-08-29T08:34:33.432Z"
   },
   {
    "duration": 1002,
    "start_time": "2021-08-29T08:34:34.291Z"
   },
   {
    "duration": 791,
    "start_time": "2021-08-29T08:34:35.295Z"
   },
   {
    "duration": 193,
    "start_time": "2021-08-29T08:34:36.088Z"
   },
   {
    "duration": 183,
    "start_time": "2021-08-29T08:34:36.283Z"
   },
   {
    "duration": 25,
    "start_time": "2021-08-29T08:34:36.467Z"
   },
   {
    "duration": 15,
    "start_time": "2021-08-29T08:34:36.494Z"
   },
   {
    "duration": 13,
    "start_time": "2021-08-29T08:34:36.510Z"
   },
   {
    "duration": 50,
    "start_time": "2021-08-29T08:34:36.525Z"
   },
   {
    "duration": 13,
    "start_time": "2021-08-29T08:34:36.577Z"
   },
   {
    "duration": 12,
    "start_time": "2021-08-29T08:34:36.591Z"
   },
   {
    "duration": 12,
    "start_time": "2021-08-29T08:34:36.605Z"
   },
   {
    "duration": 14,
    "start_time": "2021-08-29T08:34:36.618Z"
   },
   {
    "duration": 14,
    "start_time": "2021-08-29T08:34:36.634Z"
   },
   {
    "duration": 44,
    "start_time": "2021-08-29T08:34:36.650Z"
   },
   {
    "duration": 8,
    "start_time": "2021-08-29T08:34:36.697Z"
   },
   {
    "duration": 7,
    "start_time": "2021-08-29T08:34:36.707Z"
   },
   {
    "duration": 6,
    "start_time": "2021-08-29T08:34:36.716Z"
   },
   {
    "duration": 14,
    "start_time": "2021-08-29T08:34:36.724Z"
   },
   {
    "duration": 9,
    "start_time": "2021-08-29T08:34:36.739Z"
   },
   {
    "duration": 10,
    "start_time": "2021-08-29T08:34:36.750Z"
   },
   {
    "duration": 31,
    "start_time": "2021-08-29T08:34:36.762Z"
   },
   {
    "duration": 25,
    "start_time": "2021-08-29T08:34:36.796Z"
   },
   {
    "duration": 14,
    "start_time": "2021-08-29T08:35:01.619Z"
   },
   {
    "duration": 13,
    "start_time": "2021-08-29T08:35:05.644Z"
   },
   {
    "duration": 16,
    "start_time": "2021-08-29T08:37:42.429Z"
   },
   {
    "duration": 15,
    "start_time": "2021-08-29T08:38:27.822Z"
   },
   {
    "duration": 6,
    "start_time": "2021-08-29T08:39:12.546Z"
   },
   {
    "duration": 343,
    "start_time": "2021-08-29T10:29:17.736Z"
   },
   {
    "duration": 335,
    "start_time": "2021-08-29T10:29:40.489Z"
   },
   {
    "duration": 397,
    "start_time": "2021-08-29T10:29:45.603Z"
   },
   {
    "duration": 274,
    "start_time": "2021-08-29T10:30:49.958Z"
   },
   {
    "duration": 269,
    "start_time": "2021-08-29T10:30:56.722Z"
   },
   {
    "duration": 272,
    "start_time": "2021-08-29T10:31:03.738Z"
   },
   {
    "duration": 1021,
    "start_time": "2021-08-29T10:31:52.795Z"
   },
   {
    "duration": 1020,
    "start_time": "2021-08-29T10:32:46.693Z"
   },
   {
    "duration": 1115,
    "start_time": "2021-08-29T10:35:38.317Z"
   },
   {
    "duration": 42,
    "start_time": "2021-08-29T10:35:39.434Z"
   },
   {
    "duration": 33,
    "start_time": "2021-08-29T10:35:39.481Z"
   },
   {
    "duration": 3,
    "start_time": "2021-08-29T10:35:39.516Z"
   },
   {
    "duration": 20,
    "start_time": "2021-08-29T10:35:39.521Z"
   },
   {
    "duration": 14,
    "start_time": "2021-08-29T10:35:39.543Z"
   },
   {
    "duration": 38,
    "start_time": "2021-08-29T10:35:39.560Z"
   },
   {
    "duration": 20,
    "start_time": "2021-08-29T10:35:39.600Z"
   },
   {
    "duration": 16,
    "start_time": "2021-08-29T10:35:39.622Z"
   },
   {
    "duration": 26,
    "start_time": "2021-08-29T10:35:39.640Z"
   },
   {
    "duration": 8368,
    "start_time": "2021-08-29T10:35:39.668Z"
   },
   {
    "duration": 187,
    "start_time": "2021-08-29T10:35:48.038Z"
   },
   {
    "duration": 11,
    "start_time": "2021-08-29T10:35:48.228Z"
   },
   {
    "duration": 9,
    "start_time": "2021-08-29T10:35:48.241Z"
   },
   {
    "duration": 1151,
    "start_time": "2021-08-29T10:35:48.251Z"
   },
   {
    "duration": 20,
    "start_time": "2021-08-29T10:35:49.404Z"
   },
   {
    "duration": 18,
    "start_time": "2021-08-29T10:35:49.425Z"
   },
   {
    "duration": 3,
    "start_time": "2021-08-29T10:35:49.445Z"
   },
   {
    "duration": 1155,
    "start_time": "2021-08-29T10:35:49.450Z"
   },
   {
    "duration": 6,
    "start_time": "2021-08-29T10:35:50.607Z"
   },
   {
    "duration": 303,
    "start_time": "2021-08-29T10:35:50.615Z"
   },
   {
    "duration": 904,
    "start_time": "2021-08-29T10:35:50.922Z"
   },
   {
    "duration": 872,
    "start_time": "2021-08-29T10:35:51.828Z"
   },
   {
    "duration": 1031,
    "start_time": "2021-08-29T10:35:52.702Z"
   },
   {
    "duration": 885,
    "start_time": "2021-08-29T10:35:53.735Z"
   },
   {
    "duration": 865,
    "start_time": "2021-08-29T10:35:54.622Z"
   },
   {
    "duration": 281,
    "start_time": "2021-08-29T10:35:55.489Z"
   },
   {
    "duration": 176,
    "start_time": "2021-08-29T10:35:55.772Z"
   },
   {
    "duration": 17,
    "start_time": "2021-08-29T10:35:55.950Z"
   },
   {
    "duration": 30,
    "start_time": "2021-08-29T10:35:55.969Z"
   },
   {
    "duration": 17,
    "start_time": "2021-08-29T10:35:56.001Z"
   },
   {
    "duration": 30,
    "start_time": "2021-08-29T10:35:56.020Z"
   },
   {
    "duration": 37,
    "start_time": "2021-08-29T10:35:56.052Z"
   },
   {
    "duration": 32,
    "start_time": "2021-08-29T10:35:56.091Z"
   },
   {
    "duration": 18,
    "start_time": "2021-08-29T10:35:56.125Z"
   },
   {
    "duration": 25,
    "start_time": "2021-08-29T10:35:56.145Z"
   },
   {
    "duration": 23,
    "start_time": "2021-08-29T10:35:56.171Z"
   },
   {
    "duration": 13,
    "start_time": "2021-08-29T10:35:56.195Z"
   },
   {
    "duration": 24,
    "start_time": "2021-08-29T10:35:56.209Z"
   },
   {
    "duration": 28,
    "start_time": "2021-08-29T10:35:56.234Z"
   },
   {
    "duration": 13,
    "start_time": "2021-08-29T10:35:56.264Z"
   },
   {
    "duration": 19,
    "start_time": "2021-08-29T10:35:56.279Z"
   },
   {
    "duration": 9,
    "start_time": "2021-08-29T10:35:56.300Z"
   },
   {
    "duration": 26,
    "start_time": "2021-08-29T10:35:56.310Z"
   },
   {
    "duration": 16,
    "start_time": "2021-08-29T10:35:56.338Z"
   },
   {
    "duration": 18,
    "start_time": "2021-08-29T10:49:39.116Z"
   },
   {
    "duration": 155,
    "start_time": "2021-08-29T10:51:42.812Z"
   },
   {
    "duration": 383,
    "start_time": "2021-08-29T10:51:55.264Z"
   },
   {
    "duration": 181,
    "start_time": "2021-08-29T10:52:09.540Z"
   },
   {
    "duration": 80,
    "start_time": "2021-08-29T10:52:22.518Z"
   },
   {
    "duration": 202,
    "start_time": "2021-08-29T10:52:24.666Z"
   },
   {
    "duration": 175,
    "start_time": "2021-08-29T10:52:32.717Z"
   },
   {
    "duration": 259,
    "start_time": "2021-08-29T10:53:11.828Z"
   },
   {
    "duration": 244,
    "start_time": "2021-08-29T10:53:42.111Z"
   },
   {
    "duration": 392,
    "start_time": "2021-08-29T10:54:13.815Z"
   },
   {
    "duration": 721,
    "start_time": "2021-08-29T10:54:19.088Z"
   },
   {
    "duration": 273,
    "start_time": "2021-08-29T10:54:24.176Z"
   },
   {
    "duration": 358,
    "start_time": "2021-08-29T10:54:26.922Z"
   },
   {
    "duration": 341,
    "start_time": "2021-08-29T10:54:45.128Z"
   },
   {
    "duration": 328,
    "start_time": "2021-08-29T10:55:14.099Z"
   },
   {
    "duration": 267,
    "start_time": "2021-08-29T10:55:21.468Z"
   },
   {
    "duration": 478,
    "start_time": "2021-08-29T10:55:26.093Z"
   },
   {
    "duration": 305,
    "start_time": "2021-08-29T10:55:33.228Z"
   },
   {
    "duration": 335,
    "start_time": "2021-08-29T10:55:42.411Z"
   },
   {
    "duration": 256,
    "start_time": "2021-08-29T10:55:52.343Z"
   },
   {
    "duration": 290,
    "start_time": "2021-08-29T10:56:13.433Z"
   },
   {
    "duration": 263,
    "start_time": "2021-08-29T10:56:24.123Z"
   },
   {
    "duration": 280,
    "start_time": "2021-08-29T10:57:11.547Z"
   },
   {
    "duration": 250,
    "start_time": "2021-08-29T10:57:27.274Z"
   },
   {
    "duration": 22,
    "start_time": "2021-08-29T10:57:33.590Z"
   },
   {
    "duration": 14,
    "start_time": "2021-08-29T10:57:45.103Z"
   },
   {
    "duration": 14,
    "start_time": "2021-08-29T10:57:57.946Z"
   },
   {
    "duration": 19,
    "start_time": "2021-08-29T11:00:23.872Z"
   },
   {
    "duration": 18,
    "start_time": "2021-08-29T11:00:30.188Z"
   },
   {
    "duration": 124,
    "start_time": "2021-08-29T11:00:34.143Z"
   },
   {
    "duration": 16,
    "start_time": "2021-08-29T11:00:44.410Z"
   },
   {
    "duration": 6361,
    "start_time": "2021-08-29T11:01:09.199Z"
   },
   {
    "duration": 6940,
    "start_time": "2021-08-29T11:08:21.821Z"
   },
   {
    "duration": 6,
    "start_time": "2021-08-29T11:08:58.385Z"
   },
   {
    "duration": 84,
    "start_time": "2021-08-29T11:09:28.365Z"
   },
   {
    "duration": 8,
    "start_time": "2021-08-29T11:09:36.900Z"
   },
   {
    "duration": 27,
    "start_time": "2021-08-29T11:09:43.429Z"
   },
   {
    "duration": 21,
    "start_time": "2021-08-29T11:09:59.765Z"
   },
   {
    "duration": 1441,
    "start_time": "2021-08-29T11:10:12.016Z"
   },
   {
    "duration": 61,
    "start_time": "2021-08-29T11:10:13.460Z"
   },
   {
    "duration": 50,
    "start_time": "2021-08-29T11:10:13.526Z"
   },
   {
    "duration": 14,
    "start_time": "2021-08-29T11:10:13.578Z"
   },
   {
    "duration": 24,
    "start_time": "2021-08-29T11:10:13.594Z"
   },
   {
    "duration": 22,
    "start_time": "2021-08-29T11:10:13.619Z"
   },
   {
    "duration": 47,
    "start_time": "2021-08-29T11:10:13.644Z"
   },
   {
    "duration": 33,
    "start_time": "2021-08-29T11:10:13.694Z"
   },
   {
    "duration": 26,
    "start_time": "2021-08-29T11:10:13.728Z"
   },
   {
    "duration": 54,
    "start_time": "2021-08-29T11:10:13.756Z"
   },
   {
    "duration": 6148,
    "start_time": "2021-08-29T11:10:13.812Z"
   },
   {
    "duration": 196,
    "start_time": "2021-08-29T11:10:19.962Z"
   },
   {
    "duration": 11,
    "start_time": "2021-08-29T11:10:20.160Z"
   },
   {
    "duration": 20,
    "start_time": "2021-08-29T11:10:20.173Z"
   },
   {
    "duration": 1211,
    "start_time": "2021-08-29T11:10:20.195Z"
   },
   {
    "duration": 23,
    "start_time": "2021-08-29T11:10:21.408Z"
   },
   {
    "duration": 18,
    "start_time": "2021-08-29T11:10:21.433Z"
   },
   {
    "duration": 4,
    "start_time": "2021-08-29T11:10:21.452Z"
   },
   {
    "duration": 1190,
    "start_time": "2021-08-29T11:10:21.458Z"
   },
   {
    "duration": 8,
    "start_time": "2021-08-29T11:10:22.650Z"
   },
   {
    "duration": 314,
    "start_time": "2021-08-29T11:10:22.660Z"
   },
   {
    "duration": 866,
    "start_time": "2021-08-29T11:10:22.977Z"
   },
   {
    "duration": 876,
    "start_time": "2021-08-29T11:10:23.845Z"
   },
   {
    "duration": 1023,
    "start_time": "2021-08-29T11:10:24.723Z"
   },
   {
    "duration": 939,
    "start_time": "2021-08-29T11:10:25.748Z"
   },
   {
    "duration": 923,
    "start_time": "2021-08-29T11:10:26.688Z"
   },
   {
    "duration": 399,
    "start_time": "2021-08-29T11:10:27.613Z"
   },
   {
    "duration": 255,
    "start_time": "2021-08-29T11:10:28.014Z"
   },
   {
    "duration": 31,
    "start_time": "2021-08-29T11:10:28.271Z"
   },
   {
    "duration": 17,
    "start_time": "2021-08-29T11:10:28.304Z"
   },
   {
    "duration": 17,
    "start_time": "2021-08-29T11:10:28.324Z"
   },
   {
    "duration": 460,
    "start_time": "2021-08-29T11:10:28.343Z"
   },
   {
    "duration": 16,
    "start_time": "2021-08-29T11:10:28.806Z"
   },
   {
    "duration": 15,
    "start_time": "2021-08-29T11:10:28.823Z"
   },
   {
    "duration": 14,
    "start_time": "2021-08-29T11:10:28.840Z"
   },
   {
    "duration": 366,
    "start_time": "2021-08-29T11:10:28.856Z"
   },
   {
    "duration": 20,
    "start_time": "2021-08-29T11:10:29.225Z"
   },
   {
    "duration": 19,
    "start_time": "2021-08-29T11:10:29.247Z"
   },
   {
    "duration": 29,
    "start_time": "2021-08-29T11:10:29.268Z"
   },
   {
    "duration": 9,
    "start_time": "2021-08-29T11:10:29.300Z"
   },
   {
    "duration": 7,
    "start_time": "2021-08-29T11:10:29.311Z"
   },
   {
    "duration": 19,
    "start_time": "2021-08-29T11:10:29.320Z"
   },
   {
    "duration": 6,
    "start_time": "2021-08-29T11:10:29.341Z"
   },
   {
    "duration": 13,
    "start_time": "2021-08-29T11:10:29.349Z"
   },
   {
    "duration": 7,
    "start_time": "2021-08-29T11:10:29.392Z"
   },
   {
    "duration": 24,
    "start_time": "2021-08-29T11:11:02.488Z"
   },
   {
    "duration": 21,
    "start_time": "2021-08-29T11:11:08.753Z"
   },
   {
    "duration": 16,
    "start_time": "2021-08-29T11:14:25.501Z"
   },
   {
    "duration": 14,
    "start_time": "2021-08-29T11:14:27.133Z"
   },
   {
    "duration": 21,
    "start_time": "2021-08-29T11:14:29.073Z"
   },
   {
    "duration": 1100,
    "start_time": "2021-08-29T11:14:36.223Z"
   },
   {
    "duration": 42,
    "start_time": "2021-08-29T11:14:37.325Z"
   },
   {
    "duration": 33,
    "start_time": "2021-08-29T11:14:37.369Z"
   },
   {
    "duration": 3,
    "start_time": "2021-08-29T11:14:37.403Z"
   },
   {
    "duration": 20,
    "start_time": "2021-08-29T11:14:37.408Z"
   },
   {
    "duration": 13,
    "start_time": "2021-08-29T11:14:37.429Z"
   },
   {
    "duration": 16,
    "start_time": "2021-08-29T11:14:37.444Z"
   },
   {
    "duration": 43,
    "start_time": "2021-08-29T11:14:37.463Z"
   },
   {
    "duration": 15,
    "start_time": "2021-08-29T11:14:37.509Z"
   },
   {
    "duration": 20,
    "start_time": "2021-08-29T11:14:37.526Z"
   },
   {
    "duration": 5978,
    "start_time": "2021-08-29T11:14:37.547Z"
   },
   {
    "duration": 176,
    "start_time": "2021-08-29T11:14:43.527Z"
   },
   {
    "duration": 10,
    "start_time": "2021-08-29T11:14:43.705Z"
   },
   {
    "duration": 4,
    "start_time": "2021-08-29T11:14:43.716Z"
   },
   {
    "duration": 1170,
    "start_time": "2021-08-29T11:14:43.721Z"
   },
   {
    "duration": 21,
    "start_time": "2021-08-29T11:14:44.893Z"
   },
   {
    "duration": 15,
    "start_time": "2021-08-29T11:14:44.916Z"
   },
   {
    "duration": 3,
    "start_time": "2021-08-29T11:14:44.933Z"
   },
   {
    "duration": 1053,
    "start_time": "2021-08-29T11:14:44.938Z"
   },
   {
    "duration": 7,
    "start_time": "2021-08-29T11:14:45.993Z"
   },
   {
    "duration": 383,
    "start_time": "2021-08-29T11:14:46.001Z"
   },
   {
    "duration": 820,
    "start_time": "2021-08-29T11:14:46.386Z"
   },
   {
    "duration": 804,
    "start_time": "2021-08-29T11:14:47.209Z"
   },
   {
    "duration": 990,
    "start_time": "2021-08-29T11:14:48.016Z"
   },
   {
    "duration": 907,
    "start_time": "2021-08-29T11:14:49.008Z"
   },
   {
    "duration": 1099,
    "start_time": "2021-08-29T11:14:49.917Z"
   },
   {
    "duration": 261,
    "start_time": "2021-08-29T11:14:51.018Z"
   },
   {
    "duration": 381,
    "start_time": "2021-08-29T11:14:51.281Z"
   },
   {
    "duration": 13,
    "start_time": "2021-08-29T11:14:51.664Z"
   },
   {
    "duration": 24,
    "start_time": "2021-08-29T11:14:51.679Z"
   },
   {
    "duration": 12,
    "start_time": "2021-08-29T11:14:51.705Z"
   },
   {
    "duration": 354,
    "start_time": "2021-08-29T11:14:51.718Z"
   },
   {
    "duration": 18,
    "start_time": "2021-08-29T11:14:52.074Z"
   },
   {
    "duration": 25,
    "start_time": "2021-08-29T11:14:52.094Z"
   },
   {
    "duration": 12,
    "start_time": "2021-08-29T11:14:52.121Z"
   },
   {
    "duration": 338,
    "start_time": "2021-08-29T11:14:52.135Z"
   },
   {
    "duration": 17,
    "start_time": "2021-08-29T11:14:52.475Z"
   },
   {
    "duration": 17,
    "start_time": "2021-08-29T11:14:52.494Z"
   },
   {
    "duration": 7,
    "start_time": "2021-08-29T11:14:52.513Z"
   },
   {
    "duration": 9,
    "start_time": "2021-08-29T11:14:52.522Z"
   },
   {
    "duration": 8,
    "start_time": "2021-08-29T11:14:52.533Z"
   },
   {
    "duration": 11,
    "start_time": "2021-08-29T11:14:52.543Z"
   },
   {
    "duration": 8,
    "start_time": "2021-08-29T11:14:52.555Z"
   },
   {
    "duration": 9,
    "start_time": "2021-08-29T11:14:52.564Z"
   },
   {
    "duration": 13,
    "start_time": "2021-08-29T11:14:52.575Z"
   },
   {
    "duration": 5644,
    "start_time": "2021-08-29T11:15:26.320Z"
   },
   {
    "duration": -104,
    "start_time": "2021-08-29T11:15:44.240Z"
   },
   {
    "duration": 5716,
    "start_time": "2021-08-29T11:16:12.233Z"
   },
   {
    "duration": 17,
    "start_time": "2021-08-29T11:17:37.699Z"
   },
   {
    "duration": 18,
    "start_time": "2021-08-29T11:17:39.494Z"
   },
   {
    "duration": 20,
    "start_time": "2021-08-29T11:17:52.077Z"
   },
   {
    "duration": 21,
    "start_time": "2021-08-29T11:18:02.562Z"
   },
   {
    "duration": 295,
    "start_time": "2021-08-29T11:18:37.168Z"
   },
   {
    "duration": 257,
    "start_time": "2021-08-29T11:18:48.167Z"
   },
   {
    "duration": 23,
    "start_time": "2021-08-29T11:18:52.818Z"
   },
   {
    "duration": 27,
    "start_time": "2021-08-29T11:18:58.839Z"
   },
   {
    "duration": 247,
    "start_time": "2021-08-29T11:21:06.535Z"
   },
   {
    "duration": 23,
    "start_time": "2021-08-29T11:21:09.647Z"
   },
   {
    "duration": 17,
    "start_time": "2021-08-29T11:22:20.701Z"
   },
   {
    "duration": 25,
    "start_time": "2021-08-29T11:22:24.192Z"
   },
   {
    "duration": 1334,
    "start_time": "2021-08-29T11:22:36.295Z"
   },
   {
    "duration": 55,
    "start_time": "2021-08-29T11:22:37.631Z"
   },
   {
    "duration": 46,
    "start_time": "2021-08-29T11:22:37.689Z"
   },
   {
    "duration": 3,
    "start_time": "2021-08-29T11:22:37.737Z"
   },
   {
    "duration": 18,
    "start_time": "2021-08-29T11:22:37.742Z"
   },
   {
    "duration": 29,
    "start_time": "2021-08-29T11:22:37.762Z"
   },
   {
    "duration": 14,
    "start_time": "2021-08-29T11:22:37.793Z"
   },
   {
    "duration": 20,
    "start_time": "2021-08-29T11:22:37.810Z"
   },
   {
    "duration": 18,
    "start_time": "2021-08-29T11:22:37.832Z"
   },
   {
    "duration": 53,
    "start_time": "2021-08-29T11:22:37.852Z"
   },
   {
    "duration": 5775,
    "start_time": "2021-08-29T11:22:37.907Z"
   },
   {
    "duration": 207,
    "start_time": "2021-08-29T11:22:43.684Z"
   },
   {
    "duration": 11,
    "start_time": "2021-08-29T11:22:43.892Z"
   },
   {
    "duration": 5,
    "start_time": "2021-08-29T11:22:43.904Z"
   },
   {
    "duration": 1165,
    "start_time": "2021-08-29T11:22:43.911Z"
   },
   {
    "duration": 32,
    "start_time": "2021-08-29T11:22:45.078Z"
   },
   {
    "duration": 17,
    "start_time": "2021-08-29T11:22:45.111Z"
   },
   {
    "duration": 3,
    "start_time": "2021-08-29T11:22:45.130Z"
   },
   {
    "duration": 1168,
    "start_time": "2021-08-29T11:22:45.135Z"
   },
   {
    "duration": 8,
    "start_time": "2021-08-29T11:22:46.305Z"
   },
   {
    "duration": 345,
    "start_time": "2021-08-29T11:22:46.315Z"
   },
   {
    "duration": 962,
    "start_time": "2021-08-29T11:22:46.662Z"
   },
   {
    "duration": 882,
    "start_time": "2021-08-29T11:22:47.628Z"
   },
   {
    "duration": 1027,
    "start_time": "2021-08-29T11:22:48.512Z"
   },
   {
    "duration": 882,
    "start_time": "2021-08-29T11:22:49.541Z"
   },
   {
    "duration": 869,
    "start_time": "2021-08-29T11:22:50.424Z"
   },
   {
    "duration": 378,
    "start_time": "2021-08-29T11:22:51.294Z"
   },
   {
    "duration": 304,
    "start_time": "2021-08-29T11:22:51.674Z"
   },
   {
    "duration": 20,
    "start_time": "2021-08-29T11:22:51.980Z"
   },
   {
    "duration": 16,
    "start_time": "2021-08-29T11:22:52.002Z"
   },
   {
    "duration": 15,
    "start_time": "2021-08-29T11:22:52.020Z"
   },
   {
    "duration": 321,
    "start_time": "2021-08-29T11:22:52.037Z"
   },
   {
    "duration": 17,
    "start_time": "2021-08-29T11:22:52.360Z"
   },
   {
    "duration": 19,
    "start_time": "2021-08-29T11:22:52.378Z"
   },
   {
    "duration": 15,
    "start_time": "2021-08-29T11:22:52.399Z"
   },
   {
    "duration": 343,
    "start_time": "2021-08-29T11:22:52.416Z"
   },
   {
    "duration": 15,
    "start_time": "2021-08-29T11:22:52.761Z"
   },
   {
    "duration": 24,
    "start_time": "2021-08-29T11:22:52.777Z"
   },
   {
    "duration": 15,
    "start_time": "2021-08-29T11:22:52.803Z"
   },
   {
    "duration": 18,
    "start_time": "2021-08-29T11:22:52.820Z"
   },
   {
    "duration": 52,
    "start_time": "2021-08-29T11:22:52.840Z"
   },
   {
    "duration": 29,
    "start_time": "2021-08-29T11:22:52.894Z"
   },
   {
    "duration": 15,
    "start_time": "2021-08-29T11:22:52.925Z"
   },
   {
    "duration": 16,
    "start_time": "2021-08-29T11:22:52.942Z"
   },
   {
    "duration": 9,
    "start_time": "2021-08-29T11:22:52.960Z"
   },
   {
    "duration": 33,
    "start_time": "2021-08-29T11:22:58.986Z"
   },
   {
    "duration": 5565,
    "start_time": "2021-08-29T11:23:14.656Z"
   },
   {
    "duration": 14,
    "start_time": "2021-08-29T11:24:37.889Z"
   },
   {
    "duration": 357,
    "start_time": "2021-08-29T11:25:47.736Z"
   },
   {
    "duration": 335,
    "start_time": "2021-08-29T11:27:00.146Z"
   },
   {
    "duration": 5,
    "start_time": "2021-08-29T11:27:06.784Z"
   },
   {
    "duration": 5,
    "start_time": "2021-08-29T11:27:11.580Z"
   },
   {
    "duration": 6,
    "start_time": "2021-08-29T11:27:31.390Z"
   },
   {
    "duration": 5,
    "start_time": "2021-08-29T11:27:38.501Z"
   },
   {
    "duration": 5,
    "start_time": "2021-08-29T11:28:24.797Z"
   },
   {
    "duration": 21,
    "start_time": "2021-08-29T11:32:43.450Z"
   },
   {
    "duration": 1131,
    "start_time": "2021-08-29T11:35:49.002Z"
   },
   {
    "duration": 42,
    "start_time": "2021-08-29T11:35:50.135Z"
   },
   {
    "duration": 32,
    "start_time": "2021-08-29T11:35:50.179Z"
   },
   {
    "duration": 2,
    "start_time": "2021-08-29T11:35:50.213Z"
   },
   {
    "duration": 18,
    "start_time": "2021-08-29T11:35:50.217Z"
   },
   {
    "duration": 14,
    "start_time": "2021-08-29T11:35:50.237Z"
   },
   {
    "duration": 12,
    "start_time": "2021-08-29T11:35:50.253Z"
   },
   {
    "duration": 21,
    "start_time": "2021-08-29T11:35:50.293Z"
   },
   {
    "duration": 17,
    "start_time": "2021-08-29T11:35:50.317Z"
   },
   {
    "duration": 22,
    "start_time": "2021-08-29T11:35:50.336Z"
   },
   {
    "duration": 5776,
    "start_time": "2021-08-29T11:35:50.360Z"
   },
   {
    "duration": 194,
    "start_time": "2021-08-29T11:35:56.137Z"
   },
   {
    "duration": 11,
    "start_time": "2021-08-29T11:35:56.332Z"
   },
   {
    "duration": 4,
    "start_time": "2021-08-29T11:35:56.345Z"
   },
   {
    "duration": 1639,
    "start_time": "2021-08-29T11:35:56.351Z"
   },
   {
    "duration": 25,
    "start_time": "2021-08-29T11:35:57.992Z"
   },
   {
    "duration": 20,
    "start_time": "2021-08-29T11:35:58.019Z"
   },
   {
    "duration": 4,
    "start_time": "2021-08-29T11:35:58.040Z"
   },
   {
    "duration": 1439,
    "start_time": "2021-08-29T11:35:58.046Z"
   },
   {
    "duration": 11,
    "start_time": "2021-08-29T11:35:59.486Z"
   },
   {
    "duration": 395,
    "start_time": "2021-08-29T11:35:59.498Z"
   },
   {
    "duration": 838,
    "start_time": "2021-08-29T11:35:59.895Z"
   },
   {
    "duration": 907,
    "start_time": "2021-08-29T11:36:00.736Z"
   },
   {
    "duration": 988,
    "start_time": "2021-08-29T11:36:01.645Z"
   },
   {
    "duration": 895,
    "start_time": "2021-08-29T11:36:02.634Z"
   },
   {
    "duration": 875,
    "start_time": "2021-08-29T11:36:03.530Z"
   },
   {
    "duration": 195,
    "start_time": "2021-08-29T11:36:04.407Z"
   },
   {
    "duration": 298,
    "start_time": "2021-08-29T11:36:04.604Z"
   },
   {
    "duration": 14,
    "start_time": "2021-08-29T11:36:04.904Z"
   },
   {
    "duration": 24,
    "start_time": "2021-08-29T11:36:04.920Z"
   },
   {
    "duration": 14,
    "start_time": "2021-08-29T11:36:04.946Z"
   },
   {
    "duration": 322,
    "start_time": "2021-08-29T11:36:04.961Z"
   },
   {
    "duration": 20,
    "start_time": "2021-08-29T11:36:05.285Z"
   },
   {
    "duration": 15,
    "start_time": "2021-08-29T11:36:05.307Z"
   },
   {
    "duration": 13,
    "start_time": "2021-08-29T11:36:05.323Z"
   },
   {
    "duration": 449,
    "start_time": "2021-08-29T11:36:05.337Z"
   },
   {
    "duration": 262,
    "start_time": "2021-08-29T11:36:05.791Z"
   },
   {
    "duration": 15,
    "start_time": "2021-08-29T11:36:06.055Z"
   },
   {
    "duration": 23,
    "start_time": "2021-08-29T11:36:06.072Z"
   },
   {
    "duration": 16,
    "start_time": "2021-08-29T11:36:06.097Z"
   },
   {
    "duration": 19,
    "start_time": "2021-08-29T11:36:06.114Z"
   },
   {
    "duration": 21,
    "start_time": "2021-08-29T11:36:06.134Z"
   },
   {
    "duration": 6,
    "start_time": "2021-08-29T11:36:06.157Z"
   },
   {
    "duration": 8,
    "start_time": "2021-08-29T11:36:06.165Z"
   },
   {
    "duration": 20,
    "start_time": "2021-08-29T11:36:06.175Z"
   },
   {
    "duration": 9,
    "start_time": "2021-08-29T11:45:58.629Z"
   },
   {
    "duration": 14,
    "start_time": "2021-08-29T11:46:02.822Z"
   },
   {
    "duration": 359,
    "start_time": "2021-08-29T11:46:13.566Z"
   },
   {
    "duration": 257,
    "start_time": "2021-08-29T11:46:29.696Z"
   },
   {
    "duration": 243,
    "start_time": "2021-08-29T11:46:38.555Z"
   },
   {
    "duration": 89,
    "start_time": "2021-08-29T11:47:14.263Z"
   },
   {
    "duration": 17,
    "start_time": "2021-08-29T11:47:18.228Z"
   },
   {
    "duration": 332,
    "start_time": "2021-08-29T11:47:30.905Z"
   },
   {
    "duration": 20,
    "start_time": "2021-08-29T11:48:31.529Z"
   },
   {
    "duration": 20,
    "start_time": "2021-08-29T11:54:19.466Z"
   },
   {
    "duration": 19,
    "start_time": "2021-08-29T11:54:35.228Z"
   },
   {
    "duration": 13,
    "start_time": "2021-08-29T11:54:51.974Z"
   },
   {
    "duration": 15,
    "start_time": "2021-08-29T11:55:53.363Z"
   },
   {
    "duration": 297,
    "start_time": "2021-08-29T11:59:09.937Z"
   },
   {
    "duration": 22,
    "start_time": "2021-08-29T11:59:24.072Z"
   },
   {
    "duration": 2732,
    "start_time": "2021-08-29T11:59:57.938Z"
   },
   {
    "duration": 3071,
    "start_time": "2021-08-29T12:00:41.656Z"
   },
   {
    "duration": 283,
    "start_time": "2021-08-29T12:00:53.819Z"
   },
   {
    "duration": 284,
    "start_time": "2021-08-29T12:02:39.742Z"
   },
   {
    "duration": 20,
    "start_time": "2021-08-29T12:02:53.284Z"
   },
   {
    "duration": 20,
    "start_time": "2021-08-29T12:03:13.211Z"
   },
   {
    "duration": 148,
    "start_time": "2021-08-29T12:03:46.765Z"
   },
   {
    "duration": 242,
    "start_time": "2021-08-29T12:03:55.287Z"
   },
   {
    "duration": 26,
    "start_time": "2021-08-29T12:04:01.856Z"
   },
   {
    "duration": 265,
    "start_time": "2021-08-29T12:04:53.242Z"
   },
   {
    "duration": 276,
    "start_time": "2021-08-29T12:04:57.112Z"
   },
   {
    "duration": 446,
    "start_time": "2021-08-29T12:05:17.996Z"
   },
   {
    "duration": 322,
    "start_time": "2021-08-29T12:05:30.778Z"
   },
   {
    "duration": 365,
    "start_time": "2021-08-29T12:05:47.572Z"
   },
   {
    "duration": 325,
    "start_time": "2021-08-29T12:05:57.014Z"
   },
   {
    "duration": 80,
    "start_time": "2021-08-29T12:06:07.839Z"
   },
   {
    "duration": 23,
    "start_time": "2021-08-29T12:06:11.887Z"
   },
   {
    "duration": 263,
    "start_time": "2021-08-29T12:06:16.970Z"
   },
   {
    "duration": 285,
    "start_time": "2021-08-29T12:06:58.654Z"
   },
   {
    "duration": 21,
    "start_time": "2021-08-29T12:07:41.125Z"
   },
   {
    "duration": 251,
    "start_time": "2021-08-29T12:07:47.417Z"
   },
   {
    "duration": 7,
    "start_time": "2021-08-29T12:08:04.433Z"
   },
   {
    "duration": 12,
    "start_time": "2021-08-29T12:08:12.209Z"
   },
   {
    "duration": 257,
    "start_time": "2021-08-29T12:08:28.423Z"
   },
   {
    "duration": 11,
    "start_time": "2021-08-29T12:08:56.789Z"
   },
   {
    "duration": 270,
    "start_time": "2021-08-29T12:09:50.632Z"
   },
   {
    "duration": 263,
    "start_time": "2021-08-29T12:09:56.312Z"
   },
   {
    "duration": 102,
    "start_time": "2021-08-29T12:10:07.802Z"
   },
   {
    "duration": 93,
    "start_time": "2021-08-29T12:10:14.274Z"
   },
   {
    "duration": 101,
    "start_time": "2021-08-29T12:10:17.243Z"
   },
   {
    "duration": 23,
    "start_time": "2021-08-29T12:10:22.106Z"
   },
   {
    "duration": 16,
    "start_time": "2021-08-29T12:10:41.510Z"
   },
   {
    "duration": 19,
    "start_time": "2021-08-29T12:10:56.132Z"
   },
   {
    "duration": 144,
    "start_time": "2021-08-29T12:11:02.607Z"
   },
   {
    "duration": 267,
    "start_time": "2021-08-29T12:11:13.571Z"
   },
   {
    "duration": 345,
    "start_time": "2021-08-29T12:11:44.931Z"
   },
   {
    "duration": 858,
    "start_time": "2021-08-29T12:13:23.196Z"
   },
   {
    "duration": 353,
    "start_time": "2021-08-29T12:13:32.170Z"
   },
   {
    "duration": 15,
    "start_time": "2021-08-29T12:13:43.581Z"
   },
   {
    "duration": 360,
    "start_time": "2021-08-29T12:13:49.295Z"
   },
   {
    "duration": 350,
    "start_time": "2021-08-29T12:13:57.446Z"
   },
   {
    "duration": 563,
    "start_time": "2021-08-29T12:14:51.700Z"
   },
   {
    "duration": 499,
    "start_time": "2021-08-29T12:14:57.869Z"
   },
   {
    "duration": 394,
    "start_time": "2021-08-29T12:15:22.809Z"
   },
   {
    "duration": 532,
    "start_time": "2021-08-29T12:15:31.623Z"
   },
   {
    "duration": 363,
    "start_time": "2021-08-29T12:16:05.255Z"
   },
   {
    "duration": 352,
    "start_time": "2021-08-29T12:16:33.394Z"
   },
   {
    "duration": 506,
    "start_time": "2021-08-29T12:17:43.319Z"
   },
   {
    "duration": 380,
    "start_time": "2021-08-29T12:18:20.641Z"
   },
   {
    "duration": 362,
    "start_time": "2021-08-29T12:18:35.537Z"
   },
   {
    "duration": 365,
    "start_time": "2021-08-29T12:18:40.920Z"
   },
   {
    "duration": 606,
    "start_time": "2021-08-29T12:19:04.307Z"
   },
   {
    "duration": 364,
    "start_time": "2021-08-29T12:19:07.983Z"
   },
   {
    "duration": 354,
    "start_time": "2021-08-29T12:19:31.555Z"
   },
   {
    "duration": 603,
    "start_time": "2021-08-29T12:21:07.207Z"
   },
   {
    "duration": 548,
    "start_time": "2021-08-29T12:21:15.756Z"
   }
  ],
  "kernelspec": {
   "display_name": "Python 3",
   "language": "python",
   "name": "python3"
  },
  "language_info": {
   "codemirror_mode": {
    "name": "ipython",
    "version": 3
   },
   "file_extension": ".py",
   "mimetype": "text/x-python",
   "name": "python",
   "nbconvert_exporter": "python",
   "pygments_lexer": "ipython3",
   "version": "3.7.8"
  },
  "toc": {
   "base_numbering": 1,
   "nav_menu": {},
   "number_sections": true,
   "sideBar": true,
   "skip_h1_title": true,
   "title_cell": "Table of Contents",
   "title_sidebar": "Contents",
   "toc_cell": false,
   "toc_position": {},
   "toc_section_display": true,
   "toc_window_display": false
  }
 },
 "nbformat": 4,
 "nbformat_minor": 2
}
