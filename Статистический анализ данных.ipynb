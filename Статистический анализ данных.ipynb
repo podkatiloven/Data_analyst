{
 "cells": [
  {
   "cell_type": "markdown",
   "metadata": {},
   "source": [
    "# Определение перспективного тарифа для телекомкомпании"
   ]
  },
  {
   "cell_type": "markdown",
   "metadata": {},
   "source": [
    "Пользователям предлагают два тарифных плана: «Смарт» и «Ультра». Чтобы скорректировать рекламный бюджет, коммерческий департамент хочет понять, какой тариф приносит больше денег. Предстоит сделать предварительный анализ тарифов на небольшой выборке клиентов. Есть данные 500 пользователей «Мегалайна»: кто они, откуда, каким тарифом пользуются, сколько звонков и сообщений каждый отправил за 2018 год. Нужно проанализировать поведение клиентов и сделать вывод — какой тариф лучше.\n",
    "\n",
    "План анализа:\n",
    "\n",
    "загрузить таблицы\n",
    "провести анализ этих таблиц (что за данные, какие типы данных, сколько столбцов и строк), определить проблемы с данными.\n",
    "провести предобработку данных\n",
    "поменять типы данных\n",
    "согласно условиям оператора округляем время звонков и интернета за большего целого\n",
    "добавить столбец с месяцем, когда производился звонок, отправлялась смс и был выход в интернет\n",
    "формируем единую таблицу по месяцам и звонков, интернета и смс\n",
    "пишем функцию, которая считаем прибыль по месяцам\n",
    "формируем таблицы с тарифами\n",
    "считаем дисперсию, стандартное отклонение, среднее по каждому показателю\n",
    "строим графики зависимости двух тарифов по всем показателям\n",
    "анализ графиков\n",
    "строим гипотезу различия двух тарифов\n",
    "строим гипотезу различия среднего в Москве и в других районах\n",
    "итоговый вывод"
   ]
  },
  {
   "cell_type": "markdown",
   "metadata": {},
   "source": [
    "## Импортирование необходимых данных"
   ]
  },
  {
   "cell_type": "code",
   "execution_count": 1,
   "metadata": {},
   "outputs": [],
   "source": [
    "import pandas as pd\n",
    "import numpy as np\n",
    "import scipy.stats as st\n",
    "import datetime\n",
    "from tqdm import tqdm\n",
    "import matplotlib.pyplot as plt\n",
    "import seaborn as sns\n",
    "calls = pd.read_csv('/datasets/calls.csv')\n",
    "internet = pd.read_csv('/datasets/internet.csv').drop(['Unnamed: 0'],axis = 1)\n",
    "messages = pd.read_csv('/datasets/messages.csv')\n",
    "tariffs = pd.read_csv('/datasets/tariffs.csv')\n",
    "users = pd.read_csv('/datasets/users.csv')"
   ]
  },
  {
   "cell_type": "markdown",
   "metadata": {},
   "source": [
    "## Подготовка данных"
   ]
  },
  {
   "cell_type": "markdown",
   "metadata": {},
   "source": [
    "### Изучим типы и наличие пропусков с данных"
   ]
  },
  {
   "cell_type": "code",
   "execution_count": 2,
   "metadata": {},
   "outputs": [
    {
     "name": "stdout",
     "output_type": "stream",
     "text": [
      "<class 'pandas.core.frame.DataFrame'>\n",
      "RangeIndex: 202607 entries, 0 to 202606\n",
      "Data columns (total 4 columns):\n",
      "id           202607 non-null object\n",
      "call_date    202607 non-null object\n",
      "duration     202607 non-null float64\n",
      "user_id      202607 non-null int64\n",
      "dtypes: float64(1), int64(1), object(2)\n",
      "memory usage: 6.2+ MB\n"
     ]
    }
   ],
   "source": [
    " #просмотрим данные о всех таблицах\n",
    "calls.info()"
   ]
  },
  {
   "cell_type": "markdown",
   "metadata": {},
   "source": [
    "calls-это таблица с звонками всех пользователей. Состоит из 4 столбцов и 202607 строк. Пропущенных значений нет."
   ]
  },
  {
   "cell_type": "code",
   "execution_count": 3,
   "metadata": {},
   "outputs": [
    {
     "name": "stdout",
     "output_type": "stream",
     "text": [
      "<class 'pandas.core.frame.DataFrame'>\n",
      "RangeIndex: 149396 entries, 0 to 149395\n",
      "Data columns (total 4 columns):\n",
      "id              149396 non-null object\n",
      "mb_used         149396 non-null float64\n",
      "session_date    149396 non-null object\n",
      "user_id         149396 non-null int64\n",
      "dtypes: float64(1), int64(1), object(2)\n",
      "memory usage: 4.6+ MB\n"
     ]
    }
   ],
   "source": [
    "internet.info()"
   ]
  },
  {
   "cell_type": "markdown",
   "metadata": {},
   "source": [
    "internet-это дата с звонками всех пользователей. Состоит из 4 столбцов и 149396 строк. Пропущенных значений нет."
   ]
  },
  {
   "cell_type": "code",
   "execution_count": 4,
   "metadata": {},
   "outputs": [
    {
     "name": "stdout",
     "output_type": "stream",
     "text": [
      "<class 'pandas.core.frame.DataFrame'>\n",
      "RangeIndex: 123036 entries, 0 to 123035\n",
      "Data columns (total 3 columns):\n",
      "id              123036 non-null object\n",
      "message_date    123036 non-null object\n",
      "user_id         123036 non-null int64\n",
      "dtypes: int64(1), object(2)\n",
      "memory usage: 2.8+ MB\n"
     ]
    }
   ],
   "source": [
    "messages.info()"
   ]
  },
  {
   "cell_type": "markdown",
   "metadata": {},
   "source": [
    "\n",
    "messages-это дата с использованными сообщениями всех пользователей. Состоит из 3 столбцов и 123036 строк. Пропущенных значений нет."
   ]
  },
  {
   "cell_type": "code",
   "execution_count": 5,
   "metadata": {},
   "outputs": [
    {
     "name": "stdout",
     "output_type": "stream",
     "text": [
      "<class 'pandas.core.frame.DataFrame'>\n",
      "RangeIndex: 2 entries, 0 to 1\n",
      "Data columns (total 8 columns):\n",
      "messages_included        2 non-null int64\n",
      "mb_per_month_included    2 non-null int64\n",
      "minutes_included         2 non-null int64\n",
      "rub_monthly_fee          2 non-null int64\n",
      "rub_per_gb               2 non-null int64\n",
      "rub_per_message          2 non-null int64\n",
      "rub_per_minute           2 non-null int64\n",
      "tariff_name              2 non-null object\n",
      "dtypes: int64(7), object(1)\n",
      "memory usage: 256.0+ bytes\n"
     ]
    }
   ],
   "source": [
    "tariffs.info()"
   ]
  },
  {
   "cell_type": "markdown",
   "metadata": {},
   "source": [
    "tariffs-это дата с информацией о тарифах. Состоит из 8 столбцов и 2 строк. Пропущенных значений нет."
   ]
  },
  {
   "cell_type": "code",
   "execution_count": 6,
   "metadata": {},
   "outputs": [
    {
     "name": "stdout",
     "output_type": "stream",
     "text": [
      "0      ultra\n",
      "1      smart\n",
      "2      smart\n",
      "3      ultra\n",
      "4      ultra\n",
      "       ...  \n",
      "495    ultra\n",
      "496    smart\n",
      "497    smart\n",
      "498    smart\n",
      "499    smart\n",
      "Name: tariff, Length: 500, dtype: object\n"
     ]
    }
   ],
   "source": [
    "print(users['tariff'])\n"
   ]
  },
  {
   "cell_type": "markdown",
   "metadata": {},
   "source": [
    "users-это дата с информацией о пользователях. Состоит из 8 столбцов и 500 строк. Пропущенные значения есть. У столбца churn_date есть 462 пропуска.Это столбец с датой прекращения пользования тарифом (если значение пропущено, то тариф ещё действовал на момент выгрузки данных). В полследствии можно заменить на 0"
   ]
  },
  {
   "cell_type": "markdown",
   "metadata": {},
   "source": [
    "**Общий вывод: Есть проблемы в данных. Надо менять типы данных в датах. Вещественный тип в звонках, потреблении интернета и кл-ве смс переведем в целочисленный. Присутствуют пропуски в churn_date. Есть смысл их просто поменять на 0(значит смены оператора не было). В соответствии требования оператора округлить длительность звонка и потребление интернета до целого большего.**"
   ]
  },
  {
   "cell_type": "markdown",
   "metadata": {},
   "source": [
    "### Предобработка данных"
   ]
  },
  {
   "cell_type": "code",
   "execution_count": 7,
   "metadata": {},
   "outputs": [
    {
     "data": {
      "text/plain": [
       "0.00      19598\n",
       "197.56        9\n",
       "447.30        9\n",
       "335.91        9\n",
       "108.95        8\n",
       "          ...  \n",
       "72.49         1\n",
       "846.22        1\n",
       "429.17        1\n",
       "899.03        1\n",
       "483.87        1\n",
       "Name: mb_used, Length: 70003, dtype: int64"
      ]
     },
     "execution_count": 7,
     "metadata": {},
     "output_type": "execute_result"
    }
   ],
   "source": [
    "calls['call_date']=pd.to_datetime(calls['call_date'],format='%Y-%m-%d') #Во всех столбцах где есть дата меняем тип на date_time\n",
    "messages['message_date']=pd.to_datetime(messages['message_date'],format='%Y-%m-%d %H:%M:%S') #Значения потраченных минут переводим в целоцисленные\n",
    "# округляю количество мб до целого большего\n",
    "internet['mb_used'].value_counts()"
   ]
  },
  {
   "cell_type": "code",
   "execution_count": 8,
   "metadata": {},
   "outputs": [
    {
     "data": {
      "text/plain": [
       "7.0     11510\n",
       "6.0     11457\n",
       "5.0     11411\n",
       "8.0     11272\n",
       "9.0     10973\n",
       "4.0     10918\n",
       "3.0     10362\n",
       "10.0    10186\n",
       "11.0     9385\n",
       "2.0      9194\n",
       "12.0     8448\n",
       "1.0      8402\n",
       "13.0     7486\n",
       "14.0     6554\n",
       "15.0     5505\n",
       "16.0     4551\n",
       "17.0     3671\n",
       "18.0     2984\n",
       "19.0     2411\n",
       "20.0     1806\n",
       "21.0     1304\n",
       "22.0      975\n",
       "23.0      720\n",
       "24.0      468\n",
       "25.0      363\n",
       "26.0      257\n",
       "27.0      151\n",
       "28.0      104\n",
       "29.0       56\n",
       "30.0       39\n",
       "31.0       30\n",
       "32.0       17\n",
       "33.0       10\n",
       "35.0        5\n",
       "34.0        3\n",
       "38.0        2\n",
       "36.0        2\n",
       "37.0        2\n",
       "Name: duration, dtype: int64"
      ]
     },
     "execution_count": 8,
     "metadata": {},
     "output_type": "execute_result"
    }
   ],
   "source": [
    "calls=calls.query('duration>0') #Избавился от 0. Возможно это недозвоны\n",
    "calls['duration']=np.ceil(calls['duration']) # все значение меньше 1 округляем до большего целого\n",
    "calls['duration'].value_counts()"
   ]
  },
  {
   "cell_type": "code",
   "execution_count": 9,
   "metadata": {},
   "outputs": [
    {
     "data": {
      "text/plain": [
       "<matplotlib.axes._subplots.AxesSubplot at 0x7f34a4e5c490>"
      ]
     },
     "execution_count": 9,
     "metadata": {},
     "output_type": "execute_result"
    },
    {
     "data": {
      "image/png": "[encoded data removed]",
      "text/plain": [
       "<Figure size 432x288 with 1 Axes>"
      ]
     },
     "metadata": {
      "needs_background": "light"
     },
     "output_type": "display_data"
    }
   ],
   "source": [
    "internet['session_date']=pd.to_datetime(internet['session_date'],format='%Y-%m-%d')\n",
    "users['churn_date']=pd.to_datetime(users['churn_date'],format='%Y-%m-%d')\n",
    "users['reg_date']=pd.to_datetime(users['reg_date'],format='%Y-%m-%d')\n",
    "calls['duration'].hist(bins=30) # строю гист. всех звонков"
   ]
  },
  {
   "cell_type": "markdown",
   "metadata": {},
   "source": [
    "**Вывод: По гистограмме видно что больше всего звонков по 4 минуте и 6 минут**"
   ]
  },
  {
   "cell_type": "code",
   "execution_count": 10,
   "metadata": {},
   "outputs": [
    {
     "data": {
      "text/html": [
       "<div>\n",
       "<style scoped>\n",
       "    .dataframe tbody tr th:only-of-type {\n",
       "        vertical-align: middle;\n",
       "    }\n",
       "\n",
       "    .dataframe tbody tr th {\n",
       "        vertical-align: top;\n",
       "    }\n",
       "\n",
       "    .dataframe thead th {\n",
       "        text-align: right;\n",
       "    }\n",
       "</style>\n",
       "<table border=\"1\" class=\"dataframe\">\n",
       "  <thead>\n",
       "    <tr style=\"text-align: right;\">\n",
       "      <th></th>\n",
       "      <th></th>\n",
       "      <th>duration</th>\n",
       "    </tr>\n",
       "    <tr>\n",
       "      <th>month</th>\n",
       "      <th>user_id</th>\n",
       "      <th></th>\n",
       "    </tr>\n",
       "  </thead>\n",
       "  <tbody>\n",
       "    <tr>\n",
       "      <td rowspan=\"5\" valign=\"top\">1</td>\n",
       "      <td>1005</td>\n",
       "      <td>95.0</td>\n",
       "    </tr>\n",
       "    <tr>\n",
       "      <td>1032</td>\n",
       "      <td>380.0</td>\n",
       "    </tr>\n",
       "    <tr>\n",
       "      <td>1045</td>\n",
       "      <td>9.0</td>\n",
       "    </tr>\n",
       "    <tr>\n",
       "      <td>1055</td>\n",
       "      <td>551.0</td>\n",
       "    </tr>\n",
       "    <tr>\n",
       "      <td>1071</td>\n",
       "      <td>194.0</td>\n",
       "    </tr>\n",
       "    <tr>\n",
       "      <td>...</td>\n",
       "      <td>...</td>\n",
       "      <td>...</td>\n",
       "    </tr>\n",
       "    <tr>\n",
       "      <td rowspan=\"5\" valign=\"top\">12</td>\n",
       "      <td>1494</td>\n",
       "      <td>418.0</td>\n",
       "    </tr>\n",
       "    <tr>\n",
       "      <td>1495</td>\n",
       "      <td>1031.0</td>\n",
       "    </tr>\n",
       "    <tr>\n",
       "      <td>1496</td>\n",
       "      <td>518.0</td>\n",
       "    </tr>\n",
       "    <tr>\n",
       "      <td>1497</td>\n",
       "      <td>545.0</td>\n",
       "    </tr>\n",
       "    <tr>\n",
       "      <td>1499</td>\n",
       "      <td>492.0</td>\n",
       "    </tr>\n",
       "  </tbody>\n",
       "</table>\n",
       "<p>3168 rows × 1 columns</p>\n",
       "</div>"
      ],
      "text/plain": [
       "               duration\n",
       "month user_id          \n",
       "1     1005         95.0\n",
       "      1032        380.0\n",
       "      1045          9.0\n",
       "      1055        551.0\n",
       "      1071        194.0\n",
       "...                 ...\n",
       "12    1494        418.0\n",
       "      1495       1031.0\n",
       "      1496        518.0\n",
       "      1497        545.0\n",
       "      1499        492.0\n",
       "\n",
       "[3168 rows x 1 columns]"
      ]
     },
     "execution_count": 10,
     "metadata": {},
     "output_type": "execute_result"
    }
   ],
   "source": [
    "#Создаем сводную таблицу по месяцам и звонкам \n",
    "calls['month']=calls['call_date'].dt.month\n",
    "group_calls=calls.pivot_table(index=['month','user_id'],values='duration',aggfunc=('sum'))\n",
    "group_calls"
   ]
  },
  {
   "cell_type": "code",
   "execution_count": 11,
   "metadata": {},
   "outputs": [
    {
     "data": {
      "text/html": [
       "<div>\n",
       "<style scoped>\n",
       "    .dataframe tbody tr th:only-of-type {\n",
       "        vertical-align: middle;\n",
       "    }\n",
       "\n",
       "    .dataframe tbody tr th {\n",
       "        vertical-align: top;\n",
       "    }\n",
       "\n",
       "    .dataframe thead th {\n",
       "        text-align: right;\n",
       "    }\n",
       "</style>\n",
       "<table border=\"1\" class=\"dataframe\">\n",
       "  <thead>\n",
       "    <tr style=\"text-align: right;\">\n",
       "      <th></th>\n",
       "      <th></th>\n",
       "      <th>message_date</th>\n",
       "    </tr>\n",
       "    <tr>\n",
       "      <th>month</th>\n",
       "      <th>user_id</th>\n",
       "      <th></th>\n",
       "    </tr>\n",
       "  </thead>\n",
       "  <tbody>\n",
       "    <tr>\n",
       "      <td rowspan=\"5\" valign=\"top\">1</td>\n",
       "      <td>1005</td>\n",
       "      <td>7</td>\n",
       "    </tr>\n",
       "    <tr>\n",
       "      <td>1032</td>\n",
       "      <td>38</td>\n",
       "    </tr>\n",
       "    <tr>\n",
       "      <td>1045</td>\n",
       "      <td>5</td>\n",
       "    </tr>\n",
       "    <tr>\n",
       "      <td>1055</td>\n",
       "      <td>30</td>\n",
       "    </tr>\n",
       "    <tr>\n",
       "      <td>1071</td>\n",
       "      <td>16</td>\n",
       "    </tr>\n",
       "    <tr>\n",
       "      <td>...</td>\n",
       "      <td>...</td>\n",
       "      <td>...</td>\n",
       "    </tr>\n",
       "    <tr>\n",
       "      <td rowspan=\"5\" valign=\"top\">12</td>\n",
       "      <td>1493</td>\n",
       "      <td>78</td>\n",
       "    </tr>\n",
       "    <tr>\n",
       "      <td>1495</td>\n",
       "      <td>84</td>\n",
       "    </tr>\n",
       "    <tr>\n",
       "      <td>1496</td>\n",
       "      <td>51</td>\n",
       "    </tr>\n",
       "    <tr>\n",
       "      <td>1497</td>\n",
       "      <td>17</td>\n",
       "    </tr>\n",
       "    <tr>\n",
       "      <td>1499</td>\n",
       "      <td>66</td>\n",
       "    </tr>\n",
       "  </tbody>\n",
       "</table>\n",
       "<p>2717 rows × 1 columns</p>\n",
       "</div>"
      ],
      "text/plain": [
       "               message_date\n",
       "month user_id              \n",
       "1     1005                7\n",
       "      1032               38\n",
       "      1045                5\n",
       "      1055               30\n",
       "      1071               16\n",
       "...                     ...\n",
       "12    1493               78\n",
       "      1495               84\n",
       "      1496               51\n",
       "      1497               17\n",
       "      1499               66\n",
       "\n",
       "[2717 rows x 1 columns]"
      ]
     },
     "execution_count": 11,
     "metadata": {},
     "output_type": "execute_result"
    }
   ],
   "source": [
    "#Создаем сводную таблицу по месяцам и сообщениям \n",
    "messages['month']=messages['message_date'].dt.month # добавляю столбец месяц\n",
    "group_messages=messages.pivot_table(index=['month','user_id'],values='message_date',aggfunc=('count'))\n",
    "group_messages"
   ]
  },
  {
   "cell_type": "code",
   "execution_count": 12,
   "metadata": {},
   "outputs": [
    {
     "data": {
      "text/html": [
       "<div>\n",
       "<style scoped>\n",
       "    .dataframe tbody tr th:only-of-type {\n",
       "        vertical-align: middle;\n",
       "    }\n",
       "\n",
       "    .dataframe tbody tr th {\n",
       "        vertical-align: top;\n",
       "    }\n",
       "\n",
       "    .dataframe thead th {\n",
       "        text-align: right;\n",
       "    }\n",
       "</style>\n",
       "<table border=\"1\" class=\"dataframe\">\n",
       "  <thead>\n",
       "    <tr style=\"text-align: right;\">\n",
       "      <th></th>\n",
       "      <th></th>\n",
       "      <th>mb_used</th>\n",
       "    </tr>\n",
       "    <tr>\n",
       "      <th>month</th>\n",
       "      <th>user_id</th>\n",
       "      <th></th>\n",
       "    </tr>\n",
       "  </thead>\n",
       "  <tbody>\n",
       "    <tr>\n",
       "      <td rowspan=\"5\" valign=\"top\">1</td>\n",
       "      <td>1005</td>\n",
       "      <td>2724.0</td>\n",
       "    </tr>\n",
       "    <tr>\n",
       "      <td>1032</td>\n",
       "      <td>24100.0</td>\n",
       "    </tr>\n",
       "    <tr>\n",
       "      <td>1045</td>\n",
       "      <td>2343.0</td>\n",
       "    </tr>\n",
       "    <tr>\n",
       "      <td>1055</td>\n",
       "      <td>17069.0</td>\n",
       "    </tr>\n",
       "    <tr>\n",
       "      <td>1071</td>\n",
       "      <td>15585.0</td>\n",
       "    </tr>\n",
       "    <tr>\n",
       "      <td>...</td>\n",
       "      <td>...</td>\n",
       "      <td>...</td>\n",
       "    </tr>\n",
       "    <tr>\n",
       "      <td rowspan=\"5\" valign=\"top\">12</td>\n",
       "      <td>1494</td>\n",
       "      <td>17601.0</td>\n",
       "    </tr>\n",
       "    <tr>\n",
       "      <td>1495</td>\n",
       "      <td>23404.0</td>\n",
       "    </tr>\n",
       "    <tr>\n",
       "      <td>1496</td>\n",
       "      <td>20702.0</td>\n",
       "    </tr>\n",
       "    <tr>\n",
       "      <td>1497</td>\n",
       "      <td>19899.0</td>\n",
       "    </tr>\n",
       "    <tr>\n",
       "      <td>1499</td>\n",
       "      <td>13037.0</td>\n",
       "    </tr>\n",
       "  </tbody>\n",
       "</table>\n",
       "<p>3203 rows × 1 columns</p>\n",
       "</div>"
      ],
      "text/plain": [
       "               mb_used\n",
       "month user_id         \n",
       "1     1005      2724.0\n",
       "      1032     24100.0\n",
       "      1045      2343.0\n",
       "      1055     17069.0\n",
       "      1071     15585.0\n",
       "...                ...\n",
       "12    1494     17601.0\n",
       "      1495     23404.0\n",
       "      1496     20702.0\n",
       "      1497     19899.0\n",
       "      1499     13037.0\n",
       "\n",
       "[3203 rows x 1 columns]"
      ]
     },
     "execution_count": 12,
     "metadata": {},
     "output_type": "execute_result"
    }
   ],
   "source": [
    "#Создаем сводную таблицу интренету\n",
    "internet['month']=internet['session_date'].dt.month # добавляю столбец месяц\n",
    "internet['mb_used']=round(internet['mb_used'].astype('int64')+0.45)\n",
    "group_internet=internet.pivot_table(index=['month','user_id'],values='mb_used',aggfunc=('sum'))\n",
    "group_internet"
   ]
  },
  {
   "cell_type": "code",
   "execution_count": 13,
   "metadata": {},
   "outputs": [
    {
     "data": {
      "text/html": [
       "<div>\n",
       "<style scoped>\n",
       "    .dataframe tbody tr th:only-of-type {\n",
       "        vertical-align: middle;\n",
       "    }\n",
       "\n",
       "    .dataframe tbody tr th {\n",
       "        vertical-align: top;\n",
       "    }\n",
       "\n",
       "    .dataframe thead th {\n",
       "        text-align: right;\n",
       "    }\n",
       "</style>\n",
       "<table border=\"1\" class=\"dataframe\">\n",
       "  <thead>\n",
       "    <tr style=\"text-align: right;\">\n",
       "      <th></th>\n",
       "      <th>user_id</th>\n",
       "      <th>message_date</th>\n",
       "      <th>duration</th>\n",
       "      <th>mb_used</th>\n",
       "      <th>age</th>\n",
       "      <th>churn_date</th>\n",
       "      <th>city</th>\n",
       "      <th>first_name</th>\n",
       "      <th>last_name</th>\n",
       "      <th>reg_date</th>\n",
       "      <th>tariff</th>\n",
       "      <th>month</th>\n",
       "    </tr>\n",
       "  </thead>\n",
       "  <tbody>\n",
       "    <tr>\n",
       "      <td>0</td>\n",
       "      <td>1005</td>\n",
       "      <td>7.0</td>\n",
       "      <td>95.0</td>\n",
       "      <td>2724.0</td>\n",
       "      <td>67</td>\n",
       "      <td>NaT</td>\n",
       "      <td>Набережные Челны</td>\n",
       "      <td>Афанасий</td>\n",
       "      <td>Горлов</td>\n",
       "      <td>2018-01-25</td>\n",
       "      <td>smart</td>\n",
       "      <td>1</td>\n",
       "    </tr>\n",
       "    <tr>\n",
       "      <td>1</td>\n",
       "      <td>1005</td>\n",
       "      <td>38.0</td>\n",
       "      <td>456.0</td>\n",
       "      <td>7372.0</td>\n",
       "      <td>67</td>\n",
       "      <td>NaT</td>\n",
       "      <td>Набережные Челны</td>\n",
       "      <td>Афанасий</td>\n",
       "      <td>Горлов</td>\n",
       "      <td>2018-01-25</td>\n",
       "      <td>smart</td>\n",
       "      <td>1</td>\n",
       "    </tr>\n",
       "    <tr>\n",
       "      <td>2</td>\n",
       "      <td>1005</td>\n",
       "      <td>56.0</td>\n",
       "      <td>606.0</td>\n",
       "      <td>11092.0</td>\n",
       "      <td>67</td>\n",
       "      <td>NaT</td>\n",
       "      <td>Набережные Челны</td>\n",
       "      <td>Афанасий</td>\n",
       "      <td>Горлов</td>\n",
       "      <td>2018-01-25</td>\n",
       "      <td>smart</td>\n",
       "      <td>1</td>\n",
       "    </tr>\n",
       "    <tr>\n",
       "      <td>3</td>\n",
       "      <td>1005</td>\n",
       "      <td>41.0</td>\n",
       "      <td>712.0</td>\n",
       "      <td>9341.0</td>\n",
       "      <td>67</td>\n",
       "      <td>NaT</td>\n",
       "      <td>Набережные Челны</td>\n",
       "      <td>Афанасий</td>\n",
       "      <td>Горлов</td>\n",
       "      <td>2018-01-25</td>\n",
       "      <td>smart</td>\n",
       "      <td>1</td>\n",
       "    </tr>\n",
       "    <tr>\n",
       "      <td>4</td>\n",
       "      <td>1005</td>\n",
       "      <td>42.0</td>\n",
       "      <td>595.0</td>\n",
       "      <td>7857.0</td>\n",
       "      <td>67</td>\n",
       "      <td>NaT</td>\n",
       "      <td>Набережные Челны</td>\n",
       "      <td>Афанасий</td>\n",
       "      <td>Горлов</td>\n",
       "      <td>2018-01-25</td>\n",
       "      <td>smart</td>\n",
       "      <td>1</td>\n",
       "    </tr>\n",
       "    <tr>\n",
       "      <td>...</td>\n",
       "      <td>...</td>\n",
       "      <td>...</td>\n",
       "      <td>...</td>\n",
       "      <td>...</td>\n",
       "      <td>...</td>\n",
       "      <td>...</td>\n",
       "      <td>...</td>\n",
       "      <td>...</td>\n",
       "      <td>...</td>\n",
       "      <td>...</td>\n",
       "      <td>...</td>\n",
       "      <td>...</td>\n",
       "    </tr>\n",
       "    <tr>\n",
       "      <td>3211</td>\n",
       "      <td>1129</td>\n",
       "      <td>NaN</td>\n",
       "      <td>452.0</td>\n",
       "      <td>16422.0</td>\n",
       "      <td>48</td>\n",
       "      <td>NaT</td>\n",
       "      <td>Курган</td>\n",
       "      <td>Анвар</td>\n",
       "      <td>Морозов</td>\n",
       "      <td>2018-12-17</td>\n",
       "      <td>smart</td>\n",
       "      <td>12</td>\n",
       "    </tr>\n",
       "    <tr>\n",
       "      <td>3212</td>\n",
       "      <td>1297</td>\n",
       "      <td>NaN</td>\n",
       "      <td>404.0</td>\n",
       "      <td>18963.0</td>\n",
       "      <td>66</td>\n",
       "      <td>NaT</td>\n",
       "      <td>Иркутск</td>\n",
       "      <td>Радим</td>\n",
       "      <td>Абрамцев</td>\n",
       "      <td>2018-12-04</td>\n",
       "      <td>smart</td>\n",
       "      <td>12</td>\n",
       "    </tr>\n",
       "    <tr>\n",
       "      <td>3213</td>\n",
       "      <td>1397</td>\n",
       "      <td>NaN</td>\n",
       "      <td>232.0</td>\n",
       "      <td>23509.0</td>\n",
       "      <td>47</td>\n",
       "      <td>NaT</td>\n",
       "      <td>Воронеж</td>\n",
       "      <td>Инна</td>\n",
       "      <td>Чистякова</td>\n",
       "      <td>2018-12-22</td>\n",
       "      <td>ultra</td>\n",
       "      <td>12</td>\n",
       "    </tr>\n",
       "    <tr>\n",
       "      <td>3214</td>\n",
       "      <td>1128</td>\n",
       "      <td>NaN</td>\n",
       "      <td>NaN</td>\n",
       "      <td>NaN</td>\n",
       "      <td>51</td>\n",
       "      <td>2018-12-23</td>\n",
       "      <td>Волжский</td>\n",
       "      <td>Ксения</td>\n",
       "      <td>Агаева</td>\n",
       "      <td>2018-12-15</td>\n",
       "      <td>ultra</td>\n",
       "      <td>12</td>\n",
       "    </tr>\n",
       "    <tr>\n",
       "      <td>3215</td>\n",
       "      <td>1371</td>\n",
       "      <td>NaN</td>\n",
       "      <td>NaN</td>\n",
       "      <td>NaN</td>\n",
       "      <td>50</td>\n",
       "      <td>2018-12-30</td>\n",
       "      <td>Омск</td>\n",
       "      <td>Ириней</td>\n",
       "      <td>Трофимов</td>\n",
       "      <td>2018-12-25</td>\n",
       "      <td>smart</td>\n",
       "      <td>12</td>\n",
       "    </tr>\n",
       "  </tbody>\n",
       "</table>\n",
       "<p>3216 rows × 12 columns</p>\n",
       "</div>"
      ],
      "text/plain": [
       "      user_id  message_date  duration  mb_used  age churn_date  \\\n",
       "0        1005           7.0      95.0   2724.0   67        NaT   \n",
       "1        1005          38.0     456.0   7372.0   67        NaT   \n",
       "2        1005          56.0     606.0  11092.0   67        NaT   \n",
       "3        1005          41.0     712.0   9341.0   67        NaT   \n",
       "4        1005          42.0     595.0   7857.0   67        NaT   \n",
       "...       ...           ...       ...      ...  ...        ...   \n",
       "3211     1129           NaN     452.0  16422.0   48        NaT   \n",
       "3212     1297           NaN     404.0  18963.0   66        NaT   \n",
       "3213     1397           NaN     232.0  23509.0   47        NaT   \n",
       "3214     1128           NaN       NaN      NaN   51 2018-12-23   \n",
       "3215     1371           NaN       NaN      NaN   50 2018-12-30   \n",
       "\n",
       "                  city first_name  last_name   reg_date tariff  month  \n",
       "0     Набережные Челны   Афанасий     Горлов 2018-01-25  smart      1  \n",
       "1     Набережные Челны   Афанасий     Горлов 2018-01-25  smart      1  \n",
       "2     Набережные Челны   Афанасий     Горлов 2018-01-25  smart      1  \n",
       "3     Набережные Челны   Афанасий     Горлов 2018-01-25  smart      1  \n",
       "4     Набережные Челны   Афанасий     Горлов 2018-01-25  smart      1  \n",
       "...                ...        ...        ...        ...    ...    ...  \n",
       "3211            Курган      Анвар    Морозов 2018-12-17  smart     12  \n",
       "3212           Иркутск      Радим   Абрамцев 2018-12-04  smart     12  \n",
       "3213           Воронеж       Инна  Чистякова 2018-12-22  ultra     12  \n",
       "3214          Волжский     Ксения     Агаева 2018-12-15  ultra     12  \n",
       "3215              Омск     Ириней   Трофимов 2018-12-25  smart     12  \n",
       "\n",
       "[3216 rows x 12 columns]"
      ]
     },
     "execution_count": 13,
     "metadata": {},
     "output_type": "execute_result"
    }
   ],
   "source": [
    "\n",
    "group_messages_call=group_messages.merge(group_calls,on=['user_id','month'],how='outer') # \n",
    "group_all=group_messages_call.merge(group_internet,on=['user_id','month'],how='outer')\n",
    "users['month']=users['reg_date'].dt.month\n",
    "group_all=group_all.merge(users,on=['user_id'],how='outer')\n",
    "group_all"
   ]
  },
  {
   "cell_type": "code",
   "execution_count": 14,
   "metadata": {},
   "outputs": [
    {
     "data": {
      "text/html": [
       "<div>\n",
       "<style scoped>\n",
       "    .dataframe tbody tr th:only-of-type {\n",
       "        vertical-align: middle;\n",
       "    }\n",
       "\n",
       "    .dataframe tbody tr th {\n",
       "        vertical-align: top;\n",
       "    }\n",
       "\n",
       "    .dataframe thead th {\n",
       "        text-align: right;\n",
       "    }\n",
       "</style>\n",
       "<table border=\"1\" class=\"dataframe\">\n",
       "  <thead>\n",
       "    <tr style=\"text-align: right;\">\n",
       "      <th></th>\n",
       "      <th>user_id</th>\n",
       "      <th>message_date</th>\n",
       "      <th>duration</th>\n",
       "      <th>mb_used</th>\n",
       "      <th>age</th>\n",
       "      <th>churn_date</th>\n",
       "      <th>city</th>\n",
       "      <th>first_name</th>\n",
       "      <th>last_name</th>\n",
       "      <th>reg_date</th>\n",
       "      <th>tariff</th>\n",
       "      <th>month</th>\n",
       "    </tr>\n",
       "  </thead>\n",
       "  <tbody>\n",
       "    <tr>\n",
       "      <td>1417</td>\n",
       "      <td>1000</td>\n",
       "      <td>57.0</td>\n",
       "      <td>466.0</td>\n",
       "      <td>14556.0</td>\n",
       "      <td>52</td>\n",
       "      <td>0</td>\n",
       "      <td>Краснодар</td>\n",
       "      <td>Рафаил</td>\n",
       "      <td>Верещагин</td>\n",
       "      <td>2018-05-25</td>\n",
       "      <td>ultra</td>\n",
       "      <td>5</td>\n",
       "    </tr>\n",
       "    <tr>\n",
       "      <td>1420</td>\n",
       "      <td>1000</td>\n",
       "      <td>70.0</td>\n",
       "      <td>333.0</td>\n",
       "      <td>9808.0</td>\n",
       "      <td>52</td>\n",
       "      <td>0</td>\n",
       "      <td>Краснодар</td>\n",
       "      <td>Рафаил</td>\n",
       "      <td>Верещагин</td>\n",
       "      <td>2018-05-25</td>\n",
       "      <td>ultra</td>\n",
       "      <td>5</td>\n",
       "    </tr>\n",
       "    <tr>\n",
       "      <td>1419</td>\n",
       "      <td>1000</td>\n",
       "      <td>58.0</td>\n",
       "      <td>338.0</td>\n",
       "      <td>14745.0</td>\n",
       "      <td>52</td>\n",
       "      <td>0</td>\n",
       "      <td>Краснодар</td>\n",
       "      <td>Рафаил</td>\n",
       "      <td>Верещагин</td>\n",
       "      <td>2018-05-25</td>\n",
       "      <td>ultra</td>\n",
       "      <td>5</td>\n",
       "    </tr>\n",
       "    <tr>\n",
       "      <td>1418</td>\n",
       "      <td>1000</td>\n",
       "      <td>73.0</td>\n",
       "      <td>350.0</td>\n",
       "      <td>14690.0</td>\n",
       "      <td>52</td>\n",
       "      <td>0</td>\n",
       "      <td>Краснодар</td>\n",
       "      <td>Рафаил</td>\n",
       "      <td>Верещагин</td>\n",
       "      <td>2018-05-25</td>\n",
       "      <td>ultra</td>\n",
       "      <td>5</td>\n",
       "    </tr>\n",
       "    <tr>\n",
       "      <td>1416</td>\n",
       "      <td>1000</td>\n",
       "      <td>81.0</td>\n",
       "      <td>408.0</td>\n",
       "      <td>14043.0</td>\n",
       "      <td>52</td>\n",
       "      <td>0</td>\n",
       "      <td>Краснодар</td>\n",
       "      <td>Рафаил</td>\n",
       "      <td>Верещагин</td>\n",
       "      <td>2018-05-25</td>\n",
       "      <td>ultra</td>\n",
       "      <td>5</td>\n",
       "    </tr>\n",
       "    <tr>\n",
       "      <td>...</td>\n",
       "      <td>...</td>\n",
       "      <td>...</td>\n",
       "      <td>...</td>\n",
       "      <td>...</td>\n",
       "      <td>...</td>\n",
       "      <td>...</td>\n",
       "      <td>...</td>\n",
       "      <td>...</td>\n",
       "      <td>...</td>\n",
       "      <td>...</td>\n",
       "      <td>...</td>\n",
       "      <td>...</td>\n",
       "    </tr>\n",
       "    <tr>\n",
       "      <td>2183</td>\n",
       "      <td>1498</td>\n",
       "      <td>20.0</td>\n",
       "      <td>175.0</td>\n",
       "      <td>7469.0</td>\n",
       "      <td>68</td>\n",
       "      <td>2018-10-25 00:00:00</td>\n",
       "      <td>Владикавказ</td>\n",
       "      <td>Всеволод</td>\n",
       "      <td>Акимчин</td>\n",
       "      <td>2018-07-19</td>\n",
       "      <td>smart</td>\n",
       "      <td>7</td>\n",
       "    </tr>\n",
       "    <tr>\n",
       "      <td>2519</td>\n",
       "      <td>1499</td>\n",
       "      <td>66.0</td>\n",
       "      <td>492.0</td>\n",
       "      <td>13037.0</td>\n",
       "      <td>35</td>\n",
       "      <td>0</td>\n",
       "      <td>Пермь</td>\n",
       "      <td>Гектор</td>\n",
       "      <td>Корнилов</td>\n",
       "      <td>2018-09-27</td>\n",
       "      <td>smart</td>\n",
       "      <td>9</td>\n",
       "    </tr>\n",
       "    <tr>\n",
       "      <td>2518</td>\n",
       "      <td>1499</td>\n",
       "      <td>59.0</td>\n",
       "      <td>612.0</td>\n",
       "      <td>17945.0</td>\n",
       "      <td>35</td>\n",
       "      <td>0</td>\n",
       "      <td>Пермь</td>\n",
       "      <td>Гектор</td>\n",
       "      <td>Корнилов</td>\n",
       "      <td>2018-09-27</td>\n",
       "      <td>smart</td>\n",
       "      <td>9</td>\n",
       "    </tr>\n",
       "    <tr>\n",
       "      <td>2516</td>\n",
       "      <td>1499</td>\n",
       "      <td>11.0</td>\n",
       "      <td>70.0</td>\n",
       "      <td>1844.0</td>\n",
       "      <td>35</td>\n",
       "      <td>0</td>\n",
       "      <td>Пермь</td>\n",
       "      <td>Гектор</td>\n",
       "      <td>Корнилов</td>\n",
       "      <td>2018-09-27</td>\n",
       "      <td>smart</td>\n",
       "      <td>9</td>\n",
       "    </tr>\n",
       "    <tr>\n",
       "      <td>2517</td>\n",
       "      <td>1499</td>\n",
       "      <td>48.0</td>\n",
       "      <td>449.0</td>\n",
       "      <td>17766.0</td>\n",
       "      <td>35</td>\n",
       "      <td>0</td>\n",
       "      <td>Пермь</td>\n",
       "      <td>Гектор</td>\n",
       "      <td>Корнилов</td>\n",
       "      <td>2018-09-27</td>\n",
       "      <td>smart</td>\n",
       "      <td>9</td>\n",
       "    </tr>\n",
       "  </tbody>\n",
       "</table>\n",
       "<p>3216 rows × 12 columns</p>\n",
       "</div>"
      ],
      "text/plain": [
       "      user_id  message_date  duration  mb_used  age           churn_date  \\\n",
       "1417     1000          57.0     466.0  14556.0   52                    0   \n",
       "1420     1000          70.0     333.0   9808.0   52                    0   \n",
       "1419     1000          58.0     338.0  14745.0   52                    0   \n",
       "1418     1000          73.0     350.0  14690.0   52                    0   \n",
       "1416     1000          81.0     408.0  14043.0   52                    0   \n",
       "...       ...           ...       ...      ...  ...                  ...   \n",
       "2183     1498          20.0     175.0   7469.0   68  2018-10-25 00:00:00   \n",
       "2519     1499          66.0     492.0  13037.0   35                    0   \n",
       "2518     1499          59.0     612.0  17945.0   35                    0   \n",
       "2516     1499          11.0      70.0   1844.0   35                    0   \n",
       "2517     1499          48.0     449.0  17766.0   35                    0   \n",
       "\n",
       "             city first_name  last_name   reg_date tariff  month  \n",
       "1417    Краснодар     Рафаил  Верещагин 2018-05-25  ultra      5  \n",
       "1420    Краснодар     Рафаил  Верещагин 2018-05-25  ultra      5  \n",
       "1419    Краснодар     Рафаил  Верещагин 2018-05-25  ultra      5  \n",
       "1418    Краснодар     Рафаил  Верещагин 2018-05-25  ultra      5  \n",
       "1416    Краснодар     Рафаил  Верещагин 2018-05-25  ultra      5  \n",
       "...           ...        ...        ...        ...    ...    ...  \n",
       "2183  Владикавказ   Всеволод    Акимчин 2018-07-19  smart      7  \n",
       "2519        Пермь     Гектор   Корнилов 2018-09-27  smart      9  \n",
       "2518        Пермь     Гектор   Корнилов 2018-09-27  smart      9  \n",
       "2516        Пермь     Гектор   Корнилов 2018-09-27  smart      9  \n",
       "2517        Пермь     Гектор   Корнилов 2018-09-27  smart      9  \n",
       "\n",
       "[3216 rows x 12 columns]"
      ]
     },
     "execution_count": 14,
     "metadata": {},
     "output_type": "execute_result"
    }
   ],
   "source": [
    "group_all=group_all.fillna(0).sort_values(by='user_id')\n",
    "group_all['city']=group_all['city'].replace([0], 'Город')\n",
    "group_all"
   ]
  },
  {
   "cell_type": "code",
   "execution_count": 15,
   "metadata": {},
   "outputs": [
    {
     "data": {
      "text/html": [
       "<div>\n",
       "<style scoped>\n",
       "    .dataframe tbody tr th:only-of-type {\n",
       "        vertical-align: middle;\n",
       "    }\n",
       "\n",
       "    .dataframe tbody tr th {\n",
       "        vertical-align: top;\n",
       "    }\n",
       "\n",
       "    .dataframe thead th {\n",
       "        text-align: right;\n",
       "    }\n",
       "</style>\n",
       "<table border=\"1\" class=\"dataframe\">\n",
       "  <thead>\n",
       "    <tr style=\"text-align: right;\">\n",
       "      <th></th>\n",
       "      <th>user_id</th>\n",
       "      <th>message_date</th>\n",
       "      <th>duration</th>\n",
       "      <th>mb_used</th>\n",
       "      <th>city</th>\n",
       "      <th>tariff</th>\n",
       "      <th>month</th>\n",
       "    </tr>\n",
       "  </thead>\n",
       "  <tbody>\n",
       "    <tr>\n",
       "      <td>1417</td>\n",
       "      <td>1000</td>\n",
       "      <td>57.0</td>\n",
       "      <td>466.0</td>\n",
       "      <td>14556.0</td>\n",
       "      <td>Краснодар</td>\n",
       "      <td>ultra</td>\n",
       "      <td>5</td>\n",
       "    </tr>\n",
       "    <tr>\n",
       "      <td>1420</td>\n",
       "      <td>1000</td>\n",
       "      <td>70.0</td>\n",
       "      <td>333.0</td>\n",
       "      <td>9808.0</td>\n",
       "      <td>Краснодар</td>\n",
       "      <td>ultra</td>\n",
       "      <td>5</td>\n",
       "    </tr>\n",
       "    <tr>\n",
       "      <td>1419</td>\n",
       "      <td>1000</td>\n",
       "      <td>58.0</td>\n",
       "      <td>338.0</td>\n",
       "      <td>14745.0</td>\n",
       "      <td>Краснодар</td>\n",
       "      <td>ultra</td>\n",
       "      <td>5</td>\n",
       "    </tr>\n",
       "    <tr>\n",
       "      <td>1418</td>\n",
       "      <td>1000</td>\n",
       "      <td>73.0</td>\n",
       "      <td>350.0</td>\n",
       "      <td>14690.0</td>\n",
       "      <td>Краснодар</td>\n",
       "      <td>ultra</td>\n",
       "      <td>5</td>\n",
       "    </tr>\n",
       "    <tr>\n",
       "      <td>1416</td>\n",
       "      <td>1000</td>\n",
       "      <td>81.0</td>\n",
       "      <td>408.0</td>\n",
       "      <td>14043.0</td>\n",
       "      <td>Краснодар</td>\n",
       "      <td>ultra</td>\n",
       "      <td>5</td>\n",
       "    </tr>\n",
       "    <tr>\n",
       "      <td>...</td>\n",
       "      <td>...</td>\n",
       "      <td>...</td>\n",
       "      <td>...</td>\n",
       "      <td>...</td>\n",
       "      <td>...</td>\n",
       "      <td>...</td>\n",
       "      <td>...</td>\n",
       "    </tr>\n",
       "    <tr>\n",
       "      <td>2183</td>\n",
       "      <td>1498</td>\n",
       "      <td>20.0</td>\n",
       "      <td>175.0</td>\n",
       "      <td>7469.0</td>\n",
       "      <td>Владикавказ</td>\n",
       "      <td>smart</td>\n",
       "      <td>7</td>\n",
       "    </tr>\n",
       "    <tr>\n",
       "      <td>2519</td>\n",
       "      <td>1499</td>\n",
       "      <td>66.0</td>\n",
       "      <td>492.0</td>\n",
       "      <td>13037.0</td>\n",
       "      <td>Пермь</td>\n",
       "      <td>smart</td>\n",
       "      <td>9</td>\n",
       "    </tr>\n",
       "    <tr>\n",
       "      <td>2518</td>\n",
       "      <td>1499</td>\n",
       "      <td>59.0</td>\n",
       "      <td>612.0</td>\n",
       "      <td>17945.0</td>\n",
       "      <td>Пермь</td>\n",
       "      <td>smart</td>\n",
       "      <td>9</td>\n",
       "    </tr>\n",
       "    <tr>\n",
       "      <td>2516</td>\n",
       "      <td>1499</td>\n",
       "      <td>11.0</td>\n",
       "      <td>70.0</td>\n",
       "      <td>1844.0</td>\n",
       "      <td>Пермь</td>\n",
       "      <td>smart</td>\n",
       "      <td>9</td>\n",
       "    </tr>\n",
       "    <tr>\n",
       "      <td>2517</td>\n",
       "      <td>1499</td>\n",
       "      <td>48.0</td>\n",
       "      <td>449.0</td>\n",
       "      <td>17766.0</td>\n",
       "      <td>Пермь</td>\n",
       "      <td>smart</td>\n",
       "      <td>9</td>\n",
       "    </tr>\n",
       "  </tbody>\n",
       "</table>\n",
       "<p>3216 rows × 7 columns</p>\n",
       "</div>"
      ],
      "text/plain": [
       "      user_id  message_date  duration  mb_used         city tariff  month\n",
       "1417     1000          57.0     466.0  14556.0    Краснодар  ultra      5\n",
       "1420     1000          70.0     333.0   9808.0    Краснодар  ultra      5\n",
       "1419     1000          58.0     338.0  14745.0    Краснодар  ultra      5\n",
       "1418     1000          73.0     350.0  14690.0    Краснодар  ultra      5\n",
       "1416     1000          81.0     408.0  14043.0    Краснодар  ultra      5\n",
       "...       ...           ...       ...      ...          ...    ...    ...\n",
       "2183     1498          20.0     175.0   7469.0  Владикавказ  smart      7\n",
       "2519     1499          66.0     492.0  13037.0        Пермь  smart      9\n",
       "2518     1499          59.0     612.0  17945.0        Пермь  smart      9\n",
       "2516     1499          11.0      70.0   1844.0        Пермь  smart      9\n",
       "2517     1499          48.0     449.0  17766.0        Пермь  smart      9\n",
       "\n",
       "[3216 rows x 7 columns]"
      ]
     },
     "execution_count": 15,
     "metadata": {},
     "output_type": "execute_result"
    }
   ],
   "source": [
    "#необходимо удалить все ненужные столбцы и заменить  NaN\n",
    "#group_all=group_all.fillna(tariff).sort_values(by='user_id')\n",
    "#group_all['city']=group_all['city'].replace([0], 'Город')\n",
    "\n",
    "del group_all['age']\n",
    "del group_all['churn_date']\n",
    "del group_all['first_name']\n",
    "del group_all['last_name']\n",
    "del group_all['reg_date']\n",
    "group_all"
   ]
  },
  {
   "cell_type": "markdown",
   "metadata": {},
   "source": [
    "## Анализ данных"
   ]
  },
  {
   "cell_type": "code",
   "execution_count": 16,
   "metadata": {},
   "outputs": [
    {
     "data": {
      "text/html": [
       "<div>\n",
       "<style scoped>\n",
       "    .dataframe tbody tr th:only-of-type {\n",
       "        vertical-align: middle;\n",
       "    }\n",
       "\n",
       "    .dataframe tbody tr th {\n",
       "        vertical-align: top;\n",
       "    }\n",
       "\n",
       "    .dataframe thead th {\n",
       "        text-align: right;\n",
       "    }\n",
       "</style>\n",
       "<table border=\"1\" class=\"dataframe\">\n",
       "  <thead>\n",
       "    <tr style=\"text-align: right;\">\n",
       "      <th></th>\n",
       "      <th>user_id</th>\n",
       "      <th>message_date</th>\n",
       "      <th>duration</th>\n",
       "      <th>mb_used</th>\n",
       "      <th>city</th>\n",
       "      <th>tariff</th>\n",
       "      <th>month</th>\n",
       "      <th>money</th>\n",
       "    </tr>\n",
       "  </thead>\n",
       "  <tbody>\n",
       "    <tr>\n",
       "      <td>1417</td>\n",
       "      <td>1000</td>\n",
       "      <td>57.0</td>\n",
       "      <td>466.0</td>\n",
       "      <td>14556.0</td>\n",
       "      <td>Краснодар</td>\n",
       "      <td>ultra</td>\n",
       "      <td>5</td>\n",
       "      <td>1950.0</td>\n",
       "    </tr>\n",
       "    <tr>\n",
       "      <td>1420</td>\n",
       "      <td>1000</td>\n",
       "      <td>70.0</td>\n",
       "      <td>333.0</td>\n",
       "      <td>9808.0</td>\n",
       "      <td>Краснодар</td>\n",
       "      <td>ultra</td>\n",
       "      <td>5</td>\n",
       "      <td>1950.0</td>\n",
       "    </tr>\n",
       "    <tr>\n",
       "      <td>1419</td>\n",
       "      <td>1000</td>\n",
       "      <td>58.0</td>\n",
       "      <td>338.0</td>\n",
       "      <td>14745.0</td>\n",
       "      <td>Краснодар</td>\n",
       "      <td>ultra</td>\n",
       "      <td>5</td>\n",
       "      <td>1950.0</td>\n",
       "    </tr>\n",
       "    <tr>\n",
       "      <td>1418</td>\n",
       "      <td>1000</td>\n",
       "      <td>73.0</td>\n",
       "      <td>350.0</td>\n",
       "      <td>14690.0</td>\n",
       "      <td>Краснодар</td>\n",
       "      <td>ultra</td>\n",
       "      <td>5</td>\n",
       "      <td>1950.0</td>\n",
       "    </tr>\n",
       "    <tr>\n",
       "      <td>1416</td>\n",
       "      <td>1000</td>\n",
       "      <td>81.0</td>\n",
       "      <td>408.0</td>\n",
       "      <td>14043.0</td>\n",
       "      <td>Краснодар</td>\n",
       "      <td>ultra</td>\n",
       "      <td>5</td>\n",
       "      <td>1950.0</td>\n",
       "    </tr>\n",
       "    <tr>\n",
       "      <td>...</td>\n",
       "      <td>...</td>\n",
       "      <td>...</td>\n",
       "      <td>...</td>\n",
       "      <td>...</td>\n",
       "      <td>...</td>\n",
       "      <td>...</td>\n",
       "      <td>...</td>\n",
       "      <td>...</td>\n",
       "    </tr>\n",
       "    <tr>\n",
       "      <td>2183</td>\n",
       "      <td>1498</td>\n",
       "      <td>20.0</td>\n",
       "      <td>175.0</td>\n",
       "      <td>7469.0</td>\n",
       "      <td>Владикавказ</td>\n",
       "      <td>smart</td>\n",
       "      <td>7</td>\n",
       "      <td>550.0</td>\n",
       "    </tr>\n",
       "    <tr>\n",
       "      <td>2519</td>\n",
       "      <td>1499</td>\n",
       "      <td>66.0</td>\n",
       "      <td>492.0</td>\n",
       "      <td>13037.0</td>\n",
       "      <td>Пермь</td>\n",
       "      <td>smart</td>\n",
       "      <td>9</td>\n",
       "      <td>598.0</td>\n",
       "    </tr>\n",
       "    <tr>\n",
       "      <td>2518</td>\n",
       "      <td>1499</td>\n",
       "      <td>59.0</td>\n",
       "      <td>612.0</td>\n",
       "      <td>17945.0</td>\n",
       "      <td>Пермь</td>\n",
       "      <td>smart</td>\n",
       "      <td>9</td>\n",
       "      <td>1513.0</td>\n",
       "    </tr>\n",
       "    <tr>\n",
       "      <td>2516</td>\n",
       "      <td>1499</td>\n",
       "      <td>11.0</td>\n",
       "      <td>70.0</td>\n",
       "      <td>1844.0</td>\n",
       "      <td>Пермь</td>\n",
       "      <td>smart</td>\n",
       "      <td>9</td>\n",
       "      <td>550.0</td>\n",
       "    </tr>\n",
       "    <tr>\n",
       "      <td>2517</td>\n",
       "      <td>1499</td>\n",
       "      <td>48.0</td>\n",
       "      <td>449.0</td>\n",
       "      <td>17766.0</td>\n",
       "      <td>Пермь</td>\n",
       "      <td>smart</td>\n",
       "      <td>9</td>\n",
       "      <td>950.0</td>\n",
       "    </tr>\n",
       "  </tbody>\n",
       "</table>\n",
       "<p>3216 rows × 8 columns</p>\n",
       "</div>"
      ],
      "text/plain": [
       "      user_id  message_date  duration  mb_used         city tariff  month  \\\n",
       "1417     1000          57.0     466.0  14556.0    Краснодар  ultra      5   \n",
       "1420     1000          70.0     333.0   9808.0    Краснодар  ultra      5   \n",
       "1419     1000          58.0     338.0  14745.0    Краснодар  ultra      5   \n",
       "1418     1000          73.0     350.0  14690.0    Краснодар  ultra      5   \n",
       "1416     1000          81.0     408.0  14043.0    Краснодар  ultra      5   \n",
       "...       ...           ...       ...      ...          ...    ...    ...   \n",
       "2183     1498          20.0     175.0   7469.0  Владикавказ  smart      7   \n",
       "2519     1499          66.0     492.0  13037.0        Пермь  smart      9   \n",
       "2518     1499          59.0     612.0  17945.0        Пермь  smart      9   \n",
       "2516     1499          11.0      70.0   1844.0        Пермь  smart      9   \n",
       "2517     1499          48.0     449.0  17766.0        Пермь  smart      9   \n",
       "\n",
       "       money  \n",
       "1417  1950.0  \n",
       "1420  1950.0  \n",
       "1419  1950.0  \n",
       "1418  1950.0  \n",
       "1416  1950.0  \n",
       "...      ...  \n",
       "2183   550.0  \n",
       "2519   598.0  \n",
       "2518  1513.0  \n",
       "2516   550.0  \n",
       "2517   950.0  \n",
       "\n",
       "[3216 rows x 8 columns]"
      ]
     },
     "execution_count": 16,
     "metadata": {},
     "output_type": "execute_result"
    }
   ],
   "source": [
    "#создаем функцию посчета выручки в зависимости от тарифа, добавляем ее при помощи apply в нашу таблицу\n",
    "\n",
    "def how_money(row):\n",
    "    \n",
    "    message=row['message_date']\n",
    "    call=row['duration']\n",
    "    inet=row['mb_used']\n",
    "    tariff=row['tariff']\n",
    "    \n",
    "    \n",
    "    if (tariff=='smart'):\n",
    "        i=0\n",
    "    else:\n",
    "        i=1\n",
    "        \n",
    "    remains_call=tariffs['minutes_included'][i]-call\n",
    "    if remains_call<0:\n",
    "        call_money=-remains_call*tariffs['rub_per_minute'][i]\n",
    "    else:\n",
    "        call_money=0\n",
    "         \n",
    "    remains_internet=tariffs['mb_per_month_included'][i]-inet\n",
    "    if remains_internet<0:\n",
    "        internet_money=round((-remains_internet/1024))*tariffs['rub_per_gb'][i]\n",
    "    else:\n",
    "        internet_money=0\n",
    "            \n",
    "    remains_messages=tariffs['messages_included'][i]-message\n",
    "    if remains_messages<0:\n",
    "        messages_money=-remains_messages*tariffs['rub_per_message'][i]\n",
    "    else:\n",
    "        messages_money=0\n",
    "            \n",
    "    money=call_money+internet_money+messages_money+tariffs['rub_monthly_fee'][i]\n",
    "    return money\n",
    "group_all['money']=group_all.apply(how_money,axis=1)   \n",
    "\n",
    "#group_all.loc[group_all['money'] >= 1950, 'money'] = 1\n",
    "group_all\n"
   ]
  },
  {
   "cell_type": "code",
   "execution_count": 17,
   "metadata": {},
   "outputs": [
    {
     "data": {
      "image/png": "[encoded data removed]",
      "text/plain": [
       "<Figure size 432x288 with 1 Axes>"
      ]
     },
     "metadata": {
      "needs_background": "light"
     },
     "output_type": "display_data"
    }
   ],
   "source": [
    "#Потсроим гистрограмму, для анализа количества по стоимости тарифов\n",
    "group_all['money'].hist(bins=50);\n"
   ]
  },
  {
   "cell_type": "markdown",
   "metadata": {},
   "source": [
    "**Вывод: больше всего тарифов за 1950 и 550 рублей**"
   ]
  },
  {
   "cell_type": "code",
   "execution_count": 18,
   "metadata": {},
   "outputs": [
    {
     "data": {
      "text/plain": [
       "tariff\n",
       "smart    2731301.0\n",
       "ultra    2029800.0\n",
       "Name: money, dtype: float64"
      ]
     },
     "execution_count": 18,
     "metadata": {},
     "output_type": "execute_result"
    }
   ],
   "source": [
    "#группируем таблицу по столбцу тариф и считаем сумму каждого тарифа в таблице\n",
    "group_all.groupby('tariff')['money'].sum()"
   ]
  },
  {
   "cell_type": "code",
   "execution_count": 19,
   "metadata": {},
   "outputs": [
    {
     "data": {
      "text/html": [
       "<div>\n",
       "<style scoped>\n",
       "    .dataframe tbody tr th:only-of-type {\n",
       "        vertical-align: middle;\n",
       "    }\n",
       "\n",
       "    .dataframe tbody tr th {\n",
       "        vertical-align: top;\n",
       "    }\n",
       "\n",
       "    .dataframe thead th {\n",
       "        text-align: right;\n",
       "    }\n",
       "</style>\n",
       "<table border=\"1\" class=\"dataframe\">\n",
       "  <thead>\n",
       "    <tr style=\"text-align: right;\">\n",
       "      <th></th>\n",
       "      <th>user_id</th>\n",
       "      <th>message_date</th>\n",
       "      <th>duration</th>\n",
       "      <th>mb_used</th>\n",
       "      <th>city</th>\n",
       "      <th>tariff</th>\n",
       "      <th>month</th>\n",
       "      <th>money</th>\n",
       "    </tr>\n",
       "  </thead>\n",
       "  <tbody>\n",
       "    <tr>\n",
       "      <td>3181</td>\n",
       "      <td>1024</td>\n",
       "      <td>0.0</td>\n",
       "      <td>949.0</td>\n",
       "      <td>35913.0</td>\n",
       "      <td>Санкт-Петербург</td>\n",
       "      <td>ultra</td>\n",
       "      <td>10</td>\n",
       "      <td>2700.0</td>\n",
       "    </tr>\n",
       "    <tr>\n",
       "      <td>3180</td>\n",
       "      <td>1024</td>\n",
       "      <td>0.0</td>\n",
       "      <td>1146.0</td>\n",
       "      <td>43069.0</td>\n",
       "      <td>Санкт-Петербург</td>\n",
       "      <td>ultra</td>\n",
       "      <td>10</td>\n",
       "      <td>3750.0</td>\n",
       "    </tr>\n",
       "    <tr>\n",
       "      <td>1733</td>\n",
       "      <td>1050</td>\n",
       "      <td>52.0</td>\n",
       "      <td>209.0</td>\n",
       "      <td>35139.0</td>\n",
       "      <td>Тюмень</td>\n",
       "      <td>ultra</td>\n",
       "      <td>6</td>\n",
       "      <td>2550.0</td>\n",
       "    </tr>\n",
       "    <tr>\n",
       "      <td>2649</td>\n",
       "      <td>1060</td>\n",
       "      <td>52.0</td>\n",
       "      <td>1233.0</td>\n",
       "      <td>43893.0</td>\n",
       "      <td>Калуга</td>\n",
       "      <td>ultra</td>\n",
       "      <td>11</td>\n",
       "      <td>3900.0</td>\n",
       "    </tr>\n",
       "    <tr>\n",
       "      <td>2419</td>\n",
       "      <td>1124</td>\n",
       "      <td>95.0</td>\n",
       "      <td>1127.0</td>\n",
       "      <td>36812.0</td>\n",
       "      <td>Махачкала</td>\n",
       "      <td>ultra</td>\n",
       "      <td>9</td>\n",
       "      <td>2850.0</td>\n",
       "    </tr>\n",
       "    <tr>\n",
       "      <td>...</td>\n",
       "      <td>...</td>\n",
       "      <td>...</td>\n",
       "      <td>...</td>\n",
       "      <td>...</td>\n",
       "      <td>...</td>\n",
       "      <td>...</td>\n",
       "      <td>...</td>\n",
       "      <td>...</td>\n",
       "    </tr>\n",
       "    <tr>\n",
       "      <td>3117</td>\n",
       "      <td>1469</td>\n",
       "      <td>0.0</td>\n",
       "      <td>795.0</td>\n",
       "      <td>35463.0</td>\n",
       "      <td>Сочи</td>\n",
       "      <td>ultra</td>\n",
       "      <td>7</td>\n",
       "      <td>2700.0</td>\n",
       "    </tr>\n",
       "    <tr>\n",
       "      <td>2703</td>\n",
       "      <td>1474</td>\n",
       "      <td>105.0</td>\n",
       "      <td>1345.0</td>\n",
       "      <td>42285.0</td>\n",
       "      <td>Набережные Челны</td>\n",
       "      <td>ultra</td>\n",
       "      <td>11</td>\n",
       "      <td>3600.0</td>\n",
       "    </tr>\n",
       "    <tr>\n",
       "      <td>2707</td>\n",
       "      <td>1493</td>\n",
       "      <td>78.0</td>\n",
       "      <td>571.0</td>\n",
       "      <td>42700.0</td>\n",
       "      <td>Красноярск</td>\n",
       "      <td>ultra</td>\n",
       "      <td>11</td>\n",
       "      <td>3750.0</td>\n",
       "    </tr>\n",
       "    <tr>\n",
       "      <td>2403</td>\n",
       "      <td>1495</td>\n",
       "      <td>79.0</td>\n",
       "      <td>954.0</td>\n",
       "      <td>38903.0</td>\n",
       "      <td>Иркутск</td>\n",
       "      <td>ultra</td>\n",
       "      <td>8</td>\n",
       "      <td>3150.0</td>\n",
       "    </tr>\n",
       "    <tr>\n",
       "      <td>2401</td>\n",
       "      <td>1495</td>\n",
       "      <td>82.0</td>\n",
       "      <td>813.0</td>\n",
       "      <td>33040.0</td>\n",
       "      <td>Иркутск</td>\n",
       "      <td>ultra</td>\n",
       "      <td>8</td>\n",
       "      <td>2250.0</td>\n",
       "    </tr>\n",
       "  </tbody>\n",
       "</table>\n",
       "<p>127 rows × 8 columns</p>\n",
       "</div>"
      ],
      "text/plain": [
       "      user_id  message_date  duration  mb_used              city tariff  \\\n",
       "3181     1024           0.0     949.0  35913.0   Санкт-Петербург  ultra   \n",
       "3180     1024           0.0    1146.0  43069.0   Санкт-Петербург  ultra   \n",
       "1733     1050          52.0     209.0  35139.0            Тюмень  ultra   \n",
       "2649     1060          52.0    1233.0  43893.0            Калуга  ultra   \n",
       "2419     1124          95.0    1127.0  36812.0         Махачкала  ultra   \n",
       "...       ...           ...       ...      ...               ...    ...   \n",
       "3117     1469           0.0     795.0  35463.0              Сочи  ultra   \n",
       "2703     1474         105.0    1345.0  42285.0  Набережные Челны  ultra   \n",
       "2707     1493          78.0     571.0  42700.0        Красноярск  ultra   \n",
       "2403     1495          79.0     954.0  38903.0           Иркутск  ultra   \n",
       "2401     1495          82.0     813.0  33040.0           Иркутск  ultra   \n",
       "\n",
       "      month   money  \n",
       "3181     10  2700.0  \n",
       "3180     10  3750.0  \n",
       "1733      6  2550.0  \n",
       "2649     11  3900.0  \n",
       "2419      9  2850.0  \n",
       "...     ...     ...  \n",
       "3117      7  2700.0  \n",
       "2703     11  3600.0  \n",
       "2707     11  3750.0  \n",
       "2403      8  3150.0  \n",
       "2401      8  2250.0  \n",
       "\n",
       "[127 rows x 8 columns]"
      ]
     },
     "execution_count": 19,
     "metadata": {},
     "output_type": "execute_result"
    }
   ],
   "source": [
    "#далее найдем тарифы у которых стомиость более 1950\n",
    "group_all.query('tariff==\"ultra\" and money>1950')\n"
   ]
  },
  {
   "cell_type": "code",
   "execution_count": 20,
   "metadata": {},
   "outputs": [
    {
     "data": {
      "text/plain": [
       "user_id         1618\n",
       "message_date    1618\n",
       "duration        1618\n",
       "mb_used         1618\n",
       "city            1618\n",
       "tariff          1618\n",
       "month           1618\n",
       "money           1618\n",
       "dtype: int64"
      ]
     },
     "execution_count": 20,
     "metadata": {},
     "output_type": "execute_result"
    }
   ],
   "source": [
    "#далее найдем тарифы у которых стомиость менее 550, так как из больше то найдем количетсво\n",
    "group_all.query('tariff==\"smart\" and money>550').count()"
   ]
  },
  {
   "cell_type": "markdown",
   "metadata": {},
   "source": [
    "**отсюда делаем вывод что самый выгодный для компании тариф ультра**"
   ]
  },
  {
   "cell_type": "code",
   "execution_count": 21,
   "metadata": {},
   "outputs": [],
   "source": [
    "#для дальнейшей работы нам необходимо поделить таблицу на две с разными тарифами, сделав сводную по месяцам\n",
    "tariff_ultra=(group_all\n",
    "     .query('tariff==\"ultra\"')\n",
    "     .pivot_table(index='month',values=('duration','message_date','mb_used'),aggfunc=('sum'))\n",
    "     #.plot(y='mb_used',grid=True,figsize=(13,6),style='o-',kind='bar',label='ultra')\n",
    ")\n",
    "\n",
    "tariff_smart=(group_all\n",
    "     .query('tariff==\"smart\"')\n",
    "     .pivot_table(index='month',values=('duration','message_date','mb_used'),aggfunc=('sum'))\n",
    "             )                                                                                     "
   ]
  },
  {
   "cell_type": "code",
   "execution_count": 22,
   "metadata": {},
   "outputs": [
    {
     "data": {
      "text/html": [
       "<div>\n",
       "<style scoped>\n",
       "    .dataframe tbody tr th:only-of-type {\n",
       "        vertical-align: middle;\n",
       "    }\n",
       "\n",
       "    .dataframe tbody tr th {\n",
       "        vertical-align: top;\n",
       "    }\n",
       "\n",
       "    .dataframe thead th {\n",
       "        text-align: right;\n",
       "    }\n",
       "</style>\n",
       "<table border=\"1\" class=\"dataframe\">\n",
       "  <thead>\n",
       "    <tr style=\"text-align: right;\">\n",
       "      <th></th>\n",
       "      <th>duration</th>\n",
       "      <th>mb_used</th>\n",
       "      <th>message_date</th>\n",
       "    </tr>\n",
       "    <tr>\n",
       "      <th>month</th>\n",
       "      <th></th>\n",
       "      <th></th>\n",
       "      <th></th>\n",
       "    </tr>\n",
       "  </thead>\n",
       "  <tbody>\n",
       "    <tr>\n",
       "      <td>1</td>\n",
       "      <td>65091.0</td>\n",
       "      <td>2220669.0</td>\n",
       "      <td>4872.0</td>\n",
       "    </tr>\n",
       "    <tr>\n",
       "      <td>2</td>\n",
       "      <td>70763.0</td>\n",
       "      <td>3283284.0</td>\n",
       "      <td>6283.0</td>\n",
       "    </tr>\n",
       "    <tr>\n",
       "      <td>3</td>\n",
       "      <td>79139.0</td>\n",
       "      <td>1862369.0</td>\n",
       "      <td>3110.0</td>\n",
       "    </tr>\n",
       "    <tr>\n",
       "      <td>4</td>\n",
       "      <td>94163.0</td>\n",
       "      <td>3411474.0</td>\n",
       "      <td>6615.0</td>\n",
       "    </tr>\n",
       "    <tr>\n",
       "      <td>5</td>\n",
       "      <td>35370.0</td>\n",
       "      <td>1876374.0</td>\n",
       "      <td>6406.0</td>\n",
       "    </tr>\n",
       "    <tr>\n",
       "      <td>6</td>\n",
       "      <td>52854.0</td>\n",
       "      <td>2440772.0</td>\n",
       "      <td>6682.0</td>\n",
       "    </tr>\n",
       "    <tr>\n",
       "      <td>7</td>\n",
       "      <td>24428.0</td>\n",
       "      <td>786228.0</td>\n",
       "      <td>2549.0</td>\n",
       "    </tr>\n",
       "    <tr>\n",
       "      <td>8</td>\n",
       "      <td>41674.0</td>\n",
       "      <td>1220045.0</td>\n",
       "      <td>5683.0</td>\n",
       "    </tr>\n",
       "    <tr>\n",
       "      <td>9</td>\n",
       "      <td>21125.0</td>\n",
       "      <td>592353.0</td>\n",
       "      <td>2204.0</td>\n",
       "    </tr>\n",
       "    <tr>\n",
       "      <td>10</td>\n",
       "      <td>13161.0</td>\n",
       "      <td>741690.0</td>\n",
       "      <td>1911.0</td>\n",
       "    </tr>\n",
       "    <tr>\n",
       "      <td>11</td>\n",
       "      <td>16104.0</td>\n",
       "      <td>555157.0</td>\n",
       "      <td>1834.0</td>\n",
       "    </tr>\n",
       "    <tr>\n",
       "      <td>12</td>\n",
       "      <td>4852.0</td>\n",
       "      <td>168469.0</td>\n",
       "      <td>474.0</td>\n",
       "    </tr>\n",
       "  </tbody>\n",
       "</table>\n",
       "</div>"
      ],
      "text/plain": [
       "       duration    mb_used  message_date\n",
       "month                                   \n",
       "1       65091.0  2220669.0        4872.0\n",
       "2       70763.0  3283284.0        6283.0\n",
       "3       79139.0  1862369.0        3110.0\n",
       "4       94163.0  3411474.0        6615.0\n",
       "5       35370.0  1876374.0        6406.0\n",
       "6       52854.0  2440772.0        6682.0\n",
       "7       24428.0   786228.0        2549.0\n",
       "8       41674.0  1220045.0        5683.0\n",
       "9       21125.0   592353.0        2204.0\n",
       "10      13161.0   741690.0        1911.0\n",
       "11      16104.0   555157.0        1834.0\n",
       "12       4852.0   168469.0         474.0"
      ]
     },
     "execution_count": 22,
     "metadata": {},
     "output_type": "execute_result"
    }
   ],
   "source": [
    "tariff_ultra"
   ]
  },
  {
   "cell_type": "code",
   "execution_count": 23,
   "metadata": {},
   "outputs": [
    {
     "data": {
      "text/html": [
       "<div>\n",
       "<style scoped>\n",
       "    .dataframe tbody tr th:only-of-type {\n",
       "        vertical-align: middle;\n",
       "    }\n",
       "\n",
       "    .dataframe tbody tr th {\n",
       "        vertical-align: top;\n",
       "    }\n",
       "\n",
       "    .dataframe thead th {\n",
       "        text-align: right;\n",
       "    }\n",
       "</style>\n",
       "<table border=\"1\" class=\"dataframe\">\n",
       "  <thead>\n",
       "    <tr style=\"text-align: right;\">\n",
       "      <th></th>\n",
       "      <th>duration</th>\n",
       "      <th>mb_used</th>\n",
       "      <th>message_date</th>\n",
       "    </tr>\n",
       "    <tr>\n",
       "      <th>month</th>\n",
       "      <th></th>\n",
       "      <th></th>\n",
       "      <th></th>\n",
       "    </tr>\n",
       "  </thead>\n",
       "  <tbody>\n",
       "    <tr>\n",
       "      <td>1</td>\n",
       "      <td>158985.0</td>\n",
       "      <td>6388775.0</td>\n",
       "      <td>13777.0</td>\n",
       "    </tr>\n",
       "    <tr>\n",
       "      <td>2</td>\n",
       "      <td>103485.0</td>\n",
       "      <td>3885841.0</td>\n",
       "      <td>9082.0</td>\n",
       "    </tr>\n",
       "    <tr>\n",
       "      <td>3</td>\n",
       "      <td>87927.0</td>\n",
       "      <td>3261994.0</td>\n",
       "      <td>7015.0</td>\n",
       "    </tr>\n",
       "    <tr>\n",
       "      <td>4</td>\n",
       "      <td>138343.0</td>\n",
       "      <td>5029267.0</td>\n",
       "      <td>11380.0</td>\n",
       "    </tr>\n",
       "    <tr>\n",
       "      <td>5</td>\n",
       "      <td>95698.0</td>\n",
       "      <td>4060832.0</td>\n",
       "      <td>7831.0</td>\n",
       "    </tr>\n",
       "    <tr>\n",
       "      <td>6</td>\n",
       "      <td>61535.0</td>\n",
       "      <td>2696077.0</td>\n",
       "      <td>4321.0</td>\n",
       "    </tr>\n",
       "    <tr>\n",
       "      <td>7</td>\n",
       "      <td>96162.0</td>\n",
       "      <td>3439017.0</td>\n",
       "      <td>7190.0</td>\n",
       "    </tr>\n",
       "    <tr>\n",
       "      <td>8</td>\n",
       "      <td>67073.0</td>\n",
       "      <td>2785461.0</td>\n",
       "      <td>4782.0</td>\n",
       "    </tr>\n",
       "    <tr>\n",
       "      <td>9</td>\n",
       "      <td>42352.0</td>\n",
       "      <td>1667916.0</td>\n",
       "      <td>3566.0</td>\n",
       "    </tr>\n",
       "    <tr>\n",
       "      <td>10</td>\n",
       "      <td>46073.0</td>\n",
       "      <td>1578455.0</td>\n",
       "      <td>2961.0</td>\n",
       "    </tr>\n",
       "    <tr>\n",
       "      <td>11</td>\n",
       "      <td>21929.0</td>\n",
       "      <td>826693.0</td>\n",
       "      <td>1681.0</td>\n",
       "    </tr>\n",
       "    <tr>\n",
       "      <td>12</td>\n",
       "      <td>12015.0</td>\n",
       "      <td>461785.0</td>\n",
       "      <td>827.0</td>\n",
       "    </tr>\n",
       "  </tbody>\n",
       "</table>\n",
       "</div>"
      ],
      "text/plain": [
       "       duration    mb_used  message_date\n",
       "month                                   \n",
       "1      158985.0  6388775.0       13777.0\n",
       "2      103485.0  3885841.0        9082.0\n",
       "3       87927.0  3261994.0        7015.0\n",
       "4      138343.0  5029267.0       11380.0\n",
       "5       95698.0  4060832.0        7831.0\n",
       "6       61535.0  2696077.0        4321.0\n",
       "7       96162.0  3439017.0        7190.0\n",
       "8       67073.0  2785461.0        4782.0\n",
       "9       42352.0  1667916.0        3566.0\n",
       "10      46073.0  1578455.0        2961.0\n",
       "11      21929.0   826693.0        1681.0\n",
       "12      12015.0   461785.0         827.0"
      ]
     },
     "execution_count": 23,
     "metadata": {},
     "output_type": "execute_result"
    }
   ],
   "source": [
    "tariff_smart"
   ]
  },
  {
   "cell_type": "markdown",
   "metadata": {},
   "source": [
    "**отделив данные таблицы можем посмотреть сколько было потрачено на звонки, сообщения и интрнет на кадом тарифе в месяц**"
   ]
  },
  {
   "cell_type": "code",
   "execution_count": 24,
   "metadata": {},
   "outputs": [
    {
     "data": {
      "image/png": "[encoded data removed]",
      "text/plain": [
       "<Figure size 936x432 with 1 Axes>"
      ]
     },
     "metadata": {
      "needs_background": "light"
     },
     "output_type": "display_data"
    }
   ],
   "source": [
    "#построим графики для наглядного сравнения потребления звонков, сообщений и интернета\n",
    "ax=tariff_ultra.plot(y='mb_used',figsize=(13,6),kind='bar',label='ultra',style='o-')\n",
    "tariff_smart.plot(y='mb_used',grid=True,figsize=(13,6),style='o-',kind='bar',label='smart',alpha=0.5,ax=ax)\n",
    "plt.xlabel('Месяц')\n",
    "plt.ylabel('Кол-во Мб')\n",
    "plt.show()"
   ]
  },
  {
   "cell_type": "code",
   "execution_count": null,
   "metadata": {},
   "outputs": [],
   "source": []
  },
  {
   "cell_type": "code",
   "execution_count": 25,
   "metadata": {},
   "outputs": [
    {
     "data": {
      "image/png": "[encoded data removed]",
      "text/plain": [
       "<Figure size 936x432 with 1 Axes>"
      ]
     },
     "metadata": {
      "needs_background": "light"
     },
     "output_type": "display_data"
    }
   ],
   "source": [
    "ax=tariff_ultra.plot(y='message_date',grid=True,figsize=(13,6),style='o-',kind='bar',label='ultra')\n",
    "\n",
    "tariff_smart.plot(y='message_date',grid=True,figsize=(13,6),style='o-',kind='bar',label='smart',alpha=0.5,ax=ax);\n",
    "plt.xlabel('Месяц')\n",
    "plt.ylabel('Кол-во СМС')\n",
    "plt.show()"
   ]
  },
  {
   "cell_type": "code",
   "execution_count": 26,
   "metadata": {},
   "outputs": [
    {
     "data": {
      "image/png": "[encoded data removed]",
      "text/plain": [
       "<Figure size 936x432 with 1 Axes>"
      ]
     },
     "metadata": {
      "needs_background": "light"
     },
     "output_type": "display_data"
    }
   ],
   "source": [
    "ax=tariff_ultra.plot(y='duration',figsize=(13,6),style='o-',kind='bar',label='ultra')\n",
    "\n",
    "tariff_smart.plot(y='duration',grid=True,figsize=(13,6),style='o-',kind='bar',label='smart',alpha=0.5,ax=ax);\n",
    "plt.xlabel('Месяц')\n",
    "plt.ylabel('Кол-во минут')\n",
    "plt.show()"
   ]
  },
  {
   "cell_type": "markdown",
   "metadata": {},
   "source": [
    "**на основе 3х гррафиков можно сделать вывод, что в потреблении лидирует тариф Смарт, но в сообщениях тариф Ультра поднялся**"
   ]
  },
  {
   "cell_type": "markdown",
   "metadata": {},
   "source": [
    "#### Срез по месяцам для Ультра и расчета средних значений по звонка, сообщениям, интернету"
   ]
  },
  {
   "cell_type": "code",
   "execution_count": 27,
   "metadata": {
    "scrolled": true
   },
   "outputs": [
    {
     "data": {
      "text/html": [
       "<div>\n",
       "<style scoped>\n",
       "    .dataframe tbody tr th:only-of-type {\n",
       "        vertical-align: middle;\n",
       "    }\n",
       "\n",
       "    .dataframe tbody tr th {\n",
       "        vertical-align: top;\n",
       "    }\n",
       "\n",
       "    .dataframe thead th {\n",
       "        text-align: right;\n",
       "    }\n",
       "</style>\n",
       "<table border=\"1\" class=\"dataframe\">\n",
       "  <thead>\n",
       "    <tr style=\"text-align: right;\">\n",
       "      <th></th>\n",
       "      <th>mean_duration</th>\n",
       "      <th>mean_mb_used</th>\n",
       "      <th>mean_message</th>\n",
       "    </tr>\n",
       "    <tr>\n",
       "      <th>month</th>\n",
       "      <th></th>\n",
       "      <th></th>\n",
       "      <th></th>\n",
       "    </tr>\n",
       "  </thead>\n",
       "  <tbody>\n",
       "    <tr>\n",
       "      <td>1</td>\n",
       "      <td>625.875000</td>\n",
       "      <td>21352.586538</td>\n",
       "      <td>46.846154</td>\n",
       "    </tr>\n",
       "    <tr>\n",
       "      <td>2</td>\n",
       "      <td>445.050314</td>\n",
       "      <td>20649.584906</td>\n",
       "      <td>39.515723</td>\n",
       "    </tr>\n",
       "    <tr>\n",
       "      <td>3</td>\n",
       "      <td>608.761538</td>\n",
       "      <td>14325.915385</td>\n",
       "      <td>23.923077</td>\n",
       "    </tr>\n",
       "    <tr>\n",
       "      <td>4</td>\n",
       "      <td>581.253086</td>\n",
       "      <td>21058.481481</td>\n",
       "      <td>40.833333</td>\n",
       "    </tr>\n",
       "    <tr>\n",
       "      <td>5</td>\n",
       "      <td>376.276596</td>\n",
       "      <td>19961.425532</td>\n",
       "      <td>68.148936</td>\n",
       "    </tr>\n",
       "    <tr>\n",
       "      <td>6</td>\n",
       "      <td>459.600000</td>\n",
       "      <td>21224.104348</td>\n",
       "      <td>58.104348</td>\n",
       "    </tr>\n",
       "    <tr>\n",
       "      <td>7</td>\n",
       "      <td>595.804878</td>\n",
       "      <td>19176.292683</td>\n",
       "      <td>62.170732</td>\n",
       "    </tr>\n",
       "    <tr>\n",
       "      <td>8</td>\n",
       "      <td>534.282051</td>\n",
       "      <td>15641.602564</td>\n",
       "      <td>72.858974</td>\n",
       "    </tr>\n",
       "    <tr>\n",
       "      <td>9</td>\n",
       "      <td>603.571429</td>\n",
       "      <td>16924.371429</td>\n",
       "      <td>62.971429</td>\n",
       "    </tr>\n",
       "    <tr>\n",
       "      <td>10</td>\n",
       "      <td>438.700000</td>\n",
       "      <td>24723.000000</td>\n",
       "      <td>63.700000</td>\n",
       "    </tr>\n",
       "    <tr>\n",
       "      <td>11</td>\n",
       "      <td>536.800000</td>\n",
       "      <td>18505.233333</td>\n",
       "      <td>61.133333</td>\n",
       "    </tr>\n",
       "    <tr>\n",
       "      <td>12</td>\n",
       "      <td>606.500000</td>\n",
       "      <td>21058.625000</td>\n",
       "      <td>59.250000</td>\n",
       "    </tr>\n",
       "  </tbody>\n",
       "</table>\n",
       "</div>"
      ],
      "text/plain": [
       "       mean_duration  mean_mb_used  mean_message\n",
       "month                                           \n",
       "1         625.875000  21352.586538     46.846154\n",
       "2         445.050314  20649.584906     39.515723\n",
       "3         608.761538  14325.915385     23.923077\n",
       "4         581.253086  21058.481481     40.833333\n",
       "5         376.276596  19961.425532     68.148936\n",
       "6         459.600000  21224.104348     58.104348\n",
       "7         595.804878  19176.292683     62.170732\n",
       "8         534.282051  15641.602564     72.858974\n",
       "9         603.571429  16924.371429     62.971429\n",
       "10        438.700000  24723.000000     63.700000\n",
       "11        536.800000  18505.233333     61.133333\n",
       "12        606.500000  21058.625000     59.250000"
      ]
     },
     "execution_count": 27,
     "metadata": {},
     "output_type": "execute_result"
    }
   ],
   "source": [
    "mean_ultra=(group_all\n",
    "     .query('tariff==\"ultra\"')\n",
    "     .pivot_table(index='month',values=('duration','message_date','mb_used'))    \n",
    ")\n",
    "mean_ultra.set_axis(['mean_duration','mean_mb_used','mean_message'],axis='columns',inplace=True)\n",
    "mean_ultra"
   ]
  },
  {
   "cell_type": "code",
   "execution_count": 28,
   "metadata": {},
   "outputs": [
    {
     "data": {
      "text/html": [
       "<div>\n",
       "<style scoped>\n",
       "    .dataframe tbody tr th:only-of-type {\n",
       "        vertical-align: middle;\n",
       "    }\n",
       "\n",
       "    .dataframe tbody tr th {\n",
       "        vertical-align: top;\n",
       "    }\n",
       "\n",
       "    .dataframe thead th {\n",
       "        text-align: right;\n",
       "    }\n",
       "</style>\n",
       "<table border=\"1\" class=\"dataframe\">\n",
       "  <thead>\n",
       "    <tr style=\"text-align: right;\">\n",
       "      <th></th>\n",
       "      <th>duration</th>\n",
       "      <th>mb_used</th>\n",
       "      <th>message_date</th>\n",
       "    </tr>\n",
       "    <tr>\n",
       "      <th>month</th>\n",
       "      <th></th>\n",
       "      <th></th>\n",
       "      <th></th>\n",
       "    </tr>\n",
       "  </thead>\n",
       "  <tbody>\n",
       "    <tr>\n",
       "      <td>1</td>\n",
       "      <td>65091.0</td>\n",
       "      <td>2220669.0</td>\n",
       "      <td>4872.0</td>\n",
       "    </tr>\n",
       "    <tr>\n",
       "      <td>2</td>\n",
       "      <td>70763.0</td>\n",
       "      <td>3283284.0</td>\n",
       "      <td>6283.0</td>\n",
       "    </tr>\n",
       "    <tr>\n",
       "      <td>3</td>\n",
       "      <td>79139.0</td>\n",
       "      <td>1862369.0</td>\n",
       "      <td>3110.0</td>\n",
       "    </tr>\n",
       "    <tr>\n",
       "      <td>4</td>\n",
       "      <td>94163.0</td>\n",
       "      <td>3411474.0</td>\n",
       "      <td>6615.0</td>\n",
       "    </tr>\n",
       "    <tr>\n",
       "      <td>5</td>\n",
       "      <td>35370.0</td>\n",
       "      <td>1876374.0</td>\n",
       "      <td>6406.0</td>\n",
       "    </tr>\n",
       "    <tr>\n",
       "      <td>6</td>\n",
       "      <td>52854.0</td>\n",
       "      <td>2440772.0</td>\n",
       "      <td>6682.0</td>\n",
       "    </tr>\n",
       "    <tr>\n",
       "      <td>7</td>\n",
       "      <td>24428.0</td>\n",
       "      <td>786228.0</td>\n",
       "      <td>2549.0</td>\n",
       "    </tr>\n",
       "    <tr>\n",
       "      <td>8</td>\n",
       "      <td>41674.0</td>\n",
       "      <td>1220045.0</td>\n",
       "      <td>5683.0</td>\n",
       "    </tr>\n",
       "    <tr>\n",
       "      <td>9</td>\n",
       "      <td>21125.0</td>\n",
       "      <td>592353.0</td>\n",
       "      <td>2204.0</td>\n",
       "    </tr>\n",
       "    <tr>\n",
       "      <td>10</td>\n",
       "      <td>13161.0</td>\n",
       "      <td>741690.0</td>\n",
       "      <td>1911.0</td>\n",
       "    </tr>\n",
       "    <tr>\n",
       "      <td>11</td>\n",
       "      <td>16104.0</td>\n",
       "      <td>555157.0</td>\n",
       "      <td>1834.0</td>\n",
       "    </tr>\n",
       "    <tr>\n",
       "      <td>12</td>\n",
       "      <td>4852.0</td>\n",
       "      <td>168469.0</td>\n",
       "      <td>474.0</td>\n",
       "    </tr>\n",
       "  </tbody>\n",
       "</table>\n",
       "</div>"
      ],
      "text/plain": [
       "       duration    mb_used  message_date\n",
       "month                                   \n",
       "1       65091.0  2220669.0        4872.0\n",
       "2       70763.0  3283284.0        6283.0\n",
       "3       79139.0  1862369.0        3110.0\n",
       "4       94163.0  3411474.0        6615.0\n",
       "5       35370.0  1876374.0        6406.0\n",
       "6       52854.0  2440772.0        6682.0\n",
       "7       24428.0   786228.0        2549.0\n",
       "8       41674.0  1220045.0        5683.0\n",
       "9       21125.0   592353.0        2204.0\n",
       "10      13161.0   741690.0        1911.0\n",
       "11      16104.0   555157.0        1834.0\n",
       "12       4852.0   168469.0         474.0"
      ]
     },
     "execution_count": 28,
     "metadata": {},
     "output_type": "execute_result"
    }
   ],
   "source": [
    "tariff_ultra"
   ]
  },
  {
   "cell_type": "code",
   "execution_count": 29,
   "metadata": {},
   "outputs": [
    {
     "name": "stdout",
     "output_type": "stream",
     "text": [
      "duration        4.322700e+04\n",
      "mb_used         1.596574e+06\n",
      "message_date    4.051917e+03\n",
      "dtype: float64\n",
      "duration        7.763142e+04\n",
      "mb_used         3.006843e+06\n",
      "message_date    6.201083e+03\n",
      "dtype: float64\n",
      "Дисперсия\n",
      "duration        7.692833e+08\n",
      "mb_used         1.087642e+12\n",
      "message_date    4.683673e+06\n",
      "dtype: float64\n",
      "duration        1.813993e+09\n",
      "mb_used         2.739337e+12\n",
      "message_date    1.409289e+07\n",
      "dtype: float64\n",
      "Станд. отклонения\n",
      "duration        2.896926e+04\n",
      "mb_used         1.089274e+06\n",
      "message_date    2.260412e+03\n",
      "dtype: float64\n",
      "duration        4.448484e+04\n",
      "mb_used         1.728690e+06\n",
      "message_date    3.920977e+03\n",
      "dtype: float64\n"
     ]
    }
   ],
   "source": [
    "print(tariff_ultra.mean())\n",
    "print(tariff_smart.mean())\n",
    "\n",
    "#исправление по 2 коментариям. дисперсия\n",
    "print('Дисперсия')\n",
    "print(np.var(tariff_ultra))\n",
    "print(np.var(tariff_smart))\n",
    "# станд. отклонение\n",
    "print('Станд. отклонения')\n",
    "print(np.std(tariff_ultra, ddof=1))\n",
    "print(np.std(tariff_smart, ddof=1))\n",
    "\n"
   ]
  },
  {
   "cell_type": "code",
   "execution_count": 30,
   "metadata": {},
   "outputs": [
    {
     "name": "stdout",
     "output_type": "stream",
     "text": [
      "Среднее для тарифа ultra равна 526.08925\n",
      "Дисперсия для тарифа ultra равна 101052.49355\n",
      "Ст. отклонение для тарифа ultra равна 526.08925\n",
      "\n",
      "Среднее для тарифа smart равна 417.74753\n",
      "Дисперсия для тарифа smart равна 36281.39384\n",
      "Ст. отклонение для тарифа smart равна 417.74753\n",
      "\n"
     ]
    },
    {
     "data": {
      "image/png": "[encoded data removed]",
      "text/plain": [
       "<Figure size 864x432 with 1 Axes>"
      ]
     },
     "metadata": {
      "needs_background": "light"
     },
     "output_type": "display_data"
    }
   ],
   "source": [
    "col = 'duration'\n",
    "\n",
    "color_dict = {'ultra': 'red', 'smart': 'black'}\n",
    "fig = plt.figure(figsize=(12, 6))\n",
    "\n",
    "for tariff in ['ultra', 'smart']:\n",
    "    print(f\"Среднее для тарифа {tariff} равна {np.round(group_all.query('tariff == @tariff')[col].mean(), 5)}\")\n",
    "    print(f\"Дисперсия для тарифа {tariff} равна {np.round(group_all.query('tariff == @tariff')[col].var(), 5)}\")\n",
    "    print(f\"Ст. отклонение для тарифа {tariff} равна {np.round(group_all.query('tariff == @tariff')[col].mean(), 5)}\")\n",
    "    print()\n",
    "    \n",
    "    plt.hist(group_all.query('tariff == @tariff')[col],alpha=0.5, bins=30, label=tariff, color=color_dict[tariff])\n",
    "        \n",
    "plt.legend()\n",
    "plt.grid()\n",
    "plt.title(f'Гистограммы распределений по тарифам по столбцу {col}')\n",
    "plt.show()"
   ]
  },
  {
   "cell_type": "code",
   "execution_count": 31,
   "metadata": {},
   "outputs": [
    {
     "name": "stdout",
     "output_type": "stream",
     "text": [
      "Среднее для тарифа ultra равна 19430.91684\n",
      "Дисперсия для тарифа ultra равна 101846665.40221\n",
      "Ст. отклонение для тарифа ultra равна 19430.91684\n",
      "\n",
      "Среднее для тарифа smart равна 16180.31973\n",
      "Дисперсия для тарифа smart равна 34481896.73173\n",
      "Ст. отклонение для тарифа smart равна 16180.31973\n",
      "\n"
     ]
    },
    {
     "data": {
      "image/png": "[encoded data removed]",
      "text/plain": [
       "<Figure size 864x432 with 1 Axes>"
      ]
     },
     "metadata": {
      "needs_background": "light"
     },
     "output_type": "display_data"
    }
   ],
   "source": [
    "col = 'mb_used'\n",
    "\n",
    "color_dict = {'ultra': 'red', 'smart': 'black'}\n",
    "fig = plt.figure(figsize=(12, 6))\n",
    "\n",
    "for tariff in ['ultra', 'smart']:\n",
    "    print(f\"Среднее для тарифа {tariff} равна {np.round(group_all.query('tariff == @tariff')[col].mean(), 5)}\")\n",
    "    print(f\"Дисперсия для тарифа {tariff} равна {np.round(group_all.query('tariff == @tariff')[col].var(), 5)}\")\n",
    "    print(f\"Ст. отклонение для тарифа {tariff} равна {np.round(group_all.query('tariff == @tariff')[col].mean(), 5)}\")\n",
    "    print()\n",
    "    \n",
    "    plt.hist(group_all.query('tariff == @tariff')[col],alpha=0.5, bins=30, label=tariff, color=color_dict[tariff])\n",
    "        \n",
    "plt.legend()\n",
    "plt.grid()\n",
    "plt.title(f'Гистограммы распределений по тарифам по столбцу {col}')\n",
    "plt.show()"
   ]
  },
  {
   "cell_type": "code",
   "execution_count": 32,
   "metadata": {},
   "outputs": [
    {
     "name": "stdout",
     "output_type": "stream",
     "text": [
      "Среднее для тарифа ultra равна 49.31339\n",
      "Дисперсия для тарифа ultra равна 2285.41742\n",
      "Ст. отклонение для тарифа ultra равна 49.31339\n",
      "\n",
      "Среднее для тарифа smart равна 33.36906\n",
      "Дисперсия для тарифа smart равна 796.95526\n",
      "Ст. отклонение для тарифа smart равна 33.36906\n",
      "\n"
     ]
    },
    {
     "data": {
      "image/png": "[encoded data removed]",
      "text/plain": [
       "<Figure size 864x432 with 1 Axes>"
      ]
     },
     "metadata": {
      "needs_background": "light"
     },
     "output_type": "display_data"
    }
   ],
   "source": [
    "col = 'message_date'\n",
    "\n",
    "color_dict = {'ultra': 'red', 'smart': 'black'}\n",
    "fig = plt.figure(figsize=(12, 6))\n",
    "\n",
    "for tariff in ['ultra', 'smart']:\n",
    "    print(f\"Среднее для тарифа {tariff} равна {np.round(group_all.query('tariff == @tariff')[col].mean(), 5)}\")\n",
    "    print(f\"Дисперсия для тарифа {tariff} равна {np.round(group_all.query('tariff == @tariff')[col].var(), 5)}\")\n",
    "    print(f\"Ст. отклонение для тарифа {tariff} равна {np.round(group_all.query('tariff == @tariff')[col].mean(), 5)}\")\n",
    "    print()\n",
    "    \n",
    "    plt.hist(group_all.query('tariff == @tariff')[col],alpha=0.5, bins=30, label=tariff, color=color_dict[tariff])\n",
    "        \n",
    "plt.legend()\n",
    "plt.grid()\n",
    "plt.title(f'Гистограммы распределений по тарифам по столбцу {col}')\n",
    "plt.show()"
   ]
  },
  {
   "cell_type": "code",
   "execution_count": 33,
   "metadata": {},
   "outputs": [
    {
     "data": {
      "text/html": [
       "<div>\n",
       "<style scoped>\n",
       "    .dataframe tbody tr th:only-of-type {\n",
       "        vertical-align: middle;\n",
       "    }\n",
       "\n",
       "    .dataframe tbody tr th {\n",
       "        vertical-align: top;\n",
       "    }\n",
       "\n",
       "    .dataframe thead th {\n",
       "        text-align: right;\n",
       "    }\n",
       "</style>\n",
       "<table border=\"1\" class=\"dataframe\">\n",
       "  <thead>\n",
       "    <tr style=\"text-align: right;\">\n",
       "      <th></th>\n",
       "      <th>mean_duration</th>\n",
       "      <th>mean_mb_used</th>\n",
       "      <th>mean_message</th>\n",
       "      <th>mean_minute_for_person</th>\n",
       "    </tr>\n",
       "    <tr>\n",
       "      <th>month</th>\n",
       "      <th></th>\n",
       "      <th></th>\n",
       "      <th></th>\n",
       "      <th></th>\n",
       "    </tr>\n",
       "  </thead>\n",
       "  <tbody>\n",
       "    <tr>\n",
       "      <td>1</td>\n",
       "      <td>625.875000</td>\n",
       "      <td>21352.586538</td>\n",
       "      <td>46.846154</td>\n",
       "      <td>66.015213</td>\n",
       "    </tr>\n",
       "    <tr>\n",
       "      <td>2</td>\n",
       "      <td>445.050314</td>\n",
       "      <td>20649.584906</td>\n",
       "      <td>39.515723</td>\n",
       "      <td>71.767748</td>\n",
       "    </tr>\n",
       "    <tr>\n",
       "      <td>3</td>\n",
       "      <td>608.761538</td>\n",
       "      <td>14325.915385</td>\n",
       "      <td>23.923077</td>\n",
       "      <td>80.262677</td>\n",
       "    </tr>\n",
       "    <tr>\n",
       "      <td>4</td>\n",
       "      <td>581.253086</td>\n",
       "      <td>21058.481481</td>\n",
       "      <td>40.833333</td>\n",
       "      <td>95.500000</td>\n",
       "    </tr>\n",
       "    <tr>\n",
       "      <td>5</td>\n",
       "      <td>376.276596</td>\n",
       "      <td>19961.425532</td>\n",
       "      <td>68.148936</td>\n",
       "      <td>35.872211</td>\n",
       "    </tr>\n",
       "    <tr>\n",
       "      <td>6</td>\n",
       "      <td>459.600000</td>\n",
       "      <td>21224.104348</td>\n",
       "      <td>58.104348</td>\n",
       "      <td>53.604462</td>\n",
       "    </tr>\n",
       "    <tr>\n",
       "      <td>7</td>\n",
       "      <td>595.804878</td>\n",
       "      <td>19176.292683</td>\n",
       "      <td>62.170732</td>\n",
       "      <td>24.774848</td>\n",
       "    </tr>\n",
       "    <tr>\n",
       "      <td>8</td>\n",
       "      <td>534.282051</td>\n",
       "      <td>15641.602564</td>\n",
       "      <td>72.858974</td>\n",
       "      <td>42.265720</td>\n",
       "    </tr>\n",
       "    <tr>\n",
       "      <td>9</td>\n",
       "      <td>603.571429</td>\n",
       "      <td>16924.371429</td>\n",
       "      <td>62.971429</td>\n",
       "      <td>21.424949</td>\n",
       "    </tr>\n",
       "    <tr>\n",
       "      <td>10</td>\n",
       "      <td>438.700000</td>\n",
       "      <td>24723.000000</td>\n",
       "      <td>63.700000</td>\n",
       "      <td>13.347870</td>\n",
       "    </tr>\n",
       "    <tr>\n",
       "      <td>11</td>\n",
       "      <td>536.800000</td>\n",
       "      <td>18505.233333</td>\n",
       "      <td>61.133333</td>\n",
       "      <td>16.332657</td>\n",
       "    </tr>\n",
       "    <tr>\n",
       "      <td>12</td>\n",
       "      <td>606.500000</td>\n",
       "      <td>21058.625000</td>\n",
       "      <td>59.250000</td>\n",
       "      <td>4.920892</td>\n",
       "    </tr>\n",
       "  </tbody>\n",
       "</table>\n",
       "</div>"
      ],
      "text/plain": [
       "       mean_duration  mean_mb_used  mean_message  mean_minute_for_person\n",
       "month                                                                   \n",
       "1         625.875000  21352.586538     46.846154               66.015213\n",
       "2         445.050314  20649.584906     39.515723               71.767748\n",
       "3         608.761538  14325.915385     23.923077               80.262677\n",
       "4         581.253086  21058.481481     40.833333               95.500000\n",
       "5         376.276596  19961.425532     68.148936               35.872211\n",
       "6         459.600000  21224.104348     58.104348               53.604462\n",
       "7         595.804878  19176.292683     62.170732               24.774848\n",
       "8         534.282051  15641.602564     72.858974               42.265720\n",
       "9         603.571429  16924.371429     62.971429               21.424949\n",
       "10        438.700000  24723.000000     63.700000               13.347870\n",
       "11        536.800000  18505.233333     61.133333               16.332657\n",
       "12        606.500000  21058.625000     59.250000                4.920892"
      ]
     },
     "execution_count": 33,
     "metadata": {},
     "output_type": "execute_result"
    },
    {
     "data": {
      "image/png": "[encoded data removed]",
      "text/plain": [
       "<Figure size 936x432 with 1 Axes>"
      ]
     },
     "metadata": {
      "needs_background": "light"
     },
     "output_type": "display_data"
    }
   ],
   "source": [
    "mean_ultra.plot(y='mean_duration',grid=True,figsize=(13,6),style='o-',kind='bar',label='Среднее значение минут разговора для всех пользователей тарифа Ultra',alpha=0.5)\n",
    "mean_ultra['mean_minute_for_person']=tariff_ultra['duration']/len(group_all.query('tariff==\"ultra\"'))\n",
    "mean_ultra"
   ]
  },
  {
   "cell_type": "markdown",
   "metadata": {},
   "source": [
    "посчитали среднее время разговора пользователей на тарифе Ультра в месяц"
   ]
  },
  {
   "cell_type": "markdown",
   "metadata": {},
   "source": [
    "#### Считаем дисперсию и отклонение для тарифа ультра по месяцам"
   ]
  },
  {
   "cell_type": "code",
   "execution_count": 34,
   "metadata": {},
   "outputs": [],
   "source": [
    "ultra_person_calls=group_all.query('tariff==\"ultra\"')# записываю в переменную всех пользователей Ультра для подсчета дисперсии \n",
    "disp_sigma_ultra=ultra_person_calls.pivot_table(index='month',values='duration',aggfunc=(np.var))#Считаю дисперсию звонков\n",
    "disp_sigma_ultra_messages=ultra_person_calls.pivot_table(index='month',values='message_date',aggfunc=(np.var))#Считаю дисперсию сообщений\n",
    "disp_sigma_ultra_internet=ultra_person_calls.pivot_table(index='month',values='mb_used',aggfunc=(np.var))#Считаю дисперсию интернет\n"
   ]
  },
  {
   "cell_type": "markdown",
   "metadata": {},
   "source": [
    "#### Считаем стандартное отклонение по всем показателям ультра"
   ]
  },
  {
   "cell_type": "code",
   "execution_count": 35,
   "metadata": {},
   "outputs": [],
   "source": [
    "disp_sigma_ultra['sigma']=disp_sigma_ultra['duration'].apply(np.sqrt)#Считаю стандартное отклонение по звонкам\n",
    "disp_sigma_ultra_messages['sigma']=disp_sigma_ultra_messages['message_date'].apply(np.sqrt)#Считаю стандартное отклонение по cообщениям\n",
    "disp_sigma_ultra_internet['sigma']=disp_sigma_ultra_internet['mb_used'].apply(np.sqrt)#Считаю стандартное отклонение по интернету\n",
    "disp_sigma_ultra.set_axis(['dispersion_call','sigma_call'],axis='columns',inplace=True)\n",
    "disp_sigma_ultra_messages.set_axis(['dispersion_message','sigma_message'],axis='columns',inplace=True)\n",
    "disp_sigma_ultra_internet.set_axis(['dispersion_internet','sigma_internet'],axis='columns',inplace=True)# Переименовываю столбцы\n",
    "disp_sigma_ultra=disp_sigma_ultra.merge(disp_sigma_ultra_messages,on='month')\n",
    "disp_sigma_ultra=disp_sigma_ultra.merge(disp_sigma_ultra_internet,on='month')\n",
    "mean_ultra=mean_ultra.merge(disp_sigma_ultra,on='month')"
   ]
  },
  {
   "cell_type": "markdown",
   "metadata": {},
   "source": [
    "#### Полная  таблица дисперсии и сигма (среднеквадратичное отклонение),средних для Ультра по месяцам"
   ]
  },
  {
   "cell_type": "code",
   "execution_count": 36,
   "metadata": {},
   "outputs": [
    {
     "data": {
      "text/html": [
       "<div>\n",
       "<style scoped>\n",
       "    .dataframe tbody tr th:only-of-type {\n",
       "        vertical-align: middle;\n",
       "    }\n",
       "\n",
       "    .dataframe tbody tr th {\n",
       "        vertical-align: top;\n",
       "    }\n",
       "\n",
       "    .dataframe thead th {\n",
       "        text-align: right;\n",
       "    }\n",
       "</style>\n",
       "<table border=\"1\" class=\"dataframe\">\n",
       "  <thead>\n",
       "    <tr style=\"text-align: right;\">\n",
       "      <th></th>\n",
       "      <th>mean_duration</th>\n",
       "      <th>mean_mb_used</th>\n",
       "      <th>mean_message</th>\n",
       "      <th>mean_minute_for_person</th>\n",
       "      <th>dispersion_call</th>\n",
       "      <th>sigma_call</th>\n",
       "      <th>dispersion_message</th>\n",
       "      <th>sigma_message</th>\n",
       "      <th>dispersion_internet</th>\n",
       "      <th>sigma_internet</th>\n",
       "      <th>mean_money</th>\n",
       "      <th>dispersion_money</th>\n",
       "      <th>sigma_money</th>\n",
       "    </tr>\n",
       "    <tr>\n",
       "      <th>month</th>\n",
       "      <th></th>\n",
       "      <th></th>\n",
       "      <th></th>\n",
       "      <th></th>\n",
       "      <th></th>\n",
       "      <th></th>\n",
       "      <th></th>\n",
       "      <th></th>\n",
       "      <th></th>\n",
       "      <th></th>\n",
       "      <th></th>\n",
       "      <th></th>\n",
       "      <th></th>\n",
       "    </tr>\n",
       "  </thead>\n",
       "  <tbody>\n",
       "    <tr>\n",
       "      <td>1</td>\n",
       "      <td>625.875000</td>\n",
       "      <td>21352.586538</td>\n",
       "      <td>46.846154</td>\n",
       "      <td>66.015213</td>\n",
       "      <td>82625.197816</td>\n",
       "      <td>287.445991</td>\n",
       "      <td>1463.801344</td>\n",
       "      <td>38.259657</td>\n",
       "      <td>7.820321e+07</td>\n",
       "      <td>8843.257961</td>\n",
       "      <td>2012.019231</td>\n",
       "      <td>40897.824869</td>\n",
       "      <td>202.232106</td>\n",
       "    </tr>\n",
       "    <tr>\n",
       "      <td>2</td>\n",
       "      <td>445.050314</td>\n",
       "      <td>20649.584906</td>\n",
       "      <td>39.515723</td>\n",
       "      <td>71.767748</td>\n",
       "      <td>93497.377199</td>\n",
       "      <td>305.773408</td>\n",
       "      <td>2379.555131</td>\n",
       "      <td>48.780684</td>\n",
       "      <td>1.242683e+08</td>\n",
       "      <td>11147.567374</td>\n",
       "      <td>2127.358491</td>\n",
       "      <td>218977.788393</td>\n",
       "      <td>467.950626</td>\n",
       "    </tr>\n",
       "    <tr>\n",
       "      <td>3</td>\n",
       "      <td>608.761538</td>\n",
       "      <td>14325.915385</td>\n",
       "      <td>23.923077</td>\n",
       "      <td>80.262677</td>\n",
       "      <td>30049.144246</td>\n",
       "      <td>173.346890</td>\n",
       "      <td>558.924270</td>\n",
       "      <td>23.641579</td>\n",
       "      <td>3.909516e+07</td>\n",
       "      <td>6252.612634</td>\n",
       "      <td>1951.153846</td>\n",
       "      <td>173.076923</td>\n",
       "      <td>13.155870</td>\n",
       "    </tr>\n",
       "    <tr>\n",
       "      <td>4</td>\n",
       "      <td>581.253086</td>\n",
       "      <td>21058.481481</td>\n",
       "      <td>40.833333</td>\n",
       "      <td>95.500000</td>\n",
       "      <td>76248.202630</td>\n",
       "      <td>276.130771</td>\n",
       "      <td>1904.139752</td>\n",
       "      <td>43.636450</td>\n",
       "      <td>8.720095e+07</td>\n",
       "      <td>9338.144633</td>\n",
       "      <td>2075.925926</td>\n",
       "      <td>131342.305038</td>\n",
       "      <td>362.411789</td>\n",
       "    </tr>\n",
       "    <tr>\n",
       "      <td>5</td>\n",
       "      <td>376.276596</td>\n",
       "      <td>19961.425532</td>\n",
       "      <td>68.148936</td>\n",
       "      <td>35.872211</td>\n",
       "      <td>134138.868909</td>\n",
       "      <td>366.249736</td>\n",
       "      <td>3669.698010</td>\n",
       "      <td>60.578032</td>\n",
       "      <td>1.178435e+08</td>\n",
       "      <td>10855.576798</td>\n",
       "      <td>2053.723404</td>\n",
       "      <td>103077.385038</td>\n",
       "      <td>321.056670</td>\n",
       "    </tr>\n",
       "    <tr>\n",
       "      <td>6</td>\n",
       "      <td>459.600000</td>\n",
       "      <td>21224.104348</td>\n",
       "      <td>58.104348</td>\n",
       "      <td>53.604462</td>\n",
       "      <td>120420.592982</td>\n",
       "      <td>347.016704</td>\n",
       "      <td>1724.322349</td>\n",
       "      <td>41.524961</td>\n",
       "      <td>9.013124e+07</td>\n",
       "      <td>9493.747639</td>\n",
       "      <td>2055.652174</td>\n",
       "      <td>95516.018307</td>\n",
       "      <td>309.056659</td>\n",
       "    </tr>\n",
       "    <tr>\n",
       "      <td>7</td>\n",
       "      <td>595.804878</td>\n",
       "      <td>19176.292683</td>\n",
       "      <td>62.170732</td>\n",
       "      <td>24.774848</td>\n",
       "      <td>65524.160976</td>\n",
       "      <td>255.976876</td>\n",
       "      <td>2825.245122</td>\n",
       "      <td>53.153035</td>\n",
       "      <td>1.387799e+08</td>\n",
       "      <td>11780.489869</td>\n",
       "      <td>2107.317073</td>\n",
       "      <td>142820.121951</td>\n",
       "      <td>377.915496</td>\n",
       "    </tr>\n",
       "    <tr>\n",
       "      <td>8</td>\n",
       "      <td>534.282051</td>\n",
       "      <td>15641.602564</td>\n",
       "      <td>72.858974</td>\n",
       "      <td>42.265720</td>\n",
       "      <td>139985.607726</td>\n",
       "      <td>374.146506</td>\n",
       "      <td>1629.551282</td>\n",
       "      <td>40.367701</td>\n",
       "      <td>8.390603e+07</td>\n",
       "      <td>9160.023672</td>\n",
       "      <td>1986.538462</td>\n",
       "      <td>42186.563437</td>\n",
       "      <td>205.393679</td>\n",
       "    </tr>\n",
       "    <tr>\n",
       "      <td>9</td>\n",
       "      <td>603.571429</td>\n",
       "      <td>16924.371429</td>\n",
       "      <td>62.971429</td>\n",
       "      <td>21.424949</td>\n",
       "      <td>131288.840336</td>\n",
       "      <td>362.338019</td>\n",
       "      <td>3375.616807</td>\n",
       "      <td>58.100059</td>\n",
       "      <td>1.284545e+08</td>\n",
       "      <td>11333.776791</td>\n",
       "      <td>2095.714286</td>\n",
       "      <td>294466.386555</td>\n",
       "      <td>542.647571</td>\n",
       "    </tr>\n",
       "    <tr>\n",
       "      <td>10</td>\n",
       "      <td>438.700000</td>\n",
       "      <td>24723.000000</td>\n",
       "      <td>63.700000</td>\n",
       "      <td>13.347870</td>\n",
       "      <td>112513.044828</td>\n",
       "      <td>335.429642</td>\n",
       "      <td>4726.355172</td>\n",
       "      <td>68.748492</td>\n",
       "      <td>1.028940e+08</td>\n",
       "      <td>10143.668027</td>\n",
       "      <td>2175.000000</td>\n",
       "      <td>249439.655172</td>\n",
       "      <td>499.439341</td>\n",
       "    </tr>\n",
       "    <tr>\n",
       "      <td>11</td>\n",
       "      <td>536.800000</td>\n",
       "      <td>18505.233333</td>\n",
       "      <td>61.133333</td>\n",
       "      <td>16.332657</td>\n",
       "      <td>176522.717241</td>\n",
       "      <td>420.146067</td>\n",
       "      <td>2591.291954</td>\n",
       "      <td>50.904734</td>\n",
       "      <td>1.750973e+08</td>\n",
       "      <td>13232.433057</td>\n",
       "      <td>2245.000000</td>\n",
       "      <td>402646.551724</td>\n",
       "      <td>634.544365</td>\n",
       "    </tr>\n",
       "    <tr>\n",
       "      <td>12</td>\n",
       "      <td>606.500000</td>\n",
       "      <td>21058.625000</td>\n",
       "      <td>59.250000</td>\n",
       "      <td>4.920892</td>\n",
       "      <td>124941.714286</td>\n",
       "      <td>353.470953</td>\n",
       "      <td>3010.785714</td>\n",
       "      <td>54.870627</td>\n",
       "      <td>1.154730e+08</td>\n",
       "      <td>10745.838330</td>\n",
       "      <td>1950.000000</td>\n",
       "      <td>0.000000</td>\n",
       "      <td>0.000000</td>\n",
       "    </tr>\n",
       "  </tbody>\n",
       "</table>\n",
       "</div>"
      ],
      "text/plain": [
       "       mean_duration  mean_mb_used  mean_message  mean_minute_for_person  \\\n",
       "month                                                                      \n",
       "1         625.875000  21352.586538     46.846154               66.015213   \n",
       "2         445.050314  20649.584906     39.515723               71.767748   \n",
       "3         608.761538  14325.915385     23.923077               80.262677   \n",
       "4         581.253086  21058.481481     40.833333               95.500000   \n",
       "5         376.276596  19961.425532     68.148936               35.872211   \n",
       "6         459.600000  21224.104348     58.104348               53.604462   \n",
       "7         595.804878  19176.292683     62.170732               24.774848   \n",
       "8         534.282051  15641.602564     72.858974               42.265720   \n",
       "9         603.571429  16924.371429     62.971429               21.424949   \n",
       "10        438.700000  24723.000000     63.700000               13.347870   \n",
       "11        536.800000  18505.233333     61.133333               16.332657   \n",
       "12        606.500000  21058.625000     59.250000                4.920892   \n",
       "\n",
       "       dispersion_call  sigma_call  dispersion_message  sigma_message  \\\n",
       "month                                                                   \n",
       "1         82625.197816  287.445991         1463.801344      38.259657   \n",
       "2         93497.377199  305.773408         2379.555131      48.780684   \n",
       "3         30049.144246  173.346890          558.924270      23.641579   \n",
       "4         76248.202630  276.130771         1904.139752      43.636450   \n",
       "5        134138.868909  366.249736         3669.698010      60.578032   \n",
       "6        120420.592982  347.016704         1724.322349      41.524961   \n",
       "7         65524.160976  255.976876         2825.245122      53.153035   \n",
       "8        139985.607726  374.146506         1629.551282      40.367701   \n",
       "9        131288.840336  362.338019         3375.616807      58.100059   \n",
       "10       112513.044828  335.429642         4726.355172      68.748492   \n",
       "11       176522.717241  420.146067         2591.291954      50.904734   \n",
       "12       124941.714286  353.470953         3010.785714      54.870627   \n",
       "\n",
       "       dispersion_internet  sigma_internet   mean_money  dispersion_money  \\\n",
       "month                                                                       \n",
       "1             7.820321e+07     8843.257961  2012.019231      40897.824869   \n",
       "2             1.242683e+08    11147.567374  2127.358491     218977.788393   \n",
       "3             3.909516e+07     6252.612634  1951.153846        173.076923   \n",
       "4             8.720095e+07     9338.144633  2075.925926     131342.305038   \n",
       "5             1.178435e+08    10855.576798  2053.723404     103077.385038   \n",
       "6             9.013124e+07     9493.747639  2055.652174      95516.018307   \n",
       "7             1.387799e+08    11780.489869  2107.317073     142820.121951   \n",
       "8             8.390603e+07     9160.023672  1986.538462      42186.563437   \n",
       "9             1.284545e+08    11333.776791  2095.714286     294466.386555   \n",
       "10            1.028940e+08    10143.668027  2175.000000     249439.655172   \n",
       "11            1.750973e+08    13232.433057  2245.000000     402646.551724   \n",
       "12            1.154730e+08    10745.838330  1950.000000          0.000000   \n",
       "\n",
       "       sigma_money  \n",
       "month               \n",
       "1       202.232106  \n",
       "2       467.950626  \n",
       "3        13.155870  \n",
       "4       362.411789  \n",
       "5       321.056670  \n",
       "6       309.056659  \n",
       "7       377.915496  \n",
       "8       205.393679  \n",
       "9       542.647571  \n",
       "10      499.439341  \n",
       "11      634.544365  \n",
       "12        0.000000  "
      ]
     },
     "execution_count": 36,
     "metadata": {},
     "output_type": "execute_result"
    }
   ],
   "source": [
    "mean_ultra['mean_money']=group_all.query('tariff==\"ultra\"').pivot_table(index='month',values='money',aggfunc=('mean')) # Считаю среднее по прибыли\n",
    "mean_ultra['dispersion_money']=group_all.query('tariff==\"ultra\"').pivot_table(index='month',values='money',aggfunc=(np.var)) # Считаю дисперсию по прибыли\n",
    "mean_ultra['sigma_money']=np.sqrt(mean_ultra['dispersion_money']) # Считаю сигму по прибыли\n",
    "mean_ultra.head(12)"
   ]
  },
  {
   "cell_type": "markdown",
   "metadata": {},
   "source": [
    "### Проделаем все тоже самое для тарифа смарт"
   ]
  },
  {
   "cell_type": "code",
   "execution_count": 37,
   "metadata": {},
   "outputs": [],
   "source": [
    "#Ниже срез по месяцам для Смарт и расчета средних значений по звонка, сообщениям, интернету\n",
    "mean_smart=(group_all\n",
    "     .query('tariff==\"smart\"')\n",
    "     .pivot_table(index='month',values=('duration','message_date','mb_used'))    \n",
    ")"
   ]
  },
  {
   "cell_type": "markdown",
   "metadata": {},
   "source": [
    "#### Среднее значение mean_duration mean_mb_used mean_message для тарифа смарт."
   ]
  },
  {
   "cell_type": "code",
   "execution_count": 38,
   "metadata": {},
   "outputs": [
    {
     "data": {
      "text/html": [
       "<div>\n",
       "<style scoped>\n",
       "    .dataframe tbody tr th:only-of-type {\n",
       "        vertical-align: middle;\n",
       "    }\n",
       "\n",
       "    .dataframe tbody tr th {\n",
       "        vertical-align: top;\n",
       "    }\n",
       "\n",
       "    .dataframe thead th {\n",
       "        text-align: right;\n",
       "    }\n",
       "</style>\n",
       "<table border=\"1\" class=\"dataframe\">\n",
       "  <thead>\n",
       "    <tr style=\"text-align: right;\">\n",
       "      <th></th>\n",
       "      <th>mean_duration</th>\n",
       "      <th>mean_mb_used</th>\n",
       "      <th>mean_message</th>\n",
       "    </tr>\n",
       "    <tr>\n",
       "      <th>month</th>\n",
       "      <th></th>\n",
       "      <th></th>\n",
       "      <th></th>\n",
       "    </tr>\n",
       "  </thead>\n",
       "  <tbody>\n",
       "    <tr>\n",
       "      <td>1</td>\n",
       "      <td>393.527228</td>\n",
       "      <td>15813.799505</td>\n",
       "      <td>34.101485</td>\n",
       "    </tr>\n",
       "    <tr>\n",
       "      <td>2</td>\n",
       "      <td>399.555985</td>\n",
       "      <td>15003.247104</td>\n",
       "      <td>35.065637</td>\n",
       "    </tr>\n",
       "    <tr>\n",
       "      <td>3</td>\n",
       "      <td>462.773684</td>\n",
       "      <td>17168.389474</td>\n",
       "      <td>36.921053</td>\n",
       "    </tr>\n",
       "    <tr>\n",
       "      <td>4</td>\n",
       "      <td>443.407051</td>\n",
       "      <td>16119.445513</td>\n",
       "      <td>36.474359</td>\n",
       "    </tr>\n",
       "    <tr>\n",
       "      <td>5</td>\n",
       "      <td>416.078261</td>\n",
       "      <td>17655.791304</td>\n",
       "      <td>34.047826</td>\n",
       "    </tr>\n",
       "    <tr>\n",
       "      <td>6</td>\n",
       "      <td>387.012579</td>\n",
       "      <td>16956.459119</td>\n",
       "      <td>27.176101</td>\n",
       "    </tr>\n",
       "    <tr>\n",
       "      <td>7</td>\n",
       "      <td>441.110092</td>\n",
       "      <td>15775.307339</td>\n",
       "      <td>32.981651</td>\n",
       "    </tr>\n",
       "    <tr>\n",
       "      <td>8</td>\n",
       "      <td>396.881657</td>\n",
       "      <td>16482.017751</td>\n",
       "      <td>28.295858</td>\n",
       "    </tr>\n",
       "    <tr>\n",
       "      <td>9</td>\n",
       "      <td>411.184466</td>\n",
       "      <td>16193.359223</td>\n",
       "      <td>34.621359</td>\n",
       "    </tr>\n",
       "    <tr>\n",
       "      <td>10</td>\n",
       "      <td>443.009615</td>\n",
       "      <td>15177.451923</td>\n",
       "      <td>28.471154</td>\n",
       "    </tr>\n",
       "    <tr>\n",
       "      <td>11</td>\n",
       "      <td>406.092593</td>\n",
       "      <td>15309.129630</td>\n",
       "      <td>31.129630</td>\n",
       "    </tr>\n",
       "    <tr>\n",
       "      <td>12</td>\n",
       "      <td>429.107143</td>\n",
       "      <td>16492.321429</td>\n",
       "      <td>29.535714</td>\n",
       "    </tr>\n",
       "  </tbody>\n",
       "</table>\n",
       "</div>"
      ],
      "text/plain": [
       "       mean_duration  mean_mb_used  mean_message\n",
       "month                                           \n",
       "1         393.527228  15813.799505     34.101485\n",
       "2         399.555985  15003.247104     35.065637\n",
       "3         462.773684  17168.389474     36.921053\n",
       "4         443.407051  16119.445513     36.474359\n",
       "5         416.078261  17655.791304     34.047826\n",
       "6         387.012579  16956.459119     27.176101\n",
       "7         441.110092  15775.307339     32.981651\n",
       "8         396.881657  16482.017751     28.295858\n",
       "9         411.184466  16193.359223     34.621359\n",
       "10        443.009615  15177.451923     28.471154\n",
       "11        406.092593  15309.129630     31.129630\n",
       "12        429.107143  16492.321429     29.535714"
      ]
     },
     "execution_count": 38,
     "metadata": {},
     "output_type": "execute_result"
    },
    {
     "data": {
      "image/png": "[encoded data removed]",
      "text/plain": [
       "<Figure size 936x432 with 1 Axes>"
      ]
     },
     "metadata": {
      "needs_background": "light"
     },
     "output_type": "display_data"
    }
   ],
   "source": [
    "mean_smart.set_axis(['mean_duration','mean_mb_used','mean_message'],axis='columns',inplace=True)\n",
    "mean_smart.plot(y='mean_duration',grid=True,figsize=(13,6),style='o-',kind='bar',label='Среднее значение минут разговора для всех пользователей тарифа Smart',alpha=0.5)\n",
    "\n",
    "mean_smart"
   ]
  },
  {
   "cell_type": "code",
   "execution_count": 39,
   "metadata": {},
   "outputs": [
    {
     "data": {
      "text/html": [
       "<div>\n",
       "<style scoped>\n",
       "    .dataframe tbody tr th:only-of-type {\n",
       "        vertical-align: middle;\n",
       "    }\n",
       "\n",
       "    .dataframe tbody tr th {\n",
       "        vertical-align: top;\n",
       "    }\n",
       "\n",
       "    .dataframe thead th {\n",
       "        text-align: right;\n",
       "    }\n",
       "</style>\n",
       "<table border=\"1\" class=\"dataframe\">\n",
       "  <thead>\n",
       "    <tr style=\"text-align: right;\">\n",
       "      <th></th>\n",
       "      <th>user_id</th>\n",
       "      <th>message_date</th>\n",
       "      <th>duration</th>\n",
       "      <th>mb_used</th>\n",
       "      <th>city</th>\n",
       "      <th>tariff</th>\n",
       "      <th>month</th>\n",
       "      <th>money</th>\n",
       "    </tr>\n",
       "  </thead>\n",
       "  <tbody>\n",
       "    <tr>\n",
       "      <td>3197</td>\n",
       "      <td>1001</td>\n",
       "      <td>0.0</td>\n",
       "      <td>430.0</td>\n",
       "      <td>18405.0</td>\n",
       "      <td>Москва</td>\n",
       "      <td>smart</td>\n",
       "      <td>11</td>\n",
       "      <td>1150.0</td>\n",
       "    </tr>\n",
       "    <tr>\n",
       "      <td>3198</td>\n",
       "      <td>1001</td>\n",
       "      <td>0.0</td>\n",
       "      <td>414.0</td>\n",
       "      <td>14018.0</td>\n",
       "      <td>Москва</td>\n",
       "      <td>smart</td>\n",
       "      <td>11</td>\n",
       "      <td>550.0</td>\n",
       "    </tr>\n",
       "    <tr>\n",
       "      <td>1724</td>\n",
       "      <td>1002</td>\n",
       "      <td>12.0</td>\n",
       "      <td>236.0</td>\n",
       "      <td>18087.0</td>\n",
       "      <td>Стерлитамак</td>\n",
       "      <td>smart</td>\n",
       "      <td>6</td>\n",
       "      <td>1150.0</td>\n",
       "    </tr>\n",
       "    <tr>\n",
       "      <td>1722</td>\n",
       "      <td>1002</td>\n",
       "      <td>10.0</td>\n",
       "      <td>212.0</td>\n",
       "      <td>13869.0</td>\n",
       "      <td>Стерлитамак</td>\n",
       "      <td>smart</td>\n",
       "      <td>6</td>\n",
       "      <td>550.0</td>\n",
       "    </tr>\n",
       "    <tr>\n",
       "      <td>1721</td>\n",
       "      <td>1002</td>\n",
       "      <td>4.0</td>\n",
       "      <td>206.0</td>\n",
       "      <td>16669.0</td>\n",
       "      <td>Стерлитамак</td>\n",
       "      <td>smart</td>\n",
       "      <td>6</td>\n",
       "      <td>750.0</td>\n",
       "    </tr>\n",
       "  </tbody>\n",
       "</table>\n",
       "</div>"
      ],
      "text/plain": [
       "      user_id  message_date  duration  mb_used         city tariff  month  \\\n",
       "3197     1001           0.0     430.0  18405.0       Москва  smart     11   \n",
       "3198     1001           0.0     414.0  14018.0       Москва  smart     11   \n",
       "1724     1002          12.0     236.0  18087.0  Стерлитамак  smart      6   \n",
       "1722     1002          10.0     212.0  13869.0  Стерлитамак  smart      6   \n",
       "1721     1002           4.0     206.0  16669.0  Стерлитамак  smart      6   \n",
       "\n",
       "       money  \n",
       "3197  1150.0  \n",
       "3198   550.0  \n",
       "1724  1150.0  \n",
       "1722   550.0  \n",
       "1721   750.0  "
      ]
     },
     "execution_count": 39,
     "metadata": {},
     "output_type": "execute_result"
    }
   ],
   "source": [
    "#находим среджнее значение для каждого месяца \n",
    "mean_smart['mean_minute_for_person']=tariff_smart['duration']/len(group_all.query('tariff==\"smart\"'))\n",
    "smart_person_calls=group_all.query('tariff==\"smart\"')# записываю в переменную всех пользователей Smart для подсчета дисперсии \n",
    "smart_person_calls.head()"
   ]
  },
  {
   "cell_type": "markdown",
   "metadata": {},
   "source": [
    "#### Считаю дисперсию и отклонение для тарифа смарт по месяцам"
   ]
  },
  {
   "cell_type": "code",
   "execution_count": 40,
   "metadata": {},
   "outputs": [
    {
     "data": {
      "text/html": [
       "<div>\n",
       "<style scoped>\n",
       "    .dataframe tbody tr th:only-of-type {\n",
       "        vertical-align: middle;\n",
       "    }\n",
       "\n",
       "    .dataframe tbody tr th {\n",
       "        vertical-align: top;\n",
       "    }\n",
       "\n",
       "    .dataframe thead th {\n",
       "        text-align: right;\n",
       "    }\n",
       "</style>\n",
       "<table border=\"1\" class=\"dataframe\">\n",
       "  <thead>\n",
       "    <tr style=\"text-align: right;\">\n",
       "      <th></th>\n",
       "      <th>user_id</th>\n",
       "      <th>message_date</th>\n",
       "      <th>duration</th>\n",
       "      <th>mb_used</th>\n",
       "      <th>city</th>\n",
       "      <th>tariff</th>\n",
       "      <th>month</th>\n",
       "      <th>money</th>\n",
       "    </tr>\n",
       "  </thead>\n",
       "  <tbody>\n",
       "    <tr>\n",
       "      <td>3197</td>\n",
       "      <td>1001</td>\n",
       "      <td>0.0</td>\n",
       "      <td>430.0</td>\n",
       "      <td>18405.0</td>\n",
       "      <td>Москва</td>\n",
       "      <td>smart</td>\n",
       "      <td>11</td>\n",
       "      <td>1150.0</td>\n",
       "    </tr>\n",
       "    <tr>\n",
       "      <td>3198</td>\n",
       "      <td>1001</td>\n",
       "      <td>0.0</td>\n",
       "      <td>414.0</td>\n",
       "      <td>14018.0</td>\n",
       "      <td>Москва</td>\n",
       "      <td>smart</td>\n",
       "      <td>11</td>\n",
       "      <td>550.0</td>\n",
       "    </tr>\n",
       "    <tr>\n",
       "      <td>1724</td>\n",
       "      <td>1002</td>\n",
       "      <td>12.0</td>\n",
       "      <td>236.0</td>\n",
       "      <td>18087.0</td>\n",
       "      <td>Стерлитамак</td>\n",
       "      <td>smart</td>\n",
       "      <td>6</td>\n",
       "      <td>1150.0</td>\n",
       "    </tr>\n",
       "    <tr>\n",
       "      <td>1722</td>\n",
       "      <td>1002</td>\n",
       "      <td>10.0</td>\n",
       "      <td>212.0</td>\n",
       "      <td>13869.0</td>\n",
       "      <td>Стерлитамак</td>\n",
       "      <td>smart</td>\n",
       "      <td>6</td>\n",
       "      <td>550.0</td>\n",
       "    </tr>\n",
       "    <tr>\n",
       "      <td>1721</td>\n",
       "      <td>1002</td>\n",
       "      <td>4.0</td>\n",
       "      <td>206.0</td>\n",
       "      <td>16669.0</td>\n",
       "      <td>Стерлитамак</td>\n",
       "      <td>smart</td>\n",
       "      <td>6</td>\n",
       "      <td>750.0</td>\n",
       "    </tr>\n",
       "  </tbody>\n",
       "</table>\n",
       "</div>"
      ],
      "text/plain": [
       "      user_id  message_date  duration  mb_used         city tariff  month  \\\n",
       "3197     1001           0.0     430.0  18405.0       Москва  smart     11   \n",
       "3198     1001           0.0     414.0  14018.0       Москва  smart     11   \n",
       "1724     1002          12.0     236.0  18087.0  Стерлитамак  smart      6   \n",
       "1722     1002          10.0     212.0  13869.0  Стерлитамак  smart      6   \n",
       "1721     1002           4.0     206.0  16669.0  Стерлитамак  smart      6   \n",
       "\n",
       "       money  \n",
       "3197  1150.0  \n",
       "3198   550.0  \n",
       "1724  1150.0  \n",
       "1722   550.0  \n",
       "1721   750.0  "
      ]
     },
     "execution_count": 40,
     "metadata": {},
     "output_type": "execute_result"
    }
   ],
   "source": [
    "smart_person_calls=group_all.query('tariff==\"smart\"')# записываю в переменную всех пользователей smart для подсчета дисперсии \n",
    "smart_person_calls.head()"
   ]
  },
  {
   "cell_type": "markdown",
   "metadata": {},
   "source": [
    "#### Считаю дисперсию по всем показателям смарт"
   ]
  },
  {
   "cell_type": "code",
   "execution_count": 41,
   "metadata": {},
   "outputs": [],
   "source": [
    "disp_sigma_smart=smart_person_calls.pivot_table(index='month',values='duration',aggfunc=(np.var))#Считаю дисперсию звонков\n",
    "disp_sigma_smart_messages=smart_person_calls.pivot_table(index='month',values='message_date',aggfunc=(np.var))#Считаю дисперсию сообщений\n",
    "disp_sigma_smart_internet=smart_person_calls.pivot_table(index='month',values='mb_used',aggfunc=(np.var))#Считаю дисперсию интернет"
   ]
  },
  {
   "cell_type": "markdown",
   "metadata": {},
   "source": [
    "#### Считаю стандартное отклонение по всем показателям Смарт"
   ]
  },
  {
   "cell_type": "code",
   "execution_count": 42,
   "metadata": {},
   "outputs": [],
   "source": [
    "disp_sigma_smart['sigma']=disp_sigma_smart['duration'].apply(np.sqrt)#Считаю стандартное отклонение по звонкам\n",
    "disp_sigma_smart_messages['sigma']=disp_sigma_smart_messages['message_date'].apply(np.sqrt)#Считаю стандартное отклонение по cообщениям\n",
    "disp_sigma_smart_internet['sigma']=disp_sigma_smart_internet['mb_used'].apply(np.sqrt)#Считаю стандартное отклонение по интернетуsmart\n",
    "disp_sigma_smart.set_axis(['dispersion_call','sigma_call'],axis='columns',inplace=True)\n",
    "disp_sigma_smart_messages.set_axis(['dispersion_message','sigma_message'],axis='columns',inplace=True)\n",
    "disp_sigma_smart_internet.set_axis(['dispersion_internet','sigma_internet'],axis='columns',inplace=True)# Переименовываю столбцы\n",
    "disp_sigma_smart=disp_sigma_smart.merge(disp_sigma_smart_messages,on='month')\n",
    "disp_sigma_smart=disp_sigma_smart.merge(disp_sigma_smart_internet,on='month')\n",
    "mean_smart['mean_money']=group_all.query('tariff==\"smart\"').pivot_table(index='month',values='money',aggfunc=('mean')) # Считаю среднее по прибыли\n",
    "mean_smart['dispersion_money']=group_all.query('tariff==\"smart\"').pivot_table(index='month',values='money',aggfunc=(np.var)) # Считаю среднее по прибыли\n",
    "mean_smart['sigma_money']=np.sqrt(mean_smart['dispersion_money'])\n",
    "mean_smart=mean_smart.merge(disp_sigma_smart,on='month')"
   ]
  },
  {
   "cell_type": "markdown",
   "metadata": {},
   "source": [
    "#### Полная таблица дисперсии и сигма (среднеквадратичное отклонение),средних для смарт по месяцам"
   ]
  },
  {
   "cell_type": "code",
   "execution_count": 43,
   "metadata": {},
   "outputs": [
    {
     "data": {
      "text/html": [
       "<div>\n",
       "<style scoped>\n",
       "    .dataframe tbody tr th:only-of-type {\n",
       "        vertical-align: middle;\n",
       "    }\n",
       "\n",
       "    .dataframe tbody tr th {\n",
       "        vertical-align: top;\n",
       "    }\n",
       "\n",
       "    .dataframe thead th {\n",
       "        text-align: right;\n",
       "    }\n",
       "</style>\n",
       "<table border=\"1\" class=\"dataframe\">\n",
       "  <thead>\n",
       "    <tr style=\"text-align: right;\">\n",
       "      <th></th>\n",
       "      <th>mean_duration</th>\n",
       "      <th>mean_mb_used</th>\n",
       "      <th>mean_message</th>\n",
       "      <th>mean_minute_for_person</th>\n",
       "      <th>mean_money</th>\n",
       "      <th>dispersion_money</th>\n",
       "      <th>sigma_money</th>\n",
       "      <th>dispersion_call</th>\n",
       "      <th>sigma_call</th>\n",
       "      <th>dispersion_message</th>\n",
       "      <th>sigma_message</th>\n",
       "      <th>dispersion_internet</th>\n",
       "      <th>sigma_internet</th>\n",
       "    </tr>\n",
       "    <tr>\n",
       "      <th>month</th>\n",
       "      <th></th>\n",
       "      <th></th>\n",
       "      <th></th>\n",
       "      <th></th>\n",
       "      <th></th>\n",
       "      <th></th>\n",
       "      <th></th>\n",
       "      <th></th>\n",
       "      <th></th>\n",
       "      <th></th>\n",
       "      <th></th>\n",
       "      <th></th>\n",
       "      <th></th>\n",
       "    </tr>\n",
       "  </thead>\n",
       "  <tbody>\n",
       "    <tr>\n",
       "      <td>1</td>\n",
       "      <td>393.527228</td>\n",
       "      <td>15813.799505</td>\n",
       "      <td>34.101485</td>\n",
       "      <td>71.293722</td>\n",
       "      <td>1105.952970</td>\n",
       "      <td>3.952180e+05</td>\n",
       "      <td>628.663643</td>\n",
       "      <td>35379.401242</td>\n",
       "      <td>188.094129</td>\n",
       "      <td>532.736573</td>\n",
       "      <td>23.081087</td>\n",
       "      <td>2.758262e+07</td>\n",
       "      <td>5251.915669</td>\n",
       "    </tr>\n",
       "    <tr>\n",
       "      <td>2</td>\n",
       "      <td>399.555985</td>\n",
       "      <td>15003.247104</td>\n",
       "      <td>35.065637</td>\n",
       "      <td>46.405830</td>\n",
       "      <td>1075.007722</td>\n",
       "      <td>4.323933e+05</td>\n",
       "      <td>657.566208</td>\n",
       "      <td>31821.480381</td>\n",
       "      <td>178.385763</td>\n",
       "      <td>1029.689474</td>\n",
       "      <td>32.088775</td>\n",
       "      <td>3.327970e+07</td>\n",
       "      <td>5768.855635</td>\n",
       "    </tr>\n",
       "    <tr>\n",
       "      <td>3</td>\n",
       "      <td>462.773684</td>\n",
       "      <td>17168.389474</td>\n",
       "      <td>36.921053</td>\n",
       "      <td>39.429148</td>\n",
       "      <td>1316.584211</td>\n",
       "      <td>4.436624e+05</td>\n",
       "      <td>666.079838</td>\n",
       "      <td>27443.350627</td>\n",
       "      <td>165.660347</td>\n",
       "      <td>649.184211</td>\n",
       "      <td>25.479094</td>\n",
       "      <td>2.622779e+07</td>\n",
       "      <td>5121.307463</td>\n",
       "    </tr>\n",
       "    <tr>\n",
       "      <td>4</td>\n",
       "      <td>443.407051</td>\n",
       "      <td>16119.445513</td>\n",
       "      <td>36.474359</td>\n",
       "      <td>62.037220</td>\n",
       "      <td>1129.176282</td>\n",
       "      <td>4.028129e+05</td>\n",
       "      <td>634.675448</td>\n",
       "      <td>28001.554034</td>\n",
       "      <td>167.336649</td>\n",
       "      <td>696.700305</td>\n",
       "      <td>26.395081</td>\n",
       "      <td>2.303587e+07</td>\n",
       "      <td>4799.570118</td>\n",
       "    </tr>\n",
       "    <tr>\n",
       "      <td>5</td>\n",
       "      <td>416.078261</td>\n",
       "      <td>17655.791304</td>\n",
       "      <td>34.047826</td>\n",
       "      <td>42.913901</td>\n",
       "      <td>1423.508696</td>\n",
       "      <td>6.670106e+05</td>\n",
       "      <td>816.707180</td>\n",
       "      <td>32731.094285</td>\n",
       "      <td>180.917369</td>\n",
       "      <td>1132.630890</td>\n",
       "      <td>33.654582</td>\n",
       "      <td>3.632530e+07</td>\n",
       "      <td>6027.047171</td>\n",
       "    </tr>\n",
       "    <tr>\n",
       "      <td>6</td>\n",
       "      <td>387.012579</td>\n",
       "      <td>16956.459119</td>\n",
       "      <td>27.176101</td>\n",
       "      <td>27.594170</td>\n",
       "      <td>1317.220126</td>\n",
       "      <td>7.632115e+05</td>\n",
       "      <td>873.619748</td>\n",
       "      <td>36180.594777</td>\n",
       "      <td>190.211973</td>\n",
       "      <td>580.310564</td>\n",
       "      <td>24.089636</td>\n",
       "      <td>3.952488e+07</td>\n",
       "      <td>6286.881620</td>\n",
       "    </tr>\n",
       "    <tr>\n",
       "      <td>7</td>\n",
       "      <td>441.110092</td>\n",
       "      <td>15775.307339</td>\n",
       "      <td>32.981651</td>\n",
       "      <td>43.121973</td>\n",
       "      <td>1195.729358</td>\n",
       "      <td>5.094057e+05</td>\n",
       "      <td>713.726622</td>\n",
       "      <td>34008.236672</td>\n",
       "      <td>184.413223</td>\n",
       "      <td>850.746206</td>\n",
       "      <td>29.167554</td>\n",
       "      <td>3.267226e+07</td>\n",
       "      <td>5715.965288</td>\n",
       "    </tr>\n",
       "    <tr>\n",
       "      <td>8</td>\n",
       "      <td>396.881657</td>\n",
       "      <td>16482.017751</td>\n",
       "      <td>28.295858</td>\n",
       "      <td>30.077578</td>\n",
       "      <td>1276.218935</td>\n",
       "      <td>6.395034e+05</td>\n",
       "      <td>799.689534</td>\n",
       "      <td>46668.474007</td>\n",
       "      <td>216.028873</td>\n",
       "      <td>799.721471</td>\n",
       "      <td>28.279347</td>\n",
       "      <td>3.374659e+07</td>\n",
       "      <td>5809.181822</td>\n",
       "    </tr>\n",
       "    <tr>\n",
       "      <td>9</td>\n",
       "      <td>411.184466</td>\n",
       "      <td>16193.359223</td>\n",
       "      <td>34.621359</td>\n",
       "      <td>18.991928</td>\n",
       "      <td>1313.427184</td>\n",
       "      <td>7.206793e+05</td>\n",
       "      <td>848.928305</td>\n",
       "      <td>40291.347992</td>\n",
       "      <td>200.727048</td>\n",
       "      <td>1066.335618</td>\n",
       "      <td>32.654795</td>\n",
       "      <td>4.527958e+07</td>\n",
       "      <td>6729.010174</td>\n",
       "    </tr>\n",
       "    <tr>\n",
       "      <td>10</td>\n",
       "      <td>443.009615</td>\n",
       "      <td>15177.451923</td>\n",
       "      <td>28.471154</td>\n",
       "      <td>20.660538</td>\n",
       "      <td>1358.384615</td>\n",
       "      <td>1.720659e+06</td>\n",
       "      <td>1311.739054</td>\n",
       "      <td>58375.194081</td>\n",
       "      <td>241.609590</td>\n",
       "      <td>726.931199</td>\n",
       "      <td>26.961662</td>\n",
       "      <td>6.184999e+07</td>\n",
       "      <td>7864.476148</td>\n",
       "    </tr>\n",
       "    <tr>\n",
       "      <td>11</td>\n",
       "      <td>406.092593</td>\n",
       "      <td>15309.129630</td>\n",
       "      <td>31.129630</td>\n",
       "      <td>9.833632</td>\n",
       "      <td>1516.074074</td>\n",
       "      <td>1.913809e+06</td>\n",
       "      <td>1383.404890</td>\n",
       "      <td>72590.576171</td>\n",
       "      <td>269.426384</td>\n",
       "      <td>1185.209294</td>\n",
       "      <td>34.426869</td>\n",
       "      <td>8.902092e+07</td>\n",
       "      <td>9435.089941</td>\n",
       "    </tr>\n",
       "    <tr>\n",
       "      <td>12</td>\n",
       "      <td>429.107143</td>\n",
       "      <td>16492.321429</td>\n",
       "      <td>29.535714</td>\n",
       "      <td>5.387892</td>\n",
       "      <td>1142.750000</td>\n",
       "      <td>3.557162e+05</td>\n",
       "      <td>596.419479</td>\n",
       "      <td>28441.210317</td>\n",
       "      <td>168.645220</td>\n",
       "      <td>737.591270</td>\n",
       "      <td>27.158632</td>\n",
       "      <td>2.264252e+07</td>\n",
       "      <td>4758.415477</td>\n",
       "    </tr>\n",
       "  </tbody>\n",
       "</table>\n",
       "</div>"
      ],
      "text/plain": [
       "       mean_duration  mean_mb_used  mean_message  mean_minute_for_person  \\\n",
       "month                                                                      \n",
       "1         393.527228  15813.799505     34.101485               71.293722   \n",
       "2         399.555985  15003.247104     35.065637               46.405830   \n",
       "3         462.773684  17168.389474     36.921053               39.429148   \n",
       "4         443.407051  16119.445513     36.474359               62.037220   \n",
       "5         416.078261  17655.791304     34.047826               42.913901   \n",
       "6         387.012579  16956.459119     27.176101               27.594170   \n",
       "7         441.110092  15775.307339     32.981651               43.121973   \n",
       "8         396.881657  16482.017751     28.295858               30.077578   \n",
       "9         411.184466  16193.359223     34.621359               18.991928   \n",
       "10        443.009615  15177.451923     28.471154               20.660538   \n",
       "11        406.092593  15309.129630     31.129630                9.833632   \n",
       "12        429.107143  16492.321429     29.535714                5.387892   \n",
       "\n",
       "        mean_money  dispersion_money  sigma_money  dispersion_call  \\\n",
       "month                                                                \n",
       "1      1105.952970      3.952180e+05   628.663643     35379.401242   \n",
       "2      1075.007722      4.323933e+05   657.566208     31821.480381   \n",
       "3      1316.584211      4.436624e+05   666.079838     27443.350627   \n",
       "4      1129.176282      4.028129e+05   634.675448     28001.554034   \n",
       "5      1423.508696      6.670106e+05   816.707180     32731.094285   \n",
       "6      1317.220126      7.632115e+05   873.619748     36180.594777   \n",
       "7      1195.729358      5.094057e+05   713.726622     34008.236672   \n",
       "8      1276.218935      6.395034e+05   799.689534     46668.474007   \n",
       "9      1313.427184      7.206793e+05   848.928305     40291.347992   \n",
       "10     1358.384615      1.720659e+06  1311.739054     58375.194081   \n",
       "11     1516.074074      1.913809e+06  1383.404890     72590.576171   \n",
       "12     1142.750000      3.557162e+05   596.419479     28441.210317   \n",
       "\n",
       "       sigma_call  dispersion_message  sigma_message  dispersion_internet  \\\n",
       "month                                                                       \n",
       "1      188.094129          532.736573      23.081087         2.758262e+07   \n",
       "2      178.385763         1029.689474      32.088775         3.327970e+07   \n",
       "3      165.660347          649.184211      25.479094         2.622779e+07   \n",
       "4      167.336649          696.700305      26.395081         2.303587e+07   \n",
       "5      180.917369         1132.630890      33.654582         3.632530e+07   \n",
       "6      190.211973          580.310564      24.089636         3.952488e+07   \n",
       "7      184.413223          850.746206      29.167554         3.267226e+07   \n",
       "8      216.028873          799.721471      28.279347         3.374659e+07   \n",
       "9      200.727048         1066.335618      32.654795         4.527958e+07   \n",
       "10     241.609590          726.931199      26.961662         6.184999e+07   \n",
       "11     269.426384         1185.209294      34.426869         8.902092e+07   \n",
       "12     168.645220          737.591270      27.158632         2.264252e+07   \n",
       "\n",
       "       sigma_internet  \n",
       "month                  \n",
       "1         5251.915669  \n",
       "2         5768.855635  \n",
       "3         5121.307463  \n",
       "4         4799.570118  \n",
       "5         6027.047171  \n",
       "6         6286.881620  \n",
       "7         5715.965288  \n",
       "8         5809.181822  \n",
       "9         6729.010174  \n",
       "10        7864.476148  \n",
       "11        9435.089941  \n",
       "12        4758.415477  "
      ]
     },
     "execution_count": 43,
     "metadata": {},
     "output_type": "execute_result"
    }
   ],
   "source": [
    "mean_smart"
   ]
  },
  {
   "cell_type": "markdown",
   "metadata": {},
   "source": [
    "### Возвращаемся к таблицам ultra_person_calls и smart_person_calls, в котором все пользователи Ультра и Смарт, построим гистограммы."
   ]
  },
  {
   "cell_type": "code",
   "execution_count": 44,
   "metadata": {},
   "outputs": [
    {
     "data": {
      "image/png": "[encoded data removed]",
      "text/plain": [
       "<Figure size 432x288 with 1 Axes>"
      ]
     },
     "metadata": {
      "needs_background": "light"
     },
     "output_type": "display_data"
    }
   ],
   "source": [
    "#Строим гистограммы звонков\n",
    "ax=ultra_person_calls.hist(column='duration',alpha=0.5, bins=30,label='ultra')\n",
    "smart_person_calls.hist(column='duration', bins=30,alpha=0.5,ax=ax, label='smart');\n",
    "plt.legend()\n",
    "plt.show()"
   ]
  },
  {
   "cell_type": "markdown",
   "metadata": {},
   "source": [
    "Построили две гистрограммы где видим что пользователи тарифа смарт разговарива/т в целом не больше 10 минут, когда пользователь тарифа тсмарт разговаривают около 100-120 минут"
   ]
  },
  {
   "cell_type": "code",
   "execution_count": 45,
   "metadata": {},
   "outputs": [
    {
     "data": {
      "image/png": "[encoded data removed]",
      "text/plain": [
       "<Figure size 432x288 with 1 Axes>"
      ]
     },
     "metadata": {
      "needs_background": "light"
     },
     "output_type": "display_data"
    }
   ],
   "source": [
    "#Строим гистограммы смс\n",
    "ax=ultra_person_calls.hist(column='message_date', bins=30, label='ultra')\n",
    "smart_person_calls.hist(column='message_date', bins=30,alpha=0.5,ax=ax, label='smart');\n",
    "plt.legend()\n",
    "plt.show()"
   ]
  },
  {
   "cell_type": "markdown",
   "metadata": {},
   "source": [
    "Построили две гистрограммы где видим что пользователи тарифа смарт отправляют меньше смс чем пользователи тарифа смарт"
   ]
  },
  {
   "cell_type": "code",
   "execution_count": 46,
   "metadata": {},
   "outputs": [
    {
     "data": {
      "image/png": "[encoded data removed]",
      "text/plain": [
       "<Figure size 432x288 with 1 Axes>"
      ]
     },
     "metadata": {
      "needs_background": "light"
     },
     "output_type": "display_data"
    }
   ],
   "source": [
    "#Строим гистограммы смс\n",
    "ax=ultra_person_calls.hist(column='mb_used', bins=30, label='ultra')\n",
    "smart_person_calls.hist(column='mb_used', bins=30,alpha=0.5,ax=ax, label='smart')\n",
    "plt.legend()\n",
    "plt.show()"
   ]
  },
  {
   "cell_type": "markdown",
   "metadata": {},
   "source": [
    "Посмотрев данные гистограммы делаем вывод, что пользователи тарифа смарт используют больше интернета чем пользователи Ультра"
   ]
  },
  {
   "cell_type": "markdown",
   "metadata": {},
   "source": [
    "## Проверка гипотезы\n",
    " "
   ]
  },
  {
   "cell_type": "markdown",
   "metadata": {},
   "source": [
    "### Проверка гипотезы: средняя выручка пользователей тарифов «Ультра» и «Смарт» различается;\n",
    "\n",
    "Нулевая гипотеза для первой задачи гласит: \"Средняя выручка пользователей тарифов «Ультра» и «Смарт» равна\".\n",
    "\n",
    "Альтернативаня гипотеза первой задачи: \"Средняя выручка пользователей тарифов «Ультра» и «Смарт» различается\"."
   ]
  },
  {
   "cell_type": "code",
   "execution_count": 47,
   "metadata": {},
   "outputs": [
    {
     "name": "stdout",
     "output_type": "stream",
     "text": [
      "99% значений попадают с интервал:+- 1059 от среднего значения 2059\n"
     ]
    }
   ],
   "source": [
    "alpha=0.05 # критический уровень статистической значимости\n",
    "ultra_all=group_all.query('tariff==\"ultra\"')\n",
    "smart_all=group_all.query('tariff==\"smart\"')\n",
    "ultra_all['money'].mean() # Среднее значение выречки пользователей Ультра\n",
    "disp_ultra=np.var(ultra_all['money'])\n",
    "print('99% значений попадают с интервал:+-',round(3*np.sqrt(disp_ultra)),'от среднего значения',round(ultra_all['money'].mean()))"
   ]
  },
  {
   "cell_type": "markdown",
   "metadata": {},
   "source": [
    "доверительный интрвал для тарифа ультра 95%"
   ]
  },
  {
   "cell_type": "code",
   "execution_count": 48,
   "metadata": {},
   "outputs": [
    {
     "name": "stdout",
     "output_type": "stream",
     "text": [
      "99% значений попадают с интервал:+- 2349 от среднего значения 1225\n"
     ]
    }
   ],
   "source": [
    "st.t.interval(0.95, len(ultra_all['money'])-1, loc=np.mean(ultra_all['money']), scale=st.sem(ultra_all['money']))\n",
    "smart_all['money'].mean() # Среднее значение выручки пользователей Смарт\n",
    "disp_smart=np.var(smart_all['money'])\n",
    "print('99% значений попадают с интервал:+-',round(3*np.sqrt(disp_smart)),'от среднего значения',round(smart_all['money'].mean()))"
   ]
  },
  {
   "cell_type": "markdown",
   "metadata": {},
   "source": [
    "доверительный интрвал для тарифа смарт 95%"
   ]
  },
  {
   "cell_type": "code",
   "execution_count": 53,
   "metadata": {},
   "outputs": [
    {
     "name": "stdout",
     "output_type": "stream",
     "text": [
      "613511.8656778663\n",
      "124834.23770348329\n"
     ]
    }
   ],
   "source": [
    "st.t.interval(0.95, len(smart_all['money'])-1, loc=np.mean(smart_all['money']), scale=st.sem(smart_all['money']))\n",
    "print(smart_all['money'].var())#Дисперсия выручки Смарт\n",
    "print(ultra_all['money'].var()) #Дисперсия выручки Смарт"
   ]
  },
  {
   "cell_type": "markdown",
   "metadata": {},
   "source": [
    "Значения дисперсии сильно отличаются. Поэтому в функции st.ttest_ind буду использовать параметр equal_var=False"
   ]
  },
  {
   "cell_type": "code",
   "execution_count": 50,
   "metadata": {},
   "outputs": [
    {
     "name": "stdout",
     "output_type": "stream",
     "text": [
      "5.4657459530897046e-303\n",
      "Отвергаем нулевую гипотезу\n"
     ]
    }
   ],
   "source": [
    "result=st.ttest_ind(smart_all['money'],ultra_all['money'],equal_var=False)\n",
    "print(result.pvalue) #выведем p-value из результата\n",
    "if (result.pvalue<alpha):\n",
    "    print('Отвергаем нулевую гипотезу')\n",
    "else:\n",
    "    print('Не получилость отвергнуть нулевую гипотезу')"
   ]
  },
  {
   "cell_type": "markdown",
   "metadata": {},
   "source": [
    "Выдвинем предположение о равенстве выборки по каждому тарифу с генеральной совокупностью.\n",
    "\n",
    "При сравнении статистических данных выборок с генеральной выборкой видно, что нормальное распределения каждого тарифа отличаются друг от друга"
   ]
  },
  {
   "cell_type": "code",
   "execution_count": 51,
   "metadata": {},
   "outputs": [
    {
     "name": "stdout",
     "output_type": "stream",
     "text": [
      "0.0\n",
      "Не получилость отвергнуть нулевую гипотезу\n"
     ]
    }
   ],
   "source": [
    "interested_value=smart_all['money'].mean() # среднее значение smart. относительно которого проверяем\n",
    "result=st.ttest_1samp(ultra_all['money'],interested_value)\n",
    "print(result.pvalue/2) #p-value\n",
    "if (result.pvalue/2<alpha) and (ultra_all['money'].mean()<=interested_value):\n",
    "     print('Отвергаем нулевую гипотезу')\n",
    "else:\n",
    "    print('Не получилость отвергнуть нулевую гипотезу')"
   ]
  },
  {
   "cell_type": "markdown",
   "metadata": {},
   "source": [
    "При проверке односторонней гипотезы \"среднее значение выручки Ультра меньше предполагаемого(значение Смарт)\", отвергли, если выполнелось два условия:\n",
    "\n",
    "среднее значение выручки Ультра <= предполагаемого(значение Смарт)\n",
    "разница среднего значения и статистической значимости деленой пополам была существенной\n",
    "Проверка гипотезы: средняя выручка пользователей из Москвы отличается от выручки пользователей из других регионов. Нулевая гипотеза звучит так: средняя выручка пользователей из Москвы не отличается от выручки пользователей из других регионов."
   ]
  },
  {
   "cell_type": "code",
   "execution_count": 52,
   "metadata": {},
   "outputs": [
    {
     "name": "stdout",
     "output_type": "stream",
     "text": [
      "0.5126385378243601\n",
      "Гипотизу отвергнуть не удалось\n"
     ]
    }
   ],
   "source": [
    "moscow_all=group_all.query('city==\"Москва\"')\n",
    "other_all=group_all.query('city!=\"Москва\"')\n",
    "alpha=0.05\n",
    "moscow_all['money'].var()\n",
    "moscow_all['money'].mean()\n",
    "other_all['money'].var()\n",
    "other_all['money'].mean()\n",
    "result=st.ttest_ind(moscow_all['money'],other_all['money'])\n",
    "print(result.pvalue)\n",
    "if (result.pvalue<alpha):\n",
    "    print('Отвергаем гипотизу')\n",
    "else:\n",
    "    print('Гипотизу отвергнуть не удалось')"
   ]
  },
  {
   "cell_type": "markdown",
   "metadata": {},
   "source": [
    "Гипотезу отвергаем. Средняя выручка в Москве отличается от средней выручки в регионах.\n",
    "\n"
   ]
  },
  {
   "cell_type": "markdown",
   "metadata": {},
   "source": [
    "**Итоговый вывод**\n",
    "\n",
    "В ходе проделанной работы было выполнено:\n",
    "\n",
    "Просмотрена каждая таблица и выявлены аномалии и связи между таблицами\n",
    "\n",
    "Составлена общая таблица данных о пользователях сети\n",
    "\n",
    "Заполнены пропуски и сменены типы данных для столцов\n",
    "\n",
    "Добавлены необходимые серии для гипотез\n",
    "\n",
    "Проведен сравнительный анализ пользователей тарифов\n",
    "\n",
    "Проверены гипотезы на возможное соотвествие\n",
    "\n",
    "Предложенные тарифы сильно отличаются друг от друга и их выручка разнится. В первую очередь пользователи тарифа Smart чаще пользователей тарифа Ultra перерасходуют лимиты. Из-за это выручка по тарифу Smart может казаться большой.\n",
    "\n",
    "Сравнение процента пользователей, которые не переходят за порог 25% для Smart и 86% для Ultra, говорит о том, что первый тариф не соответвует большинству пользователей практически по всем пунктам (более половины случаев переплат только за интернет). Второму тарифу слишком много лимита по минутам и смс и перерасход может быть только по интернету (14% пользователей).\n",
    "\n",
    "В процессе работы, было выявлено, что в целом данные приходят без артефактов и достаточно чистые, за исключением столбца churn_date таблицы users и нулевые звонки в таблице calls. таких данных лучше избегать. Я бы предложил при их сборе дополнительно помечать абонентов каким то максимально разумным значением или же условным нулем, чтобы упростить анализ, тем что нет необходимости дополнительно придумывать условные флаги, которые сможет переработать компьютер.К тому же если над подобными данными будут работать несколько сотрудников и каждый из них определит для себя индивидуальный флаг, то в дальнейшем при объединении работ могут появиться баги, которые сложно будет отловить.\n",
    "\n",
    "Рекламный бюджет выгоднее всего перераспределить в пользу тарифа ultra, несмотря на то, что его абоненты не покупают дополнительные минуты и смс, в отличие от абонентов тарифа smart. Так же можно заметить, что медианное и среднее значение дохода у абонентов тарифа ultra выше.\n",
    "\n",
    "Так же исследовав предоставленные данные мы смогли проверить гипотезы. Эти данные помогли нам опровергнуть гипотезу о том, что средняя выручка пользователей разных тарифов равна, а так же с большой вероятностью сказать, что средняя выручка пользователей из Москвы равна выручке пользователей из других регионов.\n",
    "\n",
    "\n"
   ]
  },
  {
   "cell_type": "code",
   "execution_count": null,
   "metadata": {},
   "outputs": [],
   "source": []
  },
  {
   "cell_type": "code",
   "execution_count": null,
   "metadata": {},
   "outputs": [],
   "source": []
  }
 ],
 "metadata": {
  "ExecuteTimeLog": [
   {
    "duration": 1479,
    "start_time": "2021-08-23T09:47:28.489Z"
   },
   {
    "duration": 198,
    "start_time": "2021-08-23T09:47:32.998Z"
   },
   {
    "duration": 229,
    "start_time": "2021-08-23T09:48:15.273Z"
   },
   {
    "duration": 250,
    "start_time": "2021-08-23T09:49:31.824Z"
   },
   {
    "duration": 541,
    "start_time": "2021-08-23T09:50:32.053Z"
   },
   {
    "duration": 102,
    "start_time": "2021-08-23T09:52:26.530Z"
   },
   {
    "duration": 517,
    "start_time": "2021-08-23T09:52:28.375Z"
   },
   {
    "duration": 89,
    "start_time": "2021-08-23T09:52:29.740Z"
   },
   {
    "duration": 4,
    "start_time": "2021-08-23T09:52:45.939Z"
   },
   {
    "duration": 98,
    "start_time": "2021-08-23T09:55:42.226Z"
   },
   {
    "duration": 67,
    "start_time": "2021-08-23T09:55:58.887Z"
   },
   {
    "duration": 26,
    "start_time": "2021-08-23T09:56:17.283Z"
   },
   {
    "duration": 23,
    "start_time": "2021-08-23T09:57:44.656Z"
   },
   {
    "duration": 19,
    "start_time": "2021-08-23T09:58:09.194Z"
   },
   {
    "duration": 8,
    "start_time": "2021-08-23T09:58:30.495Z"
   },
   {
    "duration": 8,
    "start_time": "2021-08-23T09:59:36.981Z"
   },
   {
    "duration": 3,
    "start_time": "2021-08-23T10:01:35.031Z"
   },
   {
    "duration": 39,
    "start_time": "2021-08-23T10:02:46.649Z"
   },
   {
    "duration": 10,
    "start_time": "2021-08-23T10:03:03.020Z"
   },
   {
    "duration": 426,
    "start_time": "2021-08-23T10:03:22.742Z"
   },
   {
    "duration": 38,
    "start_time": "2021-08-23T10:03:42.970Z"
   },
   {
    "duration": 27,
    "start_time": "2021-08-23T10:04:01.777Z"
   },
   {
    "duration": 13,
    "start_time": "2021-08-23T10:04:38.922Z"
   },
   {
    "duration": 288,
    "start_time": "2021-08-23T10:04:51.209Z"
   },
   {
    "duration": 17,
    "start_time": "2021-08-23T10:04:56.019Z"
   },
   {
    "duration": 28,
    "start_time": "2021-08-23T10:05:14.749Z"
   },
   {
    "duration": 38,
    "start_time": "2021-08-23T10:05:57.693Z"
   },
   {
    "duration": 53,
    "start_time": "2021-08-23T10:06:04.490Z"
   },
   {
    "duration": 39,
    "start_time": "2021-08-23T10:06:05.224Z"
   },
   {
    "duration": 37,
    "start_time": "2021-08-23T10:06:05.383Z"
   },
   {
    "duration": 39,
    "start_time": "2021-08-23T10:06:05.881Z"
   },
   {
    "duration": 39,
    "start_time": "2021-08-23T10:06:09.784Z"
   },
   {
    "duration": 29,
    "start_time": "2021-08-23T10:06:38.977Z"
   },
   {
    "duration": 24,
    "start_time": "2021-08-23T10:06:40.751Z"
   },
   {
    "duration": 25,
    "start_time": "2021-08-23T10:06:43.629Z"
   },
   {
    "duration": 32,
    "start_time": "2021-08-23T10:06:46.010Z"
   },
   {
    "duration": 399,
    "start_time": "2021-08-23T10:07:56.746Z"
   },
   {
    "duration": 1832,
    "start_time": "2021-08-23T10:08:22.260Z"
   },
   {
    "duration": 26,
    "start_time": "2021-08-23T10:08:24.095Z"
   },
   {
    "duration": 21,
    "start_time": "2021-08-23T10:08:24.125Z"
   },
   {
    "duration": 18,
    "start_time": "2021-08-23T10:08:24.149Z"
   },
   {
    "duration": 9,
    "start_time": "2021-08-23T10:08:24.201Z"
   },
   {
    "duration": 11,
    "start_time": "2021-08-23T10:08:24.213Z"
   },
   {
    "duration": 109,
    "start_time": "2021-08-23T10:08:24.227Z"
   },
   {
    "duration": 416,
    "start_time": "2021-08-23T10:08:24.339Z"
   },
   {
    "duration": -41,
    "start_time": "2021-08-23T10:08:24.799Z"
   },
   {
    "duration": 27,
    "start_time": "2021-08-23T10:08:30.345Z"
   },
   {
    "duration": 321,
    "start_time": "2021-08-23T10:08:34.781Z"
   },
   {
    "duration": 359,
    "start_time": "2021-08-23T10:08:40.657Z"
   },
   {
    "duration": 1898,
    "start_time": "2021-08-23T10:11:11.142Z"
   },
   {
    "duration": 26,
    "start_time": "2021-08-23T10:11:13.043Z"
   },
   {
    "duration": 51,
    "start_time": "2021-08-23T10:11:13.072Z"
   },
   {
    "duration": 19,
    "start_time": "2021-08-23T10:11:13.126Z"
   },
   {
    "duration": 8,
    "start_time": "2021-08-23T10:11:13.148Z"
   },
   {
    "duration": 11,
    "start_time": "2021-08-23T10:11:13.158Z"
   },
   {
    "duration": 115,
    "start_time": "2021-08-23T10:11:13.172Z"
   },
   {
    "duration": 35,
    "start_time": "2021-08-23T10:11:13.290Z"
   },
   {
    "duration": 404,
    "start_time": "2021-08-23T10:11:13.328Z"
   },
   {
    "duration": 52,
    "start_time": "2021-08-23T10:12:19.874Z"
   },
   {
    "duration": 66,
    "start_time": "2021-08-23T10:12:31.154Z"
   },
   {
    "duration": 41,
    "start_time": "2021-08-23T10:15:00.316Z"
   },
   {
    "duration": 48,
    "start_time": "2021-08-23T10:15:34.917Z"
   },
   {
    "duration": 32,
    "start_time": "2021-08-23T10:16:24.942Z"
   },
   {
    "duration": 66,
    "start_time": "2021-08-23T10:31:19.326Z"
   },
   {
    "duration": 64,
    "start_time": "2021-08-23T10:31:26.353Z"
   },
   {
    "duration": 15,
    "start_time": "2021-08-23T10:34:33.907Z"
   },
   {
    "duration": 31,
    "start_time": "2021-08-23T10:34:41.981Z"
   },
   {
    "duration": 32,
    "start_time": "2021-08-23T10:34:51.741Z"
   },
   {
    "duration": 606,
    "start_time": "2021-08-23T10:36:49.469Z"
   },
   {
    "duration": 1953,
    "start_time": "2021-08-23T10:36:57.092Z"
   },
   {
    "duration": 29,
    "start_time": "2021-08-23T10:36:59.048Z"
   },
   {
    "duration": 22,
    "start_time": "2021-08-23T10:36:59.080Z"
   },
   {
    "duration": 18,
    "start_time": "2021-08-23T10:36:59.106Z"
   },
   {
    "duration": 9,
    "start_time": "2021-08-23T10:36:59.127Z"
   },
   {
    "duration": 11,
    "start_time": "2021-08-23T10:36:59.139Z"
   },
   {
    "duration": 123,
    "start_time": "2021-08-23T10:36:59.153Z"
   },
   {
    "duration": 40,
    "start_time": "2021-08-23T10:36:59.279Z"
   },
   {
    "duration": 402,
    "start_time": "2021-08-23T10:36:59.322Z"
   },
   {
    "duration": 83,
    "start_time": "2021-08-23T10:36:59.726Z"
   },
   {
    "duration": 56,
    "start_time": "2021-08-23T10:36:59.811Z"
   },
   {
    "duration": 86,
    "start_time": "2021-08-23T10:36:59.869Z"
   },
   {
    "duration": 469,
    "start_time": "2021-08-23T10:36:59.957Z"
   },
   {
    "duration": 64,
    "start_time": "2021-08-23T10:37:09.755Z"
   },
   {
    "duration": 17,
    "start_time": "2021-08-23T10:38:10.751Z"
   },
   {
    "duration": 8028,
    "start_time": "2021-08-23T10:38:25.429Z"
   },
   {
    "duration": -29,
    "start_time": "2021-08-23T10:38:40.597Z"
   },
   {
    "duration": 7648,
    "start_time": "2021-08-23T10:38:57.678Z"
   },
   {
    "duration": 7452,
    "start_time": "2021-08-23T10:39:45.605Z"
   },
   {
    "duration": 7606,
    "start_time": "2021-08-23T10:40:23.735Z"
   },
   {
    "duration": 1882,
    "start_time": "2021-08-23T10:41:45.861Z"
   },
   {
    "duration": 29,
    "start_time": "2021-08-23T10:41:47.745Z"
   },
   {
    "duration": 22,
    "start_time": "2021-08-23T10:41:47.778Z"
   },
   {
    "duration": 20,
    "start_time": "2021-08-23T10:41:47.804Z"
   },
   {
    "duration": 10,
    "start_time": "2021-08-23T10:41:47.827Z"
   },
   {
    "duration": 11,
    "start_time": "2021-08-23T10:41:47.840Z"
   },
   {
    "duration": 134,
    "start_time": "2021-08-23T10:41:47.853Z"
   },
   {
    "duration": 39,
    "start_time": "2021-08-23T10:41:47.990Z"
   },
   {
    "duration": 392,
    "start_time": "2021-08-23T10:41:48.032Z"
   },
   {
    "duration": 80,
    "start_time": "2021-08-23T10:41:48.427Z"
   },
   {
    "duration": 53,
    "start_time": "2021-08-23T10:41:48.509Z"
   },
   {
    "duration": 88,
    "start_time": "2021-08-23T10:41:48.565Z"
   },
   {
    "duration": 82,
    "start_time": "2021-08-23T10:41:48.655Z"
   },
   {
    "duration": 30,
    "start_time": "2021-08-23T10:41:48.739Z"
   },
   {
    "duration": 8,
    "start_time": "2021-08-23T10:45:29.691Z"
   },
   {
    "duration": 631,
    "start_time": "2021-08-23T10:45:56.569Z"
   },
   {
    "duration": 110,
    "start_time": "2021-08-23T10:46:06.268Z"
   },
   {
    "duration": 21,
    "start_time": "2021-08-23T10:46:14.180Z"
   },
   {
    "duration": 1814,
    "start_time": "2021-08-23T10:46:36.987Z"
   },
   {
    "duration": 29,
    "start_time": "2021-08-23T10:46:38.804Z"
   },
   {
    "duration": 22,
    "start_time": "2021-08-23T10:46:38.836Z"
   },
   {
    "duration": 47,
    "start_time": "2021-08-23T10:46:38.861Z"
   },
   {
    "duration": 9,
    "start_time": "2021-08-23T10:46:38.911Z"
   },
   {
    "duration": 12,
    "start_time": "2021-08-23T10:46:38.922Z"
   },
   {
    "duration": 114,
    "start_time": "2021-08-23T10:46:38.936Z"
   },
   {
    "duration": 31,
    "start_time": "2021-08-23T10:46:39.054Z"
   },
   {
    "duration": 384,
    "start_time": "2021-08-23T10:46:39.088Z"
   },
   {
    "duration": 81,
    "start_time": "2021-08-23T10:46:39.474Z"
   },
   {
    "duration": 71,
    "start_time": "2021-08-23T10:46:39.558Z"
   },
   {
    "duration": 70,
    "start_time": "2021-08-23T10:46:39.632Z"
   },
   {
    "duration": 61,
    "start_time": "2021-08-23T10:46:39.704Z"
   },
   {
    "duration": 54,
    "start_time": "2021-08-23T10:46:39.768Z"
   },
   {
    "duration": 21,
    "start_time": "2021-08-23T10:46:39.824Z"
   },
   {
    "duration": 7,
    "start_time": "2021-08-23T10:46:57.802Z"
   },
   {
    "duration": 755,
    "start_time": "2021-08-23T10:46:59.560Z"
   },
   {
    "duration": 22,
    "start_time": "2021-08-23T10:47:27.077Z"
   },
   {
    "duration": 9,
    "start_time": "2021-08-23T10:47:38.355Z"
   },
   {
    "duration": 7672,
    "start_time": "2021-08-23T10:47:40.323Z"
   },
   {
    "duration": 8,
    "start_time": "2021-08-23T10:48:18.671Z"
   },
   {
    "duration": 7379,
    "start_time": "2021-08-23T10:48:23.832Z"
   },
   {
    "duration": 7,
    "start_time": "2021-08-23T10:48:49.734Z"
   },
   {
    "duration": 89,
    "start_time": "2021-08-23T10:48:51.501Z"
   },
   {
    "duration": 101,
    "start_time": "2021-08-23T10:48:58.602Z"
   },
   {
    "duration": 93,
    "start_time": "2021-08-23T10:49:33.433Z"
   },
   {
    "duration": 389,
    "start_time": "2021-08-23T10:50:24.626Z"
   },
   {
    "duration": 18,
    "start_time": "2021-08-23T10:54:46.877Z"
   },
   {
    "duration": 10,
    "start_time": "2021-08-23T10:54:48.525Z"
   },
   {
    "duration": 20,
    "start_time": "2021-08-23T10:54:50.815Z"
   },
   {
    "duration": 19,
    "start_time": "2021-08-23T10:55:12.405Z"
   },
   {
    "duration": 12,
    "start_time": "2021-08-23T10:56:08.360Z"
   },
   {
    "duration": 13,
    "start_time": "2021-08-23T10:56:21.628Z"
   },
   {
    "duration": 276,
    "start_time": "2021-08-23T10:59:25.806Z"
   },
   {
    "duration": 91,
    "start_time": "2021-08-23T10:59:35.587Z"
   },
   {
    "duration": 32,
    "start_time": "2021-08-23T10:59:57.899Z"
   },
   {
    "duration": 12,
    "start_time": "2021-08-23T11:00:15.918Z"
   },
   {
    "duration": 8,
    "start_time": "2021-08-23T11:00:34.022Z"
   },
   {
    "duration": 8,
    "start_time": "2021-08-23T11:00:54.282Z"
   },
   {
    "duration": 30,
    "start_time": "2021-08-23T11:01:52.601Z"
   },
   {
    "duration": 8,
    "start_time": "2021-08-23T11:01:54.395Z"
   },
   {
    "duration": 9,
    "start_time": "2021-08-23T11:01:56.097Z"
   },
   {
    "duration": 13,
    "start_time": "2021-08-23T11:03:21.541Z"
   },
   {
    "duration": 12,
    "start_time": "2021-08-23T11:04:11.418Z"
   },
   {
    "duration": 518,
    "start_time": "2021-08-23T11:04:57.222Z"
   },
   {
    "duration": 468,
    "start_time": "2021-08-23T11:06:43.566Z"
   },
   {
    "duration": 488,
    "start_time": "2021-08-23T11:07:01.783Z"
   },
   {
    "duration": 17,
    "start_time": "2021-08-23T11:09:46.622Z"
   },
   {
    "duration": 16,
    "start_time": "2021-08-23T11:10:14.348Z"
   },
   {
    "duration": 26,
    "start_time": "2021-08-23T11:11:01.368Z"
   },
   {
    "duration": 440,
    "start_time": "2021-08-23T11:11:47.984Z"
   },
   {
    "duration": 9,
    "start_time": "2021-08-23T11:12:17.914Z"
   },
   {
    "duration": 428,
    "start_time": "2021-08-23T11:12:48.425Z"
   },
   {
    "duration": 513,
    "start_time": "2021-08-23T11:15:33.637Z"
   },
   {
    "duration": 35,
    "start_time": "2021-08-23T11:18:13.777Z"
   },
   {
    "duration": 28,
    "start_time": "2021-08-23T11:22:45.062Z"
   },
   {
    "duration": 51,
    "start_time": "2021-08-23T11:22:56.044Z"
   },
   {
    "duration": 4,
    "start_time": "2021-08-23T11:25:00.389Z"
   },
   {
    "duration": 17,
    "start_time": "2021-08-23T11:27:53.316Z"
   },
   {
    "duration": 13,
    "start_time": "2021-08-23T11:28:49.940Z"
   },
   {
    "duration": 419,
    "start_time": "2021-08-23T11:29:00.426Z"
   },
   {
    "duration": 12,
    "start_time": "2021-08-23T11:29:12.354Z"
   },
   {
    "duration": 654,
    "start_time": "2021-08-23T11:29:26.641Z"
   },
   {
    "duration": 109,
    "start_time": "2021-08-23T11:30:00.196Z"
   },
   {
    "duration": 22,
    "start_time": "2021-08-23T11:30:04.850Z"
   },
   {
    "duration": 20,
    "start_time": "2021-08-23T11:30:54.816Z"
   },
   {
    "duration": 33,
    "start_time": "2021-08-23T11:31:46.217Z"
   },
   {
    "duration": 61,
    "start_time": "2021-08-23T11:33:04.820Z"
   },
   {
    "duration": 3,
    "start_time": "2021-08-23T11:33:38.586Z"
   },
   {
    "duration": 1176,
    "start_time": "2021-08-23T11:33:56.370Z"
   },
   {
    "duration": 1972,
    "start_time": "2021-08-23T11:34:07.852Z"
   },
   {
    "duration": 27,
    "start_time": "2021-08-23T11:34:09.826Z"
   },
   {
    "duration": 21,
    "start_time": "2021-08-23T11:34:09.856Z"
   },
   {
    "duration": 22,
    "start_time": "2021-08-23T11:34:09.880Z"
   },
   {
    "duration": 8,
    "start_time": "2021-08-23T11:34:09.904Z"
   },
   {
    "duration": 8,
    "start_time": "2021-08-23T11:34:09.915Z"
   },
   {
    "duration": 120,
    "start_time": "2021-08-23T11:34:09.926Z"
   },
   {
    "duration": 32,
    "start_time": "2021-08-23T11:34:10.049Z"
   },
   {
    "duration": 436,
    "start_time": "2021-08-23T11:34:10.100Z"
   },
   {
    "duration": 80,
    "start_time": "2021-08-23T11:34:10.540Z"
   },
   {
    "duration": 52,
    "start_time": "2021-08-23T11:34:10.623Z"
   },
   {
    "duration": 80,
    "start_time": "2021-08-23T11:34:10.677Z"
   },
   {
    "duration": 85,
    "start_time": "2021-08-23T11:34:10.759Z"
   },
   {
    "duration": 33,
    "start_time": "2021-08-23T11:34:10.846Z"
   },
   {
    "duration": 110,
    "start_time": "2021-08-23T11:34:10.902Z"
   },
   {
    "duration": 406,
    "start_time": "2021-08-23T11:34:11.015Z"
   },
   {
    "duration": 12,
    "start_time": "2021-08-23T11:34:11.424Z"
   },
   {
    "duration": 29,
    "start_time": "2021-08-23T11:34:11.439Z"
   },
   {
    "duration": 40,
    "start_time": "2021-08-23T11:34:11.471Z"
   },
   {
    "duration": 32,
    "start_time": "2021-08-23T11:34:11.513Z"
   },
   {
    "duration": 18,
    "start_time": "2021-08-23T11:34:11.548Z"
   },
   {
    "duration": 42,
    "start_time": "2021-08-23T11:34:11.568Z"
   },
   {
    "duration": 496,
    "start_time": "2021-08-23T11:34:11.615Z"
   },
   {
    "duration": 513,
    "start_time": "2021-08-23T11:34:12.114Z"
   },
   {
    "duration": 487,
    "start_time": "2021-08-23T11:34:12.629Z"
   },
   {
    "duration": 25,
    "start_time": "2021-08-23T11:34:13.118Z"
   },
   {
    "duration": 479,
    "start_time": "2021-08-23T11:34:13.146Z"
   },
   {
    "duration": 33,
    "start_time": "2021-08-23T11:34:13.628Z"
   },
   {
    "duration": 51,
    "start_time": "2021-08-23T11:34:13.663Z"
   },
   {
    "duration": 53,
    "start_time": "2021-08-23T11:34:13.717Z"
   },
   {
    "duration": 34,
    "start_time": "2021-08-23T11:34:13.773Z"
   },
   {
    "duration": 430,
    "start_time": "2021-08-23T11:34:13.810Z"
   },
   {
    "duration": 23,
    "start_time": "2021-08-23T11:34:14.243Z"
   },
   {
    "duration": 43,
    "start_time": "2021-08-23T11:34:14.269Z"
   },
   {
    "duration": 32,
    "start_time": "2021-08-23T11:34:14.315Z"
   },
   {
    "duration": 150,
    "start_time": "2021-08-23T11:34:14.350Z"
   },
   {
    "duration": 24,
    "start_time": "2021-08-23T11:34:32.005Z"
   },
   {
    "duration": 393,
    "start_time": "2021-08-23T11:36:41.809Z"
   },
   {
    "duration": 531,
    "start_time": "2021-08-23T11:38:00.835Z"
   },
   {
    "duration": 29,
    "start_time": "2021-08-23T11:38:01.369Z"
   },
   {
    "duration": 40,
    "start_time": "2021-08-23T11:38:01.401Z"
   },
   {
    "duration": 26,
    "start_time": "2021-08-23T11:38:01.443Z"
   },
   {
    "duration": 19,
    "start_time": "2021-08-23T11:38:01.472Z"
   },
   {
    "duration": 25,
    "start_time": "2021-08-23T11:38:01.493Z"
   },
   {
    "duration": 86,
    "start_time": "2021-08-23T11:38:01.521Z"
   },
   {
    "duration": 31,
    "start_time": "2021-08-23T11:38:01.609Z"
   },
   {
    "duration": 414,
    "start_time": "2021-08-23T11:38:01.642Z"
   },
   {
    "duration": 87,
    "start_time": "2021-08-23T11:38:02.059Z"
   },
   {
    "duration": 72,
    "start_time": "2021-08-23T11:38:02.148Z"
   },
   {
    "duration": 79,
    "start_time": "2021-08-23T11:38:02.223Z"
   },
   {
    "duration": 65,
    "start_time": "2021-08-23T11:38:02.305Z"
   },
   {
    "duration": 57,
    "start_time": "2021-08-23T11:38:02.373Z"
   },
   {
    "duration": 119,
    "start_time": "2021-08-23T11:38:02.432Z"
   },
   {
    "duration": 435,
    "start_time": "2021-08-23T11:38:02.553Z"
   },
   {
    "duration": 16,
    "start_time": "2021-08-23T11:38:02.991Z"
   },
   {
    "duration": 32,
    "start_time": "2021-08-23T11:38:03.010Z"
   },
   {
    "duration": 14,
    "start_time": "2021-08-23T11:38:03.046Z"
   },
   {
    "duration": 60,
    "start_time": "2021-08-23T11:38:03.062Z"
   },
   {
    "duration": 14,
    "start_time": "2021-08-23T11:38:03.124Z"
   },
   {
    "duration": 15,
    "start_time": "2021-08-23T11:38:03.141Z"
   },
   {
    "duration": 493,
    "start_time": "2021-08-23T11:38:03.159Z"
   },
   {
    "duration": 489,
    "start_time": "2021-08-23T11:38:03.655Z"
   },
   {
    "duration": 499,
    "start_time": "2021-08-23T11:38:04.148Z"
   },
   {
    "duration": 26,
    "start_time": "2021-08-23T11:38:04.650Z"
   },
   {
    "duration": 467,
    "start_time": "2021-08-23T11:38:04.678Z"
   },
   {
    "duration": 34,
    "start_time": "2021-08-23T11:38:05.148Z"
   },
   {
    "duration": 42,
    "start_time": "2021-08-23T11:38:05.184Z"
   },
   {
    "duration": 72,
    "start_time": "2021-08-23T11:38:05.234Z"
   },
   {
    "duration": 17,
    "start_time": "2021-08-23T11:38:05.309Z"
   },
   {
    "duration": 435,
    "start_time": "2021-08-23T11:38:05.328Z"
   },
   {
    "duration": 35,
    "start_time": "2021-08-23T11:38:05.766Z"
   },
   {
    "duration": 18,
    "start_time": "2021-08-23T11:38:05.804Z"
   },
   {
    "duration": 33,
    "start_time": "2021-08-23T11:38:05.825Z"
   },
   {
    "duration": 185,
    "start_time": "2021-08-23T11:38:05.860Z"
   },
   {
    "duration": 26,
    "start_time": "2021-08-23T11:38:06.048Z"
   },
   {
    "duration": 412,
    "start_time": "2021-08-23T11:38:06.077Z"
   },
   {
    "duration": 470,
    "start_time": "2021-08-23T11:38:38.760Z"
   },
   {
    "duration": 809,
    "start_time": "2021-08-23T11:40:17.814Z"
   },
   {
    "duration": 603,
    "start_time": "2021-08-23T11:40:28.300Z"
   },
   {
    "duration": 591,
    "start_time": "2021-08-23T11:41:54.284Z"
   },
   {
    "duration": 468,
    "start_time": "2021-08-23T11:42:34.132Z"
   },
   {
    "duration": 570,
    "start_time": "2021-08-23T11:43:38.781Z"
   },
   {
    "duration": 106,
    "start_time": "2021-08-23T11:46:51.038Z"
   },
   {
    "duration": 520,
    "start_time": "2021-08-23T11:47:48.709Z"
   },
   {
    "duration": 18,
    "start_time": "2021-08-23T11:53:51.532Z"
   },
   {
    "duration": 10,
    "start_time": "2021-08-23T11:55:35.448Z"
   },
   {
    "duration": 12,
    "start_time": "2021-08-23T11:56:46.287Z"
   },
   {
    "duration": 6,
    "start_time": "2021-08-23T11:57:18.035Z"
   },
   {
    "duration": 5,
    "start_time": "2021-08-23T11:57:32.946Z"
   },
   {
    "duration": 5,
    "start_time": "2021-08-23T11:57:36.344Z"
   },
   {
    "duration": 5,
    "start_time": "2021-08-23T11:57:46.031Z"
   },
   {
    "duration": 8,
    "start_time": "2021-08-23T11:58:34.963Z"
   },
   {
    "duration": 8,
    "start_time": "2021-08-23T11:58:45.451Z"
   },
   {
    "duration": 6,
    "start_time": "2021-08-23T11:58:59.709Z"
   },
   {
    "duration": 8,
    "start_time": "2021-08-23T11:59:01.113Z"
   },
   {
    "duration": 89,
    "start_time": "2021-08-23T11:59:14.421Z"
   },
   {
    "duration": 15,
    "start_time": "2021-08-23T12:00:25.917Z"
   },
   {
    "duration": 122,
    "start_time": "2021-08-23T12:00:36.757Z"
   },
   {
    "duration": 15,
    "start_time": "2021-08-23T12:09:34.012Z"
   },
   {
    "duration": 2035,
    "start_time": "2021-08-23T21:18:52.560Z"
   },
   {
    "duration": 28,
    "start_time": "2021-08-23T21:18:54.598Z"
   },
   {
    "duration": 21,
    "start_time": "2021-08-23T21:18:54.629Z"
   },
   {
    "duration": 25,
    "start_time": "2021-08-23T21:18:54.653Z"
   },
   {
    "duration": 10,
    "start_time": "2021-08-23T21:18:54.680Z"
   },
   {
    "duration": 13,
    "start_time": "2021-08-23T21:18:54.692Z"
   },
   {
    "duration": 126,
    "start_time": "2021-08-23T21:18:54.708Z"
   },
   {
    "duration": 45,
    "start_time": "2021-08-23T21:18:54.838Z"
   },
   {
    "duration": 415,
    "start_time": "2021-08-23T21:18:54.886Z"
   },
   {
    "duration": 93,
    "start_time": "2021-08-23T21:18:55.303Z"
   },
   {
    "duration": 71,
    "start_time": "2021-08-23T21:18:55.398Z"
   },
   {
    "duration": 65,
    "start_time": "2021-08-23T21:18:55.472Z"
   },
   {
    "duration": 82,
    "start_time": "2021-08-23T21:18:55.539Z"
   },
   {
    "duration": 44,
    "start_time": "2021-08-23T21:18:55.623Z"
   },
   {
    "duration": 125,
    "start_time": "2021-08-23T21:18:55.672Z"
   },
   {
    "duration": 428,
    "start_time": "2021-08-23T21:18:55.799Z"
   },
   {
    "duration": 10,
    "start_time": "2021-08-23T21:18:56.230Z"
   },
   {
    "duration": 23,
    "start_time": "2021-08-23T21:18:56.258Z"
   },
   {
    "duration": 12,
    "start_time": "2021-08-23T21:18:56.284Z"
   },
   {
    "duration": 60,
    "start_time": "2021-08-23T21:18:56.299Z"
   },
   {
    "duration": 13,
    "start_time": "2021-08-23T21:18:56.362Z"
   },
   {
    "duration": 16,
    "start_time": "2021-08-23T21:18:56.379Z"
   },
   {
    "duration": 602,
    "start_time": "2021-08-23T21:18:56.400Z"
   },
   {
    "duration": 518,
    "start_time": "2021-08-23T21:18:57.005Z"
   },
   {
    "duration": 525,
    "start_time": "2021-08-23T21:18:57.526Z"
   },
   {
    "duration": 28,
    "start_time": "2021-08-23T21:18:58.056Z"
   },
   {
    "duration": 548,
    "start_time": "2021-08-23T21:18:58.086Z"
   },
   {
    "duration": 47,
    "start_time": "2021-08-23T21:18:58.637Z"
   },
   {
    "duration": 28,
    "start_time": "2021-08-23T21:18:58.686Z"
   },
   {
    "duration": 79,
    "start_time": "2021-08-23T21:18:58.717Z"
   },
   {
    "duration": 17,
    "start_time": "2021-08-23T21:18:58.799Z"
   },
   {
    "duration": 452,
    "start_time": "2021-08-23T21:18:58.818Z"
   },
   {
    "duration": 24,
    "start_time": "2021-08-23T21:18:59.273Z"
   },
   {
    "duration": 27,
    "start_time": "2021-08-23T21:18:59.299Z"
   },
   {
    "duration": 74,
    "start_time": "2021-08-23T21:18:59.329Z"
   },
   {
    "duration": 78,
    "start_time": "2021-08-23T21:18:59.406Z"
   },
   {
    "duration": 35,
    "start_time": "2021-08-23T21:18:59.487Z"
   },
   {
    "duration": 530,
    "start_time": "2021-08-23T21:18:59.526Z"
   },
   {
    "duration": 593,
    "start_time": "2021-08-23T21:19:00.058Z"
   },
   {
    "duration": 487,
    "start_time": "2021-08-23T21:19:00.656Z"
   },
   {
    "duration": 22,
    "start_time": "2021-08-23T21:19:01.146Z"
   },
   {
    "duration": 53,
    "start_time": "2021-08-23T21:19:01.171Z"
   },
   {
    "duration": 52,
    "start_time": "2021-08-23T21:19:01.227Z"
   },
   {
    "duration": 28,
    "start_time": "2021-08-23T21:19:01.281Z"
   },
   {
    "duration": 14,
    "start_time": "2021-08-23T21:19:01.312Z"
   },
   {
    "duration": 41,
    "start_time": "2021-08-23T21:19:01.329Z"
   },
   {
    "duration": 1490,
    "start_time": "2021-08-24T06:40:27.491Z"
   },
   {
    "duration": 21,
    "start_time": "2021-08-24T06:40:28.983Z"
   },
   {
    "duration": 16,
    "start_time": "2021-08-24T06:40:29.006Z"
   },
   {
    "duration": 14,
    "start_time": "2021-08-24T06:40:29.024Z"
   },
   {
    "duration": 7,
    "start_time": "2021-08-24T06:40:29.040Z"
   },
   {
    "duration": 11,
    "start_time": "2021-08-24T06:40:29.048Z"
   },
   {
    "duration": 87,
    "start_time": "2021-08-24T06:40:29.061Z"
   },
   {
    "duration": 23,
    "start_time": "2021-08-24T06:40:29.150Z"
   },
   {
    "duration": 238,
    "start_time": "2021-08-24T06:40:29.176Z"
   },
   {
    "duration": 46,
    "start_time": "2021-08-24T06:40:29.416Z"
   },
   {
    "duration": 47,
    "start_time": "2021-08-24T06:40:29.464Z"
   },
   {
    "duration": 43,
    "start_time": "2021-08-24T06:40:29.514Z"
   },
   {
    "duration": 58,
    "start_time": "2021-08-24T06:40:29.559Z"
   },
   {
    "duration": 19,
    "start_time": "2021-08-24T06:40:29.619Z"
   },
   {
    "duration": 69,
    "start_time": "2021-08-24T06:40:29.640Z"
   },
   {
    "duration": 225,
    "start_time": "2021-08-24T06:40:29.710Z"
   },
   {
    "duration": 6,
    "start_time": "2021-08-24T06:40:29.937Z"
   },
   {
    "duration": 18,
    "start_time": "2021-08-24T06:40:29.944Z"
   },
   {
    "duration": 7,
    "start_time": "2021-08-24T06:40:29.964Z"
   },
   {
    "duration": 24,
    "start_time": "2021-08-24T06:40:29.991Z"
   },
   {
    "duration": 14,
    "start_time": "2021-08-24T06:40:30.017Z"
   },
   {
    "duration": 23,
    "start_time": "2021-08-24T06:40:30.033Z"
   },
   {
    "duration": 371,
    "start_time": "2021-08-24T06:40:30.059Z"
   },
   {
    "duration": 278,
    "start_time": "2021-08-24T06:40:30.432Z"
   },
   {
    "duration": 282,
    "start_time": "2021-08-24T06:40:30.712Z"
   },
   {
    "duration": 16,
    "start_time": "2021-08-24T06:40:30.996Z"
   },
   {
    "duration": 345,
    "start_time": "2021-08-24T06:40:31.014Z"
   },
   {
    "duration": 19,
    "start_time": "2021-08-24T06:40:31.361Z"
   },
   {
    "duration": 15,
    "start_time": "2021-08-24T06:40:31.392Z"
   },
   {
    "duration": 43,
    "start_time": "2021-08-24T06:40:31.408Z"
   },
   {
    "duration": 11,
    "start_time": "2021-08-24T06:40:31.453Z"
   },
   {
    "duration": 254,
    "start_time": "2021-08-24T06:40:31.466Z"
   },
   {
    "duration": 22,
    "start_time": "2021-08-24T06:40:31.722Z"
   },
   {
    "duration": 17,
    "start_time": "2021-08-24T06:40:31.746Z"
   },
   {
    "duration": 30,
    "start_time": "2021-08-24T06:40:31.764Z"
   },
   {
    "duration": 38,
    "start_time": "2021-08-24T06:40:31.795Z"
   },
   {
    "duration": 14,
    "start_time": "2021-08-24T06:40:31.835Z"
   },
   {
    "duration": 280,
    "start_time": "2021-08-24T06:40:31.851Z"
   },
   {
    "duration": 260,
    "start_time": "2021-08-24T06:40:32.133Z"
   },
   {
    "duration": 270,
    "start_time": "2021-08-24T06:40:32.395Z"
   },
   {
    "duration": 9,
    "start_time": "2021-08-24T06:40:32.667Z"
   },
   {
    "duration": 13,
    "start_time": "2021-08-24T06:40:32.678Z"
   },
   {
    "duration": 10,
    "start_time": "2021-08-24T06:40:32.693Z"
   },
   {
    "duration": 5,
    "start_time": "2021-08-24T06:40:32.705Z"
   },
   {
    "duration": 8,
    "start_time": "2021-08-24T06:40:32.712Z"
   },
   {
    "duration": 14,
    "start_time": "2021-08-24T06:40:32.721Z"
   },
   {
    "duration": 2262,
    "start_time": "2021-08-24T06:57:41.498Z"
   },
   {
    "duration": 5,
    "start_time": "2021-08-24T08:09:58.423Z"
   },
   {
    "duration": 10,
    "start_time": "2021-08-24T08:15:14.428Z"
   },
   {
    "duration": 354,
    "start_time": "2021-08-24T08:32:01.688Z"
   },
   {
    "duration": 2009,
    "start_time": "2021-08-24T08:32:09.627Z"
   },
   {
    "duration": 27,
    "start_time": "2021-08-24T08:32:11.639Z"
   },
   {
    "duration": 25,
    "start_time": "2021-08-24T08:32:11.670Z"
   },
   {
    "duration": 19,
    "start_time": "2021-08-24T08:32:11.698Z"
   },
   {
    "duration": 11,
    "start_time": "2021-08-24T08:32:11.720Z"
   },
   {
    "duration": 18,
    "start_time": "2021-08-24T08:32:11.734Z"
   },
   {
    "duration": 120,
    "start_time": "2021-08-24T08:32:11.755Z"
   },
   {
    "duration": 44,
    "start_time": "2021-08-24T08:32:11.879Z"
   },
   {
    "duration": 444,
    "start_time": "2021-08-24T08:32:11.926Z"
   },
   {
    "duration": 81,
    "start_time": "2021-08-24T08:32:12.373Z"
   },
   {
    "duration": 65,
    "start_time": "2021-08-24T08:32:12.458Z"
   },
   {
    "duration": 75,
    "start_time": "2021-08-24T08:32:12.525Z"
   },
   {
    "duration": 62,
    "start_time": "2021-08-24T08:32:12.602Z"
   },
   {
    "duration": 50,
    "start_time": "2021-08-24T08:32:12.667Z"
   },
   {
    "duration": 111,
    "start_time": "2021-08-24T08:32:12.719Z"
   },
   {
    "duration": 399,
    "start_time": "2021-08-24T08:32:12.832Z"
   },
   {
    "duration": 9,
    "start_time": "2021-08-24T08:32:13.234Z"
   },
   {
    "duration": 32,
    "start_time": "2021-08-24T08:32:13.245Z"
   },
   {
    "duration": 41,
    "start_time": "2021-08-24T08:32:13.279Z"
   },
   {
    "duration": 33,
    "start_time": "2021-08-24T08:32:13.322Z"
   },
   {
    "duration": 31,
    "start_time": "2021-08-24T08:32:13.358Z"
   },
   {
    "duration": 24,
    "start_time": "2021-08-24T08:32:13.391Z"
   },
   {
    "duration": 461,
    "start_time": "2021-08-24T08:32:13.421Z"
   },
   {
    "duration": 496,
    "start_time": "2021-08-24T08:32:13.885Z"
   },
   {
    "duration": 499,
    "start_time": "2021-08-24T08:32:14.384Z"
   },
   {
    "duration": 34,
    "start_time": "2021-08-24T08:32:14.886Z"
   },
   {
    "duration": 536,
    "start_time": "2021-08-24T08:32:14.923Z"
   },
   {
    "duration": 49,
    "start_time": "2021-08-24T08:32:15.463Z"
   },
   {
    "duration": 43,
    "start_time": "2021-08-24T08:32:15.514Z"
   },
   {
    "duration": 69,
    "start_time": "2021-08-24T08:32:15.560Z"
   },
   {
    "duration": 15,
    "start_time": "2021-08-24T08:32:15.632Z"
   },
   {
    "duration": 440,
    "start_time": "2021-08-24T08:32:15.649Z"
   },
   {
    "duration": 29,
    "start_time": "2021-08-24T08:32:16.092Z"
   },
   {
    "duration": 19,
    "start_time": "2021-08-24T08:32:16.123Z"
   },
   {
    "duration": 62,
    "start_time": "2021-08-24T08:32:16.145Z"
   },
   {
    "duration": 50,
    "start_time": "2021-08-24T08:32:16.210Z"
   },
   {
    "duration": 45,
    "start_time": "2021-08-24T08:32:16.262Z"
   },
   {
    "duration": 485,
    "start_time": "2021-08-24T08:32:16.309Z"
   },
   {
    "duration": 462,
    "start_time": "2021-08-24T08:32:16.796Z"
   },
   {
    "duration": 469,
    "start_time": "2021-08-24T08:32:17.261Z"
   },
   {
    "duration": 14,
    "start_time": "2021-08-24T08:32:17.732Z"
   },
   {
    "duration": 11,
    "start_time": "2021-08-24T08:32:17.748Z"
   },
   {
    "duration": 41,
    "start_time": "2021-08-24T08:32:17.761Z"
   },
   {
    "duration": 6,
    "start_time": "2021-08-24T08:32:17.805Z"
   },
   {
    "duration": 8,
    "start_time": "2021-08-24T08:32:17.814Z"
   },
   {
    "duration": 17,
    "start_time": "2021-08-24T08:32:17.824Z"
   },
   {
    "duration": 889,
    "start_time": "2021-08-24T08:35:28.240Z"
   },
   {
    "duration": 441,
    "start_time": "2021-08-24T08:36:02.800Z"
   },
   {
    "duration": 388,
    "start_time": "2021-08-24T08:37:03.081Z"
   },
   {
    "duration": 28,
    "start_time": "2021-08-24T08:38:19.651Z"
   },
   {
    "duration": 64,
    "start_time": "2021-08-24T08:41:46.829Z"
   },
   {
    "duration": 64,
    "start_time": "2021-08-24T08:42:47.283Z"
   },
   {
    "duration": 68,
    "start_time": "2021-08-24T08:42:50.879Z"
   },
   {
    "duration": 60,
    "start_time": "2021-08-24T08:42:55.525Z"
   },
   {
    "duration": 1936,
    "start_time": "2021-08-24T08:43:07.985Z"
   },
   {
    "duration": 8452,
    "start_time": "2021-08-24T08:43:14.759Z"
   },
   {
    "duration": 2097,
    "start_time": "2021-08-24T08:43:40.846Z"
   },
   {
    "duration": 29,
    "start_time": "2021-08-24T08:43:42.946Z"
   },
   {
    "duration": 23,
    "start_time": "2021-08-24T08:43:42.979Z"
   },
   {
    "duration": 21,
    "start_time": "2021-08-24T08:43:43.006Z"
   },
   {
    "duration": 10,
    "start_time": "2021-08-24T08:43:43.030Z"
   },
   {
    "duration": 9,
    "start_time": "2021-08-24T08:43:43.043Z"
   },
   {
    "duration": 132,
    "start_time": "2021-08-24T08:43:43.055Z"
   },
   {
    "duration": 39,
    "start_time": "2021-08-24T08:43:43.204Z"
   },
   {
    "duration": 399,
    "start_time": "2021-08-24T08:43:43.247Z"
   },
   {
    "duration": 85,
    "start_time": "2021-08-24T08:43:43.648Z"
   },
   {
    "duration": 65,
    "start_time": "2021-08-24T08:43:43.735Z"
   },
   {
    "duration": 71,
    "start_time": "2021-08-24T08:43:43.803Z"
   },
   {
    "duration": 79,
    "start_time": "2021-08-24T08:43:43.876Z"
   },
   {
    "duration": 82,
    "start_time": "2021-08-24T08:43:43.958Z"
   },
   {
    "duration": 498,
    "start_time": "2021-08-24T08:43:44.042Z"
   },
   {
    "duration": 408,
    "start_time": "2021-08-24T08:43:44.543Z"
   },
   {
    "duration": 10,
    "start_time": "2021-08-24T08:43:44.953Z"
   },
   {
    "duration": 37,
    "start_time": "2021-08-24T08:43:44.965Z"
   },
   {
    "duration": 13,
    "start_time": "2021-08-24T08:43:45.005Z"
   },
   {
    "duration": 43,
    "start_time": "2021-08-24T08:43:45.021Z"
   },
   {
    "duration": 35,
    "start_time": "2021-08-24T08:43:45.067Z"
   },
   {
    "duration": 20,
    "start_time": "2021-08-24T08:43:45.105Z"
   },
   {
    "duration": 486,
    "start_time": "2021-08-24T08:43:45.131Z"
   },
   {
    "duration": 599,
    "start_time": "2021-08-24T08:43:45.620Z"
   },
   {
    "duration": 601,
    "start_time": "2021-08-24T08:43:46.221Z"
   },
   {
    "duration": 27,
    "start_time": "2021-08-24T08:43:46.824Z"
   },
   {
    "duration": 526,
    "start_time": "2021-08-24T08:43:46.854Z"
   },
   {
    "duration": 42,
    "start_time": "2021-08-24T08:43:47.382Z"
   },
   {
    "duration": 26,
    "start_time": "2021-08-24T08:43:47.426Z"
   },
   {
    "duration": 75,
    "start_time": "2021-08-24T08:43:47.455Z"
   },
   {
    "duration": 17,
    "start_time": "2021-08-24T08:43:47.532Z"
   },
   {
    "duration": 441,
    "start_time": "2021-08-24T08:43:47.551Z"
   },
   {
    "duration": 29,
    "start_time": "2021-08-24T08:43:47.995Z"
   },
   {
    "duration": 21,
    "start_time": "2021-08-24T08:43:48.027Z"
   },
   {
    "duration": 66,
    "start_time": "2021-08-24T08:43:48.051Z"
   },
   {
    "duration": 53,
    "start_time": "2021-08-24T08:43:48.120Z"
   },
   {
    "duration": 41,
    "start_time": "2021-08-24T08:43:48.175Z"
   },
   {
    "duration": 479,
    "start_time": "2021-08-24T08:43:48.218Z"
   },
   {
    "duration": 493,
    "start_time": "2021-08-24T08:43:48.699Z"
   },
   {
    "duration": 495,
    "start_time": "2021-08-24T08:43:49.195Z"
   },
   {
    "duration": 18,
    "start_time": "2021-08-24T08:43:49.692Z"
   },
   {
    "duration": 10,
    "start_time": "2021-08-24T08:43:49.712Z"
   },
   {
    "duration": 11,
    "start_time": "2021-08-24T08:43:49.724Z"
   },
   {
    "duration": 12,
    "start_time": "2021-08-24T08:43:49.737Z"
   },
   {
    "duration": 9,
    "start_time": "2021-08-24T08:43:49.751Z"
   },
   {
    "duration": 17,
    "start_time": "2021-08-24T08:43:49.801Z"
   },
   {
    "duration": 407,
    "start_time": "2021-08-24T08:48:01.098Z"
   },
   {
    "duration": 88,
    "start_time": "2021-08-24T08:49:11.518Z"
   },
   {
    "duration": 67,
    "start_time": "2021-08-24T08:49:21.728Z"
   },
   {
    "duration": 70,
    "start_time": "2021-08-24T08:49:26.587Z"
   },
   {
    "duration": 63,
    "start_time": "2021-08-24T08:49:31.929Z"
   },
   {
    "duration": 61,
    "start_time": "2021-08-24T08:49:37.853Z"
   },
   {
    "duration": 495,
    "start_time": "2021-08-24T08:49:41.436Z"
   },
   {
    "duration": 475,
    "start_time": "2021-08-24T08:56:54.741Z"
   },
   {
    "duration": 425,
    "start_time": "2021-08-24T08:59:01.362Z"
   },
   {
    "duration": 590,
    "start_time": "2021-08-24T08:59:30.598Z"
   },
   {
    "duration": 478,
    "start_time": "2021-08-24T08:59:45.510Z"
   },
   {
    "duration": 467,
    "start_time": "2021-08-24T08:59:48.844Z"
   },
   {
    "duration": 425,
    "start_time": "2021-08-24T08:59:57.534Z"
   },
   {
    "duration": 441,
    "start_time": "2021-08-24T09:00:08.208Z"
   },
   {
    "duration": 33,
    "start_time": "2021-08-24T09:00:19.476Z"
   },
   {
    "duration": 34,
    "start_time": "2021-08-24T09:00:26.049Z"
   },
   {
    "duration": 36,
    "start_time": "2021-08-24T09:00:30.755Z"
   },
   {
    "duration": 486,
    "start_time": "2021-08-24T09:00:42.168Z"
   },
   {
    "duration": 426,
    "start_time": "2021-08-24T09:00:51.932Z"
   },
   {
    "duration": 409,
    "start_time": "2021-08-24T09:01:01.118Z"
   },
   {
    "duration": 417,
    "start_time": "2021-08-24T09:01:39.602Z"
   },
   {
    "duration": 449,
    "start_time": "2021-08-24T09:02:07.551Z"
   },
   {
    "duration": 437,
    "start_time": "2021-08-24T09:02:24.592Z"
   },
   {
    "duration": 561,
    "start_time": "2021-08-24T09:02:33.813Z"
   },
   {
    "duration": 447,
    "start_time": "2021-08-24T09:02:40.646Z"
   },
   {
    "duration": 455,
    "start_time": "2021-08-24T09:02:44.764Z"
   },
   {
    "duration": 12,
    "start_time": "2021-08-24T09:03:02.709Z"
   },
   {
    "duration": 471,
    "start_time": "2021-08-24T09:05:34.341Z"
   },
   {
    "duration": 466,
    "start_time": "2021-08-24T09:06:19.716Z"
   },
   {
    "duration": 496,
    "start_time": "2021-08-24T09:07:09.194Z"
   },
   {
    "duration": 503,
    "start_time": "2021-08-24T09:07:20.265Z"
   },
   {
    "duration": 470,
    "start_time": "2021-08-24T09:07:44.861Z"
   },
   {
    "duration": 12,
    "start_time": "2021-08-24T09:09:41.386Z"
   },
   {
    "duration": 5,
    "start_time": "2021-08-24T09:11:11.454Z"
   },
   {
    "duration": 9,
    "start_time": "2021-08-24T09:11:30.756Z"
   },
   {
    "duration": 8,
    "start_time": "2021-08-24T09:11:44.152Z"
   },
   {
    "duration": 458,
    "start_time": "2021-08-24T09:12:48.530Z"
   },
   {
    "duration": 540,
    "start_time": "2021-08-24T09:14:19.311Z"
   },
   {
    "duration": 111,
    "start_time": "2021-08-24T09:14:29.805Z"
   },
   {
    "duration": 193,
    "start_time": "2021-08-24T09:14:38.925Z"
   },
   {
    "duration": 608,
    "start_time": "2021-08-24T09:14:48.247Z"
   },
   {
    "duration": 445,
    "start_time": "2021-08-24T09:15:22.391Z"
   },
   {
    "duration": 456,
    "start_time": "2021-08-24T09:15:31.907Z"
   },
   {
    "duration": 437,
    "start_time": "2021-08-24T09:16:24.763Z"
   },
   {
    "duration": 707,
    "start_time": "2021-08-24T09:16:56.757Z"
   },
   {
    "duration": 469,
    "start_time": "2021-08-24T09:18:18.648Z"
   },
   {
    "duration": 492,
    "start_time": "2021-08-24T09:18:28.869Z"
   },
   {
    "duration": 672,
    "start_time": "2021-08-24T09:18:51.033Z"
   },
   {
    "duration": 631,
    "start_time": "2021-08-24T09:19:31.203Z"
   },
   {
    "duration": 1568,
    "start_time": "2021-08-24T14:52:59.319Z"
   },
   {
    "duration": 20,
    "start_time": "2021-08-24T14:53:00.889Z"
   },
   {
    "duration": 26,
    "start_time": "2021-08-24T14:53:00.911Z"
   },
   {
    "duration": 34,
    "start_time": "2021-08-24T14:53:00.939Z"
   },
   {
    "duration": 11,
    "start_time": "2021-08-24T14:53:00.975Z"
   },
   {
    "duration": 24,
    "start_time": "2021-08-24T14:53:00.988Z"
   },
   {
    "duration": 71,
    "start_time": "2021-08-24T14:53:01.014Z"
   },
   {
    "duration": 22,
    "start_time": "2021-08-24T14:53:01.087Z"
   },
   {
    "duration": 248,
    "start_time": "2021-08-24T14:53:01.111Z"
   },
   {
    "duration": 47,
    "start_time": "2021-08-24T14:53:01.361Z"
   },
   {
    "duration": 51,
    "start_time": "2021-08-24T14:53:01.410Z"
   },
   {
    "duration": 45,
    "start_time": "2021-08-24T14:53:01.462Z"
   },
   {
    "duration": 59,
    "start_time": "2021-08-24T14:53:01.508Z"
   },
   {
    "duration": 38,
    "start_time": "2021-08-24T14:53:01.568Z"
   },
   {
    "duration": 277,
    "start_time": "2021-08-24T14:53:01.608Z"
   },
   {
    "duration": 223,
    "start_time": "2021-08-24T14:53:01.887Z"
   },
   {
    "duration": 6,
    "start_time": "2021-08-24T14:53:02.111Z"
   },
   {
    "duration": 44,
    "start_time": "2021-08-24T14:53:02.118Z"
   },
   {
    "duration": 20,
    "start_time": "2021-08-24T14:53:02.164Z"
   },
   {
    "duration": 23,
    "start_time": "2021-08-24T14:53:02.185Z"
   },
   {
    "duration": 36,
    "start_time": "2021-08-24T14:53:02.210Z"
   },
   {
    "duration": 18,
    "start_time": "2021-08-24T14:53:02.248Z"
   },
   {
    "duration": 285,
    "start_time": "2021-08-24T14:53:02.269Z"
   },
   {
    "duration": 296,
    "start_time": "2021-08-24T14:53:02.556Z"
   },
   {
    "duration": 272,
    "start_time": "2021-08-24T14:53:02.854Z"
   },
   {
    "duration": 21,
    "start_time": "2021-08-24T14:53:03.127Z"
   },
   {
    "duration": 9,
    "start_time": "2021-08-24T14:53:03.151Z"
   },
   {
    "duration": 330,
    "start_time": "2021-08-24T14:53:03.162Z"
   },
   {
    "duration": 21,
    "start_time": "2021-08-24T14:53:03.494Z"
   },
   {
    "duration": 36,
    "start_time": "2021-08-24T14:53:03.516Z"
   },
   {
    "duration": 36,
    "start_time": "2021-08-24T14:53:03.554Z"
   },
   {
    "duration": 11,
    "start_time": "2021-08-24T14:53:03.592Z"
   },
   {
    "duration": 263,
    "start_time": "2021-08-24T14:53:03.604Z"
   },
   {
    "duration": 15,
    "start_time": "2021-08-24T14:53:03.869Z"
   },
   {
    "duration": 20,
    "start_time": "2021-08-24T14:53:03.886Z"
   },
   {
    "duration": 33,
    "start_time": "2021-08-24T14:53:03.908Z"
   },
   {
    "duration": 36,
    "start_time": "2021-08-24T14:53:03.945Z"
   },
   {
    "duration": 14,
    "start_time": "2021-08-24T14:53:03.982Z"
   },
   {
    "duration": 309,
    "start_time": "2021-08-24T14:53:03.998Z"
   },
   {
    "duration": 308,
    "start_time": "2021-08-24T14:53:04.309Z"
   },
   {
    "duration": 303,
    "start_time": "2021-08-24T14:53:04.619Z"
   },
   {
    "duration": 18,
    "start_time": "2021-08-24T14:53:04.923Z"
   },
   {
    "duration": 14,
    "start_time": "2021-08-24T14:53:04.943Z"
   },
   {
    "duration": 27,
    "start_time": "2021-08-24T14:53:04.958Z"
   },
   {
    "duration": 16,
    "start_time": "2021-08-24T14:53:04.986Z"
   },
   {
    "duration": 20,
    "start_time": "2021-08-24T14:53:05.004Z"
   },
   {
    "duration": 32,
    "start_time": "2021-08-24T14:53:05.025Z"
   },
   {
    "duration": 16,
    "start_time": "2021-08-24T14:53:11.572Z"
   },
   {
    "duration": 14,
    "start_time": "2021-08-24T14:53:19.425Z"
   },
   {
    "duration": 15,
    "start_time": "2021-08-24T14:55:34.026Z"
   },
   {
    "duration": 15,
    "start_time": "2021-08-24T14:55:39.296Z"
   },
   {
    "duration": 23,
    "start_time": "2021-08-24T14:55:51.629Z"
   },
   {
    "duration": 19,
    "start_time": "2021-08-24T14:56:07.229Z"
   },
   {
    "duration": 387,
    "start_time": "2021-08-24T20:57:52.627Z"
   },
   {
    "duration": 366,
    "start_time": "2021-08-24T20:58:10.987Z"
   },
   {
    "duration": 1981,
    "start_time": "2021-08-24T20:58:22.303Z"
   },
   {
    "duration": 28,
    "start_time": "2021-08-24T20:58:24.287Z"
   },
   {
    "duration": 22,
    "start_time": "2021-08-24T20:58:24.319Z"
   },
   {
    "duration": 31,
    "start_time": "2021-08-24T20:58:24.345Z"
   },
   {
    "duration": 15,
    "start_time": "2021-08-24T20:58:24.378Z"
   },
   {
    "duration": 11,
    "start_time": "2021-08-24T20:58:24.396Z"
   },
   {
    "duration": 111,
    "start_time": "2021-08-24T20:58:24.410Z"
   },
   {
    "duration": 47,
    "start_time": "2021-08-24T20:58:24.526Z"
   },
   {
    "duration": 395,
    "start_time": "2021-08-24T20:58:24.577Z"
   },
   {
    "duration": 69,
    "start_time": "2021-08-24T20:58:24.975Z"
   },
   {
    "duration": 63,
    "start_time": "2021-08-24T20:58:25.047Z"
   },
   {
    "duration": 90,
    "start_time": "2021-08-24T20:58:25.113Z"
   },
   {
    "duration": 73,
    "start_time": "2021-08-24T20:58:25.205Z"
   },
   {
    "duration": 60,
    "start_time": "2021-08-24T20:58:25.280Z"
   },
   {
    "duration": 471,
    "start_time": "2021-08-24T20:58:25.342Z"
   },
   {
    "duration": 377,
    "start_time": "2021-08-24T20:58:25.815Z"
   },
   {
    "duration": 13,
    "start_time": "2021-08-24T20:58:26.195Z"
   },
   {
    "duration": 53,
    "start_time": "2021-08-24T20:58:26.211Z"
   },
   {
    "duration": 15,
    "start_time": "2021-08-24T20:58:26.267Z"
   },
   {
    "duration": 30,
    "start_time": "2021-08-24T20:58:26.285Z"
   },
   {
    "duration": 45,
    "start_time": "2021-08-24T20:58:26.318Z"
   },
   {
    "duration": 12,
    "start_time": "2021-08-24T20:58:26.366Z"
   },
   {
    "duration": 458,
    "start_time": "2021-08-24T20:58:26.384Z"
   },
   {
    "duration": 475,
    "start_time": "2021-08-24T20:58:26.845Z"
   },
   {
    "duration": 468,
    "start_time": "2021-08-24T20:58:27.323Z"
   },
   {
    "duration": 27,
    "start_time": "2021-08-24T20:58:27.793Z"
   },
   {
    "duration": 547,
    "start_time": "2021-08-24T20:58:27.822Z"
   },
   {
    "duration": -100,
    "start_time": "2021-08-24T20:58:28.472Z"
   },
   {
    "duration": -138,
    "start_time": "2021-08-24T20:58:28.512Z"
   },
   {
    "duration": -143,
    "start_time": "2021-08-24T20:58:28.518Z"
   },
   {
    "duration": -145,
    "start_time": "2021-08-24T20:58:28.522Z"
   },
   {
    "duration": -150,
    "start_time": "2021-08-24T20:58:28.528Z"
   },
   {
    "duration": -154,
    "start_time": "2021-08-24T20:58:28.533Z"
   },
   {
    "duration": -156,
    "start_time": "2021-08-24T20:58:28.537Z"
   },
   {
    "duration": -159,
    "start_time": "2021-08-24T20:58:28.542Z"
   },
   {
    "duration": -163,
    "start_time": "2021-08-24T20:58:28.547Z"
   },
   {
    "duration": -165,
    "start_time": "2021-08-24T20:58:28.551Z"
   },
   {
    "duration": -170,
    "start_time": "2021-08-24T20:58:28.557Z"
   },
   {
    "duration": -173,
    "start_time": "2021-08-24T20:58:28.562Z"
   },
   {
    "duration": -177,
    "start_time": "2021-08-24T20:58:28.567Z"
   },
   {
    "duration": -180,
    "start_time": "2021-08-24T20:58:28.571Z"
   },
   {
    "duration": -183,
    "start_time": "2021-08-24T20:58:28.576Z"
   },
   {
    "duration": -186,
    "start_time": "2021-08-24T20:58:28.581Z"
   },
   {
    "duration": -196,
    "start_time": "2021-08-24T20:58:28.592Z"
   },
   {
    "duration": -199,
    "start_time": "2021-08-24T20:58:28.597Z"
   },
   {
    "duration": -203,
    "start_time": "2021-08-24T20:58:28.602Z"
   },
   {
    "duration": -207,
    "start_time": "2021-08-24T20:58:28.607Z"
   },
   {
    "duration": 10,
    "start_time": "2021-08-24T21:03:21.381Z"
   },
   {
    "duration": 9,
    "start_time": "2021-08-24T21:03:29.332Z"
   },
   {
    "duration": 9,
    "start_time": "2021-08-24T21:03:50.325Z"
   },
   {
    "duration": 8,
    "start_time": "2021-08-24T21:03:54.422Z"
   },
   {
    "duration": 10,
    "start_time": "2021-08-24T21:03:57.996Z"
   },
   {
    "duration": 11,
    "start_time": "2021-08-24T21:04:15.073Z"
   },
   {
    "duration": 13,
    "start_time": "2021-08-24T21:04:58.442Z"
   },
   {
    "duration": 11,
    "start_time": "2021-08-24T21:05:09.741Z"
   },
   {
    "duration": 13,
    "start_time": "2021-08-24T21:05:17.890Z"
   },
   {
    "duration": 13,
    "start_time": "2021-08-24T21:05:48.793Z"
   },
   {
    "duration": 11,
    "start_time": "2021-08-24T21:06:05.017Z"
   },
   {
    "duration": 12,
    "start_time": "2021-08-24T21:07:27.893Z"
   },
   {
    "duration": 24,
    "start_time": "2021-08-24T21:09:00.688Z"
   },
   {
    "duration": 536,
    "start_time": "2021-08-24T21:10:00.061Z"
   },
   {
    "duration": 92,
    "start_time": "2021-08-24T21:10:23.216Z"
   },
   {
    "duration": 16,
    "start_time": "2021-08-24T21:10:47.220Z"
   },
   {
    "duration": 15,
    "start_time": "2021-08-24T21:12:16.951Z"
   },
   {
    "duration": 7,
    "start_time": "2021-08-24T21:13:19.982Z"
   },
   {
    "duration": 8,
    "start_time": "2021-08-24T21:13:39.123Z"
   },
   {
    "duration": 17,
    "start_time": "2021-08-24T21:13:50.903Z"
   },
   {
    "duration": 1930,
    "start_time": "2021-08-24T21:14:39.414Z"
   },
   {
    "duration": 29,
    "start_time": "2021-08-24T21:14:41.347Z"
   },
   {
    "duration": 21,
    "start_time": "2021-08-24T21:14:41.383Z"
   },
   {
    "duration": 19,
    "start_time": "2021-08-24T21:14:41.407Z"
   },
   {
    "duration": 8,
    "start_time": "2021-08-24T21:14:41.463Z"
   },
   {
    "duration": 11,
    "start_time": "2021-08-24T21:14:41.474Z"
   },
   {
    "duration": 113,
    "start_time": "2021-08-24T21:14:41.489Z"
   },
   {
    "duration": 37,
    "start_time": "2021-08-24T21:14:41.605Z"
   },
   {
    "duration": 386,
    "start_time": "2021-08-24T21:14:41.644Z"
   },
   {
    "duration": 90,
    "start_time": "2021-08-24T21:14:42.033Z"
   },
   {
    "duration": 61,
    "start_time": "2021-08-24T21:14:42.126Z"
   },
   {
    "duration": 80,
    "start_time": "2021-08-24T21:14:42.190Z"
   },
   {
    "duration": 61,
    "start_time": "2021-08-24T21:14:42.272Z"
   },
   {
    "duration": 90,
    "start_time": "2021-08-24T21:14:42.336Z"
   },
   {
    "duration": 520,
    "start_time": "2021-08-24T21:14:42.429Z"
   },
   {
    "duration": 375,
    "start_time": "2021-08-24T21:14:42.952Z"
   },
   {
    "duration": 10,
    "start_time": "2021-08-24T21:14:43.329Z"
   },
   {
    "duration": 33,
    "start_time": "2021-08-24T21:14:43.341Z"
   },
   {
    "duration": 15,
    "start_time": "2021-08-24T21:14:43.376Z"
   },
   {
    "duration": 33,
    "start_time": "2021-08-24T21:14:43.393Z"
   },
   {
    "duration": 35,
    "start_time": "2021-08-24T21:14:43.429Z"
   },
   {
    "duration": 11,
    "start_time": "2021-08-24T21:14:43.470Z"
   },
   {
    "duration": 502,
    "start_time": "2021-08-24T21:14:43.485Z"
   },
   {
    "duration": 511,
    "start_time": "2021-08-24T21:14:43.989Z"
   },
   {
    "duration": 484,
    "start_time": "2021-08-24T21:14:44.503Z"
   },
   {
    "duration": 27,
    "start_time": "2021-08-24T21:14:44.990Z"
   },
   {
    "duration": 43,
    "start_time": "2021-08-24T21:14:45.019Z"
   },
   {
    "duration": 510,
    "start_time": "2021-08-24T21:14:45.065Z"
   },
   {
    "duration": 32,
    "start_time": "2021-08-24T21:14:45.578Z"
   },
   {
    "duration": 51,
    "start_time": "2021-08-24T21:14:45.613Z"
   },
   {
    "duration": 76,
    "start_time": "2021-08-24T21:14:45.666Z"
   },
   {
    "duration": 21,
    "start_time": "2021-08-24T21:14:45.762Z"
   },
   {
    "duration": 425,
    "start_time": "2021-08-24T21:14:45.786Z"
   },
   {
    "duration": 25,
    "start_time": "2021-08-24T21:14:46.213Z"
   },
   {
    "duration": 40,
    "start_time": "2021-08-24T21:14:46.240Z"
   },
   {
    "duration": 42,
    "start_time": "2021-08-24T21:14:46.283Z"
   },
   {
    "duration": 64,
    "start_time": "2021-08-24T21:14:46.327Z"
   },
   {
    "duration": 24,
    "start_time": "2021-08-24T21:14:46.393Z"
   },
   {
    "duration": 516,
    "start_time": "2021-08-24T21:14:46.420Z"
   },
   {
    "duration": 504,
    "start_time": "2021-08-24T21:14:46.939Z"
   },
   {
    "duration": 523,
    "start_time": "2021-08-24T21:14:47.445Z"
   },
   {
    "duration": 14,
    "start_time": "2021-08-24T21:14:47.972Z"
   },
   {
    "duration": 16,
    "start_time": "2021-08-24T21:14:47.988Z"
   },
   {
    "duration": 11,
    "start_time": "2021-08-24T21:14:48.006Z"
   },
   {
    "duration": 43,
    "start_time": "2021-08-24T21:14:48.019Z"
   },
   {
    "duration": 10,
    "start_time": "2021-08-24T21:14:48.065Z"
   },
   {
    "duration": 24,
    "start_time": "2021-08-24T21:14:48.078Z"
   },
   {
    "duration": 506,
    "start_time": "2021-08-24T21:20:11.692Z"
   },
   {
    "duration": 629,
    "start_time": "2021-08-24T21:20:22.683Z"
   },
   {
    "duration": 475,
    "start_time": "2021-08-24T21:20:33.024Z"
   },
   {
    "duration": 520,
    "start_time": "2021-08-24T21:20:39.852Z"
   },
   {
    "duration": 496,
    "start_time": "2021-08-24T21:20:46.155Z"
   },
   {
    "duration": 509,
    "start_time": "2021-08-24T21:20:53.531Z"
   },
   {
    "duration": 822,
    "start_time": "2021-08-24T21:21:33.909Z"
   },
   {
    "duration": 386,
    "start_time": "2021-08-24T21:38:00.746Z"
   },
   {
    "duration": 713,
    "start_time": "2021-08-24T21:38:10.970Z"
   },
   {
    "duration": 801,
    "start_time": "2021-08-24T21:39:26.477Z"
   },
   {
    "duration": 697,
    "start_time": "2021-08-24T21:39:39.708Z"
   },
   {
    "duration": 56,
    "start_time": "2021-08-24T21:40:02.237Z"
   },
   {
    "duration": 133,
    "start_time": "2021-08-24T21:41:09.710Z"
   },
   {
    "duration": 336,
    "start_time": "2021-08-24T21:41:16.552Z"
   },
   {
    "duration": 355,
    "start_time": "2021-08-24T21:49:51.860Z"
   },
   {
    "duration": 394,
    "start_time": "2021-08-24T21:52:00.344Z"
   },
   {
    "duration": 2031,
    "start_time": "2021-08-24T21:52:11.335Z"
   },
   {
    "duration": 27,
    "start_time": "2021-08-24T21:52:13.370Z"
   },
   {
    "duration": 21,
    "start_time": "2021-08-24T21:52:13.400Z"
   },
   {
    "duration": 39,
    "start_time": "2021-08-24T21:52:13.423Z"
   },
   {
    "duration": 9,
    "start_time": "2021-08-24T21:52:13.465Z"
   },
   {
    "duration": 11,
    "start_time": "2021-08-24T21:52:13.476Z"
   },
   {
    "duration": 116,
    "start_time": "2021-08-24T21:52:13.489Z"
   },
   {
    "duration": 35,
    "start_time": "2021-08-24T21:52:13.608Z"
   },
   {
    "duration": 381,
    "start_time": "2021-08-24T21:52:13.646Z"
   },
   {
    "duration": 78,
    "start_time": "2021-08-24T21:52:14.029Z"
   },
   {
    "duration": 65,
    "start_time": "2021-08-24T21:52:14.110Z"
   },
   {
    "duration": 64,
    "start_time": "2021-08-24T21:52:14.178Z"
   },
   {
    "duration": 76,
    "start_time": "2021-08-24T21:52:14.244Z"
   },
   {
    "duration": 77,
    "start_time": "2021-08-24T21:52:14.323Z"
   },
   {
    "duration": 461,
    "start_time": "2021-08-24T21:52:14.402Z"
   },
   {
    "duration": 374,
    "start_time": "2021-08-24T21:52:14.866Z"
   },
   {
    "duration": 20,
    "start_time": "2021-08-24T21:52:15.243Z"
   },
   {
    "duration": 19,
    "start_time": "2021-08-24T21:52:15.265Z"
   },
   {
    "duration": 26,
    "start_time": "2021-08-24T21:52:15.287Z"
   },
   {
    "duration": 49,
    "start_time": "2021-08-24T21:52:15.315Z"
   },
   {
    "duration": 12,
    "start_time": "2021-08-24T21:52:15.366Z"
   },
   {
    "duration": 17,
    "start_time": "2021-08-24T21:52:15.380Z"
   },
   {
    "duration": 450,
    "start_time": "2021-08-24T21:52:15.403Z"
   },
   {
    "duration": 476,
    "start_time": "2021-08-24T21:52:15.861Z"
   },
   {
    "duration": 469,
    "start_time": "2021-08-24T21:52:16.339Z"
   },
   {
    "duration": 25,
    "start_time": "2021-08-24T21:52:16.811Z"
   },
   {
    "duration": 35,
    "start_time": "2021-08-24T21:52:16.839Z"
   },
   {
    "duration": 516,
    "start_time": "2021-08-24T21:52:16.876Z"
   },
   {
    "duration": 35,
    "start_time": "2021-08-24T21:52:17.394Z"
   },
   {
    "duration": 48,
    "start_time": "2021-08-24T21:52:17.432Z"
   },
   {
    "duration": 54,
    "start_time": "2021-08-24T21:52:17.482Z"
   },
   {
    "duration": 18,
    "start_time": "2021-08-24T21:52:17.561Z"
   },
   {
    "duration": 416,
    "start_time": "2021-08-24T21:52:17.582Z"
   },
   {
    "duration": 23,
    "start_time": "2021-08-24T21:52:18.000Z"
   },
   {
    "duration": 39,
    "start_time": "2021-08-24T21:52:18.025Z"
   },
   {
    "duration": 30,
    "start_time": "2021-08-24T21:52:18.066Z"
   },
   {
    "duration": 74,
    "start_time": "2021-08-24T21:52:18.099Z"
   },
   {
    "duration": 23,
    "start_time": "2021-08-24T21:52:18.176Z"
   },
   {
    "duration": 494,
    "start_time": "2021-08-24T21:52:18.202Z"
   },
   {
    "duration": -200,
    "start_time": "2021-08-24T21:52:18.899Z"
   },
   {
    "duration": -206,
    "start_time": "2021-08-24T21:52:18.907Z"
   },
   {
    "duration": -212,
    "start_time": "2021-08-24T21:52:18.914Z"
   },
   {
    "duration": -226,
    "start_time": "2021-08-24T21:52:18.930Z"
   },
   {
    "duration": -231,
    "start_time": "2021-08-24T21:52:18.937Z"
   },
   {
    "duration": -237,
    "start_time": "2021-08-24T21:52:18.944Z"
   },
   {
    "duration": -243,
    "start_time": "2021-08-24T21:52:18.952Z"
   },
   {
    "duration": -247,
    "start_time": "2021-08-24T21:52:18.958Z"
   },
   {
    "duration": 485,
    "start_time": "2021-08-24T21:53:45.692Z"
   },
   {
    "duration": 1968,
    "start_time": "2021-08-24T21:53:56.500Z"
   },
   {
    "duration": 28,
    "start_time": "2021-08-24T21:53:58.471Z"
   },
   {
    "duration": 21,
    "start_time": "2021-08-24T21:53:58.502Z"
   },
   {
    "duration": 46,
    "start_time": "2021-08-24T21:53:58.526Z"
   },
   {
    "duration": 18,
    "start_time": "2021-08-24T21:53:58.574Z"
   },
   {
    "duration": 14,
    "start_time": "2021-08-24T21:53:58.595Z"
   },
   {
    "duration": 100,
    "start_time": "2021-08-24T21:53:58.611Z"
   },
   {
    "duration": 35,
    "start_time": "2021-08-24T21:53:58.715Z"
   },
   {
    "duration": 387,
    "start_time": "2021-08-24T21:53:58.762Z"
   },
   {
    "duration": 73,
    "start_time": "2021-08-24T21:53:59.152Z"
   },
   {
    "duration": 72,
    "start_time": "2021-08-24T21:53:59.228Z"
   },
   {
    "duration": 73,
    "start_time": "2021-08-24T21:53:59.303Z"
   },
   {
    "duration": 64,
    "start_time": "2021-08-24T21:53:59.378Z"
   },
   {
    "duration": 60,
    "start_time": "2021-08-24T21:53:59.462Z"
   },
   {
    "duration": 447,
    "start_time": "2021-08-24T21:53:59.524Z"
   },
   {
    "duration": 380,
    "start_time": "2021-08-24T21:53:59.973Z"
   },
   {
    "duration": 14,
    "start_time": "2021-08-24T21:54:00.355Z"
   },
   {
    "duration": 26,
    "start_time": "2021-08-24T21:54:00.372Z"
   },
   {
    "duration": 28,
    "start_time": "2021-08-24T21:54:00.401Z"
   },
   {
    "duration": 50,
    "start_time": "2021-08-24T21:54:00.432Z"
   },
   {
    "duration": 27,
    "start_time": "2021-08-24T21:54:00.484Z"
   },
   {
    "duration": 24,
    "start_time": "2021-08-24T21:54:00.514Z"
   },
   {
    "duration": 454,
    "start_time": "2021-08-24T21:54:00.543Z"
   },
   {
    "duration": 499,
    "start_time": "2021-08-24T21:54:01.000Z"
   },
   {
    "duration": 497,
    "start_time": "2021-08-24T21:54:01.502Z"
   },
   {
    "duration": 26,
    "start_time": "2021-08-24T21:54:02.002Z"
   },
   {
    "duration": 61,
    "start_time": "2021-08-24T21:54:02.031Z"
   },
   {
    "duration": 514,
    "start_time": "2021-08-24T21:54:02.094Z"
   },
   {
    "duration": 35,
    "start_time": "2021-08-24T21:54:02.610Z"
   },
   {
    "duration": 26,
    "start_time": "2021-08-24T21:54:02.662Z"
   },
   {
    "duration": 73,
    "start_time": "2021-08-24T21:54:02.690Z"
   },
   {
    "duration": 15,
    "start_time": "2021-08-24T21:54:02.766Z"
   },
   {
    "duration": 407,
    "start_time": "2021-08-24T21:54:02.784Z"
   },
   {
    "duration": 23,
    "start_time": "2021-08-24T21:54:03.194Z"
   },
   {
    "duration": 48,
    "start_time": "2021-08-24T21:54:03.221Z"
   },
   {
    "duration": 33,
    "start_time": "2021-08-24T21:54:03.272Z"
   },
   {
    "duration": 81,
    "start_time": "2021-08-24T21:54:03.308Z"
   },
   {
    "duration": 25,
    "start_time": "2021-08-24T21:54:03.391Z"
   },
   {
    "duration": 534,
    "start_time": "2021-08-24T21:54:03.419Z"
   },
   {
    "duration": 550,
    "start_time": "2021-08-24T21:54:03.962Z"
   },
   {
    "duration": 567,
    "start_time": "2021-08-24T21:54:04.514Z"
   },
   {
    "duration": 17,
    "start_time": "2021-08-24T21:54:05.084Z"
   },
   {
    "duration": 13,
    "start_time": "2021-08-24T21:54:05.105Z"
   },
   {
    "duration": 42,
    "start_time": "2021-08-24T21:54:05.120Z"
   },
   {
    "duration": 7,
    "start_time": "2021-08-24T21:54:05.165Z"
   },
   {
    "duration": 12,
    "start_time": "2021-08-24T21:54:05.174Z"
   },
   {
    "duration": 25,
    "start_time": "2021-08-24T21:54:05.189Z"
   },
   {
    "duration": 521,
    "start_time": "2021-08-24T21:56:42.024Z"
   },
   {
    "duration": 474,
    "start_time": "2021-08-24T22:02:35.159Z"
   },
   {
    "duration": 16,
    "start_time": "2021-08-24T22:02:46.152Z"
   },
   {
    "duration": 562,
    "start_time": "2021-08-24T22:14:09.187Z"
   },
   {
    "duration": 118,
    "start_time": "2021-08-24T22:14:16.257Z"
   },
   {
    "duration": 459,
    "start_time": "2021-08-24T22:14:20.174Z"
   },
   {
    "duration": 565,
    "start_time": "2021-08-24T22:14:39.524Z"
   },
   {
    "duration": 495,
    "start_time": "2021-08-24T22:17:09.703Z"
   },
   {
    "duration": 473,
    "start_time": "2021-08-24T22:17:14.174Z"
   },
   {
    "duration": 471,
    "start_time": "2021-08-24T22:17:29.941Z"
   },
   {
    "duration": 2238,
    "start_time": "2021-08-25T08:36:59.024Z"
   },
   {
    "duration": 34,
    "start_time": "2021-08-25T08:37:01.266Z"
   },
   {
    "duration": 37,
    "start_time": "2021-08-25T08:37:01.304Z"
   },
   {
    "duration": 35,
    "start_time": "2021-08-25T08:37:01.357Z"
   },
   {
    "duration": 48,
    "start_time": "2021-08-25T08:37:01.396Z"
   },
   {
    "duration": 39,
    "start_time": "2021-08-25T08:37:01.446Z"
   },
   {
    "duration": 142,
    "start_time": "2021-08-25T08:37:01.488Z"
   },
   {
    "duration": 52,
    "start_time": "2021-08-25T08:37:01.635Z"
   },
   {
    "duration": 454,
    "start_time": "2021-08-25T08:37:01.690Z"
   },
   {
    "duration": 110,
    "start_time": "2021-08-25T08:37:02.146Z"
   },
   {
    "duration": 58,
    "start_time": "2021-08-25T08:37:02.259Z"
   },
   {
    "duration": 96,
    "start_time": "2021-08-25T08:37:02.319Z"
   },
   {
    "duration": 92,
    "start_time": "2021-08-25T08:37:02.417Z"
   },
   {
    "duration": 83,
    "start_time": "2021-08-25T08:37:02.511Z"
   },
   {
    "duration": 862,
    "start_time": "2021-08-25T08:37:02.597Z"
   },
   {
    "duration": 484,
    "start_time": "2021-08-25T08:37:03.462Z"
   },
   {
    "duration": 12,
    "start_time": "2021-08-25T08:37:03.948Z"
   },
   {
    "duration": 51,
    "start_time": "2021-08-25T08:37:03.963Z"
   },
   {
    "duration": 25,
    "start_time": "2021-08-25T08:37:04.017Z"
   },
   {
    "duration": 33,
    "start_time": "2021-08-25T08:37:04.044Z"
   },
   {
    "duration": 20,
    "start_time": "2021-08-25T08:37:04.080Z"
   },
   {
    "duration": 15,
    "start_time": "2021-08-25T08:37:04.103Z"
   },
   {
    "duration": 520,
    "start_time": "2021-08-25T08:37:04.123Z"
   },
   {
    "duration": 521,
    "start_time": "2021-08-25T08:37:04.655Z"
   },
   {
    "duration": 510,
    "start_time": "2021-08-25T08:37:05.179Z"
   },
   {
    "duration": 31,
    "start_time": "2021-08-25T08:37:05.692Z"
   },
   {
    "duration": 38,
    "start_time": "2021-08-25T08:37:05.725Z"
   },
   {
    "duration": 578,
    "start_time": "2021-08-25T08:37:05.766Z"
   },
   {
    "duration": 45,
    "start_time": "2021-08-25T08:37:06.354Z"
   },
   {
    "duration": 29,
    "start_time": "2021-08-25T08:37:06.402Z"
   },
   {
    "duration": 63,
    "start_time": "2021-08-25T08:37:06.456Z"
   },
   {
    "duration": 38,
    "start_time": "2021-08-25T08:37:06.521Z"
   },
   {
    "duration": 470,
    "start_time": "2021-08-25T08:37:06.562Z"
   },
   {
    "duration": 38,
    "start_time": "2021-08-25T08:37:07.035Z"
   },
   {
    "duration": 23,
    "start_time": "2021-08-25T08:37:07.075Z"
   },
   {
    "duration": 30,
    "start_time": "2021-08-25T08:37:07.101Z"
   },
   {
    "duration": 76,
    "start_time": "2021-08-25T08:37:07.155Z"
   },
   {
    "duration": 48,
    "start_time": "2021-08-25T08:37:07.235Z"
   },
   {
    "duration": 854,
    "start_time": "2021-08-25T08:37:07.286Z"
   },
   {
    "duration": 807,
    "start_time": "2021-08-25T08:37:08.143Z"
   },
   {
    "duration": 854,
    "start_time": "2021-08-25T08:37:08.955Z"
   },
   {
    "duration": 20,
    "start_time": "2021-08-25T08:37:09.812Z"
   },
   {
    "duration": 31,
    "start_time": "2021-08-25T08:37:09.835Z"
   },
   {
    "duration": 19,
    "start_time": "2021-08-25T08:37:09.869Z"
   },
   {
    "duration": 8,
    "start_time": "2021-08-25T08:37:09.893Z"
   },
   {
    "duration": 14,
    "start_time": "2021-08-25T08:37:09.903Z"
   },
   {
    "duration": 43,
    "start_time": "2021-08-25T08:37:09.925Z"
   },
   {
    "duration": 1221,
    "start_time": "2021-08-25T08:38:07.611Z"
   },
   {
    "duration": 1549,
    "start_time": "2021-08-25T08:38:21.227Z"
   },
   {
    "duration": 14,
    "start_time": "2021-08-25T08:38:55.127Z"
   },
   {
    "duration": 23,
    "start_time": "2021-08-25T08:39:28.088Z"
   },
   {
    "duration": 25,
    "start_time": "2021-08-25T08:41:56.432Z"
   },
   {
    "duration": 34,
    "start_time": "2021-08-25T08:44:15.334Z"
   },
   {
    "duration": 5,
    "start_time": "2021-08-25T08:44:38.200Z"
   },
   {
    "duration": 29,
    "start_time": "2021-08-25T08:44:52.090Z"
   },
   {
    "duration": 26,
    "start_time": "2021-08-25T08:44:57.880Z"
   },
   {
    "duration": 11,
    "start_time": "2021-08-25T08:45:11.596Z"
   },
   {
    "duration": 13,
    "start_time": "2021-08-25T08:45:16.179Z"
   },
   {
    "duration": 190,
    "start_time": "2021-08-25T08:45:36.174Z"
   },
   {
    "duration": 11,
    "start_time": "2021-08-25T08:45:45.312Z"
   },
   {
    "duration": 25,
    "start_time": "2021-08-25T08:46:47.790Z"
   },
   {
    "duration": 967,
    "start_time": "2021-08-25T08:48:37.115Z"
   },
   {
    "duration": 435,
    "start_time": "2021-08-25T08:50:32.774Z"
   },
   {
    "duration": 701,
    "start_time": "2021-08-25T08:50:39.155Z"
   },
   {
    "duration": 641,
    "start_time": "2021-08-25T08:50:55.486Z"
   },
   {
    "duration": 641,
    "start_time": "2021-08-25T08:51:43.641Z"
   },
   {
    "duration": 687,
    "start_time": "2021-08-25T08:52:21.407Z"
   },
   {
    "duration": 13,
    "start_time": "2021-08-25T08:55:42.362Z"
   },
   {
    "duration": 317,
    "start_time": "2021-08-25T08:57:38.172Z"
   },
   {
    "duration": 8,
    "start_time": "2021-08-25T09:01:13.401Z"
   },
   {
    "duration": 817,
    "start_time": "2021-08-25T09:17:46.552Z"
   },
   {
    "duration": 2312,
    "start_time": "2021-08-25T09:17:58.938Z"
   },
   {
    "duration": 41,
    "start_time": "2021-08-25T09:18:01.253Z"
   },
   {
    "duration": 47,
    "start_time": "2021-08-25T09:18:01.297Z"
   },
   {
    "duration": 57,
    "start_time": "2021-08-25T09:18:01.347Z"
   },
   {
    "duration": 62,
    "start_time": "2021-08-25T09:18:01.407Z"
   },
   {
    "duration": 79,
    "start_time": "2021-08-25T09:18:01.472Z"
   },
   {
    "duration": 175,
    "start_time": "2021-08-25T09:18:01.555Z"
   },
   {
    "duration": 49,
    "start_time": "2021-08-25T09:18:01.734Z"
   },
   {
    "duration": 408,
    "start_time": "2021-08-25T09:18:01.787Z"
   },
   {
    "duration": 88,
    "start_time": "2021-08-25T09:18:02.198Z"
   },
   {
    "duration": 84,
    "start_time": "2021-08-25T09:18:02.289Z"
   },
   {
    "duration": 103,
    "start_time": "2021-08-25T09:18:02.376Z"
   },
   {
    "duration": 105,
    "start_time": "2021-08-25T09:18:02.482Z"
   },
   {
    "duration": 724,
    "start_time": "2021-08-25T09:18:02.590Z"
   },
   {
    "duration": -138,
    "start_time": "2021-08-25T09:18:03.458Z"
   },
   {
    "duration": -144,
    "start_time": "2021-08-25T09:18:03.466Z"
   },
   {
    "duration": -147,
    "start_time": "2021-08-25T09:18:03.471Z"
   },
   {
    "duration": -151,
    "start_time": "2021-08-25T09:18:03.477Z"
   },
   {
    "duration": -157,
    "start_time": "2021-08-25T09:18:03.485Z"
   },
   {
    "duration": -162,
    "start_time": "2021-08-25T09:18:03.492Z"
   },
   {
    "duration": -166,
    "start_time": "2021-08-25T09:18:03.498Z"
   },
   {
    "duration": -183,
    "start_time": "2021-08-25T09:18:03.516Z"
   },
   {
    "duration": -187,
    "start_time": "2021-08-25T09:18:03.522Z"
   },
   {
    "duration": -192,
    "start_time": "2021-08-25T09:18:03.529Z"
   },
   {
    "duration": -197,
    "start_time": "2021-08-25T09:18:03.535Z"
   },
   {
    "duration": -202,
    "start_time": "2021-08-25T09:18:03.542Z"
   },
   {
    "duration": -205,
    "start_time": "2021-08-25T09:18:03.547Z"
   },
   {
    "duration": -211,
    "start_time": "2021-08-25T09:18:03.554Z"
   },
   {
    "duration": -214,
    "start_time": "2021-08-25T09:18:03.559Z"
   },
   {
    "duration": -218,
    "start_time": "2021-08-25T09:18:03.565Z"
   },
   {
    "duration": -222,
    "start_time": "2021-08-25T09:18:03.570Z"
   },
   {
    "duration": -225,
    "start_time": "2021-08-25T09:18:03.575Z"
   },
   {
    "duration": -228,
    "start_time": "2021-08-25T09:18:03.580Z"
   },
   {
    "duration": -232,
    "start_time": "2021-08-25T09:18:03.585Z"
   },
   {
    "duration": -235,
    "start_time": "2021-08-25T09:18:03.590Z"
   },
   {
    "duration": -238,
    "start_time": "2021-08-25T09:18:03.595Z"
   },
   {
    "duration": -242,
    "start_time": "2021-08-25T09:18:03.600Z"
   },
   {
    "duration": -247,
    "start_time": "2021-08-25T09:18:03.606Z"
   },
   {
    "duration": -251,
    "start_time": "2021-08-25T09:18:03.612Z"
   },
   {
    "duration": -266,
    "start_time": "2021-08-25T09:18:03.628Z"
   },
   {
    "duration": -269,
    "start_time": "2021-08-25T09:18:03.633Z"
   },
   {
    "duration": -274,
    "start_time": "2021-08-25T09:18:03.639Z"
   },
   {
    "duration": -278,
    "start_time": "2021-08-25T09:18:03.644Z"
   },
   {
    "duration": -282,
    "start_time": "2021-08-25T09:18:03.650Z"
   },
   {
    "duration": -286,
    "start_time": "2021-08-25T09:18:03.655Z"
   },
   {
    "duration": -289,
    "start_time": "2021-08-25T09:18:03.660Z"
   },
   {
    "duration": -287,
    "start_time": "2021-08-25T09:18:03.665Z"
   },
   {
    "duration": -291,
    "start_time": "2021-08-25T09:18:03.670Z"
   },
   {
    "duration": 41,
    "start_time": "2021-08-25T09:31:24.430Z"
   },
   {
    "duration": 22161,
    "start_time": "2021-08-25T09:31:30.123Z"
   },
   {
    "duration": 2438,
    "start_time": "2021-08-25T09:32:07.394Z"
   },
   {
    "duration": 36,
    "start_time": "2021-08-25T09:32:09.835Z"
   },
   {
    "duration": 28,
    "start_time": "2021-08-25T09:32:09.875Z"
   },
   {
    "duration": 23,
    "start_time": "2021-08-25T09:32:09.906Z"
   },
   {
    "duration": 30,
    "start_time": "2021-08-25T09:32:09.932Z"
   },
   {
    "duration": 16,
    "start_time": "2021-08-25T09:32:09.966Z"
   },
   {
    "duration": 124,
    "start_time": "2021-08-25T09:32:09.985Z"
   },
   {
    "duration": 52,
    "start_time": "2021-08-25T09:32:10.113Z"
   },
   {
    "duration": 425,
    "start_time": "2021-08-25T09:32:10.168Z"
   },
   {
    "duration": 97,
    "start_time": "2021-08-25T09:32:10.596Z"
   },
   {
    "duration": 73,
    "start_time": "2021-08-25T09:32:10.696Z"
   },
   {
    "duration": 100,
    "start_time": "2021-08-25T09:32:10.772Z"
   },
   {
    "duration": 83,
    "start_time": "2021-08-25T09:32:10.875Z"
   },
   {
    "duration": 105,
    "start_time": "2021-08-25T09:32:10.961Z"
   },
   {
    "duration": 541,
    "start_time": "2021-08-25T09:32:11.069Z"
   },
   {
    "duration": 452,
    "start_time": "2021-08-25T09:32:11.612Z"
   },
   {
    "duration": 12,
    "start_time": "2021-08-25T09:32:12.067Z"
   },
   {
    "duration": 34,
    "start_time": "2021-08-25T09:32:12.082Z"
   },
   {
    "duration": 13,
    "start_time": "2021-08-25T09:32:12.119Z"
   },
   {
    "duration": 58,
    "start_time": "2021-08-25T09:32:12.134Z"
   },
   {
    "duration": 24,
    "start_time": "2021-08-25T09:32:12.194Z"
   },
   {
    "duration": 24,
    "start_time": "2021-08-25T09:32:12.221Z"
   },
   {
    "duration": 513,
    "start_time": "2021-08-25T09:32:12.257Z"
   },
   {
    "duration": 524,
    "start_time": "2021-08-25T09:32:12.776Z"
   },
   {
    "duration": 557,
    "start_time": "2021-08-25T09:32:13.303Z"
   },
   {
    "duration": 31,
    "start_time": "2021-08-25T09:32:13.863Z"
   },
   {
    "duration": 23,
    "start_time": "2021-08-25T09:32:13.898Z"
   },
   {
    "duration": 818,
    "start_time": "2021-08-25T09:32:13.924Z"
   },
   {
    "duration": 492,
    "start_time": "2021-08-25T09:32:14.745Z"
   },
   {
    "duration": 46,
    "start_time": "2021-08-25T09:32:15.240Z"
   },
   {
    "duration": 54,
    "start_time": "2021-08-25T09:32:15.289Z"
   },
   {
    "duration": 79,
    "start_time": "2021-08-25T09:32:15.345Z"
   },
   {
    "duration": 29,
    "start_time": "2021-08-25T09:32:15.427Z"
   },
   {
    "duration": 580,
    "start_time": "2021-08-25T09:32:15.458Z"
   },
   {
    "duration": 33,
    "start_time": "2021-08-25T09:32:16.041Z"
   },
   {
    "duration": 29,
    "start_time": "2021-08-25T09:32:16.076Z"
   },
   {
    "duration": 34,
    "start_time": "2021-08-25T09:32:16.107Z"
   },
   {
    "duration": 71,
    "start_time": "2021-08-25T09:32:16.144Z"
   },
   {
    "duration": 44,
    "start_time": "2021-08-25T09:32:16.217Z"
   },
   {
    "duration": 549,
    "start_time": "2021-08-25T09:32:16.264Z"
   },
   {
    "duration": 526,
    "start_time": "2021-08-25T09:32:16.815Z"
   },
   {
    "duration": 574,
    "start_time": "2021-08-25T09:32:17.344Z"
   },
   {
    "duration": 18,
    "start_time": "2021-08-25T09:32:17.921Z"
   },
   {
    "duration": 16,
    "start_time": "2021-08-25T09:32:17.957Z"
   },
   {
    "duration": 10,
    "start_time": "2021-08-25T09:32:17.976Z"
   },
   {
    "duration": 15,
    "start_time": "2021-08-25T09:32:17.989Z"
   },
   {
    "duration": 30,
    "start_time": "2021-08-25T09:32:18.006Z"
   },
   {
    "duration": 37,
    "start_time": "2021-08-25T09:32:18.038Z"
   },
   {
    "duration": 259,
    "start_time": "2021-08-25T09:32:42.265Z"
   },
   {
    "duration": 23383,
    "start_time": "2021-08-25T09:32:49.072Z"
   },
   {
    "duration": -277,
    "start_time": "2021-08-25T09:33:56.836Z"
   },
   {
    "duration": -276,
    "start_time": "2021-08-25T09:33:56.843Z"
   },
   {
    "duration": 72,
    "start_time": "2021-08-25T09:34:34.760Z"
   },
   {
    "duration": 107,
    "start_time": "2021-08-25T09:34:37.680Z"
   },
   {
    "duration": 18354,
    "start_time": "2021-08-25T09:40:48.100Z"
   },
   {
    "duration": 2425,
    "start_time": "2021-08-25T09:43:17.712Z"
   },
   {
    "duration": 55,
    "start_time": "2021-08-25T09:43:20.140Z"
   },
   {
    "duration": 63,
    "start_time": "2021-08-25T09:43:20.200Z"
   },
   {
    "duration": 38,
    "start_time": "2021-08-25T09:43:20.271Z"
   },
   {
    "duration": 14,
    "start_time": "2021-08-25T09:43:20.313Z"
   },
   {
    "duration": 35,
    "start_time": "2021-08-25T09:43:20.330Z"
   },
   {
    "duration": 129,
    "start_time": "2021-08-25T09:43:20.369Z"
   },
   {
    "duration": 59,
    "start_time": "2021-08-25T09:43:20.504Z"
   },
   {
    "duration": 565,
    "start_time": "2021-08-25T09:43:20.567Z"
   },
   {
    "duration": 109,
    "start_time": "2021-08-25T09:43:21.136Z"
   },
   {
    "duration": 85,
    "start_time": "2021-08-25T09:43:21.258Z"
   },
   {
    "duration": 71,
    "start_time": "2021-08-25T09:43:21.358Z"
   },
   {
    "duration": 105,
    "start_time": "2021-08-25T09:43:21.431Z"
   },
   {
    "duration": 90,
    "start_time": "2021-08-25T09:43:21.538Z"
   },
   {
    "duration": 553,
    "start_time": "2021-08-25T09:43:21.631Z"
   },
   {
    "duration": 420,
    "start_time": "2021-08-25T09:43:22.186Z"
   },
   {
    "duration": 11,
    "start_time": "2021-08-25T09:43:22.608Z"
   },
   {
    "duration": 49,
    "start_time": "2021-08-25T09:43:22.623Z"
   },
   {
    "duration": 14,
    "start_time": "2021-08-25T09:43:22.675Z"
   },
   {
    "duration": 33,
    "start_time": "2021-08-25T09:43:22.692Z"
   },
   {
    "duration": 43,
    "start_time": "2021-08-25T09:43:22.727Z"
   },
   {
    "duration": 32,
    "start_time": "2021-08-25T09:43:22.773Z"
   },
   {
    "duration": 566,
    "start_time": "2021-08-25T09:43:22.814Z"
   },
   {
    "duration": 588,
    "start_time": "2021-08-25T09:43:23.383Z"
   },
   {
    "duration": 765,
    "start_time": "2021-08-25T09:43:23.974Z"
   },
   {
    "duration": 49,
    "start_time": "2021-08-25T09:43:24.743Z"
   },
   {
    "duration": 24,
    "start_time": "2021-08-25T09:43:24.796Z"
   },
   {
    "duration": 1128,
    "start_time": "2021-08-25T09:43:24.823Z"
   },
   {
    "duration": 555,
    "start_time": "2021-08-25T09:43:25.955Z"
   },
   {
    "duration": 60,
    "start_time": "2021-08-25T09:43:26.514Z"
   },
   {
    "duration": 33,
    "start_time": "2021-08-25T09:43:26.579Z"
   },
   {
    "duration": 81,
    "start_time": "2021-08-25T09:43:26.615Z"
   },
   {
    "duration": 21,
    "start_time": "2021-08-25T09:43:26.699Z"
   },
   {
    "duration": 532,
    "start_time": "2021-08-25T09:43:26.724Z"
   },
   {
    "duration": 31,
    "start_time": "2021-08-25T09:43:27.264Z"
   },
   {
    "duration": 23,
    "start_time": "2021-08-25T09:43:27.298Z"
   },
   {
    "duration": 66,
    "start_time": "2021-08-25T09:43:27.323Z"
   },
   {
    "duration": 72,
    "start_time": "2021-08-25T09:43:27.392Z"
   },
   {
    "duration": 39,
    "start_time": "2021-08-25T09:43:27.469Z"
   },
   {
    "duration": 775,
    "start_time": "2021-08-25T09:43:27.511Z"
   },
   {
    "duration": 851,
    "start_time": "2021-08-25T09:43:28.290Z"
   },
   {
    "duration": 864,
    "start_time": "2021-08-25T09:43:29.145Z"
   },
   {
    "duration": 19,
    "start_time": "2021-08-25T09:43:30.012Z"
   },
   {
    "duration": 56,
    "start_time": "2021-08-25T09:43:30.034Z"
   },
   {
    "duration": 44,
    "start_time": "2021-08-25T09:43:30.093Z"
   },
   {
    "duration": 23,
    "start_time": "2021-08-25T09:43:30.140Z"
   },
   {
    "duration": 36,
    "start_time": "2021-08-25T09:43:30.167Z"
   },
   {
    "duration": 41,
    "start_time": "2021-08-25T09:43:30.207Z"
   },
   {
    "duration": 19254,
    "start_time": "2021-08-25T09:44:19.794Z"
   },
   {
    "duration": 3051,
    "start_time": "2021-08-25T09:44:47.511Z"
   },
   {
    "duration": 38,
    "start_time": "2021-08-25T09:44:50.564Z"
   },
   {
    "duration": 43,
    "start_time": "2021-08-25T09:44:50.606Z"
   },
   {
    "duration": 40,
    "start_time": "2021-08-25T09:44:50.652Z"
   },
   {
    "duration": 11,
    "start_time": "2021-08-25T09:44:50.695Z"
   },
   {
    "duration": 53,
    "start_time": "2021-08-25T09:44:50.709Z"
   },
   {
    "duration": 118,
    "start_time": "2021-08-25T09:44:50.764Z"
   },
   {
    "duration": 54,
    "start_time": "2021-08-25T09:44:50.886Z"
   },
   {
    "duration": 439,
    "start_time": "2021-08-25T09:44:50.943Z"
   },
   {
    "duration": 96,
    "start_time": "2021-08-25T09:44:51.386Z"
   },
   {
    "duration": 78,
    "start_time": "2021-08-25T09:44:51.484Z"
   },
   {
    "duration": 109,
    "start_time": "2021-08-25T09:44:51.566Z"
   },
   {
    "duration": 102,
    "start_time": "2021-08-25T09:44:51.682Z"
   },
   {
    "duration": 96,
    "start_time": "2021-08-25T09:44:51.788Z"
   },
   {
    "duration": 651,
    "start_time": "2021-08-25T09:44:51.887Z"
   },
   {
    "duration": 450,
    "start_time": "2021-08-25T09:44:52.540Z"
   },
   {
    "duration": 10,
    "start_time": "2021-08-25T09:44:52.992Z"
   },
   {
    "duration": 28,
    "start_time": "2021-08-25T09:44:53.004Z"
   },
   {
    "duration": 38,
    "start_time": "2021-08-25T09:44:53.035Z"
   },
   {
    "duration": 47,
    "start_time": "2021-08-25T09:44:53.078Z"
   },
   {
    "duration": 60,
    "start_time": "2021-08-25T09:44:53.128Z"
   },
   {
    "duration": 843,
    "start_time": "2021-08-25T09:44:53.190Z"
   },
   {
    "duration": 599,
    "start_time": "2021-08-25T09:44:54.040Z"
   },
   {
    "duration": 852,
    "start_time": "2021-08-25T09:44:54.643Z"
   },
   {
    "duration": 592,
    "start_time": "2021-08-25T09:44:55.498Z"
   },
   {
    "duration": 29,
    "start_time": "2021-08-25T09:44:56.093Z"
   },
   {
    "duration": 52,
    "start_time": "2021-08-25T09:44:56.124Z"
   },
   {
    "duration": 1037,
    "start_time": "2021-08-25T09:44:56.180Z"
   },
   {
    "duration": 639,
    "start_time": "2021-08-25T09:44:57.220Z"
   },
   {
    "duration": 45,
    "start_time": "2021-08-25T09:44:57.863Z"
   },
   {
    "duration": 65,
    "start_time": "2021-08-25T09:44:57.911Z"
   },
   {
    "duration": 62,
    "start_time": "2021-08-25T09:44:57.980Z"
   },
   {
    "duration": 30,
    "start_time": "2021-08-25T09:44:58.054Z"
   },
   {
    "duration": 646,
    "start_time": "2021-08-25T09:44:58.087Z"
   },
   {
    "duration": 46,
    "start_time": "2021-08-25T09:44:58.736Z"
   },
   {
    "duration": 31,
    "start_time": "2021-08-25T09:44:58.788Z"
   },
   {
    "duration": 63,
    "start_time": "2021-08-25T09:44:58.822Z"
   },
   {
    "duration": 85,
    "start_time": "2021-08-25T09:44:58.888Z"
   },
   {
    "duration": 35,
    "start_time": "2021-08-25T09:44:58.982Z"
   },
   {
    "duration": 614,
    "start_time": "2021-08-25T09:44:59.021Z"
   },
   {
    "duration": 582,
    "start_time": "2021-08-25T09:44:59.637Z"
   },
   {
    "duration": 562,
    "start_time": "2021-08-25T09:45:00.222Z"
   },
   {
    "duration": 30,
    "start_time": "2021-08-25T09:45:00.793Z"
   },
   {
    "duration": 44,
    "start_time": "2021-08-25T09:45:00.826Z"
   },
   {
    "duration": 36,
    "start_time": "2021-08-25T09:45:00.875Z"
   },
   {
    "duration": 50,
    "start_time": "2021-08-25T09:45:00.914Z"
   },
   {
    "duration": 48,
    "start_time": "2021-08-25T09:45:00.972Z"
   },
   {
    "duration": 83,
    "start_time": "2021-08-25T09:45:01.023Z"
   },
   {
    "duration": 9,
    "start_time": "2021-08-25T09:45:52.101Z"
   },
   {
    "duration": 31,
    "start_time": "2021-08-25T09:46:00.499Z"
   },
   {
    "duration": 18337,
    "start_time": "2021-08-25T09:47:08.783Z"
   },
   {
    "duration": 24,
    "start_time": "2021-08-25T09:47:56.112Z"
   },
   {
    "duration": 49,
    "start_time": "2021-08-25T09:49:14.269Z"
   },
   {
    "duration": 39,
    "start_time": "2021-08-25T09:49:27.966Z"
   },
   {
    "duration": 2149,
    "start_time": "2021-08-25T09:49:49.110Z"
   },
   {
    "duration": 36,
    "start_time": "2021-08-25T09:49:51.262Z"
   },
   {
    "duration": 22,
    "start_time": "2021-08-25T09:49:51.301Z"
   },
   {
    "duration": 70,
    "start_time": "2021-08-25T09:49:51.326Z"
   },
   {
    "duration": 9,
    "start_time": "2021-08-25T09:49:51.399Z"
   },
   {
    "duration": 20,
    "start_time": "2021-08-25T09:49:51.411Z"
   },
   {
    "duration": 112,
    "start_time": "2021-08-25T09:49:51.433Z"
   },
   {
    "duration": 48,
    "start_time": "2021-08-25T09:49:51.556Z"
   },
   {
    "duration": 458,
    "start_time": "2021-08-25T09:49:51.606Z"
   },
   {
    "duration": 90,
    "start_time": "2021-08-25T09:49:52.067Z"
   },
   {
    "duration": 61,
    "start_time": "2021-08-25T09:49:52.160Z"
   },
   {
    "duration": 95,
    "start_time": "2021-08-25T09:49:52.223Z"
   },
   {
    "duration": 92,
    "start_time": "2021-08-25T09:49:52.321Z"
   },
   {
    "duration": 104,
    "start_time": "2021-08-25T09:49:52.416Z"
   },
   {
    "duration": 46,
    "start_time": "2021-08-25T09:49:52.523Z"
   },
   {
    "duration": 918,
    "start_time": "2021-08-25T09:49:52.572Z"
   },
   {
    "duration": -1680,
    "start_time": "2021-08-25T09:49:55.175Z"
   },
   {
    "duration": -1685,
    "start_time": "2021-08-25T09:49:55.182Z"
   },
   {
    "duration": -1692,
    "start_time": "2021-08-25T09:49:55.190Z"
   },
   {
    "duration": -1696,
    "start_time": "2021-08-25T09:49:55.196Z"
   },
   {
    "duration": -1701,
    "start_time": "2021-08-25T09:49:55.202Z"
   },
   {
    "duration": -1705,
    "start_time": "2021-08-25T09:49:55.208Z"
   },
   {
    "duration": -1711,
    "start_time": "2021-08-25T09:49:55.215Z"
   },
   {
    "duration": -1715,
    "start_time": "2021-08-25T09:49:55.220Z"
   },
   {
    "duration": -1719,
    "start_time": "2021-08-25T09:49:55.226Z"
   },
   {
    "duration": -1723,
    "start_time": "2021-08-25T09:49:55.231Z"
   },
   {
    "duration": -1727,
    "start_time": "2021-08-25T09:49:55.236Z"
   },
   {
    "duration": -1731,
    "start_time": "2021-08-25T09:49:55.241Z"
   },
   {
    "duration": -1735,
    "start_time": "2021-08-25T09:49:55.246Z"
   },
   {
    "duration": -1739,
    "start_time": "2021-08-25T09:49:55.251Z"
   },
   {
    "duration": -1744,
    "start_time": "2021-08-25T09:49:55.257Z"
   },
   {
    "duration": -1747,
    "start_time": "2021-08-25T09:49:55.261Z"
   },
   {
    "duration": -1772,
    "start_time": "2021-08-25T09:49:55.287Z"
   },
   {
    "duration": -1776,
    "start_time": "2021-08-25T09:49:55.292Z"
   },
   {
    "duration": -1781,
    "start_time": "2021-08-25T09:49:55.298Z"
   },
   {
    "duration": -1787,
    "start_time": "2021-08-25T09:49:55.305Z"
   },
   {
    "duration": -1792,
    "start_time": "2021-08-25T09:49:55.311Z"
   },
   {
    "duration": -1796,
    "start_time": "2021-08-25T09:49:55.316Z"
   },
   {
    "duration": -1800,
    "start_time": "2021-08-25T09:49:55.322Z"
   },
   {
    "duration": -1803,
    "start_time": "2021-08-25T09:49:55.326Z"
   },
   {
    "duration": -1808,
    "start_time": "2021-08-25T09:49:55.332Z"
   },
   {
    "duration": -1811,
    "start_time": "2021-08-25T09:49:55.337Z"
   },
   {
    "duration": -1814,
    "start_time": "2021-08-25T09:49:55.342Z"
   },
   {
    "duration": -1817,
    "start_time": "2021-08-25T09:49:55.346Z"
   },
   {
    "duration": -1821,
    "start_time": "2021-08-25T09:49:55.352Z"
   },
   {
    "duration": -1825,
    "start_time": "2021-08-25T09:49:55.357Z"
   },
   {
    "duration": -1828,
    "start_time": "2021-08-25T09:49:55.362Z"
   },
   {
    "duration": -1832,
    "start_time": "2021-08-25T09:49:55.367Z"
   },
   {
    "duration": -1835,
    "start_time": "2021-08-25T09:49:55.372Z"
   },
   {
    "duration": 708,
    "start_time": "2021-08-25T09:51:32.788Z"
   },
   {
    "duration": 1233,
    "start_time": "2021-08-25T09:51:41.671Z"
   },
   {
    "duration": 373,
    "start_time": "2021-08-25T09:52:35.508Z"
   },
   {
    "duration": 31,
    "start_time": "2021-08-25T09:53:04.641Z"
   },
   {
    "duration": 444,
    "start_time": "2021-08-25T09:53:13.894Z"
   },
   {
    "duration": 303,
    "start_time": "2021-08-25T09:53:50.979Z"
   },
   {
    "duration": 2329,
    "start_time": "2021-08-25T09:54:07.796Z"
   },
   {
    "duration": 46,
    "start_time": "2021-08-25T09:54:10.129Z"
   },
   {
    "duration": 37,
    "start_time": "2021-08-25T09:54:10.179Z"
   },
   {
    "duration": 43,
    "start_time": "2021-08-25T09:54:10.219Z"
   },
   {
    "duration": 10,
    "start_time": "2021-08-25T09:54:10.268Z"
   },
   {
    "duration": 13,
    "start_time": "2021-08-25T09:54:10.284Z"
   },
   {
    "duration": 139,
    "start_time": "2021-08-25T09:54:10.300Z"
   },
   {
    "duration": 42,
    "start_time": "2021-08-25T09:54:10.443Z"
   },
   {
    "duration": 447,
    "start_time": "2021-08-25T09:54:10.488Z"
   },
   {
    "duration": 90,
    "start_time": "2021-08-25T09:54:10.938Z"
   },
   {
    "duration": 85,
    "start_time": "2021-08-25T09:54:11.031Z"
   },
   {
    "duration": 99,
    "start_time": "2021-08-25T09:54:11.120Z"
   },
   {
    "duration": 116,
    "start_time": "2021-08-25T09:54:11.223Z"
   },
   {
    "duration": 90,
    "start_time": "2021-08-25T09:54:11.342Z"
   },
   {
    "duration": 614,
    "start_time": "2021-08-25T09:54:11.435Z"
   },
   {
    "duration": 417,
    "start_time": "2021-08-25T09:54:12.060Z"
   },
   {
    "duration": 12,
    "start_time": "2021-08-25T09:54:12.481Z"
   },
   {
    "duration": 22,
    "start_time": "2021-08-25T09:54:12.496Z"
   },
   {
    "duration": 41,
    "start_time": "2021-08-25T09:54:12.521Z"
   },
   {
    "duration": 38,
    "start_time": "2021-08-25T09:54:12.564Z"
   },
   {
    "duration": 14,
    "start_time": "2021-08-25T09:54:12.604Z"
   },
   {
    "duration": 45,
    "start_time": "2021-08-25T09:54:12.621Z"
   },
   {
    "duration": 703,
    "start_time": "2021-08-25T09:54:12.673Z"
   },
   {
    "duration": 556,
    "start_time": "2021-08-25T09:54:13.380Z"
   },
   {
    "duration": 535,
    "start_time": "2021-08-25T09:54:13.939Z"
   },
   {
    "duration": 36,
    "start_time": "2021-08-25T09:54:14.478Z"
   },
   {
    "duration": 52,
    "start_time": "2021-08-25T09:54:14.517Z"
   },
   {
    "duration": 772,
    "start_time": "2021-08-25T09:54:14.573Z"
   },
   {
    "duration": 514,
    "start_time": "2021-08-25T09:54:15.348Z"
   },
   {
    "duration": 41,
    "start_time": "2021-08-25T09:54:15.865Z"
   },
   {
    "duration": 56,
    "start_time": "2021-08-25T09:54:15.910Z"
   },
   {
    "duration": 69,
    "start_time": "2021-08-25T09:54:15.971Z"
   },
   {
    "duration": 32,
    "start_time": "2021-08-25T09:54:16.043Z"
   },
   {
    "duration": 626,
    "start_time": "2021-08-25T09:54:16.078Z"
   },
   {
    "duration": 24,
    "start_time": "2021-08-25T09:54:16.707Z"
   },
   {
    "duration": 52,
    "start_time": "2021-08-25T09:54:16.733Z"
   },
   {
    "duration": 45,
    "start_time": "2021-08-25T09:54:16.788Z"
   },
   {
    "duration": 79,
    "start_time": "2021-08-25T09:54:16.836Z"
   },
   {
    "duration": 44,
    "start_time": "2021-08-25T09:54:16.917Z"
   },
   {
    "duration": 554,
    "start_time": "2021-08-25T09:54:16.964Z"
   },
   {
    "duration": 544,
    "start_time": "2021-08-25T09:54:17.521Z"
   },
   {
    "duration": 654,
    "start_time": "2021-08-25T09:54:18.068Z"
   },
   {
    "duration": 18,
    "start_time": "2021-08-25T09:54:18.725Z"
   },
   {
    "duration": 13,
    "start_time": "2021-08-25T09:54:18.758Z"
   },
   {
    "duration": 16,
    "start_time": "2021-08-25T09:54:18.774Z"
   },
   {
    "duration": 14,
    "start_time": "2021-08-25T09:54:18.793Z"
   },
   {
    "duration": 50,
    "start_time": "2021-08-25T09:54:18.811Z"
   },
   {
    "duration": 36,
    "start_time": "2021-08-25T09:54:18.863Z"
   },
   {
    "duration": 694,
    "start_time": "2021-08-25T09:58:59.340Z"
   },
   {
    "duration": 104,
    "start_time": "2021-08-25T10:01:40.488Z"
   },
   {
    "duration": 110,
    "start_time": "2021-08-25T10:01:51.840Z"
   },
   {
    "duration": 119,
    "start_time": "2021-08-25T10:02:04.322Z"
   },
   {
    "duration": 481,
    "start_time": "2021-08-25T10:02:25.625Z"
   },
   {
    "duration": 906,
    "start_time": "2021-08-25T10:02:32.620Z"
   },
   {
    "duration": 13642,
    "start_time": "2021-08-25T10:07:55.871Z"
   },
   {
    "duration": 13,
    "start_time": "2021-08-25T10:08:58.445Z"
   },
   {
    "duration": 40,
    "start_time": "2021-08-25T10:09:02.789Z"
   },
   {
    "duration": 2976,
    "start_time": "2021-08-25T10:09:16.052Z"
   },
   {
    "duration": 28,
    "start_time": "2021-08-25T10:09:19.031Z"
   },
   {
    "duration": 37,
    "start_time": "2021-08-25T10:09:19.063Z"
   },
   {
    "duration": 30,
    "start_time": "2021-08-25T10:09:19.104Z"
   },
   {
    "duration": 12,
    "start_time": "2021-08-25T10:09:19.154Z"
   },
   {
    "duration": 14,
    "start_time": "2021-08-25T10:09:19.170Z"
   },
   {
    "duration": 161,
    "start_time": "2021-08-25T10:09:19.187Z"
   },
   {
    "duration": 51,
    "start_time": "2021-08-25T10:09:19.353Z"
   },
   {
    "duration": 622,
    "start_time": "2021-08-25T10:09:19.407Z"
   },
   {
    "duration": 110,
    "start_time": "2021-08-25T10:09:20.032Z"
   },
   {
    "duration": 64,
    "start_time": "2021-08-25T10:09:20.145Z"
   },
   {
    "duration": 113,
    "start_time": "2021-08-25T10:09:20.211Z"
   },
   {
    "duration": 116,
    "start_time": "2021-08-25T10:09:20.327Z"
   },
   {
    "duration": 1139,
    "start_time": "2021-08-25T10:09:20.447Z"
   },
   {
    "duration": -121,
    "start_time": "2021-08-25T10:09:21.713Z"
   },
   {
    "duration": -144,
    "start_time": "2021-08-25T10:09:21.739Z"
   },
   {
    "duration": -160,
    "start_time": "2021-08-25T10:09:21.757Z"
   },
   {
    "duration": -176,
    "start_time": "2021-08-25T10:09:21.775Z"
   },
   {
    "duration": -182,
    "start_time": "2021-08-25T10:09:21.784Z"
   },
   {
    "duration": -187,
    "start_time": "2021-08-25T10:09:21.791Z"
   },
   {
    "duration": -193,
    "start_time": "2021-08-25T10:09:21.799Z"
   },
   {
    "duration": -199,
    "start_time": "2021-08-25T10:09:21.807Z"
   },
   {
    "duration": -204,
    "start_time": "2021-08-25T10:09:21.814Z"
   },
   {
    "duration": -209,
    "start_time": "2021-08-25T10:09:21.821Z"
   },
   {
    "duration": -213,
    "start_time": "2021-08-25T10:09:21.827Z"
   },
   {
    "duration": -218,
    "start_time": "2021-08-25T10:09:21.834Z"
   },
   {
    "duration": -223,
    "start_time": "2021-08-25T10:09:21.841Z"
   },
   {
    "duration": -228,
    "start_time": "2021-08-25T10:09:21.847Z"
   },
   {
    "duration": -245,
    "start_time": "2021-08-25T10:09:21.866Z"
   },
   {
    "duration": -255,
    "start_time": "2021-08-25T10:09:21.877Z"
   },
   {
    "duration": -277,
    "start_time": "2021-08-25T10:09:21.901Z"
   },
   {
    "duration": -284,
    "start_time": "2021-08-25T10:09:21.909Z"
   },
   {
    "duration": -295,
    "start_time": "2021-08-25T10:09:21.921Z"
   },
   {
    "duration": -302,
    "start_time": "2021-08-25T10:09:21.930Z"
   },
   {
    "duration": -311,
    "start_time": "2021-08-25T10:09:21.940Z"
   },
   {
    "duration": -287,
    "start_time": "2021-08-25T10:09:21.946Z"
   },
   {
    "duration": -293,
    "start_time": "2021-08-25T10:09:21.953Z"
   },
   {
    "duration": -297,
    "start_time": "2021-08-25T10:09:21.962Z"
   },
   {
    "duration": -303,
    "start_time": "2021-08-25T10:09:21.971Z"
   },
   {
    "duration": -308,
    "start_time": "2021-08-25T10:09:21.979Z"
   },
   {
    "duration": -314,
    "start_time": "2021-08-25T10:09:21.986Z"
   },
   {
    "duration": -327,
    "start_time": "2021-08-25T10:09:22.002Z"
   },
   {
    "duration": -346,
    "start_time": "2021-08-25T10:09:22.023Z"
   },
   {
    "duration": -350,
    "start_time": "2021-08-25T10:09:22.030Z"
   },
   {
    "duration": -354,
    "start_time": "2021-08-25T10:09:22.036Z"
   },
   {
    "duration": -358,
    "start_time": "2021-08-25T10:09:22.042Z"
   },
   {
    "duration": -361,
    "start_time": "2021-08-25T10:09:22.047Z"
   },
   {
    "duration": -364,
    "start_time": "2021-08-25T10:09:22.053Z"
   },
   {
    "duration": -373,
    "start_time": "2021-08-25T10:09:22.063Z"
   },
   {
    "duration": 97,
    "start_time": "2021-08-25T10:12:21.632Z"
   },
   {
    "duration": 41,
    "start_time": "2021-08-25T10:12:33.076Z"
   },
   {
    "duration": 44,
    "start_time": "2021-08-25T10:12:37.846Z"
   },
   {
    "duration": 80,
    "start_time": "2021-08-25T10:12:44.835Z"
   },
   {
    "duration": 80,
    "start_time": "2021-08-25T10:12:47.605Z"
   },
   {
    "duration": 35,
    "start_time": "2021-08-25T10:13:23.046Z"
   },
   {
    "duration": 980,
    "start_time": "2021-08-25T10:13:27.586Z"
   },
   {
    "duration": 559,
    "start_time": "2021-08-25T10:13:34.424Z"
   },
   {
    "duration": 1374,
    "start_time": "2021-08-25T10:22:04.673Z"
   },
   {
    "duration": 916,
    "start_time": "2021-08-25T10:23:06.589Z"
   },
   {
    "duration": 1343,
    "start_time": "2021-08-25T10:23:22.743Z"
   },
   {
    "duration": 1067,
    "start_time": "2021-08-25T10:23:29.694Z"
   },
   {
    "duration": 1534,
    "start_time": "2021-08-25T10:23:33.659Z"
   },
   {
    "duration": 2677,
    "start_time": "2021-08-25T10:24:10.379Z"
   },
   {
    "duration": 50,
    "start_time": "2021-08-25T10:24:13.067Z"
   },
   {
    "duration": 45,
    "start_time": "2021-08-25T10:24:13.124Z"
   },
   {
    "duration": 38,
    "start_time": "2021-08-25T10:24:13.175Z"
   },
   {
    "duration": 47,
    "start_time": "2021-08-25T10:24:13.217Z"
   },
   {
    "duration": 21,
    "start_time": "2021-08-25T10:24:13.267Z"
   },
   {
    "duration": 162,
    "start_time": "2021-08-25T10:24:13.291Z"
   },
   {
    "duration": 53,
    "start_time": "2021-08-25T10:24:13.461Z"
   },
   {
    "duration": 448,
    "start_time": "2021-08-25T10:24:13.520Z"
   },
   {
    "duration": 87,
    "start_time": "2021-08-25T10:24:13.971Z"
   },
   {
    "duration": 56,
    "start_time": "2021-08-25T10:24:14.064Z"
   },
   {
    "duration": 89,
    "start_time": "2021-08-25T10:24:14.124Z"
   },
   {
    "duration": 111,
    "start_time": "2021-08-25T10:24:14.216Z"
   },
   {
    "duration": 110,
    "start_time": "2021-08-25T10:24:14.330Z"
   },
   {
    "duration": 36,
    "start_time": "2021-08-25T10:24:14.443Z"
   },
   {
    "duration": 702,
    "start_time": "2021-08-25T10:24:14.482Z"
   },
   {
    "duration": 59602,
    "start_time": "2021-08-25T10:24:15.186Z"
   },
   {
    "duration": -123,
    "start_time": "2021-08-25T10:25:14.924Z"
   },
   {
    "duration": -129,
    "start_time": "2021-08-25T10:25:14.932Z"
   },
   {
    "duration": -131,
    "start_time": "2021-08-25T10:25:14.938Z"
   },
   {
    "duration": -136,
    "start_time": "2021-08-25T10:25:14.945Z"
   },
   {
    "duration": -140,
    "start_time": "2021-08-25T10:25:14.951Z"
   },
   {
    "duration": -145,
    "start_time": "2021-08-25T10:25:14.958Z"
   },
   {
    "duration": -149,
    "start_time": "2021-08-25T10:25:14.964Z"
   },
   {
    "duration": -160,
    "start_time": "2021-08-25T10:25:14.976Z"
   },
   {
    "duration": -163,
    "start_time": "2021-08-25T10:25:14.982Z"
   },
   {
    "duration": -168,
    "start_time": "2021-08-25T10:25:14.989Z"
   },
   {
    "duration": -172,
    "start_time": "2021-08-25T10:25:14.995Z"
   },
   {
    "duration": -177,
    "start_time": "2021-08-25T10:25:15.001Z"
   },
   {
    "duration": -181,
    "start_time": "2021-08-25T10:25:15.008Z"
   },
   {
    "duration": -268,
    "start_time": "2021-08-25T10:25:15.097Z"
   },
   {
    "duration": -271,
    "start_time": "2021-08-25T10:25:15.103Z"
   },
   {
    "duration": -277,
    "start_time": "2021-08-25T10:25:15.110Z"
   },
   {
    "duration": -282,
    "start_time": "2021-08-25T10:25:15.117Z"
   },
   {
    "duration": -265,
    "start_time": "2021-08-25T10:25:15.123Z"
   },
   {
    "duration": -272,
    "start_time": "2021-08-25T10:25:15.131Z"
   },
   {
    "duration": -280,
    "start_time": "2021-08-25T10:25:15.142Z"
   },
   {
    "duration": -284,
    "start_time": "2021-08-25T10:25:15.149Z"
   },
   {
    "duration": -287,
    "start_time": "2021-08-25T10:25:15.156Z"
   },
   {
    "duration": -289,
    "start_time": "2021-08-25T10:25:15.161Z"
   },
   {
    "duration": -292,
    "start_time": "2021-08-25T10:25:15.168Z"
   },
   {
    "duration": -295,
    "start_time": "2021-08-25T10:25:15.174Z"
   },
   {
    "duration": -290,
    "start_time": "2021-08-25T10:25:15.182Z"
   },
   {
    "duration": -293,
    "start_time": "2021-08-25T10:25:15.188Z"
   },
   {
    "duration": -298,
    "start_time": "2021-08-25T10:25:15.195Z"
   },
   {
    "duration": -321,
    "start_time": "2021-08-25T10:25:15.223Z"
   },
   {
    "duration": -324,
    "start_time": "2021-08-25T10:25:15.230Z"
   },
   {
    "duration": -327,
    "start_time": "2021-08-25T10:25:15.235Z"
   },
   {
    "duration": -330,
    "start_time": "2021-08-25T10:25:15.240Z"
   },
   {
    "duration": -333,
    "start_time": "2021-08-25T10:25:15.246Z"
   },
   {
    "duration": 1057,
    "start_time": "2021-08-25T10:25:15.441Z"
   },
   {
    "duration": 2464,
    "start_time": "2021-08-25T10:26:25.812Z"
   },
   {
    "duration": 2856,
    "start_time": "2021-08-25T10:27:57.097Z"
   },
   {
    "duration": 2040,
    "start_time": "2021-08-25T10:28:53.389Z"
   },
   {
    "duration": 92,
    "start_time": "2021-08-25T10:29:02.115Z"
   },
   {
    "duration": 2376,
    "start_time": "2021-08-25T10:29:06.475Z"
   },
   {
    "duration": 4090,
    "start_time": "2021-08-25T10:30:01.723Z"
   },
   {
    "duration": 3357,
    "start_time": "2021-08-25T10:30:07.921Z"
   },
   {
    "duration": 52,
    "start_time": "2021-08-25T10:30:17.544Z"
   },
   {
    "duration": 16416,
    "start_time": "2021-08-25T10:30:22.912Z"
   },
   {
    "duration": -179,
    "start_time": "2021-08-25T10:30:39.511Z"
   },
   {
    "duration": 41,
    "start_time": "2021-08-25T10:30:44.486Z"
   },
   {
    "duration": 3441,
    "start_time": "2021-08-25T10:31:07.361Z"
   },
   {
    "duration": 33,
    "start_time": "2021-08-25T10:31:10.805Z"
   },
   {
    "duration": 31,
    "start_time": "2021-08-25T10:31:10.841Z"
   },
   {
    "duration": 37,
    "start_time": "2021-08-25T10:31:10.890Z"
   },
   {
    "duration": 14,
    "start_time": "2021-08-25T10:31:10.930Z"
   },
   {
    "duration": 16,
    "start_time": "2021-08-25T10:31:10.947Z"
   },
   {
    "duration": 162,
    "start_time": "2021-08-25T10:31:10.966Z"
   },
   {
    "duration": 56,
    "start_time": "2021-08-25T10:31:11.132Z"
   },
   {
    "duration": 610,
    "start_time": "2021-08-25T10:31:11.192Z"
   },
   {
    "duration": 101,
    "start_time": "2021-08-25T10:31:11.805Z"
   },
   {
    "duration": 90,
    "start_time": "2021-08-25T10:31:11.910Z"
   },
   {
    "duration": 98,
    "start_time": "2021-08-25T10:31:12.003Z"
   },
   {
    "duration": 120,
    "start_time": "2021-08-25T10:31:12.105Z"
   },
   {
    "duration": 126,
    "start_time": "2021-08-25T10:31:12.228Z"
   },
   {
    "duration": 39,
    "start_time": "2021-08-25T10:31:12.358Z"
   },
   {
    "duration": 59,
    "start_time": "2021-08-25T10:31:12.401Z"
   },
   {
    "duration": 24126,
    "start_time": "2021-08-25T10:31:12.466Z"
   },
   {
    "duration": -46,
    "start_time": "2021-08-25T10:31:36.646Z"
   },
   {
    "duration": -49,
    "start_time": "2021-08-25T10:31:36.652Z"
   },
   {
    "duration": -58,
    "start_time": "2021-08-25T10:31:36.664Z"
   },
   {
    "duration": -63,
    "start_time": "2021-08-25T10:31:36.671Z"
   },
   {
    "duration": -67,
    "start_time": "2021-08-25T10:31:36.676Z"
   },
   {
    "duration": -72,
    "start_time": "2021-08-25T10:31:36.683Z"
   },
   {
    "duration": -75,
    "start_time": "2021-08-25T10:31:36.688Z"
   },
   {
    "duration": -80,
    "start_time": "2021-08-25T10:31:36.695Z"
   },
   {
    "duration": -84,
    "start_time": "2021-08-25T10:31:36.700Z"
   },
   {
    "duration": -90,
    "start_time": "2021-08-25T10:31:36.708Z"
   },
   {
    "duration": -95,
    "start_time": "2021-08-25T10:31:36.714Z"
   },
   {
    "duration": -100,
    "start_time": "2021-08-25T10:31:36.721Z"
   },
   {
    "duration": -104,
    "start_time": "2021-08-25T10:31:36.727Z"
   },
   {
    "duration": -109,
    "start_time": "2021-08-25T10:31:36.734Z"
   },
   {
    "duration": -114,
    "start_time": "2021-08-25T10:31:36.740Z"
   },
   {
    "duration": -118,
    "start_time": "2021-08-25T10:31:36.746Z"
   },
   {
    "duration": -123,
    "start_time": "2021-08-25T10:31:36.753Z"
   },
   {
    "duration": -128,
    "start_time": "2021-08-25T10:31:36.759Z"
   },
   {
    "duration": -132,
    "start_time": "2021-08-25T10:31:36.765Z"
   },
   {
    "duration": -137,
    "start_time": "2021-08-25T10:31:36.771Z"
   },
   {
    "duration": -143,
    "start_time": "2021-08-25T10:31:36.778Z"
   },
   {
    "duration": -148,
    "start_time": "2021-08-25T10:31:36.785Z"
   },
   {
    "duration": -153,
    "start_time": "2021-08-25T10:31:36.791Z"
   },
   {
    "duration": -157,
    "start_time": "2021-08-25T10:31:36.797Z"
   },
   {
    "duration": -148,
    "start_time": "2021-08-25T10:31:36.803Z"
   },
   {
    "duration": -153,
    "start_time": "2021-08-25T10:31:36.809Z"
   },
   {
    "duration": -157,
    "start_time": "2021-08-25T10:31:36.815Z"
   },
   {
    "duration": -162,
    "start_time": "2021-08-25T10:31:36.821Z"
   },
   {
    "duration": -167,
    "start_time": "2021-08-25T10:31:36.827Z"
   },
   {
    "duration": -172,
    "start_time": "2021-08-25T10:31:36.833Z"
   },
   {
    "duration": -175,
    "start_time": "2021-08-25T10:31:36.839Z"
   },
   {
    "duration": -178,
    "start_time": "2021-08-25T10:31:36.845Z"
   },
   {
    "duration": 18911,
    "start_time": "2021-08-25T10:32:43.502Z"
   },
   {
    "duration": -145,
    "start_time": "2021-08-25T10:33:02.575Z"
   },
   {
    "duration": 1127,
    "start_time": "2021-08-25T10:33:05.886Z"
   },
   {
    "duration": 673,
    "start_time": "2021-08-25T10:33:14.510Z"
   },
   {
    "duration": 906,
    "start_time": "2021-08-25T10:33:23.729Z"
   },
   {
    "duration": 679,
    "start_time": "2021-08-25T10:33:36.833Z"
   },
   {
    "duration": 15,
    "start_time": "2021-08-25T10:45:21.531Z"
   },
   {
    "duration": 299,
    "start_time": "2021-08-25T10:45:57.870Z"
   },
   {
    "duration": 534,
    "start_time": "2021-08-25T10:49:12.898Z"
   },
   {
    "duration": 18,
    "start_time": "2021-08-25T10:51:20.769Z"
   },
   {
    "duration": 13,
    "start_time": "2021-08-25T10:52:09.111Z"
   },
   {
    "duration": 11,
    "start_time": "2021-08-25T10:52:15.086Z"
   },
   {
    "duration": 7,
    "start_time": "2021-08-25T11:13:38.672Z"
   },
   {
    "duration": 53,
    "start_time": "2021-08-25T11:17:00.878Z"
   },
   {
    "duration": 68,
    "start_time": "2021-08-25T11:17:17.990Z"
   },
   {
    "duration": 88,
    "start_time": "2021-08-25T11:17:20.750Z"
   },
   {
    "duration": 429,
    "start_time": "2021-08-25T11:17:45.900Z"
   },
   {
    "duration": 46,
    "start_time": "2021-08-25T11:18:06.585Z"
   },
   {
    "duration": 25,
    "start_time": "2021-08-25T11:18:52.539Z"
   },
   {
    "duration": 19,
    "start_time": "2021-08-25T11:19:05.687Z"
   },
   {
    "duration": 17,
    "start_time": "2021-08-25T11:20:11.798Z"
   },
   {
    "duration": 22,
    "start_time": "2021-08-25T11:20:40.949Z"
   },
   {
    "duration": 15,
    "start_time": "2021-08-25T11:20:47.285Z"
   },
   {
    "duration": 80,
    "start_time": "2021-08-25T11:20:55.424Z"
   },
   {
    "duration": 82,
    "start_time": "2021-08-25T11:21:36.917Z"
   },
   {
    "duration": 78,
    "start_time": "2021-08-25T11:21:44.179Z"
   },
   {
    "duration": 38,
    "start_time": "2021-08-25T11:21:50.172Z"
   },
   {
    "duration": 699,
    "start_time": "2021-08-25T11:22:02.062Z"
   },
   {
    "duration": 523,
    "start_time": "2021-08-25T11:22:11.243Z"
   },
   {
    "duration": 2364,
    "start_time": "2021-08-25T11:22:25.803Z"
   },
   {
    "duration": 40,
    "start_time": "2021-08-25T11:22:28.170Z"
   },
   {
    "duration": 48,
    "start_time": "2021-08-25T11:22:28.213Z"
   },
   {
    "duration": 36,
    "start_time": "2021-08-25T11:22:28.271Z"
   },
   {
    "duration": 31,
    "start_time": "2021-08-25T11:22:28.309Z"
   },
   {
    "duration": 50,
    "start_time": "2021-08-25T11:22:28.342Z"
   },
   {
    "duration": 135,
    "start_time": "2021-08-25T11:22:28.395Z"
   },
   {
    "duration": 51,
    "start_time": "2021-08-25T11:22:28.534Z"
   },
   {
    "duration": 491,
    "start_time": "2021-08-25T11:22:28.590Z"
   },
   {
    "duration": 113,
    "start_time": "2021-08-25T11:22:29.085Z"
   },
   {
    "duration": 86,
    "start_time": "2021-08-25T11:22:29.202Z"
   },
   {
    "duration": 101,
    "start_time": "2021-08-25T11:22:29.291Z"
   },
   {
    "duration": 91,
    "start_time": "2021-08-25T11:22:29.395Z"
   },
   {
    "duration": 75,
    "start_time": "2021-08-25T11:22:29.491Z"
   },
   {
    "duration": 39,
    "start_time": "2021-08-25T11:22:29.569Z"
   },
   {
    "duration": 734,
    "start_time": "2021-08-25T11:22:29.610Z"
   },
   {
    "duration": 484,
    "start_time": "2021-08-25T11:22:30.346Z"
   },
   {
    "duration": 9,
    "start_time": "2021-08-25T11:22:30.833Z"
   },
   {
    "duration": 52,
    "start_time": "2021-08-25T11:22:30.856Z"
   },
   {
    "duration": 17,
    "start_time": "2021-08-25T11:22:30.915Z"
   },
   {
    "duration": 65,
    "start_time": "2021-08-25T11:22:30.934Z"
   },
   {
    "duration": 27,
    "start_time": "2021-08-25T11:22:31.002Z"
   },
   {
    "duration": 43,
    "start_time": "2021-08-25T11:22:31.037Z"
   },
   {
    "duration": 598,
    "start_time": "2021-08-25T11:22:31.084Z"
   },
   {
    "duration": 590,
    "start_time": "2021-08-25T11:22:31.689Z"
   },
   {
    "duration": 603,
    "start_time": "2021-08-25T11:22:32.282Z"
   },
   {
    "duration": 30,
    "start_time": "2021-08-25T11:22:32.889Z"
   },
   {
    "duration": 46,
    "start_time": "2021-08-25T11:22:32.921Z"
   },
   {
    "duration": 850,
    "start_time": "2021-08-25T11:22:32.972Z"
   },
   {
    "duration": 534,
    "start_time": "2021-08-25T11:22:33.824Z"
   },
   {
    "duration": 42,
    "start_time": "2021-08-25T11:22:34.365Z"
   },
   {
    "duration": 62,
    "start_time": "2021-08-25T11:22:34.410Z"
   },
   {
    "duration": 82,
    "start_time": "2021-08-25T11:22:34.474Z"
   },
   {
    "duration": 29,
    "start_time": "2021-08-25T11:22:34.560Z"
   },
   {
    "duration": 617,
    "start_time": "2021-08-25T11:22:34.592Z"
   },
   {
    "duration": 62,
    "start_time": "2021-08-25T11:22:35.212Z"
   },
   {
    "duration": 24,
    "start_time": "2021-08-25T11:22:35.280Z"
   },
   {
    "duration": 58,
    "start_time": "2021-08-25T11:22:35.306Z"
   },
   {
    "duration": 70,
    "start_time": "2021-08-25T11:22:35.368Z"
   },
   {
    "duration": 31,
    "start_time": "2021-08-25T11:22:35.440Z"
   },
   {
    "duration": 732,
    "start_time": "2021-08-25T11:22:35.475Z"
   },
   {
    "duration": 624,
    "start_time": "2021-08-25T11:22:36.210Z"
   },
   {
    "duration": 602,
    "start_time": "2021-08-25T11:22:36.837Z"
   },
   {
    "duration": 31,
    "start_time": "2021-08-25T11:22:37.442Z"
   },
   {
    "duration": 19,
    "start_time": "2021-08-25T11:22:37.477Z"
   },
   {
    "duration": 34,
    "start_time": "2021-08-25T11:22:37.499Z"
   },
   {
    "duration": 31,
    "start_time": "2021-08-25T11:22:37.536Z"
   },
   {
    "duration": 22,
    "start_time": "2021-08-25T11:22:37.570Z"
   },
   {
    "duration": 50,
    "start_time": "2021-08-25T11:22:37.595Z"
   },
   {
    "duration": 1939,
    "start_time": "2021-08-26T00:29:43.041Z"
   },
   {
    "duration": 26,
    "start_time": "2021-08-26T00:29:44.983Z"
   },
   {
    "duration": 24,
    "start_time": "2021-08-26T00:29:45.013Z"
   },
   {
    "duration": 19,
    "start_time": "2021-08-26T00:29:45.040Z"
   },
   {
    "duration": 40,
    "start_time": "2021-08-26T00:29:45.061Z"
   },
   {
    "duration": 7,
    "start_time": "2021-08-26T00:29:45.104Z"
   },
   {
    "duration": 107,
    "start_time": "2021-08-26T00:29:45.114Z"
   },
   {
    "duration": 35,
    "start_time": "2021-08-26T00:29:45.225Z"
   },
   {
    "duration": 387,
    "start_time": "2021-08-26T00:29:45.263Z"
   },
   {
    "duration": 83,
    "start_time": "2021-08-26T00:29:45.652Z"
   },
   {
    "duration": 65,
    "start_time": "2021-08-26T00:29:45.737Z"
   },
   {
    "duration": 64,
    "start_time": "2021-08-26T00:29:45.805Z"
   },
   {
    "duration": 87,
    "start_time": "2021-08-26T00:29:45.872Z"
   },
   {
    "duration": 68,
    "start_time": "2021-08-26T00:29:45.961Z"
   },
   {
    "duration": 25,
    "start_time": "2021-08-26T00:29:46.032Z"
   },
   {
    "duration": 549,
    "start_time": "2021-08-26T00:29:46.059Z"
   },
   {
    "duration": 398,
    "start_time": "2021-08-26T00:29:46.611Z"
   },
   {
    "duration": 10,
    "start_time": "2021-08-26T00:29:47.012Z"
   },
   {
    "duration": 27,
    "start_time": "2021-08-26T00:29:47.025Z"
   },
   {
    "duration": 47,
    "start_time": "2021-08-26T00:29:47.055Z"
   },
   {
    "duration": 33,
    "start_time": "2021-08-26T00:29:47.105Z"
   },
   {
    "duration": 12,
    "start_time": "2021-08-26T00:29:47.141Z"
   },
   {
    "duration": 50,
    "start_time": "2021-08-26T00:29:47.158Z"
   },
   {
    "duration": 466,
    "start_time": "2021-08-26T00:29:47.212Z"
   },
   {
    "duration": 484,
    "start_time": "2021-08-26T00:29:47.680Z"
   },
   {
    "duration": 699,
    "start_time": "2021-08-26T00:29:48.166Z"
   },
   {
    "duration": 44,
    "start_time": "2021-08-26T00:29:48.868Z"
   },
   {
    "duration": 16,
    "start_time": "2021-08-26T00:29:48.915Z"
   },
   {
    "duration": 696,
    "start_time": "2021-08-26T00:29:48.933Z"
   },
   {
    "duration": 437,
    "start_time": "2021-08-26T00:29:49.631Z"
   },
   {
    "duration": 51,
    "start_time": "2021-08-26T00:29:50.071Z"
   },
   {
    "duration": 29,
    "start_time": "2021-08-26T00:29:50.124Z"
   },
   {
    "duration": 68,
    "start_time": "2021-08-26T00:29:50.155Z"
   },
   {
    "duration": 15,
    "start_time": "2021-08-26T00:29:50.225Z"
   },
   {
    "duration": 431,
    "start_time": "2021-08-26T00:29:50.242Z"
   },
   {
    "duration": 38,
    "start_time": "2021-08-26T00:29:50.676Z"
   },
   {
    "duration": 19,
    "start_time": "2021-08-26T00:29:50.716Z"
   },
   {
    "duration": 30,
    "start_time": "2021-08-26T00:29:50.738Z"
   },
   {
    "duration": 78,
    "start_time": "2021-08-26T00:29:50.771Z"
   },
   {
    "duration": 23,
    "start_time": "2021-08-26T00:29:50.852Z"
   },
   {
    "duration": 512,
    "start_time": "2021-08-26T00:29:50.900Z"
   },
   {
    "duration": 507,
    "start_time": "2021-08-26T00:29:51.415Z"
   },
   {
    "duration": 501,
    "start_time": "2021-08-26T00:29:51.925Z"
   },
   {
    "duration": 14,
    "start_time": "2021-08-26T00:29:52.428Z"
   },
   {
    "duration": 10,
    "start_time": "2021-08-26T00:29:52.445Z"
   },
   {
    "duration": 45,
    "start_time": "2021-08-26T00:29:52.457Z"
   },
   {
    "duration": 7,
    "start_time": "2021-08-26T00:29:52.505Z"
   },
   {
    "duration": 10,
    "start_time": "2021-08-26T00:29:52.514Z"
   },
   {
    "duration": 35,
    "start_time": "2021-08-26T00:29:52.526Z"
   },
   {
    "duration": 13,
    "start_time": "2021-08-26T00:30:24.894Z"
   },
   {
    "duration": 26,
    "start_time": "2021-08-26T01:06:00.671Z"
   },
   {
    "duration": 26,
    "start_time": "2021-08-26T01:06:07.145Z"
   },
   {
    "duration": 12,
    "start_time": "2021-08-26T01:08:02.956Z"
   },
   {
    "duration": 431,
    "start_time": "2021-08-26T06:45:46.098Z"
   },
   {
    "duration": 1542,
    "start_time": "2021-08-26T06:45:54.655Z"
   },
   {
    "duration": 21,
    "start_time": "2021-08-26T06:45:56.199Z"
   },
   {
    "duration": 20,
    "start_time": "2021-08-26T06:45:56.224Z"
   },
   {
    "duration": 20,
    "start_time": "2021-08-26T06:45:56.247Z"
   },
   {
    "duration": 6,
    "start_time": "2021-08-26T06:45:56.269Z"
   },
   {
    "duration": 7,
    "start_time": "2021-08-26T06:45:56.276Z"
   },
   {
    "duration": 87,
    "start_time": "2021-08-26T06:45:56.285Z"
   },
   {
    "duration": 27,
    "start_time": "2021-08-26T06:45:56.374Z"
   },
   {
    "duration": 255,
    "start_time": "2021-08-26T06:45:56.402Z"
   },
   {
    "duration": 49,
    "start_time": "2021-08-26T06:45:56.659Z"
   },
   {
    "duration": 59,
    "start_time": "2021-08-26T06:45:56.710Z"
   },
   {
    "duration": 48,
    "start_time": "2021-08-26T06:45:56.770Z"
   },
   {
    "duration": 60,
    "start_time": "2021-08-26T06:45:56.819Z"
   },
   {
    "duration": 35,
    "start_time": "2021-08-26T06:45:56.881Z"
   },
   {
    "duration": 35,
    "start_time": "2021-08-26T06:45:56.918Z"
   },
   {
    "duration": 326,
    "start_time": "2021-08-26T06:45:56.956Z"
   },
   {
    "duration": 248,
    "start_time": "2021-08-26T06:45:57.284Z"
   },
   {
    "duration": 13,
    "start_time": "2021-08-26T06:45:57.534Z"
   },
   {
    "duration": 24,
    "start_time": "2021-08-26T06:45:57.550Z"
   },
   {
    "duration": 15,
    "start_time": "2021-08-26T06:45:57.576Z"
   },
   {
    "duration": 22,
    "start_time": "2021-08-26T06:45:57.593Z"
   },
   {
    "duration": 14,
    "start_time": "2021-08-26T06:45:57.641Z"
   },
   {
    "duration": 9,
    "start_time": "2021-08-26T06:45:57.658Z"
   },
   {
    "duration": 316,
    "start_time": "2021-08-26T06:45:57.669Z"
   },
   {
    "duration": 309,
    "start_time": "2021-08-26T06:45:57.986Z"
   },
   {
    "duration": 309,
    "start_time": "2021-08-26T06:45:58.297Z"
   },
   {
    "duration": 17,
    "start_time": "2021-08-26T06:45:58.608Z"
   },
   {
    "duration": 15,
    "start_time": "2021-08-26T06:45:58.643Z"
   },
   {
    "duration": 15,
    "start_time": "2021-08-26T06:45:58.661Z"
   },
   {
    "duration": 491,
    "start_time": "2021-08-26T06:45:58.678Z"
   },
   {
    "duration": 294,
    "start_time": "2021-08-26T06:45:59.171Z"
   },
   {
    "duration": 20,
    "start_time": "2021-08-26T06:45:59.467Z"
   },
   {
    "duration": 17,
    "start_time": "2021-08-26T06:45:59.489Z"
   },
   {
    "duration": 63,
    "start_time": "2021-08-26T06:45:59.507Z"
   },
   {
    "duration": 11,
    "start_time": "2021-08-26T06:45:59.572Z"
   },
   {
    "duration": 283,
    "start_time": "2021-08-26T06:45:59.585Z"
   },
   {
    "duration": 16,
    "start_time": "2021-08-26T06:45:59.869Z"
   },
   {
    "duration": 14,
    "start_time": "2021-08-26T06:45:59.886Z"
   },
   {
    "duration": 19,
    "start_time": "2021-08-26T06:45:59.901Z"
   },
   {
    "duration": 61,
    "start_time": "2021-08-26T06:45:59.922Z"
   },
   {
    "duration": 14,
    "start_time": "2021-08-26T06:45:59.985Z"
   },
   {
    "duration": 327,
    "start_time": "2021-08-26T06:46:00.002Z"
   },
   {
    "duration": 341,
    "start_time": "2021-08-26T06:46:00.331Z"
   },
   {
    "duration": 313,
    "start_time": "2021-08-26T06:46:00.674Z"
   },
   {
    "duration": 10,
    "start_time": "2021-08-26T06:46:00.989Z"
   },
   {
    "duration": 12,
    "start_time": "2021-08-26T06:46:01.000Z"
   },
   {
    "duration": 18,
    "start_time": "2021-08-26T06:46:01.014Z"
   },
   {
    "duration": 18,
    "start_time": "2021-08-26T06:46:01.034Z"
   },
   {
    "duration": 20,
    "start_time": "2021-08-26T06:46:01.055Z"
   },
   {
    "duration": 19,
    "start_time": "2021-08-26T06:46:01.077Z"
   },
   {
    "duration": 11,
    "start_time": "2021-08-26T06:48:22.920Z"
   },
   {
    "duration": 2037,
    "start_time": "2021-08-26T11:54:00.283Z"
   },
   {
    "duration": 27,
    "start_time": "2021-08-26T11:54:02.322Z"
   },
   {
    "duration": 31,
    "start_time": "2021-08-26T11:54:02.352Z"
   },
   {
    "duration": 24,
    "start_time": "2021-08-26T11:54:02.386Z"
   },
   {
    "duration": 8,
    "start_time": "2021-08-26T11:54:02.413Z"
   },
   {
    "duration": 13,
    "start_time": "2021-08-26T11:54:02.423Z"
   },
   {
    "duration": 109,
    "start_time": "2021-08-26T11:54:02.439Z"
   },
   {
    "duration": 44,
    "start_time": "2021-08-26T11:54:02.551Z"
   },
   {
    "duration": 382,
    "start_time": "2021-08-26T11:54:02.599Z"
   },
   {
    "duration": 79,
    "start_time": "2021-08-26T11:54:02.984Z"
   },
   {
    "duration": 51,
    "start_time": "2021-08-26T11:54:03.065Z"
   },
   {
    "duration": 84,
    "start_time": "2021-08-26T11:54:03.118Z"
   },
   {
    "duration": 72,
    "start_time": "2021-08-26T11:54:03.205Z"
   },
   {
    "duration": 54,
    "start_time": "2021-08-26T11:54:03.279Z"
   },
   {
    "duration": 40,
    "start_time": "2021-08-26T11:54:03.335Z"
   },
   {
    "duration": 504,
    "start_time": "2021-08-26T11:54:03.378Z"
   },
   {
    "duration": 379,
    "start_time": "2021-08-26T11:54:03.885Z"
   },
   {
    "duration": 9,
    "start_time": "2021-08-26T11:54:04.266Z"
   },
   {
    "duration": 28,
    "start_time": "2021-08-26T11:54:04.277Z"
   },
   {
    "duration": 12,
    "start_time": "2021-08-26T11:54:04.307Z"
   },
   {
    "duration": 63,
    "start_time": "2021-08-26T11:54:04.321Z"
   },
   {
    "duration": 11,
    "start_time": "2021-08-26T11:54:04.387Z"
   },
   {
    "duration": 11,
    "start_time": "2021-08-26T11:54:04.404Z"
   },
   {
    "duration": 489,
    "start_time": "2021-08-26T11:54:04.418Z"
   },
   {
    "duration": 463,
    "start_time": "2021-08-26T11:54:04.910Z"
   },
   {
    "duration": 479,
    "start_time": "2021-08-26T11:54:05.375Z"
   },
   {
    "duration": 29,
    "start_time": "2021-08-26T11:54:05.856Z"
   },
   {
    "duration": 17,
    "start_time": "2021-08-26T11:54:05.888Z"
   },
   {
    "duration": 22,
    "start_time": "2021-08-26T11:54:05.908Z"
   },
   {
    "duration": 702,
    "start_time": "2021-08-26T11:54:05.932Z"
   },
   {
    "duration": 455,
    "start_time": "2021-08-26T11:54:06.637Z"
   },
   {
    "duration": 32,
    "start_time": "2021-08-26T11:54:07.095Z"
   },
   {
    "duration": 48,
    "start_time": "2021-08-26T11:54:07.129Z"
   },
   {
    "duration": 59,
    "start_time": "2021-08-26T11:54:07.179Z"
   },
   {
    "duration": 33,
    "start_time": "2021-08-26T11:54:07.241Z"
   },
   {
    "duration": 424,
    "start_time": "2021-08-26T11:54:07.276Z"
   },
   {
    "duration": 24,
    "start_time": "2021-08-26T11:54:07.702Z"
   },
   {
    "duration": 43,
    "start_time": "2021-08-26T11:54:07.729Z"
   },
   {
    "duration": 34,
    "start_time": "2021-08-26T11:54:07.775Z"
   },
   {
    "duration": 68,
    "start_time": "2021-08-26T11:54:07.812Z"
   },
   {
    "duration": 24,
    "start_time": "2021-08-26T11:54:07.882Z"
   },
   {
    "duration": 525,
    "start_time": "2021-08-26T11:54:07.908Z"
   },
   {
    "duration": 497,
    "start_time": "2021-08-26T11:54:08.436Z"
   },
   {
    "duration": 493,
    "start_time": "2021-08-26T11:54:08.935Z"
   },
   {
    "duration": 13,
    "start_time": "2021-08-26T11:54:09.430Z"
   },
   {
    "duration": 21,
    "start_time": "2021-08-26T11:54:09.446Z"
   },
   {
    "duration": 15,
    "start_time": "2021-08-26T11:54:09.469Z"
   },
   {
    "duration": 10,
    "start_time": "2021-08-26T11:54:09.486Z"
   },
   {
    "duration": 20,
    "start_time": "2021-08-26T11:54:09.498Z"
   },
   {
    "duration": 44,
    "start_time": "2021-08-26T11:54:09.520Z"
   },
   {
    "duration": 12,
    "start_time": "2021-08-26T11:54:58.107Z"
   },
   {
    "duration": 1993,
    "start_time": "2021-08-26T11:59:43.220Z"
   },
   {
    "duration": 26,
    "start_time": "2021-08-26T11:59:45.215Z"
   },
   {
    "duration": 21,
    "start_time": "2021-08-26T11:59:45.244Z"
   },
   {
    "duration": 18,
    "start_time": "2021-08-26T11:59:45.268Z"
   },
   {
    "duration": 9,
    "start_time": "2021-08-26T11:59:45.288Z"
   },
   {
    "duration": 8,
    "start_time": "2021-08-26T11:59:45.299Z"
   },
   {
    "duration": 126,
    "start_time": "2021-08-26T11:59:45.309Z"
   },
   {
    "duration": 45,
    "start_time": "2021-08-26T11:59:45.438Z"
   },
   {
    "duration": 367,
    "start_time": "2021-08-26T11:59:45.486Z"
   },
   {
    "duration": 70,
    "start_time": "2021-08-26T11:59:45.862Z"
   },
   {
    "duration": 67,
    "start_time": "2021-08-26T11:59:45.935Z"
   },
   {
    "duration": 78,
    "start_time": "2021-08-26T11:59:46.004Z"
   },
   {
    "duration": 60,
    "start_time": "2021-08-26T11:59:46.084Z"
   },
   {
    "duration": 60,
    "start_time": "2021-08-26T11:59:46.162Z"
   },
   {
    "duration": 47,
    "start_time": "2021-08-26T11:59:46.224Z"
   },
   {
    "duration": 497,
    "start_time": "2021-08-26T11:59:46.274Z"
   },
   {
    "duration": 376,
    "start_time": "2021-08-26T11:59:46.773Z"
   },
   {
    "duration": 17,
    "start_time": "2021-08-26T11:59:47.151Z"
   },
   {
    "duration": 27,
    "start_time": "2021-08-26T11:59:47.171Z"
   },
   {
    "duration": 12,
    "start_time": "2021-08-26T11:59:47.201Z"
   },
   {
    "duration": 63,
    "start_time": "2021-08-26T11:59:47.216Z"
   },
   {
    "duration": 12,
    "start_time": "2021-08-26T11:59:47.282Z"
   },
   {
    "duration": 24,
    "start_time": "2021-08-26T11:59:47.299Z"
   },
   {
    "duration": 459,
    "start_time": "2021-08-26T11:59:47.326Z"
   },
   {
    "duration": 477,
    "start_time": "2021-08-26T11:59:47.787Z"
   },
   {
    "duration": 464,
    "start_time": "2021-08-26T11:59:48.267Z"
   },
   {
    "duration": 45,
    "start_time": "2021-08-26T11:59:48.734Z"
   },
   {
    "duration": 13,
    "start_time": "2021-08-26T11:59:48.782Z"
   },
   {
    "duration": 17,
    "start_time": "2021-08-26T11:59:48.799Z"
   },
   {
    "duration": 692,
    "start_time": "2021-08-26T11:59:48.818Z"
   },
   {
    "duration": 429,
    "start_time": "2021-08-26T11:59:49.512Z"
   },
   {
    "duration": 46,
    "start_time": "2021-08-26T11:59:49.944Z"
   },
   {
    "duration": 29,
    "start_time": "2021-08-26T11:59:49.992Z"
   },
   {
    "duration": 78,
    "start_time": "2021-08-26T11:59:50.024Z"
   },
   {
    "duration": 16,
    "start_time": "2021-08-26T11:59:50.104Z"
   },
   {
    "duration": 431,
    "start_time": "2021-08-26T11:59:50.122Z"
   },
   {
    "duration": 29,
    "start_time": "2021-08-26T11:59:50.556Z"
   },
   {
    "duration": 18,
    "start_time": "2021-08-26T11:59:50.588Z"
   },
   {
    "duration": 58,
    "start_time": "2021-08-26T11:59:50.609Z"
   },
   {
    "duration": 50,
    "start_time": "2021-08-26T11:59:50.669Z"
   },
   {
    "duration": 39,
    "start_time": "2021-08-26T11:59:50.722Z"
   },
   {
    "duration": 500,
    "start_time": "2021-08-26T11:59:50.764Z"
   },
   {
    "duration": 486,
    "start_time": "2021-08-26T11:59:51.266Z"
   },
   {
    "duration": 488,
    "start_time": "2021-08-26T11:59:51.755Z"
   },
   {
    "duration": 23,
    "start_time": "2021-08-26T11:59:52.246Z"
   },
   {
    "duration": 11,
    "start_time": "2021-08-26T11:59:52.272Z"
   },
   {
    "duration": 12,
    "start_time": "2021-08-26T11:59:52.285Z"
   },
   {
    "duration": 7,
    "start_time": "2021-08-26T11:59:52.299Z"
   },
   {
    "duration": 7,
    "start_time": "2021-08-26T11:59:52.308Z"
   },
   {
    "duration": 15,
    "start_time": "2021-08-26T11:59:52.362Z"
   },
   {
    "duration": 12,
    "start_time": "2021-08-26T12:00:59.580Z"
   },
   {
    "duration": 648,
    "start_time": "2021-08-26T12:03:17.825Z"
   },
   {
    "duration": 571,
    "start_time": "2021-08-26T12:03:49.300Z"
   },
   {
    "duration": 432,
    "start_time": "2021-08-27T16:38:17.824Z"
   },
   {
    "duration": 2054,
    "start_time": "2021-08-27T16:52:47.531Z"
   },
   {
    "duration": 27,
    "start_time": "2021-08-27T16:52:49.588Z"
   },
   {
    "duration": 23,
    "start_time": "2021-08-27T16:52:49.618Z"
   },
   {
    "duration": 31,
    "start_time": "2021-08-27T16:52:49.644Z"
   },
   {
    "duration": 8,
    "start_time": "2021-08-27T16:52:49.678Z"
   },
   {
    "duration": 9,
    "start_time": "2021-08-27T16:52:49.689Z"
   },
   {
    "duration": 124,
    "start_time": "2021-08-27T16:52:49.700Z"
   },
   {
    "duration": 45,
    "start_time": "2021-08-27T16:52:49.827Z"
   },
   {
    "duration": 397,
    "start_time": "2021-08-27T16:52:49.875Z"
   },
   {
    "duration": 70,
    "start_time": "2021-08-27T16:52:50.275Z"
   },
   {
    "duration": 66,
    "start_time": "2021-08-27T16:52:50.348Z"
   },
   {
    "duration": 82,
    "start_time": "2021-08-27T16:52:50.417Z"
   },
   {
    "duration": 75,
    "start_time": "2021-08-27T16:52:50.501Z"
   },
   {
    "duration": 58,
    "start_time": "2021-08-27T16:52:50.578Z"
   },
   {
    "duration": 43,
    "start_time": "2021-08-27T16:52:50.638Z"
   },
   {
    "duration": 554,
    "start_time": "2021-08-27T16:52:50.684Z"
   },
   {
    "duration": 405,
    "start_time": "2021-08-27T16:52:51.241Z"
   },
   {
    "duration": 19,
    "start_time": "2021-08-27T16:52:51.649Z"
   },
   {
    "duration": 28,
    "start_time": "2021-08-27T16:52:51.671Z"
   },
   {
    "duration": 17,
    "start_time": "2021-08-27T16:52:51.701Z"
   },
   {
    "duration": 64,
    "start_time": "2021-08-27T16:52:51.720Z"
   },
   {
    "duration": 13,
    "start_time": "2021-08-27T16:52:51.787Z"
   },
   {
    "duration": 12,
    "start_time": "2021-08-27T16:52:51.809Z"
   },
   {
    "duration": 531,
    "start_time": "2021-08-27T16:52:51.825Z"
   },
   {
    "duration": 476,
    "start_time": "2021-08-27T16:52:52.366Z"
   },
   {
    "duration": 511,
    "start_time": "2021-08-27T16:52:52.845Z"
   },
   {
    "duration": 27,
    "start_time": "2021-08-27T16:52:53.367Z"
   },
   {
    "duration": 12,
    "start_time": "2021-08-27T16:52:53.397Z"
   },
   {
    "duration": 18,
    "start_time": "2021-08-27T16:52:53.412Z"
   },
   {
    "duration": 684,
    "start_time": "2021-08-27T16:52:53.468Z"
   },
   {
    "duration": 588,
    "start_time": "2021-08-27T16:52:54.155Z"
   },
   {
    "duration": 612,
    "start_time": "2021-08-27T16:52:54.746Z"
   },
   {
    "duration": 463,
    "start_time": "2021-08-27T16:52:55.360Z"
   },
   {
    "duration": 45,
    "start_time": "2021-08-27T16:52:55.826Z"
   },
   {
    "duration": 27,
    "start_time": "2021-08-27T16:52:55.873Z"
   },
   {
    "duration": 71,
    "start_time": "2021-08-27T16:52:55.902Z"
   },
   {
    "duration": 16,
    "start_time": "2021-08-27T16:52:55.976Z"
   },
   {
    "duration": 443,
    "start_time": "2021-08-27T16:52:55.994Z"
   },
   {
    "duration": 41,
    "start_time": "2021-08-27T16:52:56.439Z"
   },
   {
    "duration": 28,
    "start_time": "2021-08-27T16:52:56.482Z"
   },
   {
    "duration": 37,
    "start_time": "2021-08-27T16:52:56.513Z"
   },
   {
    "duration": 61,
    "start_time": "2021-08-27T16:52:56.552Z"
   },
   {
    "duration": 26,
    "start_time": "2021-08-27T16:52:56.615Z"
   },
   {
    "duration": 504,
    "start_time": "2021-08-27T16:52:56.668Z"
   },
   {
    "duration": 607,
    "start_time": "2021-08-27T16:52:57.174Z"
   },
   {
    "duration": 502,
    "start_time": "2021-08-27T16:52:57.783Z"
   },
   {
    "duration": 15,
    "start_time": "2021-08-27T16:52:58.287Z"
   },
   {
    "duration": 13,
    "start_time": "2021-08-27T16:52:58.304Z"
   },
   {
    "duration": 23,
    "start_time": "2021-08-27T16:52:58.320Z"
   },
   {
    "duration": 36,
    "start_time": "2021-08-27T16:52:58.346Z"
   },
   {
    "duration": 24,
    "start_time": "2021-08-27T16:52:58.384Z"
   },
   {
    "duration": 19,
    "start_time": "2021-08-27T16:52:58.411Z"
   },
   {
    "duration": 8,
    "start_time": "2021-08-27T16:53:36.840Z"
   }
  ],
  "kernelspec": {
   "display_name": "Python 3",
   "language": "python",
   "name": "python3"
  },
  "language_info": {
   "codemirror_mode": {
    "name": "ipython",
    "version": 3
   },
   "file_extension": ".py",
   "mimetype": "text/x-python",
   "name": "python",
   "nbconvert_exporter": "python",
   "pygments_lexer": "ipython3",
   "version": "3.7.8"
  },
  "toc": {
   "base_numbering": 1,
   "nav_menu": {},
   "number_sections": true,
   "sideBar": true,
   "skip_h1_title": true,
   "title_cell": "Table of Contents",
   "title_sidebar": "Contents",
   "toc_cell": false,
   "toc_position": {},
   "toc_section_display": true,
   "toc_window_display": false
  }
 },
 "nbformat": 4,
 "nbformat_minor": 2
}
