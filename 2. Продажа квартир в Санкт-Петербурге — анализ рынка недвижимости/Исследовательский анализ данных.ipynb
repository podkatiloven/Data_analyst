{
 "cells": [
  {
   "cell_type": "markdown",
   "metadata": {
    "toc": true
   },
   "source": [
    "<h1>Содержание<span class=\"tocSkip\"></span></h1>\n",
    "<div class=\"toc\"><ul class=\"toc-item\"><li><ul class=\"toc-item\"><li><span><a href=\"#Вывод\" data-toc-modified-id=\"Вывод-0.1\"><span class=\"toc-item-num\">0.1&nbsp;&nbsp;</span>Вывод</a></span></li></ul></li><li><span><a href=\"#Предобработка-данных\" data-toc-modified-id=\"Предобработка-данных-1\"><span class=\"toc-item-num\">1&nbsp;&nbsp;</span>Предобработка данных</a></span></li><li><span><a href=\"#Расчёты-и-добавление-результатов-в-таблицу\" data-toc-modified-id=\"Расчёты-и-добавление-результатов-в-таблицу-2\"><span class=\"toc-item-num\">2&nbsp;&nbsp;</span>Расчёты и добавление результатов в таблицу</a></span><ul class=\"toc-item\"><li><span><a href=\"#Вывод\" data-toc-modified-id=\"Вывод-2.1\"><span class=\"toc-item-num\">2.1&nbsp;&nbsp;</span>Вывод</a></span></li></ul></li><li><span><a href=\"#Исследовательский-анализ-данных\" data-toc-modified-id=\"Исследовательский-анализ-данных-3\"><span class=\"toc-item-num\">3&nbsp;&nbsp;</span>Исследовательский анализ данных</a></span><ul class=\"toc-item\"><li><span><a href=\"#Изучите-следующие-параметры:-площадь,-цена,-число-комнат,-высота-потолков.-Постройте-гистограммы-для-каждого-параметра.\" data-toc-modified-id=\"Изучите-следующие-параметры:-площадь,-цена,-число-комнат,-высота-потолков.-Постройте-гистограммы-для-каждого-параметра.-3.1\"><span class=\"toc-item-num\">3.1&nbsp;&nbsp;</span>Изучите следующие параметры: площадь, цена, число комнат, высота потолков. Постройте гистограммы для каждого параметра.</a></span></li><li><span><a href=\"#Изучите-время-продажи-квартиры.-Постройте-гистограмму.-Посчитайте-среднее-и-медиану.-Опишите,-сколько-обычно-занимает-продажа.-Когда-можно-считать,-что-продажи-прошли-очень-быстро,-а-когда-необычно-долго?\" data-toc-modified-id=\"Изучите-время-продажи-квартиры.-Постройте-гистограмму.-Посчитайте-среднее-и-медиану.-Опишите,-сколько-обычно-занимает-продажа.-Когда-можно-считать,-что-продажи-прошли-очень-быстро,-а-когда-необычно-долго?-3.2\"><span class=\"toc-item-num\">3.2&nbsp;&nbsp;</span>Изучите время продажи квартиры. Постройте гистограмму. Посчитайте среднее и медиану. Опишите, сколько обычно занимает продажа. Когда можно считать, что продажи прошли очень быстро, а когда необычно долго?</a></span></li><li><span><a href=\"#Какие-факторы-больше-всего-влияют-на-стоимость-квартиры?-Изучите,-зависит-ли-цена-квадратного-метра-от-общей-площади-квартиры,-числа-комнат,-этажа-(первого-или-последнего),-удалённости-от-центра.-Также-изучите-зависимость-от-даты-размещения:-дня-недели,-месяца-и-года.\" data-toc-modified-id=\"Какие-факторы-больше-всего-влияют-на-стоимость-квартиры?-Изучите,-зависит-ли-цена-квадратного-метра-от-общей-площади-квартиры,-числа-комнат,-этажа-(первого-или-последнего),-удалённости-от-центра.-Также-изучите-зависимость-от-даты-размещения:-дня-недели,-месяца-и-года.-3.3\"><span class=\"toc-item-num\">3.3&nbsp;&nbsp;</span>Какие факторы больше всего влияют на стоимость квартиры? Изучите, зависит ли цена квадратного метра от общей площади квартиры, числа комнат, этажа (первого или последнего), удалённости от центра. Также изучите зависимость от даты размещения: дня недели, месяца и года.</a></span><ul class=\"toc-item\"><li><span><a href=\"#Изучим-зависимость-цены-квадратного-метра-от-общей-площади-квартиры.\" data-toc-modified-id=\"Изучим-зависимость-цены-квадратного-метра-от-общей-площади-квартиры.-3.3.1\"><span class=\"toc-item-num\">3.3.1&nbsp;&nbsp;</span><strong>Изучим зависимость цены квадратного метра от общей площади квартиры.</strong></a></span></li><li><span><a href=\"#Изучим-зависимость-цены-квадратного-метра-от-числа-комнат.\" data-toc-modified-id=\"Изучим-зависимость-цены-квадратного-метра-от-числа-комнат.-3.3.2\"><span class=\"toc-item-num\">3.3.2&nbsp;&nbsp;</span><strong>Изучим зависимость цены квадратного метра от числа комнат.</strong></a></span></li><li><span><a href=\"#Изучим-зависимость-цены-квадратного-метра-от-этажа-(первого-или-последнего).\" data-toc-modified-id=\"Изучим-зависимость-цены-квадратного-метра-от-этажа-(первого-или-последнего).-3.3.3\"><span class=\"toc-item-num\">3.3.3&nbsp;&nbsp;</span><strong>Изучим зависимость цены квадратного метра от этажа (первого или последнего).</strong></a></span></li><li><span><a href=\"#Изучим-зависимость-цены-квадратного-метра-от-удалённости-от-центра.\" data-toc-modified-id=\"Изучим-зависимость-цены-квадратного-метра-от-удалённости-от-центра.-3.3.4\"><span class=\"toc-item-num\">3.3.4&nbsp;&nbsp;</span><strong>Изучим зависимость цены квадратного метра от удалённости от центра.</strong></a></span></li><li><span><a href=\"#Изучим-зависимость-цены-квадратного-метра-от-даты-размещения:-дня-недели.\" data-toc-modified-id=\"Изучим-зависимость-цены-квадратного-метра-от-даты-размещения:-дня-недели.-3.3.5\"><span class=\"toc-item-num\">3.3.5&nbsp;&nbsp;</span><strong>Изучим зависимость цены квадратного метра от даты размещения: дня недели.</strong></a></span></li><li><span><a href=\"#Изучим-зависимость-цены-квадратного-метра-от-даты-размещения:-месяца.\" data-toc-modified-id=\"Изучим-зависимость-цены-квадратного-метра-от-даты-размещения:-месяца.-3.3.6\"><span class=\"toc-item-num\">3.3.6&nbsp;&nbsp;</span><strong>Изучим зависимость цены квадратного метра от даты размещения: месяца.</strong></a></span></li><li><span><a href=\"#Изучим-зависимость-цены-квадратного-метра-от-даты-размещения:-года.\" data-toc-modified-id=\"Изучим-зависимость-цены-квадратного-метра-от-даты-размещения:-года.-3.3.7\"><span class=\"toc-item-num\">3.3.7&nbsp;&nbsp;</span>Изучим зависимость цены квадратного метра от даты размещения: года.</a></span></li></ul></li></ul></li><li><span><a href=\"#Выберите-10-населённых-пунктов-с-наибольшим-числом-объявлений.-Посчитайте-среднюю-цену-квадратного-метра-в-этих-населённых-пунктах.-Выделите-населённые-пункты-с-самой-высокой-и-низкой-стоимостью-жилья.-Эти-данные-можно-найти-по-имени-в-столбце-'locality_name'.\" data-toc-modified-id=\"Выберите-10-населённых-пунктов-с-наибольшим-числом-объявлений.-Посчитайте-среднюю-цену-квадратного-метра-в-этих-населённых-пунктах.-Выделите-населённые-пункты-с-самой-высокой-и-низкой-стоимостью-жилья.-Эти-данные-можно-найти-по-имени-в-столбце-'locality_name'.-4\"><span class=\"toc-item-num\">4&nbsp;&nbsp;</span>Выберите 10 населённых пунктов с наибольшим числом объявлений. Посчитайте среднюю цену квадратного метра в этих населённых пунктах. Выделите населённые пункты с самой высокой и низкой стоимостью жилья. Эти данные можно найти по имени в столбце 'locality_name'.</a></span></li><li><span><a href=\"#Изучите-предложения-квартир:-для-каждой-квартиры-есть-информация-о-расстоянии-до-центра.-Выделите-квартиры-в-Санкт-Петербурге-('locality_name').-Ваша-задача-—-выяснить,-какая-область-входит-в-центр.-Создайте-столбец-с-расстоянием-до-центра-в-километрах:-округлите-до-целых-значений.-После-этого-посчитайте-среднюю-цену-для-каждого-километра.-Постройте-график:-он-должен-показывать,-как-цена-зависит-от-удалённости-от-центра.-Определите-границу,-где-график-сильно-меняется-—-это-и-будет-центральная-зона.\" data-toc-modified-id=\"Изучите-предложения-квартир:-для-каждой-квартиры-есть-информация-о-расстоянии-до-центра.-Выделите-квартиры-в-Санкт-Петербурге-('locality_name').-Ваша-задача-—-выяснить,-какая-область-входит-в-центр.-Создайте-столбец-с-расстоянием-до-центра-в-километрах:-округлите-до-целых-значений.-После-этого-посчитайте-среднюю-цену-для-каждого-километра.-Постройте-график:-он-должен-показывать,-как-цена-зависит-от-удалённости-от-центра.-Определите-границу,-где-график-сильно-меняется-—-это-и-будет-центральная-зона.-5\"><span class=\"toc-item-num\">5&nbsp;&nbsp;</span>Изучите предложения квартир: для каждой квартиры есть информация о расстоянии до центра. Выделите квартиры в Санкт-Петербурге ('locality_name'). Ваша задача — выяснить, какая область входит в центр. Создайте столбец с расстоянием до центра в километрах: округлите до целых значений. После этого посчитайте среднюю цену для каждого километра. Постройте график: он должен показывать, как цена зависит от удалённости от центра. Определите границу, где график сильно меняется — это и будет центральная зона.</a></span></li><li><span><a href=\"#Выделите-сегмент-квартир-в-центре.-Проанализируйте-эту-территорию-и-изучите-следующие-параметры:-площадь,-цена,-число-комнат,-высота-потолков.-Также-выделите-факторы,-которые-влияют-на-стоимость-квартиры-(число-комнат,-этаж,-удалённость-от-центра,-дата-размещения-объявления).-Сделайте-выводы.-Отличаются-ли-они-от-общих-выводов-по-всему-городу?\" data-toc-modified-id=\"Выделите-сегмент-квартир-в-центре.-Проанализируйте-эту-территорию-и-изучите-следующие-параметры:-площадь,-цена,-число-комнат,-высота-потолков.-Также-выделите-факторы,-которые-влияют-на-стоимость-квартиры-(число-комнат,-этаж,-удалённость-от-центра,-дата-размещения-объявления).-Сделайте-выводы.-Отличаются-ли-они-от-общих-выводов-по-всему-городу?-6\"><span class=\"toc-item-num\">6&nbsp;&nbsp;</span>Выделите сегмент квартир в центре. Проанализируйте эту территорию и изучите следующие параметры: площадь, цена, число комнат, высота потолков. Также выделите факторы, которые влияют на стоимость квартиры (число комнат, этаж, удалённость от центра, дата размещения объявления). Сделайте выводы. Отличаются ли они от общих выводов по всему городу?</a></span><ul class=\"toc-item\"><li><span><a href=\"#Зависимость-стоимости-квадратного-метра-от-количества-комнат.\" data-toc-modified-id=\"Зависимость-стоимости-квадратного-метра-от-количества-комнат.-6.1\"><span class=\"toc-item-num\">6.1&nbsp;&nbsp;</span>Зависимость стоимости квадратного метра от количества комнат.</a></span></li><li><span><a href=\"#Зависимость-стоимости-квадратного-метра-от-этажа.\" data-toc-modified-id=\"Зависимость-стоимости-квадратного-метра-от-этажа.-6.2\"><span class=\"toc-item-num\">6.2&nbsp;&nbsp;</span>Зависимость стоимости квадратного метра от этажа.</a></span></li><li><span><a href=\"#Зависимость-стоимости-квадратного-метра-от-удаленности-от-центра.\" data-toc-modified-id=\"Зависимость-стоимости-квадратного-метра-от-удаленности-от-центра.-6.3\"><span class=\"toc-item-num\">6.3&nbsp;&nbsp;</span>Зависимость стоимости квадратного метра от удаленности от центра.</a></span></li><li><span><a href=\"#Зависимость-стоимости-квадратного-метра-от-дня-недели-размещения-объявления.\" data-toc-modified-id=\"Зависимость-стоимости-квадратного-метра-от-дня-недели-размещения-объявления.-6.4\"><span class=\"toc-item-num\">6.4&nbsp;&nbsp;</span>Зависимость стоимости квадратного метра от дня недели размещения объявления.</a></span></li><li><span><a href=\"#Зависимость-стоимости-квадратного-метра-от-месяца-размещения-объявления.\" data-toc-modified-id=\"Зависимость-стоимости-квадратного-метра-от-месяца-размещения-объявления.-6.5\"><span class=\"toc-item-num\">6.5&nbsp;&nbsp;</span>Зависимость стоимости квадратного метра от месяца размещения объявления.</a></span></li><li><span><a href=\"#Зависимость-стоимости-квадратного-метра-от-года-размещения-объявления.\" data-toc-modified-id=\"Зависимость-стоимости-квадратного-метра-от-года-размещения-объявления.-6.6\"><span class=\"toc-item-num\">6.6&nbsp;&nbsp;</span>Зависимость стоимости квадратного метра от года размещения объявления.</a></span></li></ul></li><li><span><a href=\"#Общий-вывод\" data-toc-modified-id=\"Общий-вывод-7\"><span class=\"toc-item-num\">7&nbsp;&nbsp;</span>Общий вывод</a></span></li><li><span><a href=\"#Чек-лист-готовности-проекта\" data-toc-modified-id=\"Чек-лист-готовности-проекта-8\"><span class=\"toc-item-num\">8&nbsp;&nbsp;</span>Чек-лист готовности проекта</a></span></li></ul></div>"
   ]
  },
  {
   "cell_type": "markdown",
   "metadata": {},
   "source": [
    "# Исследование объявлений о продаже квартир\n",
    "\n",
    "В вашем распоряжении данные сервиса Яндекс.Недвижимость — архив объявлений о продаже квартир в Санкт-Петербурге и соседних населённых пунктах за несколько лет. Нужно научиться определять рыночную стоимость объектов недвижимости. Ваша задача — установить параметры. Это позволит построить автоматизированную систему: она отследит аномалии и мошенническую деятельность. \n",
    "\n",
    "По каждой квартире на продажу доступны два вида данных. Первые вписаны пользователем, вторые получены автоматически на основе картографических данных. Например, расстояние до центра, аэропорта, ближайшего парка и водоёма. "
   ]
  },
  {
   "cell_type": "code",
   "execution_count": 1,
   "metadata": {},
   "outputs": [
    {
     "name": "stdout",
     "output_type": "stream",
     "text": [
      "<class 'pandas.core.frame.DataFrame'>\n",
      "RangeIndex: 23699 entries, 0 to 23698\n",
      "Data columns (total 22 columns):\n",
      "total_images            23699 non-null int64\n",
      "last_price              23699 non-null float64\n",
      "total_area              23699 non-null float64\n",
      "first_day_exposition    23699 non-null object\n",
      "rooms                   23699 non-null int64\n",
      "ceiling_height          14504 non-null float64\n",
      "floors_total            23613 non-null float64\n",
      "living_area             21796 non-null float64\n",
      "floor                   23699 non-null int64\n",
      "is_apartment            2775 non-null object\n",
      "studio                  23699 non-null bool\n",
      "open_plan               23699 non-null bool\n",
      "kitchen_area            21421 non-null float64\n",
      "balcony                 12180 non-null float64\n",
      "locality_name           23650 non-null object\n",
      "airports_nearest        18157 non-null float64\n",
      "cityCenters_nearest     18180 non-null float64\n",
      "parks_around3000        18181 non-null float64\n",
      "parks_nearest           8079 non-null float64\n",
      "ponds_around3000        18181 non-null float64\n",
      "ponds_nearest           9110 non-null float64\n",
      "days_exposition         20518 non-null float64\n",
      "dtypes: bool(2), float64(14), int64(3), object(3)\n",
      "memory usage: 3.7+ MB\n"
     ]
    }
   ],
   "source": [
    "import pandas as pd\n",
    "df=pd.read_csv('/datasets/real_estate_data.csv', sep='\\t')\n",
    "df.info()"
   ]
  },
  {
   "cell_type": "markdown",
   "metadata": {},
   "source": [
    "### Вывод"
   ]
  },
  {
   "cell_type": "markdown",
   "metadata": {},
   "source": [
    "таблица состоит из 22 столбцов и 23699 строк. есть строки с пропусками "
   ]
  },
  {
   "cell_type": "markdown",
   "metadata": {},
   "source": [
    "## Предобработка данных"
   ]
  },
  {
   "cell_type": "code",
   "execution_count": 2,
   "metadata": {},
   "outputs": [
    {
     "name": "stdout",
     "output_type": "stream",
     "text": [
      "Index(['total_images', 'last_price', 'total_area', 'first_day_exposition',\n",
      "       'rooms', 'ceiling_height', 'floors_total', 'living_area', 'floor',\n",
      "       'is_apartment', 'studio', 'open_plan', 'kitchen_area', 'balcony',\n",
      "       'locality_name', 'airports_nearest', 'cityCenters_nearest',\n",
      "       'parks_around3000', 'parks_nearest', 'ponds_around3000',\n",
      "       'ponds_nearest', 'days_exposition'],\n",
      "      dtype='object')\n"
     ]
    },
    {
     "data": {
      "image/png": "[encoded data removed]",
      "text/plain": [
       "<Figure size 432x288 with 1 Axes>"
      ]
     },
     "metadata": {
      "needs_background": "light"
     },
     "output_type": "display_data"
    }
   ],
   "source": [
    "print(df.columns)\n",
    "#посмотрим значения в столбцах для выявления нестандартных значений на первый взгляд и ошибок, \n",
    "#все эти столбца оставляем как есть\n",
    "df['total_images'].value_counts()\n",
    "df['ceiling_height'].value_counts()\n",
    "df['floor'].value_counts()\n",
    "df['is_apartment'].value_counts()\n",
    "df['total_area'].value_counts()\n",
    "df['rooms'].value_counts()\n",
    "df['airports_nearest'].value_counts()\n",
    "df['cityCenters_nearest'].value_counts()\n",
    "df['parks_around3000'].value_counts()\n",
    "df['parks_nearest'].value_counts()\n",
    "df['ponds_around3000'].value_counts()\n",
    "\n",
    "#заменим пропуски в days_exposition и заменим тип данных\n",
    "df['days_exposition'] = df['days_exposition'].fillna(0).astype('int')\n",
    "\n",
    "#пропущенные значения в locality_name не будем трогать, причина не понятна\n",
    "df['locality_name'] = df['locality_name'].str.replace('ё','е', regex=True)\n",
    "df['locality_name'] = df['locality_name'].str.replace('деревня',' ', regex=True)\n",
    "df['locality_name'] = df['locality_name'].str.replace('поселокк станции',' ', regex=True)\n",
    "df['locality_name'] = df['locality_name'].str.replace('городской поселок',' ', regex=True)\n",
    "df['locality_name'] = df['locality_name'].str.replace('коттеджный поселок',' ', regex=True)\n",
    "df['locality_name'] = df['locality_name'].str.replace('коттеджный поселок',' ', regex=True)\n",
    "df['locality_name'] = df['locality_name'].str.replace('поселок городского типа',' ', regex=True)\n",
    "df['locality_name'] = df['locality_name'].str.replace('поселок при железнодорожной станции',' ', regex=True)\n",
    "df['locality_name'] = df['locality_name'].str.replace('садоводческое некоммерческое товарищество',' ', regex=True)\n",
    "df['locality_name'] = df['locality_name'].str.replace('садовое товарищество',' ', regex=True)\n",
    "df['locality_name'] = df['locality_name'].str.replace('поселок',' ', regex=True)\n",
    "df['locality_name'] = df['locality_name'].str.replace('село',' ', regex=True)\n",
    "\n",
    "df['locality_name'].value_counts()\n",
    "\n",
    " \n",
    "#переведем столбец с датой в формат даты без времени, т.к. время не указано\n",
    "df['first_day_exposition'] = pd.to_datetime(df['first_day_exposition'], format = '%Y-%m-%d')\n",
    "\n",
    "#заменим пропуски в balcony на 0 и изменим тип данных на int\n",
    "df['balcony'].value_counts()\n",
    "df['balcony'] = df['balcony'].fillna(0)\n",
    "df['balcony'] = df['balcony'].astype('int')\n",
    "\n",
    "#посмотрим параметр ceiling_height, видим что есть необоснованно большие значения но пока оставим их как есть,\n",
    "#медиана от среднего отличается не сильно из-за этих выбросов во всей выборке\n",
    "df['ceiling_height'].sort_values().plot(y = 'ceiling_height', kind = 'hist', bins = 30, range=(2,5))\n",
    "df['ceiling_height'].value_counts()\n",
    "df['ceiling_height'].describe()\n",
    "df[df['ceiling_height'] > 4].sort_values('ceiling_height').tail(20)\n",
    "\n",
    "#столбец апартаменты видимо появился не вместе с началом ведения записей, все пропущенные значения заменим на False, \n",
    "#апартаменты появились относительно недавно\n",
    "df['is_apartment'] = df['is_apartment'].fillna(False)\n",
    "\n",
    "#изменим цену на тип int для удобства просмотра\n",
    "df['last_price'] = df['last_price'].astype('int')\n",
    "df['last_price']\n",
    "\n",
    "#посмотрим данные с пропущенными значениями в floors_total- ничего общего между ними нет, оставим как есть\n",
    "df[df['floors_total'].isna()]\n",
    "\n",
    "#living_area слишком много знаков после запятой и есть пропущенные значения, \n",
    "#можно посчитать средний процент жилой площади от всей площади по всей выборке\n",
    "#и высчитать для строк с пропусками жилую площадь как вариант но мы не будем тратить на это время\n",
    "df['living_area'].value_counts()\n",
    "df['living_area'].describe()\n",
    "\n",
    "df['cityCenters_nearest']=df['cityCenters_nearest'].astype('float64')\n",
    "df['cityCenters_nearest'].fillna(df.groupby('locality_name')['cityCenters_nearest'].transform('mean'),inplace=True)\n",
    "df['cityCenters_nearest']=df['cityCenters_nearest'].fillna(df['cityCenters_nearest'].mean())#заполняем пропуски расстояния до центра по среднемму значению расстояния в зависимости от района."
   ]
  },
  {
   "cell_type": "markdown",
   "metadata": {},
   "source": [
    "## Расчёты и добавление результатов в таблицу"
   ]
  },
  {
   "cell_type": "code",
   "execution_count": 3,
   "metadata": {},
   "outputs": [],
   "source": [
    "df['price_per_square_meter'] = df['last_price'] / df['total_area']\n",
    "\n",
    "df['price_per_square_meter'] = df['price_per_square_meter'].astype('int')\n",
    "\n",
    "df['weekday_exposition'] = df['first_day_exposition'].dt.weekday\n",
    "\n",
    "df['month_exposition'] = df['first_day_exposition'].dt.month\n",
    "\n",
    "df['year_exposition'] = df['first_day_exposition'].dt.year\n",
    "\n",
    "#напишем функцию категоризации по этажам, используя метод apply применимо к каждой строке датафрейма через axis = 1\n",
    "def floor_category(row):\n",
    "    floors_total = row['floors_total']\n",
    "    floor = row['floor']\n",
    "    if floor == 1:\n",
    "        return 'первый'\n",
    "    elif floor == floors_total:\n",
    "        return 'последний'\n",
    "    elif 1 < floor < floors_total:\n",
    "        return 'другой'\n",
    "    \n",
    "#категоризуем этажи с помощью функции  \n",
    "df['floor_category'] = df.apply(floor_category, axis = 1)\n",
    "\n",
    "#добавим столбец соотношения жилой плозади к общей\n",
    "df['useful_area_ratio'] = df['living_area'] / df['total_area']\n",
    "\n",
    "#добавим столбец отношения площади кухни к общей\n",
    "df['kitchen_area_ratio'] = df['kitchen_area'] / df['total_area']\n"
   ]
  },
  {
   "cell_type": "markdown",
   "metadata": {},
   "source": [
    "### Вывод"
   ]
  },
  {
   "cell_type": "markdown",
   "metadata": {},
   "source": [
    "Посчитали:\n",
    "цену квадратного метра;\n",
    "день недели, месяц и год публикации объявления;\n",
    "этаж квартиры; варианты — первый, последний, другой;\n",
    "соотношение жилой и общей площади, а также отношение площади кухни к общей."
   ]
  },
  {
   "cell_type": "markdown",
   "metadata": {},
   "source": [
    "## Исследовательский анализ данных"
   ]
  },
  {
   "cell_type": "markdown",
   "metadata": {},
   "source": [
    "### Изучите следующие параметры: площадь, цена, число комнат, высота потолков. Постройте гистограммы для каждого параметра.\n"
   ]
  },
  {
   "cell_type": "code",
   "execution_count": 4,
   "metadata": {},
   "outputs": [
    {
     "data": {
      "text/plain": [
       "count    14504.000000\n",
       "mean         2.771499\n",
       "std          1.261056\n",
       "min          1.000000\n",
       "25%          2.520000\n",
       "50%          2.650000\n",
       "75%          2.800000\n",
       "max        100.000000\n",
       "Name: ceiling_height, dtype: float64"
      ]
     },
     "execution_count": 4,
     "metadata": {},
     "output_type": "execute_result"
    },
    {
     "data": {
      "image/png": "[encoded data removed]",
      "text/plain": [
       "<Figure size 360x216 with 1 Axes>"
      ]
     },
     "metadata": {
      "needs_background": "light"
     },
     "output_type": "display_data"
    },
    {
     "data": {
      "image/png": "[encoded data removed]",
      "text/plain": [
       "<Figure size 360x216 with 1 Axes>"
      ]
     },
     "metadata": {
      "needs_background": "light"
     },
     "output_type": "display_data"
    },
    {
     "data": {
      "image/png": "[encoded data removed]",
      "text/plain": [
       "<Figure size 360x216 with 1 Axes>"
      ]
     },
     "metadata": {
      "needs_background": "light"
     },
     "output_type": "display_data"
    },
    {
     "data": {
      "image/png": "[encoded data removed]",
      "text/plain": [
       "<Figure size 360x216 with 1 Axes>"
      ]
     },
     "metadata": {
      "needs_background": "light"
     },
     "output_type": "display_data"
    }
   ],
   "source": [
    "#изучим общую площадь\n",
    "df\n",
    "df.plot(y = 'total_area', kind = 'hist', bins = 100, grid=True, figsize = (5,3), range = (0,500))\n",
    "df['total_area'].describe()\n",
    "#распределение данных нормальное, есть выбросы но они не сильно влияют на данные, \n",
    "#по гистограмме кроме распределения нечего больше указать, с помошью describe получил общее представление\n",
    "\n",
    "#изучим цену\n",
    "#data['last_price'] = data['last_price']/1000000\n",
    "df.plot(y = 'last_price', kind = 'hist', bins = 100, grid=True, range = (0,15000000), figsize = (5,3))\n",
    "df['last_price'].describe()\n",
    "#с данными все впорядке но значения выводятся в экспоненциальной записи чисел\n",
    "\n",
    "#изучим число комнат\n",
    "df\n",
    "df.plot(y = 'rooms', kind = 'hist', bins = 30, grid=True, figsize = (5,3))\n",
    "df['rooms'].describe()\n",
    "#с данными все впорядке\n",
    "\n",
    "#изучим высоту потолков\n",
    "df\n",
    "df.plot(y = 'ceiling_height', kind = 'hist', bins = 30, range = (2,5), grid=True, figsize = (5,3))\n",
    "df['ceiling_height'].describe()"
   ]
  },
  {
   "cell_type": "markdown",
   "metadata": {},
   "source": [
    "Вывод"
   ]
  },
  {
   "cell_type": "markdown",
   "metadata": {},
   "source": [
    "Общая площадь в нашей выборке колеблется от 12 до 900 м2, среднее значение 60, а медиана 52 м2. Распределение данных Гаусса.\n",
    "\n",
    "Цены на недвижимость имеют среднее значение в 6,5 млн руб., медиана 4,6 млн руб. Распределение данных Гаусса.\n",
    "\n",
    "Количество комнат колеблется от 1 до 19. Больше всего однокомнатных квартир.\n",
    "\n",
    "Высота потолков в среднем составляет 2,77 м, медиана 2,65 м.\n",
    "\n",
    "Во всех данных есть неадекватные значения, наподобе 0 комнат, высоты потолков в 1 или 100 метров, а также цена квартиры в 12190 рублей. О данных неадекватных значениях мы спросим у сотрудников, предоставивших нам выборку данных, для общего изучения данных, мы не станем убирать эти выбивающиеся значения."
   ]
  },
  {
   "cell_type": "markdown",
   "metadata": {},
   "source": [
    "### Изучите время продажи квартиры. Постройте гистограмму. Посчитайте среднее и медиану. Опишите, сколько обычно занимает продажа. Когда можно считать, что продажи прошли очень быстро, а когда необычно долго?\n",
    "Прежде чем начать выполнять это задание сделаем предположение, что дата снятия объявления может не считаться датой продажи, причем в непонятном для нас количестве случаев..."
   ]
  },
  {
   "cell_type": "code",
   "execution_count": 5,
   "metadata": {},
   "outputs": [
    {
     "name": "stdout",
     "output_type": "stream",
     "text": [
      "Index(['total_images', 'last_price', 'total_area', 'first_day_exposition',\n",
      "       'rooms', 'ceiling_height', 'floors_total', 'living_area', 'floor',\n",
      "       'is_apartment', 'studio', 'open_plan', 'kitchen_area', 'balcony',\n",
      "       'locality_name', 'airports_nearest', 'cityCenters_nearest',\n",
      "       'parks_around3000', 'parks_nearest', 'ponds_around3000',\n",
      "       'ponds_nearest', 'days_exposition', 'price_per_square_meter',\n",
      "       'weekday_exposition', 'month_exposition', 'year_exposition',\n",
      "       'floor_category', 'useful_area_ratio', 'kitchen_area_ratio'],\n",
      "      dtype='object')\n"
     ]
    },
    {
     "data": {
      "text/plain": [
       "45      880\n",
       "60      538\n",
       "7       234\n",
       "30      208\n",
       "90      204\n",
       "       ... \n",
       "807       1\n",
       "871       1\n",
       "951       1\n",
       "999       1\n",
       "1223      1\n",
       "Name: days_exposition, Length: 1141, dtype: int64"
      ]
     },
     "execution_count": 5,
     "metadata": {},
     "output_type": "execute_result"
    },
    {
     "data": {
      "image/png": "[encoded data removed]",
      "text/plain": [
       "<Figure size 432x288 with 1 Axes>"
      ]
     },
     "metadata": {
      "needs_background": "light"
     },
     "output_type": "display_data"
    },
    {
     "data": {
      "image/png": "[encoded data removed]",
      "text/plain": [
       "<Figure size 432x288 with 1 Axes>"
      ]
     },
     "metadata": {
      "needs_background": "light"
     },
     "output_type": "display_data"
    },
    {
     "data": {
      "image/png": "[encoded data removed]",
      "text/plain": [
       "<Figure size 432x288 with 1 Axes>"
      ]
     },
     "metadata": {
      "needs_background": "light"
     },
     "output_type": "display_data"
    }
   ],
   "source": [
    "print(df.columns)\n",
    "\n",
    "#диаграмма размаха\n",
    "import matplotlib.pyplot as plt\n",
    "plt.boxplot(df[df['days_exposition']!=0]['days_exposition'])\n",
    "plt.ylim(1,1000)\n",
    "\n",
    "df.plot(y = 'days_exposition', kind = 'hist', bins = 30, grid = True, range = (1,1600))\n",
    "df.plot(y = 'days_exposition', kind = 'hist', bins = 100, grid = True, range = (1,200))\n",
    "\n",
    "#среднее значение, медиана и межквартильный размах\n",
    "df[df['days_exposition']!=0]['days_exposition'].describe()\n",
    "df[df['days_exposition']!=0]['days_exposition'].value_counts()\n",
    "\n"
   ]
  },
  {
   "cell_type": "markdown",
   "metadata": {},
   "source": [
    " Вывод"
   ]
  },
  {
   "cell_type": "markdown",
   "metadata": {},
   "source": [
    "Cудя по гистограмме - мы имеем распределение Пуассона. Среднее значение - 180 дней, а медиана - 95 дней. Сделав гистограмму со значениями от 0 до 200 с кол-вом корзин 100, обнаружили выбивающиеся значения и методом value_counts убедились в этом - у нас аномалии на 45, 60, 7, 30, 90 днях - это наиболее популярное количество дней до снятия объявления.\n",
    "\n",
    "Загуглил правила размещения объявлений в Яндекс Недвижимость, оказалось что именно после этих сроков объявление считается неактуальным и снимается автоматически. https://yandex.ru/support/realty/owner/home/add-ads-housing.html Наверное, нам нужно убрать эти значения из выборки, но нужно подумать есть ли еще критерии для снятия таких объявлений, ведь часть из таких квартир могла и правда продаться в этот срок."
   ]
  },
  {
   "cell_type": "code",
   "execution_count": 6,
   "metadata": {},
   "outputs": [
    {
     "data": {
      "text/html": [
       "<div>\n",
       "<style scoped>\n",
       "    .dataframe tbody tr th:only-of-type {\n",
       "        vertical-align: middle;\n",
       "    }\n",
       "\n",
       "    .dataframe tbody tr th {\n",
       "        vertical-align: top;\n",
       "    }\n",
       "\n",
       "    .dataframe thead th {\n",
       "        text-align: right;\n",
       "    }\n",
       "</style>\n",
       "<table border=\"1\" class=\"dataframe\">\n",
       "  <thead>\n",
       "    <tr style=\"text-align: right;\">\n",
       "      <th></th>\n",
       "      <th>total_images</th>\n",
       "      <th>last_price</th>\n",
       "      <th>total_area</th>\n",
       "      <th>first_day_exposition</th>\n",
       "      <th>rooms</th>\n",
       "      <th>ceiling_height</th>\n",
       "      <th>floors_total</th>\n",
       "      <th>living_area</th>\n",
       "      <th>floor</th>\n",
       "      <th>is_apartment</th>\n",
       "      <th>...</th>\n",
       "      <th>ponds_around3000</th>\n",
       "      <th>ponds_nearest</th>\n",
       "      <th>days_exposition</th>\n",
       "      <th>price_per_square_meter</th>\n",
       "      <th>weekday_exposition</th>\n",
       "      <th>month_exposition</th>\n",
       "      <th>year_exposition</th>\n",
       "      <th>floor_category</th>\n",
       "      <th>useful_area_ratio</th>\n",
       "      <th>kitchen_area_ratio</th>\n",
       "    </tr>\n",
       "  </thead>\n",
       "  <tbody>\n",
       "    <tr>\n",
       "      <td>78</td>\n",
       "      <td>9</td>\n",
       "      <td>4350000</td>\n",
       "      <td>37.0</td>\n",
       "      <td>2018-02-22</td>\n",
       "      <td>1</td>\n",
       "      <td>NaN</td>\n",
       "      <td>19.0</td>\n",
       "      <td>18.0</td>\n",
       "      <td>6</td>\n",
       "      <td>False</td>\n",
       "      <td>...</td>\n",
       "      <td>0.0</td>\n",
       "      <td>NaN</td>\n",
       "      <td>45</td>\n",
       "      <td>117567</td>\n",
       "      <td>3</td>\n",
       "      <td>2</td>\n",
       "      <td>2018</td>\n",
       "      <td>другой</td>\n",
       "      <td>0.486486</td>\n",
       "      <td>0.289189</td>\n",
       "    </tr>\n",
       "    <tr>\n",
       "      <td>89</td>\n",
       "      <td>9</td>\n",
       "      <td>2500000</td>\n",
       "      <td>63.0</td>\n",
       "      <td>2018-10-25</td>\n",
       "      <td>3</td>\n",
       "      <td>2.50</td>\n",
       "      <td>5.0</td>\n",
       "      <td>43.0</td>\n",
       "      <td>4</td>\n",
       "      <td>False</td>\n",
       "      <td>...</td>\n",
       "      <td>NaN</td>\n",
       "      <td>NaN</td>\n",
       "      <td>45</td>\n",
       "      <td>39682</td>\n",
       "      <td>3</td>\n",
       "      <td>10</td>\n",
       "      <td>2018</td>\n",
       "      <td>другой</td>\n",
       "      <td>0.682540</td>\n",
       "      <td>0.142857</td>\n",
       "    </tr>\n",
       "    <tr>\n",
       "      <td>110</td>\n",
       "      <td>6</td>\n",
       "      <td>3850000</td>\n",
       "      <td>72.3</td>\n",
       "      <td>2017-09-29</td>\n",
       "      <td>2</td>\n",
       "      <td>NaN</td>\n",
       "      <td>3.0</td>\n",
       "      <td>27.4</td>\n",
       "      <td>2</td>\n",
       "      <td>False</td>\n",
       "      <td>...</td>\n",
       "      <td>NaN</td>\n",
       "      <td>NaN</td>\n",
       "      <td>45</td>\n",
       "      <td>53250</td>\n",
       "      <td>4</td>\n",
       "      <td>9</td>\n",
       "      <td>2017</td>\n",
       "      <td>другой</td>\n",
       "      <td>0.378976</td>\n",
       "      <td>0.326418</td>\n",
       "    </tr>\n",
       "    <tr>\n",
       "      <td>153</td>\n",
       "      <td>12</td>\n",
       "      <td>4350000</td>\n",
       "      <td>55.0</td>\n",
       "      <td>2017-05-21</td>\n",
       "      <td>2</td>\n",
       "      <td>2.57</td>\n",
       "      <td>9.0</td>\n",
       "      <td>31.2</td>\n",
       "      <td>2</td>\n",
       "      <td>False</td>\n",
       "      <td>...</td>\n",
       "      <td>0.0</td>\n",
       "      <td>NaN</td>\n",
       "      <td>45</td>\n",
       "      <td>79090</td>\n",
       "      <td>6</td>\n",
       "      <td>5</td>\n",
       "      <td>2017</td>\n",
       "      <td>другой</td>\n",
       "      <td>0.567273</td>\n",
       "      <td>0.150909</td>\n",
       "    </tr>\n",
       "    <tr>\n",
       "      <td>158</td>\n",
       "      <td>15</td>\n",
       "      <td>3100000</td>\n",
       "      <td>47.3</td>\n",
       "      <td>2017-11-07</td>\n",
       "      <td>2</td>\n",
       "      <td>NaN</td>\n",
       "      <td>5.0</td>\n",
       "      <td>27.5</td>\n",
       "      <td>2</td>\n",
       "      <td>False</td>\n",
       "      <td>...</td>\n",
       "      <td>NaN</td>\n",
       "      <td>NaN</td>\n",
       "      <td>45</td>\n",
       "      <td>65539</td>\n",
       "      <td>1</td>\n",
       "      <td>11</td>\n",
       "      <td>2017</td>\n",
       "      <td>другой</td>\n",
       "      <td>0.581395</td>\n",
       "      <td>0.179704</td>\n",
       "    </tr>\n",
       "    <tr>\n",
       "      <td>...</td>\n",
       "      <td>...</td>\n",
       "      <td>...</td>\n",
       "      <td>...</td>\n",
       "      <td>...</td>\n",
       "      <td>...</td>\n",
       "      <td>...</td>\n",
       "      <td>...</td>\n",
       "      <td>...</td>\n",
       "      <td>...</td>\n",
       "      <td>...</td>\n",
       "      <td>...</td>\n",
       "      <td>...</td>\n",
       "      <td>...</td>\n",
       "      <td>...</td>\n",
       "      <td>...</td>\n",
       "      <td>...</td>\n",
       "      <td>...</td>\n",
       "      <td>...</td>\n",
       "      <td>...</td>\n",
       "      <td>...</td>\n",
       "      <td>...</td>\n",
       "    </tr>\n",
       "    <tr>\n",
       "      <td>23601</td>\n",
       "      <td>10</td>\n",
       "      <td>2900000</td>\n",
       "      <td>43.4</td>\n",
       "      <td>2018-01-11</td>\n",
       "      <td>2</td>\n",
       "      <td>NaN</td>\n",
       "      <td>5.0</td>\n",
       "      <td>NaN</td>\n",
       "      <td>1</td>\n",
       "      <td>False</td>\n",
       "      <td>...</td>\n",
       "      <td>2.0</td>\n",
       "      <td>397.0</td>\n",
       "      <td>45</td>\n",
       "      <td>66820</td>\n",
       "      <td>3</td>\n",
       "      <td>1</td>\n",
       "      <td>2018</td>\n",
       "      <td>первый</td>\n",
       "      <td>NaN</td>\n",
       "      <td>NaN</td>\n",
       "    </tr>\n",
       "    <tr>\n",
       "      <td>23613</td>\n",
       "      <td>4</td>\n",
       "      <td>3950000</td>\n",
       "      <td>52.0</td>\n",
       "      <td>2018-03-04</td>\n",
       "      <td>3</td>\n",
       "      <td>NaN</td>\n",
       "      <td>5.0</td>\n",
       "      <td>NaN</td>\n",
       "      <td>2</td>\n",
       "      <td>False</td>\n",
       "      <td>...</td>\n",
       "      <td>0.0</td>\n",
       "      <td>NaN</td>\n",
       "      <td>45</td>\n",
       "      <td>75961</td>\n",
       "      <td>6</td>\n",
       "      <td>3</td>\n",
       "      <td>2018</td>\n",
       "      <td>другой</td>\n",
       "      <td>NaN</td>\n",
       "      <td>NaN</td>\n",
       "    </tr>\n",
       "    <tr>\n",
       "      <td>23670</td>\n",
       "      <td>9</td>\n",
       "      <td>2450000</td>\n",
       "      <td>45.6</td>\n",
       "      <td>2018-02-08</td>\n",
       "      <td>1</td>\n",
       "      <td>2.80</td>\n",
       "      <td>9.0</td>\n",
       "      <td>NaN</td>\n",
       "      <td>2</td>\n",
       "      <td>False</td>\n",
       "      <td>...</td>\n",
       "      <td>NaN</td>\n",
       "      <td>NaN</td>\n",
       "      <td>45</td>\n",
       "      <td>53728</td>\n",
       "      <td>3</td>\n",
       "      <td>2</td>\n",
       "      <td>2018</td>\n",
       "      <td>другой</td>\n",
       "      <td>NaN</td>\n",
       "      <td>NaN</td>\n",
       "    </tr>\n",
       "    <tr>\n",
       "      <td>23679</td>\n",
       "      <td>0</td>\n",
       "      <td>2500000</td>\n",
       "      <td>35.0</td>\n",
       "      <td>2017-12-08</td>\n",
       "      <td>1</td>\n",
       "      <td>NaN</td>\n",
       "      <td>9.0</td>\n",
       "      <td>NaN</td>\n",
       "      <td>4</td>\n",
       "      <td>False</td>\n",
       "      <td>...</td>\n",
       "      <td>NaN</td>\n",
       "      <td>NaN</td>\n",
       "      <td>45</td>\n",
       "      <td>71428</td>\n",
       "      <td>4</td>\n",
       "      <td>12</td>\n",
       "      <td>2017</td>\n",
       "      <td>другой</td>\n",
       "      <td>NaN</td>\n",
       "      <td>NaN</td>\n",
       "    </tr>\n",
       "    <tr>\n",
       "      <td>23695</td>\n",
       "      <td>14</td>\n",
       "      <td>3100000</td>\n",
       "      <td>59.0</td>\n",
       "      <td>2018-01-15</td>\n",
       "      <td>3</td>\n",
       "      <td>NaN</td>\n",
       "      <td>5.0</td>\n",
       "      <td>38.0</td>\n",
       "      <td>4</td>\n",
       "      <td>False</td>\n",
       "      <td>...</td>\n",
       "      <td>NaN</td>\n",
       "      <td>NaN</td>\n",
       "      <td>45</td>\n",
       "      <td>52542</td>\n",
       "      <td>0</td>\n",
       "      <td>1</td>\n",
       "      <td>2018</td>\n",
       "      <td>другой</td>\n",
       "      <td>0.644068</td>\n",
       "      <td>0.144068</td>\n",
       "    </tr>\n",
       "  </tbody>\n",
       "</table>\n",
       "<p>880 rows × 29 columns</p>\n",
       "</div>"
      ],
      "text/plain": [
       "       total_images  last_price  total_area first_day_exposition  rooms  \\\n",
       "78                9     4350000        37.0           2018-02-22      1   \n",
       "89                9     2500000        63.0           2018-10-25      3   \n",
       "110               6     3850000        72.3           2017-09-29      2   \n",
       "153              12     4350000        55.0           2017-05-21      2   \n",
       "158              15     3100000        47.3           2017-11-07      2   \n",
       "...             ...         ...         ...                  ...    ...   \n",
       "23601            10     2900000        43.4           2018-01-11      2   \n",
       "23613             4     3950000        52.0           2018-03-04      3   \n",
       "23670             9     2450000        45.6           2018-02-08      1   \n",
       "23679             0     2500000        35.0           2017-12-08      1   \n",
       "23695            14     3100000        59.0           2018-01-15      3   \n",
       "\n",
       "       ceiling_height  floors_total  living_area  floor  is_apartment  ...  \\\n",
       "78                NaN          19.0         18.0      6         False  ...   \n",
       "89               2.50           5.0         43.0      4         False  ...   \n",
       "110               NaN           3.0         27.4      2         False  ...   \n",
       "153              2.57           9.0         31.2      2         False  ...   \n",
       "158               NaN           5.0         27.5      2         False  ...   \n",
       "...               ...           ...          ...    ...           ...  ...   \n",
       "23601             NaN           5.0          NaN      1         False  ...   \n",
       "23613             NaN           5.0          NaN      2         False  ...   \n",
       "23670            2.80           9.0          NaN      2         False  ...   \n",
       "23679             NaN           9.0          NaN      4         False  ...   \n",
       "23695             NaN           5.0         38.0      4         False  ...   \n",
       "\n",
       "       ponds_around3000  ponds_nearest  days_exposition  \\\n",
       "78                  0.0            NaN               45   \n",
       "89                  NaN            NaN               45   \n",
       "110                 NaN            NaN               45   \n",
       "153                 0.0            NaN               45   \n",
       "158                 NaN            NaN               45   \n",
       "...                 ...            ...              ...   \n",
       "23601               2.0          397.0               45   \n",
       "23613               0.0            NaN               45   \n",
       "23670               NaN            NaN               45   \n",
       "23679               NaN            NaN               45   \n",
       "23695               NaN            NaN               45   \n",
       "\n",
       "       price_per_square_meter weekday_exposition  month_exposition  \\\n",
       "78                     117567                  3                 2   \n",
       "89                      39682                  3                10   \n",
       "110                     53250                  4                 9   \n",
       "153                     79090                  6                 5   \n",
       "158                     65539                  1                11   \n",
       "...                       ...                ...               ...   \n",
       "23601                   66820                  3                 1   \n",
       "23613                   75961                  6                 3   \n",
       "23670                   53728                  3                 2   \n",
       "23679                   71428                  4                12   \n",
       "23695                   52542                  0                 1   \n",
       "\n",
       "       year_exposition  floor_category  useful_area_ratio  kitchen_area_ratio  \n",
       "78                2018          другой           0.486486            0.289189  \n",
       "89                2018          другой           0.682540            0.142857  \n",
       "110               2017          другой           0.378976            0.326418  \n",
       "153               2017          другой           0.567273            0.150909  \n",
       "158               2017          другой           0.581395            0.179704  \n",
       "...                ...             ...                ...                 ...  \n",
       "23601             2018          первый                NaN                 NaN  \n",
       "23613             2018          другой                NaN                 NaN  \n",
       "23670             2018          другой                NaN                 NaN  \n",
       "23679             2017          другой                NaN                 NaN  \n",
       "23695             2018          другой           0.644068            0.144068  \n",
       "\n",
       "[880 rows x 29 columns]"
      ]
     },
     "execution_count": 6,
     "metadata": {},
     "output_type": "execute_result"
    }
   ],
   "source": [
    "df[df['days_exposition']==45]"
   ]
  },
  {
   "cell_type": "markdown",
   "metadata": {},
   "source": [
    "Вывод"
   ]
  },
  {
   "cell_type": "markdown",
   "metadata": {},
   "source": [
    "Никаких общих особенностей в обьявлениях, снятых через 45 дней не выявлено, потому будем убирать эти данные из наших расчетов, как и данные с 60, 90, 30 и 7 дней в столбце days_exposition, так как это аномалии.\n",
    "\n",
    "До того, как мы очистим наши данные от аномалий, нам нужно дать ответ на вопрос, какое количество дней считать нормальным, а какое выбросом на текущий момент до очистки данных. Исходя из метода describe, межквартильный размах - от 45 до 232 дней, исходя же из метода boxplot - диаграмма размаха у нас от минимального значения до примерно 500 дней. Значит необоснованно быстрых значений у нас нет, а необоснованно долгие - от 500 дней и выше. Значит нормальные значения у нас лежат от 1 до 500.\n",
    "\n",
    "На текущий момент мы уже знаем, что эти данные неправильные, но они нам нужны, чтобы сравнить с данными, очищенными от аномалий далее.\n",
    "\n",
    "Считаю важным уточнить у сотрудников насчет выбивающихся значений по датам снятия объявлений, чтобы убедиться в том, какие данные необходимо исключить из выборки."
   ]
  },
  {
   "cell_type": "code",
   "execution_count": 7,
   "metadata": {},
   "outputs": [
    {
     "data": {
      "text/plain": [
       "count    15323.000000\n",
       "mean       111.380800\n",
       "std         91.066577\n",
       "min          3.000000\n",
       "25%         36.000000\n",
       "50%         87.000000\n",
       "75%        166.000000\n",
       "max        359.000000\n",
       "Name: days_exposition, dtype: float64"
      ]
     },
     "execution_count": 7,
     "metadata": {},
     "output_type": "execute_result"
    },
    {
     "data": {
      "image/png": "[encoded data removed]",
      "text/plain": [
       "<Figure size 432x288 with 1 Axes>"
      ]
     },
     "metadata": {
      "needs_background": "light"
     },
     "output_type": "display_data"
    },
    {
     "data": {
      "image/png": "[encoded data removed]",
      "text/plain": [
       "<Figure size 432x288 with 1 Axes>"
      ]
     },
     "metadata": {
      "needs_background": "light"
     },
     "output_type": "display_data"
    },
    {
     "data": {
      "image/png": "[encoded data removed]",
      "text/plain": [
       "<Figure size 432x288 with 1 Axes>"
      ]
     },
     "metadata": {
      "needs_background": "light"
     },
     "output_type": "display_data"
    }
   ],
   "source": [
    "#отфильтруем данные от аномалий и запишем их в новый датафрейм good_data\n",
    "good_data = df.query('days_exposition != 45 and days_exposition != 30 and days_exposition != 60 and days_exposition != 90 and days_exposition != 7 and days_exposition != 0')\n",
    "\n",
    "#диаграмма размаха\n",
    "good_data_IQR = good_data[(good_data['days_exposition'] < 360)&(good_data['days_exposition'] > 2) ]\n",
    "plt.boxplot(good_data_IQR['days_exposition'])\n",
    "#good_data_IQR['days_exposition'].plot()\n",
    "plt.ylim(1,500)\n",
    "\n",
    "#гистограммы\n",
    "good_data_IQR.plot(y = 'days_exposition', kind = 'hist', bins = 30, grid = True, range = (1,400))\n",
    "good_data_IQR.plot(y = 'days_exposition', kind = 'hist', bins = 100, grid = True, range = (1,200))\n",
    "\n",
    "#среднее значение, медиана и межквартильный размах\n",
    "#good_data['days_exposition'].value_counts()\n",
    "good_data_IQR['days_exposition'].describe()\n"
   ]
  },
  {
   "cell_type": "markdown",
   "metadata": {},
   "source": [
    "Вывод: ожидаемо, в очищенных данных с аномалиями в значениях меньших медианы получаем бОльшие значения медианы и среднего значения - 114 и 195 соответственно, вместо 95 и 180. Аналогично, теперь нормальные значения располагаются от 1 до 600 дней вместо от 1 до 500 дней."
   ]
  },
  {
   "cell_type": "markdown",
   "metadata": {},
   "source": [
    "### Какие факторы больше всего влияют на стоимость квартиры? Изучите, зависит ли цена квадратного метра от общей площади квартиры, числа комнат, этажа (первого или последнего), удалённости от центра. Также изучите зависимость от даты размещения: дня недели, месяца и года."
   ]
  },
  {
   "cell_type": "markdown",
   "metadata": {},
   "source": [
    "#### **Изучим зависимость цены квадратного метра от общей площади квартиры.**"
   ]
  },
  {
   "cell_type": "code",
   "execution_count": 8,
   "metadata": {},
   "outputs": [
    {
     "data": {
      "text/plain": [
       "0.30196014387792547"
      ]
     },
     "execution_count": 8,
     "metadata": {},
     "output_type": "execute_result"
    },
    {
     "data": {
      "image/png": "[encoded data removed]",
      "text/plain": [
       "<Figure size 432x288 with 1 Axes>"
      ]
     },
     "metadata": {
      "needs_background": "light"
     },
     "output_type": "display_data"
    }
   ],
   "source": [
    "pivot_table_total_area = df.pivot_table(index = 'total_area', values = 'price_per_square_meter', aggfunc = ['mean', 'count', 'median'])\n",
    "pivot_table_total_area.columns = ['mean', 'count', 'median']\n",
    "pivot_table_total_area.plot(y = 'median', style = 'o')\n",
    "\n",
    "pivot_table_total_area.sort_values('median', ascending = False)\n",
    "\n",
    "df['total_area'].corr(df['price_per_square_meter'])"
   ]
  },
  {
   "cell_type": "markdown",
   "metadata": {},
   "source": [
    "Вывод: видим, что зависимость очень слабая - согласно корреляции Пирсона - 0.3! То есть, чем больше площадь тем немного выше стоимость!"
   ]
  },
  {
   "cell_type": "markdown",
   "metadata": {},
   "source": [
    "#### **Изучим зависимость цены квадратного метра от числа комнат.**"
   ]
  },
  {
   "cell_type": "code",
   "execution_count": 47,
   "metadata": {},
   "outputs": [
    {
     "data": {
      "text/html": [
       "<div>\n",
       "<style scoped>\n",
       "    .dataframe tbody tr th:only-of-type {\n",
       "        vertical-align: middle;\n",
       "    }\n",
       "\n",
       "    .dataframe tbody tr th {\n",
       "        vertical-align: top;\n",
       "    }\n",
       "\n",
       "    .dataframe thead th {\n",
       "        text-align: right;\n",
       "    }\n",
       "</style>\n",
       "<table border=\"1\" class=\"dataframe\">\n",
       "  <thead>\n",
       "    <tr style=\"text-align: right;\">\n",
       "      <th></th>\n",
       "      <th>mean</th>\n",
       "      <th>count</th>\n",
       "      <th>median</th>\n",
       "    </tr>\n",
       "    <tr>\n",
       "      <th>rooms</th>\n",
       "      <th></th>\n",
       "      <th></th>\n",
       "      <th></th>\n",
       "    </tr>\n",
       "  </thead>\n",
       "  <tbody>\n",
       "    <tr>\n",
       "      <td>7</td>\n",
       "      <td>163569.491525</td>\n",
       "      <td>59</td>\n",
       "      <td>108827.0</td>\n",
       "    </tr>\n",
       "    <tr>\n",
       "      <td>0</td>\n",
       "      <td>108512.730964</td>\n",
       "      <td>197</td>\n",
       "      <td>105555.0</td>\n",
       "    </tr>\n",
       "    <tr>\n",
       "      <td>1</td>\n",
       "      <td>100817.830993</td>\n",
       "      <td>8047</td>\n",
       "      <td>100000.0</td>\n",
       "    </tr>\n",
       "    <tr>\n",
       "      <td>6</td>\n",
       "      <td>140718.342857</td>\n",
       "      <td>105</td>\n",
       "      <td>99411.0</td>\n",
       "    </tr>\n",
       "    <tr>\n",
       "      <td>5</td>\n",
       "      <td>126749.889571</td>\n",
       "      <td>326</td>\n",
       "      <td>96516.5</td>\n",
       "    </tr>\n",
       "    <tr>\n",
       "      <td>2</td>\n",
       "      <td>95489.207557</td>\n",
       "      <td>7940</td>\n",
       "      <td>92796.0</td>\n",
       "    </tr>\n",
       "    <tr>\n",
       "      <td>4</td>\n",
       "      <td>110331.160169</td>\n",
       "      <td>1180</td>\n",
       "      <td>92666.0</td>\n",
       "    </tr>\n",
       "    <tr>\n",
       "      <td>3</td>\n",
       "      <td>97150.694358</td>\n",
       "      <td>5814</td>\n",
       "      <td>88983.0</td>\n",
       "    </tr>\n",
       "  </tbody>\n",
       "</table>\n",
       "</div>"
      ],
      "text/plain": [
       "                mean  count    median\n",
       "rooms                                \n",
       "7      163569.491525     59  108827.0\n",
       "0      108512.730964    197  105555.0\n",
       "1      100817.830993   8047  100000.0\n",
       "6      140718.342857    105   99411.0\n",
       "5      126749.889571    326   96516.5\n",
       "2       95489.207557   7940   92796.0\n",
       "4      110331.160169   1180   92666.0\n",
       "3       97150.694358   5814   88983.0"
      ]
     },
     "execution_count": 47,
     "metadata": {},
     "output_type": "execute_result"
    },
    {
     "data": {
      "image/png": "[encoded data removed]",
      "text/plain": [
       "<Figure size 432x288 with 1 Axes>"
      ]
     },
     "metadata": {
      "needs_background": "light"
     },
     "output_type": "display_data"
    }
   ],
   "source": [
    "pivot_table_rooms = df.pivot_table(index = 'rooms', values = 'price_per_square_meter', aggfunc = ['mean', 'count', 'median'])\n",
    "pivot_table_rooms.columns = ['mean', 'count', 'median']\n",
    "pivot_table_rooms.query('count > 50').plot(y= 'median',  grid = True, kind='bar')\n",
    "\n",
    "pivot_table_rooms.query('count > 50').sort_values('median', ascending = False)\n"
   ]
  },
  {
   "cell_type": "markdown",
   "metadata": {},
   "source": [
    "Вывод: чем ближе количество комнат к 3 тем ниже стоимость квадратного метра."
   ]
  },
  {
   "cell_type": "markdown",
   "metadata": {},
   "source": [
    "#### **Изучим зависимость цены квадратного метра от этажа (первого или последнего).**"
   ]
  },
  {
   "cell_type": "code",
   "execution_count": 45,
   "metadata": {},
   "outputs": [
    {
     "data": {
      "text/html": [
       "<div>\n",
       "<style scoped>\n",
       "    .dataframe tbody tr th:only-of-type {\n",
       "        vertical-align: middle;\n",
       "    }\n",
       "\n",
       "    .dataframe tbody tr th {\n",
       "        vertical-align: top;\n",
       "    }\n",
       "\n",
       "    .dataframe thead th {\n",
       "        text-align: right;\n",
       "    }\n",
       "</style>\n",
       "<table border=\"1\" class=\"dataframe\">\n",
       "  <thead>\n",
       "    <tr style=\"text-align: right;\">\n",
       "      <th></th>\n",
       "      <th>mean</th>\n",
       "      <th>count</th>\n",
       "      <th>median</th>\n",
       "    </tr>\n",
       "    <tr>\n",
       "      <th>floor_category</th>\n",
       "      <th></th>\n",
       "      <th></th>\n",
       "      <th></th>\n",
       "    </tr>\n",
       "  </thead>\n",
       "  <tbody>\n",
       "    <tr>\n",
       "      <td>другой</td>\n",
       "      <td>103467.774233</td>\n",
       "      <td>17363</td>\n",
       "      <td>98275</td>\n",
       "    </tr>\n",
       "    <tr>\n",
       "      <td>первый</td>\n",
       "      <td>81983.111759</td>\n",
       "      <td>2917</td>\n",
       "      <td>81223</td>\n",
       "    </tr>\n",
       "    <tr>\n",
       "      <td>последний</td>\n",
       "      <td>93410.267686</td>\n",
       "      <td>3336</td>\n",
       "      <td>87777</td>\n",
       "    </tr>\n",
       "  </tbody>\n",
       "</table>\n",
       "</div>"
      ],
      "text/plain": [
       "                         mean  count  median\n",
       "floor_category                              \n",
       "другой          103467.774233  17363   98275\n",
       "первый           81983.111759   2917   81223\n",
       "последний        93410.267686   3336   87777"
      ]
     },
     "execution_count": 45,
     "metadata": {},
     "output_type": "execute_result"
    },
    {
     "data": {
      "image/png": "[encoded data removed]",
      "text/plain": [
       "<Figure size 432x288 with 1 Axes>"
      ]
     },
     "metadata": {
      "needs_background": "light"
     },
     "output_type": "display_data"
    }
   ],
   "source": [
    "pivot_table_floor_category = df.pivot_table(index = 'floor_category', values = 'price_per_square_meter', aggfunc = ['mean', 'count', 'median'])\n",
    "pivot_table_floor_category.columns = ['mean', 'count', 'median']\n",
    "median=pivot_table_floor_category['median']\n",
    "pivot_table_floor_category.plot(y='median', kind='bar')\n",
    "pivot_table_floor_category"
   ]
  },
  {
   "cell_type": "markdown",
   "metadata": {},
   "source": [
    "Вывод: из графика ничего не понятно! Согласно медиане - как правило квартиры на первом этаже дешевле квартир на последнем этаже - в среднем на 10%!"
   ]
  },
  {
   "cell_type": "markdown",
   "metadata": {},
   "source": [
    "#### **Изучим зависимость цены квадратного метра от удалённости от центра.**"
   ]
  },
  {
   "cell_type": "code",
   "execution_count": 11,
   "metadata": {},
   "outputs": [
    {
     "data": {
      "text/plain": [
       "-0.2888748977090737"
      ]
     },
     "execution_count": 11,
     "metadata": {},
     "output_type": "execute_result"
    },
    {
     "data": {
      "image/png": "[encoded data removed]",
      "text/plain": [
       "<Figure size 432x288 with 1 Axes>"
      ]
     },
     "metadata": {
      "needs_background": "light"
     },
     "output_type": "display_data"
    }
   ],
   "source": [
    "df.plot(kind = 'scatter', y = 'price_per_square_meter', x = 'cityCenters_nearest', alpha = 0.3)\n",
    "\n",
    "df['cityCenters_nearest'].corr(df['price_per_square_meter'])"
   ]
  },
  {
   "cell_type": "markdown",
   "metadata": {},
   "source": [
    "Вывод: видим явную зависимость стоимости квадратного метра от близости к центру! Чем ближе к центру, тем выше стоимость!"
   ]
  },
  {
   "cell_type": "markdown",
   "metadata": {},
   "source": [
    "#### **Изучим зависимость цены квадратного метра от даты размещения: дня недели.**"
   ]
  },
  {
   "cell_type": "code",
   "execution_count": 12,
   "metadata": {},
   "outputs": [
    {
     "data": {
      "text/html": [
       "<div>\n",
       "<style scoped>\n",
       "    .dataframe tbody tr th:only-of-type {\n",
       "        vertical-align: middle;\n",
       "    }\n",
       "\n",
       "    .dataframe tbody tr th {\n",
       "        vertical-align: top;\n",
       "    }\n",
       "\n",
       "    .dataframe thead th {\n",
       "        text-align: right;\n",
       "    }\n",
       "</style>\n",
       "<table border=\"1\" class=\"dataframe\">\n",
       "  <thead>\n",
       "    <tr style=\"text-align: right;\">\n",
       "      <th></th>\n",
       "      <th>mean</th>\n",
       "      <th>count</th>\n",
       "      <th>median</th>\n",
       "    </tr>\n",
       "    <tr>\n",
       "      <th>weekday_exposition</th>\n",
       "      <th></th>\n",
       "      <th></th>\n",
       "      <th></th>\n",
       "    </tr>\n",
       "  </thead>\n",
       "  <tbody>\n",
       "    <tr>\n",
       "      <td>1</td>\n",
       "      <td>99734.089410</td>\n",
       "      <td>4183</td>\n",
       "      <td>95634.0</td>\n",
       "    </tr>\n",
       "    <tr>\n",
       "      <td>2</td>\n",
       "      <td>99616.731002</td>\n",
       "      <td>3974</td>\n",
       "      <td>95473.0</td>\n",
       "    </tr>\n",
       "    <tr>\n",
       "      <td>3</td>\n",
       "      <td>100162.466356</td>\n",
       "      <td>4295</td>\n",
       "      <td>95143.0</td>\n",
       "    </tr>\n",
       "    <tr>\n",
       "      <td>0</td>\n",
       "      <td>99437.994463</td>\n",
       "      <td>3612</td>\n",
       "      <td>94688.0</td>\n",
       "    </tr>\n",
       "    <tr>\n",
       "      <td>4</td>\n",
       "      <td>99011.697000</td>\n",
       "      <td>4000</td>\n",
       "      <td>94616.0</td>\n",
       "    </tr>\n",
       "    <tr>\n",
       "      <td>6</td>\n",
       "      <td>97707.917010</td>\n",
       "      <td>1699</td>\n",
       "      <td>94501.0</td>\n",
       "    </tr>\n",
       "    <tr>\n",
       "      <td>5</td>\n",
       "      <td>99017.722107</td>\n",
       "      <td>1936</td>\n",
       "      <td>93545.5</td>\n",
       "    </tr>\n",
       "  </tbody>\n",
       "</table>\n",
       "</div>"
      ],
      "text/plain": [
       "                             mean  count   median\n",
       "weekday_exposition                               \n",
       "1                    99734.089410   4183  95634.0\n",
       "2                    99616.731002   3974  95473.0\n",
       "3                   100162.466356   4295  95143.0\n",
       "0                    99437.994463   3612  94688.0\n",
       "4                    99011.697000   4000  94616.0\n",
       "6                    97707.917010   1699  94501.0\n",
       "5                    99017.722107   1936  93545.5"
      ]
     },
     "execution_count": 12,
     "metadata": {},
     "output_type": "execute_result"
    },
    {
     "data": {
      "image/png": "[encoded data removed]",
      "text/plain": [
       "<Figure size 432x288 with 1 Axes>"
      ]
     },
     "metadata": {
      "needs_background": "light"
     },
     "output_type": "display_data"
    }
   ],
   "source": [
    "pivot_table_weekday_exposition = df.pivot_table(index = 'weekday_exposition', values = 'price_per_square_meter', aggfunc = ['mean', 'count', 'median'])\n",
    "pivot_table_weekday_exposition.columns = ['mean', 'count', 'median']\n",
    "pivot_table_weekday_exposition.plot(y = 'median')\n",
    "\n",
    "pivot_table_weekday_exposition.sort_values('median', ascending = False)"
   ]
  },
  {
   "cell_type": "markdown",
   "metadata": {},
   "source": [
    "Вывод: видим, что чем ближе ко вторнику выставлены объявления тем в среднем выше стоимость, но незначительно! По субботам стоимость самая низкая!\n",
    "\n",
    "Полагаю, что стоимость выставленной на продажу недвижимости зависит от общей активности людей, так как именно в рабочие дни мы видим более высокие цены."
   ]
  },
  {
   "cell_type": "markdown",
   "metadata": {},
   "source": [
    "#### **Изучим зависимость цены квадратного метра от даты размещения: месяца.**"
   ]
  },
  {
   "cell_type": "code",
   "execution_count": 13,
   "metadata": {},
   "outputs": [
    {
     "data": {
      "text/html": [
       "<div>\n",
       "<style scoped>\n",
       "    .dataframe tbody tr th:only-of-type {\n",
       "        vertical-align: middle;\n",
       "    }\n",
       "\n",
       "    .dataframe tbody tr th {\n",
       "        vertical-align: top;\n",
       "    }\n",
       "\n",
       "    .dataframe thead th {\n",
       "        text-align: right;\n",
       "    }\n",
       "</style>\n",
       "<table border=\"1\" class=\"dataframe\">\n",
       "  <thead>\n",
       "    <tr style=\"text-align: right;\">\n",
       "      <th></th>\n",
       "      <th>mean</th>\n",
       "      <th>count</th>\n",
       "      <th>median</th>\n",
       "    </tr>\n",
       "    <tr>\n",
       "      <th>month_exposition</th>\n",
       "      <th></th>\n",
       "      <th></th>\n",
       "      <th></th>\n",
       "    </tr>\n",
       "  </thead>\n",
       "  <tbody>\n",
       "    <tr>\n",
       "      <td>4</td>\n",
       "      <td>101948.567045</td>\n",
       "      <td>2379</td>\n",
       "      <td>96451</td>\n",
       "    </tr>\n",
       "    <tr>\n",
       "      <td>8</td>\n",
       "      <td>100110.094037</td>\n",
       "      <td>1744</td>\n",
       "      <td>96026</td>\n",
       "    </tr>\n",
       "    <tr>\n",
       "      <td>9</td>\n",
       "      <td>100463.814740</td>\n",
       "      <td>1981</td>\n",
       "      <td>95607</td>\n",
       "    </tr>\n",
       "    <tr>\n",
       "      <td>11</td>\n",
       "      <td>99230.427246</td>\n",
       "      <td>2371</td>\n",
       "      <td>95588</td>\n",
       "    </tr>\n",
       "    <tr>\n",
       "      <td>3</td>\n",
       "      <td>98972.768844</td>\n",
       "      <td>2587</td>\n",
       "      <td>95238</td>\n",
       "    </tr>\n",
       "    <tr>\n",
       "      <td>1</td>\n",
       "      <td>99862.139333</td>\n",
       "      <td>1500</td>\n",
       "      <td>95222</td>\n",
       "    </tr>\n",
       "    <tr>\n",
       "      <td>2</td>\n",
       "      <td>98768.292045</td>\n",
       "      <td>2640</td>\n",
       "      <td>95000</td>\n",
       "    </tr>\n",
       "    <tr>\n",
       "      <td>7</td>\n",
       "      <td>99625.190560</td>\n",
       "      <td>1695</td>\n",
       "      <td>95000</td>\n",
       "    </tr>\n",
       "    <tr>\n",
       "      <td>12</td>\n",
       "      <td>99574.280926</td>\n",
       "      <td>1641</td>\n",
       "      <td>94262</td>\n",
       "    </tr>\n",
       "    <tr>\n",
       "      <td>10</td>\n",
       "      <td>97933.448049</td>\n",
       "      <td>2127</td>\n",
       "      <td>94202</td>\n",
       "    </tr>\n",
       "    <tr>\n",
       "      <td>5</td>\n",
       "      <td>98543.340659</td>\n",
       "      <td>1274</td>\n",
       "      <td>92857</td>\n",
       "    </tr>\n",
       "    <tr>\n",
       "      <td>6</td>\n",
       "      <td>97762.870455</td>\n",
       "      <td>1760</td>\n",
       "      <td>92799</td>\n",
       "    </tr>\n",
       "  </tbody>\n",
       "</table>\n",
       "</div>"
      ],
      "text/plain": [
       "                           mean  count  median\n",
       "month_exposition                              \n",
       "4                 101948.567045   2379   96451\n",
       "8                 100110.094037   1744   96026\n",
       "9                 100463.814740   1981   95607\n",
       "11                 99230.427246   2371   95588\n",
       "3                  98972.768844   2587   95238\n",
       "1                  99862.139333   1500   95222\n",
       "2                  98768.292045   2640   95000\n",
       "7                  99625.190560   1695   95000\n",
       "12                 99574.280926   1641   94262\n",
       "10                 97933.448049   2127   94202\n",
       "5                  98543.340659   1274   92857\n",
       "6                  97762.870455   1760   92799"
      ]
     },
     "execution_count": 13,
     "metadata": {},
     "output_type": "execute_result"
    },
    {
     "data": {
      "image/png": "[encoded data removed]",
      "text/plain": [
       "<Figure size 432x288 with 1 Axes>"
      ]
     },
     "metadata": {
      "needs_background": "light"
     },
     "output_type": "display_data"
    }
   ],
   "source": [
    "pivot_table_month_exposition = df.pivot_table(index = 'month_exposition', values = 'price_per_square_meter', aggfunc = ['mean', 'count', 'median'])\n",
    "pivot_table_month_exposition.columns = ['mean', 'count', 'median']\n",
    "pivot_table_month_exposition.plot(y = 'median')\n",
    "\n",
    "pivot_table_month_exposition.sort_values('median', ascending = False)"
   ]
  },
  {
   "cell_type": "markdown",
   "metadata": {},
   "source": [
    "Вывод: самая высокая стоимость метра в апреле и августе! Самая низкая стоимость в мае и июне! На рынке недвижимости, как и во многих других сферах присутствует сезонность - в начале лета мы видим наименьшее предложение как по количеству, так и по стоимости недвижимости. Наверное, это связано с отпусками."
   ]
  },
  {
   "cell_type": "markdown",
   "metadata": {},
   "source": [
    "#### Изучим зависимость цены квадратного метра от даты размещения: года.\n"
   ]
  },
  {
   "cell_type": "code",
   "execution_count": 14,
   "metadata": {},
   "outputs": [
    {
     "data": {
      "text/html": [
       "<div>\n",
       "<style scoped>\n",
       "    .dataframe tbody tr th:only-of-type {\n",
       "        vertical-align: middle;\n",
       "    }\n",
       "\n",
       "    .dataframe tbody tr th {\n",
       "        vertical-align: top;\n",
       "    }\n",
       "\n",
       "    .dataframe thead th {\n",
       "        text-align: right;\n",
       "    }\n",
       "</style>\n",
       "<table border=\"1\" class=\"dataframe\">\n",
       "  <thead>\n",
       "    <tr style=\"text-align: right;\">\n",
       "      <th></th>\n",
       "      <th>mean</th>\n",
       "      <th>count</th>\n",
       "      <th>median</th>\n",
       "    </tr>\n",
       "    <tr>\n",
       "      <th>year_exposition</th>\n",
       "      <th></th>\n",
       "      <th></th>\n",
       "      <th></th>\n",
       "    </tr>\n",
       "  </thead>\n",
       "  <tbody>\n",
       "    <tr>\n",
       "      <td>2014</td>\n",
       "      <td>124830.000000</td>\n",
       "      <td>137</td>\n",
       "      <td>107000.0</td>\n",
       "    </tr>\n",
       "    <tr>\n",
       "      <td>2019</td>\n",
       "      <td>107123.332060</td>\n",
       "      <td>2879</td>\n",
       "      <td>103305.0</td>\n",
       "    </tr>\n",
       "    <tr>\n",
       "      <td>2018</td>\n",
       "      <td>97773.107290</td>\n",
       "      <td>8519</td>\n",
       "      <td>95689.0</td>\n",
       "    </tr>\n",
       "    <tr>\n",
       "      <td>2015</td>\n",
       "      <td>104613.756507</td>\n",
       "      <td>1191</td>\n",
       "      <td>93414.0</td>\n",
       "    </tr>\n",
       "    <tr>\n",
       "      <td>2017</td>\n",
       "      <td>97621.434188</td>\n",
       "      <td>8190</td>\n",
       "      <td>92564.5</td>\n",
       "    </tr>\n",
       "    <tr>\n",
       "      <td>2016</td>\n",
       "      <td>98321.900467</td>\n",
       "      <td>2783</td>\n",
       "      <td>91743.0</td>\n",
       "    </tr>\n",
       "  </tbody>\n",
       "</table>\n",
       "</div>"
      ],
      "text/plain": [
       "                          mean  count    median\n",
       "year_exposition                                \n",
       "2014             124830.000000    137  107000.0\n",
       "2019             107123.332060   2879  103305.0\n",
       "2018              97773.107290   8519   95689.0\n",
       "2015             104613.756507   1191   93414.0\n",
       "2017              97621.434188   8190   92564.5\n",
       "2016              98321.900467   2783   91743.0"
      ]
     },
     "execution_count": 14,
     "metadata": {},
     "output_type": "execute_result"
    },
    {
     "data": {
      "image/png": "[encoded data removed]",
      "text/plain": [
       "<Figure size 432x288 with 1 Axes>"
      ]
     },
     "metadata": {
      "needs_background": "light"
     },
     "output_type": "display_data"
    }
   ],
   "source": [
    "pivot_table_year_exposition = df.pivot_table(index = 'year_exposition', values = 'price_per_square_meter', aggfunc = ['mean', 'count', 'median'])\n",
    "pivot_table_year_exposition.columns = ['mean', 'count', 'median']\n",
    "pivot_table_year_exposition.plot(y = 'median')\n",
    "\n",
    "pivot_table_year_exposition.sort_values('median', ascending = False)"
   ]
  },
  {
   "cell_type": "markdown",
   "metadata": {},
   "source": [
    "Вывод: видим, что с 2014 до 2016 года цена падала, но далее начала увеличиваться! В СРЕДНЕМ! Мы не рассматриваем сегментацию рынка и по факту стоимость аналогичных квартир могла себя вести абсолютно иначе от года к году! В выводе присутствует реальный пример."
   ]
  },
  {
   "cell_type": "markdown",
   "metadata": {},
   "source": [
    "## Выберите 10 населённых пунктов с наибольшим числом объявлений. Посчитайте среднюю цену квадратного метра в этих населённых пунктах. Выделите населённые пункты с самой высокой и низкой стоимостью жилья. Эти данные можно найти по имени в столбце 'locality_name'."
   ]
  },
  {
   "cell_type": "code",
   "execution_count": 15,
   "metadata": {},
   "outputs": [
    {
     "name": "stdout",
     "output_type": "stream",
     "text": [
      "                 count           mean\n",
      "locality_name                        \n",
      "Санкт-Петербург  15721  114848.565231\n",
      "               count          mean\n",
      "locality_name                     \n",
      "Выборг           237  58141.489451\n"
     ]
    }
   ],
   "source": [
    "locality_pivot_table = df.pivot_table(index = 'locality_name', values = 'price_per_square_meter', aggfunc=['count', 'mean'])\n",
    "locality_pivot_table.columns = ['count', 'mean']\n",
    "locality_pivot_table = locality_pivot_table.sort_values('count', ascending = False).head(10)\n",
    "locality_pivot_table\n",
    "#самая высокая стоимость\n",
    "print(locality_pivot_table[locality_pivot_table['mean']==locality_pivot_table['mean'].max()])\n",
    "#самая низкая стоимость\n",
    "print(locality_pivot_table[locality_pivot_table['mean']==locality_pivot_table['mean'].min()])\n"
   ]
  },
  {
   "cell_type": "markdown",
   "metadata": {},
   "source": [
    "самая высокая стоимость жилья из 10 населённых пунктов с самым большим количеством объявлений в Санкт-Петербурге, тогда как самая низкая стоимость в Выборге."
   ]
  },
  {
   "cell_type": "markdown",
   "metadata": {},
   "source": [
    "## Изучите предложения квартир: для каждой квартиры есть информация о расстоянии до центра. Выделите квартиры в Санкт-Петербурге ('locality_name'). Ваша задача — выяснить, какая область входит в центр. Создайте столбец с расстоянием до центра в километрах: округлите до целых значений. После этого посчитайте среднюю цену для каждого километра. Постройте график: он должен показывать, как цена зависит от удалённости от центра. Определите границу, где график сильно меняется — это и будет центральная зона."
   ]
  },
  {
   "cell_type": "code",
   "execution_count": 16,
   "metadata": {},
   "outputs": [
    {
     "data": {
      "text/html": [
       "<div>\n",
       "<style scoped>\n",
       "    .dataframe tbody tr th:only-of-type {\n",
       "        vertical-align: middle;\n",
       "    }\n",
       "\n",
       "    .dataframe tbody tr th {\n",
       "        vertical-align: top;\n",
       "    }\n",
       "\n",
       "    .dataframe thead th {\n",
       "        text-align: right;\n",
       "    }\n",
       "</style>\n",
       "<table border=\"1\" class=\"dataframe\">\n",
       "  <thead>\n",
       "    <tr style=\"text-align: right;\">\n",
       "      <th></th>\n",
       "      <th>price_per_square_meter</th>\n",
       "    </tr>\n",
       "    <tr>\n",
       "      <th>cityCenters_nearest_km</th>\n",
       "      <th></th>\n",
       "    </tr>\n",
       "  </thead>\n",
       "  <tbody>\n",
       "    <tr>\n",
       "      <td>0</td>\n",
       "      <td>187323.674419</td>\n",
       "    </tr>\n",
       "    <tr>\n",
       "      <td>1</td>\n",
       "      <td>166603.312500</td>\n",
       "    </tr>\n",
       "    <tr>\n",
       "      <td>2</td>\n",
       "      <td>146662.420195</td>\n",
       "    </tr>\n",
       "    <tr>\n",
       "      <td>3</td>\n",
       "      <td>129415.891635</td>\n",
       "    </tr>\n",
       "    <tr>\n",
       "      <td>4</td>\n",
       "      <td>137475.039691</td>\n",
       "    </tr>\n",
       "    <tr>\n",
       "      <td>5</td>\n",
       "      <td>146978.789337</td>\n",
       "    </tr>\n",
       "    <tr>\n",
       "      <td>6</td>\n",
       "      <td>152277.455319</td>\n",
       "    </tr>\n",
       "    <tr>\n",
       "      <td>7</td>\n",
       "      <td>141399.287469</td>\n",
       "    </tr>\n",
       "    <tr>\n",
       "      <td>8</td>\n",
       "      <td>120580.929851</td>\n",
       "    </tr>\n",
       "    <tr>\n",
       "      <td>9</td>\n",
       "      <td>110012.108696</td>\n",
       "    </tr>\n",
       "    <tr>\n",
       "      <td>10</td>\n",
       "      <td>111640.850877</td>\n",
       "    </tr>\n",
       "    <tr>\n",
       "      <td>11</td>\n",
       "      <td>108831.751355</td>\n",
       "    </tr>\n",
       "    <tr>\n",
       "      <td>12</td>\n",
       "      <td>108295.312211</td>\n",
       "    </tr>\n",
       "    <tr>\n",
       "      <td>13</td>\n",
       "      <td>107208.716120</td>\n",
       "    </tr>\n",
       "    <tr>\n",
       "      <td>14</td>\n",
       "      <td>104986.032407</td>\n",
       "    </tr>\n",
       "    <tr>\n",
       "      <td>15</td>\n",
       "      <td>101882.678077</td>\n",
       "    </tr>\n",
       "    <tr>\n",
       "      <td>16</td>\n",
       "      <td>100085.150995</td>\n",
       "    </tr>\n",
       "    <tr>\n",
       "      <td>17</td>\n",
       "      <td>94095.434457</td>\n",
       "    </tr>\n",
       "    <tr>\n",
       "      <td>18</td>\n",
       "      <td>94831.528736</td>\n",
       "    </tr>\n",
       "    <tr>\n",
       "      <td>19</td>\n",
       "      <td>95433.951220</td>\n",
       "    </tr>\n",
       "    <tr>\n",
       "      <td>20</td>\n",
       "      <td>107045.773810</td>\n",
       "    </tr>\n",
       "    <tr>\n",
       "      <td>21</td>\n",
       "      <td>91492.220513</td>\n",
       "    </tr>\n",
       "    <tr>\n",
       "      <td>22</td>\n",
       "      <td>88714.237410</td>\n",
       "    </tr>\n",
       "    <tr>\n",
       "      <td>23</td>\n",
       "      <td>92720.233333</td>\n",
       "    </tr>\n",
       "    <tr>\n",
       "      <td>24</td>\n",
       "      <td>82439.909091</td>\n",
       "    </tr>\n",
       "    <tr>\n",
       "      <td>25</td>\n",
       "      <td>91135.600000</td>\n",
       "    </tr>\n",
       "    <tr>\n",
       "      <td>26</td>\n",
       "      <td>75171.333333</td>\n",
       "    </tr>\n",
       "    <tr>\n",
       "      <td>27</td>\n",
       "      <td>132115.000000</td>\n",
       "    </tr>\n",
       "    <tr>\n",
       "      <td>28</td>\n",
       "      <td>81840.200000</td>\n",
       "    </tr>\n",
       "    <tr>\n",
       "      <td>29</td>\n",
       "      <td>62481.666667</td>\n",
       "    </tr>\n",
       "  </tbody>\n",
       "</table>\n",
       "</div>"
      ],
      "text/plain": [
       "                        price_per_square_meter\n",
       "cityCenters_nearest_km                        \n",
       "0                                187323.674419\n",
       "1                                166603.312500\n",
       "2                                146662.420195\n",
       "3                                129415.891635\n",
       "4                                137475.039691\n",
       "5                                146978.789337\n",
       "6                                152277.455319\n",
       "7                                141399.287469\n",
       "8                                120580.929851\n",
       "9                                110012.108696\n",
       "10                               111640.850877\n",
       "11                               108831.751355\n",
       "12                               108295.312211\n",
       "13                               107208.716120\n",
       "14                               104986.032407\n",
       "15                               101882.678077\n",
       "16                               100085.150995\n",
       "17                                94095.434457\n",
       "18                                94831.528736\n",
       "19                                95433.951220\n",
       "20                               107045.773810\n",
       "21                                91492.220513\n",
       "22                                88714.237410\n",
       "23                                92720.233333\n",
       "24                                82439.909091\n",
       "25                                91135.600000\n",
       "26                                75171.333333\n",
       "27                               132115.000000\n",
       "28                                81840.200000\n",
       "29                                62481.666667"
      ]
     },
     "execution_count": 16,
     "metadata": {},
     "output_type": "execute_result"
    },
    {
     "data": {
      "image/png": "[encoded data removed]",
      "text/plain": [
       "<Figure size 432x288 with 1 Axes>"
      ]
     },
     "metadata": {
      "needs_background": "light"
     },
     "output_type": "display_data"
    }
   ],
   "source": [
    "df['cityCenters_nearest_km'] = df['cityCenters_nearest']/1000\n",
    "df['cityCenters_nearest_km'] = df['cityCenters_nearest_km'].fillna(999999)\n",
    "df['cityCenters_nearest_km'] = df['cityCenters_nearest_km'].astype('int')\n",
    "pivot_table_km = df.query('locality_name == \"Санкт-Петербург\" and cityCenters_nearest_km !=999999').pivot_table(index = 'cityCenters_nearest_km', values = 'price_per_square_meter', aggfunc = 'mean')\n",
    "pivot_table_km.plot()\n",
    "pivot_table_km"
   ]
  },
  {
   "cell_type": "markdown",
   "metadata": {},
   "source": [
    "судя по графику центром считать будем радиус в 10 километров!"
   ]
  },
  {
   "cell_type": "markdown",
   "metadata": {},
   "source": [
    "## Выделите сегмент квартир в центре. Проанализируйте эту территорию и изучите следующие параметры: площадь, цена, число комнат, высота потолков. Также выделите факторы, которые влияют на стоимость квартиры (число комнат, этаж, удалённость от центра, дата размещения объявления). Сделайте выводы. Отличаются ли они от общих выводов по всему городу?"
   ]
  },
  {
   "cell_type": "code",
   "execution_count": 17,
   "metadata": {},
   "outputs": [
    {
     "data": {
      "text/html": [
       "<div>\n",
       "<style scoped>\n",
       "    .dataframe tbody tr th:only-of-type {\n",
       "        vertical-align: middle;\n",
       "    }\n",
       "\n",
       "    .dataframe tbody tr th {\n",
       "        vertical-align: top;\n",
       "    }\n",
       "\n",
       "    .dataframe thead th {\n",
       "        text-align: right;\n",
       "    }\n",
       "</style>\n",
       "<table border=\"1\" class=\"dataframe\">\n",
       "  <thead>\n",
       "    <tr style=\"text-align: right;\">\n",
       "      <th></th>\n",
       "      <th>total_images</th>\n",
       "      <th>last_price</th>\n",
       "      <th>total_area</th>\n",
       "      <th>first_day_exposition</th>\n",
       "      <th>rooms</th>\n",
       "      <th>ceiling_height</th>\n",
       "      <th>floors_total</th>\n",
       "      <th>living_area</th>\n",
       "      <th>floor</th>\n",
       "      <th>is_apartment</th>\n",
       "      <th>...</th>\n",
       "      <th>ponds_nearest</th>\n",
       "      <th>days_exposition</th>\n",
       "      <th>price_per_square_meter</th>\n",
       "      <th>weekday_exposition</th>\n",
       "      <th>month_exposition</th>\n",
       "      <th>year_exposition</th>\n",
       "      <th>floor_category</th>\n",
       "      <th>useful_area_ratio</th>\n",
       "      <th>kitchen_area_ratio</th>\n",
       "      <th>cityCenters_nearest_km</th>\n",
       "    </tr>\n",
       "  </thead>\n",
       "  <tbody>\n",
       "    <tr>\n",
       "      <td>3</td>\n",
       "      <td>0</td>\n",
       "      <td>64900000</td>\n",
       "      <td>159.00</td>\n",
       "      <td>2015-07-24</td>\n",
       "      <td>3</td>\n",
       "      <td>NaN</td>\n",
       "      <td>14.0</td>\n",
       "      <td>NaN</td>\n",
       "      <td>9</td>\n",
       "      <td>False</td>\n",
       "      <td>...</td>\n",
       "      <td>234.0</td>\n",
       "      <td>424</td>\n",
       "      <td>408176</td>\n",
       "      <td>4</td>\n",
       "      <td>7</td>\n",
       "      <td>2015</td>\n",
       "      <td>другой</td>\n",
       "      <td>NaN</td>\n",
       "      <td>NaN</td>\n",
       "      <td>6</td>\n",
       "    </tr>\n",
       "    <tr>\n",
       "      <td>4</td>\n",
       "      <td>2</td>\n",
       "      <td>10000000</td>\n",
       "      <td>100.00</td>\n",
       "      <td>2018-06-19</td>\n",
       "      <td>2</td>\n",
       "      <td>3.03</td>\n",
       "      <td>14.0</td>\n",
       "      <td>32.0</td>\n",
       "      <td>13</td>\n",
       "      <td>False</td>\n",
       "      <td>...</td>\n",
       "      <td>48.0</td>\n",
       "      <td>121</td>\n",
       "      <td>100000</td>\n",
       "      <td>1</td>\n",
       "      <td>6</td>\n",
       "      <td>2018</td>\n",
       "      <td>другой</td>\n",
       "      <td>0.320000</td>\n",
       "      <td>0.410000</td>\n",
       "      <td>8</td>\n",
       "    </tr>\n",
       "    <tr>\n",
       "      <td>16</td>\n",
       "      <td>11</td>\n",
       "      <td>6700000</td>\n",
       "      <td>82.00</td>\n",
       "      <td>2017-11-23</td>\n",
       "      <td>3</td>\n",
       "      <td>3.05</td>\n",
       "      <td>5.0</td>\n",
       "      <td>55.6</td>\n",
       "      <td>1</td>\n",
       "      <td>False</td>\n",
       "      <td>...</td>\n",
       "      <td>NaN</td>\n",
       "      <td>397</td>\n",
       "      <td>81707</td>\n",
       "      <td>3</td>\n",
       "      <td>11</td>\n",
       "      <td>2017</td>\n",
       "      <td>первый</td>\n",
       "      <td>0.678049</td>\n",
       "      <td>0.109756</td>\n",
       "      <td>10</td>\n",
       "    </tr>\n",
       "    <tr>\n",
       "      <td>18</td>\n",
       "      <td>8</td>\n",
       "      <td>3250000</td>\n",
       "      <td>31.00</td>\n",
       "      <td>2017-01-27</td>\n",
       "      <td>1</td>\n",
       "      <td>2.50</td>\n",
       "      <td>5.0</td>\n",
       "      <td>19.4</td>\n",
       "      <td>2</td>\n",
       "      <td>False</td>\n",
       "      <td>...</td>\n",
       "      <td>NaN</td>\n",
       "      <td>168</td>\n",
       "      <td>104838</td>\n",
       "      <td>4</td>\n",
       "      <td>1</td>\n",
       "      <td>2017</td>\n",
       "      <td>другой</td>\n",
       "      <td>0.625806</td>\n",
       "      <td>0.180645</td>\n",
       "      <td>10</td>\n",
       "    </tr>\n",
       "    <tr>\n",
       "      <td>21</td>\n",
       "      <td>13</td>\n",
       "      <td>3200000</td>\n",
       "      <td>31.60</td>\n",
       "      <td>2018-03-14</td>\n",
       "      <td>1</td>\n",
       "      <td>NaN</td>\n",
       "      <td>5.0</td>\n",
       "      <td>16.9</td>\n",
       "      <td>2</td>\n",
       "      <td>False</td>\n",
       "      <td>...</td>\n",
       "      <td>NaN</td>\n",
       "      <td>310</td>\n",
       "      <td>101265</td>\n",
       "      <td>2</td>\n",
       "      <td>3</td>\n",
       "      <td>2018</td>\n",
       "      <td>другой</td>\n",
       "      <td>0.534810</td>\n",
       "      <td>0.180380</td>\n",
       "      <td>9</td>\n",
       "    </tr>\n",
       "    <tr>\n",
       "      <td>...</td>\n",
       "      <td>...</td>\n",
       "      <td>...</td>\n",
       "      <td>...</td>\n",
       "      <td>...</td>\n",
       "      <td>...</td>\n",
       "      <td>...</td>\n",
       "      <td>...</td>\n",
       "      <td>...</td>\n",
       "      <td>...</td>\n",
       "      <td>...</td>\n",
       "      <td>...</td>\n",
       "      <td>...</td>\n",
       "      <td>...</td>\n",
       "      <td>...</td>\n",
       "      <td>...</td>\n",
       "      <td>...</td>\n",
       "      <td>...</td>\n",
       "      <td>...</td>\n",
       "      <td>...</td>\n",
       "      <td>...</td>\n",
       "      <td>...</td>\n",
       "    </tr>\n",
       "    <tr>\n",
       "      <td>23681</td>\n",
       "      <td>13</td>\n",
       "      <td>5250000</td>\n",
       "      <td>43.00</td>\n",
       "      <td>2018-05-11</td>\n",
       "      <td>2</td>\n",
       "      <td>2.50</td>\n",
       "      <td>5.0</td>\n",
       "      <td>29.0</td>\n",
       "      <td>2</td>\n",
       "      <td>False</td>\n",
       "      <td>...</td>\n",
       "      <td>660.0</td>\n",
       "      <td>80</td>\n",
       "      <td>122093</td>\n",
       "      <td>4</td>\n",
       "      <td>5</td>\n",
       "      <td>2018</td>\n",
       "      <td>другой</td>\n",
       "      <td>0.674419</td>\n",
       "      <td>0.139535</td>\n",
       "      <td>7</td>\n",
       "    </tr>\n",
       "    <tr>\n",
       "      <td>23690</td>\n",
       "      <td>3</td>\n",
       "      <td>5500000</td>\n",
       "      <td>52.00</td>\n",
       "      <td>2018-07-19</td>\n",
       "      <td>2</td>\n",
       "      <td>NaN</td>\n",
       "      <td>5.0</td>\n",
       "      <td>31.0</td>\n",
       "      <td>2</td>\n",
       "      <td>False</td>\n",
       "      <td>...</td>\n",
       "      <td>NaN</td>\n",
       "      <td>15</td>\n",
       "      <td>105769</td>\n",
       "      <td>3</td>\n",
       "      <td>7</td>\n",
       "      <td>2018</td>\n",
       "      <td>другой</td>\n",
       "      <td>0.596154</td>\n",
       "      <td>0.115385</td>\n",
       "      <td>6</td>\n",
       "    </tr>\n",
       "    <tr>\n",
       "      <td>23691</td>\n",
       "      <td>11</td>\n",
       "      <td>9470000</td>\n",
       "      <td>72.90</td>\n",
       "      <td>2016-10-13</td>\n",
       "      <td>2</td>\n",
       "      <td>2.75</td>\n",
       "      <td>25.0</td>\n",
       "      <td>40.3</td>\n",
       "      <td>7</td>\n",
       "      <td>False</td>\n",
       "      <td>...</td>\n",
       "      <td>806.0</td>\n",
       "      <td>519</td>\n",
       "      <td>129903</td>\n",
       "      <td>3</td>\n",
       "      <td>10</td>\n",
       "      <td>2016</td>\n",
       "      <td>другой</td>\n",
       "      <td>0.552812</td>\n",
       "      <td>0.145405</td>\n",
       "      <td>4</td>\n",
       "    </tr>\n",
       "    <tr>\n",
       "      <td>23694</td>\n",
       "      <td>9</td>\n",
       "      <td>9700000</td>\n",
       "      <td>133.81</td>\n",
       "      <td>2017-03-21</td>\n",
       "      <td>3</td>\n",
       "      <td>3.70</td>\n",
       "      <td>5.0</td>\n",
       "      <td>73.3</td>\n",
       "      <td>3</td>\n",
       "      <td>False</td>\n",
       "      <td>...</td>\n",
       "      <td>381.0</td>\n",
       "      <td>0</td>\n",
       "      <td>72490</td>\n",
       "      <td>1</td>\n",
       "      <td>3</td>\n",
       "      <td>2017</td>\n",
       "      <td>другой</td>\n",
       "      <td>0.547792</td>\n",
       "      <td>0.103356</td>\n",
       "      <td>4</td>\n",
       "    </tr>\n",
       "    <tr>\n",
       "      <td>23697</td>\n",
       "      <td>13</td>\n",
       "      <td>11475000</td>\n",
       "      <td>76.75</td>\n",
       "      <td>2017-03-28</td>\n",
       "      <td>2</td>\n",
       "      <td>3.00</td>\n",
       "      <td>17.0</td>\n",
       "      <td>NaN</td>\n",
       "      <td>12</td>\n",
       "      <td>False</td>\n",
       "      <td>...</td>\n",
       "      <td>196.0</td>\n",
       "      <td>602</td>\n",
       "      <td>149511</td>\n",
       "      <td>1</td>\n",
       "      <td>3</td>\n",
       "      <td>2017</td>\n",
       "      <td>другой</td>\n",
       "      <td>NaN</td>\n",
       "      <td>0.303583</td>\n",
       "      <td>10</td>\n",
       "    </tr>\n",
       "  </tbody>\n",
       "</table>\n",
       "<p>5984 rows × 30 columns</p>\n",
       "</div>"
      ],
      "text/plain": [
       "       total_images  last_price  total_area first_day_exposition  rooms  \\\n",
       "3                 0    64900000      159.00           2015-07-24      3   \n",
       "4                 2    10000000      100.00           2018-06-19      2   \n",
       "16               11     6700000       82.00           2017-11-23      3   \n",
       "18                8     3250000       31.00           2017-01-27      1   \n",
       "21               13     3200000       31.60           2018-03-14      1   \n",
       "...             ...         ...         ...                  ...    ...   \n",
       "23681            13     5250000       43.00           2018-05-11      2   \n",
       "23690             3     5500000       52.00           2018-07-19      2   \n",
       "23691            11     9470000       72.90           2016-10-13      2   \n",
       "23694             9     9700000      133.81           2017-03-21      3   \n",
       "23697            13    11475000       76.75           2017-03-28      2   \n",
       "\n",
       "       ceiling_height  floors_total  living_area  floor  is_apartment  ...  \\\n",
       "3                 NaN          14.0          NaN      9         False  ...   \n",
       "4                3.03          14.0         32.0     13         False  ...   \n",
       "16               3.05           5.0         55.6      1         False  ...   \n",
       "18               2.50           5.0         19.4      2         False  ...   \n",
       "21                NaN           5.0         16.9      2         False  ...   \n",
       "...               ...           ...          ...    ...           ...  ...   \n",
       "23681            2.50           5.0         29.0      2         False  ...   \n",
       "23690             NaN           5.0         31.0      2         False  ...   \n",
       "23691            2.75          25.0         40.3      7         False  ...   \n",
       "23694            3.70           5.0         73.3      3         False  ...   \n",
       "23697            3.00          17.0          NaN     12         False  ...   \n",
       "\n",
       "       ponds_nearest  days_exposition  price_per_square_meter  \\\n",
       "3              234.0              424                  408176   \n",
       "4               48.0              121                  100000   \n",
       "16               NaN              397                   81707   \n",
       "18               NaN              168                  104838   \n",
       "21               NaN              310                  101265   \n",
       "...              ...              ...                     ...   \n",
       "23681          660.0               80                  122093   \n",
       "23690            NaN               15                  105769   \n",
       "23691          806.0              519                  129903   \n",
       "23694          381.0                0                   72490   \n",
       "23697          196.0              602                  149511   \n",
       "\n",
       "       weekday_exposition month_exposition  year_exposition  floor_category  \\\n",
       "3                       4                7             2015          другой   \n",
       "4                       1                6             2018          другой   \n",
       "16                      3               11             2017          первый   \n",
       "18                      4                1             2017          другой   \n",
       "21                      2                3             2018          другой   \n",
       "...                   ...              ...              ...             ...   \n",
       "23681                   4                5             2018          другой   \n",
       "23690                   3                7             2018          другой   \n",
       "23691                   3               10             2016          другой   \n",
       "23694                   1                3             2017          другой   \n",
       "23697                   1                3             2017          другой   \n",
       "\n",
       "       useful_area_ratio  kitchen_area_ratio  cityCenters_nearest_km  \n",
       "3                    NaN                 NaN                       6  \n",
       "4               0.320000            0.410000                       8  \n",
       "16              0.678049            0.109756                      10  \n",
       "18              0.625806            0.180645                      10  \n",
       "21              0.534810            0.180380                       9  \n",
       "...                  ...                 ...                     ...  \n",
       "23681           0.674419            0.139535                       7  \n",
       "23690           0.596154            0.115385                       6  \n",
       "23691           0.552812            0.145405                       4  \n",
       "23694           0.547792            0.103356                       4  \n",
       "23697                NaN            0.303583                      10  \n",
       "\n",
       "[5984 rows x 30 columns]"
      ]
     },
     "execution_count": 17,
     "metadata": {},
     "output_type": "execute_result"
    }
   ],
   "source": [
    "#выделим квартиры в центре, беря за радиус 10 км\n",
    "center_spb_data = df.query('cityCenters_nearest_km <= 10 and locality_name == \"Санкт-Петербург\"')\n",
    "center_spb_data"
   ]
  },
  {
   "cell_type": "markdown",
   "metadata": {},
   "source": [
    "### Зависимость стоимости квадратного метра от количества комнат."
   ]
  },
  {
   "cell_type": "code",
   "execution_count": 48,
   "metadata": {},
   "outputs": [
    {
     "data": {
      "text/html": [
       "<div>\n",
       "<style scoped>\n",
       "    .dataframe tbody tr th:only-of-type {\n",
       "        vertical-align: middle;\n",
       "    }\n",
       "\n",
       "    .dataframe tbody tr th {\n",
       "        vertical-align: top;\n",
       "    }\n",
       "\n",
       "    .dataframe thead th {\n",
       "        text-align: right;\n",
       "    }\n",
       "</style>\n",
       "<table border=\"1\" class=\"dataframe\">\n",
       "  <thead>\n",
       "    <tr style=\"text-align: right;\">\n",
       "      <th></th>\n",
       "      <th>mean</th>\n",
       "      <th>count</th>\n",
       "      <th>median</th>\n",
       "    </tr>\n",
       "    <tr>\n",
       "      <th>rooms</th>\n",
       "      <th></th>\n",
       "      <th></th>\n",
       "      <th></th>\n",
       "    </tr>\n",
       "  </thead>\n",
       "  <tbody>\n",
       "    <tr>\n",
       "      <td>1</td>\n",
       "      <td>132856.255869</td>\n",
       "      <td>1278</td>\n",
       "      <td>124578.5</td>\n",
       "    </tr>\n",
       "    <tr>\n",
       "      <td>2</td>\n",
       "      <td>128348.609907</td>\n",
       "      <td>1938</td>\n",
       "      <td>115493.0</td>\n",
       "    </tr>\n",
       "    <tr>\n",
       "      <td>3</td>\n",
       "      <td>132395.064852</td>\n",
       "      <td>1727</td>\n",
       "      <td>111111.0</td>\n",
       "    </tr>\n",
       "    <tr>\n",
       "      <td>7</td>\n",
       "      <td>167223.055556</td>\n",
       "      <td>54</td>\n",
       "      <td>109996.0</td>\n",
       "    </tr>\n",
       "    <tr>\n",
       "      <td>4</td>\n",
       "      <td>136675.330049</td>\n",
       "      <td>609</td>\n",
       "      <td>108974.0</td>\n",
       "    </tr>\n",
       "    <tr>\n",
       "      <td>5</td>\n",
       "      <td>144150.072961</td>\n",
       "      <td>233</td>\n",
       "      <td>104662.0</td>\n",
       "    </tr>\n",
       "    <tr>\n",
       "      <td>6</td>\n",
       "      <td>151124.865169</td>\n",
       "      <td>89</td>\n",
       "      <td>103361.0</td>\n",
       "    </tr>\n",
       "  </tbody>\n",
       "</table>\n",
       "</div>"
      ],
      "text/plain": [
       "                mean  count    median\n",
       "rooms                                \n",
       "1      132856.255869   1278  124578.5\n",
       "2      128348.609907   1938  115493.0\n",
       "3      132395.064852   1727  111111.0\n",
       "7      167223.055556     54  109996.0\n",
       "4      136675.330049    609  108974.0\n",
       "5      144150.072961    233  104662.0\n",
       "6      151124.865169     89  103361.0"
      ]
     },
     "execution_count": 48,
     "metadata": {},
     "output_type": "execute_result"
    },
    {
     "data": {
      "image/png": "[encoded data removed]",
      "text/plain": [
       "<Figure size 432x288 with 1 Axes>"
      ]
     },
     "metadata": {
      "needs_background": "light"
     },
     "output_type": "display_data"
    }
   ],
   "source": [
    "center_spb_rooms = center_spb_data.pivot_table(index = 'rooms', values = 'price_per_square_meter', aggfunc = ['mean', 'count', 'median'])\n",
    "center_spb_rooms.columns = ['mean', 'count', 'median']\n",
    "center_spb_rooms.query('count > 50').plot(y = 'median',kind = 'bar')\n",
    "\n",
    "center_spb_rooms.query('count > 50').sort_values('median', ascending = False)"
   ]
  },
  {
   "cell_type": "markdown",
   "metadata": {},
   "source": [
    "Вывод: в центре СПБ чем меньше комнат тем дороже стоимость метра квадратного, в отличие от всей выборки, где стоимость уменьшается в зависимости от близости кол-ва комнат к 3! Так мы считаем, исходя из поведения медианной стоимости, в зависимости от количества комнат. Хотя корреляция маленькая, правильнее смотреть именно на график."
   ]
  },
  {
   "cell_type": "markdown",
   "metadata": {},
   "source": [
    "### Зависимость стоимости квадратного метра от этажа."
   ]
  },
  {
   "cell_type": "code",
   "execution_count": 49,
   "metadata": {},
   "outputs": [
    {
     "data": {
      "text/html": [
       "<div>\n",
       "<style scoped>\n",
       "    .dataframe tbody tr th:only-of-type {\n",
       "        vertical-align: middle;\n",
       "    }\n",
       "\n",
       "    .dataframe tbody tr th {\n",
       "        vertical-align: top;\n",
       "    }\n",
       "\n",
       "    .dataframe thead th {\n",
       "        text-align: right;\n",
       "    }\n",
       "</style>\n",
       "<table border=\"1\" class=\"dataframe\">\n",
       "  <thead>\n",
       "    <tr style=\"text-align: right;\">\n",
       "      <th></th>\n",
       "      <th>mean</th>\n",
       "      <th>count</th>\n",
       "      <th>median</th>\n",
       "    </tr>\n",
       "    <tr>\n",
       "      <th>floor_category</th>\n",
       "      <th></th>\n",
       "      <th></th>\n",
       "      <th></th>\n",
       "    </tr>\n",
       "  </thead>\n",
       "  <tbody>\n",
       "    <tr>\n",
       "      <td>другой</td>\n",
       "      <td>135178.469797</td>\n",
       "      <td>4387</td>\n",
       "      <td>119496.0</td>\n",
       "    </tr>\n",
       "    <tr>\n",
       "      <td>первый</td>\n",
       "      <td>113675.556923</td>\n",
       "      <td>650</td>\n",
       "      <td>101874.5</td>\n",
       "    </tr>\n",
       "    <tr>\n",
       "      <td>последний</td>\n",
       "      <td>134788.901182</td>\n",
       "      <td>931</td>\n",
       "      <td>112079.0</td>\n",
       "    </tr>\n",
       "  </tbody>\n",
       "</table>\n",
       "</div>"
      ],
      "text/plain": [
       "                         mean  count    median\n",
       "floor_category                                \n",
       "другой          135178.469797   4387  119496.0\n",
       "первый          113675.556923    650  101874.5\n",
       "последний       134788.901182    931  112079.0"
      ]
     },
     "execution_count": 49,
     "metadata": {},
     "output_type": "execute_result"
    },
    {
     "data": {
      "image/png": "[encoded data removed]",
      "text/plain": [
       "<Figure size 432x288 with 1 Axes>"
      ]
     },
     "metadata": {
      "needs_background": "light"
     },
     "output_type": "display_data"
    }
   ],
   "source": [
    "center_spb_floor_category = center_spb_data.pivot_table(index = 'floor_category', values = 'price_per_square_meter', aggfunc = ['mean', 'count', 'median'])\n",
    "center_spb_floor_category.columns = ['mean', 'count', 'median']\n",
    "center_spb_floor_category.plot(y = 'median', kind = 'bar')\n",
    "center_spb_floor_category"
   ]
  },
  {
   "cell_type": "markdown",
   "metadata": {},
   "source": [
    "нет особых отличий от всей выборки квартир! Квартиры на первом этаже в среднем дешевле, чем на последнем!"
   ]
  },
  {
   "cell_type": "markdown",
   "metadata": {},
   "source": [
    "### Зависимость стоимости квадратного метра от удаленности от центра."
   ]
  },
  {
   "cell_type": "code",
   "execution_count": 20,
   "metadata": {},
   "outputs": [
    {
     "data": {
      "text/plain": [
       "-0.185928689535207"
      ]
     },
     "execution_count": 20,
     "metadata": {},
     "output_type": "execute_result"
    },
    {
     "data": {
      "image/png": "[encoded data removed]",
      "text/plain": [
       "<Figure size 432x288 with 1 Axes>"
      ]
     },
     "metadata": {
      "needs_background": "light"
     },
     "output_type": "display_data"
    }
   ],
   "source": [
    "center_spb_data.plot(kind = 'scatter', y = 'price_per_square_meter', x = 'cityCenters_nearest', alpha = 0.3)\n",
    "\n",
    "center_spb_data['cityCenters_nearest'].corr(center_spb_data['price_per_square_meter'])"
   ]
  },
  {
   "cell_type": "markdown",
   "metadata": {},
   "source": [
    "**Вывод:** ожидаемо, четкой зависимости нет, так как у нас уже сделана выборка по центру города!"
   ]
  },
  {
   "cell_type": "markdown",
   "metadata": {},
   "source": [
    "### Зависимость стоимости квадратного метра от дня недели размещения объявления."
   ]
  },
  {
   "cell_type": "code",
   "execution_count": 21,
   "metadata": {},
   "outputs": [
    {
     "data": {
      "text/html": [
       "<div>\n",
       "<style scoped>\n",
       "    .dataframe tbody tr th:only-of-type {\n",
       "        vertical-align: middle;\n",
       "    }\n",
       "\n",
       "    .dataframe tbody tr th {\n",
       "        vertical-align: top;\n",
       "    }\n",
       "\n",
       "    .dataframe thead th {\n",
       "        text-align: right;\n",
       "    }\n",
       "</style>\n",
       "<table border=\"1\" class=\"dataframe\">\n",
       "  <thead>\n",
       "    <tr style=\"text-align: right;\">\n",
       "      <th></th>\n",
       "      <th>mean</th>\n",
       "      <th>count</th>\n",
       "      <th>median</th>\n",
       "    </tr>\n",
       "    <tr>\n",
       "      <th>weekday_exposition</th>\n",
       "      <th></th>\n",
       "      <th></th>\n",
       "      <th></th>\n",
       "    </tr>\n",
       "  </thead>\n",
       "  <tbody>\n",
       "    <tr>\n",
       "      <td>6</td>\n",
       "      <td>132133.389034</td>\n",
       "      <td>383</td>\n",
       "      <td>120000.0</td>\n",
       "    </tr>\n",
       "    <tr>\n",
       "      <td>5</td>\n",
       "      <td>139215.345815</td>\n",
       "      <td>454</td>\n",
       "      <td>118122.0</td>\n",
       "    </tr>\n",
       "    <tr>\n",
       "      <td>0</td>\n",
       "      <td>133365.792453</td>\n",
       "      <td>901</td>\n",
       "      <td>116981.0</td>\n",
       "    </tr>\n",
       "    <tr>\n",
       "      <td>2</td>\n",
       "      <td>132217.050296</td>\n",
       "      <td>1014</td>\n",
       "      <td>115469.5</td>\n",
       "    </tr>\n",
       "    <tr>\n",
       "      <td>3</td>\n",
       "      <td>133264.276577</td>\n",
       "      <td>1157</td>\n",
       "      <td>115264.0</td>\n",
       "    </tr>\n",
       "    <tr>\n",
       "      <td>4</td>\n",
       "      <td>131231.155378</td>\n",
       "      <td>1004</td>\n",
       "      <td>115051.5</td>\n",
       "    </tr>\n",
       "    <tr>\n",
       "      <td>1</td>\n",
       "      <td>131240.784314</td>\n",
       "      <td>1071</td>\n",
       "      <td>114130.0</td>\n",
       "    </tr>\n",
       "  </tbody>\n",
       "</table>\n",
       "</div>"
      ],
      "text/plain": [
       "                             mean  count    median\n",
       "weekday_exposition                                \n",
       "6                   132133.389034    383  120000.0\n",
       "5                   139215.345815    454  118122.0\n",
       "0                   133365.792453    901  116981.0\n",
       "2                   132217.050296   1014  115469.5\n",
       "3                   133264.276577   1157  115264.0\n",
       "4                   131231.155378   1004  115051.5\n",
       "1                   131240.784314   1071  114130.0"
      ]
     },
     "execution_count": 21,
     "metadata": {},
     "output_type": "execute_result"
    },
    {
     "data": {
      "image/png": "[encoded data removed]",
      "text/plain": [
       "<Figure size 432x288 with 1 Axes>"
      ]
     },
     "metadata": {
      "needs_background": "light"
     },
     "output_type": "display_data"
    }
   ],
   "source": [
    "center_spb_weekday_exposition = center_spb_data.pivot_table(index = 'weekday_exposition', values = 'price_per_square_meter', aggfunc = ['mean', 'count', 'median'])\n",
    "center_spb_weekday_exposition.columns = ['mean', 'count', 'median']\n",
    "center_spb_weekday_exposition.plot(y = 'median')\n",
    "\n",
    "center_spb_weekday_exposition.sort_values('median', ascending = False)"
   ]
  },
  {
   "cell_type": "markdown",
   "metadata": {},
   "source": [
    "Вывод: ситуация отличается от всей выборки, минимальные средние цены в четверг и воскресенье, самые высокие - в понедельник и субботу!"
   ]
  },
  {
   "cell_type": "markdown",
   "metadata": {},
   "source": [
    "### Зависимость стоимости квадратного метра от месяца размещения объявления."
   ]
  },
  {
   "cell_type": "code",
   "execution_count": 22,
   "metadata": {},
   "outputs": [
    {
     "data": {
      "text/html": [
       "<div>\n",
       "<style scoped>\n",
       "    .dataframe tbody tr th:only-of-type {\n",
       "        vertical-align: middle;\n",
       "    }\n",
       "\n",
       "    .dataframe tbody tr th {\n",
       "        vertical-align: top;\n",
       "    }\n",
       "\n",
       "    .dataframe thead th {\n",
       "        text-align: right;\n",
       "    }\n",
       "</style>\n",
       "<table border=\"1\" class=\"dataframe\">\n",
       "  <thead>\n",
       "    <tr style=\"text-align: right;\">\n",
       "      <th></th>\n",
       "      <th>mean</th>\n",
       "      <th>count</th>\n",
       "      <th>median</th>\n",
       "    </tr>\n",
       "    <tr>\n",
       "      <th>month_exposition</th>\n",
       "      <th></th>\n",
       "      <th></th>\n",
       "      <th></th>\n",
       "    </tr>\n",
       "  </thead>\n",
       "  <tbody>\n",
       "    <tr>\n",
       "      <td>3</td>\n",
       "      <td>133638.915515</td>\n",
       "      <td>651</td>\n",
       "      <td>120289.0</td>\n",
       "    </tr>\n",
       "    <tr>\n",
       "      <td>1</td>\n",
       "      <td>135756.391892</td>\n",
       "      <td>370</td>\n",
       "      <td>119392.5</td>\n",
       "    </tr>\n",
       "    <tr>\n",
       "      <td>8</td>\n",
       "      <td>134111.821759</td>\n",
       "      <td>432</td>\n",
       "      <td>119298.5</td>\n",
       "    </tr>\n",
       "    <tr>\n",
       "      <td>9</td>\n",
       "      <td>133720.490196</td>\n",
       "      <td>510</td>\n",
       "      <td>118846.5</td>\n",
       "    </tr>\n",
       "    <tr>\n",
       "      <td>11</td>\n",
       "      <td>131642.316726</td>\n",
       "      <td>562</td>\n",
       "      <td>116308.0</td>\n",
       "    </tr>\n",
       "    <tr>\n",
       "      <td>4</td>\n",
       "      <td>138012.441624</td>\n",
       "      <td>591</td>\n",
       "      <td>115646.0</td>\n",
       "    </tr>\n",
       "    <tr>\n",
       "      <td>10</td>\n",
       "      <td>129460.388235</td>\n",
       "      <td>510</td>\n",
       "      <td>114946.0</td>\n",
       "    </tr>\n",
       "    <tr>\n",
       "      <td>7</td>\n",
       "      <td>131671.538627</td>\n",
       "      <td>466</td>\n",
       "      <td>114587.0</td>\n",
       "    </tr>\n",
       "    <tr>\n",
       "      <td>12</td>\n",
       "      <td>135168.338384</td>\n",
       "      <td>396</td>\n",
       "      <td>114348.5</td>\n",
       "    </tr>\n",
       "    <tr>\n",
       "      <td>6</td>\n",
       "      <td>131319.736842</td>\n",
       "      <td>475</td>\n",
       "      <td>113333.0</td>\n",
       "    </tr>\n",
       "    <tr>\n",
       "      <td>2</td>\n",
       "      <td>131317.592705</td>\n",
       "      <td>658</td>\n",
       "      <td>113132.0</td>\n",
       "    </tr>\n",
       "    <tr>\n",
       "      <td>5</td>\n",
       "      <td>126551.272727</td>\n",
       "      <td>363</td>\n",
       "      <td>112774.0</td>\n",
       "    </tr>\n",
       "  </tbody>\n",
       "</table>\n",
       "</div>"
      ],
      "text/plain": [
       "                           mean  count    median\n",
       "month_exposition                                \n",
       "3                 133638.915515    651  120289.0\n",
       "1                 135756.391892    370  119392.5\n",
       "8                 134111.821759    432  119298.5\n",
       "9                 133720.490196    510  118846.5\n",
       "11                131642.316726    562  116308.0\n",
       "4                 138012.441624    591  115646.0\n",
       "10                129460.388235    510  114946.0\n",
       "7                 131671.538627    466  114587.0\n",
       "12                135168.338384    396  114348.5\n",
       "6                 131319.736842    475  113333.0\n",
       "2                 131317.592705    658  113132.0\n",
       "5                 126551.272727    363  112774.0"
      ]
     },
     "execution_count": 22,
     "metadata": {},
     "output_type": "execute_result"
    },
    {
     "data": {
      "image/png": "[encoded data removed]",
      "text/plain": [
       "<Figure size 432x288 with 1 Axes>"
      ]
     },
     "metadata": {
      "needs_background": "light"
     },
     "output_type": "display_data"
    }
   ],
   "source": [
    "center_spb_month_exposition = center_spb_data.pivot_table(index = 'month_exposition', values = 'price_per_square_meter', aggfunc = ['mean', 'count', 'median'])\n",
    "center_spb_month_exposition.columns = ['mean', 'count', 'median']\n",
    "center_spb_month_exposition.plot(y = 'median')\n",
    "\n",
    "center_spb_month_exposition.sort_values('median', ascending = False)"
   ]
  },
  {
   "cell_type": "markdown",
   "metadata": {},
   "source": [
    " ситуация похожая с общей выборкой - самая высокая стоимость метра в апреле и августе! Самая низкая стоимость в мае и июне!"
   ]
  },
  {
   "cell_type": "markdown",
   "metadata": {},
   "source": [
    "### Зависимость стоимости квадратного метра от года размещения объявления."
   ]
  },
  {
   "cell_type": "code",
   "execution_count": 23,
   "metadata": {},
   "outputs": [
    {
     "data": {
      "text/html": [
       "<div>\n",
       "<style scoped>\n",
       "    .dataframe tbody tr th:only-of-type {\n",
       "        vertical-align: middle;\n",
       "    }\n",
       "\n",
       "    .dataframe tbody tr th {\n",
       "        vertical-align: top;\n",
       "    }\n",
       "\n",
       "    .dataframe thead th {\n",
       "        text-align: right;\n",
       "    }\n",
       "</style>\n",
       "<table border=\"1\" class=\"dataframe\">\n",
       "  <thead>\n",
       "    <tr style=\"text-align: right;\">\n",
       "      <th></th>\n",
       "      <th>mean</th>\n",
       "      <th>count</th>\n",
       "      <th>median</th>\n",
       "    </tr>\n",
       "    <tr>\n",
       "      <th>year_exposition</th>\n",
       "      <th></th>\n",
       "      <th></th>\n",
       "      <th></th>\n",
       "    </tr>\n",
       "  </thead>\n",
       "  <tbody>\n",
       "    <tr>\n",
       "      <td>2014</td>\n",
       "      <td>159558.767857</td>\n",
       "      <td>56</td>\n",
       "      <td>137227.5</td>\n",
       "    </tr>\n",
       "    <tr>\n",
       "      <td>2019</td>\n",
       "      <td>142535.749638</td>\n",
       "      <td>691</td>\n",
       "      <td>125000.0</td>\n",
       "    </tr>\n",
       "    <tr>\n",
       "      <td>2018</td>\n",
       "      <td>130019.605888</td>\n",
       "      <td>1936</td>\n",
       "      <td>116703.0</td>\n",
       "    </tr>\n",
       "    <tr>\n",
       "      <td>2015</td>\n",
       "      <td>136008.343750</td>\n",
       "      <td>448</td>\n",
       "      <td>113878.5</td>\n",
       "    </tr>\n",
       "    <tr>\n",
       "      <td>2017</td>\n",
       "      <td>130992.377487</td>\n",
       "      <td>2061</td>\n",
       "      <td>113230.0</td>\n",
       "    </tr>\n",
       "    <tr>\n",
       "      <td>2016</td>\n",
       "      <td>131932.792929</td>\n",
       "      <td>792</td>\n",
       "      <td>112170.5</td>\n",
       "    </tr>\n",
       "  </tbody>\n",
       "</table>\n",
       "</div>"
      ],
      "text/plain": [
       "                          mean  count    median\n",
       "year_exposition                                \n",
       "2014             159558.767857     56  137227.5\n",
       "2019             142535.749638    691  125000.0\n",
       "2018             130019.605888   1936  116703.0\n",
       "2015             136008.343750    448  113878.5\n",
       "2017             130992.377487   2061  113230.0\n",
       "2016             131932.792929    792  112170.5"
      ]
     },
     "execution_count": 23,
     "metadata": {},
     "output_type": "execute_result"
    },
    {
     "data": {
      "image/png": "[encoded data removed]",
      "text/plain": [
       "<Figure size 432x288 with 1 Axes>"
      ]
     },
     "metadata": {
      "needs_background": "light"
     },
     "output_type": "display_data"
    }
   ],
   "source": [
    "center_spb_year_exposition = center_spb_data.pivot_table(index = 'year_exposition', values = 'price_per_square_meter', aggfunc = ['mean', 'count', 'median'])\n",
    "center_spb_year_exposition.columns = ['mean', 'count', 'median']\n",
    "center_spb_year_exposition.query('count > 50').plot(y = 'median')\n",
    "\n",
    "center_spb_year_exposition.query('count > 50').sort_values('median', ascending = False)"
   ]
  },
  {
   "cell_type": "markdown",
   "metadata": {},
   "source": [
    "Вывод: в отличие от всей выборки - цены в центре СПБ в 2016-2017 годах не падали, а планомерно расли!"
   ]
  },
  {
   "cell_type": "markdown",
   "metadata": {},
   "source": [
    "## Общий вывод"
   ]
  },
  {
   "cell_type": "markdown",
   "metadata": {},
   "source": [
    "Мы обработали полученный архив данных - обработали пропущенные значения там, где это необходимо, заменили типы данных на необходимые для удобной работы.\n",
    "Посчитали и добавили в таблицу цену квадратного метра жилья, вывели из даты дни недели, месяцы и года размещения объявлений, добавили категории по этажам квартир. Изучили следующие параметры на наличие выбивающихся значений - площадь, цена, число комнат, высота потолков. Были определены аномалии в данных параметрах. Изучая время продажи квартир мы выявили, что большое количество объявлений было автоматически снято с Яндекс Недвижимость и дату из снятия нельзя считать датой продажи квартиры, поэтому, изучая средние сроки продажи квартир - данные значения не учитывались.  Мы выявили при помощи диаграммы размаха, что нормальные значения продажи квартир варьируются от 1 до 600 дней.\n",
    "Мы выявили, что на стоимость квадратного метра квартиры больше всего влияют количество комнат, этаж квартиры, близость к центру. Незначительно на стоимость квадратного метра влияют день, месяц, год размещения и общая площадь. Нужно учитывать, что в 2016-2017 годах стоимость квартир в среднем по рынку была ниже на 10-20 %, тогда как в центре Санкт-Петербурга данной зависимости от года не обнаружено.  В данном случае имело место постоянное удорожание стоимости, начиная с 2015 года по текущий момент. Судя, по резкости изменения цен в зависимости от удаления от центра СПБ, мы выявили центр города в радиусе 3 километров.\n",
    "\n",
    "Также важно учитывать, что, рассматривая среднюю стоимость квартир в 2014-2019 годах, мы не делали сегментацию рынка, а лишь смотрели средние показатели по рынку в целом. Т.е. возможно, что цены на аналогичные квартиры в разных годах вели себя абсолютно по-разному. Т.е. например в то время, когда средняя стоимость метра по рынку в 2016-2017 годах была наиболее низкой, какие-то аналогичные прошлым годам квартиры могли и не падать в цене, а наоборот дорожать! Именно об этом нам и говорят данные, полученные при изучении единственного сегмента квартир - находящихся в радиусе 3 км в центре СПБ. "
   ]
  },
  {
   "cell_type": "markdown",
   "metadata": {},
   "source": [
    "## Чек-лист готовности проекта\n",
    "\n",
    "Поставьте 'x' в выполненных пунктах. Далее нажмите Shift+Enter."
   ]
  },
  {
   "cell_type": "markdown",
   "metadata": {},
   "source": [
    "- [x]  открыт файл\n",
    "- [ x]  файлы изучены (выведены первые строки, метод info())\n",
    "- [x ]  определены пропущенные значения\n",
    "- [x ]  заполнены пропущенные значения\n",
    "- [x ]  есть пояснение, какие пропущенные значения обнаружены\n",
    "- [x ]  изменены типы данных\n",
    "- [x ]  есть пояснение, в каких столбцах изменены типы и почему\n",
    "- [x ]  посчитано и добавлено в таблицу: цена квадратного метра\n",
    "- [x ]  посчитано и добавлено в таблицу: день недели, месяц и год публикации объявления\n",
    "- [x ]  посчитано и добавлено в таблицу: этаж квартиры; варианты — первый, последний, другой\n",
    "- [x ]  посчитано и добавлено в таблицу: соотношение жилой и общей площади, а также отношение площади кухни к общей\n",
    "- [ x]  изучены следующие параметры: площадь, цена, число комнат, высота потолков\n",
    "- [ x]  построены гистограммы для каждого параметра\n",
    "- [ x]  выполнено задание: \"Изучите время продажи квартиры. Постройте гистограмму. Посчитайте среднее и медиану. Опишите, сколько обычно занимает продажа. Когда можно считать, что продажи прошли очень быстро, а когда необычно долго?\"\n",
    "- [ x]  выполнено задание: \"Уберите редкие и выбивающиеся значения. Опишите, какие особенности обнаружили.\"\n",
    "- [ x]  выполнено задание: \"Какие факторы больше всего влияют на стоимость квартиры? Изучите, зависит ли цена от квадратного метра, числа комнат, этажа (первого или последнего), удалённости от центра. Также изучите зависимость от даты размещения: дня недели, месяца и года. \"Выберите 10 населённых пунктов с наибольшим числом объявлений. Посчитайте среднюю цену квадратного метра в этих населённых пунктах. Выделите населённые пункты с самой высокой и низкой стоимостью жилья. Эти данные можно найти по имени в столбце '*locality_name'*. \"\n",
    "- [x ]  выполнено задание: \"Изучите предложения квартир: для каждой квартиры есть информация о расстоянии до центра. Выделите квартиры в Санкт-Петербурге (*'locality_name'*). Ваша задача — выяснить, какая область входит в центр. Создайте столбец с расстоянием до центра в километрах: округлите до целых значений. После этого посчитайте среднюю цену для каждого километра. Постройте график: он должен показывать, как цена зависит от удалённости от центра. Определите границу, где график сильно меняется — это и будет центральная зона. \"\n",
    "- [x ]  выполнено задание: \"Выделите сегмент квартир в центре. Проанализируйте эту территорию и изучите следующие параметры: площадь, цена, число комнат, высота потолков. Также выделите факторы, которые влияют на стоимость квартиры (число комнат, этаж, удалённость от центра, дата размещения объявления). Сделайте выводы. Отличаются ли они от общих выводов по всему городу?\"\n",
    "- [x ]  в каждом этапе есть выводы\n",
    "- [ x]  есть общий вывод"
   ]
  }
 ],
 "metadata": {
  "ExecuteTimeLog": [
   {
    "duration": 306,
    "start_time": "2021-07-23T09:31:01.724Z"
   },
   {
    "duration": 763,
    "start_time": "2021-07-23T09:31:07.870Z"
   },
   {
    "duration": 67,
    "start_time": "2021-07-23T09:31:40.152Z"
   },
   {
    "duration": 88,
    "start_time": "2021-07-23T09:32:41.633Z"
   },
   {
    "duration": 79,
    "start_time": "2021-07-23T09:32:44.987Z"
   },
   {
    "duration": 67,
    "start_time": "2021-07-23T09:32:51.579Z"
   },
   {
    "duration": 369,
    "start_time": "2021-07-23T09:35:09.841Z"
   },
   {
    "duration": 322,
    "start_time": "2021-07-23T09:36:29.832Z"
   },
   {
    "duration": 239,
    "start_time": "2021-07-23T09:37:50.650Z"
   },
   {
    "duration": 29,
    "start_time": "2021-07-23T09:40:59.947Z"
   },
   {
    "duration": 19,
    "start_time": "2021-07-23T09:41:23.592Z"
   },
   {
    "duration": 289,
    "start_time": "2021-07-23T09:41:38.227Z"
   },
   {
    "duration": 292,
    "start_time": "2021-07-23T09:42:23.577Z"
   },
   {
    "duration": 488,
    "start_time": "2021-07-23T09:43:09.171Z"
   },
   {
    "duration": 301,
    "start_time": "2021-07-23T09:43:32.280Z"
   },
   {
    "duration": 1149,
    "start_time": "2021-07-23T09:46:14.291Z"
   },
   {
    "duration": 246,
    "start_time": "2021-07-23T09:48:40.553Z"
   },
   {
    "duration": 1203,
    "start_time": "2021-07-23T09:50:27.894Z"
   },
   {
    "duration": 1078,
    "start_time": "2021-07-23T09:50:39.265Z"
   },
   {
    "duration": 1147,
    "start_time": "2021-07-23T09:50:51.220Z"
   },
   {
    "duration": 1073,
    "start_time": "2021-07-23T09:50:55.757Z"
   },
   {
    "duration": 1144,
    "start_time": "2021-07-23T09:51:13.411Z"
   },
   {
    "duration": 1066,
    "start_time": "2021-07-23T09:51:18.112Z"
   },
   {
    "duration": 16,
    "start_time": "2021-07-23T09:51:46.566Z"
   },
   {
    "duration": 24,
    "start_time": "2021-07-23T09:51:57.999Z"
   },
   {
    "duration": 227,
    "start_time": "2021-07-23T09:52:18.482Z"
   },
   {
    "duration": 226,
    "start_time": "2021-07-23T09:52:35.812Z"
   },
   {
    "duration": 238,
    "start_time": "2021-07-23T09:52:49.245Z"
   },
   {
    "duration": 235,
    "start_time": "2021-07-23T09:54:20.341Z"
   },
   {
    "duration": 1453,
    "start_time": "2021-07-23T10:00:32.334Z"
   },
   {
    "duration": 1747,
    "start_time": "2021-07-23T10:00:49.633Z"
   },
   {
    "duration": 2028,
    "start_time": "2021-07-23T10:02:15.324Z"
   },
   {
    "duration": 1876,
    "start_time": "2021-07-23T10:02:30.986Z"
   },
   {
    "duration": 2648,
    "start_time": "2021-07-23T10:03:22.583Z"
   },
   {
    "duration": 2387,
    "start_time": "2021-07-23T10:03:34.157Z"
   },
   {
    "duration": 2840,
    "start_time": "2021-07-23T10:04:12.076Z"
   },
   {
    "duration": 2715,
    "start_time": "2021-07-23T10:04:21.037Z"
   },
   {
    "duration": 2480,
    "start_time": "2021-07-23T10:04:34.618Z"
   },
   {
    "duration": 2792,
    "start_time": "2021-07-23T10:07:22.143Z"
   },
   {
    "duration": 2681,
    "start_time": "2021-07-23T10:07:36.507Z"
   },
   {
    "duration": 2766,
    "start_time": "2021-07-23T10:07:55.255Z"
   },
   {
    "duration": 5102,
    "start_time": "2021-07-23T10:18:48.838Z"
   },
   {
    "duration": 7464,
    "start_time": "2021-07-23T10:19:17.957Z"
   },
   {
    "duration": 779,
    "start_time": "2021-07-23T10:19:29.272Z"
   },
   {
    "duration": 1418,
    "start_time": "2021-07-23T10:19:30.053Z"
   },
   {
    "duration": -208,
    "start_time": "2021-07-23T10:19:31.681Z"
   },
   {
    "duration": -212,
    "start_time": "2021-07-23T10:19:31.686Z"
   },
   {
    "duration": 1114,
    "start_time": "2021-07-23T10:19:48.773Z"
   },
   {
    "duration": 74,
    "start_time": "2021-07-23T10:19:55.469Z"
   },
   {
    "duration": 1151,
    "start_time": "2021-07-23T10:19:57.578Z"
   },
   {
    "duration": 74,
    "start_time": "2021-07-23T10:20:17.786Z"
   },
   {
    "duration": 1102,
    "start_time": "2021-07-23T10:20:20.452Z"
   },
   {
    "duration": 275,
    "start_time": "2021-07-23T10:20:37.233Z"
   },
   {
    "duration": 1329,
    "start_time": "2021-07-23T10:21:13.741Z"
   },
   {
    "duration": 8211,
    "start_time": "2021-07-23T10:21:46.386Z"
   },
   {
    "duration": 6981,
    "start_time": "2021-07-23T10:21:58.536Z"
   },
   {
    "duration": 354,
    "start_time": "2021-07-23T10:22:20.172Z"
   },
   {
    "duration": 336,
    "start_time": "2021-07-23T10:23:06.485Z"
   },
   {
    "duration": 327,
    "start_time": "2021-07-25T12:21:44.796Z"
   },
   {
    "duration": 778,
    "start_time": "2021-07-25T12:21:56.406Z"
   },
   {
    "duration": 308,
    "start_time": "2021-07-25T12:22:01.119Z"
   },
   {
    "duration": 794,
    "start_time": "2021-07-25T12:22:18.511Z"
   },
   {
    "duration": 375,
    "start_time": "2021-07-25T12:22:19.308Z"
   },
   {
    "duration": -23,
    "start_time": "2021-07-25T12:22:19.709Z"
   },
   {
    "duration": -25,
    "start_time": "2021-07-25T12:22:19.712Z"
   },
   {
    "duration": 765,
    "start_time": "2021-07-25T12:22:41.020Z"
   },
   {
    "duration": 416,
    "start_time": "2021-07-25T12:22:49.048Z"
   },
   {
    "duration": 46,
    "start_time": "2021-07-25T12:22:56.687Z"
   },
   {
    "duration": 5026,
    "start_time": "2021-07-25T12:23:05.140Z"
   },
   {
    "duration": 4927,
    "start_time": "2021-07-25T12:26:11.454Z"
   },
   {
    "duration": 8167,
    "start_time": "2021-07-25T12:27:56.681Z"
   },
   {
    "duration": 5049,
    "start_time": "2021-07-25T12:29:00.928Z"
   },
   {
    "duration": 838,
    "start_time": "2021-07-25T12:44:00.988Z"
   },
   {
    "duration": 560,
    "start_time": "2021-07-25T12:44:01.830Z"
   },
   {
    "duration": 42,
    "start_time": "2021-07-25T12:44:02.393Z"
   },
   {
    "duration": 119,
    "start_time": "2021-07-25T12:44:02.438Z"
   },
   {
    "duration": 164,
    "start_time": "2021-07-25T12:44:39.930Z"
   },
   {
    "duration": 5070,
    "start_time": "2021-07-25T12:44:44.748Z"
   },
   {
    "duration": 5109,
    "start_time": "2021-07-25T12:46:15.003Z"
   },
   {
    "duration": 5128,
    "start_time": "2021-07-25T12:47:45.345Z"
   },
   {
    "duration": 159,
    "start_time": "2021-07-25T12:48:39.189Z"
   },
   {
    "duration": 1015,
    "start_time": "2021-07-25T12:49:32.901Z"
   },
   {
    "duration": 787,
    "start_time": "2021-07-25T12:49:42.790Z"
   },
   {
    "duration": 801,
    "start_time": "2021-07-25T12:49:55.878Z"
   },
   {
    "duration": 9385,
    "start_time": "2021-07-25T12:50:03.310Z"
   },
   {
    "duration": 9183,
    "start_time": "2021-07-25T12:52:34.931Z"
   },
   {
    "duration": 9395,
    "start_time": "2021-07-25T12:52:44.415Z"
   },
   {
    "duration": 768,
    "start_time": "2021-07-25T12:53:17.766Z"
   },
   {
    "duration": 9513,
    "start_time": "2021-07-25T12:53:22.966Z"
   },
   {
    "duration": 85,
    "start_time": "2021-07-26T07:02:48.789Z"
   },
   {
    "duration": 856,
    "start_time": "2021-07-26T07:07:00.637Z"
   },
   {
    "duration": 19,
    "start_time": "2021-07-26T07:07:01.495Z"
   },
   {
    "duration": 417,
    "start_time": "2021-07-26T07:07:01.517Z"
   },
   {
    "duration": -511,
    "start_time": "2021-07-26T07:07:02.448Z"
   },
   {
    "duration": -512,
    "start_time": "2021-07-26T07:07:02.451Z"
   },
   {
    "duration": 518,
    "start_time": "2021-07-26T07:07:26.624Z"
   },
   {
    "duration": 10,
    "start_time": "2021-07-26T07:07:38.570Z"
   },
   {
    "duration": 852,
    "start_time": "2021-07-26T07:09:20.969Z"
   },
   {
    "duration": 8973,
    "start_time": "2021-07-26T07:09:26.412Z"
   },
   {
    "duration": 89,
    "start_time": "2021-07-26T09:44:20.421Z"
   },
   {
    "duration": 261,
    "start_time": "2021-07-27T08:25:31.825Z"
   },
   {
    "duration": 625,
    "start_time": "2021-07-27T08:25:44.467Z"
   },
   {
    "duration": 301,
    "start_time": "2021-07-27T08:25:45.094Z"
   },
   {
    "duration": 474,
    "start_time": "2021-07-27T08:25:45.396Z"
   },
   {
    "duration": 985,
    "start_time": "2021-07-27T08:25:45.871Z"
   },
   {
    "duration": 665,
    "start_time": "2021-07-27T08:29:24.751Z"
   },
   {
    "duration": 105,
    "start_time": "2021-07-27T08:29:49.263Z"
   },
   {
    "duration": 284,
    "start_time": "2021-07-27T08:31:51.875Z"
   },
   {
    "duration": 29,
    "start_time": "2021-07-27T08:31:54.932Z"
   },
   {
    "duration": 728,
    "start_time": "2021-07-27T08:34:23.765Z"
   },
   {
    "duration": 183,
    "start_time": "2021-07-27T08:35:46.274Z"
   },
   {
    "duration": 179,
    "start_time": "2021-07-27T08:37:20.436Z"
   },
   {
    "duration": 153,
    "start_time": "2021-07-27T08:39:37.811Z"
   },
   {
    "duration": 453,
    "start_time": "2021-07-27T08:41:22.366Z"
   },
   {
    "duration": 71,
    "start_time": "2021-07-27T08:41:27.403Z"
   },
   {
    "duration": 169,
    "start_time": "2021-07-27T08:42:43.445Z"
   },
   {
    "duration": 265,
    "start_time": "2021-07-27T11:08:48.225Z"
   },
   {
    "duration": 648,
    "start_time": "2021-07-27T11:08:57.010Z"
   },
   {
    "duration": 331,
    "start_time": "2021-07-27T11:08:57.660Z"
   },
   {
    "duration": 517,
    "start_time": "2021-07-27T11:08:57.993Z"
   },
   {
    "duration": 1074,
    "start_time": "2021-07-27T11:08:58.513Z"
   },
   {
    "duration": 670,
    "start_time": "2021-07-27T11:08:59.589Z"
   },
   {
    "duration": 34,
    "start_time": "2021-07-27T11:09:00.261Z"
   },
   {
    "duration": 754,
    "start_time": "2021-07-27T11:09:00.297Z"
   },
   {
    "duration": 195,
    "start_time": "2021-07-27T11:09:01.054Z"
   },
   {
    "duration": 185,
    "start_time": "2021-07-27T11:09:01.250Z"
   },
   {
    "duration": 168,
    "start_time": "2021-07-27T11:09:01.436Z"
   },
   {
    "duration": 468,
    "start_time": "2021-07-27T11:09:01.606Z"
   },
   {
    "duration": 180,
    "start_time": "2021-07-27T11:09:02.075Z"
   },
   {
    "duration": 196,
    "start_time": "2021-07-27T11:09:02.257Z"
   },
   {
    "duration": 184,
    "start_time": "2021-07-27T11:12:49.586Z"
   },
   {
    "duration": 22,
    "start_time": "2021-07-27T11:14:11.037Z"
   },
   {
    "duration": 24,
    "start_time": "2021-07-27T11:14:59.250Z"
   },
   {
    "duration": 168,
    "start_time": "2021-07-27T11:15:52.698Z"
   },
   {
    "duration": 9,
    "start_time": "2021-07-27T11:17:27.237Z"
   },
   {
    "duration": 34,
    "start_time": "2021-07-27T11:17:40.957Z"
   },
   {
    "duration": 35,
    "start_time": "2021-07-27T11:18:42.728Z"
   },
   {
    "duration": 163,
    "start_time": "2021-07-27T11:19:21.148Z"
   },
   {
    "duration": 225,
    "start_time": "2021-07-27T11:20:34.714Z"
   },
   {
    "duration": 371,
    "start_time": "2021-07-27T11:21:25.260Z"
   },
   {
    "duration": 173,
    "start_time": "2021-07-27T11:22:24.908Z"
   },
   {
    "duration": 289,
    "start_time": "2021-07-27T11:23:24.227Z"
   },
   {
    "duration": 261,
    "start_time": "2021-07-27T11:24:10.094Z"
   },
   {
    "duration": 103,
    "start_time": "2021-07-28T11:13:54.825Z"
   },
   {
    "duration": 96,
    "start_time": "2021-07-28T11:19:08.563Z"
   },
   {
    "duration": 101,
    "start_time": "2021-07-28T11:21:13.539Z"
   },
   {
    "duration": 89,
    "start_time": "2021-07-28T11:21:47.167Z"
   },
   {
    "duration": 94,
    "start_time": "2021-07-28T11:22:09.831Z"
   },
   {
    "duration": 103,
    "start_time": "2021-07-28T11:22:59.639Z"
   },
   {
    "duration": 108,
    "start_time": "2021-07-28T11:27:20.324Z"
   },
   {
    "duration": 98,
    "start_time": "2021-07-28T11:29:13.305Z"
   },
   {
    "duration": 89,
    "start_time": "2021-07-28T11:30:18.134Z"
   },
   {
    "duration": 311,
    "start_time": "2021-07-28T15:36:55.170Z"
   },
   {
    "duration": 869,
    "start_time": "2021-07-28T15:37:04.231Z"
   },
   {
    "duration": 545,
    "start_time": "2021-07-28T15:37:05.103Z"
   },
   {
    "duration": 859,
    "start_time": "2021-07-28T15:37:05.655Z"
   },
   {
    "duration": 1967,
    "start_time": "2021-07-28T15:37:06.517Z"
   },
   {
    "duration": 1277,
    "start_time": "2021-07-28T15:37:08.487Z"
   },
   {
    "duration": 53,
    "start_time": "2021-07-28T15:37:09.767Z"
   },
   {
    "duration": 1368,
    "start_time": "2021-07-28T15:37:09.823Z"
   },
   {
    "duration": 368,
    "start_time": "2021-07-28T15:37:11.194Z"
   },
   {
    "duration": 393,
    "start_time": "2021-07-28T15:37:11.565Z"
   },
   {
    "duration": 310,
    "start_time": "2021-07-28T15:37:11.960Z"
   },
   {
    "duration": 728,
    "start_time": "2021-07-28T15:37:12.272Z"
   },
   {
    "duration": 345,
    "start_time": "2021-07-28T15:37:13.003Z"
   },
   {
    "duration": 349,
    "start_time": "2021-07-28T15:37:13.351Z"
   },
   {
    "duration": 332,
    "start_time": "2021-07-28T15:37:13.702Z"
   },
   {
    "duration": 44,
    "start_time": "2021-07-28T15:37:14.037Z"
   },
   {
    "duration": 334,
    "start_time": "2021-07-28T15:37:14.084Z"
   },
   {
    "duration": 76,
    "start_time": "2021-07-28T15:37:14.420Z"
   },
   {
    "duration": 422,
    "start_time": "2021-07-28T15:37:14.498Z"
   },
   {
    "duration": 377,
    "start_time": "2021-07-28T15:37:14.922Z"
   },
   {
    "duration": 512,
    "start_time": "2021-07-28T15:37:15.302Z"
   },
   {
    "duration": 342,
    "start_time": "2021-07-28T15:37:15.816Z"
   },
   {
    "duration": 340,
    "start_time": "2021-07-28T15:37:16.161Z"
   },
   {
    "duration": 325,
    "start_time": "2021-07-28T15:37:16.505Z"
   },
   {
    "duration": 413,
    "start_time": "2021-07-28T15:38:09.106Z"
   },
   {
    "duration": 348,
    "start_time": "2021-07-28T15:39:33.598Z"
   },
   {
    "duration": 329,
    "start_time": "2021-07-28T15:40:40.177Z"
   },
   {
    "duration": 929,
    "start_time": "2021-07-29T09:51:31.284Z"
   },
   {
    "duration": 221,
    "start_time": "2021-07-29T09:51:32.216Z"
   },
   {
    "duration": -38,
    "start_time": "2021-07-29T09:51:32.478Z"
   },
   {
    "duration": -48,
    "start_time": "2021-07-29T09:51:32.489Z"
   },
   {
    "duration": -52,
    "start_time": "2021-07-29T09:51:32.495Z"
   },
   {
    "duration": -58,
    "start_time": "2021-07-29T09:51:32.502Z"
   },
   {
    "duration": -68,
    "start_time": "2021-07-29T09:51:32.513Z"
   },
   {
    "duration": -73,
    "start_time": "2021-07-29T09:51:32.520Z"
   },
   {
    "duration": -78,
    "start_time": "2021-07-29T09:51:32.526Z"
   },
   {
    "duration": -84,
    "start_time": "2021-07-29T09:51:32.533Z"
   },
   {
    "duration": -122,
    "start_time": "2021-07-29T09:51:32.573Z"
   },
   {
    "duration": -143,
    "start_time": "2021-07-29T09:51:32.595Z"
   },
   {
    "duration": -148,
    "start_time": "2021-07-29T09:51:32.601Z"
   },
   {
    "duration": -154,
    "start_time": "2021-07-29T09:51:32.609Z"
   },
   {
    "duration": -160,
    "start_time": "2021-07-29T09:51:32.616Z"
   },
   {
    "duration": -167,
    "start_time": "2021-07-29T09:51:32.624Z"
   },
   {
    "duration": -171,
    "start_time": "2021-07-29T09:51:32.630Z"
   },
   {
    "duration": -176,
    "start_time": "2021-07-29T09:51:32.636Z"
   },
   {
    "duration": -181,
    "start_time": "2021-07-29T09:51:32.643Z"
   },
   {
    "duration": -186,
    "start_time": "2021-07-29T09:51:32.649Z"
   },
   {
    "duration": -189,
    "start_time": "2021-07-29T09:51:32.654Z"
   },
   {
    "duration": -193,
    "start_time": "2021-07-29T09:51:32.659Z"
   },
   {
    "duration": -198,
    "start_time": "2021-07-29T09:51:32.665Z"
   },
   {
    "duration": 149,
    "start_time": "2021-07-29T09:52:02.062Z"
   },
   {
    "duration": 147,
    "start_time": "2021-07-29T09:52:05.656Z"
   },
   {
    "duration": 612,
    "start_time": "2021-07-29T09:52:11.956Z"
   },
   {
    "duration": 564,
    "start_time": "2021-07-29T09:54:40.856Z"
   },
   {
    "duration": 445,
    "start_time": "2021-07-29T09:57:52.332Z"
   },
   {
    "duration": 881,
    "start_time": "2021-07-29T09:58:12.752Z"
   },
   {
    "duration": 429,
    "start_time": "2021-07-29T09:58:20.210Z"
   },
   {
    "duration": 841,
    "start_time": "2021-07-29T09:58:43.060Z"
   },
   {
    "duration": 463,
    "start_time": "2021-07-29T09:58:59.951Z"
   },
   {
    "duration": 407,
    "start_time": "2021-07-29T10:09:26.064Z"
   },
   {
    "duration": 436,
    "start_time": "2021-07-29T10:09:30.679Z"
   },
   {
    "duration": 974,
    "start_time": "2021-07-29T10:09:42.450Z"
   },
   {
    "duration": 593,
    "start_time": "2021-07-29T10:09:43.427Z"
   },
   {
    "duration": 966,
    "start_time": "2021-07-29T10:09:44.023Z"
   },
   {
    "duration": 2224,
    "start_time": "2021-07-29T10:09:44.993Z"
   },
   {
    "duration": 1421,
    "start_time": "2021-07-29T10:09:47.220Z"
   },
   {
    "duration": 61,
    "start_time": "2021-07-29T10:09:48.643Z"
   },
   {
    "duration": 1564,
    "start_time": "2021-07-29T10:09:48.706Z"
   },
   {
    "duration": 370,
    "start_time": "2021-07-29T10:09:50.275Z"
   },
   {
    "duration": 424,
    "start_time": "2021-07-29T10:09:50.649Z"
   },
   {
    "duration": 379,
    "start_time": "2021-07-29T10:09:51.075Z"
   },
   {
    "duration": 774,
    "start_time": "2021-07-29T10:09:51.457Z"
   },
   {
    "duration": 328,
    "start_time": "2021-07-29T10:09:52.234Z"
   },
   {
    "duration": 322,
    "start_time": "2021-07-29T10:09:52.566Z"
   },
   {
    "duration": 340,
    "start_time": "2021-07-29T10:09:52.891Z"
   },
   {
    "duration": 52,
    "start_time": "2021-07-29T10:09:53.233Z"
   },
   {
    "duration": 327,
    "start_time": "2021-07-29T10:09:53.287Z"
   },
   {
    "duration": 71,
    "start_time": "2021-07-29T10:09:53.617Z"
   },
   {
    "duration": 378,
    "start_time": "2021-07-29T10:09:53.690Z"
   },
   {
    "duration": 353,
    "start_time": "2021-07-29T10:09:54.071Z"
   },
   {
    "duration": 795,
    "start_time": "2021-07-29T10:09:54.426Z"
   },
   {
    "duration": 364,
    "start_time": "2021-07-29T10:09:55.224Z"
   },
   {
    "duration": 345,
    "start_time": "2021-07-29T10:09:55.590Z"
   },
   {
    "duration": 382,
    "start_time": "2021-07-29T10:09:55.940Z"
   },
   {
    "duration": 391,
    "start_time": "2021-07-29T10:13:00.047Z"
   },
   {
    "duration": 357,
    "start_time": "2021-07-29T10:13:30.948Z"
   },
   {
    "duration": 117,
    "start_time": "2021-07-30T06:39:47.264Z"
   },
   {
    "duration": 706,
    "start_time": "2021-07-30T06:40:59.287Z"
   },
   {
    "duration": 322,
    "start_time": "2021-07-30T06:40:59.994Z"
   },
   {
    "duration": 506,
    "start_time": "2021-07-30T06:41:00.318Z"
   },
   {
    "duration": 1156,
    "start_time": "2021-07-30T06:41:00.826Z"
   },
   {
    "duration": 680,
    "start_time": "2021-07-30T06:41:01.984Z"
   },
   {
    "duration": 36,
    "start_time": "2021-07-30T06:41:02.666Z"
   },
   {
    "duration": 754,
    "start_time": "2021-07-30T06:41:02.703Z"
   },
   {
    "duration": 197,
    "start_time": "2021-07-30T06:41:03.459Z"
   },
   {
    "duration": 216,
    "start_time": "2021-07-30T06:41:03.658Z"
   },
   {
    "duration": 197,
    "start_time": "2021-07-30T06:41:03.876Z"
   },
   {
    "duration": 488,
    "start_time": "2021-07-30T06:41:04.075Z"
   },
   {
    "duration": 198,
    "start_time": "2021-07-30T06:41:04.565Z"
   },
   {
    "duration": 184,
    "start_time": "2021-07-30T06:41:04.764Z"
   },
   {
    "duration": 182,
    "start_time": "2021-07-30T06:41:04.950Z"
   },
   {
    "duration": 23,
    "start_time": "2021-07-30T06:41:05.134Z"
   },
   {
    "duration": 187,
    "start_time": "2021-07-30T06:41:05.158Z"
   },
   {
    "duration": 32,
    "start_time": "2021-07-30T06:41:05.347Z"
   },
   {
    "duration": 205,
    "start_time": "2021-07-30T06:41:05.381Z"
   },
   {
    "duration": 198,
    "start_time": "2021-07-30T06:41:05.588Z"
   },
   {
    "duration": 427,
    "start_time": "2021-07-30T06:41:05.788Z"
   },
   {
    "duration": 183,
    "start_time": "2021-07-30T06:41:06.217Z"
   },
   {
    "duration": 182,
    "start_time": "2021-07-30T06:41:06.402Z"
   },
   {
    "duration": 172,
    "start_time": "2021-07-30T06:41:06.587Z"
   },
   {
    "duration": 269,
    "start_time": "2021-07-30T09:41:58.144Z"
   },
   {
    "duration": 643,
    "start_time": "2021-07-30T09:42:05.901Z"
   },
   {
    "duration": 311,
    "start_time": "2021-07-30T09:42:06.546Z"
   },
   {
    "duration": 497,
    "start_time": "2021-07-30T09:42:06.859Z"
   },
   {
    "duration": 1021,
    "start_time": "2021-07-30T09:42:07.358Z"
   },
   {
    "duration": 656,
    "start_time": "2021-07-30T09:42:08.380Z"
   },
   {
    "duration": 29,
    "start_time": "2021-07-30T09:42:09.038Z"
   },
   {
    "duration": 747,
    "start_time": "2021-07-30T09:42:09.068Z"
   },
   {
    "duration": 197,
    "start_time": "2021-07-30T09:42:09.818Z"
   },
   {
    "duration": 6121,
    "start_time": "2021-07-30T09:42:10.016Z"
   },
   {
    "duration": -153,
    "start_time": "2021-07-30T09:42:16.292Z"
   },
   {
    "duration": -167,
    "start_time": "2021-07-30T09:42:16.306Z"
   },
   {
    "duration": -184,
    "start_time": "2021-07-30T09:42:16.324Z"
   },
   {
    "duration": -210,
    "start_time": "2021-07-30T09:42:16.352Z"
   },
   {
    "duration": -241,
    "start_time": "2021-07-30T09:42:16.383Z"
   },
   {
    "duration": -253,
    "start_time": "2021-07-30T09:42:16.396Z"
   },
   {
    "duration": -276,
    "start_time": "2021-07-30T09:42:16.420Z"
   },
   {
    "duration": -306,
    "start_time": "2021-07-30T09:42:16.451Z"
   },
   {
    "duration": -337,
    "start_time": "2021-07-30T09:42:16.482Z"
   },
   {
    "duration": -346,
    "start_time": "2021-07-30T09:42:16.492Z"
   },
   {
    "duration": -374,
    "start_time": "2021-07-30T09:42:16.521Z"
   },
   {
    "duration": -399,
    "start_time": "2021-07-30T09:42:16.547Z"
   },
   {
    "duration": -410,
    "start_time": "2021-07-30T09:42:16.559Z"
   },
   {
    "duration": -436,
    "start_time": "2021-07-30T09:42:16.586Z"
   },
   {
    "duration": 5853,
    "start_time": "2021-07-30T09:42:36.424Z"
   },
   {
    "duration": 6325,
    "start_time": "2021-07-30T09:46:15.183Z"
   },
   {
    "duration": 6271,
    "start_time": "2021-07-30T09:47:05.898Z"
   },
   {
    "duration": 6048,
    "start_time": "2021-07-30T09:47:17.092Z"
   },
   {
    "duration": 234,
    "start_time": "2021-07-30T09:47:28.368Z"
   },
   {
    "duration": 5891,
    "start_time": "2021-07-30T09:47:43.019Z"
   },
   {
    "duration": 6252,
    "start_time": "2021-07-30T09:48:07.727Z"
   },
   {
    "duration": 6153,
    "start_time": "2021-07-30T09:48:18.121Z"
   },
   {
    "duration": 6036,
    "start_time": "2021-07-30T09:48:45.877Z"
   },
   {
    "duration": 7527,
    "start_time": "2021-07-30T09:49:02.533Z"
   },
   {
    "duration": 28,
    "start_time": "2021-07-30T09:49:39.024Z"
   },
   {
    "duration": 365,
    "start_time": "2021-07-30T09:52:57.715Z"
   },
   {
    "duration": 405,
    "start_time": "2021-07-30T09:53:08.558Z"
   },
   {
    "duration": 271,
    "start_time": "2021-07-30T09:53:52.458Z"
   },
   {
    "duration": 248,
    "start_time": "2021-07-30T09:54:09.173Z"
   },
   {
    "duration": 263,
    "start_time": "2021-07-30T09:54:22.602Z"
   },
   {
    "duration": 1012,
    "start_time": "2021-07-30T09:54:35.106Z"
   },
   {
    "duration": 263,
    "start_time": "2021-07-30T09:54:46.866Z"
   },
   {
    "duration": 221,
    "start_time": "2021-07-30T09:57:17.072Z"
   },
   {
    "duration": 81,
    "start_time": "2021-07-30T10:06:24.671Z"
   },
   {
    "duration": 242,
    "start_time": "2021-07-30T10:06:32.560Z"
   },
   {
    "duration": 243,
    "start_time": "2021-07-30T10:07:15.527Z"
   },
   {
    "duration": 249,
    "start_time": "2021-07-30T10:07:21.412Z"
   },
   {
    "duration": 84,
    "start_time": "2021-07-30T10:07:29.915Z"
   },
   {
    "duration": 247,
    "start_time": "2021-07-30T10:07:34.399Z"
   },
   {
    "duration": 252,
    "start_time": "2021-07-30T10:08:00.215Z"
   },
   {
    "duration": 243,
    "start_time": "2021-07-30T10:08:10.710Z"
   },
   {
    "duration": 239,
    "start_time": "2021-07-30T10:15:06.834Z"
   },
   {
    "duration": 670,
    "start_time": "2021-07-30T10:15:27.159Z"
   },
   {
    "duration": 316,
    "start_time": "2021-07-30T10:15:27.831Z"
   },
   {
    "duration": 492,
    "start_time": "2021-07-30T10:15:28.149Z"
   },
   {
    "duration": 1048,
    "start_time": "2021-07-30T10:15:28.643Z"
   },
   {
    "duration": 684,
    "start_time": "2021-07-30T10:15:29.693Z"
   },
   {
    "duration": 38,
    "start_time": "2021-07-30T10:15:30.379Z"
   },
   {
    "duration": 775,
    "start_time": "2021-07-30T10:15:30.419Z"
   },
   {
    "duration": 203,
    "start_time": "2021-07-30T10:15:31.196Z"
   },
   {
    "duration": 293,
    "start_time": "2021-07-30T10:15:31.401Z"
   },
   {
    "duration": -255,
    "start_time": "2021-07-30T10:15:31.950Z"
   },
   {
    "duration": -261,
    "start_time": "2021-07-30T10:15:31.957Z"
   },
   {
    "duration": -267,
    "start_time": "2021-07-30T10:15:31.964Z"
   },
   {
    "duration": -273,
    "start_time": "2021-07-30T10:15:31.971Z"
   },
   {
    "duration": -280,
    "start_time": "2021-07-30T10:15:31.979Z"
   },
   {
    "duration": -286,
    "start_time": "2021-07-30T10:15:31.986Z"
   },
   {
    "duration": -292,
    "start_time": "2021-07-30T10:15:31.992Z"
   },
   {
    "duration": -298,
    "start_time": "2021-07-30T10:15:31.999Z"
   },
   {
    "duration": -304,
    "start_time": "2021-07-30T10:15:32.006Z"
   },
   {
    "duration": -310,
    "start_time": "2021-07-30T10:15:32.013Z"
   },
   {
    "duration": -315,
    "start_time": "2021-07-30T10:15:32.019Z"
   },
   {
    "duration": -319,
    "start_time": "2021-07-30T10:15:32.024Z"
   },
   {
    "duration": -324,
    "start_time": "2021-07-30T10:15:32.030Z"
   },
   {
    "duration": -328,
    "start_time": "2021-07-30T10:15:32.035Z"
   },
   {
    "duration": 258,
    "start_time": "2021-07-30T10:15:52.684Z"
   },
   {
    "duration": 241,
    "start_time": "2021-07-30T10:15:57.164Z"
   },
   {
    "duration": 253,
    "start_time": "2021-07-30T10:16:03.577Z"
   },
   {
    "duration": 249,
    "start_time": "2021-07-30T10:19:01.399Z"
   },
   {
    "duration": 255,
    "start_time": "2021-07-30T10:20:46.984Z"
   },
   {
    "duration": 208,
    "start_time": "2021-07-30T10:20:59.185Z"
   },
   {
    "duration": 5995,
    "start_time": "2021-07-30T10:21:13.667Z"
   },
   {
    "duration": 261,
    "start_time": "2021-07-30T10:24:05.943Z"
   },
   {
    "duration": 6041,
    "start_time": "2021-07-30T10:24:25.463Z"
   },
   {
    "duration": 219,
    "start_time": "2021-07-30T10:24:33.295Z"
   },
   {
    "duration": 315,
    "start_time": "2021-07-30T10:24:42.330Z"
   },
   {
    "duration": 217,
    "start_time": "2021-07-30T10:24:54.405Z"
   },
   {
    "duration": 6151,
    "start_time": "2021-07-30T10:25:35.298Z"
   },
   {
    "duration": 250,
    "start_time": "2021-07-30T10:26:00.911Z"
   },
   {
    "duration": 198,
    "start_time": "2021-07-30T10:26:06.153Z"
   },
   {
    "duration": 498,
    "start_time": "2021-07-30T10:26:16.710Z"
   },
   {
    "duration": 260,
    "start_time": "2021-07-30T10:26:32.972Z"
   },
   {
    "duration": 178,
    "start_time": "2021-07-30T10:26:39.083Z"
   },
   {
    "duration": 178,
    "start_time": "2021-07-30T10:26:45.837Z"
   },
   {
    "duration": 24,
    "start_time": "2021-07-30T10:26:49.633Z"
   },
   {
    "duration": 24,
    "start_time": "2021-07-30T10:26:49.764Z"
   },
   {
    "duration": 169,
    "start_time": "2021-07-30T10:26:55.746Z"
   },
   {
    "duration": 242,
    "start_time": "2021-07-30T10:27:32.941Z"
   },
   {
    "duration": 36,
    "start_time": "2021-07-30T10:27:43.598Z"
   },
   {
    "duration": 204,
    "start_time": "2021-07-30T10:27:46.698Z"
   },
   {
    "duration": 324,
    "start_time": "2021-07-30T10:28:00.717Z"
   },
   {
    "duration": 180,
    "start_time": "2021-07-30T10:28:16.315Z"
   },
   {
    "duration": 350,
    "start_time": "2021-07-30T10:28:23.459Z"
   },
   {
    "duration": 294,
    "start_time": "2021-07-30T10:28:49.131Z"
   },
   {
    "duration": 96,
    "start_time": "2021-07-30T10:29:04.975Z"
   },
   {
    "duration": 331,
    "start_time": "2021-07-30T10:29:11.887Z"
   },
   {
    "duration": 7164,
    "start_time": "2021-07-30T10:29:20.258Z"
   },
   {
    "duration": 282,
    "start_time": "2021-07-30T10:29:40.823Z"
   },
   {
    "duration": 200,
    "start_time": "2021-07-30T10:29:46.403Z"
   },
   {
    "duration": 744,
    "start_time": "2021-07-30T10:40:16.873Z"
   },
   {
    "duration": 668,
    "start_time": "2021-07-30T10:40:31.592Z"
   },
   {
    "duration": 769,
    "start_time": "2021-07-30T10:40:40.267Z"
   },
   {
    "duration": 708,
    "start_time": "2021-07-30T10:40:53.283Z"
   },
   {
    "duration": 1008,
    "start_time": "2021-07-30T10:41:46.333Z"
   },
   {
    "duration": 388,
    "start_time": "2021-07-30T10:44:19.422Z"
   },
   {
    "duration": 830,
    "start_time": "2021-07-30T10:44:42.491Z"
   },
   {
    "duration": 418,
    "start_time": "2021-07-30T10:45:00.935Z"
   },
   {
    "duration": 1387,
    "start_time": "2021-07-30T10:45:08.826Z"
   },
   {
    "duration": 710,
    "start_time": "2021-07-30T10:45:41.791Z"
   },
   {
    "duration": 395,
    "start_time": "2021-07-30T10:45:57.334Z"
   },
   {
    "duration": 686,
    "start_time": "2021-07-30T10:46:11.620Z"
   },
   {
    "duration": 710,
    "start_time": "2021-07-30T10:46:41.600Z"
   },
   {
    "duration": 869,
    "start_time": "2021-07-30T10:46:51.467Z"
   },
   {
    "duration": 858,
    "start_time": "2021-07-30T10:47:15.586Z"
   },
   {
    "duration": 756,
    "start_time": "2021-07-30T10:47:25.413Z"
   },
   {
    "duration": 749,
    "start_time": "2021-07-30T10:47:30.508Z"
   },
   {
    "duration": 768,
    "start_time": "2021-07-30T10:47:39.739Z"
   },
   {
    "duration": 658,
    "start_time": "2021-07-30T10:47:58.576Z"
   },
   {
    "duration": 679,
    "start_time": "2021-07-30T10:48:09.454Z"
   },
   {
    "duration": 662,
    "start_time": "2021-07-30T10:48:16.408Z"
   },
   {
    "duration": 1047,
    "start_time": "2021-07-30T10:48:25.535Z"
   },
   {
    "duration": 869,
    "start_time": "2021-07-30T10:48:35.683Z"
   },
   {
    "duration": 662,
    "start_time": "2021-07-30T10:48:46.810Z"
   },
   {
    "duration": 755,
    "start_time": "2021-07-30T10:49:19.960Z"
   },
   {
    "duration": 659,
    "start_time": "2021-07-30T10:51:04.335Z"
   },
   {
    "duration": 672,
    "start_time": "2021-07-30T10:51:22.832Z"
   },
   {
    "duration": 663,
    "start_time": "2021-07-30T10:52:02.419Z"
   },
   {
    "duration": 783,
    "start_time": "2021-07-30T10:52:29.737Z"
   },
   {
    "duration": 763,
    "start_time": "2021-07-30T10:52:55.328Z"
   },
   {
    "duration": 784,
    "start_time": "2021-07-30T10:53:13.155Z"
   },
   {
    "duration": 77,
    "start_time": "2021-07-30T10:53:36.925Z"
   },
   {
    "duration": 754,
    "start_time": "2021-07-30T10:53:41.605Z"
   },
   {
    "duration": 31,
    "start_time": "2021-07-30T10:53:49.452Z"
   },
   {
    "duration": 651,
    "start_time": "2021-07-30T10:54:08.772Z"
   },
   {
    "duration": 661,
    "start_time": "2021-07-30T10:54:22.401Z"
   },
   {
    "duration": 734,
    "start_time": "2021-07-30T10:54:37.440Z"
   },
   {
    "duration": 664,
    "start_time": "2021-07-30T10:54:49.641Z"
   },
   {
    "duration": 193,
    "start_time": "2021-07-30T10:55:55.461Z"
   },
   {
    "duration": 209,
    "start_time": "2021-07-30T10:56:09.019Z"
   },
   {
    "duration": 438,
    "start_time": "2021-07-30T10:56:55.200Z"
   },
   {
    "duration": 1918,
    "start_time": "2021-07-30T10:57:04.573Z"
   },
   {
    "duration": 2017,
    "start_time": "2021-07-30T10:57:16.422Z"
   },
   {
    "duration": 206,
    "start_time": "2021-07-30T10:59:33.804Z"
   },
   {
    "duration": 217,
    "start_time": "2021-07-30T10:59:39.108Z"
   },
   {
    "duration": 210,
    "start_time": "2021-07-30T10:59:54.910Z"
   },
   {
    "duration": 246,
    "start_time": "2021-07-30T11:00:11.649Z"
   },
   {
    "duration": 211,
    "start_time": "2021-07-30T11:01:47.498Z"
   },
   {
    "duration": 211,
    "start_time": "2021-07-30T11:02:27.854Z"
   },
   {
    "duration": 189,
    "start_time": "2021-07-30T11:02:39.548Z"
   },
   {
    "duration": 372,
    "start_time": "2021-07-30T11:07:50.409Z"
   },
   {
    "duration": 288,
    "start_time": "2021-07-30T11:08:20.569Z"
   },
   {
    "duration": 188,
    "start_time": "2021-07-30T11:09:32.531Z"
   },
   {
    "duration": -104,
    "start_time": "2021-07-30T11:14:00.328Z"
   },
   {
    "duration": 615,
    "start_time": "2021-07-30T11:14:28.232Z"
   },
   {
    "duration": 637,
    "start_time": "2021-07-30T11:15:54.608Z"
   },
   {
    "duration": 280,
    "start_time": "2021-07-30T11:16:21.873Z"
   },
   {
    "duration": 321,
    "start_time": "2021-07-30T11:16:51.896Z"
   },
   {
    "duration": 313,
    "start_time": "2021-07-30T11:17:17.640Z"
   },
   {
    "duration": 309,
    "start_time": "2021-07-30T11:18:02.182Z"
   },
   {
    "duration": 307,
    "start_time": "2021-07-30T11:18:31.087Z"
   },
   {
    "duration": 62,
    "start_time": "2021-07-30T11:19:34.415Z"
   },
   {
    "duration": 335,
    "start_time": "2021-07-30T11:19:36.924Z"
   },
   {
    "duration": 318,
    "start_time": "2021-07-30T11:20:05.926Z"
   },
   {
    "duration": 62,
    "start_time": "2021-07-30T11:21:53.093Z"
   },
   {
    "duration": 86,
    "start_time": "2021-07-30T11:21:55.121Z"
   },
   {
    "duration": 92,
    "start_time": "2021-07-30T11:22:14.854Z"
   },
   {
    "duration": 60,
    "start_time": "2021-07-30T11:22:27.151Z"
   },
   {
    "duration": 668,
    "start_time": "2021-07-30T11:22:33.759Z"
   },
   {
    "duration": 85,
    "start_time": "2021-07-30T11:22:34.429Z"
   },
   {
    "duration": -60,
    "start_time": "2021-07-30T11:22:34.577Z"
   },
   {
    "duration": -67,
    "start_time": "2021-07-30T11:22:34.584Z"
   },
   {
    "duration": -126,
    "start_time": "2021-07-30T11:22:34.644Z"
   },
   {
    "duration": -163,
    "start_time": "2021-07-30T11:22:34.682Z"
   },
   {
    "duration": -190,
    "start_time": "2021-07-30T11:22:34.711Z"
   },
   {
    "duration": -199,
    "start_time": "2021-07-30T11:22:34.721Z"
   },
   {
    "duration": -229,
    "start_time": "2021-07-30T11:22:34.752Z"
   },
   {
    "duration": -570,
    "start_time": "2021-07-30T11:22:35.094Z"
   },
   {
    "duration": -758,
    "start_time": "2021-07-30T11:22:35.283Z"
   },
   {
    "duration": -789,
    "start_time": "2021-07-30T11:22:35.315Z"
   },
   {
    "duration": -815,
    "start_time": "2021-07-30T11:22:35.343Z"
   },
   {
    "duration": -825,
    "start_time": "2021-07-30T11:22:35.354Z"
   },
   {
    "duration": -854,
    "start_time": "2021-07-30T11:22:35.384Z"
   },
   {
    "duration": -884,
    "start_time": "2021-07-30T11:22:35.415Z"
   },
   {
    "duration": -915,
    "start_time": "2021-07-30T11:22:35.447Z"
   },
   {
    "duration": -944,
    "start_time": "2021-07-30T11:22:35.477Z"
   },
   {
    "duration": -953,
    "start_time": "2021-07-30T11:22:35.487Z"
   },
   {
    "duration": -975,
    "start_time": "2021-07-30T11:22:35.511Z"
   },
   {
    "duration": -986,
    "start_time": "2021-07-30T11:22:35.522Z"
   },
   {
    "duration": -1010,
    "start_time": "2021-07-30T11:22:35.548Z"
   },
   {
    "duration": -1036,
    "start_time": "2021-07-30T11:22:35.575Z"
   },
   {
    "duration": 415,
    "start_time": "2021-07-30T11:23:08.557Z"
   },
   {
    "duration": 342,
    "start_time": "2021-07-30T11:23:23.003Z"
   },
   {
    "duration": 492,
    "start_time": "2021-07-30T11:23:32.039Z"
   },
   {
    "duration": 1016,
    "start_time": "2021-07-30T11:23:35.298Z"
   },
   {
    "duration": 619,
    "start_time": "2021-07-30T11:23:46.199Z"
   },
   {
    "duration": 405,
    "start_time": "2021-07-30T11:23:46.820Z"
   },
   {
    "duration": 491,
    "start_time": "2021-07-30T11:23:47.227Z"
   },
   {
    "duration": 1008,
    "start_time": "2021-07-30T11:23:47.720Z"
   },
   {
    "duration": 654,
    "start_time": "2021-07-30T11:23:48.730Z"
   },
   {
    "duration": 29,
    "start_time": "2021-07-30T11:23:49.386Z"
   },
   {
    "duration": 745,
    "start_time": "2021-07-30T11:23:49.416Z"
   },
   {
    "duration": 192,
    "start_time": "2021-07-30T11:23:50.163Z"
   },
   {
    "duration": 200,
    "start_time": "2021-07-30T11:23:50.358Z"
   },
   {
    "duration": 194,
    "start_time": "2021-07-30T11:23:50.560Z"
   },
   {
    "duration": 477,
    "start_time": "2021-07-30T11:23:50.755Z"
   },
   {
    "duration": 175,
    "start_time": "2021-07-30T11:23:51.234Z"
   },
   {
    "duration": 183,
    "start_time": "2021-07-30T11:23:51.411Z"
   },
   {
    "duration": 181,
    "start_time": "2021-07-30T11:23:51.596Z"
   },
   {
    "duration": 28,
    "start_time": "2021-07-30T11:23:51.778Z"
   },
   {
    "duration": 184,
    "start_time": "2021-07-30T11:23:51.807Z"
   },
   {
    "duration": 34,
    "start_time": "2021-07-30T11:23:51.993Z"
   },
   {
    "duration": 201,
    "start_time": "2021-07-30T11:23:52.028Z"
   },
   {
    "duration": 205,
    "start_time": "2021-07-30T11:23:52.231Z"
   },
   {
    "duration": 404,
    "start_time": "2021-07-30T11:23:52.438Z"
   },
   {
    "duration": 179,
    "start_time": "2021-07-30T11:23:52.844Z"
   },
   {
    "duration": 196,
    "start_time": "2021-07-30T11:23:53.024Z"
   },
   {
    "duration": 175,
    "start_time": "2021-07-30T11:23:53.223Z"
   },
   {
    "duration": 118,
    "start_time": "2021-07-30T11:25:33.249Z"
   },
   {
    "duration": 74,
    "start_time": "2021-07-30T11:25:45.293Z"
   },
   {
    "duration": 97,
    "start_time": "2021-07-30T11:25:55.813Z"
   },
   {
    "duration": 5794,
    "start_time": "2021-07-30T11:26:04.872Z"
   },
   {
    "duration": 186,
    "start_time": "2021-07-30T11:26:22.771Z"
   },
   {
    "duration": 159,
    "start_time": "2021-07-30T11:26:46.423Z"
   },
   {
    "duration": 172,
    "start_time": "2021-07-30T11:31:19.512Z"
   },
   {
    "duration": 185,
    "start_time": "2021-07-30T11:31:50.516Z"
   },
   {
    "duration": 5870,
    "start_time": "2021-07-30T11:32:08.615Z"
   },
   {
    "duration": 9488,
    "start_time": "2021-07-30T11:32:20.991Z"
   },
   {
    "duration": 1623,
    "start_time": "2021-07-30T11:32:46.491Z"
   },
   {
    "duration": 1338,
    "start_time": "2021-07-30T11:33:00.957Z"
   },
   {
    "duration": 144,
    "start_time": "2021-07-30T11:33:08.501Z"
   },
   {
    "duration": 146,
    "start_time": "2021-07-30T11:33:18.871Z"
   },
   {
    "duration": 181,
    "start_time": "2021-07-30T11:33:26.487Z"
   },
   {
    "duration": 757,
    "start_time": "2021-07-30T11:33:36.968Z"
   },
   {
    "duration": -44,
    "start_time": "2021-07-30T11:34:09.380Z"
   },
   {
    "duration": 177,
    "start_time": "2021-07-30T11:34:10.018Z"
   },
   {
    "duration": 134,
    "start_time": "2021-07-30T11:34:57.337Z"
   },
   {
    "duration": 446,
    "start_time": "2021-07-30T11:35:00.022Z"
   },
   {
    "duration": 157,
    "start_time": "2021-07-30T11:35:15.058Z"
   },
   {
    "duration": 150,
    "start_time": "2021-07-30T11:35:25.488Z"
   },
   {
    "duration": 119,
    "start_time": "2021-07-30T11:35:51.254Z"
   },
   {
    "duration": 179,
    "start_time": "2021-07-30T11:35:55.512Z"
   },
   {
    "duration": 165,
    "start_time": "2021-07-30T11:36:24.585Z"
   },
   {
    "duration": 147,
    "start_time": "2021-07-30T11:36:38.254Z"
   }
  ],
  "kernelspec": {
   "display_name": "Python 3",
   "language": "python",
   "name": "python3"
  },
  "language_info": {
   "codemirror_mode": {
    "name": "ipython",
    "version": 3
   },
   "file_extension": ".py",
   "mimetype": "text/x-python",
   "name": "python",
   "nbconvert_exporter": "python",
   "pygments_lexer": "ipython3",
   "version": "3.7.8"
  },
  "toc": {
   "base_numbering": 1,
   "nav_menu": {},
   "number_sections": true,
   "sideBar": true,
   "skip_h1_title": true,
   "title_cell": "Содержание",
   "title_sidebar": "Contents",
   "toc_cell": true,
   "toc_position": {
    "height": "calc(100% - 180px)",
    "left": "10px",
    "top": "150px",
    "width": "270.391px"
   },
   "toc_section_display": true,
   "toc_window_display": false
  }
 },
 "nbformat": 4,
 "nbformat_minor": 2
}
