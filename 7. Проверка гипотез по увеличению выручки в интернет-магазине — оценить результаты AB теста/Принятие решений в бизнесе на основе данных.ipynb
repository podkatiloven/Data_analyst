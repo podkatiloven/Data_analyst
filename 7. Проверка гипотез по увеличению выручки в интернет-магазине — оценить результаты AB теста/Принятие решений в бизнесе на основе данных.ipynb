{
 "cells": [
  {
   "cell_type": "markdown",
   "metadata": {},
   "source": [
    "<br>**Описание проекта**\n",
    "<br>**Контекст**\n",
    "<br>Вы — аналитик крупного интернет-магазина. Вместе с отделом маркетинга вы подготовили список гипотез для увеличения выручки.\n",
    "Приоритизируйте гипотезы, запустите A/B-тест и проанализируйте результаты."
   ]
  },
  {
   "cell_type": "markdown",
   "metadata": {},
   "source": [
    "<br>**Часть 1. Приоритизация гипотез.**\n",
    "<br>В файле /datasets/hypothesis.csv 9 гипотез по увеличению выручки интернет-магазина с указанными параметрами Reach, Impact, Confidence, Effort.\n",
    "- Примените фреймворк ICE для приоритизации гипотез. Отсортируйте их по убыванию приоритета.\n",
    "- Примените фреймворк RICE для приоритизации гипотез. Отсортируйте их по убыванию приоритета.\n",
    "- Укажите, как изменилась приоритизация гипотез при применении RICE вместо ICE. Объясните, почему так произошло.\n",
    "\n",
    "<br>**Часть 2. Анализ A/B-теста.**  \n",
    "- Вы провели A/B-тест и получили результаты, которые описаны в файлах /datasets/orders.csv и /datasets/visitors.csv.\n",
    "\n",
    "<br>**Проанализируйте A/B-тест:**  \n",
    "- Постройте график кумулятивной выручки по группам. Сделайте выводы и предположения.\n",
    "- Постройте график кумулятивного среднего чека по группам. Сделайте выводы и предположения.\n",
    "- Постройте график относительного изменения кумулятивного среднего чека группы B к группе A. Сделайте выводы и предположения.\n",
    "- Постройте график кумулятивной конверсии по группам. Сделайте выводы и предположения.\n",
    "- Постройте график относительного изменения кумулятивной конверсии группы B к группе A. Сделайте выводы и предположения.\n",
    "- Постройте точечный график количества заказов по пользователям. Сделайте выводы и предположения.\n",
    "- Посчитайте 95-й и 99-й перцентили количества заказов на пользователя. Выберите границу для определения аномальных пользователей.\n",
    "- Постройте точечный график стоимостей заказов. Сделайте выводы и предположения.\n",
    "- Посчитайте 95-й и 99-й перцентили стоимости заказов. Выберите границу для определения аномальных заказов.\n",
    "- Посчитайте статистическую значимость различий в конверсии между группами по «сырым» данным. Сделайте выводы и предположения.\n",
    "- Посчитайте статистическую значимость различий в среднем чеке заказа между группами по «сырым» данным. Сделайте выводы и предположения.\n",
    "- Посчитайте статистическую значимость различий в конверсии между группами по «очищенным» данным. Сделайте выводы и предположения.\n",
    "- Посчитайте статистическую значимость различий в среднем чеке заказа между группами по «очищенным» данным. Сделайте выводы и предположения.\n",
    "- Примите решение по результатам теста и объясните его. Варианты решений: \n",
    "<br>1. Остановить тест, зафиксировать победу одной из групп. \n",
    "<br>2. Остановить тест, зафиксировать отсутствие различий между группами. <br>3. Продолжить тест."
   ]
  },
  {
   "cell_type": "markdown",
   "metadata": {},
   "source": [
    "**Загрузка библиотек**"
   ]
  },
  {
   "cell_type": "code",
   "execution_count": 1,
   "metadata": {},
   "outputs": [],
   "source": [
    "import pandas as pd\n",
    "import numpy as np\n",
    "import scipy.stats as stats\n",
    "import seaborn as sns\n",
    "import matplotlib.pyplot as plt\n",
    "from collections import defaultdict\n",
    "import datetime as dt\n",
    "from plotly.offline import download_plotlyjs, init_notebook_mode, plot, iplot\n",
    "import plotly.graph_objs as go"
   ]
  },
  {
   "cell_type": "markdown",
   "metadata": {},
   "source": [
    "**Создаем датафрейм**"
   ]
  },
  {
   "cell_type": "code",
   "execution_count": 2,
   "metadata": {},
   "outputs": [
    {
     "data": {
      "text/html": [
       "<div>\n",
       "<style scoped>\n",
       "    .dataframe tbody tr th:only-of-type {\n",
       "        vertical-align: middle;\n",
       "    }\n",
       "\n",
       "    .dataframe tbody tr th {\n",
       "        vertical-align: top;\n",
       "    }\n",
       "\n",
       "    .dataframe thead th {\n",
       "        text-align: right;\n",
       "    }\n",
       "</style>\n",
       "<table border=\"1\" class=\"dataframe\">\n",
       "  <thead>\n",
       "    <tr style=\"text-align: right;\">\n",
       "      <th></th>\n",
       "      <th>hypothesis</th>\n",
       "      <th>reach</th>\n",
       "      <th>impact</th>\n",
       "      <th>confidence</th>\n",
       "      <th>efforts</th>\n",
       "    </tr>\n",
       "  </thead>\n",
       "  <tbody>\n",
       "    <tr>\n",
       "      <td>0</td>\n",
       "      <td>Добавить два новых канала привлечения трафика,...</td>\n",
       "      <td>3</td>\n",
       "      <td>10</td>\n",
       "      <td>8</td>\n",
       "      <td>6</td>\n",
       "    </tr>\n",
       "    <tr>\n",
       "      <td>1</td>\n",
       "      <td>Запустить собственную службу доставки, что сок...</td>\n",
       "      <td>2</td>\n",
       "      <td>5</td>\n",
       "      <td>4</td>\n",
       "      <td>10</td>\n",
       "    </tr>\n",
       "    <tr>\n",
       "      <td>2</td>\n",
       "      <td>Добавить блоки рекомендаций товаров на сайт ин...</td>\n",
       "      <td>8</td>\n",
       "      <td>3</td>\n",
       "      <td>7</td>\n",
       "      <td>3</td>\n",
       "    </tr>\n",
       "    <tr>\n",
       "      <td>3</td>\n",
       "      <td>Изменить структура категорий, что увеличит кон...</td>\n",
       "      <td>8</td>\n",
       "      <td>3</td>\n",
       "      <td>3</td>\n",
       "      <td>8</td>\n",
       "    </tr>\n",
       "    <tr>\n",
       "      <td>4</td>\n",
       "      <td>Изменить цвет фона главной страницы, чтобы уве...</td>\n",
       "      <td>3</td>\n",
       "      <td>1</td>\n",
       "      <td>1</td>\n",
       "      <td>1</td>\n",
       "    </tr>\n",
       "    <tr>\n",
       "      <td>5</td>\n",
       "      <td>Добавить страницу отзывов клиентов о магазине,...</td>\n",
       "      <td>3</td>\n",
       "      <td>2</td>\n",
       "      <td>2</td>\n",
       "      <td>3</td>\n",
       "    </tr>\n",
       "    <tr>\n",
       "      <td>6</td>\n",
       "      <td>Показать на главной странице баннеры с актуаль...</td>\n",
       "      <td>5</td>\n",
       "      <td>3</td>\n",
       "      <td>8</td>\n",
       "      <td>3</td>\n",
       "    </tr>\n",
       "    <tr>\n",
       "      <td>7</td>\n",
       "      <td>Добавить форму подписки на все основные страни...</td>\n",
       "      <td>10</td>\n",
       "      <td>7</td>\n",
       "      <td>8</td>\n",
       "      <td>5</td>\n",
       "    </tr>\n",
       "    <tr>\n",
       "      <td>8</td>\n",
       "      <td>Запустить акцию, дающую скидку на товар в день...</td>\n",
       "      <td>1</td>\n",
       "      <td>9</td>\n",
       "      <td>9</td>\n",
       "      <td>5</td>\n",
       "    </tr>\n",
       "  </tbody>\n",
       "</table>\n",
       "</div>"
      ],
      "text/plain": [
       "                                          hypothesis  reach  impact  \\\n",
       "0  Добавить два новых канала привлечения трафика,...      3      10   \n",
       "1  Запустить собственную службу доставки, что сок...      2       5   \n",
       "2  Добавить блоки рекомендаций товаров на сайт ин...      8       3   \n",
       "3  Изменить структура категорий, что увеличит кон...      8       3   \n",
       "4  Изменить цвет фона главной страницы, чтобы уве...      3       1   \n",
       "5  Добавить страницу отзывов клиентов о магазине,...      3       2   \n",
       "6  Показать на главной странице баннеры с актуаль...      5       3   \n",
       "7  Добавить форму подписки на все основные страни...     10       7   \n",
       "8  Запустить акцию, дающую скидку на товар в день...      1       9   \n",
       "\n",
       "   confidence  efforts  \n",
       "0           8        6  \n",
       "1           4       10  \n",
       "2           7        3  \n",
       "3           3        8  \n",
       "4           1        1  \n",
       "5           2        3  \n",
       "6           8        3  \n",
       "7           8        5  \n",
       "8           9        5  "
      ]
     },
     "execution_count": 2,
     "metadata": {},
     "output_type": "execute_result"
    }
   ],
   "source": [
    "hypothesis = pd.read_csv('/datasets/hypothesis.csv')\n",
    "hypothesis.columns = ['hypothesis', 'reach', 'impact', 'confidence', 'efforts']\n",
    "hypothesis"
   ]
  },
  {
   "cell_type": "markdown",
   "metadata": {},
   "source": [
    "## Приоритизация гипотез."
   ]
  },
  {
   "cell_type": "markdown",
   "metadata": {},
   "source": [
    "### Примените фреймворк ICE для приоритизации гипотез. Отсортируйте их по убыванию приоритета."
   ]
  },
  {
   "cell_type": "code",
   "execution_count": 3,
   "metadata": {},
   "outputs": [
    {
     "data": {
      "text/html": [
       "<div>\n",
       "<style scoped>\n",
       "    .dataframe tbody tr th:only-of-type {\n",
       "        vertical-align: middle;\n",
       "    }\n",
       "\n",
       "    .dataframe tbody tr th {\n",
       "        vertical-align: top;\n",
       "    }\n",
       "\n",
       "    .dataframe thead th {\n",
       "        text-align: right;\n",
       "    }\n",
       "</style>\n",
       "<table border=\"1\" class=\"dataframe\">\n",
       "  <thead>\n",
       "    <tr style=\"text-align: right;\">\n",
       "      <th></th>\n",
       "      <th>hypothesis</th>\n",
       "      <th>ICE</th>\n",
       "    </tr>\n",
       "  </thead>\n",
       "  <tbody>\n",
       "    <tr>\n",
       "      <td>8</td>\n",
       "      <td>Запустить акцию, дающую скидку на товар в день...</td>\n",
       "      <td>16.200000</td>\n",
       "    </tr>\n",
       "    <tr>\n",
       "      <td>0</td>\n",
       "      <td>Добавить два новых канала привлечения трафика,...</td>\n",
       "      <td>13.333333</td>\n",
       "    </tr>\n",
       "    <tr>\n",
       "      <td>7</td>\n",
       "      <td>Добавить форму подписки на все основные страни...</td>\n",
       "      <td>11.200000</td>\n",
       "    </tr>\n",
       "    <tr>\n",
       "      <td>6</td>\n",
       "      <td>Показать на главной странице баннеры с актуаль...</td>\n",
       "      <td>8.000000</td>\n",
       "    </tr>\n",
       "    <tr>\n",
       "      <td>2</td>\n",
       "      <td>Добавить блоки рекомендаций товаров на сайт ин...</td>\n",
       "      <td>7.000000</td>\n",
       "    </tr>\n",
       "    <tr>\n",
       "      <td>1</td>\n",
       "      <td>Запустить собственную службу доставки, что сок...</td>\n",
       "      <td>2.000000</td>\n",
       "    </tr>\n",
       "    <tr>\n",
       "      <td>5</td>\n",
       "      <td>Добавить страницу отзывов клиентов о магазине,...</td>\n",
       "      <td>1.333333</td>\n",
       "    </tr>\n",
       "    <tr>\n",
       "      <td>3</td>\n",
       "      <td>Изменить структура категорий, что увеличит кон...</td>\n",
       "      <td>1.125000</td>\n",
       "    </tr>\n",
       "    <tr>\n",
       "      <td>4</td>\n",
       "      <td>Изменить цвет фона главной страницы, чтобы уве...</td>\n",
       "      <td>1.000000</td>\n",
       "    </tr>\n",
       "  </tbody>\n",
       "</table>\n",
       "</div>"
      ],
      "text/plain": [
       "                                          hypothesis        ICE\n",
       "8  Запустить акцию, дающую скидку на товар в день...  16.200000\n",
       "0  Добавить два новых канала привлечения трафика,...  13.333333\n",
       "7  Добавить форму подписки на все основные страни...  11.200000\n",
       "6  Показать на главной странице баннеры с актуаль...   8.000000\n",
       "2  Добавить блоки рекомендаций товаров на сайт ин...   7.000000\n",
       "1  Запустить собственную службу доставки, что сок...   2.000000\n",
       "5  Добавить страницу отзывов клиентов о магазине,...   1.333333\n",
       "3  Изменить структура категорий, что увеличит кон...   1.125000\n",
       "4  Изменить цвет фона главной страницы, чтобы уве...   1.000000"
      ]
     },
     "execution_count": 3,
     "metadata": {},
     "output_type": "execute_result"
    }
   ],
   "source": [
    "hypothesis['ICE']=(hypothesis['impact']*hypothesis['confidence'])/hypothesis['efforts']\n",
    "hypothesis[['hypothesis','ICE']].sort_values(by='ICE', ascending=False)"
   ]
  },
  {
   "cell_type": "markdown",
   "metadata": {},
   "source": [
    "Приоритетной гипотезой по фреймвору ICE является гипотза под номером 8"
   ]
  },
  {
   "cell_type": "markdown",
   "metadata": {},
   "source": [
    "### Примените фреймворк RICE для приоритизации гипотез. Отсортируйте их по убыванию приоритета."
   ]
  },
  {
   "cell_type": "code",
   "execution_count": 4,
   "metadata": {},
   "outputs": [
    {
     "data": {
      "text/html": [
       "<div>\n",
       "<style scoped>\n",
       "    .dataframe tbody tr th:only-of-type {\n",
       "        vertical-align: middle;\n",
       "    }\n",
       "\n",
       "    .dataframe tbody tr th {\n",
       "        vertical-align: top;\n",
       "    }\n",
       "\n",
       "    .dataframe thead th {\n",
       "        text-align: right;\n",
       "    }\n",
       "</style>\n",
       "<table border=\"1\" class=\"dataframe\">\n",
       "  <thead>\n",
       "    <tr style=\"text-align: right;\">\n",
       "      <th></th>\n",
       "      <th>hypothesis</th>\n",
       "      <th>RICE</th>\n",
       "    </tr>\n",
       "  </thead>\n",
       "  <tbody>\n",
       "    <tr>\n",
       "      <td>7</td>\n",
       "      <td>Добавить форму подписки на все основные страни...</td>\n",
       "      <td>112.0</td>\n",
       "    </tr>\n",
       "    <tr>\n",
       "      <td>2</td>\n",
       "      <td>Добавить блоки рекомендаций товаров на сайт ин...</td>\n",
       "      <td>56.0</td>\n",
       "    </tr>\n",
       "    <tr>\n",
       "      <td>0</td>\n",
       "      <td>Добавить два новых канала привлечения трафика,...</td>\n",
       "      <td>40.0</td>\n",
       "    </tr>\n",
       "    <tr>\n",
       "      <td>6</td>\n",
       "      <td>Показать на главной странице баннеры с актуаль...</td>\n",
       "      <td>40.0</td>\n",
       "    </tr>\n",
       "    <tr>\n",
       "      <td>8</td>\n",
       "      <td>Запустить акцию, дающую скидку на товар в день...</td>\n",
       "      <td>16.2</td>\n",
       "    </tr>\n",
       "    <tr>\n",
       "      <td>3</td>\n",
       "      <td>Изменить структура категорий, что увеличит кон...</td>\n",
       "      <td>9.0</td>\n",
       "    </tr>\n",
       "    <tr>\n",
       "      <td>1</td>\n",
       "      <td>Запустить собственную службу доставки, что сок...</td>\n",
       "      <td>4.0</td>\n",
       "    </tr>\n",
       "    <tr>\n",
       "      <td>5</td>\n",
       "      <td>Добавить страницу отзывов клиентов о магазине,...</td>\n",
       "      <td>4.0</td>\n",
       "    </tr>\n",
       "    <tr>\n",
       "      <td>4</td>\n",
       "      <td>Изменить цвет фона главной страницы, чтобы уве...</td>\n",
       "      <td>3.0</td>\n",
       "    </tr>\n",
       "  </tbody>\n",
       "</table>\n",
       "</div>"
      ],
      "text/plain": [
       "                                          hypothesis   RICE\n",
       "7  Добавить форму подписки на все основные страни...  112.0\n",
       "2  Добавить блоки рекомендаций товаров на сайт ин...   56.0\n",
       "0  Добавить два новых канала привлечения трафика,...   40.0\n",
       "6  Показать на главной странице баннеры с актуаль...   40.0\n",
       "8  Запустить акцию, дающую скидку на товар в день...   16.2\n",
       "3  Изменить структура категорий, что увеличит кон...    9.0\n",
       "1  Запустить собственную службу доставки, что сок...    4.0\n",
       "5  Добавить страницу отзывов клиентов о магазине,...    4.0\n",
       "4  Изменить цвет фона главной страницы, чтобы уве...    3.0"
      ]
     },
     "execution_count": 4,
     "metadata": {},
     "output_type": "execute_result"
    }
   ],
   "source": [
    "hypothesis['RICE']=(hypothesis['impact']*hypothesis['confidence']*hypothesis['reach'])/hypothesis['efforts']\n",
    "\n",
    "hypothesis[['hypothesis','RICE']].sort_values(by='RICE', ascending=False)"
   ]
  },
  {
   "cell_type": "markdown",
   "metadata": {},
   "source": [
    "Приоритетной гипотезой по фреймвору RICE явяляется ипотеза номер 7"
   ]
  },
  {
   "cell_type": "markdown",
   "metadata": {},
   "source": [
    "### Укажите, как изменилась приоритизация гипотез при применении RICE вместо ICE. Объясните, почему так произошло."
   ]
  },
  {
   "cell_type": "code",
   "execution_count": 5,
   "metadata": {},
   "outputs": [
    {
     "data": {
      "text/html": [
       "<div>\n",
       "<style scoped>\n",
       "    .dataframe tbody tr th:only-of-type {\n",
       "        vertical-align: middle;\n",
       "    }\n",
       "\n",
       "    .dataframe tbody tr th {\n",
       "        vertical-align: top;\n",
       "    }\n",
       "\n",
       "    .dataframe thead th {\n",
       "        text-align: right;\n",
       "    }\n",
       "</style>\n",
       "<table border=\"1\" class=\"dataframe\">\n",
       "  <thead>\n",
       "    <tr style=\"text-align: right;\">\n",
       "      <th></th>\n",
       "      <th>hypothesis</th>\n",
       "      <th>RICE</th>\n",
       "      <th>ICE</th>\n",
       "    </tr>\n",
       "  </thead>\n",
       "  <tbody>\n",
       "    <tr>\n",
       "      <td>7</td>\n",
       "      <td>Добавить форму подписки на все основные страни...</td>\n",
       "      <td>112.0</td>\n",
       "      <td>11.200000</td>\n",
       "    </tr>\n",
       "    <tr>\n",
       "      <td>2</td>\n",
       "      <td>Добавить блоки рекомендаций товаров на сайт ин...</td>\n",
       "      <td>56.0</td>\n",
       "      <td>7.000000</td>\n",
       "    </tr>\n",
       "    <tr>\n",
       "      <td>0</td>\n",
       "      <td>Добавить два новых канала привлечения трафика,...</td>\n",
       "      <td>40.0</td>\n",
       "      <td>13.333333</td>\n",
       "    </tr>\n",
       "    <tr>\n",
       "      <td>6</td>\n",
       "      <td>Показать на главной странице баннеры с актуаль...</td>\n",
       "      <td>40.0</td>\n",
       "      <td>8.000000</td>\n",
       "    </tr>\n",
       "    <tr>\n",
       "      <td>8</td>\n",
       "      <td>Запустить акцию, дающую скидку на товар в день...</td>\n",
       "      <td>16.2</td>\n",
       "      <td>16.200000</td>\n",
       "    </tr>\n",
       "    <tr>\n",
       "      <td>3</td>\n",
       "      <td>Изменить структура категорий, что увеличит кон...</td>\n",
       "      <td>9.0</td>\n",
       "      <td>1.125000</td>\n",
       "    </tr>\n",
       "    <tr>\n",
       "      <td>1</td>\n",
       "      <td>Запустить собственную службу доставки, что сок...</td>\n",
       "      <td>4.0</td>\n",
       "      <td>2.000000</td>\n",
       "    </tr>\n",
       "    <tr>\n",
       "      <td>5</td>\n",
       "      <td>Добавить страницу отзывов клиентов о магазине,...</td>\n",
       "      <td>4.0</td>\n",
       "      <td>1.333333</td>\n",
       "    </tr>\n",
       "    <tr>\n",
       "      <td>4</td>\n",
       "      <td>Изменить цвет фона главной страницы, чтобы уве...</td>\n",
       "      <td>3.0</td>\n",
       "      <td>1.000000</td>\n",
       "    </tr>\n",
       "  </tbody>\n",
       "</table>\n",
       "</div>"
      ],
      "text/plain": [
       "                                          hypothesis   RICE        ICE\n",
       "7  Добавить форму подписки на все основные страни...  112.0  11.200000\n",
       "2  Добавить блоки рекомендаций товаров на сайт ин...   56.0   7.000000\n",
       "0  Добавить два новых канала привлечения трафика,...   40.0  13.333333\n",
       "6  Показать на главной странице баннеры с актуаль...   40.0   8.000000\n",
       "8  Запустить акцию, дающую скидку на товар в день...   16.2  16.200000\n",
       "3  Изменить структура категорий, что увеличит кон...    9.0   1.125000\n",
       "1  Запустить собственную службу доставки, что сок...    4.0   2.000000\n",
       "5  Добавить страницу отзывов клиентов о магазине,...    4.0   1.333333\n",
       "4  Изменить цвет фона главной страницы, чтобы уве...    3.0   1.000000"
      ]
     },
     "execution_count": 5,
     "metadata": {},
     "output_type": "execute_result"
    }
   ],
   "source": [
    "hypothesis_merge = hypothesis[['hypothesis','RICE']].merge(hypothesis[['hypothesis','ICE']], on='hypothesis')\n",
    "hypothesis_merge.sort_values(by='RICE', ascending=False)"
   ]
  },
  {
   "cell_type": "markdown",
   "metadata": {},
   "source": [
    "**Вывод по части 1** При применении фреймворка RICE позиции гипотез измениись, на это повлиял парамет Reach. не изменным остались гепотизы по номером 6 и 4"
   ]
  },
  {
   "cell_type": "markdown",
   "metadata": {},
   "source": [
    "## Анализ A/B-теста"
   ]
  },
  {
   "cell_type": "markdown",
   "metadata": {},
   "source": [
    "Формируем дата фреймы"
   ]
  },
  {
   "cell_type": "code",
   "execution_count": 6,
   "metadata": {},
   "outputs": [
    {
     "name": "stdout",
     "output_type": "stream",
     "text": [
      "<class 'pandas.core.frame.DataFrame'>\n",
      "RangeIndex: 1197 entries, 0 to 1196\n",
      "Data columns (total 5 columns):\n",
      "transactionId    1197 non-null int64\n",
      "visitorId        1197 non-null int64\n",
      "date             1197 non-null object\n",
      "revenue          1197 non-null int64\n",
      "group            1197 non-null object\n",
      "dtypes: int64(3), object(2)\n",
      "memory usage: 46.9+ KB\n"
     ]
    }
   ],
   "source": [
    "orders = pd.read_csv('/datasets/orders.csv')\n",
    "orders.info()"
   ]
  },
  {
   "cell_type": "code",
   "execution_count": 7,
   "metadata": {},
   "outputs": [
    {
     "name": "stdout",
     "output_type": "stream",
     "text": [
      "<class 'pandas.core.frame.DataFrame'>\n",
      "RangeIndex: 62 entries, 0 to 61\n",
      "Data columns (total 3 columns):\n",
      "date        62 non-null object\n",
      "group       62 non-null object\n",
      "visitors    62 non-null int64\n",
      "dtypes: int64(1), object(2)\n",
      "memory usage: 1.6+ KB\n"
     ]
    }
   ],
   "source": [
    "visitors = pd.read_csv('/datasets/visitors.csv')\n",
    "visitors.info()"
   ]
  },
  {
   "cell_type": "markdown",
   "metadata": {},
   "source": [
    "у нас есть Дата которую необходимо привести к нужному виду"
   ]
  },
  {
   "cell_type": "code",
   "execution_count": 8,
   "metadata": {},
   "outputs": [],
   "source": [
    "orders['date'] = pd.to_datetime(orders['date'], format='%Y-%m-%d')\n",
    "visitors['date'] = pd.to_datetime(visitors['date'], format='%Y-%m-%d')"
   ]
  },
  {
   "cell_type": "code",
   "execution_count": 9,
   "metadata": {},
   "outputs": [
    {
     "data": {
      "text/html": [
       "<div>\n",
       "<style scoped>\n",
       "    .dataframe tbody tr th:only-of-type {\n",
       "        vertical-align: middle;\n",
       "    }\n",
       "\n",
       "    .dataframe tbody tr th {\n",
       "        vertical-align: top;\n",
       "    }\n",
       "\n",
       "    .dataframe thead th {\n",
       "        text-align: right;\n",
       "    }\n",
       "</style>\n",
       "<table border=\"1\" class=\"dataframe\">\n",
       "  <thead>\n",
       "    <tr style=\"text-align: right;\">\n",
       "      <th></th>\n",
       "      <th>date</th>\n",
       "      <th>group</th>\n",
       "      <th>visitors</th>\n",
       "    </tr>\n",
       "  </thead>\n",
       "  <tbody>\n",
       "    <tr>\n",
       "      <td>0</td>\n",
       "      <td>2019-08-01</td>\n",
       "      <td>A</td>\n",
       "      <td>719</td>\n",
       "    </tr>\n",
       "    <tr>\n",
       "      <td>1</td>\n",
       "      <td>2019-08-02</td>\n",
       "      <td>A</td>\n",
       "      <td>619</td>\n",
       "    </tr>\n",
       "    <tr>\n",
       "      <td>2</td>\n",
       "      <td>2019-08-03</td>\n",
       "      <td>A</td>\n",
       "      <td>507</td>\n",
       "    </tr>\n",
       "    <tr>\n",
       "      <td>3</td>\n",
       "      <td>2019-08-04</td>\n",
       "      <td>A</td>\n",
       "      <td>717</td>\n",
       "    </tr>\n",
       "    <tr>\n",
       "      <td>4</td>\n",
       "      <td>2019-08-05</td>\n",
       "      <td>A</td>\n",
       "      <td>756</td>\n",
       "    </tr>\n",
       "  </tbody>\n",
       "</table>\n",
       "</div>"
      ],
      "text/plain": [
       "        date group  visitors\n",
       "0 2019-08-01     A       719\n",
       "1 2019-08-02     A       619\n",
       "2 2019-08-03     A       507\n",
       "3 2019-08-04     A       717\n",
       "4 2019-08-05     A       756"
      ]
     },
     "execution_count": 9,
     "metadata": {},
     "output_type": "execute_result"
    }
   ],
   "source": [
    "visitors.head()"
   ]
  },
  {
   "cell_type": "code",
   "execution_count": 10,
   "metadata": {},
   "outputs": [
    {
     "data": {
      "text/html": [
       "<div>\n",
       "<style scoped>\n",
       "    .dataframe tbody tr th:only-of-type {\n",
       "        vertical-align: middle;\n",
       "    }\n",
       "\n",
       "    .dataframe tbody tr th {\n",
       "        vertical-align: top;\n",
       "    }\n",
       "\n",
       "    .dataframe thead th {\n",
       "        text-align: right;\n",
       "    }\n",
       "</style>\n",
       "<table border=\"1\" class=\"dataframe\">\n",
       "  <thead>\n",
       "    <tr style=\"text-align: right;\">\n",
       "      <th></th>\n",
       "      <th>transactionId</th>\n",
       "      <th>visitorId</th>\n",
       "      <th>date</th>\n",
       "      <th>revenue</th>\n",
       "      <th>group</th>\n",
       "    </tr>\n",
       "  </thead>\n",
       "  <tbody>\n",
       "    <tr>\n",
       "      <td>0</td>\n",
       "      <td>3667963787</td>\n",
       "      <td>3312258926</td>\n",
       "      <td>2019-08-15</td>\n",
       "      <td>1650</td>\n",
       "      <td>B</td>\n",
       "    </tr>\n",
       "    <tr>\n",
       "      <td>1</td>\n",
       "      <td>2804400009</td>\n",
       "      <td>3642806036</td>\n",
       "      <td>2019-08-15</td>\n",
       "      <td>730</td>\n",
       "      <td>B</td>\n",
       "    </tr>\n",
       "    <tr>\n",
       "      <td>2</td>\n",
       "      <td>2961555356</td>\n",
       "      <td>4069496402</td>\n",
       "      <td>2019-08-15</td>\n",
       "      <td>400</td>\n",
       "      <td>A</td>\n",
       "    </tr>\n",
       "    <tr>\n",
       "      <td>3</td>\n",
       "      <td>3797467345</td>\n",
       "      <td>1196621759</td>\n",
       "      <td>2019-08-15</td>\n",
       "      <td>9759</td>\n",
       "      <td>B</td>\n",
       "    </tr>\n",
       "    <tr>\n",
       "      <td>4</td>\n",
       "      <td>2282983706</td>\n",
       "      <td>2322279887</td>\n",
       "      <td>2019-08-15</td>\n",
       "      <td>2308</td>\n",
       "      <td>B</td>\n",
       "    </tr>\n",
       "  </tbody>\n",
       "</table>\n",
       "</div>"
      ],
      "text/plain": [
       "   transactionId   visitorId       date  revenue group\n",
       "0     3667963787  3312258926 2019-08-15     1650     B\n",
       "1     2804400009  3642806036 2019-08-15      730     B\n",
       "2     2961555356  4069496402 2019-08-15      400     A\n",
       "3     3797467345  1196621759 2019-08-15     9759     B\n",
       "4     2282983706  2322279887 2019-08-15     2308     B"
      ]
     },
     "execution_count": 10,
     "metadata": {},
     "output_type": "execute_result"
    }
   ],
   "source": [
    "orders.head()"
   ]
  },
  {
   "cell_type": "code",
   "execution_count": 11,
   "metadata": {},
   "outputs": [
    {
     "data": {
      "text/html": [
       "<div>\n",
       "<style scoped>\n",
       "    .dataframe tbody tr th:only-of-type {\n",
       "        vertical-align: middle;\n",
       "    }\n",
       "\n",
       "    .dataframe tbody tr th {\n",
       "        vertical-align: top;\n",
       "    }\n",
       "\n",
       "    .dataframe thead th {\n",
       "        text-align: right;\n",
       "    }\n",
       "</style>\n",
       "<table border=\"1\" class=\"dataframe\">\n",
       "  <thead>\n",
       "    <tr style=\"text-align: right;\">\n",
       "      <th></th>\n",
       "      <th>visitorId</th>\n",
       "      <th>group</th>\n",
       "      <th>count</th>\n",
       "    </tr>\n",
       "  </thead>\n",
       "  <tbody>\n",
       "    <tr>\n",
       "      <td>45</td>\n",
       "      <td>199603092</td>\n",
       "      <td>A</td>\n",
       "      <td>4</td>\n",
       "    </tr>\n",
       "    <tr>\n",
       "      <td>58</td>\n",
       "      <td>237748145</td>\n",
       "      <td>A</td>\n",
       "      <td>4</td>\n",
       "    </tr>\n",
       "    <tr>\n",
       "      <td>63</td>\n",
       "      <td>249864742</td>\n",
       "      <td>B</td>\n",
       "      <td>3</td>\n",
       "    </tr>\n",
       "    <tr>\n",
       "      <td>94</td>\n",
       "      <td>366673373</td>\n",
       "      <td>A</td>\n",
       "      <td>2</td>\n",
       "    </tr>\n",
       "    <tr>\n",
       "      <td>104</td>\n",
       "      <td>393266494</td>\n",
       "      <td>B</td>\n",
       "      <td>2</td>\n",
       "    </tr>\n",
       "    <tr>\n",
       "      <td>...</td>\n",
       "      <td>...</td>\n",
       "      <td>...</td>\n",
       "      <td>...</td>\n",
       "    </tr>\n",
       "    <tr>\n",
       "      <td>1045</td>\n",
       "      <td>4109358064</td>\n",
       "      <td>A</td>\n",
       "      <td>2</td>\n",
       "    </tr>\n",
       "    <tr>\n",
       "      <td>1050</td>\n",
       "      <td>4134830387</td>\n",
       "      <td>B</td>\n",
       "      <td>2</td>\n",
       "    </tr>\n",
       "    <tr>\n",
       "      <td>1065</td>\n",
       "      <td>4186807279</td>\n",
       "      <td>B</td>\n",
       "      <td>2</td>\n",
       "    </tr>\n",
       "    <tr>\n",
       "      <td>1079</td>\n",
       "      <td>4256040402</td>\n",
       "      <td>A</td>\n",
       "      <td>7</td>\n",
       "    </tr>\n",
       "    <tr>\n",
       "      <td>1080</td>\n",
       "      <td>4256040402</td>\n",
       "      <td>B</td>\n",
       "      <td>4</td>\n",
       "    </tr>\n",
       "  </tbody>\n",
       "</table>\n",
       "<p>64 rows × 3 columns</p>\n",
       "</div>"
      ],
      "text/plain": [
       "       visitorId group  count\n",
       "45     199603092     A      4\n",
       "58     237748145     A      4\n",
       "63     249864742     B      3\n",
       "94     366673373     A      2\n",
       "104    393266494     B      2\n",
       "...          ...   ...    ...\n",
       "1045  4109358064     A      2\n",
       "1050  4134830387     B      2\n",
       "1065  4186807279     B      2\n",
       "1079  4256040402     A      7\n",
       "1080  4256040402     B      4\n",
       "\n",
       "[64 rows x 3 columns]"
      ]
     },
     "execution_count": 11,
     "metadata": {},
     "output_type": "execute_result"
    }
   ],
   "source": [
    "group_sizes = orders.groupby(['visitorId', 'group']).size().reset_index()\n",
    "group_sizes.columns = ['visitorId', 'group', 'count']\n",
    "group_sizes = group_sizes.query('count >= 2').sort_values(by='visitorId')\n",
    "group_sizes"
   ]
  },
  {
   "cell_type": "code",
   "execution_count": 12,
   "metadata": {},
   "outputs": [
    {
     "data": {
      "text/html": [
       "<div>\n",
       "<style scoped>\n",
       "    .dataframe tbody tr th:only-of-type {\n",
       "        vertical-align: middle;\n",
       "    }\n",
       "\n",
       "    .dataframe tbody tr th {\n",
       "        vertical-align: top;\n",
       "    }\n",
       "\n",
       "    .dataframe thead th {\n",
       "        text-align: right;\n",
       "    }\n",
       "</style>\n",
       "<table border=\"1\" class=\"dataframe\">\n",
       "  <thead>\n",
       "    <tr style=\"text-align: right;\">\n",
       "      <th></th>\n",
       "      <th></th>\n",
       "      <th></th>\n",
       "      <th>transactionId</th>\n",
       "      <th>revenue</th>\n",
       "    </tr>\n",
       "    <tr>\n",
       "      <th>visitorId</th>\n",
       "      <th>group</th>\n",
       "      <th>date</th>\n",
       "      <th></th>\n",
       "      <th></th>\n",
       "    </tr>\n",
       "  </thead>\n",
       "  <tbody>\n",
       "    <tr>\n",
       "      <td rowspan=\"2\" valign=\"top\">1230306981</td>\n",
       "      <td>A</td>\n",
       "      <td>2019-08-09</td>\n",
       "      <td>3</td>\n",
       "      <td>18440</td>\n",
       "    </tr>\n",
       "    <tr>\n",
       "      <td>B</td>\n",
       "      <td>2019-08-09</td>\n",
       "      <td>2</td>\n",
       "      <td>12840</td>\n",
       "    </tr>\n",
       "    <tr>\n",
       "      <td rowspan=\"7\" valign=\"top\">2038680547</td>\n",
       "      <td rowspan=\"4\" valign=\"top\">A</td>\n",
       "      <td>2019-08-04</td>\n",
       "      <td>2</td>\n",
       "      <td>4070</td>\n",
       "    </tr>\n",
       "    <tr>\n",
       "      <td>2019-08-17</td>\n",
       "      <td>1</td>\n",
       "      <td>3470</td>\n",
       "    </tr>\n",
       "    <tr>\n",
       "      <td>2019-08-22</td>\n",
       "      <td>1</td>\n",
       "      <td>760</td>\n",
       "    </tr>\n",
       "    <tr>\n",
       "      <td>2019-08-25</td>\n",
       "      <td>1</td>\n",
       "      <td>270</td>\n",
       "    </tr>\n",
       "    <tr>\n",
       "      <td rowspan=\"3\" valign=\"top\">B</td>\n",
       "      <td>2019-08-04</td>\n",
       "      <td>1</td>\n",
       "      <td>2800</td>\n",
       "    </tr>\n",
       "    <tr>\n",
       "      <td>2019-08-15</td>\n",
       "      <td>1</td>\n",
       "      <td>1680</td>\n",
       "    </tr>\n",
       "    <tr>\n",
       "      <td>2019-08-29</td>\n",
       "      <td>1</td>\n",
       "      <td>2420</td>\n",
       "    </tr>\n",
       "    <tr>\n",
       "      <td rowspan=\"8\" valign=\"top\">2378935119</td>\n",
       "      <td rowspan=\"4\" valign=\"top\">A</td>\n",
       "      <td>2019-08-10</td>\n",
       "      <td>1</td>\n",
       "      <td>58220</td>\n",
       "    </tr>\n",
       "    <tr>\n",
       "      <td>2019-08-15</td>\n",
       "      <td>1</td>\n",
       "      <td>1650</td>\n",
       "    </tr>\n",
       "    <tr>\n",
       "      <td>2019-08-17</td>\n",
       "      <td>1</td>\n",
       "      <td>310</td>\n",
       "    </tr>\n",
       "    <tr>\n",
       "      <td>2019-08-22</td>\n",
       "      <td>1</td>\n",
       "      <td>3390</td>\n",
       "    </tr>\n",
       "    <tr>\n",
       "      <td rowspan=\"4\" valign=\"top\">B</td>\n",
       "      <td>2019-08-09</td>\n",
       "      <td>1</td>\n",
       "      <td>30649</td>\n",
       "    </tr>\n",
       "    <tr>\n",
       "      <td>2019-08-10</td>\n",
       "      <td>1</td>\n",
       "      <td>2640</td>\n",
       "    </tr>\n",
       "    <tr>\n",
       "      <td>2019-08-25</td>\n",
       "      <td>1</td>\n",
       "      <td>21220</td>\n",
       "    </tr>\n",
       "    <tr>\n",
       "      <td>2019-08-28</td>\n",
       "      <td>2</td>\n",
       "      <td>24860</td>\n",
       "    </tr>\n",
       "    <tr>\n",
       "      <td rowspan=\"10\" valign=\"top\">2458001652</td>\n",
       "      <td rowspan=\"5\" valign=\"top\">A</td>\n",
       "      <td>2019-08-04</td>\n",
       "      <td>1</td>\n",
       "      <td>340</td>\n",
       "    </tr>\n",
       "    <tr>\n",
       "      <td>2019-08-06</td>\n",
       "      <td>1</td>\n",
       "      <td>1620</td>\n",
       "    </tr>\n",
       "    <tr>\n",
       "      <td>2019-08-07</td>\n",
       "      <td>1</td>\n",
       "      <td>17379</td>\n",
       "    </tr>\n",
       "    <tr>\n",
       "      <td>2019-08-11</td>\n",
       "      <td>1</td>\n",
       "      <td>8280</td>\n",
       "    </tr>\n",
       "    <tr>\n",
       "      <td>2019-08-22</td>\n",
       "      <td>1</td>\n",
       "      <td>5190</td>\n",
       "    </tr>\n",
       "    <tr>\n",
       "      <td rowspan=\"5\" valign=\"top\">B</td>\n",
       "      <td>2019-08-05</td>\n",
       "      <td>1</td>\n",
       "      <td>2420</td>\n",
       "    </tr>\n",
       "    <tr>\n",
       "      <td>2019-08-06</td>\n",
       "      <td>2</td>\n",
       "      <td>14030</td>\n",
       "    </tr>\n",
       "    <tr>\n",
       "      <td>2019-08-08</td>\n",
       "      <td>1</td>\n",
       "      <td>5227</td>\n",
       "    </tr>\n",
       "    <tr>\n",
       "      <td>2019-08-09</td>\n",
       "      <td>1</td>\n",
       "      <td>5227</td>\n",
       "    </tr>\n",
       "    <tr>\n",
       "      <td>2019-08-25</td>\n",
       "      <td>1</td>\n",
       "      <td>2385</td>\n",
       "    </tr>\n",
       "    <tr>\n",
       "      <td rowspan=\"11\" valign=\"top\">4256040402</td>\n",
       "      <td rowspan=\"7\" valign=\"top\">A</td>\n",
       "      <td>2019-08-01</td>\n",
       "      <td>1</td>\n",
       "      <td>5800</td>\n",
       "    </tr>\n",
       "    <tr>\n",
       "      <td>2019-08-12</td>\n",
       "      <td>1</td>\n",
       "      <td>50</td>\n",
       "    </tr>\n",
       "    <tr>\n",
       "      <td>2019-08-17</td>\n",
       "      <td>1</td>\n",
       "      <td>1550</td>\n",
       "    </tr>\n",
       "    <tr>\n",
       "      <td>2019-08-20</td>\n",
       "      <td>1</td>\n",
       "      <td>17650</td>\n",
       "    </tr>\n",
       "    <tr>\n",
       "      <td>2019-08-23</td>\n",
       "      <td>1</td>\n",
       "      <td>16950</td>\n",
       "    </tr>\n",
       "    <tr>\n",
       "      <td>2019-08-27</td>\n",
       "      <td>1</td>\n",
       "      <td>1630</td>\n",
       "    </tr>\n",
       "    <tr>\n",
       "      <td>2019-08-31</td>\n",
       "      <td>1</td>\n",
       "      <td>5170</td>\n",
       "    </tr>\n",
       "    <tr>\n",
       "      <td rowspan=\"4\" valign=\"top\">B</td>\n",
       "      <td>2019-08-08</td>\n",
       "      <td>1</td>\n",
       "      <td>58220</td>\n",
       "    </tr>\n",
       "    <tr>\n",
       "      <td>2019-08-16</td>\n",
       "      <td>1</td>\n",
       "      <td>56650</td>\n",
       "    </tr>\n",
       "    <tr>\n",
       "      <td>2019-08-18</td>\n",
       "      <td>1</td>\n",
       "      <td>10970</td>\n",
       "    </tr>\n",
       "    <tr>\n",
       "      <td>2019-08-31</td>\n",
       "      <td>1</td>\n",
       "      <td>1850</td>\n",
       "    </tr>\n",
       "  </tbody>\n",
       "</table>\n",
       "</div>"
      ],
      "text/plain": [
       "                             transactionId  revenue\n",
       "visitorId  group date                              \n",
       "1230306981 A     2019-08-09              3    18440\n",
       "           B     2019-08-09              2    12840\n",
       "2038680547 A     2019-08-04              2     4070\n",
       "                 2019-08-17              1     3470\n",
       "                 2019-08-22              1      760\n",
       "                 2019-08-25              1      270\n",
       "           B     2019-08-04              1     2800\n",
       "                 2019-08-15              1     1680\n",
       "                 2019-08-29              1     2420\n",
       "2378935119 A     2019-08-10              1    58220\n",
       "                 2019-08-15              1     1650\n",
       "                 2019-08-17              1      310\n",
       "                 2019-08-22              1     3390\n",
       "           B     2019-08-09              1    30649\n",
       "                 2019-08-10              1     2640\n",
       "                 2019-08-25              1    21220\n",
       "                 2019-08-28              2    24860\n",
       "2458001652 A     2019-08-04              1      340\n",
       "                 2019-08-06              1     1620\n",
       "                 2019-08-07              1    17379\n",
       "                 2019-08-11              1     8280\n",
       "                 2019-08-22              1     5190\n",
       "           B     2019-08-05              1     2420\n",
       "                 2019-08-06              2    14030\n",
       "                 2019-08-08              1     5227\n",
       "                 2019-08-09              1     5227\n",
       "                 2019-08-25              1     2385\n",
       "4256040402 A     2019-08-01              1     5800\n",
       "                 2019-08-12              1       50\n",
       "                 2019-08-17              1     1550\n",
       "                 2019-08-20              1    17650\n",
       "                 2019-08-23              1    16950\n",
       "                 2019-08-27              1     1630\n",
       "                 2019-08-31              1     5170\n",
       "           B     2019-08-08              1    58220\n",
       "                 2019-08-16              1    56650\n",
       "                 2019-08-18              1    10970\n",
       "                 2019-08-31              1     1850"
      ]
     },
     "execution_count": 12,
     "metadata": {},
     "output_type": "execute_result"
    }
   ],
   "source": [
    "potentially_broken_users_list = list(zip(group_sizes['visitorId'], group_sizes['group']))\n",
    "potentially_broken_users_dict = defaultdict(list)\n",
    "for user, group in potentially_broken_users_list:\n",
    "    potentially_broken_users_dict[user].append(group)\n",
    "\n",
    "inappropriate_users = [user for user in potentially_broken_users_dict if len(potentially_broken_users_dict[user]) > 1]\n",
    "inappropriate_orders = orders.query('visitorId in @inappropriate_users')\n",
    "inappropriate_orders_grouped = (inappropriate_orders\n",
    "                        .groupby(['visitorId', 'group', 'date'])\n",
    "                        .agg({'transactionId': 'nunique', 'revenue': 'sum'})\n",
    "                   )\n",
    "inappropriate_orders_grouped"
   ]
  },
  {
   "cell_type": "markdown",
   "metadata": {},
   "source": [
    "Данные впорядке можно приступать к задачам"
   ]
  },
  {
   "cell_type": "markdown",
   "metadata": {},
   "source": [
    "### Постройте график кумулятивной выручки по группам. Сделайте выводы и предположения"
   ]
  },
  {
   "cell_type": "code",
   "execution_count": 13,
   "metadata": {},
   "outputs": [],
   "source": [
    "#Создайте датафрейм datesGroups с уникальными парами значений 'date' и 'group', таблицы orders. \n",
    "datesGroups = orders[['date', 'group']].drop_duplicates()"
   ]
  },
  {
   "cell_type": "code",
   "execution_count": 14,
   "metadata": {},
   "outputs": [
    {
     "data": {
      "text/html": [
       "<div>\n",
       "<style scoped>\n",
       "    .dataframe tbody tr th:only-of-type {\n",
       "        vertical-align: middle;\n",
       "    }\n",
       "\n",
       "    .dataframe tbody tr th {\n",
       "        vertical-align: top;\n",
       "    }\n",
       "\n",
       "    .dataframe thead th {\n",
       "        text-align: right;\n",
       "    }\n",
       "</style>\n",
       "<table border=\"1\" class=\"dataframe\">\n",
       "  <thead>\n",
       "    <tr style=\"text-align: right;\">\n",
       "      <th></th>\n",
       "      <th>date</th>\n",
       "      <th>group</th>\n",
       "      <th>orders</th>\n",
       "      <th>buyers</th>\n",
       "      <th>revenue</th>\n",
       "      <th>visitors</th>\n",
       "    </tr>\n",
       "  </thead>\n",
       "  <tbody>\n",
       "    <tr>\n",
       "      <td>0</td>\n",
       "      <td>2019-08-01</td>\n",
       "      <td>A</td>\n",
       "      <td>24</td>\n",
       "      <td>20</td>\n",
       "      <td>148579</td>\n",
       "      <td>719</td>\n",
       "    </tr>\n",
       "    <tr>\n",
       "      <td>1</td>\n",
       "      <td>2019-08-01</td>\n",
       "      <td>B</td>\n",
       "      <td>21</td>\n",
       "      <td>20</td>\n",
       "      <td>101217</td>\n",
       "      <td>713</td>\n",
       "    </tr>\n",
       "    <tr>\n",
       "      <td>2</td>\n",
       "      <td>2019-08-02</td>\n",
       "      <td>A</td>\n",
       "      <td>44</td>\n",
       "      <td>38</td>\n",
       "      <td>242401</td>\n",
       "      <td>1338</td>\n",
       "    </tr>\n",
       "    <tr>\n",
       "      <td>3</td>\n",
       "      <td>2019-08-02</td>\n",
       "      <td>B</td>\n",
       "      <td>45</td>\n",
       "      <td>43</td>\n",
       "      <td>266748</td>\n",
       "      <td>1294</td>\n",
       "    </tr>\n",
       "    <tr>\n",
       "      <td>4</td>\n",
       "      <td>2019-08-03</td>\n",
       "      <td>A</td>\n",
       "      <td>68</td>\n",
       "      <td>62</td>\n",
       "      <td>354874</td>\n",
       "      <td>1845</td>\n",
       "    </tr>\n",
       "    <tr>\n",
       "      <td>...</td>\n",
       "      <td>...</td>\n",
       "      <td>...</td>\n",
       "      <td>...</td>\n",
       "      <td>...</td>\n",
       "      <td>...</td>\n",
       "      <td>...</td>\n",
       "    </tr>\n",
       "    <tr>\n",
       "      <td>57</td>\n",
       "      <td>2019-08-29</td>\n",
       "      <td>B</td>\n",
       "      <td>596</td>\n",
       "      <td>544</td>\n",
       "      <td>5559398</td>\n",
       "      <td>17708</td>\n",
       "    </tr>\n",
       "    <tr>\n",
       "      <td>58</td>\n",
       "      <td>2019-08-30</td>\n",
       "      <td>A</td>\n",
       "      <td>545</td>\n",
       "      <td>493</td>\n",
       "      <td>4022970</td>\n",
       "      <td>18037</td>\n",
       "    </tr>\n",
       "    <tr>\n",
       "      <td>59</td>\n",
       "      <td>2019-08-30</td>\n",
       "      <td>B</td>\n",
       "      <td>620</td>\n",
       "      <td>567</td>\n",
       "      <td>5774631</td>\n",
       "      <td>18198</td>\n",
       "    </tr>\n",
       "    <tr>\n",
       "      <td>60</td>\n",
       "      <td>2019-08-31</td>\n",
       "      <td>A</td>\n",
       "      <td>557</td>\n",
       "      <td>503</td>\n",
       "      <td>4084803</td>\n",
       "      <td>18736</td>\n",
       "    </tr>\n",
       "    <tr>\n",
       "      <td>61</td>\n",
       "      <td>2019-08-31</td>\n",
       "      <td>B</td>\n",
       "      <td>640</td>\n",
       "      <td>586</td>\n",
       "      <td>5907760</td>\n",
       "      <td>18916</td>\n",
       "    </tr>\n",
       "  </tbody>\n",
       "</table>\n",
       "<p>62 rows × 6 columns</p>\n",
       "</div>"
      ],
      "text/plain": [
       "         date group  orders  buyers  revenue  visitors\n",
       "0  2019-08-01     A      24      20   148579       719\n",
       "1  2019-08-01     B      21      20   101217       713\n",
       "2  2019-08-02     A      44      38   242401      1338\n",
       "3  2019-08-02     B      45      43   266748      1294\n",
       "4  2019-08-03     A      68      62   354874      1845\n",
       "..        ...   ...     ...     ...      ...       ...\n",
       "57 2019-08-29     B     596     544  5559398     17708\n",
       "58 2019-08-30     A     545     493  4022970     18037\n",
       "59 2019-08-30     B     620     567  5774631     18198\n",
       "60 2019-08-31     A     557     503  4084803     18736\n",
       "61 2019-08-31     B     640     586  5907760     18916\n",
       "\n",
       "[62 rows x 6 columns]"
      ]
     },
     "execution_count": 14,
     "metadata": {},
     "output_type": "execute_result"
    }
   ],
   "source": [
    "#Объявите переменную ordersAggregated и visitorsAggregated\n",
    "ordersAggregated = datesGroups.apply(lambda x: orders[np.logical_and(orders['date'] <= x['date'], orders['group'] == x['group'])]\\\n",
    ".agg({'date' : 'max', 'group' : 'max', 'transactionId' : pd.Series.nunique, 'visitorId' : pd.Series.nunique, 'revenue' : 'sum'}), axis=1).sort_values(by=['date','group'])\n",
    "visitorsAggregated = datesGroups.apply(lambda x: visitors[np.logical_and(visitors['date'] <= x['date'], visitors['group'] == x['group'])].agg({'date' : 'max', 'group' : 'max', 'visitors' : 'sum'}), axis=1).sort_values(by=['date','group'])\n",
    "#Определите переменную cumulativeData, объединив ordersAggregated и visitorsAggregated по колонкам 'date', 'group'\n",
    "cumulativeData = ordersAggregated.merge(visitorsAggregated, left_on=['date', 'group'], right_on=['date', 'group'])\n",
    "cumulativeData.columns = ['date', 'group', 'orders', 'buyers', 'revenue', 'visitors']\n",
    "cumulativeData"
   ]
  },
  {
   "cell_type": "code",
   "execution_count": 15,
   "metadata": {},
   "outputs": [
    {
     "name": "stderr",
     "output_type": "stream",
     "text": [
      "/opt/conda/lib/python3.7/site-packages/pandas/plotting/_matplotlib/converter.py:103: FutureWarning:\n",
      "\n",
      "Using an implicitly registered datetime converter for a matplotlib plotting method. The converter was registered by pandas on import. Future versions of pandas will require you to explicitly register matplotlib converters.\n",
      "\n",
      "To register the converters:\n",
      "\t>>> from pandas.plotting import register_matplotlib_converters\n",
      "\t>>> register_matplotlib_converters()\n",
      "\n"
     ]
    },
    {
     "data": {
      "image/png": "[encoded data removed]",
      "text/plain": [
       "<Figure size 432x288 with 1 Axes>"
      ]
     },
     "metadata": {
      "needs_background": "light"
     },
     "output_type": "display_data"
    }
   ],
   "source": [
    "cumulativeRevenueA = cumulativeData[cumulativeData['group']=='A'][['date','revenue', 'orders']]\n",
    "cumulativeRevenueB = cumulativeData[cumulativeData['group']=='B'][['date','revenue', 'orders']]\n",
    "plt.plot(cumulativeRevenueA['date'], cumulativeRevenueA['revenue'], label='A')\n",
    "plt.plot(cumulativeRevenueB['date'], cumulativeRevenueB['revenue'], label='B')\n",
    "plt.xticks(rotation=90)\n",
    "plt.legend()\n",
    "plt.show()"
   ]
  },
  {
   "cell_type": "markdown",
   "metadata": {},
   "source": [
    "Из графика видно что группа б после 2019-08-13 вырывается вперед и лидирует остальное время. Скорее всего на это повлияли большие заказы. Необходимо позже проверить это и удалить для более лучшего анализа."
   ]
  },
  {
   "cell_type": "markdown",
   "metadata": {},
   "source": [
    "### Постройте график кумулятивного среднего чека по группам. Сделайте выводы и предположения."
   ]
  },
  {
   "cell_type": "code",
   "execution_count": 16,
   "metadata": {},
   "outputs": [
    {
     "data": {
      "image/png": "[encoded data removed]",
      "text/plain": [
       "<Figure size 432x288 with 1 Axes>"
      ]
     },
     "metadata": {
      "needs_background": "light"
     },
     "output_type": "display_data"
    }
   ],
   "source": [
    "plt.plot(cumulativeRevenueA['date'], cumulativeRevenueA['revenue']/cumulativeRevenueA['orders'], label='A')\n",
    "plt.plot(cumulativeRevenueB['date'], cumulativeRevenueB['revenue']/cumulativeRevenueB['orders'], label='B')\n",
    "plt.xticks(rotation=90)\n",
    "plt.legend()\n",
    "plt.show()"
   ]
  },
  {
   "cell_type": "markdown",
   "metadata": {},
   "source": [
    "Есть большие колебания в значениях. Необходимо проанализировать выбросы"
   ]
  },
  {
   "cell_type": "markdown",
   "metadata": {},
   "source": [
    "### Постройте график относительного изменения кумулятивного среднего чека группы B к группе A. Сделайте выводы и предположения."
   ]
  },
  {
   "cell_type": "code",
   "execution_count": 17,
   "metadata": {},
   "outputs": [
    {
     "data": {
      "image/png": "[encoded data removed]",
      "text/plain": [
       "<Figure size 432x288 with 1 Axes>"
      ]
     },
     "metadata": {
      "needs_background": "light"
     },
     "output_type": "display_data"
    }
   ],
   "source": [
    "# собираем данные в одном датафрейме\n",
    "mergedCumulativeRevenue = cumulativeRevenueA.merge(cumulativeRevenueB, left_on='date', right_on='date', how='left', suffixes=['A', 'B'])\n",
    "\n",
    "# cтроим отношение средних чеков\n",
    "plt.plot(mergedCumulativeRevenue['date'], (mergedCumulativeRevenue['revenueB']/mergedCumulativeRevenue['ordersB'])/(mergedCumulativeRevenue['revenueA']/mergedCumulativeRevenue['ordersA'])-1)\n",
    "\n",
    "# добавляем ось X\n",
    "plt.axhline(y=0, color='black', linestyle='--') \n",
    "plt.xticks(rotation=90)\n",
    "plt.show()"
   ]
  },
  {
   "cell_type": "markdown",
   "metadata": {},
   "source": [
    "По графику видно что есть сильны изменения в нем. Скорее всего в даты больших изминений были совершены аномальные заказы"
   ]
  },
  {
   "cell_type": "markdown",
   "metadata": {},
   "source": [
    "### Постройте график кумулятивной конверсии по группам. Сделайте выводы и предположения."
   ]
  },
  {
   "cell_type": "code",
   "execution_count": 18,
   "metadata": {},
   "outputs": [],
   "source": [
    "cumulativeData['conversion'] = cumulativeData['orders']/cumulativeData['visitors']\n",
    "\n",
    "# отделяем данные по группе A\n",
    "cumulativeDataA = cumulativeData[cumulativeData['group']=='A']\n",
    "\n",
    "# отделяем данные по группе B\n",
    "cumulativeDataB = cumulativeData[cumulativeData['group']=='B']"
   ]
  },
  {
   "cell_type": "code",
   "execution_count": 19,
   "metadata": {},
   "outputs": [
    {
     "data": {
      "image/png": "[encoded data removed]",
      "text/plain": [
       "<Figure size 432x288 with 1 Axes>"
      ]
     },
     "metadata": {
      "needs_background": "light"
     },
     "output_type": "display_data"
    }
   ],
   "source": [
    "# строим графики\n",
    "plt.plot(cumulativeDataA['date'], cumulativeDataA['conversion'], label='A')\n",
    "plt.plot(cumulativeDataB['date'], cumulativeDataB['conversion'], label='B')\n",
    "plt.legend()\n",
    "plt.ylabel('Conversion')\n",
    "plt.xlabel('Date')\n",
    "# задаем масштаб осей\n",
    "plt.axis([\"2019-08-01\", '2019-09-01', 0, 0.05]) \n",
    "plt.xticks(rotation=45)\n",
    "plt.show()"
   ]
  },
  {
   "cell_type": "markdown",
   "metadata": {},
   "source": [
    "В начале теста сегмент A имел не большую конверсию, но постепенно сегмент B выровнялся и зафиксировался примерно около одного значения, больше значения сегмента A.\n",
    "Абсолютное значение колебания в начале и в конце теста не слишком большое: от 3% до 4%. В относительных величинах — это почти в 1 раз. Поэтому, если убрать масштаб осей, будет казаться, что колебания продолжаются, и конверсия не установилась около своего среднего значения."
   ]
  },
  {
   "cell_type": "markdown",
   "metadata": {},
   "source": [
    "### Постройте график относительного изменения кумулятивной конверсии группы B к группе A. Сделайте выводы и предположения."
   ]
  },
  {
   "cell_type": "code",
   "execution_count": 20,
   "metadata": {},
   "outputs": [
    {
     "data": {
      "image/png": "[encoded data removed]",
      "text/plain": [
       "<Figure size 432x288 with 1 Axes>"
      ]
     },
     "metadata": {
      "needs_background": "light"
     },
     "output_type": "display_data"
    }
   ],
   "source": [
    "mergedCumulativeConversions = cumulativeDataA[['date','conversion']].merge(cumulativeDataB[['date','conversion']], left_on='date', right_on='date', how='left', suffixes=['A', 'B'])\n",
    "\n",
    "plt.plot(mergedCumulativeConversions['date'], mergedCumulativeConversions['conversionB']/mergedCumulativeConversions['conversionA']-1, label=\"Относительный прирост конверсии группы B относительно группы A\")\n",
    "plt.legend()\n",
    "plt.ylabel('Conversion')\n",
    "plt.xlabel('Date')\n",
    "plt.axhline(y=0, color='black', linestyle='--')\n",
    "plt.axhline(y=0.2, color='grey', linestyle='--')\n",
    "plt.axis([\"2019-08-01\", '2019-09-01', -0.5, 0.5])\n",
    "plt.xticks(rotation=45)\n",
    "plt.show()"
   ]
  },
  {
   "cell_type": "markdown",
   "metadata": {},
   "source": [
    "С самого начала конверсия группы В идет вверх. Позже она достигает 20% и начинает снижатья зафиксировашись примерно чуть более 10%"
   ]
  },
  {
   "cell_type": "markdown",
   "metadata": {},
   "source": [
    "### Постройте точечный график количества заказов по пользователям. Сделайте выводы и предположения."
   ]
  },
  {
   "cell_type": "code",
   "execution_count": 21,
   "metadata": {},
   "outputs": [
    {
     "name": "stdout",
     "output_type": "stream",
     "text": [
      "          userId  orders\n",
      "1023  4256040402      11\n",
      "591   2458001652      11\n",
      "569   2378935119       9\n",
      "487   2038680547       8\n",
      "44     199603092       5\n",
      "744   3062433592       5\n",
      "55     237748145       5\n",
      "917   3803269165       5\n",
      "299   1230306981       5\n",
      "897   3717692402       5\n"
     ]
    },
    {
     "data": {
      "image/png": "[encoded data removed]",
      "text/plain": [
       "<Figure size 432x288 with 1 Axes>"
      ]
     },
     "metadata": {
      "needs_background": "light"
     },
     "output_type": "display_data"
    }
   ],
   "source": [
    "ordersByUsers = (\n",
    "    orders.drop(['group', 'revenue', 'date'], axis=1)\n",
    "    .groupby('visitorId', as_index=False)\n",
    "    .agg({'transactionId': pd.Series.nunique})\n",
    ")\n",
    "ordersByUsers.columns = ['userId', 'orders']\n",
    "print(ordersByUsers.sort_values(by='orders', ascending=False).head(10))\n",
    "x_values = pd.Series(range(0, len(ordersByUsers)))\n",
    "plt.scatter(x_values, ordersByUsers['orders'])\n",
    "plt.ylabel('Order')\n",
    "plt.xlabel('Count')\n",
    "plt.show()"
   ]
  },
  {
   "cell_type": "markdown",
   "metadata": {},
   "source": [
    "Пользователей сделавших заказ более 2 раз ни так много. Необходимо определить аномалии ли это или норма"
   ]
  },
  {
   "cell_type": "markdown",
   "metadata": {},
   "source": [
    "### Посчитайте 95-й и 99-й перцентили количества заказов на пользователя. Выберите границу для определения аномальных пользователей."
   ]
  },
  {
   "cell_type": "code",
   "execution_count": 22,
   "metadata": {},
   "outputs": [
    {
     "data": {
      "text/plain": [
       "array([1., 2., 4.])"
      ]
     },
     "execution_count": 22,
     "metadata": {},
     "output_type": "execute_result"
    }
   ],
   "source": [
    "np.percentile(ordersByUsers['orders'], [90, 95, 99])"
   ]
  },
  {
   "cell_type": "markdown",
   "metadata": {},
   "source": [
    "Не более 5% совершили более 2 заказов и не более 1% сделали более 4 заказов. Разумно выбрать 2 заказа на одного пользователя за нижнюю границу числа заказов, и отсеять аномальных пользователей по ней. "
   ]
  },
  {
   "cell_type": "markdown",
   "metadata": {},
   "source": [
    "### Постройте точечный график стоимостей заказов. Сделайте выводы и предположения."
   ]
  },
  {
   "cell_type": "code",
   "execution_count": 23,
   "metadata": {},
   "outputs": [
    {
     "data": {
      "image/png": "[encoded data removed]",
      "text/plain": [
       "<Figure size 432x288 with 1 Axes>"
      ]
     },
     "metadata": {
      "needs_background": "light"
     },
     "output_type": "display_data"
    }
   ],
   "source": [
    "x_values = pd.Series(range(0, len(orders['revenue'])))\n",
    "plt.scatter(x_values, orders['revenue']) \n",
    "plt.ylabel('revenue')\n",
    "plt.xlabel('Count')\n",
    "plt.show()"
   ]
  },
  {
   "cell_type": "markdown",
   "metadata": {},
   "source": [
    "Выбросов не очень много. Все заказы в стоимости до 200 000. есть выбросы примерно 250 000 и 1 350 000. Есть подозрения что это аномальные заказы"
   ]
  },
  {
   "cell_type": "markdown",
   "metadata": {},
   "source": [
    "### Посчитайте 95-й и 99-й перцентили стоимости заказов. Выберите границу для определения аномальных заказов."
   ]
  },
  {
   "cell_type": "code",
   "execution_count": 24,
   "metadata": {},
   "outputs": [
    {
     "name": "stdout",
     "output_type": "stream",
     "text": [
      "[18168.  28000.  58233.2]\n"
     ]
    }
   ],
   "source": [
    "print(np.percentile(orders['revenue'], [90, 95, 99])) "
   ]
  },
  {
   "cell_type": "markdown",
   "metadata": {},
   "source": [
    "не более чем у 5% заказы дороже 28000 и у 1% заказы дороже 58233.2"
   ]
  },
  {
   "cell_type": "markdown",
   "metadata": {},
   "source": [
    "### Посчитайте статистическую значимость различий в конверсии между группами по «сырым» данным. Сделайте выводы и предположения."
   ]
  },
  {
   "cell_type": "code",
   "execution_count": 25,
   "metadata": {},
   "outputs": [
    {
     "name": "stdout",
     "output_type": "stream",
     "text": [
      "0.00840\n",
      "0.167\n"
     ]
    }
   ],
   "source": [
    "visitorsADaily = visitors[visitors['group'] == 'A'][['date', 'visitors']]\n",
    "visitorsADaily.columns = ['date', 'visitorsPerDateA']\n",
    " \n",
    "visitorsACummulative = visitorsADaily.apply(\n",
    "    lambda x: visitorsADaily[visitorsADaily['date'] <= x['date']].agg(\n",
    "        {'date': 'max', 'visitorsPerDateA': 'sum'}\n",
    "    ),\n",
    "    axis=1,\n",
    ")\n",
    "visitorsACummulative.columns = ['date', 'visitorsCummulativeA']\n",
    " \n",
    "visitorsBDaily = visitors[visitors['group'] == 'B'][['date', 'visitors']]\n",
    "visitorsBDaily.columns = ['date', 'visitorsPerDateB']\n",
    " \n",
    "visitorsBCummulative = visitorsBDaily.apply(\n",
    "    lambda x: visitorsBDaily[visitorsBDaily['date'] <= x['date']].agg(\n",
    "        {'date': 'max', 'visitorsPerDateB': 'sum'}\n",
    "    ),\n",
    "    axis=1,\n",
    ")\n",
    "visitorsBCummulative.columns = ['date', 'visitorsCummulativeB']\n",
    " \n",
    "ordersADaily = (\n",
    "    orders[orders['group'] == 'A'][['date', 'transactionId', 'visitorId', 'revenue']]\n",
    "    .groupby('date', as_index=False)\n",
    "    .agg({'visitorId': pd.Series.nunique, 'revenue': 'sum'})\n",
    ")\n",
    "ordersADaily.columns = ['date', 'ordersPerDateA', 'revenuePerDateA']\n",
    " \n",
    "ordersACummulative = ordersADaily.apply(\n",
    "    lambda x: ordersADaily[ordersADaily['date'] <= x['date']].agg(\n",
    "        {'date': 'max', 'ordersPerDateA': 'sum', 'revenuePerDateA': 'sum'}\n",
    "    ),\n",
    "    axis=1,\n",
    ").sort_values(by=['date'])\n",
    "ordersACummulative.columns = [\n",
    "    'date',\n",
    "    'ordersCummulativeA',\n",
    "    'revenueCummulativeA',\n",
    "]\n",
    " \n",
    "ordersBDaily = (\n",
    "    orders[orders['group'] == 'B'][['date', 'transactionId', 'visitorId', 'revenue']]\n",
    "    .groupby('date', as_index=False)\n",
    "    .agg({'transactionId': pd.Series.nunique, 'revenue': 'sum'})\n",
    ")\n",
    "ordersBDaily.columns = ['date', 'ordersPerDateB', 'revenuePerDateB']\n",
    " \n",
    "ordersBCummulative = ordersBDaily.apply(\n",
    "    lambda x: ordersBDaily[ordersBDaily['date'] <= x['date']].agg(\n",
    "        {'date': 'max', 'ordersPerDateB': 'sum', 'revenuePerDateB': 'sum'}\n",
    "    ),\n",
    "    axis=1,\n",
    ").sort_values(by=['date'])\n",
    "ordersBCummulative.columns = [\n",
    "    'date',\n",
    "    'ordersCummulativeB',\n",
    "    'revenueCummulativeB',\n",
    "]\n",
    " \n",
    "data = (\n",
    "    ordersADaily.merge(\n",
    "        ordersBDaily, left_on='date', right_on='date', how='left'\n",
    "    )\n",
    "    .merge(ordersACummulative, left_on='date', right_on='date', how='left')\n",
    "    .merge(ordersBCummulative, left_on='date', right_on='date', how='left')\n",
    "    .merge(visitorsADaily, left_on='date', right_on='date', how='left')\n",
    "    .merge(visitorsBDaily, left_on='date', right_on='date', how='left')\n",
    "    .merge(visitorsACummulative, left_on='date', right_on='date', how='left')\n",
    "    .merge(visitorsBCummulative, left_on='date', right_on='date', how='left')\n",
    ")\n",
    "ordersByUsersA = (\n",
    "    orders[orders['group'] == 'A']\n",
    "    .groupby('visitorId', as_index=False)\n",
    "    .agg({'transactionId': pd.Series.nunique})\n",
    ")\n",
    "ordersByUsersA.columns = ['visitorId', 'orders']\n",
    " \n",
    "ordersByUsersB = (\n",
    "    orders[orders['group'] == 'B']\n",
    "    .groupby('visitorId', as_index=False)\n",
    "    .agg({'transactionId': pd.Series.nunique})\n",
    ")\n",
    "ordersByUsersB.columns = ['visitorId', 'orders']\n",
    " \n",
    "sampleA = pd.concat(\n",
    "    [\n",
    "        ordersByUsersA['orders'],\n",
    "        pd.Series(\n",
    "            0,\n",
    "            index=np.arange(\n",
    "                data['visitorsPerDateA'].sum() - len(ordersByUsersA['orders'])\n",
    "            ),\n",
    "            name='orders',\n",
    "        ),\n",
    "    ],\n",
    "    axis=0,\n",
    ")\n",
    "sampleB = pd.concat(\n",
    "    [\n",
    "        ordersByUsersB['orders'],\n",
    "        pd.Series(\n",
    "            0,\n",
    "            index=np.arange(\n",
    "                data['visitorsPerDateB'].sum() - len(ordersByUsersB['orders'])\n",
    "            ),\n",
    "            name='orders',\n",
    "        ),\n",
    "    ],\n",
    "    axis=0,\n",
    ")\n",
    " \n",
    "print(\"{0:.5f}\".format(stats.mannwhitneyu(sampleA, sampleB)[1], alternative='two-sided'))\n",
    "print(\n",
    "    \"{0:.3f}\".format(\n",
    "        (data['ordersPerDateB'].sum() / data['visitorsPerDateB'].sum())\n",
    "        / (data['ordersPerDateA'].sum() / data['visitorsPerDateA'].sum())\n",
    "        - 1\n",
    "    )\n",
    ")"
   ]
  },
  {
   "cell_type": "markdown",
   "metadata": {},
   "source": [
    "Р-value значительно меньше 0.05, потому нулевую гипотезу отвергаем. \n",
    "Относительный прирост конверсии группы B к конверсии группы A равен 16.7%."
   ]
  },
  {
   "cell_type": "markdown",
   "metadata": {},
   "source": [
    "### Посчитайте статистическую значимость различий в среднем чеке заказа между группами по «сырым» данным. Сделайте выводы и предположения"
   ]
  },
  {
   "cell_type": "code",
   "execution_count": 26,
   "metadata": {},
   "outputs": [
    {
     "name": "stdout",
     "output_type": "stream",
     "text": [
      "0.365\n",
      "0.259\n"
     ]
    }
   ],
   "source": [
    "print('{0:.3f}'.format(stats.mannwhitneyu(orders[orders['group']=='A']['revenue'], orders[orders['group']=='B']['revenue'])[1]))\n",
    "print('{0:.3f}'.format(orders[orders['group']=='B']['revenue'].mean()/orders[orders['group']=='A']['revenue'].mean()-1))"
   ]
  },
  {
   "cell_type": "markdown",
   "metadata": {},
   "source": [
    "Р-value больше 0.05, отличий между группами в среднем чеке нет. \n",
    "а относитеьное различие между сегментами 25,9%"
   ]
  },
  {
   "cell_type": "markdown",
   "metadata": {},
   "source": [
    "### Посчитайте статистическую значимость различий в конверсии между группами по «очищенным» данным. Сделайте выводы и предположения."
   ]
  },
  {
   "cell_type": "code",
   "execution_count": 27,
   "metadata": {},
   "outputs": [
    {
     "data": {
      "text/plain": [
       "1099     148427295\n",
       "18       199603092\n",
       "928      204675465\n",
       "23       237748145\n",
       "37       249864742\n",
       "           ...    \n",
       "743     4133034833\n",
       "562     4134830387\n",
       "571     4186807279\n",
       "499     4256040402\n",
       "662     4266935830\n",
       "Name: visitorId, Length: 99, dtype: int64"
      ]
     },
     "execution_count": 27,
     "metadata": {},
     "output_type": "execute_result"
    }
   ],
   "source": [
    "usersWithManyOrders = pd.concat(\n",
    "    [\n",
    "        ordersByUsersA[ordersByUsersA['orders'] >= 2]['visitorId'],\n",
    "        ordersByUsersB[ordersByUsersB['orders'] >= 2]['visitorId'],\n",
    "    ],\n",
    "    axis=0,\n",
    ")\n",
    "usersWithExpensiveOrders = orders[orders['revenue'] > 32000]['visitorId']\n",
    "abnormalUsers = (\n",
    "    pd.concat([usersWithManyOrders, usersWithExpensiveOrders], axis=0)\n",
    "    .drop_duplicates()\n",
    "    .sort_values()\n",
    ")\n",
    "abnormalUsers"
   ]
  },
  {
   "cell_type": "markdown",
   "metadata": {},
   "source": [
    "Мы выделили аномаьных пользователей. Теперь нам необходимо их убрать и посчитать статистическую значимость"
   ]
  },
  {
   "cell_type": "code",
   "execution_count": 28,
   "metadata": {},
   "outputs": [
    {
     "name": "stdout",
     "output_type": "stream",
     "text": [
      "0.00629\n",
      "0.172\n"
     ]
    }
   ],
   "source": [
    "sampleAFiltered = pd.concat(\n",
    "    [\n",
    "        ordersByUsersA[\n",
    "            np.logical_not(ordersByUsersA['visitorId'].isin(abnormalUsers))\n",
    "        ]['orders'],\n",
    "        pd.Series(\n",
    "            0,\n",
    "            index=np.arange(\n",
    "                data['visitorsPerDateA'].sum() - len(ordersByUsersA['orders'])\n",
    "            ),\n",
    "            name='orders',\n",
    "        ),\n",
    "    ],\n",
    "    axis=0,\n",
    ")\n",
    "\n",
    "sampleBFiltered = pd.concat(\n",
    "    [\n",
    "        ordersByUsersB[\n",
    "            np.logical_not(ordersByUsersB['visitorId'].isin(abnormalUsers))\n",
    "        ]['orders'],\n",
    "        pd.Series(\n",
    "            0,\n",
    "            index=np.arange(\n",
    "                data['visitorsPerDateB'].sum() - len(ordersByUsersB['orders'])\n",
    "            ),\n",
    "            name='orders',\n",
    "        ),\n",
    "    ],\n",
    "    axis=0,\n",
    ") \n",
    "print('{0:.5f}'.format(stats.mannwhitneyu(sampleAFiltered, sampleBFiltered)[1],alternative='two-sided'))\n",
    "print('{0:.3f}'.format(sampleBFiltered.mean()/sampleAFiltered.mean()-1)) "
   ]
  },
  {
   "cell_type": "markdown",
   "metadata": {},
   "source": [
    "после очистки данных видим что наши аномальные польователи не повлияли на статическую значимость. Группа В лучше А"
   ]
  },
  {
   "cell_type": "markdown",
   "metadata": {},
   "source": [
    "### Посчитайте статистическую значимость различий в среднем чеке заказа между группами по «очищенным» данным. Сделайте выводы и предположения."
   ]
  },
  {
   "cell_type": "code",
   "execution_count": 29,
   "metadata": {},
   "outputs": [
    {
     "name": "stdout",
     "output_type": "stream",
     "text": [
      "p-value 0.974\n",
      "разница в конверсии 2.588%\n"
     ]
    }
   ],
   "source": [
    "\n",
    "print('p-value','{0:.3f}'.format(\n",
    "        stats.mannwhitneyu(\n",
    "            orders[\n",
    "                np.logical_and(\n",
    "                    orders['group'] == 'A',\n",
    "                    np.logical_not(orders['visitorId'].isin(abnormalUsers)),\n",
    "                )\n",
    "            ]['revenue'],\n",
    "            orders[\n",
    "                np.logical_and(\n",
    "                    orders['group'] == 'B',\n",
    "                    np.logical_not(orders['visitorId'].isin(abnormalUsers)),\n",
    "                )\n",
    "            ]['revenue'], alternative='two-sided'\n",
    "        )[1]\n",
    "    )\n",
    ")\n",
    "\n",
    "print('разница в конверсии',\n",
    "    \"{0:.3%}\".format(\n",
    "        orders[\n",
    "            np.logical_and(\n",
    "                orders['group'] == 'B',\n",
    "                np.logical_not(orders['visitorId'].isin(abnormalUsers)),\n",
    "            )\n",
    "        ]['revenue'].mean()\n",
    "        / orders[\n",
    "            np.logical_and(\n",
    "                orders['group'] == 'A',\n",
    "                np.logical_not(orders['visitorId'].isin(abnormalUsers)),\n",
    "            )\n",
    "        ]['revenue'].mean()\n",
    "        - 1\n",
    "    )\n",
    ") "
   ]
  },
  {
   "cell_type": "markdown",
   "metadata": {},
   "source": [
    "После удаления данных мы заметили что дисперсия увеличилась. \n",
    "а различие в выручк стало 2,6%\n"
   ]
  },
  {
   "cell_type": "code",
   "execution_count": 30,
   "metadata": {},
   "outputs": [
    {
     "name": "stdout",
     "output_type": "stream",
     "text": [
      "P-value: 0.4869216516023853\n",
      "По очищенным данным РАЗЛИЧИЙ в средних чеках в группах A и B НЕТ!\n"
     ]
    }
   ],
   "source": [
    "alpha=0.05\n",
    "results = stats.mannwhitneyu(orders[np.logical_and(orders['group']=='A', np.logical_not(orders['visitorId'].isin(abnormalUsers)))]['revenue'],\n",
    "                             orders[np.logical_and(orders['group']=='B', np.logical_not(orders['visitorId'].isin(abnormalUsers)))]['revenue'])\n",
    "print('P-value: {}'.format(results.pvalue))\n",
    "if results.pvalue < alpha:\n",
    "    print('По очищенным данным РАЗНИЦА в средних чеках в группах A и B СТАТИСТИЧЕСКИ ЗНАЧИМА!')\n",
    "else:\n",
    "    print('По очищенным данным РАЗЛИЧИЙ в средних чеках в группах A и B НЕТ!')"
   ]
  },
  {
   "cell_type": "markdown",
   "metadata": {},
   "source": [
    "### Примите решение по результатам теста и объясните его. Варианты решений: 1. Остановить тест, зафиксировать победу одной из групп. 2. Остановить тест, зафиксировать отсутствие различий между группами. 3. Продолжить тест"
   ]
  },
  {
   "cell_type": "markdown",
   "metadata": {},
   "source": [
    "<br>P-value по «очищенным» так же значительно больше 0.05. Значит, что в среднем чеке нет различий. При этом относительный прирост групп отсутствует.\n",
    "<br>Остановить тест, зафиксировать отсутствие различий между группами."
   ]
  },
  {
   "cell_type": "code",
   "execution_count": null,
   "metadata": {},
   "outputs": [],
   "source": []
  }
 ],
 "metadata": {
  "ExecuteTimeLog": [
   {
    "duration": 1881,
    "start_time": "2021-10-27T10:36:24.176Z"
   },
   {
    "duration": 37,
    "start_time": "2021-10-27T10:38:17.646Z"
   },
   {
    "duration": 510,
    "start_time": "2021-10-27T10:51:03.938Z"
   },
   {
    "duration": 12,
    "start_time": "2021-10-27T10:51:10.715Z"
   },
   {
    "duration": 12,
    "start_time": "2021-10-27T10:52:49.751Z"
   },
   {
    "duration": 15,
    "start_time": "2021-10-27T10:54:43.191Z"
   },
   {
    "duration": 14,
    "start_time": "2021-10-27T10:54:49.472Z"
   },
   {
    "duration": 24,
    "start_time": "2021-10-27T10:56:00.832Z"
   },
   {
    "duration": 21,
    "start_time": "2021-10-27T10:56:25.781Z"
   },
   {
    "duration": 18,
    "start_time": "2021-10-27T10:56:40.711Z"
   },
   {
    "duration": 20,
    "start_time": "2021-10-27T10:57:09.742Z"
   },
   {
    "duration": 20,
    "start_time": "2021-10-27T10:57:26.543Z"
   },
   {
    "duration": 58,
    "start_time": "2021-10-27T11:07:20.322Z"
   },
   {
    "duration": 47,
    "start_time": "2021-10-27T11:07:40.980Z"
   },
   {
    "duration": 22,
    "start_time": "2021-10-27T11:07:50.315Z"
   },
   {
    "duration": 9,
    "start_time": "2021-10-27T11:09:11.754Z"
   },
   {
    "duration": 23,
    "start_time": "2021-10-27T11:10:09.169Z"
   },
   {
    "duration": 11,
    "start_time": "2021-10-27T11:10:19.097Z"
   },
   {
    "duration": 12,
    "start_time": "2021-10-27T11:10:28.160Z"
   },
   {
    "duration": 90,
    "start_time": "2021-10-27T11:13:43.231Z"
   },
   {
    "duration": 97,
    "start_time": "2021-10-27T11:13:51.862Z"
   },
   {
    "duration": 1362,
    "start_time": "2021-10-27T11:13:55.534Z"
   },
   {
    "duration": 1489,
    "start_time": "2021-10-27T11:14:08.990Z"
   },
   {
    "duration": 8,
    "start_time": "2021-10-27T11:14:18.990Z"
   },
   {
    "duration": 11,
    "start_time": "2021-10-27T11:14:21.038Z"
   },
   {
    "duration": 11,
    "start_time": "2021-10-27T11:14:23.254Z"
   },
   {
    "duration": 8,
    "start_time": "2021-10-27T11:14:39.493Z"
   },
   {
    "duration": 8,
    "start_time": "2021-10-27T11:15:06.973Z"
   },
   {
    "duration": 8,
    "start_time": "2021-10-27T11:15:17.597Z"
   },
   {
    "duration": 7658,
    "start_time": "2021-10-27T11:16:18.964Z"
   },
   {
    "duration": 578,
    "start_time": "2021-10-27T11:17:50.939Z"
   },
   {
    "duration": 600,
    "start_time": "2021-10-27T11:18:36.802Z"
   },
   {
    "duration": 574,
    "start_time": "2021-10-27T11:18:42.002Z"
   },
   {
    "duration": 317,
    "start_time": "2021-10-27T11:19:21.257Z"
   },
   {
    "duration": 298,
    "start_time": "2021-10-27T11:19:29.168Z"
   },
   {
    "duration": 648,
    "start_time": "2021-10-27T11:19:38.296Z"
   },
   {
    "duration": 312,
    "start_time": "2021-10-27T11:19:42.745Z"
   },
   {
    "duration": 317,
    "start_time": "2021-10-27T11:22:01.303Z"
   },
   {
    "duration": 384,
    "start_time": "2021-10-27T11:26:46.104Z"
   },
   {
    "duration": 344,
    "start_time": "2021-10-27T11:26:55.529Z"
   },
   {
    "duration": 412,
    "start_time": "2021-10-27T11:29:04.013Z"
   },
   {
    "duration": 610,
    "start_time": "2021-10-27T11:29:13.880Z"
   },
   {
    "duration": 427,
    "start_time": "2021-10-27T11:29:21.608Z"
   },
   {
    "duration": 345,
    "start_time": "2021-10-27T11:31:55.590Z"
   },
   {
    "duration": 9,
    "start_time": "2021-10-27T11:32:18.293Z"
   },
   {
    "duration": 271,
    "start_time": "2021-10-27T11:32:20.092Z"
   },
   {
    "duration": 289,
    "start_time": "2021-10-27T11:32:28.613Z"
   },
   {
    "duration": 27,
    "start_time": "2021-10-27T11:32:51.244Z"
   },
   {
    "duration": 23,
    "start_time": "2021-10-27T11:33:04.387Z"
   },
   {
    "duration": 24,
    "start_time": "2021-10-27T11:33:09.317Z"
   },
   {
    "duration": 8,
    "start_time": "2021-10-27T11:33:13.875Z"
   },
   {
    "duration": 260,
    "start_time": "2021-10-27T11:33:20.180Z"
   },
   {
    "duration": 91,
    "start_time": "2021-10-27T11:33:35.580Z"
   },
   {
    "duration": 328,
    "start_time": "2021-10-27T11:33:39.683Z"
   },
   {
    "duration": 283,
    "start_time": "2021-10-27T11:35:21.257Z"
   },
   {
    "duration": 103,
    "start_time": "2021-10-27T11:36:30.137Z"
   },
   {
    "duration": 435,
    "start_time": "2021-10-27T11:42:16.195Z"
   },
   {
    "duration": 420,
    "start_time": "2021-10-27T11:42:45.013Z"
   },
   {
    "duration": 406,
    "start_time": "2021-10-27T11:43:24.067Z"
   },
   {
    "duration": 357,
    "start_time": "2021-10-27T11:48:02.354Z"
   },
   {
    "duration": 538,
    "start_time": "2021-10-27T11:48:17.347Z"
   },
   {
    "duration": 525,
    "start_time": "2021-10-27T11:48:47.964Z"
   },
   {
    "duration": 467,
    "start_time": "2021-10-27T11:49:05.269Z"
   },
   {
    "duration": 781,
    "start_time": "2021-10-27T11:49:12.684Z"
   },
   {
    "duration": 669,
    "start_time": "2021-10-27T11:49:28.853Z"
   },
   {
    "duration": 671,
    "start_time": "2021-10-27T11:49:36.398Z"
   },
   {
    "duration": 472,
    "start_time": "2021-10-27T11:49:44.060Z"
   },
   {
    "duration": 605,
    "start_time": "2021-10-27T11:50:23.412Z"
   },
   {
    "duration": 84,
    "start_time": "2021-10-27T11:52:19.298Z"
   },
   {
    "duration": 8,
    "start_time": "2021-10-27T11:52:22.785Z"
   },
   {
    "duration": 6803,
    "start_time": "2021-10-27T11:56:54.513Z"
   },
   {
    "duration": 405,
    "start_time": "2021-10-27T11:57:40.892Z"
   },
   {
    "duration": 6,
    "start_time": "2021-10-27T12:00:04.974Z"
   },
   {
    "duration": 466,
    "start_time": "2021-10-27T12:05:27.803Z"
   },
   {
    "duration": 503,
    "start_time": "2021-10-27T12:06:00.067Z"
   },
   {
    "duration": 658,
    "start_time": "2021-10-27T12:06:34.433Z"
   },
   {
    "duration": 652,
    "start_time": "2021-10-27T12:07:00.941Z"
   },
   {
    "duration": 15,
    "start_time": "2021-10-27T13:09:49.242Z"
   },
   {
    "duration": 7325,
    "start_time": "2021-10-27T13:18:14.615Z"
   },
   {
    "duration": 381,
    "start_time": "2021-10-27T13:18:30.295Z"
   },
   {
    "duration": 14,
    "start_time": "2021-10-27T13:18:58.177Z"
   },
   {
    "duration": 14,
    "start_time": "2021-10-27T13:19:47.705Z"
   },
   {
    "duration": 16,
    "start_time": "2021-10-27T13:21:53.639Z"
   },
   {
    "duration": 17,
    "start_time": "2021-10-27T13:22:01.502Z"
   },
   {
    "duration": 18,
    "start_time": "2021-10-27T13:23:56.856Z"
   },
   {
    "duration": 92,
    "start_time": "2021-10-27T13:25:15.387Z"
   },
   {
    "duration": 7186,
    "start_time": "2021-10-27T13:26:10.292Z"
   },
   {
    "duration": 22,
    "start_time": "2021-10-27T13:26:22.047Z"
   },
   {
    "duration": 18580,
    "start_time": "2021-10-28T06:27:29.161Z"
   },
   {
    "duration": 28,
    "start_time": "2021-10-28T06:27:47.743Z"
   },
   {
    "duration": 13,
    "start_time": "2021-10-28T06:27:47.776Z"
   },
   {
    "duration": 13,
    "start_time": "2021-10-28T06:27:47.791Z"
   },
   {
    "duration": 15,
    "start_time": "2021-10-28T06:27:47.806Z"
   },
   {
    "duration": 45,
    "start_time": "2021-10-28T06:27:47.823Z"
   },
   {
    "duration": 22,
    "start_time": "2021-10-28T06:27:47.872Z"
   },
   {
    "duration": 11,
    "start_time": "2021-10-28T06:27:47.897Z"
   },
   {
    "duration": 15,
    "start_time": "2021-10-28T06:27:47.911Z"
   },
   {
    "duration": 10,
    "start_time": "2021-10-28T06:27:47.928Z"
   },
   {
    "duration": 24,
    "start_time": "2021-10-28T06:27:47.939Z"
   },
   {
    "duration": 369,
    "start_time": "2021-10-28T06:27:47.966Z"
   },
   {
    "duration": 220,
    "start_time": "2021-10-28T06:27:48.337Z"
   },
   {
    "duration": 206,
    "start_time": "2021-10-28T06:27:48.563Z"
   },
   {
    "duration": 304,
    "start_time": "2021-10-28T06:27:48.771Z"
   },
   {
    "duration": 7,
    "start_time": "2021-10-28T06:27:49.077Z"
   },
   {
    "duration": 232,
    "start_time": "2021-10-28T06:27:49.086Z"
   },
   {
    "duration": 341,
    "start_time": "2021-10-28T06:27:49.320Z"
   },
   {
    "duration": 403,
    "start_time": "2021-10-28T06:27:49.663Z"
   },
   {
    "duration": 6,
    "start_time": "2021-10-28T06:27:50.068Z"
   },
   {
    "duration": 400,
    "start_time": "2021-10-28T06:27:50.076Z"
   },
   {
    "duration": 4,
    "start_time": "2021-10-28T06:27:50.479Z"
   },
   {
    "duration": 599,
    "start_time": "2021-10-28T06:27:50.485Z"
   },
   {
    "duration": 10,
    "start_time": "2021-10-28T06:27:51.086Z"
   },
   {
    "duration": 13,
    "start_time": "2021-10-28T06:27:51.097Z"
   },
   {
    "duration": 16,
    "start_time": "2021-10-28T06:27:51.112Z"
   },
   {
    "duration": 40,
    "start_time": "2021-10-28T06:27:51.130Z"
   },
   {
    "duration": 429,
    "start_time": "2021-10-28T07:02:23.978Z"
   },
   {
    "duration": 1523,
    "start_time": "2021-10-28T07:02:47.165Z"
   },
   {
    "duration": 25,
    "start_time": "2021-10-28T07:02:52.403Z"
   },
   {
    "duration": 15,
    "start_time": "2021-10-28T07:02:56.344Z"
   },
   {
    "duration": 11,
    "start_time": "2021-10-28T07:03:03.350Z"
   },
   {
    "duration": 13,
    "start_time": "2021-10-28T07:03:06.028Z"
   },
   {
    "duration": 73,
    "start_time": "2021-10-28T07:03:09.051Z"
   },
   {
    "duration": 18,
    "start_time": "2021-10-28T07:03:11.480Z"
   },
   {
    "duration": 7,
    "start_time": "2021-10-28T07:03:13.189Z"
   },
   {
    "duration": 7,
    "start_time": "2021-10-28T07:03:15.202Z"
   },
   {
    "duration": 11,
    "start_time": "2021-10-28T07:03:17.416Z"
   },
   {
    "duration": 18,
    "start_time": "2021-10-28T07:03:18.898Z"
   },
   {
    "duration": 20,
    "start_time": "2021-10-28T07:03:39.671Z"
   },
   {
    "duration": 15,
    "start_time": "2021-10-28T07:04:44.269Z"
   },
   {
    "duration": 25,
    "start_time": "2021-10-28T07:04:49.126Z"
   },
   {
    "duration": 17,
    "start_time": "2021-10-28T07:05:19.739Z"
   },
   {
    "duration": 22,
    "start_time": "2021-10-28T07:05:42.663Z"
   },
   {
    "duration": 31,
    "start_time": "2021-10-28T07:06:21.109Z"
   },
   {
    "duration": 17,
    "start_time": "2021-10-28T07:06:28.429Z"
   },
   {
    "duration": 20,
    "start_time": "2021-10-28T07:06:33.078Z"
   },
   {
    "duration": 23,
    "start_time": "2021-10-28T07:08:37.944Z"
   },
   {
    "duration": 22,
    "start_time": "2021-10-28T07:09:07.760Z"
   },
   {
    "duration": 20,
    "start_time": "2021-10-28T07:09:12.303Z"
   },
   {
    "duration": 18,
    "start_time": "2021-10-28T07:09:23.986Z"
   },
   {
    "duration": 16,
    "start_time": "2021-10-28T07:09:34.964Z"
   },
   {
    "duration": 19,
    "start_time": "2021-10-28T07:09:38.193Z"
   },
   {
    "duration": 106,
    "start_time": "2021-10-28T07:09:46.324Z"
   },
   {
    "duration": 21,
    "start_time": "2021-10-28T07:09:49.350Z"
   },
   {
    "duration": 1562,
    "start_time": "2021-10-28T07:10:07.326Z"
   },
   {
    "duration": 24,
    "start_time": "2021-10-28T07:10:08.890Z"
   },
   {
    "duration": 12,
    "start_time": "2021-10-28T07:10:08.917Z"
   },
   {
    "duration": 10,
    "start_time": "2021-10-28T07:10:08.931Z"
   },
   {
    "duration": 17,
    "start_time": "2021-10-28T07:10:08.943Z"
   },
   {
    "duration": 59,
    "start_time": "2021-10-28T07:10:08.962Z"
   },
   {
    "duration": 18,
    "start_time": "2021-10-28T07:10:09.023Z"
   },
   {
    "duration": 12,
    "start_time": "2021-10-28T07:10:09.042Z"
   },
   {
    "duration": 13,
    "start_time": "2021-10-28T07:10:09.057Z"
   },
   {
    "duration": 8,
    "start_time": "2021-10-28T07:10:09.072Z"
   },
   {
    "duration": 20,
    "start_time": "2021-10-28T07:10:09.082Z"
   },
   {
    "duration": 20,
    "start_time": "2021-10-28T07:10:09.104Z"
   },
   {
    "duration": 7,
    "start_time": "2021-10-28T07:10:09.125Z"
   },
   {
    "duration": 378,
    "start_time": "2021-10-28T07:10:09.134Z"
   },
   {
    "duration": 218,
    "start_time": "2021-10-28T07:10:09.513Z"
   },
   {
    "duration": 202,
    "start_time": "2021-10-28T07:10:09.733Z"
   },
   {
    "duration": 312,
    "start_time": "2021-10-28T07:10:09.936Z"
   },
   {
    "duration": 5,
    "start_time": "2021-10-28T07:10:10.250Z"
   },
   {
    "duration": 203,
    "start_time": "2021-10-28T07:10:10.257Z"
   },
   {
    "duration": 324,
    "start_time": "2021-10-28T07:10:10.462Z"
   },
   {
    "duration": 379,
    "start_time": "2021-10-28T07:10:10.787Z"
   },
   {
    "duration": 5,
    "start_time": "2021-10-28T07:10:11.176Z"
   },
   {
    "duration": 387,
    "start_time": "2021-10-28T07:10:11.182Z"
   },
   {
    "duration": 9,
    "start_time": "2021-10-28T07:10:11.570Z"
   },
   {
    "duration": 381,
    "start_time": "2021-10-28T07:10:11.581Z"
   },
   {
    "duration": 18,
    "start_time": "2021-10-28T07:10:11.963Z"
   },
   {
    "duration": 11,
    "start_time": "2021-10-28T07:10:11.984Z"
   },
   {
    "duration": 18,
    "start_time": "2021-10-28T07:10:11.996Z"
   },
   {
    "duration": 13,
    "start_time": "2021-10-28T07:10:12.016Z"
   },
   {
    "duration": 197,
    "start_time": "2021-10-28T07:10:22.091Z"
   },
   {
    "duration": 108,
    "start_time": "2021-10-28T07:11:44.915Z"
   },
   {
    "duration": 320,
    "start_time": "2021-10-28T07:11:56.807Z"
   },
   {
    "duration": 181,
    "start_time": "2021-10-28T07:12:31.981Z"
   },
   {
    "duration": 274,
    "start_time": "2021-10-28T07:12:38.858Z"
   },
   {
    "duration": 187,
    "start_time": "2021-10-28T07:12:46.523Z"
   },
   {
    "duration": 317,
    "start_time": "2021-10-28T07:12:58.999Z"
   },
   {
    "duration": 315,
    "start_time": "2021-10-28T07:13:04.606Z"
   },
   {
    "duration": 464,
    "start_time": "2021-10-28T07:14:46.522Z"
   },
   {
    "duration": 321,
    "start_time": "2021-10-28T07:15:29.168Z"
   },
   {
    "duration": 417,
    "start_time": "2021-10-28T07:15:53.462Z"
   },
   {
    "duration": 392,
    "start_time": "2021-10-28T07:21:55.937Z"
   },
   {
    "duration": 13,
    "start_time": "2021-10-28T07:22:10.112Z"
   },
   {
    "duration": 14,
    "start_time": "2021-10-28T07:22:37.567Z"
   },
   {
    "duration": 472,
    "start_time": "2021-10-28T07:25:27.963Z"
   },
   {
    "duration": 366,
    "start_time": "2021-10-28T07:25:54.354Z"
   },
   {
    "duration": 406,
    "start_time": "2021-10-28T07:26:05.940Z"
   },
   {
    "duration": 354,
    "start_time": "2021-10-28T07:26:18.868Z"
   },
   {
    "duration": 354,
    "start_time": "2021-10-28T07:26:42.997Z"
   },
   {
    "duration": 425,
    "start_time": "2021-10-28T07:28:44.527Z"
   },
   {
    "duration": 15,
    "start_time": "2021-10-28T07:31:26.042Z"
   },
   {
    "duration": 356,
    "start_time": "2021-10-28T07:31:32.658Z"
   },
   {
    "duration": 14,
    "start_time": "2021-10-28T07:31:47.000Z"
   },
   {
    "duration": 15,
    "start_time": "2021-10-28T07:32:47.176Z"
   },
   {
    "duration": 583,
    "start_time": "2021-10-28T07:33:52.668Z"
   },
   {
    "duration": 802,
    "start_time": "2021-10-28T07:35:02.519Z"
   },
   {
    "duration": 4480,
    "start_time": "2021-10-28T07:37:23.046Z"
   },
   {
    "duration": 6099,
    "start_time": "2021-10-28T07:38:00.608Z"
   },
   {
    "duration": 5693,
    "start_time": "2021-10-28T07:39:01.392Z"
   },
   {
    "duration": 5,
    "start_time": "2021-10-28T07:39:19.781Z"
   },
   {
    "duration": 5346,
    "start_time": "2021-10-28T07:39:53.031Z"
   },
   {
    "duration": 8,
    "start_time": "2021-10-28T07:40:06.345Z"
   },
   {
    "duration": 6481,
    "start_time": "2021-10-28T07:41:39.786Z"
   },
   {
    "duration": 8,
    "start_time": "2021-10-28T07:41:53.381Z"
   },
   {
    "duration": 5445,
    "start_time": "2021-10-28T07:42:35.899Z"
   },
   {
    "duration": 5474,
    "start_time": "2021-10-28T07:42:51.216Z"
   },
   {
    "duration": 335,
    "start_time": "2021-10-28T07:44:25.957Z"
   },
   {
    "duration": 10,
    "start_time": "2021-10-28T07:44:38.094Z"
   },
   {
    "duration": 4,
    "start_time": "2021-10-28T07:45:27.607Z"
   },
   {
    "duration": 23522,
    "start_time": "2021-10-28T09:47:12.993Z"
   },
   {
    "duration": 26,
    "start_time": "2021-10-28T09:47:36.517Z"
   },
   {
    "duration": 16,
    "start_time": "2021-10-28T09:47:36.548Z"
   },
   {
    "duration": 11,
    "start_time": "2021-10-28T09:47:36.566Z"
   },
   {
    "duration": 16,
    "start_time": "2021-10-28T09:47:36.579Z"
   },
   {
    "duration": 46,
    "start_time": "2021-10-28T09:47:36.597Z"
   },
   {
    "duration": 30,
    "start_time": "2021-10-28T09:47:36.646Z"
   },
   {
    "duration": 6,
    "start_time": "2021-10-28T09:47:36.679Z"
   },
   {
    "duration": 14,
    "start_time": "2021-10-28T09:47:36.687Z"
   },
   {
    "duration": 10,
    "start_time": "2021-10-28T09:47:36.702Z"
   },
   {
    "duration": 20,
    "start_time": "2021-10-28T09:47:36.714Z"
   },
   {
    "duration": 28,
    "start_time": "2021-10-28T09:47:36.736Z"
   },
   {
    "duration": 10,
    "start_time": "2021-10-28T09:47:36.766Z"
   },
   {
    "duration": 395,
    "start_time": "2021-10-28T09:47:36.778Z"
   },
   {
    "duration": 219,
    "start_time": "2021-10-28T09:47:37.175Z"
   },
   {
    "duration": 204,
    "start_time": "2021-10-28T09:47:37.396Z"
   },
   {
    "duration": 312,
    "start_time": "2021-10-28T09:47:37.602Z"
   },
   {
    "duration": 6,
    "start_time": "2021-10-28T09:47:37.916Z"
   },
   {
    "duration": 207,
    "start_time": "2021-10-28T09:47:37.924Z"
   },
   {
    "duration": 332,
    "start_time": "2021-10-28T09:47:38.133Z"
   },
   {
    "duration": 383,
    "start_time": "2021-10-28T09:47:38.467Z"
   },
   {
    "duration": 5,
    "start_time": "2021-10-28T09:47:38.854Z"
   },
   {
    "duration": 385,
    "start_time": "2021-10-28T09:47:38.861Z"
   },
   {
    "duration": 4,
    "start_time": "2021-10-28T09:47:39.248Z"
   },
   {
    "duration": 390,
    "start_time": "2021-10-28T09:47:39.254Z"
   },
   {
    "duration": 11,
    "start_time": "2021-10-28T09:47:39.646Z"
   },
   {
    "duration": 23,
    "start_time": "2021-10-28T09:47:39.659Z"
   },
   {
    "duration": 35,
    "start_time": "2021-10-28T09:47:39.685Z"
   },
   {
    "duration": 26,
    "start_time": "2021-10-28T09:47:39.722Z"
   },
   {
    "duration": 28,
    "start_time": "2021-10-28T09:47:39.751Z"
   }
  ],
  "kernelspec": {
   "display_name": "Python 3",
   "language": "python",
   "name": "python3"
  },
  "language_info": {
   "codemirror_mode": {
    "name": "ipython",
    "version": 3
   },
   "file_extension": ".py",
   "mimetype": "text/x-python",
   "name": "python",
   "nbconvert_exporter": "python",
   "pygments_lexer": "ipython3",
   "version": "3.7.8"
  },
  "toc": {
   "base_numbering": 1,
   "nav_menu": {},
   "number_sections": true,
   "sideBar": true,
   "skip_h1_title": true,
   "title_cell": "Table of Contents",
   "title_sidebar": "Contents",
   "toc_cell": false,
   "toc_position": {},
   "toc_section_display": true,
   "toc_window_display": false
  }
 },
 "nbformat": 4,
 "nbformat_minor": 2
}
